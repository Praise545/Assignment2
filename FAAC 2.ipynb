{
 "cells": [
  {
   "cell_type": "code",
   "execution_count": 1,
   "metadata": {},
   "outputs": [],
   "source": [
    "import pandas as pd \n",
    "import numpy as np\n",
    "import seaborn as sns\n"
   ]
  },
  {
   "cell_type": "code",
   "execution_count": 2,
   "metadata": {},
   "outputs": [],
   "source": [
    "%matplotlib inline\n",
    "import matplotlib as mpl \n",
    "import matplotlib.pyplot as plt\n",
    "from matplotlib import pyplot\n",
    "    "
   ]
  },
  {
   "cell_type": "code",
   "execution_count": 3,
   "metadata": {},
   "outputs": [
    {
     "data": {
      "text/html": [
       "<div>\n",
       "<style scoped>\n",
       "    .dataframe tbody tr th:only-of-type {\n",
       "        vertical-align: middle;\n",
       "    }\n",
       "\n",
       "    .dataframe tbody tr th {\n",
       "        vertical-align: top;\n",
       "    }\n",
       "\n",
       "    .dataframe thead th {\n",
       "        text-align: right;\n",
       "    }\n",
       "</style>\n",
       "<table border=\"1\" class=\"dataframe\">\n",
       "  <thead>\n",
       "    <tr style=\"text-align: right;\">\n",
       "      <th></th>\n",
       "      <th>S/N</th>\n",
       "      <th>STATE</th>\n",
       "      <th>JANUARY/FEBRUARY</th>\n",
       "      <th>MARCH</th>\n",
       "      <th>APRIL</th>\n",
       "      <th>MAY</th>\n",
       "      <th>JUNE</th>\n",
       "      <th>JULY</th>\n",
       "      <th>AUGUST</th>\n",
       "      <th>SEPTEMBER</th>\n",
       "      <th>OCTOBER</th>\n",
       "    </tr>\n",
       "  </thead>\n",
       "  <tbody>\n",
       "    <tr>\n",
       "      <th>0</th>\n",
       "      <td>1</td>\n",
       "      <td>ABIA STATE</td>\n",
       "      <td>2,646,920,171.91</td>\n",
       "      <td>2,363,484,965.50</td>\n",
       "      <td>2,688,879,057.67</td>\n",
       "      <td>2,490,155,557.95</td>\n",
       "      <td>2,250,421,953.64</td>\n",
       "      <td>2,734,858,403.97</td>\n",
       "      <td>2,810,930,838.85</td>\n",
       "      <td>2,773,895,904.92</td>\n",
       "      <td>2,596,618,258.00</td>\n",
       "    </tr>\n",
       "    <tr>\n",
       "      <th>1</th>\n",
       "      <td>2</td>\n",
       "      <td>ADAMAWA STATE</td>\n",
       "      <td>3,299,781,554.96</td>\n",
       "      <td>2,951,196,566.48</td>\n",
       "      <td>3,342,944,259.17</td>\n",
       "      <td>3,107,031,846.25</td>\n",
       "      <td>2,806,790,552.69</td>\n",
       "      <td>3,422,409,363.09</td>\n",
       "      <td>3,521,173,688.96</td>\n",
       "      <td>3,469,056,744.78</td>\n",
       "      <td>3,245,543,005.69</td>\n",
       "    </tr>\n",
       "    <tr>\n",
       "      <th>2</th>\n",
       "      <td>3</td>\n",
       "      <td>AKWA IBOW STATE</td>\n",
       "      <td>4,480,229,192.48</td>\n",
       "      <td>3,975,088,678.98</td>\n",
       "      <td>4,519,596,452.26</td>\n",
       "      <td>4,184,880,668.81</td>\n",
       "      <td>3,771,090,719.11</td>\n",
       "      <td>4,587,373,302.17</td>\n",
       "      <td>4,717,716,604.96</td>\n",
       "      <td>4,642,221,805.22</td>\n",
       "      <td>4,341,768,102.11</td>\n",
       "    </tr>\n",
       "    <tr>\n",
       "      <th>3</th>\n",
       "      <td>4</td>\n",
       "      <td>ANAMBRA STSTE</td>\n",
       "      <td>3,379,305,620.03</td>\n",
       "      <td>3,034,416,217.10</td>\n",
       "      <td>3,445,664,111.72</td>\n",
       "      <td>3,197,689,890.10</td>\n",
       "      <td>2,894,086,980.15</td>\n",
       "      <td>3,506,918,152.00</td>\n",
       "      <td>3,652,901,345.71</td>\n",
       "      <td>3,619,022,329.96</td>\n",
       "      <td>3,405,984,445.33</td>\n",
       "    </tr>\n",
       "    <tr>\n",
       "      <th>4</th>\n",
       "      <td>5</td>\n",
       "      <td>BAUCHI STATE</td>\n",
       "      <td>3,738,855,319.19</td>\n",
       "      <td>3,353,442,557.49</td>\n",
       "      <td>3,804,630,021.21</td>\n",
       "      <td>3,537,197,521.60</td>\n",
       "      <td>3,188,040,146.21</td>\n",
       "      <td>3,878,092,965.14</td>\n",
       "      <td>3,983,143,760.43</td>\n",
       "      <td>3,943,155,665.91</td>\n",
       "      <td>3,704,418,262.37</td>\n",
       "    </tr>\n",
       "  </tbody>\n",
       "</table>\n",
       "</div>"
      ],
      "text/plain": [
       "   S/N            STATE  JANUARY/FEBRUARY             MARCH             APRIL  \\\n",
       "0    1       ABIA STATE  2,646,920,171.91  2,363,484,965.50  2,688,879,057.67   \n",
       "1    2    ADAMAWA STATE  3,299,781,554.96  2,951,196,566.48  3,342,944,259.17   \n",
       "2    3  AKWA IBOW STATE  4,480,229,192.48  3,975,088,678.98  4,519,596,452.26   \n",
       "3    4    ANAMBRA STSTE  3,379,305,620.03  3,034,416,217.10  3,445,664,111.72   \n",
       "4    5     BAUCHI STATE  3,738,855,319.19  3,353,442,557.49  3,804,630,021.21   \n",
       "\n",
       "                MAY              JUNE              JULY            AUGUST  \\\n",
       "0  2,490,155,557.95  2,250,421,953.64  2,734,858,403.97  2,810,930,838.85   \n",
       "1  3,107,031,846.25  2,806,790,552.69  3,422,409,363.09  3,521,173,688.96   \n",
       "2  4,184,880,668.81  3,771,090,719.11  4,587,373,302.17  4,717,716,604.96   \n",
       "3  3,197,689,890.10  2,894,086,980.15  3,506,918,152.00  3,652,901,345.71   \n",
       "4  3,537,197,521.60  3,188,040,146.21  3,878,092,965.14  3,983,143,760.43   \n",
       "\n",
       "          SEPTEMBER           OCTOBER  \n",
       "0  2,773,895,904.92  2,596,618,258.00  \n",
       "1  3,469,056,744.78  3,245,543,005.69  \n",
       "2  4,642,221,805.22  4,341,768,102.11  \n",
       "3  3,619,022,329.96  3,405,984,445.33  \n",
       "4  3,943,155,665.91  3,704,418,262.37  "
      ]
     },
     "execution_count": 3,
     "metadata": {},
     "output_type": "execute_result"
    }
   ],
   "source": [
    "FAAC_2020 = pd.read_csv(\"FAAC_2020.csv\")\n",
    "FAAC_2020.head()"
   ]
  },
  {
   "cell_type": "code",
   "execution_count": 9,
   "metadata": {},
   "outputs": [
    {
     "data": {
      "text/plain": [
       "S/N                  int64\n",
       "STATE               object\n",
       "JANUARY/FEBRUARY    object\n",
       "MARCH               object\n",
       "APRIL               object\n",
       "MAY                 object\n",
       "JUNE                object\n",
       "JULY                object\n",
       "AUGUST              object\n",
       "SEPTEMBER           object\n",
       "OCTOBER             object\n",
       "dtype: object"
      ]
     },
     "execution_count": 9,
     "metadata": {},
     "output_type": "execute_result"
    }
   ],
   "source": [
    "FAAC_2020.dtypes"
   ]
  },
  {
   "cell_type": "code",
   "execution_count": null,
   "metadata": {},
   "outputs": [],
   "source": []
  }
 ],
 "metadata": {
  "kernelspec": {
   "display_name": "Python 3",
   "language": "python",
   "name": "python3"
  },
  "language_info": {
   "codemirror_mode": {
    "name": "ipython",
    "version": 3
   },
   "file_extension": ".py",
   "mimetype": "text/x-python",
   "name": "python",
   "nbconvert_exporter": "python",
   "pygments_lexer": "ipython3",
   "version": "3.8.5"
  }
 },
 "nbformat": 4,
 "nbformat_minor": 4
}
