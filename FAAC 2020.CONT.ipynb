{
 "cells": [
  {
   "cell_type": "code",
   "execution_count": 5,
   "metadata": {},
   "outputs": [
    {
     "name": "stdout",
     "output_type": "stream",
     "text": [
      "Requirement already satisfied: plotly in c:\\users\\bunde\\anaconda3\\lib\\site-packages (4.14.3)\n",
      "Requirement already satisfied: retrying>=1.3.3 in c:\\users\\bunde\\anaconda3\\lib\\site-packages (from plotly) (1.3.3)\n",
      "Requirement already satisfied: six in c:\\users\\bunde\\anaconda3\\lib\\site-packages (from plotly) (1.15.0)\n",
      "Note: you may need to restart the kernel to use updated packages.\n"
     ]
    }
   ],
   "source": [
    "pip install plotly"
   ]
  },
  {
   "cell_type": "code",
   "execution_count": 1,
   "metadata": {},
   "outputs": [],
   "source": [
    "import folium"
   ]
  },
  {
   "cell_type": "code",
   "execution_count": 2,
   "metadata": {},
   "outputs": [],
   "source": [
    "import pandas as pd \n",
    "import numpy as np\n",
    "import seaborn as sns\n"
   ]
  },
  {
   "cell_type": "code",
   "execution_count": 3,
   "metadata": {},
   "outputs": [],
   "source": [
    "%matplotlib notebook \n",
    "import matplotlib as mpl \n",
    "import matplotlib.pyplot as plt\n",
    "from matplotlib import pyplot\n"
   ]
  },
  {
   "cell_type": "code",
   "execution_count": 4,
   "metadata": {},
   "outputs": [
    {
     "data": {
      "text/html": [
       "<div>\n",
       "<style scoped>\n",
       "    .dataframe tbody tr th:only-of-type {\n",
       "        vertical-align: middle;\n",
       "    }\n",
       "\n",
       "    .dataframe tbody tr th {\n",
       "        vertical-align: top;\n",
       "    }\n",
       "\n",
       "    .dataframe thead th {\n",
       "        text-align: right;\n",
       "    }\n",
       "</style>\n",
       "<table border=\"1\" class=\"dataframe\">\n",
       "  <thead>\n",
       "    <tr style=\"text-align: right;\">\n",
       "      <th></th>\n",
       "      <th>STATE</th>\n",
       "      <th>JANUARY</th>\n",
       "      <th>FEBRUARY</th>\n",
       "      <th>MARCH</th>\n",
       "      <th>APRIL</th>\n",
       "      <th>MAY</th>\n",
       "      <th>JUNE</th>\n",
       "      <th>JULY</th>\n",
       "      <th>AUGUST</th>\n",
       "      <th>SEPTEMBER</th>\n",
       "      <th>OCTOBER</th>\n",
       "    </tr>\n",
       "  </thead>\n",
       "  <tbody>\n",
       "    <tr>\n",
       "      <th>0</th>\n",
       "      <td>ABIA STATE</td>\n",
       "      <td>2856640370</td>\n",
       "      <td>2646920172</td>\n",
       "      <td>2363484966</td>\n",
       "      <td>2688879058</td>\n",
       "      <td>2490155558</td>\n",
       "      <td>2250421954</td>\n",
       "      <td>2734858404</td>\n",
       "      <td>2810930839</td>\n",
       "      <td>2773895905</td>\n",
       "      <td>2596618258</td>\n",
       "    </tr>\n",
       "    <tr>\n",
       "      <th>1</th>\n",
       "      <td>ADAMAWA STATE</td>\n",
       "      <td>3558570430</td>\n",
       "      <td>3299781555</td>\n",
       "      <td>2951196566</td>\n",
       "      <td>3342944259</td>\n",
       "      <td>3107031846</td>\n",
       "      <td>2806790553</td>\n",
       "      <td>3422409363</td>\n",
       "      <td>3521173689</td>\n",
       "      <td>3469056745</td>\n",
       "      <td>3245543006</td>\n",
       "    </tr>\n",
       "    <tr>\n",
       "      <th>2</th>\n",
       "      <td>AKWA IBOW STATE</td>\n",
       "      <td>4787699108</td>\n",
       "      <td>4480229192</td>\n",
       "      <td>3975088679</td>\n",
       "      <td>4519596452</td>\n",
       "      <td>4184880669</td>\n",
       "      <td>3771090719</td>\n",
       "      <td>4587373302</td>\n",
       "      <td>4717716605</td>\n",
       "      <td>4642221805</td>\n",
       "      <td>4341768102</td>\n",
       "    </tr>\n",
       "    <tr>\n",
       "      <th>3</th>\n",
       "      <td>ANAMBRA STATE</td>\n",
       "      <td>3664816610</td>\n",
       "      <td>3379305620</td>\n",
       "      <td>3034416217</td>\n",
       "      <td>3445664112</td>\n",
       "      <td>3197689890</td>\n",
       "      <td>2894086980</td>\n",
       "      <td>3506918152</td>\n",
       "      <td>3652901346</td>\n",
       "      <td>3619022330</td>\n",
       "      <td>3405984445</td>\n",
       "    </tr>\n",
       "    <tr>\n",
       "      <th>4</th>\n",
       "      <td>BAUCHI STATE</td>\n",
       "      <td>4039919496</td>\n",
       "      <td>3738855319</td>\n",
       "      <td>3353442557</td>\n",
       "      <td>3804630021</td>\n",
       "      <td>3537197522</td>\n",
       "      <td>3188040146</td>\n",
       "      <td>3878092965</td>\n",
       "      <td>3983143760</td>\n",
       "      <td>3943155666</td>\n",
       "      <td>3704418262</td>\n",
       "    </tr>\n",
       "  </tbody>\n",
       "</table>\n",
       "</div>"
      ],
      "text/plain": [
       "             STATE     JANUARY    FEBRUARY       MARCH       APRIL  \\\n",
       "0       ABIA STATE  2856640370  2646920172  2363484966  2688879058   \n",
       "1    ADAMAWA STATE  3558570430  3299781555  2951196566  3342944259   \n",
       "2  AKWA IBOW STATE  4787699108  4480229192  3975088679  4519596452   \n",
       "3    ANAMBRA STATE  3664816610  3379305620  3034416217  3445664112   \n",
       "4     BAUCHI STATE  4039919496  3738855319  3353442557  3804630021   \n",
       "\n",
       "          MAY        JUNE        JULY      AUGUST   SEPTEMBER     OCTOBER  \n",
       "0  2490155558  2250421954  2734858404  2810930839  2773895905  2596618258  \n",
       "1  3107031846  2806790553  3422409363  3521173689  3469056745  3245543006  \n",
       "2  4184880669  3771090719  4587373302  4717716605  4642221805  4341768102  \n",
       "3  3197689890  2894086980  3506918152  3652901346  3619022330  3405984445  \n",
       "4  3537197522  3188040146  3878092965  3983143760  3943155666  3704418262  "
      ]
     },
     "execution_count": 4,
     "metadata": {},
     "output_type": "execute_result"
    }
   ],
   "source": [
    "FAAC_2020 = pd.read_csv(\"FAAC_2020.csv\")\n",
    "FAAC_2020.head()\n"
   ]
  },
  {
   "cell_type": "code",
   "execution_count": 41,
   "metadata": {},
   "outputs": [
    {
     "data": {
      "application/javascript": [
       "/* Put everything inside the global mpl namespace */\n",
       "/* global mpl */\n",
       "window.mpl = {};\n",
       "\n",
       "mpl.get_websocket_type = function () {\n",
       "    if (typeof WebSocket !== 'undefined') {\n",
       "        return WebSocket;\n",
       "    } else if (typeof MozWebSocket !== 'undefined') {\n",
       "        return MozWebSocket;\n",
       "    } else {\n",
       "        alert(\n",
       "            'Your browser does not have WebSocket support. ' +\n",
       "                'Please try Chrome, Safari or Firefox ≥ 6. ' +\n",
       "                'Firefox 4 and 5 are also supported but you ' +\n",
       "                'have to enable WebSockets in about:config.'\n",
       "        );\n",
       "    }\n",
       "};\n",
       "\n",
       "mpl.figure = function (figure_id, websocket, ondownload, parent_element) {\n",
       "    this.id = figure_id;\n",
       "\n",
       "    this.ws = websocket;\n",
       "\n",
       "    this.supports_binary = this.ws.binaryType !== undefined;\n",
       "\n",
       "    if (!this.supports_binary) {\n",
       "        var warnings = document.getElementById('mpl-warnings');\n",
       "        if (warnings) {\n",
       "            warnings.style.display = 'block';\n",
       "            warnings.textContent =\n",
       "                'This browser does not support binary websocket messages. ' +\n",
       "                'Performance may be slow.';\n",
       "        }\n",
       "    }\n",
       "\n",
       "    this.imageObj = new Image();\n",
       "\n",
       "    this.context = undefined;\n",
       "    this.message = undefined;\n",
       "    this.canvas = undefined;\n",
       "    this.rubberband_canvas = undefined;\n",
       "    this.rubberband_context = undefined;\n",
       "    this.format_dropdown = undefined;\n",
       "\n",
       "    this.image_mode = 'full';\n",
       "\n",
       "    this.root = document.createElement('div');\n",
       "    this.root.setAttribute('style', 'display: inline-block');\n",
       "    this._root_extra_style(this.root);\n",
       "\n",
       "    parent_element.appendChild(this.root);\n",
       "\n",
       "    this._init_header(this);\n",
       "    this._init_canvas(this);\n",
       "    this._init_toolbar(this);\n",
       "\n",
       "    var fig = this;\n",
       "\n",
       "    this.waiting = false;\n",
       "\n",
       "    this.ws.onopen = function () {\n",
       "        fig.send_message('supports_binary', { value: fig.supports_binary });\n",
       "        fig.send_message('send_image_mode', {});\n",
       "        if (fig.ratio !== 1) {\n",
       "            fig.send_message('set_dpi_ratio', { dpi_ratio: fig.ratio });\n",
       "        }\n",
       "        fig.send_message('refresh', {});\n",
       "    };\n",
       "\n",
       "    this.imageObj.onload = function () {\n",
       "        if (fig.image_mode === 'full') {\n",
       "            // Full images could contain transparency (where diff images\n",
       "            // almost always do), so we need to clear the canvas so that\n",
       "            // there is no ghosting.\n",
       "            fig.context.clearRect(0, 0, fig.canvas.width, fig.canvas.height);\n",
       "        }\n",
       "        fig.context.drawImage(fig.imageObj, 0, 0);\n",
       "    };\n",
       "\n",
       "    this.imageObj.onunload = function () {\n",
       "        fig.ws.close();\n",
       "    };\n",
       "\n",
       "    this.ws.onmessage = this._make_on_message_function(this);\n",
       "\n",
       "    this.ondownload = ondownload;\n",
       "};\n",
       "\n",
       "mpl.figure.prototype._init_header = function () {\n",
       "    var titlebar = document.createElement('div');\n",
       "    titlebar.classList =\n",
       "        'ui-dialog-titlebar ui-widget-header ui-corner-all ui-helper-clearfix';\n",
       "    var titletext = document.createElement('div');\n",
       "    titletext.classList = 'ui-dialog-title';\n",
       "    titletext.setAttribute(\n",
       "        'style',\n",
       "        'width: 100%; text-align: center; padding: 3px;'\n",
       "    );\n",
       "    titlebar.appendChild(titletext);\n",
       "    this.root.appendChild(titlebar);\n",
       "    this.header = titletext;\n",
       "};\n",
       "\n",
       "mpl.figure.prototype._canvas_extra_style = function (_canvas_div) {};\n",
       "\n",
       "mpl.figure.prototype._root_extra_style = function (_canvas_div) {};\n",
       "\n",
       "mpl.figure.prototype._init_canvas = function () {\n",
       "    var fig = this;\n",
       "\n",
       "    var canvas_div = (this.canvas_div = document.createElement('div'));\n",
       "    canvas_div.setAttribute(\n",
       "        'style',\n",
       "        'border: 1px solid #ddd;' +\n",
       "            'box-sizing: content-box;' +\n",
       "            'clear: both;' +\n",
       "            'min-height: 1px;' +\n",
       "            'min-width: 1px;' +\n",
       "            'outline: 0;' +\n",
       "            'overflow: hidden;' +\n",
       "            'position: relative;' +\n",
       "            'resize: both;'\n",
       "    );\n",
       "\n",
       "    function on_keyboard_event_closure(name) {\n",
       "        return function (event) {\n",
       "            return fig.key_event(event, name);\n",
       "        };\n",
       "    }\n",
       "\n",
       "    canvas_div.addEventListener(\n",
       "        'keydown',\n",
       "        on_keyboard_event_closure('key_press')\n",
       "    );\n",
       "    canvas_div.addEventListener(\n",
       "        'keyup',\n",
       "        on_keyboard_event_closure('key_release')\n",
       "    );\n",
       "\n",
       "    this._canvas_extra_style(canvas_div);\n",
       "    this.root.appendChild(canvas_div);\n",
       "\n",
       "    var canvas = (this.canvas = document.createElement('canvas'));\n",
       "    canvas.classList.add('mpl-canvas');\n",
       "    canvas.setAttribute('style', 'box-sizing: content-box;');\n",
       "\n",
       "    this.context = canvas.getContext('2d');\n",
       "\n",
       "    var backingStore =\n",
       "        this.context.backingStorePixelRatio ||\n",
       "        this.context.webkitBackingStorePixelRatio ||\n",
       "        this.context.mozBackingStorePixelRatio ||\n",
       "        this.context.msBackingStorePixelRatio ||\n",
       "        this.context.oBackingStorePixelRatio ||\n",
       "        this.context.backingStorePixelRatio ||\n",
       "        1;\n",
       "\n",
       "    this.ratio = (window.devicePixelRatio || 1) / backingStore;\n",
       "    if (this.ratio !== 1) {\n",
       "        fig.send_message('set_dpi_ratio', { dpi_ratio: this.ratio });\n",
       "    }\n",
       "\n",
       "    var rubberband_canvas = (this.rubberband_canvas = document.createElement(\n",
       "        'canvas'\n",
       "    ));\n",
       "    rubberband_canvas.setAttribute(\n",
       "        'style',\n",
       "        'box-sizing: content-box; position: absolute; left: 0; top: 0; z-index: 1;'\n",
       "    );\n",
       "\n",
       "    var resizeObserver = new ResizeObserver(function (entries) {\n",
       "        var nentries = entries.length;\n",
       "        for (var i = 0; i < nentries; i++) {\n",
       "            var entry = entries[i];\n",
       "            var width, height;\n",
       "            if (entry.contentBoxSize) {\n",
       "                if (entry.contentBoxSize instanceof Array) {\n",
       "                    // Chrome 84 implements new version of spec.\n",
       "                    width = entry.contentBoxSize[0].inlineSize;\n",
       "                    height = entry.contentBoxSize[0].blockSize;\n",
       "                } else {\n",
       "                    // Firefox implements old version of spec.\n",
       "                    width = entry.contentBoxSize.inlineSize;\n",
       "                    height = entry.contentBoxSize.blockSize;\n",
       "                }\n",
       "            } else {\n",
       "                // Chrome <84 implements even older version of spec.\n",
       "                width = entry.contentRect.width;\n",
       "                height = entry.contentRect.height;\n",
       "            }\n",
       "\n",
       "            // Keep the size of the canvas and rubber band canvas in sync with\n",
       "            // the canvas container.\n",
       "            if (entry.devicePixelContentBoxSize) {\n",
       "                // Chrome 84 implements new version of spec.\n",
       "                canvas.setAttribute(\n",
       "                    'width',\n",
       "                    entry.devicePixelContentBoxSize[0].inlineSize\n",
       "                );\n",
       "                canvas.setAttribute(\n",
       "                    'height',\n",
       "                    entry.devicePixelContentBoxSize[0].blockSize\n",
       "                );\n",
       "            } else {\n",
       "                canvas.setAttribute('width', width * fig.ratio);\n",
       "                canvas.setAttribute('height', height * fig.ratio);\n",
       "            }\n",
       "            canvas.setAttribute(\n",
       "                'style',\n",
       "                'width: ' + width + 'px; height: ' + height + 'px;'\n",
       "            );\n",
       "\n",
       "            rubberband_canvas.setAttribute('width', width);\n",
       "            rubberband_canvas.setAttribute('height', height);\n",
       "\n",
       "            // And update the size in Python. We ignore the initial 0/0 size\n",
       "            // that occurs as the element is placed into the DOM, which should\n",
       "            // otherwise not happen due to the minimum size styling.\n",
       "            if (width != 0 && height != 0) {\n",
       "                fig.request_resize(width, height);\n",
       "            }\n",
       "        }\n",
       "    });\n",
       "    resizeObserver.observe(canvas_div);\n",
       "\n",
       "    function on_mouse_event_closure(name) {\n",
       "        return function (event) {\n",
       "            return fig.mouse_event(event, name);\n",
       "        };\n",
       "    }\n",
       "\n",
       "    rubberband_canvas.addEventListener(\n",
       "        'mousedown',\n",
       "        on_mouse_event_closure('button_press')\n",
       "    );\n",
       "    rubberband_canvas.addEventListener(\n",
       "        'mouseup',\n",
       "        on_mouse_event_closure('button_release')\n",
       "    );\n",
       "    // Throttle sequential mouse events to 1 every 20ms.\n",
       "    rubberband_canvas.addEventListener(\n",
       "        'mousemove',\n",
       "        on_mouse_event_closure('motion_notify')\n",
       "    );\n",
       "\n",
       "    rubberband_canvas.addEventListener(\n",
       "        'mouseenter',\n",
       "        on_mouse_event_closure('figure_enter')\n",
       "    );\n",
       "    rubberband_canvas.addEventListener(\n",
       "        'mouseleave',\n",
       "        on_mouse_event_closure('figure_leave')\n",
       "    );\n",
       "\n",
       "    canvas_div.addEventListener('wheel', function (event) {\n",
       "        if (event.deltaY < 0) {\n",
       "            event.step = 1;\n",
       "        } else {\n",
       "            event.step = -1;\n",
       "        }\n",
       "        on_mouse_event_closure('scroll')(event);\n",
       "    });\n",
       "\n",
       "    canvas_div.appendChild(canvas);\n",
       "    canvas_div.appendChild(rubberband_canvas);\n",
       "\n",
       "    this.rubberband_context = rubberband_canvas.getContext('2d');\n",
       "    this.rubberband_context.strokeStyle = '#000000';\n",
       "\n",
       "    this._resize_canvas = function (width, height, forward) {\n",
       "        if (forward) {\n",
       "            canvas_div.style.width = width + 'px';\n",
       "            canvas_div.style.height = height + 'px';\n",
       "        }\n",
       "    };\n",
       "\n",
       "    // Disable right mouse context menu.\n",
       "    this.rubberband_canvas.addEventListener('contextmenu', function (_e) {\n",
       "        event.preventDefault();\n",
       "        return false;\n",
       "    });\n",
       "\n",
       "    function set_focus() {\n",
       "        canvas.focus();\n",
       "        canvas_div.focus();\n",
       "    }\n",
       "\n",
       "    window.setTimeout(set_focus, 100);\n",
       "};\n",
       "\n",
       "mpl.figure.prototype._init_toolbar = function () {\n",
       "    var fig = this;\n",
       "\n",
       "    var toolbar = document.createElement('div');\n",
       "    toolbar.classList = 'mpl-toolbar';\n",
       "    this.root.appendChild(toolbar);\n",
       "\n",
       "    function on_click_closure(name) {\n",
       "        return function (_event) {\n",
       "            return fig.toolbar_button_onclick(name);\n",
       "        };\n",
       "    }\n",
       "\n",
       "    function on_mouseover_closure(tooltip) {\n",
       "        return function (event) {\n",
       "            if (!event.currentTarget.disabled) {\n",
       "                return fig.toolbar_button_onmouseover(tooltip);\n",
       "            }\n",
       "        };\n",
       "    }\n",
       "\n",
       "    fig.buttons = {};\n",
       "    var buttonGroup = document.createElement('div');\n",
       "    buttonGroup.classList = 'mpl-button-group';\n",
       "    for (var toolbar_ind in mpl.toolbar_items) {\n",
       "        var name = mpl.toolbar_items[toolbar_ind][0];\n",
       "        var tooltip = mpl.toolbar_items[toolbar_ind][1];\n",
       "        var image = mpl.toolbar_items[toolbar_ind][2];\n",
       "        var method_name = mpl.toolbar_items[toolbar_ind][3];\n",
       "\n",
       "        if (!name) {\n",
       "            /* Instead of a spacer, we start a new button group. */\n",
       "            if (buttonGroup.hasChildNodes()) {\n",
       "                toolbar.appendChild(buttonGroup);\n",
       "            }\n",
       "            buttonGroup = document.createElement('div');\n",
       "            buttonGroup.classList = 'mpl-button-group';\n",
       "            continue;\n",
       "        }\n",
       "\n",
       "        var button = (fig.buttons[name] = document.createElement('button'));\n",
       "        button.classList = 'mpl-widget';\n",
       "        button.setAttribute('role', 'button');\n",
       "        button.setAttribute('aria-disabled', 'false');\n",
       "        button.addEventListener('click', on_click_closure(method_name));\n",
       "        button.addEventListener('mouseover', on_mouseover_closure(tooltip));\n",
       "\n",
       "        var icon_img = document.createElement('img');\n",
       "        icon_img.src = '_images/' + image + '.png';\n",
       "        icon_img.srcset = '_images/' + image + '_large.png 2x';\n",
       "        icon_img.alt = tooltip;\n",
       "        button.appendChild(icon_img);\n",
       "\n",
       "        buttonGroup.appendChild(button);\n",
       "    }\n",
       "\n",
       "    if (buttonGroup.hasChildNodes()) {\n",
       "        toolbar.appendChild(buttonGroup);\n",
       "    }\n",
       "\n",
       "    var fmt_picker = document.createElement('select');\n",
       "    fmt_picker.classList = 'mpl-widget';\n",
       "    toolbar.appendChild(fmt_picker);\n",
       "    this.format_dropdown = fmt_picker;\n",
       "\n",
       "    for (var ind in mpl.extensions) {\n",
       "        var fmt = mpl.extensions[ind];\n",
       "        var option = document.createElement('option');\n",
       "        option.selected = fmt === mpl.default_extension;\n",
       "        option.innerHTML = fmt;\n",
       "        fmt_picker.appendChild(option);\n",
       "    }\n",
       "\n",
       "    var status_bar = document.createElement('span');\n",
       "    status_bar.classList = 'mpl-message';\n",
       "    toolbar.appendChild(status_bar);\n",
       "    this.message = status_bar;\n",
       "};\n",
       "\n",
       "mpl.figure.prototype.request_resize = function (x_pixels, y_pixels) {\n",
       "    // Request matplotlib to resize the figure. Matplotlib will then trigger a resize in the client,\n",
       "    // which will in turn request a refresh of the image.\n",
       "    this.send_message('resize', { width: x_pixels, height: y_pixels });\n",
       "};\n",
       "\n",
       "mpl.figure.prototype.send_message = function (type, properties) {\n",
       "    properties['type'] = type;\n",
       "    properties['figure_id'] = this.id;\n",
       "    this.ws.send(JSON.stringify(properties));\n",
       "};\n",
       "\n",
       "mpl.figure.prototype.send_draw_message = function () {\n",
       "    if (!this.waiting) {\n",
       "        this.waiting = true;\n",
       "        this.ws.send(JSON.stringify({ type: 'draw', figure_id: this.id }));\n",
       "    }\n",
       "};\n",
       "\n",
       "mpl.figure.prototype.handle_save = function (fig, _msg) {\n",
       "    var format_dropdown = fig.format_dropdown;\n",
       "    var format = format_dropdown.options[format_dropdown.selectedIndex].value;\n",
       "    fig.ondownload(fig, format);\n",
       "};\n",
       "\n",
       "mpl.figure.prototype.handle_resize = function (fig, msg) {\n",
       "    var size = msg['size'];\n",
       "    if (size[0] !== fig.canvas.width || size[1] !== fig.canvas.height) {\n",
       "        fig._resize_canvas(size[0], size[1], msg['forward']);\n",
       "        fig.send_message('refresh', {});\n",
       "    }\n",
       "};\n",
       "\n",
       "mpl.figure.prototype.handle_rubberband = function (fig, msg) {\n",
       "    var x0 = msg['x0'] / fig.ratio;\n",
       "    var y0 = (fig.canvas.height - msg['y0']) / fig.ratio;\n",
       "    var x1 = msg['x1'] / fig.ratio;\n",
       "    var y1 = (fig.canvas.height - msg['y1']) / fig.ratio;\n",
       "    x0 = Math.floor(x0) + 0.5;\n",
       "    y0 = Math.floor(y0) + 0.5;\n",
       "    x1 = Math.floor(x1) + 0.5;\n",
       "    y1 = Math.floor(y1) + 0.5;\n",
       "    var min_x = Math.min(x0, x1);\n",
       "    var min_y = Math.min(y0, y1);\n",
       "    var width = Math.abs(x1 - x0);\n",
       "    var height = Math.abs(y1 - y0);\n",
       "\n",
       "    fig.rubberband_context.clearRect(\n",
       "        0,\n",
       "        0,\n",
       "        fig.canvas.width / fig.ratio,\n",
       "        fig.canvas.height / fig.ratio\n",
       "    );\n",
       "\n",
       "    fig.rubberband_context.strokeRect(min_x, min_y, width, height);\n",
       "};\n",
       "\n",
       "mpl.figure.prototype.handle_figure_label = function (fig, msg) {\n",
       "    // Updates the figure title.\n",
       "    fig.header.textContent = msg['label'];\n",
       "};\n",
       "\n",
       "mpl.figure.prototype.handle_cursor = function (fig, msg) {\n",
       "    var cursor = msg['cursor'];\n",
       "    switch (cursor) {\n",
       "        case 0:\n",
       "            cursor = 'pointer';\n",
       "            break;\n",
       "        case 1:\n",
       "            cursor = 'default';\n",
       "            break;\n",
       "        case 2:\n",
       "            cursor = 'crosshair';\n",
       "            break;\n",
       "        case 3:\n",
       "            cursor = 'move';\n",
       "            break;\n",
       "    }\n",
       "    fig.rubberband_canvas.style.cursor = cursor;\n",
       "};\n",
       "\n",
       "mpl.figure.prototype.handle_message = function (fig, msg) {\n",
       "    fig.message.textContent = msg['message'];\n",
       "};\n",
       "\n",
       "mpl.figure.prototype.handle_draw = function (fig, _msg) {\n",
       "    // Request the server to send over a new figure.\n",
       "    fig.send_draw_message();\n",
       "};\n",
       "\n",
       "mpl.figure.prototype.handle_image_mode = function (fig, msg) {\n",
       "    fig.image_mode = msg['mode'];\n",
       "};\n",
       "\n",
       "mpl.figure.prototype.handle_history_buttons = function (fig, msg) {\n",
       "    for (var key in msg) {\n",
       "        if (!(key in fig.buttons)) {\n",
       "            continue;\n",
       "        }\n",
       "        fig.buttons[key].disabled = !msg[key];\n",
       "        fig.buttons[key].setAttribute('aria-disabled', !msg[key]);\n",
       "    }\n",
       "};\n",
       "\n",
       "mpl.figure.prototype.handle_navigate_mode = function (fig, msg) {\n",
       "    if (msg['mode'] === 'PAN') {\n",
       "        fig.buttons['Pan'].classList.add('active');\n",
       "        fig.buttons['Zoom'].classList.remove('active');\n",
       "    } else if (msg['mode'] === 'ZOOM') {\n",
       "        fig.buttons['Pan'].classList.remove('active');\n",
       "        fig.buttons['Zoom'].classList.add('active');\n",
       "    } else {\n",
       "        fig.buttons['Pan'].classList.remove('active');\n",
       "        fig.buttons['Zoom'].classList.remove('active');\n",
       "    }\n",
       "};\n",
       "\n",
       "mpl.figure.prototype.updated_canvas_event = function () {\n",
       "    // Called whenever the canvas gets updated.\n",
       "    this.send_message('ack', {});\n",
       "};\n",
       "\n",
       "// A function to construct a web socket function for onmessage handling.\n",
       "// Called in the figure constructor.\n",
       "mpl.figure.prototype._make_on_message_function = function (fig) {\n",
       "    return function socket_on_message(evt) {\n",
       "        if (evt.data instanceof Blob) {\n",
       "            /* FIXME: We get \"Resource interpreted as Image but\n",
       "             * transferred with MIME type text/plain:\" errors on\n",
       "             * Chrome.  But how to set the MIME type?  It doesn't seem\n",
       "             * to be part of the websocket stream */\n",
       "            evt.data.type = 'image/png';\n",
       "\n",
       "            /* Free the memory for the previous frames */\n",
       "            if (fig.imageObj.src) {\n",
       "                (window.URL || window.webkitURL).revokeObjectURL(\n",
       "                    fig.imageObj.src\n",
       "                );\n",
       "            }\n",
       "\n",
       "            fig.imageObj.src = (window.URL || window.webkitURL).createObjectURL(\n",
       "                evt.data\n",
       "            );\n",
       "            fig.updated_canvas_event();\n",
       "            fig.waiting = false;\n",
       "            return;\n",
       "        } else if (\n",
       "            typeof evt.data === 'string' &&\n",
       "            evt.data.slice(0, 21) === 'data:image/png;base64'\n",
       "        ) {\n",
       "            fig.imageObj.src = evt.data;\n",
       "            fig.updated_canvas_event();\n",
       "            fig.waiting = false;\n",
       "            return;\n",
       "        }\n",
       "\n",
       "        var msg = JSON.parse(evt.data);\n",
       "        var msg_type = msg['type'];\n",
       "\n",
       "        // Call the  \"handle_{type}\" callback, which takes\n",
       "        // the figure and JSON message as its only arguments.\n",
       "        try {\n",
       "            var callback = fig['handle_' + msg_type];\n",
       "        } catch (e) {\n",
       "            console.log(\n",
       "                \"No handler for the '\" + msg_type + \"' message type: \",\n",
       "                msg\n",
       "            );\n",
       "            return;\n",
       "        }\n",
       "\n",
       "        if (callback) {\n",
       "            try {\n",
       "                // console.log(\"Handling '\" + msg_type + \"' message: \", msg);\n",
       "                callback(fig, msg);\n",
       "            } catch (e) {\n",
       "                console.log(\n",
       "                    \"Exception inside the 'handler_\" + msg_type + \"' callback:\",\n",
       "                    e,\n",
       "                    e.stack,\n",
       "                    msg\n",
       "                );\n",
       "            }\n",
       "        }\n",
       "    };\n",
       "};\n",
       "\n",
       "// from http://stackoverflow.com/questions/1114465/getting-mouse-location-in-canvas\n",
       "mpl.findpos = function (e) {\n",
       "    //this section is from http://www.quirksmode.org/js/events_properties.html\n",
       "    var targ;\n",
       "    if (!e) {\n",
       "        e = window.event;\n",
       "    }\n",
       "    if (e.target) {\n",
       "        targ = e.target;\n",
       "    } else if (e.srcElement) {\n",
       "        targ = e.srcElement;\n",
       "    }\n",
       "    if (targ.nodeType === 3) {\n",
       "        // defeat Safari bug\n",
       "        targ = targ.parentNode;\n",
       "    }\n",
       "\n",
       "    // pageX,Y are the mouse positions relative to the document\n",
       "    var boundingRect = targ.getBoundingClientRect();\n",
       "    var x = e.pageX - (boundingRect.left + document.body.scrollLeft);\n",
       "    var y = e.pageY - (boundingRect.top + document.body.scrollTop);\n",
       "\n",
       "    return { x: x, y: y };\n",
       "};\n",
       "\n",
       "/*\n",
       " * return a copy of an object with only non-object keys\n",
       " * we need this to avoid circular references\n",
       " * http://stackoverflow.com/a/24161582/3208463\n",
       " */\n",
       "function simpleKeys(original) {\n",
       "    return Object.keys(original).reduce(function (obj, key) {\n",
       "        if (typeof original[key] !== 'object') {\n",
       "            obj[key] = original[key];\n",
       "        }\n",
       "        return obj;\n",
       "    }, {});\n",
       "}\n",
       "\n",
       "mpl.figure.prototype.mouse_event = function (event, name) {\n",
       "    var canvas_pos = mpl.findpos(event);\n",
       "\n",
       "    if (name === 'button_press') {\n",
       "        this.canvas.focus();\n",
       "        this.canvas_div.focus();\n",
       "    }\n",
       "\n",
       "    var x = canvas_pos.x * this.ratio;\n",
       "    var y = canvas_pos.y * this.ratio;\n",
       "\n",
       "    this.send_message(name, {\n",
       "        x: x,\n",
       "        y: y,\n",
       "        button: event.button,\n",
       "        step: event.step,\n",
       "        guiEvent: simpleKeys(event),\n",
       "    });\n",
       "\n",
       "    /* This prevents the web browser from automatically changing to\n",
       "     * the text insertion cursor when the button is pressed.  We want\n",
       "     * to control all of the cursor setting manually through the\n",
       "     * 'cursor' event from matplotlib */\n",
       "    event.preventDefault();\n",
       "    return false;\n",
       "};\n",
       "\n",
       "mpl.figure.prototype._key_event_extra = function (_event, _name) {\n",
       "    // Handle any extra behaviour associated with a key event\n",
       "};\n",
       "\n",
       "mpl.figure.prototype.key_event = function (event, name) {\n",
       "    // Prevent repeat events\n",
       "    if (name === 'key_press') {\n",
       "        if (event.which === this._key) {\n",
       "            return;\n",
       "        } else {\n",
       "            this._key = event.which;\n",
       "        }\n",
       "    }\n",
       "    if (name === 'key_release') {\n",
       "        this._key = null;\n",
       "    }\n",
       "\n",
       "    var value = '';\n",
       "    if (event.ctrlKey && event.which !== 17) {\n",
       "        value += 'ctrl+';\n",
       "    }\n",
       "    if (event.altKey && event.which !== 18) {\n",
       "        value += 'alt+';\n",
       "    }\n",
       "    if (event.shiftKey && event.which !== 16) {\n",
       "        value += 'shift+';\n",
       "    }\n",
       "\n",
       "    value += 'k';\n",
       "    value += event.which.toString();\n",
       "\n",
       "    this._key_event_extra(event, name);\n",
       "\n",
       "    this.send_message(name, { key: value, guiEvent: simpleKeys(event) });\n",
       "    return false;\n",
       "};\n",
       "\n",
       "mpl.figure.prototype.toolbar_button_onclick = function (name) {\n",
       "    if (name === 'download') {\n",
       "        this.handle_save(this, null);\n",
       "    } else {\n",
       "        this.send_message('toolbar_button', { name: name });\n",
       "    }\n",
       "};\n",
       "\n",
       "mpl.figure.prototype.toolbar_button_onmouseover = function (tooltip) {\n",
       "    this.message.textContent = tooltip;\n",
       "};\n",
       "mpl.toolbar_items = [[\"Home\", \"Reset original view\", \"fa fa-home icon-home\", \"home\"], [\"Back\", \"Back to previous view\", \"fa fa-arrow-left icon-arrow-left\", \"back\"], [\"Forward\", \"Forward to next view\", \"fa fa-arrow-right icon-arrow-right\", \"forward\"], [\"\", \"\", \"\", \"\"], [\"Pan\", \"Left button pans, Right button zooms\\nx/y fixes axis, CTRL fixes aspect\", \"fa fa-arrows icon-move\", \"pan\"], [\"Zoom\", \"Zoom to rectangle\\nx/y fixes axis, CTRL fixes aspect\", \"fa fa-square-o icon-check-empty\", \"zoom\"], [\"\", \"\", \"\", \"\"], [\"Download\", \"Download plot\", \"fa fa-floppy-o icon-save\", \"download\"]];\n",
       "\n",
       "mpl.extensions = [\"eps\", \"jpeg\", \"pdf\", \"png\", \"ps\", \"raw\", \"svg\", \"tif\"];\n",
       "\n",
       "mpl.default_extension = \"png\";/* global mpl */\n",
       "\n",
       "var comm_websocket_adapter = function (comm) {\n",
       "    // Create a \"websocket\"-like object which calls the given IPython comm\n",
       "    // object with the appropriate methods. Currently this is a non binary\n",
       "    // socket, so there is still some room for performance tuning.\n",
       "    var ws = {};\n",
       "\n",
       "    ws.close = function () {\n",
       "        comm.close();\n",
       "    };\n",
       "    ws.send = function (m) {\n",
       "        //console.log('sending', m);\n",
       "        comm.send(m);\n",
       "    };\n",
       "    // Register the callback with on_msg.\n",
       "    comm.on_msg(function (msg) {\n",
       "        //console.log('receiving', msg['content']['data'], msg);\n",
       "        // Pass the mpl event to the overridden (by mpl) onmessage function.\n",
       "        ws.onmessage(msg['content']['data']);\n",
       "    });\n",
       "    return ws;\n",
       "};\n",
       "\n",
       "mpl.mpl_figure_comm = function (comm, msg) {\n",
       "    // This is the function which gets called when the mpl process\n",
       "    // starts-up an IPython Comm through the \"matplotlib\" channel.\n",
       "\n",
       "    var id = msg.content.data.id;\n",
       "    // Get hold of the div created by the display call when the Comm\n",
       "    // socket was opened in Python.\n",
       "    var element = document.getElementById(id);\n",
       "    var ws_proxy = comm_websocket_adapter(comm);\n",
       "\n",
       "    function ondownload(figure, _format) {\n",
       "        window.open(figure.canvas.toDataURL());\n",
       "    }\n",
       "\n",
       "    var fig = new mpl.figure(id, ws_proxy, ondownload, element);\n",
       "\n",
       "    // Call onopen now - mpl needs it, as it is assuming we've passed it a real\n",
       "    // web socket which is closed, not our websocket->open comm proxy.\n",
       "    ws_proxy.onopen();\n",
       "\n",
       "    fig.parent_element = element;\n",
       "    fig.cell_info = mpl.find_output_cell(\"<div id='\" + id + \"'></div>\");\n",
       "    if (!fig.cell_info) {\n",
       "        console.error('Failed to find cell for figure', id, fig);\n",
       "        return;\n",
       "    }\n",
       "    fig.cell_info[0].output_area.element.one(\n",
       "        'cleared',\n",
       "        { fig: fig },\n",
       "        fig._remove_fig_handler\n",
       "    );\n",
       "};\n",
       "\n",
       "mpl.figure.prototype.handle_close = function (fig, msg) {\n",
       "    var width = fig.canvas.width / fig.ratio;\n",
       "    fig.cell_info[0].output_area.element.off(\n",
       "        'cleared',\n",
       "        fig._remove_fig_handler\n",
       "    );\n",
       "\n",
       "    // Update the output cell to use the data from the current canvas.\n",
       "    fig.push_to_output();\n",
       "    var dataURL = fig.canvas.toDataURL();\n",
       "    // Re-enable the keyboard manager in IPython - without this line, in FF,\n",
       "    // the notebook keyboard shortcuts fail.\n",
       "    IPython.keyboard_manager.enable();\n",
       "    fig.parent_element.innerHTML =\n",
       "        '<img src=\"' + dataURL + '\" width=\"' + width + '\">';\n",
       "    fig.close_ws(fig, msg);\n",
       "};\n",
       "\n",
       "mpl.figure.prototype.close_ws = function (fig, msg) {\n",
       "    fig.send_message('closing', msg);\n",
       "    // fig.ws.close()\n",
       "};\n",
       "\n",
       "mpl.figure.prototype.push_to_output = function (_remove_interactive) {\n",
       "    // Turn the data on the canvas into data in the output cell.\n",
       "    var width = this.canvas.width / this.ratio;\n",
       "    var dataURL = this.canvas.toDataURL();\n",
       "    this.cell_info[1]['text/html'] =\n",
       "        '<img src=\"' + dataURL + '\" width=\"' + width + '\">';\n",
       "};\n",
       "\n",
       "mpl.figure.prototype.updated_canvas_event = function () {\n",
       "    // Tell IPython that the notebook contents must change.\n",
       "    IPython.notebook.set_dirty(true);\n",
       "    this.send_message('ack', {});\n",
       "    var fig = this;\n",
       "    // Wait a second, then push the new image to the DOM so\n",
       "    // that it is saved nicely (might be nice to debounce this).\n",
       "    setTimeout(function () {\n",
       "        fig.push_to_output();\n",
       "    }, 1000);\n",
       "};\n",
       "\n",
       "mpl.figure.prototype._init_toolbar = function () {\n",
       "    var fig = this;\n",
       "\n",
       "    var toolbar = document.createElement('div');\n",
       "    toolbar.classList = 'btn-toolbar';\n",
       "    this.root.appendChild(toolbar);\n",
       "\n",
       "    function on_click_closure(name) {\n",
       "        return function (_event) {\n",
       "            return fig.toolbar_button_onclick(name);\n",
       "        };\n",
       "    }\n",
       "\n",
       "    function on_mouseover_closure(tooltip) {\n",
       "        return function (event) {\n",
       "            if (!event.currentTarget.disabled) {\n",
       "                return fig.toolbar_button_onmouseover(tooltip);\n",
       "            }\n",
       "        };\n",
       "    }\n",
       "\n",
       "    fig.buttons = {};\n",
       "    var buttonGroup = document.createElement('div');\n",
       "    buttonGroup.classList = 'btn-group';\n",
       "    var button;\n",
       "    for (var toolbar_ind in mpl.toolbar_items) {\n",
       "        var name = mpl.toolbar_items[toolbar_ind][0];\n",
       "        var tooltip = mpl.toolbar_items[toolbar_ind][1];\n",
       "        var image = mpl.toolbar_items[toolbar_ind][2];\n",
       "        var method_name = mpl.toolbar_items[toolbar_ind][3];\n",
       "\n",
       "        if (!name) {\n",
       "            /* Instead of a spacer, we start a new button group. */\n",
       "            if (buttonGroup.hasChildNodes()) {\n",
       "                toolbar.appendChild(buttonGroup);\n",
       "            }\n",
       "            buttonGroup = document.createElement('div');\n",
       "            buttonGroup.classList = 'btn-group';\n",
       "            continue;\n",
       "        }\n",
       "\n",
       "        button = fig.buttons[name] = document.createElement('button');\n",
       "        button.classList = 'btn btn-default';\n",
       "        button.href = '#';\n",
       "        button.title = name;\n",
       "        button.innerHTML = '<i class=\"fa ' + image + ' fa-lg\"></i>';\n",
       "        button.addEventListener('click', on_click_closure(method_name));\n",
       "        button.addEventListener('mouseover', on_mouseover_closure(tooltip));\n",
       "        buttonGroup.appendChild(button);\n",
       "    }\n",
       "\n",
       "    if (buttonGroup.hasChildNodes()) {\n",
       "        toolbar.appendChild(buttonGroup);\n",
       "    }\n",
       "\n",
       "    // Add the status bar.\n",
       "    var status_bar = document.createElement('span');\n",
       "    status_bar.classList = 'mpl-message pull-right';\n",
       "    toolbar.appendChild(status_bar);\n",
       "    this.message = status_bar;\n",
       "\n",
       "    // Add the close button to the window.\n",
       "    var buttongrp = document.createElement('div');\n",
       "    buttongrp.classList = 'btn-group inline pull-right';\n",
       "    button = document.createElement('button');\n",
       "    button.classList = 'btn btn-mini btn-primary';\n",
       "    button.href = '#';\n",
       "    button.title = 'Stop Interaction';\n",
       "    button.innerHTML = '<i class=\"fa fa-power-off icon-remove icon-large\"></i>';\n",
       "    button.addEventListener('click', function (_evt) {\n",
       "        fig.handle_close(fig, {});\n",
       "    });\n",
       "    button.addEventListener(\n",
       "        'mouseover',\n",
       "        on_mouseover_closure('Stop Interaction')\n",
       "    );\n",
       "    buttongrp.appendChild(button);\n",
       "    var titlebar = this.root.querySelector('.ui-dialog-titlebar');\n",
       "    titlebar.insertBefore(buttongrp, titlebar.firstChild);\n",
       "};\n",
       "\n",
       "mpl.figure.prototype._remove_fig_handler = function (event) {\n",
       "    var fig = event.data.fig;\n",
       "    fig.close_ws(fig, {});\n",
       "};\n",
       "\n",
       "mpl.figure.prototype._root_extra_style = function (el) {\n",
       "    el.style.boxSizing = 'content-box'; // override notebook setting of border-box.\n",
       "};\n",
       "\n",
       "mpl.figure.prototype._canvas_extra_style = function (el) {\n",
       "    // this is important to make the div 'focusable\n",
       "    el.setAttribute('tabindex', 0);\n",
       "    // reach out to IPython and tell the keyboard manager to turn it's self\n",
       "    // off when our div gets focus\n",
       "\n",
       "    // location in version 3\n",
       "    if (IPython.notebook.keyboard_manager) {\n",
       "        IPython.notebook.keyboard_manager.register_events(el);\n",
       "    } else {\n",
       "        // location in version 2\n",
       "        IPython.keyboard_manager.register_events(el);\n",
       "    }\n",
       "};\n",
       "\n",
       "mpl.figure.prototype._key_event_extra = function (event, _name) {\n",
       "    var manager = IPython.notebook.keyboard_manager;\n",
       "    if (!manager) {\n",
       "        manager = IPython.keyboard_manager;\n",
       "    }\n",
       "\n",
       "    // Check for shift+enter\n",
       "    if (event.shiftKey && event.which === 13) {\n",
       "        this.canvas_div.blur();\n",
       "        // select the cell after this one\n",
       "        var index = IPython.notebook.find_cell_index(this.cell_info[0]);\n",
       "        IPython.notebook.select(index + 1);\n",
       "    }\n",
       "};\n",
       "\n",
       "mpl.figure.prototype.handle_save = function (fig, _msg) {\n",
       "    fig.ondownload(fig, null);\n",
       "};\n",
       "\n",
       "mpl.find_output_cell = function (html_output) {\n",
       "    // Return the cell and output element which can be found *uniquely* in the notebook.\n",
       "    // Note - this is a bit hacky, but it is done because the \"notebook_saving.Notebook\"\n",
       "    // IPython event is triggered only after the cells have been serialised, which for\n",
       "    // our purposes (turning an active figure into a static one), is too late.\n",
       "    var cells = IPython.notebook.get_cells();\n",
       "    var ncells = cells.length;\n",
       "    for (var i = 0; i < ncells; i++) {\n",
       "        var cell = cells[i];\n",
       "        if (cell.cell_type === 'code') {\n",
       "            for (var j = 0; j < cell.output_area.outputs.length; j++) {\n",
       "                var data = cell.output_area.outputs[j];\n",
       "                if (data.data) {\n",
       "                    // IPython >= 3 moved mimebundle to data attribute of output\n",
       "                    data = data.data;\n",
       "                }\n",
       "                if (data['text/html'] === html_output) {\n",
       "                    return [cell, data, j];\n",
       "                }\n",
       "            }\n",
       "        }\n",
       "    }\n",
       "};\n",
       "\n",
       "// Register the function which deals with the matplotlib target/channel.\n",
       "// The kernel may be null if the page has been refreshed.\n",
       "if (IPython.notebook.kernel !== null) {\n",
       "    IPython.notebook.kernel.comm_manager.register_target(\n",
       "        'matplotlib',\n",
       "        mpl.mpl_figure_comm\n",
       "    );\n",
       "}\n"
      ],
      "text/plain": [
       "<IPython.core.display.Javascript object>"
      ]
     },
     "metadata": {},
     "output_type": "display_data"
    },
    {
     "data": {
      "text/html": [
       "<img src=\"data:image/png;base64,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\" width=\"628.8889055487555\">"
      ],
      "text/plain": [
       "<IPython.core.display.HTML object>"
      ]
     },
     "metadata": {},
     "output_type": "display_data"
    },
    {
     "data": {
      "text/plain": [
       "Text(0.5, 1.0, 'FAAC ALLOCATION FOR 2020')"
      ]
     },
     "execution_count": 41,
     "metadata": {},
     "output_type": "execute_result"
    }
   ],
   "source": [
    "FAAC_2020.plot(kind = \"barh\",figsize = (7,9), x = (\"STATE\"))\n",
    "plt.ylabel(\"STATE\")\n",
    "plt.xlabel(\"FAAC ALLOCATION\")\n",
    "plt.title(\"FAAC ALLOCATION FOR 2020\")\n"
   ]
  },
  {
   "cell_type": "code",
   "execution_count": 8,
   "metadata": {},
   "outputs": [],
   "source": [
    "import plotly "
   ]
  },
  {
   "cell_type": "code",
   "execution_count": 7,
   "metadata": {},
   "outputs": [],
   "source": [
    "import plotly.io as pio\n",
    "import plotly.express as px\n",
    "import plotly.graph_objs as go"
   ]
  },
  {
   "cell_type": "code",
   "execution_count": 61,
   "metadata": {},
   "outputs": [
    {
     "data": {
      "application/vnd.plotly.v1+json": {
       "config": {
        "plotlyServerURL": "https://plot.ly"
       },
       "data": [
        {
         "alignmentgroup": "True",
         "hovertemplate": "STATE=%{x}<br>JANUARY=%{y}<extra></extra>",
         "legendgroup": "ABIA STATE",
         "marker": {
          "color": "#636efa"
         },
         "name": "ABIA STATE",
         "offsetgroup": "ABIA STATE",
         "orientation": "v",
         "showlegend": true,
         "textposition": "inside",
         "texttemplate": "%{text:.4s}",
         "type": "bar",
         "x": [
          "ABIA STATE"
         ],
         "xaxis": "x",
         "y": [
          2856640370
         ],
         "yaxis": "y"
        },
        {
         "alignmentgroup": "True",
         "hovertemplate": "STATE=%{x}<br>JANUARY=%{y}<extra></extra>",
         "legendgroup": "ADAMAWA STATE",
         "marker": {
          "color": "#EF553B"
         },
         "name": "ADAMAWA STATE",
         "offsetgroup": "ADAMAWA STATE",
         "orientation": "v",
         "showlegend": true,
         "textposition": "inside",
         "texttemplate": "%{text:.4s}",
         "type": "bar",
         "x": [
          "ADAMAWA STATE"
         ],
         "xaxis": "x",
         "y": [
          3558570430
         ],
         "yaxis": "y"
        },
        {
         "alignmentgroup": "True",
         "hovertemplate": "STATE=%{x}<br>JANUARY=%{y}<extra></extra>",
         "legendgroup": "AKWA IBOW STATE",
         "marker": {
          "color": "#00cc96"
         },
         "name": "AKWA IBOW STATE",
         "offsetgroup": "AKWA IBOW STATE",
         "orientation": "v",
         "showlegend": true,
         "textposition": "inside",
         "texttemplate": "%{text:.4s}",
         "type": "bar",
         "x": [
          "AKWA IBOW STATE"
         ],
         "xaxis": "x",
         "y": [
          4787699108
         ],
         "yaxis": "y"
        },
        {
         "alignmentgroup": "True",
         "hovertemplate": "STATE=%{x}<br>JANUARY=%{y}<extra></extra>",
         "legendgroup": "ANAMBRA STATE",
         "marker": {
          "color": "#ab63fa"
         },
         "name": "ANAMBRA STATE",
         "offsetgroup": "ANAMBRA STATE",
         "orientation": "v",
         "showlegend": true,
         "textposition": "inside",
         "texttemplate": "%{text:.4s}",
         "type": "bar",
         "x": [
          "ANAMBRA STATE"
         ],
         "xaxis": "x",
         "y": [
          3664816610
         ],
         "yaxis": "y"
        },
        {
         "alignmentgroup": "True",
         "hovertemplate": "STATE=%{x}<br>JANUARY=%{y}<extra></extra>",
         "legendgroup": "BAUCHI STATE",
         "marker": {
          "color": "#FFA15A"
         },
         "name": "BAUCHI STATE",
         "offsetgroup": "BAUCHI STATE",
         "orientation": "v",
         "showlegend": true,
         "textposition": "inside",
         "texttemplate": "%{text:.4s}",
         "type": "bar",
         "x": [
          "BAUCHI STATE"
         ],
         "xaxis": "x",
         "y": [
          4039919496
         ],
         "yaxis": "y"
        },
        {
         "alignmentgroup": "True",
         "hovertemplate": "STATE=%{x}<br>JANUARY=%{y}<extra></extra>",
         "legendgroup": "BAYELSA STATE",
         "marker": {
          "color": "#19d3f3"
         },
         "name": "BAYELSA STATE",
         "offsetgroup": "BAYELSA STATE",
         "orientation": "v",
         "showlegend": true,
         "textposition": "inside",
         "texttemplate": "%{text:.4s}",
         "type": "bar",
         "x": [
          "BAYELSA STATE"
         ],
         "xaxis": "x",
         "y": [
          1633939426
         ],
         "yaxis": "y"
        },
        {
         "alignmentgroup": "True",
         "hovertemplate": "STATE=%{x}<br>JANUARY=%{y}<extra></extra>",
         "legendgroup": "BENUE STATE",
         "marker": {
          "color": "#FF6692"
         },
         "name": "BENUE STATE",
         "offsetgroup": "BENUE STATE",
         "orientation": "v",
         "showlegend": true,
         "textposition": "inside",
         "texttemplate": "%{text:.4s}",
         "type": "bar",
         "x": [
          "BENUE STATE"
         ],
         "xaxis": "x",
         "y": [
          4223851998
         ],
         "yaxis": "y"
        },
        {
         "alignmentgroup": "True",
         "hovertemplate": "STATE=%{x}<br>JANUARY=%{y}<extra></extra>",
         "legendgroup": "BORNO STATE",
         "marker": {
          "color": "#B6E880"
         },
         "name": "BORNO STATE",
         "offsetgroup": "BORNO STATE",
         "orientation": "v",
         "showlegend": true,
         "textposition": "inside",
         "texttemplate": "%{text:.4s}",
         "type": "bar",
         "x": [
          "BORNO STATE"
         ],
         "xaxis": "x",
         "y": [
          4758159137
         ],
         "yaxis": "y"
        },
        {
         "alignmentgroup": "True",
         "hovertemplate": "STATE=%{x}<br>JANUARY=%{y}<extra></extra>",
         "legendgroup": "CROSS-RIVER STATE",
         "marker": {
          "color": "#FF97FF"
         },
         "name": "CROSS-RIVER STATE",
         "offsetgroup": "CROSS-RIVER STATE",
         "orientation": "v",
         "showlegend": true,
         "textposition": "inside",
         "texttemplate": "%{text:.4s}",
         "type": "bar",
         "x": [
          "CROSS-RIVER STATE"
         ],
         "xaxis": "x",
         "y": [
          3054200372
         ],
         "yaxis": "y"
        },
        {
         "alignmentgroup": "True",
         "hovertemplate": "STATE=%{x}<br>JANUARY=%{y}<extra></extra>",
         "legendgroup": "DELTA STATE",
         "marker": {
          "color": "#FECB52"
         },
         "name": "DELTA STATE",
         "offsetgroup": "DELTA STATE",
         "orientation": "v",
         "showlegend": true,
         "textposition": "inside",
         "texttemplate": "%{text:.4s}",
         "type": "bar",
         "x": [
          "DELTA STATE"
         ],
         "xaxis": "x",
         "y": [
          4111298336
         ],
         "yaxis": "y"
        },
        {
         "alignmentgroup": "True",
         "hovertemplate": "STATE=%{x}<br>JANUARY=%{y}<extra></extra>",
         "legendgroup": "EBONYI STATE",
         "marker": {
          "color": "#636efa"
         },
         "name": "EBONYI STATE",
         "offsetgroup": "EBONYI STATE",
         "orientation": "v",
         "showlegend": true,
         "textposition": "inside",
         "texttemplate": "%{text:.4s}",
         "type": "bar",
         "x": [
          "EBONYI STATE"
         ],
         "xaxis": "x",
         "y": [
          2268707806
         ],
         "yaxis": "y"
        },
        {
         "alignmentgroup": "True",
         "hovertemplate": "STATE=%{x}<br>JANUARY=%{y}<extra></extra>",
         "legendgroup": "EDO STATE",
         "marker": {
          "color": "#EF553B"
         },
         "name": "EDO STATE",
         "offsetgroup": "EDO STATE",
         "orientation": "v",
         "showlegend": true,
         "textposition": "inside",
         "texttemplate": "%{text:.4s}",
         "type": "bar",
         "x": [
          "EDO STATE"
         ],
         "xaxis": "x",
         "y": [
          3087218418
         ],
         "yaxis": "y"
        },
        {
         "alignmentgroup": "True",
         "hovertemplate": "STATE=%{x}<br>JANUARY=%{y}<extra></extra>",
         "legendgroup": "EKITI STATE",
         "marker": {
          "color": "#00cc96"
         },
         "name": "EKITI STATE",
         "offsetgroup": "EKITI STATE",
         "orientation": "v",
         "showlegend": true,
         "textposition": "inside",
         "texttemplate": "%{text:.4s}",
         "type": "bar",
         "x": [
          "EKITI STATE"
         ],
         "xaxis": "x",
         "y": [
          2469231151
         ],
         "yaxis": "y"
        },
        {
         "alignmentgroup": "True",
         "hovertemplate": "STATE=%{x}<br>JANUARY=%{y}<extra></extra>",
         "legendgroup": "ENUGU STATE",
         "marker": {
          "color": "#ab63fa"
         },
         "name": "ENUGU STATE",
         "offsetgroup": "ENUGU STATE",
         "orientation": "v",
         "showlegend": true,
         "textposition": "inside",
         "texttemplate": "%{text:.4s}",
         "type": "bar",
         "x": [
          "ENUGU STATE"
         ],
         "xaxis": "x",
         "y": [
          3132927063
         ],
         "yaxis": "y"
        },
        {
         "alignmentgroup": "True",
         "hovertemplate": "STATE=%{x}<br>JANUARY=%{y}<extra></extra>",
         "legendgroup": "GOMBE STATE",
         "marker": {
          "color": "#FFA15A"
         },
         "name": "GOMBE STATE",
         "offsetgroup": "GOMBE STATE",
         "orientation": "v",
         "showlegend": true,
         "textposition": "inside",
         "texttemplate": "%{text:.4s}",
         "type": "bar",
         "x": [
          "GOMBE STATE"
         ],
         "xaxis": "x",
         "y": [
          2096872627
         ],
         "yaxis": "y"
        },
        {
         "alignmentgroup": "True",
         "hovertemplate": "STATE=%{x}<br>JANUARY=%{y}<extra></extra>",
         "legendgroup": "IMO STATE",
         "marker": {
          "color": "#19d3f3"
         },
         "name": "IMO STATE",
         "offsetgroup": "IMO STATE",
         "orientation": "v",
         "showlegend": true,
         "textposition": "inside",
         "texttemplate": "%{text:.4s}",
         "type": "bar",
         "x": [
          "IMO STATE"
         ],
         "xaxis": "x",
         "y": [
          4203985540
         ],
         "yaxis": "y"
        },
        {
         "alignmentgroup": "True",
         "hovertemplate": "STATE=%{x}<br>JANUARY=%{y}<extra></extra>",
         "legendgroup": "JIGAWA STATE",
         "marker": {
          "color": "#FF6692"
         },
         "name": "JIGAWA STATE",
         "offsetgroup": "JIGAWA STATE",
         "orientation": "v",
         "showlegend": true,
         "textposition": "inside",
         "texttemplate": "%{text:.4s}",
         "type": "bar",
         "x": [
          "JIGAWA STATE"
         ],
         "xaxis": "x",
         "y": [
          4429357481
         ],
         "yaxis": "y"
        },
        {
         "alignmentgroup": "True",
         "hovertemplate": "STATE=%{x}<br>JANUARY=%{y}<extra></extra>",
         "legendgroup": "KADUNA STATE",
         "marker": {
          "color": "#B6E880"
         },
         "name": "KADUNA STATE",
         "offsetgroup": "KADUNA STATE",
         "orientation": "v",
         "showlegend": true,
         "textposition": "inside",
         "texttemplate": "%{text:.4s}",
         "type": "bar",
         "x": [
          "KADUNA STATE"
         ],
         "xaxis": "x",
         "y": [
          5067253595
         ],
         "yaxis": "y"
        },
        {
         "alignmentgroup": "True",
         "hovertemplate": "STATE=%{x}<br>JANUARY=%{y}<extra></extra>",
         "legendgroup": "KANO STATE",
         "marker": {
          "color": "#FF97FF"
         },
         "name": "KANO STATE",
         "offsetgroup": "KANO STATE",
         "orientation": "v",
         "showlegend": true,
         "textposition": "inside",
         "texttemplate": "%{text:.4s}",
         "type": "bar",
         "x": [
          "KANO STATE"
         ],
         "xaxis": "x",
         "y": [
          8023909741
         ],
         "yaxis": "y"
        },
        {
         "alignmentgroup": "True",
         "hovertemplate": "STATE=%{x}<br>JANUARY=%{y}<extra></extra>",
         "legendgroup": "KATSINA STATE",
         "marker": {
          "color": "#FECB52"
         },
         "name": "KATSINA STATE",
         "offsetgroup": "KATSINA STATE",
         "orientation": "v",
         "showlegend": true,
         "textposition": "inside",
         "texttemplate": "%{text:.4s}",
         "type": "bar",
         "x": [
          "KATSINA STATE"
         ],
         "xaxis": "x",
         "y": [
          5939814689
         ],
         "yaxis": "y"
        },
        {
         "alignmentgroup": "True",
         "hovertemplate": "STATE=%{x}<br>JANUARY=%{y}<extra></extra>",
         "legendgroup": "KEBBI STATE",
         "marker": {
          "color": "#636efa"
         },
         "name": "KEBBI STATE",
         "offsetgroup": "KEBBI STATE",
         "orientation": "v",
         "showlegend": true,
         "textposition": "inside",
         "texttemplate": "%{text:.4s}",
         "type": "bar",
         "x": [
          "KEBBI STATE"
         ],
         "xaxis": "x",
         "y": [
          3691129045
         ],
         "yaxis": "y"
        },
        {
         "alignmentgroup": "True",
         "hovertemplate": "STATE=%{x}<br>JANUARY=%{y}<extra></extra>",
         "legendgroup": "KOGI STATE",
         "marker": {
          "color": "#EF553B"
         },
         "name": "KOGI STATE",
         "offsetgroup": "KOGI STATE",
         "orientation": "v",
         "showlegend": true,
         "textposition": "inside",
         "texttemplate": "%{text:.4s}",
         "type": "bar",
         "x": [
          "KOGI STATE"
         ],
         "xaxis": "x",
         "y": [
          3427781624
         ],
         "yaxis": "y"
        },
        {
         "alignmentgroup": "True",
         "hovertemplate": "STATE=%{x}<br>JANUARY=%{y}<extra></extra>",
         "legendgroup": "KWARA STATE",
         "marker": {
          "color": "#00cc96"
         },
         "name": "KWARA STATE",
         "offsetgroup": "KWARA STATE",
         "orientation": "v",
         "showlegend": true,
         "textposition": "inside",
         "texttemplate": "%{text:.4s}",
         "type": "bar",
         "x": [
          "KWARA STATE"
         ],
         "xaxis": "x",
         "y": [
          2721850299
         ],
         "yaxis": "y"
        },
        {
         "alignmentgroup": "True",
         "hovertemplate": "STATE=%{x}<br>JANUARY=%{y}<extra></extra>",
         "legendgroup": "LAGOS STATE",
         "marker": {
          "color": "#ab63fa"
         },
         "name": "LAGOS STATE",
         "offsetgroup": "LAGOS STATE",
         "orientation": "v",
         "showlegend": true,
         "textposition": "inside",
         "texttemplate": "%{text:.4s}",
         "type": "bar",
         "x": [
          "LAGOS STATE"
         ],
         "xaxis": "x",
         "y": [
          8568091538
         ],
         "yaxis": "y"
        },
        {
         "alignmentgroup": "True",
         "hovertemplate": "STATE=%{x}<br>JANUARY=%{y}<extra></extra>",
         "legendgroup": "NASARAWA STATE",
         "marker": {
          "color": "#FFA15A"
         },
         "name": "NASARAWA STATE",
         "offsetgroup": "NASARAWA STATE",
         "orientation": "v",
         "showlegend": true,
         "textposition": "inside",
         "texttemplate": "%{text:.4s}",
         "type": "bar",
         "x": [
          "NASARAWA STATE"
         ],
         "xaxis": "x",
         "y": [
          2331538383
         ],
         "yaxis": "y"
        },
        {
         "alignmentgroup": "True",
         "hovertemplate": "STATE=%{x}<br>JANUARY=%{y}<extra></extra>",
         "legendgroup": "NIGER STATE",
         "marker": {
          "color": "#19d3f3"
         },
         "name": "NIGER STATE",
         "offsetgroup": "NIGER STATE",
         "orientation": "v",
         "showlegend": true,
         "textposition": "inside",
         "texttemplate": "%{text:.4s}",
         "type": "bar",
         "x": [
          "NIGER STATE"
         ],
         "xaxis": "x",
         "y": [
          4474574549
         ],
         "yaxis": "y"
        },
        {
         "alignmentgroup": "True",
         "hovertemplate": "STATE=%{x}<br>JANUARY=%{y}<extra></extra>",
         "legendgroup": "OGUN STATE",
         "marker": {
          "color": "#FF6692"
         },
         "name": "OGUN STATE",
         "offsetgroup": "OGUN STATE",
         "orientation": "v",
         "showlegend": true,
         "textposition": "inside",
         "texttemplate": "%{text:.4s}",
         "type": "bar",
         "x": [
          "OGUN STATE"
         ],
         "xaxis": "x",
         "y": [
          3257818118
         ],
         "yaxis": "y"
        },
        {
         "alignmentgroup": "True",
         "hovertemplate": "STATE=%{x}<br>JANUARY=%{y}<extra></extra>",
         "legendgroup": "ONDO STATE",
         "marker": {
          "color": "#B6E880"
         },
         "name": "ONDO STATE",
         "offsetgroup": "ONDO STATE",
         "orientation": "v",
         "showlegend": true,
         "textposition": "inside",
         "texttemplate": "%{text:.4s}",
         "type": "bar",
         "x": [
          "ONDO STATE"
         ],
         "xaxis": "x",
         "y": [
          3077195375
         ],
         "yaxis": "y"
        },
        {
         "alignmentgroup": "True",
         "hovertemplate": "STATE=%{x}<br>JANUARY=%{y}<extra></extra>",
         "legendgroup": "OSUN STATE",
         "marker": {
          "color": "#FF97FF"
         },
         "name": "OSUN STATE",
         "offsetgroup": "OSUN STATE",
         "orientation": "v",
         "showlegend": true,
         "textposition": "inside",
         "texttemplate": "%{text:.4s}",
         "type": "bar",
         "x": [
          "OSUN STATE"
         ],
         "xaxis": "x",
         "y": [
          4175016861
         ],
         "yaxis": "y"
        },
        {
         "alignmentgroup": "True",
         "hovertemplate": "STATE=%{x}<br>JANUARY=%{y}<extra></extra>",
         "legendgroup": "OYO STATE",
         "marker": {
          "color": "#FECB52"
         },
         "name": "OYO STATE",
         "offsetgroup": "OYO STATE",
         "orientation": "v",
         "showlegend": true,
         "textposition": "inside",
         "texttemplate": "%{text:.4s}",
         "type": "bar",
         "x": [
          "OYO STATE"
         ],
         "xaxis": "x",
         "y": [
          5485914128
         ],
         "yaxis": "y"
        },
        {
         "alignmentgroup": "True",
         "hovertemplate": "STATE=%{x}<br>JANUARY=%{y}<extra></extra>",
         "legendgroup": "PLATEAU STATE",
         "marker": {
          "color": "#636efa"
         },
         "name": "PLATEAU STATE",
         "offsetgroup": "PLATEAU STATE",
         "orientation": "v",
         "showlegend": true,
         "textposition": "inside",
         "texttemplate": "%{text:.4s}",
         "type": "bar",
         "x": [
          "PLATEAU STATE"
         ],
         "xaxis": "x",
         "y": [
          3286595425
         ],
         "yaxis": "y"
        },
        {
         "alignmentgroup": "True",
         "hovertemplate": "STATE=%{x}<br>JANUARY=%{y}<extra></extra>",
         "legendgroup": "RIVERS STATE",
         "marker": {
          "color": "#EF553B"
         },
         "name": "RIVERS STATE",
         "offsetgroup": "RIVERS STATE",
         "orientation": "v",
         "showlegend": true,
         "textposition": "inside",
         "texttemplate": "%{text:.4s}",
         "type": "bar",
         "x": [
          "RIVERS STATE"
         ],
         "xaxis": "x",
         "y": [
          4397687971
         ],
         "yaxis": "y"
        },
        {
         "alignmentgroup": "True",
         "hovertemplate": "STATE=%{x}<br>JANUARY=%{y}<extra></extra>",
         "legendgroup": "SOKOTO STATE",
         "marker": {
          "color": "#00cc96"
         },
         "name": "SOKOTO STATE",
         "offsetgroup": "SOKOTO STATE",
         "orientation": "v",
         "showlegend": true,
         "textposition": "inside",
         "texttemplate": "%{text:.4s}",
         "type": "bar",
         "x": [
          "SOKOTO STATE"
         ],
         "xaxis": "x",
         "y": [
          4033661924
         ],
         "yaxis": "y"
        },
        {
         "alignmentgroup": "True",
         "hovertemplate": "STATE=%{x}<br>JANUARY=%{y}<extra></extra>",
         "legendgroup": "TARABA STATE",
         "marker": {
          "color": "#ab63fa"
         },
         "name": "TARABA STATE",
         "offsetgroup": "TARABA STATE",
         "orientation": "v",
         "showlegend": true,
         "textposition": "inside",
         "texttemplate": "%{text:.4s}",
         "type": "bar",
         "x": [
          "TARABA STATE"
         ],
         "xaxis": "x",
         "y": [
          2991411433
         ],
         "yaxis": "y"
        },
        {
         "alignmentgroup": "True",
         "hovertemplate": "STATE=%{x}<br>JANUARY=%{y}<extra></extra>",
         "legendgroup": "YOBE STATE",
         "marker": {
          "color": "#FFA15A"
         },
         "name": "YOBE STATE",
         "offsetgroup": "YOBE STATE",
         "orientation": "v",
         "showlegend": true,
         "textposition": "inside",
         "texttemplate": "%{text:.4s}",
         "type": "bar",
         "x": [
          "YOBE STATE"
         ],
         "xaxis": "x",
         "y": [
          3034000626
         ],
         "yaxis": "y"
        },
        {
         "alignmentgroup": "True",
         "hovertemplate": "STATE=%{x}<br>JANUARY=%{y}<extra></extra>",
         "legendgroup": "ZAMFARA STATE",
         "marker": {
          "color": "#19d3f3"
         },
         "name": "ZAMFARA STATE",
         "offsetgroup": "ZAMFARA STATE",
         "orientation": "v",
         "showlegend": true,
         "textposition": "inside",
         "texttemplate": "%{text:.4s}",
         "type": "bar",
         "x": [
          "ZAMFARA STATE"
         ],
         "xaxis": "x",
         "y": [
          2788370911
         ],
         "yaxis": "y"
        },
        {
         "alignmentgroup": "True",
         "hovertemplate": "STATE=%{x}<br>JANUARY=%{y}<extra></extra>",
         "legendgroup": "FEDERAL CAPITAL TERRITORY (FCT)",
         "marker": {
          "color": "#FF6692"
         },
         "name": "FEDERAL CAPITAL TERRITORY (FCT)",
         "offsetgroup": "FEDERAL CAPITAL TERRITORY (FCT)",
         "orientation": "v",
         "showlegend": true,
         "textposition": "inside",
         "texttemplate": "%{text:.4s}",
         "type": "bar",
         "x": [
          "FEDERAL CAPITAL TERRITORY (FCT)"
         ],
         "xaxis": "x",
         "y": [
          3495755856
         ],
         "yaxis": "y"
        }
       ],
       "layout": {
        "barmode": "relative",
        "height": 750,
        "legend": {
         "title": {
          "text": "STATE"
         },
         "tracegroupgap": 0
        },
        "margin": {
         "t": 60
        },
        "template": {
         "data": {
          "bar": [
           {
            "error_x": {
             "color": "#2a3f5f"
            },
            "error_y": {
             "color": "#2a3f5f"
            },
            "marker": {
             "line": {
              "color": "#E5ECF6",
              "width": 0.5
             }
            },
            "type": "bar"
           }
          ],
          "barpolar": [
           {
            "marker": {
             "line": {
              "color": "#E5ECF6",
              "width": 0.5
             }
            },
            "type": "barpolar"
           }
          ],
          "carpet": [
           {
            "aaxis": {
             "endlinecolor": "#2a3f5f",
             "gridcolor": "white",
             "linecolor": "white",
             "minorgridcolor": "white",
             "startlinecolor": "#2a3f5f"
            },
            "baxis": {
             "endlinecolor": "#2a3f5f",
             "gridcolor": "white",
             "linecolor": "white",
             "minorgridcolor": "white",
             "startlinecolor": "#2a3f5f"
            },
            "type": "carpet"
           }
          ],
          "choropleth": [
           {
            "colorbar": {
             "outlinewidth": 0,
             "ticks": ""
            },
            "type": "choropleth"
           }
          ],
          "contour": [
           {
            "colorbar": {
             "outlinewidth": 0,
             "ticks": ""
            },
            "colorscale": [
             [
              0,
              "#0d0887"
             ],
             [
              0.1111111111111111,
              "#46039f"
             ],
             [
              0.2222222222222222,
              "#7201a8"
             ],
             [
              0.3333333333333333,
              "#9c179e"
             ],
             [
              0.4444444444444444,
              "#bd3786"
             ],
             [
              0.5555555555555556,
              "#d8576b"
             ],
             [
              0.6666666666666666,
              "#ed7953"
             ],
             [
              0.7777777777777778,
              "#fb9f3a"
             ],
             [
              0.8888888888888888,
              "#fdca26"
             ],
             [
              1,
              "#f0f921"
             ]
            ],
            "type": "contour"
           }
          ],
          "contourcarpet": [
           {
            "colorbar": {
             "outlinewidth": 0,
             "ticks": ""
            },
            "type": "contourcarpet"
           }
          ],
          "heatmap": [
           {
            "colorbar": {
             "outlinewidth": 0,
             "ticks": ""
            },
            "colorscale": [
             [
              0,
              "#0d0887"
             ],
             [
              0.1111111111111111,
              "#46039f"
             ],
             [
              0.2222222222222222,
              "#7201a8"
             ],
             [
              0.3333333333333333,
              "#9c179e"
             ],
             [
              0.4444444444444444,
              "#bd3786"
             ],
             [
              0.5555555555555556,
              "#d8576b"
             ],
             [
              0.6666666666666666,
              "#ed7953"
             ],
             [
              0.7777777777777778,
              "#fb9f3a"
             ],
             [
              0.8888888888888888,
              "#fdca26"
             ],
             [
              1,
              "#f0f921"
             ]
            ],
            "type": "heatmap"
           }
          ],
          "heatmapgl": [
           {
            "colorbar": {
             "outlinewidth": 0,
             "ticks": ""
            },
            "colorscale": [
             [
              0,
              "#0d0887"
             ],
             [
              0.1111111111111111,
              "#46039f"
             ],
             [
              0.2222222222222222,
              "#7201a8"
             ],
             [
              0.3333333333333333,
              "#9c179e"
             ],
             [
              0.4444444444444444,
              "#bd3786"
             ],
             [
              0.5555555555555556,
              "#d8576b"
             ],
             [
              0.6666666666666666,
              "#ed7953"
             ],
             [
              0.7777777777777778,
              "#fb9f3a"
             ],
             [
              0.8888888888888888,
              "#fdca26"
             ],
             [
              1,
              "#f0f921"
             ]
            ],
            "type": "heatmapgl"
           }
          ],
          "histogram": [
           {
            "marker": {
             "colorbar": {
              "outlinewidth": 0,
              "ticks": ""
             }
            },
            "type": "histogram"
           }
          ],
          "histogram2d": [
           {
            "colorbar": {
             "outlinewidth": 0,
             "ticks": ""
            },
            "colorscale": [
             [
              0,
              "#0d0887"
             ],
             [
              0.1111111111111111,
              "#46039f"
             ],
             [
              0.2222222222222222,
              "#7201a8"
             ],
             [
              0.3333333333333333,
              "#9c179e"
             ],
             [
              0.4444444444444444,
              "#bd3786"
             ],
             [
              0.5555555555555556,
              "#d8576b"
             ],
             [
              0.6666666666666666,
              "#ed7953"
             ],
             [
              0.7777777777777778,
              "#fb9f3a"
             ],
             [
              0.8888888888888888,
              "#fdca26"
             ],
             [
              1,
              "#f0f921"
             ]
            ],
            "type": "histogram2d"
           }
          ],
          "histogram2dcontour": [
           {
            "colorbar": {
             "outlinewidth": 0,
             "ticks": ""
            },
            "colorscale": [
             [
              0,
              "#0d0887"
             ],
             [
              0.1111111111111111,
              "#46039f"
             ],
             [
              0.2222222222222222,
              "#7201a8"
             ],
             [
              0.3333333333333333,
              "#9c179e"
             ],
             [
              0.4444444444444444,
              "#bd3786"
             ],
             [
              0.5555555555555556,
              "#d8576b"
             ],
             [
              0.6666666666666666,
              "#ed7953"
             ],
             [
              0.7777777777777778,
              "#fb9f3a"
             ],
             [
              0.8888888888888888,
              "#fdca26"
             ],
             [
              1,
              "#f0f921"
             ]
            ],
            "type": "histogram2dcontour"
           }
          ],
          "mesh3d": [
           {
            "colorbar": {
             "outlinewidth": 0,
             "ticks": ""
            },
            "type": "mesh3d"
           }
          ],
          "parcoords": [
           {
            "line": {
             "colorbar": {
              "outlinewidth": 0,
              "ticks": ""
             }
            },
            "type": "parcoords"
           }
          ],
          "pie": [
           {
            "automargin": true,
            "type": "pie"
           }
          ],
          "scatter": [
           {
            "marker": {
             "colorbar": {
              "outlinewidth": 0,
              "ticks": ""
             }
            },
            "type": "scatter"
           }
          ],
          "scatter3d": [
           {
            "line": {
             "colorbar": {
              "outlinewidth": 0,
              "ticks": ""
             }
            },
            "marker": {
             "colorbar": {
              "outlinewidth": 0,
              "ticks": ""
             }
            },
            "type": "scatter3d"
           }
          ],
          "scattercarpet": [
           {
            "marker": {
             "colorbar": {
              "outlinewidth": 0,
              "ticks": ""
             }
            },
            "type": "scattercarpet"
           }
          ],
          "scattergeo": [
           {
            "marker": {
             "colorbar": {
              "outlinewidth": 0,
              "ticks": ""
             }
            },
            "type": "scattergeo"
           }
          ],
          "scattergl": [
           {
            "marker": {
             "colorbar": {
              "outlinewidth": 0,
              "ticks": ""
             }
            },
            "type": "scattergl"
           }
          ],
          "scattermapbox": [
           {
            "marker": {
             "colorbar": {
              "outlinewidth": 0,
              "ticks": ""
             }
            },
            "type": "scattermapbox"
           }
          ],
          "scatterpolar": [
           {
            "marker": {
             "colorbar": {
              "outlinewidth": 0,
              "ticks": ""
             }
            },
            "type": "scatterpolar"
           }
          ],
          "scatterpolargl": [
           {
            "marker": {
             "colorbar": {
              "outlinewidth": 0,
              "ticks": ""
             }
            },
            "type": "scatterpolargl"
           }
          ],
          "scatterternary": [
           {
            "marker": {
             "colorbar": {
              "outlinewidth": 0,
              "ticks": ""
             }
            },
            "type": "scatterternary"
           }
          ],
          "surface": [
           {
            "colorbar": {
             "outlinewidth": 0,
             "ticks": ""
            },
            "colorscale": [
             [
              0,
              "#0d0887"
             ],
             [
              0.1111111111111111,
              "#46039f"
             ],
             [
              0.2222222222222222,
              "#7201a8"
             ],
             [
              0.3333333333333333,
              "#9c179e"
             ],
             [
              0.4444444444444444,
              "#bd3786"
             ],
             [
              0.5555555555555556,
              "#d8576b"
             ],
             [
              0.6666666666666666,
              "#ed7953"
             ],
             [
              0.7777777777777778,
              "#fb9f3a"
             ],
             [
              0.8888888888888888,
              "#fdca26"
             ],
             [
              1,
              "#f0f921"
             ]
            ],
            "type": "surface"
           }
          ],
          "table": [
           {
            "cells": {
             "fill": {
              "color": "#EBF0F8"
             },
             "line": {
              "color": "white"
             }
            },
            "header": {
             "fill": {
              "color": "#C8D4E3"
             },
             "line": {
              "color": "white"
             }
            },
            "type": "table"
           }
          ]
         },
         "layout": {
          "annotationdefaults": {
           "arrowcolor": "#2a3f5f",
           "arrowhead": 0,
           "arrowwidth": 1
          },
          "autotypenumbers": "strict",
          "coloraxis": {
           "colorbar": {
            "outlinewidth": 0,
            "ticks": ""
           }
          },
          "colorscale": {
           "diverging": [
            [
             0,
             "#8e0152"
            ],
            [
             0.1,
             "#c51b7d"
            ],
            [
             0.2,
             "#de77ae"
            ],
            [
             0.3,
             "#f1b6da"
            ],
            [
             0.4,
             "#fde0ef"
            ],
            [
             0.5,
             "#f7f7f7"
            ],
            [
             0.6,
             "#e6f5d0"
            ],
            [
             0.7,
             "#b8e186"
            ],
            [
             0.8,
             "#7fbc41"
            ],
            [
             0.9,
             "#4d9221"
            ],
            [
             1,
             "#276419"
            ]
           ],
           "sequential": [
            [
             0,
             "#0d0887"
            ],
            [
             0.1111111111111111,
             "#46039f"
            ],
            [
             0.2222222222222222,
             "#7201a8"
            ],
            [
             0.3333333333333333,
             "#9c179e"
            ],
            [
             0.4444444444444444,
             "#bd3786"
            ],
            [
             0.5555555555555556,
             "#d8576b"
            ],
            [
             0.6666666666666666,
             "#ed7953"
            ],
            [
             0.7777777777777778,
             "#fb9f3a"
            ],
            [
             0.8888888888888888,
             "#fdca26"
            ],
            [
             1,
             "#f0f921"
            ]
           ],
           "sequentialminus": [
            [
             0,
             "#0d0887"
            ],
            [
             0.1111111111111111,
             "#46039f"
            ],
            [
             0.2222222222222222,
             "#7201a8"
            ],
            [
             0.3333333333333333,
             "#9c179e"
            ],
            [
             0.4444444444444444,
             "#bd3786"
            ],
            [
             0.5555555555555556,
             "#d8576b"
            ],
            [
             0.6666666666666666,
             "#ed7953"
            ],
            [
             0.7777777777777778,
             "#fb9f3a"
            ],
            [
             0.8888888888888888,
             "#fdca26"
            ],
            [
             1,
             "#f0f921"
            ]
           ]
          },
          "colorway": [
           "#636efa",
           "#EF553B",
           "#00cc96",
           "#ab63fa",
           "#FFA15A",
           "#19d3f3",
           "#FF6692",
           "#B6E880",
           "#FF97FF",
           "#FECB52"
          ],
          "font": {
           "color": "#2a3f5f"
          },
          "geo": {
           "bgcolor": "white",
           "lakecolor": "white",
           "landcolor": "#E5ECF6",
           "showlakes": true,
           "showland": true,
           "subunitcolor": "white"
          },
          "hoverlabel": {
           "align": "left"
          },
          "hovermode": "closest",
          "mapbox": {
           "style": "light"
          },
          "paper_bgcolor": "white",
          "plot_bgcolor": "#E5ECF6",
          "polar": {
           "angularaxis": {
            "gridcolor": "white",
            "linecolor": "white",
            "ticks": ""
           },
           "bgcolor": "#E5ECF6",
           "radialaxis": {
            "gridcolor": "white",
            "linecolor": "white",
            "ticks": ""
           }
          },
          "scene": {
           "xaxis": {
            "backgroundcolor": "#E5ECF6",
            "gridcolor": "white",
            "gridwidth": 2,
            "linecolor": "white",
            "showbackground": true,
            "ticks": "",
            "zerolinecolor": "white"
           },
           "yaxis": {
            "backgroundcolor": "#E5ECF6",
            "gridcolor": "white",
            "gridwidth": 2,
            "linecolor": "white",
            "showbackground": true,
            "ticks": "",
            "zerolinecolor": "white"
           },
           "zaxis": {
            "backgroundcolor": "#E5ECF6",
            "gridcolor": "white",
            "gridwidth": 2,
            "linecolor": "white",
            "showbackground": true,
            "ticks": "",
            "zerolinecolor": "white"
           }
          },
          "shapedefaults": {
           "line": {
            "color": "#2a3f5f"
           }
          },
          "ternary": {
           "aaxis": {
            "gridcolor": "white",
            "linecolor": "white",
            "ticks": ""
           },
           "baxis": {
            "gridcolor": "white",
            "linecolor": "white",
            "ticks": ""
           },
           "bgcolor": "#E5ECF6",
           "caxis": {
            "gridcolor": "white",
            "linecolor": "white",
            "ticks": ""
           }
          },
          "title": {
           "x": 0.05
          },
          "xaxis": {
           "automargin": true,
           "gridcolor": "white",
           "linecolor": "white",
           "ticks": "",
           "title": {
            "standoff": 15
           },
           "zerolinecolor": "white",
           "zerolinewidth": 2
          },
          "yaxis": {
           "automargin": true,
           "gridcolor": "white",
           "linecolor": "white",
           "ticks": "",
           "title": {
            "standoff": 15
           },
           "zerolinecolor": "white",
           "zerolinewidth": 2
          }
         }
        },
        "title": {
         "text": "FAAC_2020",
         "x": 0.5,
         "y": 0.8
        },
        "uniformtext": {
         "minsize": 12,
         "mode": "hide"
        },
        "width": 1000,
        "xaxis": {
         "anchor": "y",
         "categoryarray": [
          "ABIA STATE",
          "ADAMAWA STATE",
          "AKWA IBOW STATE",
          "ANAMBRA STATE",
          "BAUCHI STATE",
          "BAYELSA STATE",
          "BENUE STATE",
          "BORNO STATE",
          "CROSS-RIVER STATE",
          "DELTA STATE",
          "EBONYI STATE",
          "EDO STATE",
          "EKITI STATE",
          "ENUGU STATE",
          "GOMBE STATE",
          "IMO STATE",
          "JIGAWA STATE",
          "KADUNA STATE",
          "KANO STATE",
          "KATSINA STATE",
          "KEBBI STATE",
          "KOGI STATE",
          "KWARA STATE",
          "LAGOS STATE",
          "NASARAWA STATE",
          "NIGER STATE",
          "OGUN STATE",
          "ONDO STATE",
          "OSUN STATE",
          "OYO STATE",
          "PLATEAU STATE",
          "RIVERS STATE",
          "SOKOTO STATE",
          "TARABA STATE",
          "YOBE STATE",
          "ZAMFARA STATE",
          "FEDERAL CAPITAL TERRITORY (FCT)"
         ],
         "categoryorder": "array",
         "domain": [
          0,
          1
         ],
         "title": {
          "text": "STATE"
         }
        },
        "yaxis": {
         "anchor": "x",
         "domain": [
          0,
          1
         ],
         "title": {
          "text": "JANUARY"
         }
        }
       }
      },
      "text/html": [
       "<div>                            <div id=\"7336f32c-d962-4ee1-a210-3b41b666e87a\" class=\"plotly-graph-div\" style=\"height:750px; width:1000px;\"></div>            <script type=\"text/javascript\">                require([\"plotly\"], function(Plotly) {                    window.PLOTLYENV=window.PLOTLYENV || {};                                    if (document.getElementById(\"7336f32c-d962-4ee1-a210-3b41b666e87a\")) {                    Plotly.newPlot(                        \"7336f32c-d962-4ee1-a210-3b41b666e87a\",                        [{\"alignmentgroup\": \"True\", \"hovertemplate\": \"STATE=%{x}<br>JANUARY=%{y}<extra></extra>\", \"legendgroup\": \"ABIA STATE\", \"marker\": {\"color\": \"#636efa\"}, \"name\": \"ABIA STATE\", \"offsetgroup\": \"ABIA STATE\", \"orientation\": \"v\", \"showlegend\": true, \"textposition\": \"inside\", \"texttemplate\": \"%{text:.4s}\", \"type\": \"bar\", \"x\": [\"ABIA STATE\"], \"xaxis\": \"x\", \"y\": [2856640370], \"yaxis\": \"y\"}, {\"alignmentgroup\": \"True\", \"hovertemplate\": \"STATE=%{x}<br>JANUARY=%{y}<extra></extra>\", \"legendgroup\": \"ADAMAWA STATE\", \"marker\": {\"color\": \"#EF553B\"}, \"name\": \"ADAMAWA STATE\", \"offsetgroup\": \"ADAMAWA STATE\", \"orientation\": \"v\", \"showlegend\": true, \"textposition\": \"inside\", \"texttemplate\": \"%{text:.4s}\", \"type\": \"bar\", \"x\": [\"ADAMAWA STATE\"], \"xaxis\": \"x\", \"y\": [3558570430], \"yaxis\": \"y\"}, {\"alignmentgroup\": \"True\", \"hovertemplate\": \"STATE=%{x}<br>JANUARY=%{y}<extra></extra>\", \"legendgroup\": \"AKWA IBOW STATE\", \"marker\": {\"color\": \"#00cc96\"}, \"name\": \"AKWA IBOW STATE\", \"offsetgroup\": \"AKWA IBOW STATE\", \"orientation\": \"v\", \"showlegend\": true, \"textposition\": \"inside\", \"texttemplate\": \"%{text:.4s}\", \"type\": \"bar\", \"x\": [\"AKWA IBOW STATE\"], \"xaxis\": \"x\", \"y\": [4787699108], \"yaxis\": \"y\"}, {\"alignmentgroup\": \"True\", \"hovertemplate\": \"STATE=%{x}<br>JANUARY=%{y}<extra></extra>\", \"legendgroup\": \"ANAMBRA STATE\", \"marker\": {\"color\": \"#ab63fa\"}, \"name\": \"ANAMBRA STATE\", \"offsetgroup\": \"ANAMBRA STATE\", \"orientation\": \"v\", \"showlegend\": true, \"textposition\": \"inside\", \"texttemplate\": \"%{text:.4s}\", \"type\": \"bar\", \"x\": [\"ANAMBRA STATE\"], \"xaxis\": \"x\", \"y\": [3664816610], \"yaxis\": \"y\"}, {\"alignmentgroup\": \"True\", \"hovertemplate\": \"STATE=%{x}<br>JANUARY=%{y}<extra></extra>\", \"legendgroup\": \"BAUCHI STATE\", \"marker\": {\"color\": \"#FFA15A\"}, \"name\": \"BAUCHI STATE\", \"offsetgroup\": \"BAUCHI STATE\", \"orientation\": \"v\", \"showlegend\": true, \"textposition\": \"inside\", \"texttemplate\": \"%{text:.4s}\", \"type\": \"bar\", \"x\": [\"BAUCHI STATE\"], \"xaxis\": \"x\", \"y\": [4039919496], \"yaxis\": \"y\"}, {\"alignmentgroup\": \"True\", \"hovertemplate\": \"STATE=%{x}<br>JANUARY=%{y}<extra></extra>\", \"legendgroup\": \"BAYELSA STATE\", \"marker\": {\"color\": \"#19d3f3\"}, \"name\": \"BAYELSA STATE\", \"offsetgroup\": \"BAYELSA STATE\", \"orientation\": \"v\", \"showlegend\": true, \"textposition\": \"inside\", \"texttemplate\": \"%{text:.4s}\", \"type\": \"bar\", \"x\": [\"BAYELSA STATE\"], \"xaxis\": \"x\", \"y\": [1633939426], \"yaxis\": \"y\"}, {\"alignmentgroup\": \"True\", \"hovertemplate\": \"STATE=%{x}<br>JANUARY=%{y}<extra></extra>\", \"legendgroup\": \"BENUE STATE\", \"marker\": {\"color\": \"#FF6692\"}, \"name\": \"BENUE STATE\", \"offsetgroup\": \"BENUE STATE\", \"orientation\": \"v\", \"showlegend\": true, \"textposition\": \"inside\", \"texttemplate\": \"%{text:.4s}\", \"type\": \"bar\", \"x\": [\"BENUE STATE\"], \"xaxis\": \"x\", \"y\": [4223851998], \"yaxis\": \"y\"}, {\"alignmentgroup\": \"True\", \"hovertemplate\": \"STATE=%{x}<br>JANUARY=%{y}<extra></extra>\", \"legendgroup\": \"BORNO STATE\", \"marker\": {\"color\": \"#B6E880\"}, \"name\": \"BORNO STATE\", \"offsetgroup\": \"BORNO STATE\", \"orientation\": \"v\", \"showlegend\": true, \"textposition\": \"inside\", \"texttemplate\": \"%{text:.4s}\", \"type\": \"bar\", \"x\": [\"BORNO STATE\"], \"xaxis\": \"x\", \"y\": [4758159137], \"yaxis\": \"y\"}, {\"alignmentgroup\": \"True\", \"hovertemplate\": \"STATE=%{x}<br>JANUARY=%{y}<extra></extra>\", \"legendgroup\": \"CROSS-RIVER STATE\", \"marker\": {\"color\": \"#FF97FF\"}, \"name\": \"CROSS-RIVER STATE\", \"offsetgroup\": \"CROSS-RIVER STATE\", \"orientation\": \"v\", \"showlegend\": true, \"textposition\": \"inside\", \"texttemplate\": \"%{text:.4s}\", \"type\": \"bar\", \"x\": [\"CROSS-RIVER STATE\"], \"xaxis\": \"x\", \"y\": [3054200372], \"yaxis\": \"y\"}, {\"alignmentgroup\": \"True\", \"hovertemplate\": \"STATE=%{x}<br>JANUARY=%{y}<extra></extra>\", \"legendgroup\": \"DELTA STATE\", \"marker\": {\"color\": \"#FECB52\"}, \"name\": \"DELTA STATE\", \"offsetgroup\": \"DELTA STATE\", \"orientation\": \"v\", \"showlegend\": true, \"textposition\": \"inside\", \"texttemplate\": \"%{text:.4s}\", \"type\": \"bar\", \"x\": [\"DELTA STATE\"], \"xaxis\": \"x\", \"y\": [4111298336], \"yaxis\": \"y\"}, {\"alignmentgroup\": \"True\", \"hovertemplate\": \"STATE=%{x}<br>JANUARY=%{y}<extra></extra>\", \"legendgroup\": \"EBONYI STATE\", \"marker\": {\"color\": \"#636efa\"}, \"name\": \"EBONYI STATE\", \"offsetgroup\": \"EBONYI STATE\", \"orientation\": \"v\", \"showlegend\": true, \"textposition\": \"inside\", \"texttemplate\": \"%{text:.4s}\", \"type\": \"bar\", \"x\": [\"EBONYI STATE\"], \"xaxis\": \"x\", \"y\": [2268707806], \"yaxis\": \"y\"}, {\"alignmentgroup\": \"True\", \"hovertemplate\": \"STATE=%{x}<br>JANUARY=%{y}<extra></extra>\", \"legendgroup\": \"EDO STATE\", \"marker\": {\"color\": \"#EF553B\"}, \"name\": \"EDO STATE\", \"offsetgroup\": \"EDO STATE\", \"orientation\": \"v\", \"showlegend\": true, \"textposition\": \"inside\", \"texttemplate\": \"%{text:.4s}\", \"type\": \"bar\", \"x\": [\"EDO STATE\"], \"xaxis\": \"x\", \"y\": [3087218418], \"yaxis\": \"y\"}, {\"alignmentgroup\": \"True\", \"hovertemplate\": \"STATE=%{x}<br>JANUARY=%{y}<extra></extra>\", \"legendgroup\": \"EKITI STATE\", \"marker\": {\"color\": \"#00cc96\"}, \"name\": \"EKITI STATE\", \"offsetgroup\": \"EKITI STATE\", \"orientation\": \"v\", \"showlegend\": true, \"textposition\": \"inside\", \"texttemplate\": \"%{text:.4s}\", \"type\": \"bar\", \"x\": [\"EKITI STATE\"], \"xaxis\": \"x\", \"y\": [2469231151], \"yaxis\": \"y\"}, {\"alignmentgroup\": \"True\", \"hovertemplate\": \"STATE=%{x}<br>JANUARY=%{y}<extra></extra>\", \"legendgroup\": \"ENUGU STATE\", \"marker\": {\"color\": \"#ab63fa\"}, \"name\": \"ENUGU STATE\", \"offsetgroup\": \"ENUGU STATE\", \"orientation\": \"v\", \"showlegend\": true, \"textposition\": \"inside\", \"texttemplate\": \"%{text:.4s}\", \"type\": \"bar\", \"x\": [\"ENUGU STATE\"], \"xaxis\": \"x\", \"y\": [3132927063], \"yaxis\": \"y\"}, {\"alignmentgroup\": \"True\", \"hovertemplate\": \"STATE=%{x}<br>JANUARY=%{y}<extra></extra>\", \"legendgroup\": \"GOMBE STATE\", \"marker\": {\"color\": \"#FFA15A\"}, \"name\": \"GOMBE STATE\", \"offsetgroup\": \"GOMBE STATE\", \"orientation\": \"v\", \"showlegend\": true, \"textposition\": \"inside\", \"texttemplate\": \"%{text:.4s}\", \"type\": \"bar\", \"x\": [\"GOMBE STATE\"], \"xaxis\": \"x\", \"y\": [2096872627], \"yaxis\": \"y\"}, {\"alignmentgroup\": \"True\", \"hovertemplate\": \"STATE=%{x}<br>JANUARY=%{y}<extra></extra>\", \"legendgroup\": \"IMO STATE\", \"marker\": {\"color\": \"#19d3f3\"}, \"name\": \"IMO STATE\", \"offsetgroup\": \"IMO STATE\", \"orientation\": \"v\", \"showlegend\": true, \"textposition\": \"inside\", \"texttemplate\": \"%{text:.4s}\", \"type\": \"bar\", \"x\": [\"IMO STATE\"], \"xaxis\": \"x\", \"y\": [4203985540], \"yaxis\": \"y\"}, {\"alignmentgroup\": \"True\", \"hovertemplate\": \"STATE=%{x}<br>JANUARY=%{y}<extra></extra>\", \"legendgroup\": \"JIGAWA STATE\", \"marker\": {\"color\": \"#FF6692\"}, \"name\": \"JIGAWA STATE\", \"offsetgroup\": \"JIGAWA STATE\", \"orientation\": \"v\", \"showlegend\": true, \"textposition\": \"inside\", \"texttemplate\": \"%{text:.4s}\", \"type\": \"bar\", \"x\": [\"JIGAWA STATE\"], \"xaxis\": \"x\", \"y\": [4429357481], \"yaxis\": \"y\"}, {\"alignmentgroup\": \"True\", \"hovertemplate\": \"STATE=%{x}<br>JANUARY=%{y}<extra></extra>\", \"legendgroup\": \"KADUNA STATE\", \"marker\": {\"color\": \"#B6E880\"}, \"name\": \"KADUNA STATE\", \"offsetgroup\": \"KADUNA STATE\", \"orientation\": \"v\", \"showlegend\": true, \"textposition\": \"inside\", \"texttemplate\": \"%{text:.4s}\", \"type\": \"bar\", \"x\": [\"KADUNA STATE\"], \"xaxis\": \"x\", \"y\": [5067253595], \"yaxis\": \"y\"}, {\"alignmentgroup\": \"True\", \"hovertemplate\": \"STATE=%{x}<br>JANUARY=%{y}<extra></extra>\", \"legendgroup\": \"KANO STATE\", \"marker\": {\"color\": \"#FF97FF\"}, \"name\": \"KANO STATE\", \"offsetgroup\": \"KANO STATE\", \"orientation\": \"v\", \"showlegend\": true, \"textposition\": \"inside\", \"texttemplate\": \"%{text:.4s}\", \"type\": \"bar\", \"x\": [\"KANO STATE\"], \"xaxis\": \"x\", \"y\": [8023909741], \"yaxis\": \"y\"}, {\"alignmentgroup\": \"True\", \"hovertemplate\": \"STATE=%{x}<br>JANUARY=%{y}<extra></extra>\", \"legendgroup\": \"KATSINA STATE\", \"marker\": {\"color\": \"#FECB52\"}, \"name\": \"KATSINA STATE\", \"offsetgroup\": \"KATSINA STATE\", \"orientation\": \"v\", \"showlegend\": true, \"textposition\": \"inside\", \"texttemplate\": \"%{text:.4s}\", \"type\": \"bar\", \"x\": [\"KATSINA STATE\"], \"xaxis\": \"x\", \"y\": [5939814689], \"yaxis\": \"y\"}, {\"alignmentgroup\": \"True\", \"hovertemplate\": \"STATE=%{x}<br>JANUARY=%{y}<extra></extra>\", \"legendgroup\": \"KEBBI STATE\", \"marker\": {\"color\": \"#636efa\"}, \"name\": \"KEBBI STATE\", \"offsetgroup\": \"KEBBI STATE\", \"orientation\": \"v\", \"showlegend\": true, \"textposition\": \"inside\", \"texttemplate\": \"%{text:.4s}\", \"type\": \"bar\", \"x\": [\"KEBBI STATE\"], \"xaxis\": \"x\", \"y\": [3691129045], \"yaxis\": \"y\"}, {\"alignmentgroup\": \"True\", \"hovertemplate\": \"STATE=%{x}<br>JANUARY=%{y}<extra></extra>\", \"legendgroup\": \"KOGI STATE\", \"marker\": {\"color\": \"#EF553B\"}, \"name\": \"KOGI STATE\", \"offsetgroup\": \"KOGI STATE\", \"orientation\": \"v\", \"showlegend\": true, \"textposition\": \"inside\", \"texttemplate\": \"%{text:.4s}\", \"type\": \"bar\", \"x\": [\"KOGI STATE\"], \"xaxis\": \"x\", \"y\": [3427781624], \"yaxis\": \"y\"}, {\"alignmentgroup\": \"True\", \"hovertemplate\": \"STATE=%{x}<br>JANUARY=%{y}<extra></extra>\", \"legendgroup\": \"KWARA STATE\", \"marker\": {\"color\": \"#00cc96\"}, \"name\": \"KWARA STATE\", \"offsetgroup\": \"KWARA STATE\", \"orientation\": \"v\", \"showlegend\": true, \"textposition\": \"inside\", \"texttemplate\": \"%{text:.4s}\", \"type\": \"bar\", \"x\": [\"KWARA STATE\"], \"xaxis\": \"x\", \"y\": [2721850299], \"yaxis\": \"y\"}, {\"alignmentgroup\": \"True\", \"hovertemplate\": \"STATE=%{x}<br>JANUARY=%{y}<extra></extra>\", \"legendgroup\": \"LAGOS STATE\", \"marker\": {\"color\": \"#ab63fa\"}, \"name\": \"LAGOS STATE\", \"offsetgroup\": \"LAGOS STATE\", \"orientation\": \"v\", \"showlegend\": true, \"textposition\": \"inside\", \"texttemplate\": \"%{text:.4s}\", \"type\": \"bar\", \"x\": [\"LAGOS STATE\"], \"xaxis\": \"x\", \"y\": [8568091538], \"yaxis\": \"y\"}, {\"alignmentgroup\": \"True\", \"hovertemplate\": \"STATE=%{x}<br>JANUARY=%{y}<extra></extra>\", \"legendgroup\": \"NASARAWA STATE\", \"marker\": {\"color\": \"#FFA15A\"}, \"name\": \"NASARAWA STATE\", \"offsetgroup\": \"NASARAWA STATE\", \"orientation\": \"v\", \"showlegend\": true, \"textposition\": \"inside\", \"texttemplate\": \"%{text:.4s}\", \"type\": \"bar\", \"x\": [\"NASARAWA STATE\"], \"xaxis\": \"x\", \"y\": [2331538383], \"yaxis\": \"y\"}, {\"alignmentgroup\": \"True\", \"hovertemplate\": \"STATE=%{x}<br>JANUARY=%{y}<extra></extra>\", \"legendgroup\": \"NIGER STATE\", \"marker\": {\"color\": \"#19d3f3\"}, \"name\": \"NIGER STATE\", \"offsetgroup\": \"NIGER STATE\", \"orientation\": \"v\", \"showlegend\": true, \"textposition\": \"inside\", \"texttemplate\": \"%{text:.4s}\", \"type\": \"bar\", \"x\": [\"NIGER STATE\"], \"xaxis\": \"x\", \"y\": [4474574549], \"yaxis\": \"y\"}, {\"alignmentgroup\": \"True\", \"hovertemplate\": \"STATE=%{x}<br>JANUARY=%{y}<extra></extra>\", \"legendgroup\": \"OGUN STATE\", \"marker\": {\"color\": \"#FF6692\"}, \"name\": \"OGUN STATE\", \"offsetgroup\": \"OGUN STATE\", \"orientation\": \"v\", \"showlegend\": true, \"textposition\": \"inside\", \"texttemplate\": \"%{text:.4s}\", \"type\": \"bar\", \"x\": [\"OGUN STATE\"], \"xaxis\": \"x\", \"y\": [3257818118], \"yaxis\": \"y\"}, {\"alignmentgroup\": \"True\", \"hovertemplate\": \"STATE=%{x}<br>JANUARY=%{y}<extra></extra>\", \"legendgroup\": \"ONDO STATE\", \"marker\": {\"color\": \"#B6E880\"}, \"name\": \"ONDO STATE\", \"offsetgroup\": \"ONDO STATE\", \"orientation\": \"v\", \"showlegend\": true, \"textposition\": \"inside\", \"texttemplate\": \"%{text:.4s}\", \"type\": \"bar\", \"x\": [\"ONDO STATE\"], \"xaxis\": \"x\", \"y\": [3077195375], \"yaxis\": \"y\"}, {\"alignmentgroup\": \"True\", \"hovertemplate\": \"STATE=%{x}<br>JANUARY=%{y}<extra></extra>\", \"legendgroup\": \"OSUN STATE\", \"marker\": {\"color\": \"#FF97FF\"}, \"name\": \"OSUN STATE\", \"offsetgroup\": \"OSUN STATE\", \"orientation\": \"v\", \"showlegend\": true, \"textposition\": \"inside\", \"texttemplate\": \"%{text:.4s}\", \"type\": \"bar\", \"x\": [\"OSUN STATE\"], \"xaxis\": \"x\", \"y\": [4175016861], \"yaxis\": \"y\"}, {\"alignmentgroup\": \"True\", \"hovertemplate\": \"STATE=%{x}<br>JANUARY=%{y}<extra></extra>\", \"legendgroup\": \"OYO STATE\", \"marker\": {\"color\": \"#FECB52\"}, \"name\": \"OYO STATE\", \"offsetgroup\": \"OYO STATE\", \"orientation\": \"v\", \"showlegend\": true, \"textposition\": \"inside\", \"texttemplate\": \"%{text:.4s}\", \"type\": \"bar\", \"x\": [\"OYO STATE\"], \"xaxis\": \"x\", \"y\": [5485914128], \"yaxis\": \"y\"}, {\"alignmentgroup\": \"True\", \"hovertemplate\": \"STATE=%{x}<br>JANUARY=%{y}<extra></extra>\", \"legendgroup\": \"PLATEAU STATE\", \"marker\": {\"color\": \"#636efa\"}, \"name\": \"PLATEAU STATE\", \"offsetgroup\": \"PLATEAU STATE\", \"orientation\": \"v\", \"showlegend\": true, \"textposition\": \"inside\", \"texttemplate\": \"%{text:.4s}\", \"type\": \"bar\", \"x\": [\"PLATEAU STATE\"], \"xaxis\": \"x\", \"y\": [3286595425], \"yaxis\": \"y\"}, {\"alignmentgroup\": \"True\", \"hovertemplate\": \"STATE=%{x}<br>JANUARY=%{y}<extra></extra>\", \"legendgroup\": \"RIVERS STATE\", \"marker\": {\"color\": \"#EF553B\"}, \"name\": \"RIVERS STATE\", \"offsetgroup\": \"RIVERS STATE\", \"orientation\": \"v\", \"showlegend\": true, \"textposition\": \"inside\", \"texttemplate\": \"%{text:.4s}\", \"type\": \"bar\", \"x\": [\"RIVERS STATE\"], \"xaxis\": \"x\", \"y\": [4397687971], \"yaxis\": \"y\"}, {\"alignmentgroup\": \"True\", \"hovertemplate\": \"STATE=%{x}<br>JANUARY=%{y}<extra></extra>\", \"legendgroup\": \"SOKOTO STATE\", \"marker\": {\"color\": \"#00cc96\"}, \"name\": \"SOKOTO STATE\", \"offsetgroup\": \"SOKOTO STATE\", \"orientation\": \"v\", \"showlegend\": true, \"textposition\": \"inside\", \"texttemplate\": \"%{text:.4s}\", \"type\": \"bar\", \"x\": [\"SOKOTO STATE\"], \"xaxis\": \"x\", \"y\": [4033661924], \"yaxis\": \"y\"}, {\"alignmentgroup\": \"True\", \"hovertemplate\": \"STATE=%{x}<br>JANUARY=%{y}<extra></extra>\", \"legendgroup\": \"TARABA STATE\", \"marker\": {\"color\": \"#ab63fa\"}, \"name\": \"TARABA STATE\", \"offsetgroup\": \"TARABA STATE\", \"orientation\": \"v\", \"showlegend\": true, \"textposition\": \"inside\", \"texttemplate\": \"%{text:.4s}\", \"type\": \"bar\", \"x\": [\"TARABA STATE\"], \"xaxis\": \"x\", \"y\": [2991411433], \"yaxis\": \"y\"}, {\"alignmentgroup\": \"True\", \"hovertemplate\": \"STATE=%{x}<br>JANUARY=%{y}<extra></extra>\", \"legendgroup\": \"YOBE STATE\", \"marker\": {\"color\": \"#FFA15A\"}, \"name\": \"YOBE STATE\", \"offsetgroup\": \"YOBE STATE\", \"orientation\": \"v\", \"showlegend\": true, \"textposition\": \"inside\", \"texttemplate\": \"%{text:.4s}\", \"type\": \"bar\", \"x\": [\"YOBE STATE\"], \"xaxis\": \"x\", \"y\": [3034000626], \"yaxis\": \"y\"}, {\"alignmentgroup\": \"True\", \"hovertemplate\": \"STATE=%{x}<br>JANUARY=%{y}<extra></extra>\", \"legendgroup\": \"ZAMFARA STATE\", \"marker\": {\"color\": \"#19d3f3\"}, \"name\": \"ZAMFARA STATE\", \"offsetgroup\": \"ZAMFARA STATE\", \"orientation\": \"v\", \"showlegend\": true, \"textposition\": \"inside\", \"texttemplate\": \"%{text:.4s}\", \"type\": \"bar\", \"x\": [\"ZAMFARA STATE\"], \"xaxis\": \"x\", \"y\": [2788370911], \"yaxis\": \"y\"}, {\"alignmentgroup\": \"True\", \"hovertemplate\": \"STATE=%{x}<br>JANUARY=%{y}<extra></extra>\", \"legendgroup\": \"FEDERAL CAPITAL TERRITORY (FCT)\", \"marker\": {\"color\": \"#FF6692\"}, \"name\": \"FEDERAL CAPITAL TERRITORY (FCT)\", \"offsetgroup\": \"FEDERAL CAPITAL TERRITORY (FCT)\", \"orientation\": \"v\", \"showlegend\": true, \"textposition\": \"inside\", \"texttemplate\": \"%{text:.4s}\", \"type\": \"bar\", \"x\": [\"FEDERAL CAPITAL TERRITORY (FCT)\"], \"xaxis\": \"x\", \"y\": [3495755856], \"yaxis\": \"y\"}],                        {\"barmode\": \"relative\", \"height\": 750, \"legend\": {\"title\": {\"text\": \"STATE\"}, \"tracegroupgap\": 0}, \"margin\": {\"t\": 60}, \"template\": {\"data\": {\"bar\": [{\"error_x\": {\"color\": \"#2a3f5f\"}, \"error_y\": {\"color\": \"#2a3f5f\"}, \"marker\": {\"line\": {\"color\": \"#E5ECF6\", \"width\": 0.5}}, \"type\": \"bar\"}], \"barpolar\": [{\"marker\": {\"line\": {\"color\": \"#E5ECF6\", \"width\": 0.5}}, \"type\": \"barpolar\"}], \"carpet\": [{\"aaxis\": {\"endlinecolor\": \"#2a3f5f\", \"gridcolor\": \"white\", \"linecolor\": \"white\", \"minorgridcolor\": \"white\", \"startlinecolor\": \"#2a3f5f\"}, \"baxis\": {\"endlinecolor\": \"#2a3f5f\", \"gridcolor\": \"white\", \"linecolor\": \"white\", \"minorgridcolor\": \"white\", \"startlinecolor\": \"#2a3f5f\"}, \"type\": \"carpet\"}], \"choropleth\": [{\"colorbar\": {\"outlinewidth\": 0, \"ticks\": \"\"}, \"type\": \"choropleth\"}], \"contour\": [{\"colorbar\": {\"outlinewidth\": 0, \"ticks\": \"\"}, \"colorscale\": [[0.0, \"#0d0887\"], [0.1111111111111111, \"#46039f\"], [0.2222222222222222, \"#7201a8\"], [0.3333333333333333, \"#9c179e\"], [0.4444444444444444, \"#bd3786\"], [0.5555555555555556, \"#d8576b\"], [0.6666666666666666, \"#ed7953\"], [0.7777777777777778, \"#fb9f3a\"], [0.8888888888888888, \"#fdca26\"], [1.0, \"#f0f921\"]], \"type\": \"contour\"}], \"contourcarpet\": [{\"colorbar\": {\"outlinewidth\": 0, \"ticks\": \"\"}, \"type\": \"contourcarpet\"}], \"heatmap\": [{\"colorbar\": {\"outlinewidth\": 0, \"ticks\": \"\"}, \"colorscale\": [[0.0, \"#0d0887\"], [0.1111111111111111, \"#46039f\"], [0.2222222222222222, \"#7201a8\"], [0.3333333333333333, \"#9c179e\"], [0.4444444444444444, \"#bd3786\"], [0.5555555555555556, \"#d8576b\"], [0.6666666666666666, \"#ed7953\"], [0.7777777777777778, \"#fb9f3a\"], [0.8888888888888888, \"#fdca26\"], [1.0, \"#f0f921\"]], \"type\": \"heatmap\"}], \"heatmapgl\": [{\"colorbar\": {\"outlinewidth\": 0, \"ticks\": \"\"}, \"colorscale\": [[0.0, \"#0d0887\"], [0.1111111111111111, \"#46039f\"], [0.2222222222222222, \"#7201a8\"], [0.3333333333333333, \"#9c179e\"], [0.4444444444444444, \"#bd3786\"], [0.5555555555555556, \"#d8576b\"], [0.6666666666666666, \"#ed7953\"], [0.7777777777777778, \"#fb9f3a\"], [0.8888888888888888, \"#fdca26\"], [1.0, \"#f0f921\"]], \"type\": \"heatmapgl\"}], \"histogram\": [{\"marker\": {\"colorbar\": {\"outlinewidth\": 0, \"ticks\": \"\"}}, \"type\": \"histogram\"}], \"histogram2d\": [{\"colorbar\": {\"outlinewidth\": 0, \"ticks\": \"\"}, \"colorscale\": [[0.0, \"#0d0887\"], [0.1111111111111111, \"#46039f\"], [0.2222222222222222, \"#7201a8\"], [0.3333333333333333, \"#9c179e\"], [0.4444444444444444, \"#bd3786\"], [0.5555555555555556, \"#d8576b\"], [0.6666666666666666, \"#ed7953\"], [0.7777777777777778, \"#fb9f3a\"], [0.8888888888888888, \"#fdca26\"], [1.0, \"#f0f921\"]], \"type\": \"histogram2d\"}], \"histogram2dcontour\": [{\"colorbar\": {\"outlinewidth\": 0, \"ticks\": \"\"}, \"colorscale\": [[0.0, \"#0d0887\"], [0.1111111111111111, \"#46039f\"], [0.2222222222222222, \"#7201a8\"], [0.3333333333333333, \"#9c179e\"], [0.4444444444444444, \"#bd3786\"], [0.5555555555555556, \"#d8576b\"], [0.6666666666666666, \"#ed7953\"], [0.7777777777777778, \"#fb9f3a\"], [0.8888888888888888, \"#fdca26\"], [1.0, \"#f0f921\"]], \"type\": \"histogram2dcontour\"}], \"mesh3d\": [{\"colorbar\": {\"outlinewidth\": 0, \"ticks\": \"\"}, \"type\": \"mesh3d\"}], \"parcoords\": [{\"line\": {\"colorbar\": {\"outlinewidth\": 0, \"ticks\": \"\"}}, \"type\": \"parcoords\"}], \"pie\": [{\"automargin\": true, \"type\": \"pie\"}], \"scatter\": [{\"marker\": {\"colorbar\": {\"outlinewidth\": 0, \"ticks\": \"\"}}, \"type\": \"scatter\"}], \"scatter3d\": [{\"line\": {\"colorbar\": {\"outlinewidth\": 0, \"ticks\": \"\"}}, \"marker\": {\"colorbar\": {\"outlinewidth\": 0, \"ticks\": \"\"}}, \"type\": \"scatter3d\"}], \"scattercarpet\": [{\"marker\": {\"colorbar\": {\"outlinewidth\": 0, \"ticks\": \"\"}}, \"type\": \"scattercarpet\"}], \"scattergeo\": [{\"marker\": {\"colorbar\": {\"outlinewidth\": 0, \"ticks\": \"\"}}, \"type\": \"scattergeo\"}], \"scattergl\": [{\"marker\": {\"colorbar\": {\"outlinewidth\": 0, \"ticks\": \"\"}}, \"type\": \"scattergl\"}], \"scattermapbox\": [{\"marker\": {\"colorbar\": {\"outlinewidth\": 0, \"ticks\": \"\"}}, \"type\": \"scattermapbox\"}], \"scatterpolar\": [{\"marker\": {\"colorbar\": {\"outlinewidth\": 0, \"ticks\": \"\"}}, \"type\": \"scatterpolar\"}], \"scatterpolargl\": [{\"marker\": {\"colorbar\": {\"outlinewidth\": 0, \"ticks\": \"\"}}, \"type\": \"scatterpolargl\"}], \"scatterternary\": [{\"marker\": {\"colorbar\": {\"outlinewidth\": 0, \"ticks\": \"\"}}, \"type\": \"scatterternary\"}], \"surface\": [{\"colorbar\": {\"outlinewidth\": 0, \"ticks\": \"\"}, \"colorscale\": [[0.0, \"#0d0887\"], [0.1111111111111111, \"#46039f\"], [0.2222222222222222, \"#7201a8\"], [0.3333333333333333, \"#9c179e\"], [0.4444444444444444, \"#bd3786\"], [0.5555555555555556, \"#d8576b\"], [0.6666666666666666, \"#ed7953\"], [0.7777777777777778, \"#fb9f3a\"], [0.8888888888888888, \"#fdca26\"], [1.0, \"#f0f921\"]], \"type\": \"surface\"}], \"table\": [{\"cells\": {\"fill\": {\"color\": \"#EBF0F8\"}, \"line\": {\"color\": \"white\"}}, \"header\": {\"fill\": {\"color\": \"#C8D4E3\"}, \"line\": {\"color\": \"white\"}}, \"type\": \"table\"}]}, \"layout\": {\"annotationdefaults\": {\"arrowcolor\": \"#2a3f5f\", \"arrowhead\": 0, \"arrowwidth\": 1}, \"autotypenumbers\": \"strict\", \"coloraxis\": {\"colorbar\": {\"outlinewidth\": 0, \"ticks\": \"\"}}, \"colorscale\": {\"diverging\": [[0, \"#8e0152\"], [0.1, \"#c51b7d\"], [0.2, \"#de77ae\"], [0.3, \"#f1b6da\"], [0.4, \"#fde0ef\"], [0.5, \"#f7f7f7\"], [0.6, \"#e6f5d0\"], [0.7, \"#b8e186\"], [0.8, \"#7fbc41\"], [0.9, \"#4d9221\"], [1, \"#276419\"]], \"sequential\": [[0.0, \"#0d0887\"], [0.1111111111111111, \"#46039f\"], [0.2222222222222222, \"#7201a8\"], [0.3333333333333333, \"#9c179e\"], [0.4444444444444444, \"#bd3786\"], [0.5555555555555556, \"#d8576b\"], [0.6666666666666666, \"#ed7953\"], [0.7777777777777778, \"#fb9f3a\"], [0.8888888888888888, \"#fdca26\"], [1.0, \"#f0f921\"]], \"sequentialminus\": [[0.0, \"#0d0887\"], [0.1111111111111111, \"#46039f\"], [0.2222222222222222, \"#7201a8\"], [0.3333333333333333, \"#9c179e\"], [0.4444444444444444, \"#bd3786\"], [0.5555555555555556, \"#d8576b\"], [0.6666666666666666, \"#ed7953\"], [0.7777777777777778, \"#fb9f3a\"], [0.8888888888888888, \"#fdca26\"], [1.0, \"#f0f921\"]]}, \"colorway\": [\"#636efa\", \"#EF553B\", \"#00cc96\", \"#ab63fa\", \"#FFA15A\", \"#19d3f3\", \"#FF6692\", \"#B6E880\", \"#FF97FF\", \"#FECB52\"], \"font\": {\"color\": \"#2a3f5f\"}, \"geo\": {\"bgcolor\": \"white\", \"lakecolor\": \"white\", \"landcolor\": \"#E5ECF6\", \"showlakes\": true, \"showland\": true, \"subunitcolor\": \"white\"}, \"hoverlabel\": {\"align\": \"left\"}, \"hovermode\": \"closest\", \"mapbox\": {\"style\": \"light\"}, \"paper_bgcolor\": \"white\", \"plot_bgcolor\": \"#E5ECF6\", \"polar\": {\"angularaxis\": {\"gridcolor\": \"white\", \"linecolor\": \"white\", \"ticks\": \"\"}, \"bgcolor\": \"#E5ECF6\", \"radialaxis\": {\"gridcolor\": \"white\", \"linecolor\": \"white\", \"ticks\": \"\"}}, \"scene\": {\"xaxis\": {\"backgroundcolor\": \"#E5ECF6\", \"gridcolor\": \"white\", \"gridwidth\": 2, \"linecolor\": \"white\", \"showbackground\": true, \"ticks\": \"\", \"zerolinecolor\": \"white\"}, \"yaxis\": {\"backgroundcolor\": \"#E5ECF6\", \"gridcolor\": \"white\", \"gridwidth\": 2, \"linecolor\": \"white\", \"showbackground\": true, \"ticks\": \"\", \"zerolinecolor\": \"white\"}, \"zaxis\": {\"backgroundcolor\": \"#E5ECF6\", \"gridcolor\": \"white\", \"gridwidth\": 2, \"linecolor\": \"white\", \"showbackground\": true, \"ticks\": \"\", \"zerolinecolor\": \"white\"}}, \"shapedefaults\": {\"line\": {\"color\": \"#2a3f5f\"}}, \"ternary\": {\"aaxis\": {\"gridcolor\": \"white\", \"linecolor\": \"white\", \"ticks\": \"\"}, \"baxis\": {\"gridcolor\": \"white\", \"linecolor\": \"white\", \"ticks\": \"\"}, \"bgcolor\": \"#E5ECF6\", \"caxis\": {\"gridcolor\": \"white\", \"linecolor\": \"white\", \"ticks\": \"\"}}, \"title\": {\"x\": 0.05}, \"xaxis\": {\"automargin\": true, \"gridcolor\": \"white\", \"linecolor\": \"white\", \"ticks\": \"\", \"title\": {\"standoff\": 15}, \"zerolinecolor\": \"white\", \"zerolinewidth\": 2}, \"yaxis\": {\"automargin\": true, \"gridcolor\": \"white\", \"linecolor\": \"white\", \"ticks\": \"\", \"title\": {\"standoff\": 15}, \"zerolinecolor\": \"white\", \"zerolinewidth\": 2}}}, \"title\": {\"text\": \"FAAC_2020\", \"x\": 0.5, \"y\": 0.8}, \"uniformtext\": {\"minsize\": 12, \"mode\": \"hide\"}, \"width\": 1000, \"xaxis\": {\"anchor\": \"y\", \"categoryarray\": [\"ABIA STATE\", \"ADAMAWA STATE\", \"AKWA IBOW STATE\", \"ANAMBRA STATE\", \"BAUCHI STATE\", \"BAYELSA STATE\", \"BENUE STATE\", \"BORNO STATE\", \"CROSS-RIVER STATE\", \"DELTA STATE\", \"EBONYI STATE\", \"EDO STATE\", \"EKITI STATE\", \"ENUGU STATE\", \"GOMBE STATE\", \"IMO STATE\", \"JIGAWA STATE\", \"KADUNA STATE\", \"KANO STATE\", \"KATSINA STATE\", \"KEBBI STATE\", \"KOGI STATE\", \"KWARA STATE\", \"LAGOS STATE\", \"NASARAWA STATE\", \"NIGER STATE\", \"OGUN STATE\", \"ONDO STATE\", \"OSUN STATE\", \"OYO STATE\", \"PLATEAU STATE\", \"RIVERS STATE\", \"SOKOTO STATE\", \"TARABA STATE\", \"YOBE STATE\", \"ZAMFARA STATE\", \"FEDERAL CAPITAL TERRITORY (FCT)\"], \"categoryorder\": \"array\", \"domain\": [0.0, 1.0], \"title\": {\"text\": \"STATE\"}}, \"yaxis\": {\"anchor\": \"x\", \"domain\": [0.0, 1.0], \"title\": {\"text\": \"JANUARY\"}}},                        {\"responsive\": true}                    ).then(function(){\n",
       "                            \n",
       "var gd = document.getElementById('7336f32c-d962-4ee1-a210-3b41b666e87a');\n",
       "var x = new MutationObserver(function (mutations, observer) {{\n",
       "        var display = window.getComputedStyle(gd).display;\n",
       "        if (!display || display === 'none') {{\n",
       "            console.log([gd, 'removed!']);\n",
       "            Plotly.purge(gd);\n",
       "            observer.disconnect();\n",
       "        }}\n",
       "}});\n",
       "\n",
       "// Listen for the removal of the full notebook cells\n",
       "var notebookContainer = gd.closest('#notebook-container');\n",
       "if (notebookContainer) {{\n",
       "    x.observe(notebookContainer, {childList: true});\n",
       "}}\n",
       "\n",
       "// Listen for the clearing of the current output cell\n",
       "var outputEl = gd.closest('.output');\n",
       "if (outputEl) {{\n",
       "    x.observe(outputEl, {childList: true});\n",
       "}}\n",
       "\n",
       "                        })                };                });            </script>        </div>"
      ]
     },
     "metadata": {},
     "output_type": "display_data"
    }
   ],
   "source": [
    "fig=px.bar(FAAC_2020, y = \"JANUARY\", x = \"STATE\",orientation = \"v\", color =\"STATE\")\n",
    "fig.update_traces(texttemplate=\"%{text:.4s}\", textposition=\"inside\")\n",
    "fig.update_layout(uniformtext_minsize= 12, uniformtext_mode= \"hide\")\n",
    "fig.update_layout(\n",
    "    title = {\n",
    "       \"text\":\"FAAC_2020\",\n",
    "       \"y\":0.8,\n",
    "       \"x\":0.5,\n",
    "       },height = 750, width = 1000)"
   ]
  },
  {
   "cell_type": "code",
   "execution_count": 60,
   "metadata": {},
   "outputs": [
    {
     "data": {
      "application/vnd.plotly.v1+json": {
       "config": {
        "plotlyServerURL": "https://plot.ly"
       },
       "data": [
        {
         "alignmentgroup": "True",
         "hovertemplate": "STATE=%{x}<br>FEBRUARY=%{y}<extra></extra>",
         "legendgroup": "ABIA STATE",
         "marker": {
          "color": "#636efa"
         },
         "name": "ABIA STATE",
         "offsetgroup": "ABIA STATE",
         "orientation": "v",
         "showlegend": true,
         "textposition": "outside",
         "texttemplate": "%{text:.4s}",
         "type": "bar",
         "x": [
          "ABIA STATE"
         ],
         "xaxis": "x",
         "y": [
          2646920172
         ],
         "yaxis": "y"
        },
        {
         "alignmentgroup": "True",
         "hovertemplate": "STATE=%{x}<br>FEBRUARY=%{y}<extra></extra>",
         "legendgroup": "ADAMAWA STATE",
         "marker": {
          "color": "#EF553B"
         },
         "name": "ADAMAWA STATE",
         "offsetgroup": "ADAMAWA STATE",
         "orientation": "v",
         "showlegend": true,
         "textposition": "outside",
         "texttemplate": "%{text:.4s}",
         "type": "bar",
         "x": [
          "ADAMAWA STATE"
         ],
         "xaxis": "x",
         "y": [
          3299781555
         ],
         "yaxis": "y"
        },
        {
         "alignmentgroup": "True",
         "hovertemplate": "STATE=%{x}<br>FEBRUARY=%{y}<extra></extra>",
         "legendgroup": "AKWA IBOW STATE",
         "marker": {
          "color": "#00cc96"
         },
         "name": "AKWA IBOW STATE",
         "offsetgroup": "AKWA IBOW STATE",
         "orientation": "v",
         "showlegend": true,
         "textposition": "outside",
         "texttemplate": "%{text:.4s}",
         "type": "bar",
         "x": [
          "AKWA IBOW STATE"
         ],
         "xaxis": "x",
         "y": [
          4480229192
         ],
         "yaxis": "y"
        },
        {
         "alignmentgroup": "True",
         "hovertemplate": "STATE=%{x}<br>FEBRUARY=%{y}<extra></extra>",
         "legendgroup": "ANAMBRA STATE",
         "marker": {
          "color": "#ab63fa"
         },
         "name": "ANAMBRA STATE",
         "offsetgroup": "ANAMBRA STATE",
         "orientation": "v",
         "showlegend": true,
         "textposition": "outside",
         "texttemplate": "%{text:.4s}",
         "type": "bar",
         "x": [
          "ANAMBRA STATE"
         ],
         "xaxis": "x",
         "y": [
          3379305620
         ],
         "yaxis": "y"
        },
        {
         "alignmentgroup": "True",
         "hovertemplate": "STATE=%{x}<br>FEBRUARY=%{y}<extra></extra>",
         "legendgroup": "BAUCHI STATE",
         "marker": {
          "color": "#FFA15A"
         },
         "name": "BAUCHI STATE",
         "offsetgroup": "BAUCHI STATE",
         "orientation": "v",
         "showlegend": true,
         "textposition": "outside",
         "texttemplate": "%{text:.4s}",
         "type": "bar",
         "x": [
          "BAUCHI STATE"
         ],
         "xaxis": "x",
         "y": [
          3738855319
         ],
         "yaxis": "y"
        },
        {
         "alignmentgroup": "True",
         "hovertemplate": "STATE=%{x}<br>FEBRUARY=%{y}<extra></extra>",
         "legendgroup": "BAYELSA STATE",
         "marker": {
          "color": "#19d3f3"
         },
         "name": "BAYELSA STATE",
         "offsetgroup": "BAYELSA STATE",
         "orientation": "v",
         "showlegend": true,
         "textposition": "outside",
         "texttemplate": "%{text:.4s}",
         "type": "bar",
         "x": [
          "BAYELSA STATE"
         ],
         "xaxis": "x",
         "y": [
          1550936159
         ],
         "yaxis": "y"
        },
        {
         "alignmentgroup": "True",
         "hovertemplate": "STATE=%{x}<br>FEBRUARY=%{y}<extra></extra>",
         "legendgroup": "BENUE STATE",
         "marker": {
          "color": "#FF6692"
         },
         "name": "BENUE STATE",
         "offsetgroup": "BENUE STATE",
         "orientation": "v",
         "showlegend": true,
         "textposition": "outside",
         "texttemplate": "%{text:.4s}",
         "type": "bar",
         "x": [
          "BENUE STATE"
         ],
         "xaxis": "x",
         "y": [
          3896596114
         ],
         "yaxis": "y"
        },
        {
         "alignmentgroup": "True",
         "hovertemplate": "STATE=%{x}<br>FEBRUARY=%{y}<extra></extra>",
         "legendgroup": "BORNO STATE",
         "marker": {
          "color": "#B6E880"
         },
         "name": "BORNO STATE",
         "offsetgroup": "BORNO STATE",
         "orientation": "v",
         "showlegend": true,
         "textposition": "outside",
         "texttemplate": "%{text:.4s}",
         "type": "bar",
         "x": [
          "BORNO STATE"
         ],
         "xaxis": "x",
         "y": [
          4397582151
         ],
         "yaxis": "y"
        },
        {
         "alignmentgroup": "True",
         "hovertemplate": "STATE=%{x}<br>FEBRUARY=%{y}<extra></extra>",
         "legendgroup": "CROSS-RIVER STATE",
         "marker": {
          "color": "#FF97FF"
         },
         "name": "CROSS-RIVER STATE",
         "offsetgroup": "CROSS-RIVER STATE",
         "orientation": "v",
         "showlegend": true,
         "textposition": "outside",
         "texttemplate": "%{text:.4s}",
         "type": "bar",
         "x": [
          "CROSS-RIVER STATE"
         ],
         "xaxis": "x",
         "y": [
          2824287948
         ],
         "yaxis": "y"
        },
        {
         "alignmentgroup": "True",
         "hovertemplate": "STATE=%{x}<br>FEBRUARY=%{y}<extra></extra>",
         "legendgroup": "DELTA STATE",
         "marker": {
          "color": "#FECB52"
         },
         "name": "DELTA STATE",
         "offsetgroup": "DELTA STATE",
         "orientation": "v",
         "showlegend": true,
         "textposition": "outside",
         "texttemplate": "%{text:.4s}",
         "type": "bar",
         "x": [
          "DELTA STATE"
         ],
         "xaxis": "x",
         "y": [
          3804384843
         ],
         "yaxis": "y"
        },
        {
         "alignmentgroup": "True",
         "hovertemplate": "STATE=%{x}<br>FEBRUARY=%{y}<extra></extra>",
         "legendgroup": "EBONYI STATE",
         "marker": {
          "color": "#636efa"
         },
         "name": "EBONYI STATE",
         "offsetgroup": "EBONYI STATE",
         "orientation": "v",
         "showlegend": true,
         "textposition": "outside",
         "texttemplate": "%{text:.4s}",
         "type": "bar",
         "x": [
          "EBONYI STATE"
         ],
         "xaxis": "x",
         "y": [
          2101351354
         ],
         "yaxis": "y"
        },
        {
         "alignmentgroup": "True",
         "hovertemplate": "STATE=%{x}<br>FEBRUARY=%{y}<extra></extra>",
         "legendgroup": "EDO STATE",
         "marker": {
          "color": "#EF553B"
         },
         "name": "EDO STATE",
         "offsetgroup": "EDO STATE",
         "orientation": "v",
         "showlegend": true,
         "textposition": "outside",
         "texttemplate": "%{text:.4s}",
         "type": "bar",
         "x": [
          "EDO STATE"
         ],
         "xaxis": "x",
         "y": [
          2646920172
         ],
         "yaxis": "y"
        },
        {
         "alignmentgroup": "True",
         "hovertemplate": "STATE=%{x}<br>FEBRUARY=%{y}<extra></extra>",
         "legendgroup": "EKITI STATE",
         "marker": {
          "color": "#00cc96"
         },
         "name": "EKITI STATE",
         "offsetgroup": "EKITI STATE",
         "orientation": "v",
         "showlegend": true,
         "textposition": "outside",
         "texttemplate": "%{text:.4s}",
         "type": "bar",
         "x": [
          "EKITI STATE"
         ],
         "xaxis": "x",
         "y": [
          2284185260
         ],
         "yaxis": "y"
        },
        {
         "alignmentgroup": "True",
         "hovertemplate": "STATE=%{x}<br>FEBRUARY=%{y}<extra></extra>",
         "legendgroup": "ENUGU STATE",
         "marker": {
          "color": "#ab63fa"
         },
         "name": "ENUGU STATE",
         "offsetgroup": "ENUGU STATE",
         "orientation": "v",
         "showlegend": true,
         "textposition": "outside",
         "texttemplate": "%{text:.4s}",
         "type": "bar",
         "x": [
          "ENUGU STATE"
         ],
         "xaxis": "x",
         "y": [
          2909767031
         ],
         "yaxis": "y"
        },
        {
         "alignmentgroup": "True",
         "hovertemplate": "STATE=%{x}<br>FEBRUARY=%{y}<extra></extra>",
         "legendgroup": "GOMBE STATE",
         "marker": {
          "color": "#FFA15A"
         },
         "name": "GOMBE STATE",
         "offsetgroup": "GOMBE STATE",
         "orientation": "v",
         "showlegend": true,
         "textposition": "outside",
         "texttemplate": "%{text:.4s}",
         "type": "bar",
         "x": [
          "GOMBE STATE"
         ],
         "xaxis": "x",
         "y": [
          1926192829
         ],
         "yaxis": "y"
        },
        {
         "alignmentgroup": "True",
         "hovertemplate": "STATE=%{x}<br>FEBRUARY=%{y}<extra></extra>",
         "legendgroup": "IMO STATE",
         "marker": {
          "color": "#19d3f3"
         },
         "name": "IMO STATE",
         "offsetgroup": "IMO STATE",
         "orientation": "v",
         "showlegend": true,
         "textposition": "outside",
         "texttemplate": "%{text:.4s}",
         "type": "bar",
         "x": [
          "IMO STATE"
         ],
         "xaxis": "x",
         "y": [
          3894200504
         ],
         "yaxis": "y"
        },
        {
         "alignmentgroup": "True",
         "hovertemplate": "STATE=%{x}<br>FEBRUARY=%{y}<extra></extra>",
         "legendgroup": "JIGAWA STATE",
         "marker": {
          "color": "#FF6692"
         },
         "name": "JIGAWA STATE",
         "offsetgroup": "JIGAWA STATE",
         "orientation": "v",
         "showlegend": true,
         "textposition": "outside",
         "texttemplate": "%{text:.4s}",
         "type": "bar",
         "x": [
          "JIGAWA STATE"
         ],
         "xaxis": "x",
         "y": [
          4093227775
         ],
         "yaxis": "y"
        },
        {
         "alignmentgroup": "True",
         "hovertemplate": "STATE=%{x}<br>FEBRUARY=%{y}<extra></extra>",
         "legendgroup": "KADUNA STATE",
         "marker": {
          "color": "#B6E880"
         },
         "name": "KADUNA STATE",
         "offsetgroup": "KADUNA STATE",
         "orientation": "v",
         "showlegend": true,
         "textposition": "outside",
         "texttemplate": "%{text:.4s}",
         "type": "bar",
         "x": [
          "KADUNA STATE"
         ],
         "xaxis": "x",
         "y": [
          4570622569
         ],
         "yaxis": "y"
        },
        {
         "alignmentgroup": "True",
         "hovertemplate": "STATE=%{x}<br>FEBRUARY=%{y}<extra></extra>",
         "legendgroup": "KANO STATE",
         "marker": {
          "color": "#FF97FF"
         },
         "name": "KANO STATE",
         "offsetgroup": "KANO STATE",
         "orientation": "v",
         "showlegend": true,
         "textposition": "outside",
         "texttemplate": "%{text:.4s}",
         "type": "bar",
         "x": [
          "KANO STATE"
         ],
         "xaxis": "x",
         "y": [
          7398160643
         ],
         "yaxis": "y"
        },
        {
         "alignmentgroup": "True",
         "hovertemplate": "STATE=%{x}<br>FEBRUARY=%{y}<extra></extra>",
         "legendgroup": "KATSINA STATE",
         "marker": {
          "color": "#FECB52"
         },
         "name": "KATSINA STATE",
         "offsetgroup": "KATSINA STATE",
         "orientation": "v",
         "showlegend": true,
         "textposition": "outside",
         "texttemplate": "%{text:.4s}",
         "type": "bar",
         "x": [
          "KATSINA STATE"
         ],
         "xaxis": "x",
         "y": [
          5483658073
         ],
         "yaxis": "y"
        },
        {
         "alignmentgroup": "True",
         "hovertemplate": "STATE=%{x}<br>FEBRUARY=%{y}<extra></extra>",
         "legendgroup": "KEBBI STATE",
         "marker": {
          "color": "#636efa"
         },
         "name": "KEBBI STATE",
         "offsetgroup": "KEBBI STATE",
         "orientation": "v",
         "showlegend": true,
         "textposition": "outside",
         "texttemplate": "%{text:.4s}",
         "type": "bar",
         "x": [
          "KEBBI STATE"
         ],
         "xaxis": "x",
         "y": [
          3426525330
         ],
         "yaxis": "y"
        },
        {
         "alignmentgroup": "True",
         "hovertemplate": "STATE=%{x}<br>FEBRUARY=%{y}<extra></extra>",
         "legendgroup": "KOGI STATE",
         "marker": {
          "color": "#EF553B"
         },
         "name": "KOGI STATE",
         "offsetgroup": "KOGI STATE",
         "orientation": "v",
         "showlegend": true,
         "textposition": "outside",
         "texttemplate": "%{text:.4s}",
         "type": "bar",
         "x": [
          "KOGI STATE"
         ],
         "xaxis": "x",
         "y": [
          3145886161
         ],
         "yaxis": "y"
        },
        {
         "alignmentgroup": "True",
         "hovertemplate": "STATE=%{x}<br>FEBRUARY=%{y}<extra></extra>",
         "legendgroup": "KWARA STATE",
         "marker": {
          "color": "#00cc96"
         },
         "name": "KWARA STATE",
         "offsetgroup": "KWARA STATE",
         "orientation": "v",
         "showlegend": true,
         "textposition": "outside",
         "texttemplate": "%{text:.4s}",
         "type": "bar",
         "x": [
          "KWARA STATE"
         ],
         "xaxis": "x",
         "y": [
          2529008029
         ],
         "yaxis": "y"
        },
        {
         "alignmentgroup": "True",
         "hovertemplate": "STATE=%{x}<br>FEBRUARY=%{y}<extra></extra>",
         "legendgroup": "LAGOS STATE",
         "marker": {
          "color": "#ab63fa"
         },
         "name": "LAGOS STATE",
         "offsetgroup": "LAGOS STATE",
         "orientation": "v",
         "showlegend": true,
         "textposition": "outside",
         "texttemplate": "%{text:.4s}",
         "type": "bar",
         "x": [
          "LAGOS STATE"
         ],
         "xaxis": "x",
         "y": [
          8865922888
         ],
         "yaxis": "y"
        },
        {
         "alignmentgroup": "True",
         "hovertemplate": "STATE=%{x}<br>FEBRUARY=%{y}<extra></extra>",
         "legendgroup": "NASARAWA STATE",
         "marker": {
          "color": "#FFA15A"
         },
         "name": "NASARAWA STATE",
         "offsetgroup": "NASARAWA STATE",
         "orientation": "v",
         "showlegend": true,
         "textposition": "outside",
         "texttemplate": "%{text:.4s}",
         "type": "bar",
         "x": [
          "NASARAWA STATE"
         ],
         "xaxis": "x",
         "y": [
          2161846216
         ],
         "yaxis": "y"
        },
        {
         "alignmentgroup": "True",
         "hovertemplate": "STATE=%{x}<br>FEBRUARY=%{y}<extra></extra>",
         "legendgroup": "NIGER STATE",
         "marker": {
          "color": "#19d3f3"
         },
         "name": "NIGER STATE",
         "offsetgroup": "NIGER STATE",
         "orientation": "v",
         "showlegend": true,
         "textposition": "outside",
         "texttemplate": "%{text:.4s}",
         "type": "bar",
         "x": [
          "NIGER STATE"
         ],
         "xaxis": "x",
         "y": [
          4132468392
         ],
         "yaxis": "y"
        },
        {
         "alignmentgroup": "True",
         "hovertemplate": "STATE=%{x}<br>FEBRUARY=%{y}<extra></extra>",
         "legendgroup": "OGUN STATE",
         "marker": {
          "color": "#FF6692"
         },
         "name": "OGUN STATE",
         "offsetgroup": "OGUN STATE",
         "orientation": "v",
         "showlegend": true,
         "textposition": "outside",
         "texttemplate": "%{text:.4s}",
         "type": "bar",
         "x": [
          "OGUN STATE"
         ],
         "xaxis": "x",
         "y": [
          3004365115
         ],
         "yaxis": "y"
        },
        {
         "alignmentgroup": "True",
         "hovertemplate": "STATE=%{x}<br>FEBRUARY=%{y}<extra></extra>",
         "legendgroup": "ONDO STATE",
         "marker": {
          "color": "#B6E880"
         },
         "name": "ONDO STATE",
         "offsetgroup": "ONDO STATE",
         "orientation": "v",
         "showlegend": true,
         "textposition": "outside",
         "texttemplate": "%{text:.4s}",
         "type": "bar",
         "x": [
          "ONDO STATE"
         ],
         "xaxis": "x",
         "y": [
          2845021778
         ],
         "yaxis": "y"
        },
        {
         "alignmentgroup": "True",
         "hovertemplate": "STATE=%{x}<br>FEBRUARY=%{y}<extra></extra>",
         "legendgroup": "OSUN STATE",
         "marker": {
          "color": "#FF97FF"
         },
         "name": "OSUN STATE",
         "offsetgroup": "OSUN STATE",
         "orientation": "v",
         "showlegend": true,
         "textposition": "outside",
         "texttemplate": "%{text:.4s}",
         "type": "bar",
         "x": [
          "OSUN STATE"
         ],
         "xaxis": "x",
         "y": [
          3857932830
         ],
         "yaxis": "y"
        },
        {
         "alignmentgroup": "True",
         "hovertemplate": "STATE=%{x}<br>FEBRUARY=%{y}<extra></extra>",
         "legendgroup": "OYO STATE",
         "marker": {
          "color": "#FECB52"
         },
         "name": "OYO STATE",
         "offsetgroup": "OYO STATE",
         "orientation": "v",
         "showlegend": true,
         "textposition": "outside",
         "texttemplate": "%{text:.4s}",
         "type": "bar",
         "x": [
          "OYO STATE"
         ],
         "xaxis": "x",
         "y": [
          5098173262
         ],
         "yaxis": "y"
        },
        {
         "alignmentgroup": "True",
         "hovertemplate": "STATE=%{x}<br>FEBRUARY=%{y}<extra></extra>",
         "legendgroup": "PLATEAU STATE",
         "marker": {
          "color": "#636efa"
         },
         "name": "PLATEAU STATE",
         "offsetgroup": "PLATEAU STATE",
         "orientation": "v",
         "showlegend": true,
         "textposition": "outside",
         "texttemplate": "%{text:.4s}",
         "type": "bar",
         "x": [
          "PLATEAU STATE"
         ],
         "xaxis": "x",
         "y": [
          3021310943
         ],
         "yaxis": "y"
        },
        {
         "alignmentgroup": "True",
         "hovertemplate": "STATE=%{x}<br>FEBRUARY=%{y}<extra></extra>",
         "legendgroup": "RIVERS STATE",
         "marker": {
          "color": "#EF553B"
         },
         "name": "RIVERS STATE",
         "offsetgroup": "RIVERS STATE",
         "orientation": "v",
         "showlegend": true,
         "textposition": "outside",
         "texttemplate": "%{text:.4s}",
         "type": "bar",
         "x": [
          "RIVERS STATE"
         ],
         "xaxis": "x",
         "y": [
          3980220127
         ],
         "yaxis": "y"
        },
        {
         "alignmentgroup": "True",
         "hovertemplate": "STATE=%{x}<br>FEBRUARY=%{y}<extra></extra>",
         "legendgroup": "SOKOTO STATE",
         "marker": {
          "color": "#00cc96"
         },
         "name": "SOKOTO STATE",
         "offsetgroup": "SOKOTO STATE",
         "orientation": "v",
         "showlegend": true,
         "textposition": "outside",
         "texttemplate": "%{text:.4s}",
         "type": "bar",
         "x": [
          "SOKOTO STATE"
         ],
         "xaxis": "x",
         "y": [
          3737306445
         ],
         "yaxis": "y"
        },
        {
         "alignmentgroup": "True",
         "hovertemplate": "STATE=%{x}<br>FEBRUARY=%{y}<extra></extra>",
         "legendgroup": "TARABA STATE",
         "marker": {
          "color": "#ab63fa"
         },
         "name": "TARABA STATE",
         "offsetgroup": "TARABA STATE",
         "orientation": "v",
         "showlegend": true,
         "textposition": "outside",
         "texttemplate": "%{text:.4s}",
         "type": "bar",
         "x": [
          "TARABA STATE"
         ],
         "xaxis": "x",
         "y": [
          2796251222
         ],
         "yaxis": "y"
        },
        {
         "alignmentgroup": "True",
         "hovertemplate": "STATE=%{x}<br>FEBRUARY=%{y}<extra></extra>",
         "legendgroup": "YOBE STATE",
         "marker": {
          "color": "#FFA15A"
         },
         "name": "YOBE STATE",
         "offsetgroup": "YOBE STATE",
         "orientation": "v",
         "showlegend": true,
         "textposition": "outside",
         "texttemplate": "%{text:.4s}",
         "type": "bar",
         "x": [
          "YOBE STATE"
         ],
         "xaxis": "x",
         "y": [
          2814349607
         ],
         "yaxis": "y"
        },
        {
         "alignmentgroup": "True",
         "hovertemplate": "STATE=%{x}<br>FEBRUARY=%{y}<extra></extra>",
         "legendgroup": "ZAMFARA STATE",
         "marker": {
          "color": "#19d3f3"
         },
         "name": "ZAMFARA STATE",
         "offsetgroup": "ZAMFARA STATE",
         "orientation": "v",
         "showlegend": true,
         "textposition": "outside",
         "texttemplate": "%{text:.4s}",
         "type": "bar",
         "x": [
          "ZAMFARA STATE"
         ],
         "xaxis": "x",
         "y": [
          2582616915
         ],
         "yaxis": "y"
        },
        {
         "alignmentgroup": "True",
         "hovertemplate": "STATE=%{x}<br>FEBRUARY=%{y}<extra></extra>",
         "legendgroup": "FEDERAL CAPITAL TERRITORY (FCT)",
         "marker": {
          "color": "#FF6692"
         },
         "name": "FEDERAL CAPITAL TERRITORY (FCT)",
         "offsetgroup": "FEDERAL CAPITAL TERRITORY (FCT)",
         "orientation": "v",
         "showlegend": true,
         "textposition": "outside",
         "texttemplate": "%{text:.4s}",
         "type": "bar",
         "x": [
          "FEDERAL CAPITAL TERRITORY (FCT)"
         ],
         "xaxis": "x",
         "y": [
          2361208479
         ],
         "yaxis": "y"
        }
       ],
       "layout": {
        "barmode": "relative",
        "height": 750,
        "legend": {
         "title": {
          "text": "STATE"
         },
         "tracegroupgap": 0
        },
        "margin": {
         "t": 60
        },
        "template": {
         "data": {
          "bar": [
           {
            "error_x": {
             "color": "#2a3f5f"
            },
            "error_y": {
             "color": "#2a3f5f"
            },
            "marker": {
             "line": {
              "color": "#E5ECF6",
              "width": 0.5
             }
            },
            "type": "bar"
           }
          ],
          "barpolar": [
           {
            "marker": {
             "line": {
              "color": "#E5ECF6",
              "width": 0.5
             }
            },
            "type": "barpolar"
           }
          ],
          "carpet": [
           {
            "aaxis": {
             "endlinecolor": "#2a3f5f",
             "gridcolor": "white",
             "linecolor": "white",
             "minorgridcolor": "white",
             "startlinecolor": "#2a3f5f"
            },
            "baxis": {
             "endlinecolor": "#2a3f5f",
             "gridcolor": "white",
             "linecolor": "white",
             "minorgridcolor": "white",
             "startlinecolor": "#2a3f5f"
            },
            "type": "carpet"
           }
          ],
          "choropleth": [
           {
            "colorbar": {
             "outlinewidth": 0,
             "ticks": ""
            },
            "type": "choropleth"
           }
          ],
          "contour": [
           {
            "colorbar": {
             "outlinewidth": 0,
             "ticks": ""
            },
            "colorscale": [
             [
              0,
              "#0d0887"
             ],
             [
              0.1111111111111111,
              "#46039f"
             ],
             [
              0.2222222222222222,
              "#7201a8"
             ],
             [
              0.3333333333333333,
              "#9c179e"
             ],
             [
              0.4444444444444444,
              "#bd3786"
             ],
             [
              0.5555555555555556,
              "#d8576b"
             ],
             [
              0.6666666666666666,
              "#ed7953"
             ],
             [
              0.7777777777777778,
              "#fb9f3a"
             ],
             [
              0.8888888888888888,
              "#fdca26"
             ],
             [
              1,
              "#f0f921"
             ]
            ],
            "type": "contour"
           }
          ],
          "contourcarpet": [
           {
            "colorbar": {
             "outlinewidth": 0,
             "ticks": ""
            },
            "type": "contourcarpet"
           }
          ],
          "heatmap": [
           {
            "colorbar": {
             "outlinewidth": 0,
             "ticks": ""
            },
            "colorscale": [
             [
              0,
              "#0d0887"
             ],
             [
              0.1111111111111111,
              "#46039f"
             ],
             [
              0.2222222222222222,
              "#7201a8"
             ],
             [
              0.3333333333333333,
              "#9c179e"
             ],
             [
              0.4444444444444444,
              "#bd3786"
             ],
             [
              0.5555555555555556,
              "#d8576b"
             ],
             [
              0.6666666666666666,
              "#ed7953"
             ],
             [
              0.7777777777777778,
              "#fb9f3a"
             ],
             [
              0.8888888888888888,
              "#fdca26"
             ],
             [
              1,
              "#f0f921"
             ]
            ],
            "type": "heatmap"
           }
          ],
          "heatmapgl": [
           {
            "colorbar": {
             "outlinewidth": 0,
             "ticks": ""
            },
            "colorscale": [
             [
              0,
              "#0d0887"
             ],
             [
              0.1111111111111111,
              "#46039f"
             ],
             [
              0.2222222222222222,
              "#7201a8"
             ],
             [
              0.3333333333333333,
              "#9c179e"
             ],
             [
              0.4444444444444444,
              "#bd3786"
             ],
             [
              0.5555555555555556,
              "#d8576b"
             ],
             [
              0.6666666666666666,
              "#ed7953"
             ],
             [
              0.7777777777777778,
              "#fb9f3a"
             ],
             [
              0.8888888888888888,
              "#fdca26"
             ],
             [
              1,
              "#f0f921"
             ]
            ],
            "type": "heatmapgl"
           }
          ],
          "histogram": [
           {
            "marker": {
             "colorbar": {
              "outlinewidth": 0,
              "ticks": ""
             }
            },
            "type": "histogram"
           }
          ],
          "histogram2d": [
           {
            "colorbar": {
             "outlinewidth": 0,
             "ticks": ""
            },
            "colorscale": [
             [
              0,
              "#0d0887"
             ],
             [
              0.1111111111111111,
              "#46039f"
             ],
             [
              0.2222222222222222,
              "#7201a8"
             ],
             [
              0.3333333333333333,
              "#9c179e"
             ],
             [
              0.4444444444444444,
              "#bd3786"
             ],
             [
              0.5555555555555556,
              "#d8576b"
             ],
             [
              0.6666666666666666,
              "#ed7953"
             ],
             [
              0.7777777777777778,
              "#fb9f3a"
             ],
             [
              0.8888888888888888,
              "#fdca26"
             ],
             [
              1,
              "#f0f921"
             ]
            ],
            "type": "histogram2d"
           }
          ],
          "histogram2dcontour": [
           {
            "colorbar": {
             "outlinewidth": 0,
             "ticks": ""
            },
            "colorscale": [
             [
              0,
              "#0d0887"
             ],
             [
              0.1111111111111111,
              "#46039f"
             ],
             [
              0.2222222222222222,
              "#7201a8"
             ],
             [
              0.3333333333333333,
              "#9c179e"
             ],
             [
              0.4444444444444444,
              "#bd3786"
             ],
             [
              0.5555555555555556,
              "#d8576b"
             ],
             [
              0.6666666666666666,
              "#ed7953"
             ],
             [
              0.7777777777777778,
              "#fb9f3a"
             ],
             [
              0.8888888888888888,
              "#fdca26"
             ],
             [
              1,
              "#f0f921"
             ]
            ],
            "type": "histogram2dcontour"
           }
          ],
          "mesh3d": [
           {
            "colorbar": {
             "outlinewidth": 0,
             "ticks": ""
            },
            "type": "mesh3d"
           }
          ],
          "parcoords": [
           {
            "line": {
             "colorbar": {
              "outlinewidth": 0,
              "ticks": ""
             }
            },
            "type": "parcoords"
           }
          ],
          "pie": [
           {
            "automargin": true,
            "type": "pie"
           }
          ],
          "scatter": [
           {
            "marker": {
             "colorbar": {
              "outlinewidth": 0,
              "ticks": ""
             }
            },
            "type": "scatter"
           }
          ],
          "scatter3d": [
           {
            "line": {
             "colorbar": {
              "outlinewidth": 0,
              "ticks": ""
             }
            },
            "marker": {
             "colorbar": {
              "outlinewidth": 0,
              "ticks": ""
             }
            },
            "type": "scatter3d"
           }
          ],
          "scattercarpet": [
           {
            "marker": {
             "colorbar": {
              "outlinewidth": 0,
              "ticks": ""
             }
            },
            "type": "scattercarpet"
           }
          ],
          "scattergeo": [
           {
            "marker": {
             "colorbar": {
              "outlinewidth": 0,
              "ticks": ""
             }
            },
            "type": "scattergeo"
           }
          ],
          "scattergl": [
           {
            "marker": {
             "colorbar": {
              "outlinewidth": 0,
              "ticks": ""
             }
            },
            "type": "scattergl"
           }
          ],
          "scattermapbox": [
           {
            "marker": {
             "colorbar": {
              "outlinewidth": 0,
              "ticks": ""
             }
            },
            "type": "scattermapbox"
           }
          ],
          "scatterpolar": [
           {
            "marker": {
             "colorbar": {
              "outlinewidth": 0,
              "ticks": ""
             }
            },
            "type": "scatterpolar"
           }
          ],
          "scatterpolargl": [
           {
            "marker": {
             "colorbar": {
              "outlinewidth": 0,
              "ticks": ""
             }
            },
            "type": "scatterpolargl"
           }
          ],
          "scatterternary": [
           {
            "marker": {
             "colorbar": {
              "outlinewidth": 0,
              "ticks": ""
             }
            },
            "type": "scatterternary"
           }
          ],
          "surface": [
           {
            "colorbar": {
             "outlinewidth": 0,
             "ticks": ""
            },
            "colorscale": [
             [
              0,
              "#0d0887"
             ],
             [
              0.1111111111111111,
              "#46039f"
             ],
             [
              0.2222222222222222,
              "#7201a8"
             ],
             [
              0.3333333333333333,
              "#9c179e"
             ],
             [
              0.4444444444444444,
              "#bd3786"
             ],
             [
              0.5555555555555556,
              "#d8576b"
             ],
             [
              0.6666666666666666,
              "#ed7953"
             ],
             [
              0.7777777777777778,
              "#fb9f3a"
             ],
             [
              0.8888888888888888,
              "#fdca26"
             ],
             [
              1,
              "#f0f921"
             ]
            ],
            "type": "surface"
           }
          ],
          "table": [
           {
            "cells": {
             "fill": {
              "color": "#EBF0F8"
             },
             "line": {
              "color": "white"
             }
            },
            "header": {
             "fill": {
              "color": "#C8D4E3"
             },
             "line": {
              "color": "white"
             }
            },
            "type": "table"
           }
          ]
         },
         "layout": {
          "annotationdefaults": {
           "arrowcolor": "#2a3f5f",
           "arrowhead": 0,
           "arrowwidth": 1
          },
          "autotypenumbers": "strict",
          "coloraxis": {
           "colorbar": {
            "outlinewidth": 0,
            "ticks": ""
           }
          },
          "colorscale": {
           "diverging": [
            [
             0,
             "#8e0152"
            ],
            [
             0.1,
             "#c51b7d"
            ],
            [
             0.2,
             "#de77ae"
            ],
            [
             0.3,
             "#f1b6da"
            ],
            [
             0.4,
             "#fde0ef"
            ],
            [
             0.5,
             "#f7f7f7"
            ],
            [
             0.6,
             "#e6f5d0"
            ],
            [
             0.7,
             "#b8e186"
            ],
            [
             0.8,
             "#7fbc41"
            ],
            [
             0.9,
             "#4d9221"
            ],
            [
             1,
             "#276419"
            ]
           ],
           "sequential": [
            [
             0,
             "#0d0887"
            ],
            [
             0.1111111111111111,
             "#46039f"
            ],
            [
             0.2222222222222222,
             "#7201a8"
            ],
            [
             0.3333333333333333,
             "#9c179e"
            ],
            [
             0.4444444444444444,
             "#bd3786"
            ],
            [
             0.5555555555555556,
             "#d8576b"
            ],
            [
             0.6666666666666666,
             "#ed7953"
            ],
            [
             0.7777777777777778,
             "#fb9f3a"
            ],
            [
             0.8888888888888888,
             "#fdca26"
            ],
            [
             1,
             "#f0f921"
            ]
           ],
           "sequentialminus": [
            [
             0,
             "#0d0887"
            ],
            [
             0.1111111111111111,
             "#46039f"
            ],
            [
             0.2222222222222222,
             "#7201a8"
            ],
            [
             0.3333333333333333,
             "#9c179e"
            ],
            [
             0.4444444444444444,
             "#bd3786"
            ],
            [
             0.5555555555555556,
             "#d8576b"
            ],
            [
             0.6666666666666666,
             "#ed7953"
            ],
            [
             0.7777777777777778,
             "#fb9f3a"
            ],
            [
             0.8888888888888888,
             "#fdca26"
            ],
            [
             1,
             "#f0f921"
            ]
           ]
          },
          "colorway": [
           "#636efa",
           "#EF553B",
           "#00cc96",
           "#ab63fa",
           "#FFA15A",
           "#19d3f3",
           "#FF6692",
           "#B6E880",
           "#FF97FF",
           "#FECB52"
          ],
          "font": {
           "color": "#2a3f5f"
          },
          "geo": {
           "bgcolor": "white",
           "lakecolor": "white",
           "landcolor": "#E5ECF6",
           "showlakes": true,
           "showland": true,
           "subunitcolor": "white"
          },
          "hoverlabel": {
           "align": "left"
          },
          "hovermode": "closest",
          "mapbox": {
           "style": "light"
          },
          "paper_bgcolor": "white",
          "plot_bgcolor": "#E5ECF6",
          "polar": {
           "angularaxis": {
            "gridcolor": "white",
            "linecolor": "white",
            "ticks": ""
           },
           "bgcolor": "#E5ECF6",
           "radialaxis": {
            "gridcolor": "white",
            "linecolor": "white",
            "ticks": ""
           }
          },
          "scene": {
           "xaxis": {
            "backgroundcolor": "#E5ECF6",
            "gridcolor": "white",
            "gridwidth": 2,
            "linecolor": "white",
            "showbackground": true,
            "ticks": "",
            "zerolinecolor": "white"
           },
           "yaxis": {
            "backgroundcolor": "#E5ECF6",
            "gridcolor": "white",
            "gridwidth": 2,
            "linecolor": "white",
            "showbackground": true,
            "ticks": "",
            "zerolinecolor": "white"
           },
           "zaxis": {
            "backgroundcolor": "#E5ECF6",
            "gridcolor": "white",
            "gridwidth": 2,
            "linecolor": "white",
            "showbackground": true,
            "ticks": "",
            "zerolinecolor": "white"
           }
          },
          "shapedefaults": {
           "line": {
            "color": "#2a3f5f"
           }
          },
          "ternary": {
           "aaxis": {
            "gridcolor": "white",
            "linecolor": "white",
            "ticks": ""
           },
           "baxis": {
            "gridcolor": "white",
            "linecolor": "white",
            "ticks": ""
           },
           "bgcolor": "#E5ECF6",
           "caxis": {
            "gridcolor": "white",
            "linecolor": "white",
            "ticks": ""
           }
          },
          "title": {
           "x": 0.05
          },
          "xaxis": {
           "automargin": true,
           "gridcolor": "white",
           "linecolor": "white",
           "ticks": "",
           "title": {
            "standoff": 15
           },
           "zerolinecolor": "white",
           "zerolinewidth": 2
          },
          "yaxis": {
           "automargin": true,
           "gridcolor": "white",
           "linecolor": "white",
           "ticks": "",
           "title": {
            "standoff": 15
           },
           "zerolinecolor": "white",
           "zerolinewidth": 2
          }
         }
        },
        "title": {
         "text": "FAAC_2020",
         "x": 0.5,
         "y": 0.8
        },
        "uniformtext": {
         "minsize": 12,
         "mode": "hide"
        },
        "width": 1000,
        "xaxis": {
         "anchor": "y",
         "categoryarray": [
          "ABIA STATE",
          "ADAMAWA STATE",
          "AKWA IBOW STATE",
          "ANAMBRA STATE",
          "BAUCHI STATE",
          "BAYELSA STATE",
          "BENUE STATE",
          "BORNO STATE",
          "CROSS-RIVER STATE",
          "DELTA STATE",
          "EBONYI STATE",
          "EDO STATE",
          "EKITI STATE",
          "ENUGU STATE",
          "GOMBE STATE",
          "IMO STATE",
          "JIGAWA STATE",
          "KADUNA STATE",
          "KANO STATE",
          "KATSINA STATE",
          "KEBBI STATE",
          "KOGI STATE",
          "KWARA STATE",
          "LAGOS STATE",
          "NASARAWA STATE",
          "NIGER STATE",
          "OGUN STATE",
          "ONDO STATE",
          "OSUN STATE",
          "OYO STATE",
          "PLATEAU STATE",
          "RIVERS STATE",
          "SOKOTO STATE",
          "TARABA STATE",
          "YOBE STATE",
          "ZAMFARA STATE",
          "FEDERAL CAPITAL TERRITORY (FCT)"
         ],
         "categoryorder": "array",
         "domain": [
          0,
          1
         ],
         "title": {
          "text": "STATE"
         }
        },
        "yaxis": {
         "anchor": "x",
         "domain": [
          0,
          1
         ],
         "title": {
          "text": "FEBRUARY"
         }
        }
       }
      },
      "text/html": [
       "<div>                            <div id=\"116eb2af-9102-4bc8-a18e-7e786326dadb\" class=\"plotly-graph-div\" style=\"height:750px; width:1000px;\"></div>            <script type=\"text/javascript\">                require([\"plotly\"], function(Plotly) {                    window.PLOTLYENV=window.PLOTLYENV || {};                                    if (document.getElementById(\"116eb2af-9102-4bc8-a18e-7e786326dadb\")) {                    Plotly.newPlot(                        \"116eb2af-9102-4bc8-a18e-7e786326dadb\",                        [{\"alignmentgroup\": \"True\", \"hovertemplate\": \"STATE=%{x}<br>FEBRUARY=%{y}<extra></extra>\", \"legendgroup\": \"ABIA STATE\", \"marker\": {\"color\": \"#636efa\"}, \"name\": \"ABIA STATE\", \"offsetgroup\": \"ABIA STATE\", \"orientation\": \"v\", \"showlegend\": true, \"textposition\": \"outside\", \"texttemplate\": \"%{text:.4s}\", \"type\": \"bar\", \"x\": [\"ABIA STATE\"], \"xaxis\": \"x\", \"y\": [2646920172], \"yaxis\": \"y\"}, {\"alignmentgroup\": \"True\", \"hovertemplate\": \"STATE=%{x}<br>FEBRUARY=%{y}<extra></extra>\", \"legendgroup\": \"ADAMAWA STATE\", \"marker\": {\"color\": \"#EF553B\"}, \"name\": \"ADAMAWA STATE\", \"offsetgroup\": \"ADAMAWA STATE\", \"orientation\": \"v\", \"showlegend\": true, \"textposition\": \"outside\", \"texttemplate\": \"%{text:.4s}\", \"type\": \"bar\", \"x\": [\"ADAMAWA STATE\"], \"xaxis\": \"x\", \"y\": [3299781555], \"yaxis\": \"y\"}, {\"alignmentgroup\": \"True\", \"hovertemplate\": \"STATE=%{x}<br>FEBRUARY=%{y}<extra></extra>\", \"legendgroup\": \"AKWA IBOW STATE\", \"marker\": {\"color\": \"#00cc96\"}, \"name\": \"AKWA IBOW STATE\", \"offsetgroup\": \"AKWA IBOW STATE\", \"orientation\": \"v\", \"showlegend\": true, \"textposition\": \"outside\", \"texttemplate\": \"%{text:.4s}\", \"type\": \"bar\", \"x\": [\"AKWA IBOW STATE\"], \"xaxis\": \"x\", \"y\": [4480229192], \"yaxis\": \"y\"}, {\"alignmentgroup\": \"True\", \"hovertemplate\": \"STATE=%{x}<br>FEBRUARY=%{y}<extra></extra>\", \"legendgroup\": \"ANAMBRA STATE\", \"marker\": {\"color\": \"#ab63fa\"}, \"name\": \"ANAMBRA STATE\", \"offsetgroup\": \"ANAMBRA STATE\", \"orientation\": \"v\", \"showlegend\": true, \"textposition\": \"outside\", \"texttemplate\": \"%{text:.4s}\", \"type\": \"bar\", \"x\": [\"ANAMBRA STATE\"], \"xaxis\": \"x\", \"y\": [3379305620], \"yaxis\": \"y\"}, {\"alignmentgroup\": \"True\", \"hovertemplate\": \"STATE=%{x}<br>FEBRUARY=%{y}<extra></extra>\", \"legendgroup\": \"BAUCHI STATE\", \"marker\": {\"color\": \"#FFA15A\"}, \"name\": \"BAUCHI STATE\", \"offsetgroup\": \"BAUCHI STATE\", \"orientation\": \"v\", \"showlegend\": true, \"textposition\": \"outside\", \"texttemplate\": \"%{text:.4s}\", \"type\": \"bar\", \"x\": [\"BAUCHI STATE\"], \"xaxis\": \"x\", \"y\": [3738855319], \"yaxis\": \"y\"}, {\"alignmentgroup\": \"True\", \"hovertemplate\": \"STATE=%{x}<br>FEBRUARY=%{y}<extra></extra>\", \"legendgroup\": \"BAYELSA STATE\", \"marker\": {\"color\": \"#19d3f3\"}, \"name\": \"BAYELSA STATE\", \"offsetgroup\": \"BAYELSA STATE\", \"orientation\": \"v\", \"showlegend\": true, \"textposition\": \"outside\", \"texttemplate\": \"%{text:.4s}\", \"type\": \"bar\", \"x\": [\"BAYELSA STATE\"], \"xaxis\": \"x\", \"y\": [1550936159], \"yaxis\": \"y\"}, {\"alignmentgroup\": \"True\", \"hovertemplate\": \"STATE=%{x}<br>FEBRUARY=%{y}<extra></extra>\", \"legendgroup\": \"BENUE STATE\", \"marker\": {\"color\": \"#FF6692\"}, \"name\": \"BENUE STATE\", \"offsetgroup\": \"BENUE STATE\", \"orientation\": \"v\", \"showlegend\": true, \"textposition\": \"outside\", \"texttemplate\": \"%{text:.4s}\", \"type\": \"bar\", \"x\": [\"BENUE STATE\"], \"xaxis\": \"x\", \"y\": [3896596114], \"yaxis\": \"y\"}, {\"alignmentgroup\": \"True\", \"hovertemplate\": \"STATE=%{x}<br>FEBRUARY=%{y}<extra></extra>\", \"legendgroup\": \"BORNO STATE\", \"marker\": {\"color\": \"#B6E880\"}, \"name\": \"BORNO STATE\", \"offsetgroup\": \"BORNO STATE\", \"orientation\": \"v\", \"showlegend\": true, \"textposition\": \"outside\", \"texttemplate\": \"%{text:.4s}\", \"type\": \"bar\", \"x\": [\"BORNO STATE\"], \"xaxis\": \"x\", \"y\": [4397582151], \"yaxis\": \"y\"}, {\"alignmentgroup\": \"True\", \"hovertemplate\": \"STATE=%{x}<br>FEBRUARY=%{y}<extra></extra>\", \"legendgroup\": \"CROSS-RIVER STATE\", \"marker\": {\"color\": \"#FF97FF\"}, \"name\": \"CROSS-RIVER STATE\", \"offsetgroup\": \"CROSS-RIVER STATE\", \"orientation\": \"v\", \"showlegend\": true, \"textposition\": \"outside\", \"texttemplate\": \"%{text:.4s}\", \"type\": \"bar\", \"x\": [\"CROSS-RIVER STATE\"], \"xaxis\": \"x\", \"y\": [2824287948], \"yaxis\": \"y\"}, {\"alignmentgroup\": \"True\", \"hovertemplate\": \"STATE=%{x}<br>FEBRUARY=%{y}<extra></extra>\", \"legendgroup\": \"DELTA STATE\", \"marker\": {\"color\": \"#FECB52\"}, \"name\": \"DELTA STATE\", \"offsetgroup\": \"DELTA STATE\", \"orientation\": \"v\", \"showlegend\": true, \"textposition\": \"outside\", \"texttemplate\": \"%{text:.4s}\", \"type\": \"bar\", \"x\": [\"DELTA STATE\"], \"xaxis\": \"x\", \"y\": [3804384843], \"yaxis\": \"y\"}, {\"alignmentgroup\": \"True\", \"hovertemplate\": \"STATE=%{x}<br>FEBRUARY=%{y}<extra></extra>\", \"legendgroup\": \"EBONYI STATE\", \"marker\": {\"color\": \"#636efa\"}, \"name\": \"EBONYI STATE\", \"offsetgroup\": \"EBONYI STATE\", \"orientation\": \"v\", \"showlegend\": true, \"textposition\": \"outside\", \"texttemplate\": \"%{text:.4s}\", \"type\": \"bar\", \"x\": [\"EBONYI STATE\"], \"xaxis\": \"x\", \"y\": [2101351354], \"yaxis\": \"y\"}, {\"alignmentgroup\": \"True\", \"hovertemplate\": \"STATE=%{x}<br>FEBRUARY=%{y}<extra></extra>\", \"legendgroup\": \"EDO STATE\", \"marker\": {\"color\": \"#EF553B\"}, \"name\": \"EDO STATE\", \"offsetgroup\": \"EDO STATE\", \"orientation\": \"v\", \"showlegend\": true, \"textposition\": \"outside\", \"texttemplate\": \"%{text:.4s}\", \"type\": \"bar\", \"x\": [\"EDO STATE\"], \"xaxis\": \"x\", \"y\": [2646920172], \"yaxis\": \"y\"}, {\"alignmentgroup\": \"True\", \"hovertemplate\": \"STATE=%{x}<br>FEBRUARY=%{y}<extra></extra>\", \"legendgroup\": \"EKITI STATE\", \"marker\": {\"color\": \"#00cc96\"}, \"name\": \"EKITI STATE\", \"offsetgroup\": \"EKITI STATE\", \"orientation\": \"v\", \"showlegend\": true, \"textposition\": \"outside\", \"texttemplate\": \"%{text:.4s}\", \"type\": \"bar\", \"x\": [\"EKITI STATE\"], \"xaxis\": \"x\", \"y\": [2284185260], \"yaxis\": \"y\"}, {\"alignmentgroup\": \"True\", \"hovertemplate\": \"STATE=%{x}<br>FEBRUARY=%{y}<extra></extra>\", \"legendgroup\": \"ENUGU STATE\", \"marker\": {\"color\": \"#ab63fa\"}, \"name\": \"ENUGU STATE\", \"offsetgroup\": \"ENUGU STATE\", \"orientation\": \"v\", \"showlegend\": true, \"textposition\": \"outside\", \"texttemplate\": \"%{text:.4s}\", \"type\": \"bar\", \"x\": [\"ENUGU STATE\"], \"xaxis\": \"x\", \"y\": [2909767031], \"yaxis\": \"y\"}, {\"alignmentgroup\": \"True\", \"hovertemplate\": \"STATE=%{x}<br>FEBRUARY=%{y}<extra></extra>\", \"legendgroup\": \"GOMBE STATE\", \"marker\": {\"color\": \"#FFA15A\"}, \"name\": \"GOMBE STATE\", \"offsetgroup\": \"GOMBE STATE\", \"orientation\": \"v\", \"showlegend\": true, \"textposition\": \"outside\", \"texttemplate\": \"%{text:.4s}\", \"type\": \"bar\", \"x\": [\"GOMBE STATE\"], \"xaxis\": \"x\", \"y\": [1926192829], \"yaxis\": \"y\"}, {\"alignmentgroup\": \"True\", \"hovertemplate\": \"STATE=%{x}<br>FEBRUARY=%{y}<extra></extra>\", \"legendgroup\": \"IMO STATE\", \"marker\": {\"color\": \"#19d3f3\"}, \"name\": \"IMO STATE\", \"offsetgroup\": \"IMO STATE\", \"orientation\": \"v\", \"showlegend\": true, \"textposition\": \"outside\", \"texttemplate\": \"%{text:.4s}\", \"type\": \"bar\", \"x\": [\"IMO STATE\"], \"xaxis\": \"x\", \"y\": [3894200504], \"yaxis\": \"y\"}, {\"alignmentgroup\": \"True\", \"hovertemplate\": \"STATE=%{x}<br>FEBRUARY=%{y}<extra></extra>\", \"legendgroup\": \"JIGAWA STATE\", \"marker\": {\"color\": \"#FF6692\"}, \"name\": \"JIGAWA STATE\", \"offsetgroup\": \"JIGAWA STATE\", \"orientation\": \"v\", \"showlegend\": true, \"textposition\": \"outside\", \"texttemplate\": \"%{text:.4s}\", \"type\": \"bar\", \"x\": [\"JIGAWA STATE\"], \"xaxis\": \"x\", \"y\": [4093227775], \"yaxis\": \"y\"}, {\"alignmentgroup\": \"True\", \"hovertemplate\": \"STATE=%{x}<br>FEBRUARY=%{y}<extra></extra>\", \"legendgroup\": \"KADUNA STATE\", \"marker\": {\"color\": \"#B6E880\"}, \"name\": \"KADUNA STATE\", \"offsetgroup\": \"KADUNA STATE\", \"orientation\": \"v\", \"showlegend\": true, \"textposition\": \"outside\", \"texttemplate\": \"%{text:.4s}\", \"type\": \"bar\", \"x\": [\"KADUNA STATE\"], \"xaxis\": \"x\", \"y\": [4570622569], \"yaxis\": \"y\"}, {\"alignmentgroup\": \"True\", \"hovertemplate\": \"STATE=%{x}<br>FEBRUARY=%{y}<extra></extra>\", \"legendgroup\": \"KANO STATE\", \"marker\": {\"color\": \"#FF97FF\"}, \"name\": \"KANO STATE\", \"offsetgroup\": \"KANO STATE\", \"orientation\": \"v\", \"showlegend\": true, \"textposition\": \"outside\", \"texttemplate\": \"%{text:.4s}\", \"type\": \"bar\", \"x\": [\"KANO STATE\"], \"xaxis\": \"x\", \"y\": [7398160643], \"yaxis\": \"y\"}, {\"alignmentgroup\": \"True\", \"hovertemplate\": \"STATE=%{x}<br>FEBRUARY=%{y}<extra></extra>\", \"legendgroup\": \"KATSINA STATE\", \"marker\": {\"color\": \"#FECB52\"}, \"name\": \"KATSINA STATE\", \"offsetgroup\": \"KATSINA STATE\", \"orientation\": \"v\", \"showlegend\": true, \"textposition\": \"outside\", \"texttemplate\": \"%{text:.4s}\", \"type\": \"bar\", \"x\": [\"KATSINA STATE\"], \"xaxis\": \"x\", \"y\": [5483658073], \"yaxis\": \"y\"}, {\"alignmentgroup\": \"True\", \"hovertemplate\": \"STATE=%{x}<br>FEBRUARY=%{y}<extra></extra>\", \"legendgroup\": \"KEBBI STATE\", \"marker\": {\"color\": \"#636efa\"}, \"name\": \"KEBBI STATE\", \"offsetgroup\": \"KEBBI STATE\", \"orientation\": \"v\", \"showlegend\": true, \"textposition\": \"outside\", \"texttemplate\": \"%{text:.4s}\", \"type\": \"bar\", \"x\": [\"KEBBI STATE\"], \"xaxis\": \"x\", \"y\": [3426525330], \"yaxis\": \"y\"}, {\"alignmentgroup\": \"True\", \"hovertemplate\": \"STATE=%{x}<br>FEBRUARY=%{y}<extra></extra>\", \"legendgroup\": \"KOGI STATE\", \"marker\": {\"color\": \"#EF553B\"}, \"name\": \"KOGI STATE\", \"offsetgroup\": \"KOGI STATE\", \"orientation\": \"v\", \"showlegend\": true, \"textposition\": \"outside\", \"texttemplate\": \"%{text:.4s}\", \"type\": \"bar\", \"x\": [\"KOGI STATE\"], \"xaxis\": \"x\", \"y\": [3145886161], \"yaxis\": \"y\"}, {\"alignmentgroup\": \"True\", \"hovertemplate\": \"STATE=%{x}<br>FEBRUARY=%{y}<extra></extra>\", \"legendgroup\": \"KWARA STATE\", \"marker\": {\"color\": \"#00cc96\"}, \"name\": \"KWARA STATE\", \"offsetgroup\": \"KWARA STATE\", \"orientation\": \"v\", \"showlegend\": true, \"textposition\": \"outside\", \"texttemplate\": \"%{text:.4s}\", \"type\": \"bar\", \"x\": [\"KWARA STATE\"], \"xaxis\": \"x\", \"y\": [2529008029], \"yaxis\": \"y\"}, {\"alignmentgroup\": \"True\", \"hovertemplate\": \"STATE=%{x}<br>FEBRUARY=%{y}<extra></extra>\", \"legendgroup\": \"LAGOS STATE\", \"marker\": {\"color\": \"#ab63fa\"}, \"name\": \"LAGOS STATE\", \"offsetgroup\": \"LAGOS STATE\", \"orientation\": \"v\", \"showlegend\": true, \"textposition\": \"outside\", \"texttemplate\": \"%{text:.4s}\", \"type\": \"bar\", \"x\": [\"LAGOS STATE\"], \"xaxis\": \"x\", \"y\": [8865922888], \"yaxis\": \"y\"}, {\"alignmentgroup\": \"True\", \"hovertemplate\": \"STATE=%{x}<br>FEBRUARY=%{y}<extra></extra>\", \"legendgroup\": \"NASARAWA STATE\", \"marker\": {\"color\": \"#FFA15A\"}, \"name\": \"NASARAWA STATE\", \"offsetgroup\": \"NASARAWA STATE\", \"orientation\": \"v\", \"showlegend\": true, \"textposition\": \"outside\", \"texttemplate\": \"%{text:.4s}\", \"type\": \"bar\", \"x\": [\"NASARAWA STATE\"], \"xaxis\": \"x\", \"y\": [2161846216], \"yaxis\": \"y\"}, {\"alignmentgroup\": \"True\", \"hovertemplate\": \"STATE=%{x}<br>FEBRUARY=%{y}<extra></extra>\", \"legendgroup\": \"NIGER STATE\", \"marker\": {\"color\": \"#19d3f3\"}, \"name\": \"NIGER STATE\", \"offsetgroup\": \"NIGER STATE\", \"orientation\": \"v\", \"showlegend\": true, \"textposition\": \"outside\", \"texttemplate\": \"%{text:.4s}\", \"type\": \"bar\", \"x\": [\"NIGER STATE\"], \"xaxis\": \"x\", \"y\": [4132468392], \"yaxis\": \"y\"}, {\"alignmentgroup\": \"True\", \"hovertemplate\": \"STATE=%{x}<br>FEBRUARY=%{y}<extra></extra>\", \"legendgroup\": \"OGUN STATE\", \"marker\": {\"color\": \"#FF6692\"}, \"name\": \"OGUN STATE\", \"offsetgroup\": \"OGUN STATE\", \"orientation\": \"v\", \"showlegend\": true, \"textposition\": \"outside\", \"texttemplate\": \"%{text:.4s}\", \"type\": \"bar\", \"x\": [\"OGUN STATE\"], \"xaxis\": \"x\", \"y\": [3004365115], \"yaxis\": \"y\"}, {\"alignmentgroup\": \"True\", \"hovertemplate\": \"STATE=%{x}<br>FEBRUARY=%{y}<extra></extra>\", \"legendgroup\": \"ONDO STATE\", \"marker\": {\"color\": \"#B6E880\"}, \"name\": \"ONDO STATE\", \"offsetgroup\": \"ONDO STATE\", \"orientation\": \"v\", \"showlegend\": true, \"textposition\": \"outside\", \"texttemplate\": \"%{text:.4s}\", \"type\": \"bar\", \"x\": [\"ONDO STATE\"], \"xaxis\": \"x\", \"y\": [2845021778], \"yaxis\": \"y\"}, {\"alignmentgroup\": \"True\", \"hovertemplate\": \"STATE=%{x}<br>FEBRUARY=%{y}<extra></extra>\", \"legendgroup\": \"OSUN STATE\", \"marker\": {\"color\": \"#FF97FF\"}, \"name\": \"OSUN STATE\", \"offsetgroup\": \"OSUN STATE\", \"orientation\": \"v\", \"showlegend\": true, \"textposition\": \"outside\", \"texttemplate\": \"%{text:.4s}\", \"type\": \"bar\", \"x\": [\"OSUN STATE\"], \"xaxis\": \"x\", \"y\": [3857932830], \"yaxis\": \"y\"}, {\"alignmentgroup\": \"True\", \"hovertemplate\": \"STATE=%{x}<br>FEBRUARY=%{y}<extra></extra>\", \"legendgroup\": \"OYO STATE\", \"marker\": {\"color\": \"#FECB52\"}, \"name\": \"OYO STATE\", \"offsetgroup\": \"OYO STATE\", \"orientation\": \"v\", \"showlegend\": true, \"textposition\": \"outside\", \"texttemplate\": \"%{text:.4s}\", \"type\": \"bar\", \"x\": [\"OYO STATE\"], \"xaxis\": \"x\", \"y\": [5098173262], \"yaxis\": \"y\"}, {\"alignmentgroup\": \"True\", \"hovertemplate\": \"STATE=%{x}<br>FEBRUARY=%{y}<extra></extra>\", \"legendgroup\": \"PLATEAU STATE\", \"marker\": {\"color\": \"#636efa\"}, \"name\": \"PLATEAU STATE\", \"offsetgroup\": \"PLATEAU STATE\", \"orientation\": \"v\", \"showlegend\": true, \"textposition\": \"outside\", \"texttemplate\": \"%{text:.4s}\", \"type\": \"bar\", \"x\": [\"PLATEAU STATE\"], \"xaxis\": \"x\", \"y\": [3021310943], \"yaxis\": \"y\"}, {\"alignmentgroup\": \"True\", \"hovertemplate\": \"STATE=%{x}<br>FEBRUARY=%{y}<extra></extra>\", \"legendgroup\": \"RIVERS STATE\", \"marker\": {\"color\": \"#EF553B\"}, \"name\": \"RIVERS STATE\", \"offsetgroup\": \"RIVERS STATE\", \"orientation\": \"v\", \"showlegend\": true, \"textposition\": \"outside\", \"texttemplate\": \"%{text:.4s}\", \"type\": \"bar\", \"x\": [\"RIVERS STATE\"], \"xaxis\": \"x\", \"y\": [3980220127], \"yaxis\": \"y\"}, {\"alignmentgroup\": \"True\", \"hovertemplate\": \"STATE=%{x}<br>FEBRUARY=%{y}<extra></extra>\", \"legendgroup\": \"SOKOTO STATE\", \"marker\": {\"color\": \"#00cc96\"}, \"name\": \"SOKOTO STATE\", \"offsetgroup\": \"SOKOTO STATE\", \"orientation\": \"v\", \"showlegend\": true, \"textposition\": \"outside\", \"texttemplate\": \"%{text:.4s}\", \"type\": \"bar\", \"x\": [\"SOKOTO STATE\"], \"xaxis\": \"x\", \"y\": [3737306445], \"yaxis\": \"y\"}, {\"alignmentgroup\": \"True\", \"hovertemplate\": \"STATE=%{x}<br>FEBRUARY=%{y}<extra></extra>\", \"legendgroup\": \"TARABA STATE\", \"marker\": {\"color\": \"#ab63fa\"}, \"name\": \"TARABA STATE\", \"offsetgroup\": \"TARABA STATE\", \"orientation\": \"v\", \"showlegend\": true, \"textposition\": \"outside\", \"texttemplate\": \"%{text:.4s}\", \"type\": \"bar\", \"x\": [\"TARABA STATE\"], \"xaxis\": \"x\", \"y\": [2796251222], \"yaxis\": \"y\"}, {\"alignmentgroup\": \"True\", \"hovertemplate\": \"STATE=%{x}<br>FEBRUARY=%{y}<extra></extra>\", \"legendgroup\": \"YOBE STATE\", \"marker\": {\"color\": \"#FFA15A\"}, \"name\": \"YOBE STATE\", \"offsetgroup\": \"YOBE STATE\", \"orientation\": \"v\", \"showlegend\": true, \"textposition\": \"outside\", \"texttemplate\": \"%{text:.4s}\", \"type\": \"bar\", \"x\": [\"YOBE STATE\"], \"xaxis\": \"x\", \"y\": [2814349607], \"yaxis\": \"y\"}, {\"alignmentgroup\": \"True\", \"hovertemplate\": \"STATE=%{x}<br>FEBRUARY=%{y}<extra></extra>\", \"legendgroup\": \"ZAMFARA STATE\", \"marker\": {\"color\": \"#19d3f3\"}, \"name\": \"ZAMFARA STATE\", \"offsetgroup\": \"ZAMFARA STATE\", \"orientation\": \"v\", \"showlegend\": true, \"textposition\": \"outside\", \"texttemplate\": \"%{text:.4s}\", \"type\": \"bar\", \"x\": [\"ZAMFARA STATE\"], \"xaxis\": \"x\", \"y\": [2582616915], \"yaxis\": \"y\"}, {\"alignmentgroup\": \"True\", \"hovertemplate\": \"STATE=%{x}<br>FEBRUARY=%{y}<extra></extra>\", \"legendgroup\": \"FEDERAL CAPITAL TERRITORY (FCT)\", \"marker\": {\"color\": \"#FF6692\"}, \"name\": \"FEDERAL CAPITAL TERRITORY (FCT)\", \"offsetgroup\": \"FEDERAL CAPITAL TERRITORY (FCT)\", \"orientation\": \"v\", \"showlegend\": true, \"textposition\": \"outside\", \"texttemplate\": \"%{text:.4s}\", \"type\": \"bar\", \"x\": [\"FEDERAL CAPITAL TERRITORY (FCT)\"], \"xaxis\": \"x\", \"y\": [2361208479], \"yaxis\": \"y\"}],                        {\"barmode\": \"relative\", \"height\": 750, \"legend\": {\"title\": {\"text\": \"STATE\"}, \"tracegroupgap\": 0}, \"margin\": {\"t\": 60}, \"template\": {\"data\": {\"bar\": [{\"error_x\": {\"color\": \"#2a3f5f\"}, \"error_y\": {\"color\": \"#2a3f5f\"}, \"marker\": {\"line\": {\"color\": \"#E5ECF6\", \"width\": 0.5}}, \"type\": \"bar\"}], \"barpolar\": [{\"marker\": {\"line\": {\"color\": \"#E5ECF6\", \"width\": 0.5}}, \"type\": \"barpolar\"}], \"carpet\": [{\"aaxis\": {\"endlinecolor\": \"#2a3f5f\", \"gridcolor\": \"white\", \"linecolor\": \"white\", \"minorgridcolor\": \"white\", \"startlinecolor\": \"#2a3f5f\"}, \"baxis\": {\"endlinecolor\": \"#2a3f5f\", \"gridcolor\": \"white\", \"linecolor\": \"white\", \"minorgridcolor\": \"white\", \"startlinecolor\": \"#2a3f5f\"}, \"type\": \"carpet\"}], \"choropleth\": [{\"colorbar\": {\"outlinewidth\": 0, \"ticks\": \"\"}, \"type\": \"choropleth\"}], \"contour\": [{\"colorbar\": {\"outlinewidth\": 0, \"ticks\": \"\"}, \"colorscale\": [[0.0, \"#0d0887\"], [0.1111111111111111, \"#46039f\"], [0.2222222222222222, \"#7201a8\"], [0.3333333333333333, \"#9c179e\"], [0.4444444444444444, \"#bd3786\"], [0.5555555555555556, \"#d8576b\"], [0.6666666666666666, \"#ed7953\"], [0.7777777777777778, \"#fb9f3a\"], [0.8888888888888888, \"#fdca26\"], [1.0, \"#f0f921\"]], \"type\": \"contour\"}], \"contourcarpet\": [{\"colorbar\": {\"outlinewidth\": 0, \"ticks\": \"\"}, \"type\": \"contourcarpet\"}], \"heatmap\": [{\"colorbar\": {\"outlinewidth\": 0, \"ticks\": \"\"}, \"colorscale\": [[0.0, \"#0d0887\"], [0.1111111111111111, \"#46039f\"], [0.2222222222222222, \"#7201a8\"], [0.3333333333333333, \"#9c179e\"], [0.4444444444444444, \"#bd3786\"], [0.5555555555555556, \"#d8576b\"], [0.6666666666666666, \"#ed7953\"], [0.7777777777777778, \"#fb9f3a\"], [0.8888888888888888, \"#fdca26\"], [1.0, \"#f0f921\"]], \"type\": \"heatmap\"}], \"heatmapgl\": [{\"colorbar\": {\"outlinewidth\": 0, \"ticks\": \"\"}, \"colorscale\": [[0.0, \"#0d0887\"], [0.1111111111111111, \"#46039f\"], [0.2222222222222222, \"#7201a8\"], [0.3333333333333333, \"#9c179e\"], [0.4444444444444444, \"#bd3786\"], [0.5555555555555556, \"#d8576b\"], [0.6666666666666666, \"#ed7953\"], [0.7777777777777778, \"#fb9f3a\"], [0.8888888888888888, \"#fdca26\"], [1.0, \"#f0f921\"]], \"type\": \"heatmapgl\"}], \"histogram\": [{\"marker\": {\"colorbar\": {\"outlinewidth\": 0, \"ticks\": \"\"}}, \"type\": \"histogram\"}], \"histogram2d\": [{\"colorbar\": {\"outlinewidth\": 0, \"ticks\": \"\"}, \"colorscale\": [[0.0, \"#0d0887\"], [0.1111111111111111, \"#46039f\"], [0.2222222222222222, \"#7201a8\"], [0.3333333333333333, \"#9c179e\"], [0.4444444444444444, \"#bd3786\"], [0.5555555555555556, \"#d8576b\"], [0.6666666666666666, \"#ed7953\"], [0.7777777777777778, \"#fb9f3a\"], [0.8888888888888888, \"#fdca26\"], [1.0, \"#f0f921\"]], \"type\": \"histogram2d\"}], \"histogram2dcontour\": [{\"colorbar\": {\"outlinewidth\": 0, \"ticks\": \"\"}, \"colorscale\": [[0.0, \"#0d0887\"], [0.1111111111111111, \"#46039f\"], [0.2222222222222222, \"#7201a8\"], [0.3333333333333333, \"#9c179e\"], [0.4444444444444444, \"#bd3786\"], [0.5555555555555556, \"#d8576b\"], [0.6666666666666666, \"#ed7953\"], [0.7777777777777778, \"#fb9f3a\"], [0.8888888888888888, \"#fdca26\"], [1.0, \"#f0f921\"]], \"type\": \"histogram2dcontour\"}], \"mesh3d\": [{\"colorbar\": {\"outlinewidth\": 0, \"ticks\": \"\"}, \"type\": \"mesh3d\"}], \"parcoords\": [{\"line\": {\"colorbar\": {\"outlinewidth\": 0, \"ticks\": \"\"}}, \"type\": \"parcoords\"}], \"pie\": [{\"automargin\": true, \"type\": \"pie\"}], \"scatter\": [{\"marker\": {\"colorbar\": {\"outlinewidth\": 0, \"ticks\": \"\"}}, \"type\": \"scatter\"}], \"scatter3d\": [{\"line\": {\"colorbar\": {\"outlinewidth\": 0, \"ticks\": \"\"}}, \"marker\": {\"colorbar\": {\"outlinewidth\": 0, \"ticks\": \"\"}}, \"type\": \"scatter3d\"}], \"scattercarpet\": [{\"marker\": {\"colorbar\": {\"outlinewidth\": 0, \"ticks\": \"\"}}, \"type\": \"scattercarpet\"}], \"scattergeo\": [{\"marker\": {\"colorbar\": {\"outlinewidth\": 0, \"ticks\": \"\"}}, \"type\": \"scattergeo\"}], \"scattergl\": [{\"marker\": {\"colorbar\": {\"outlinewidth\": 0, \"ticks\": \"\"}}, \"type\": \"scattergl\"}], \"scattermapbox\": [{\"marker\": {\"colorbar\": {\"outlinewidth\": 0, \"ticks\": \"\"}}, \"type\": \"scattermapbox\"}], \"scatterpolar\": [{\"marker\": {\"colorbar\": {\"outlinewidth\": 0, \"ticks\": \"\"}}, \"type\": \"scatterpolar\"}], \"scatterpolargl\": [{\"marker\": {\"colorbar\": {\"outlinewidth\": 0, \"ticks\": \"\"}}, \"type\": \"scatterpolargl\"}], \"scatterternary\": [{\"marker\": {\"colorbar\": {\"outlinewidth\": 0, \"ticks\": \"\"}}, \"type\": \"scatterternary\"}], \"surface\": [{\"colorbar\": {\"outlinewidth\": 0, \"ticks\": \"\"}, \"colorscale\": [[0.0, \"#0d0887\"], [0.1111111111111111, \"#46039f\"], [0.2222222222222222, \"#7201a8\"], [0.3333333333333333, \"#9c179e\"], [0.4444444444444444, \"#bd3786\"], [0.5555555555555556, \"#d8576b\"], [0.6666666666666666, \"#ed7953\"], [0.7777777777777778, \"#fb9f3a\"], [0.8888888888888888, \"#fdca26\"], [1.0, \"#f0f921\"]], \"type\": \"surface\"}], \"table\": [{\"cells\": {\"fill\": {\"color\": \"#EBF0F8\"}, \"line\": {\"color\": \"white\"}}, \"header\": {\"fill\": {\"color\": \"#C8D4E3\"}, \"line\": {\"color\": \"white\"}}, \"type\": \"table\"}]}, \"layout\": {\"annotationdefaults\": {\"arrowcolor\": \"#2a3f5f\", \"arrowhead\": 0, \"arrowwidth\": 1}, \"autotypenumbers\": \"strict\", \"coloraxis\": {\"colorbar\": {\"outlinewidth\": 0, \"ticks\": \"\"}}, \"colorscale\": {\"diverging\": [[0, \"#8e0152\"], [0.1, \"#c51b7d\"], [0.2, \"#de77ae\"], [0.3, \"#f1b6da\"], [0.4, \"#fde0ef\"], [0.5, \"#f7f7f7\"], [0.6, \"#e6f5d0\"], [0.7, \"#b8e186\"], [0.8, \"#7fbc41\"], [0.9, \"#4d9221\"], [1, \"#276419\"]], \"sequential\": [[0.0, \"#0d0887\"], [0.1111111111111111, \"#46039f\"], [0.2222222222222222, \"#7201a8\"], [0.3333333333333333, \"#9c179e\"], [0.4444444444444444, \"#bd3786\"], [0.5555555555555556, \"#d8576b\"], [0.6666666666666666, \"#ed7953\"], [0.7777777777777778, \"#fb9f3a\"], [0.8888888888888888, \"#fdca26\"], [1.0, \"#f0f921\"]], \"sequentialminus\": [[0.0, \"#0d0887\"], [0.1111111111111111, \"#46039f\"], [0.2222222222222222, \"#7201a8\"], [0.3333333333333333, \"#9c179e\"], [0.4444444444444444, \"#bd3786\"], [0.5555555555555556, \"#d8576b\"], [0.6666666666666666, \"#ed7953\"], [0.7777777777777778, \"#fb9f3a\"], [0.8888888888888888, \"#fdca26\"], [1.0, \"#f0f921\"]]}, \"colorway\": [\"#636efa\", \"#EF553B\", \"#00cc96\", \"#ab63fa\", \"#FFA15A\", \"#19d3f3\", \"#FF6692\", \"#B6E880\", \"#FF97FF\", \"#FECB52\"], \"font\": {\"color\": \"#2a3f5f\"}, \"geo\": {\"bgcolor\": \"white\", \"lakecolor\": \"white\", \"landcolor\": \"#E5ECF6\", \"showlakes\": true, \"showland\": true, \"subunitcolor\": \"white\"}, \"hoverlabel\": {\"align\": \"left\"}, \"hovermode\": \"closest\", \"mapbox\": {\"style\": \"light\"}, \"paper_bgcolor\": \"white\", \"plot_bgcolor\": \"#E5ECF6\", \"polar\": {\"angularaxis\": {\"gridcolor\": \"white\", \"linecolor\": \"white\", \"ticks\": \"\"}, \"bgcolor\": \"#E5ECF6\", \"radialaxis\": {\"gridcolor\": \"white\", \"linecolor\": \"white\", \"ticks\": \"\"}}, \"scene\": {\"xaxis\": {\"backgroundcolor\": \"#E5ECF6\", \"gridcolor\": \"white\", \"gridwidth\": 2, \"linecolor\": \"white\", \"showbackground\": true, \"ticks\": \"\", \"zerolinecolor\": \"white\"}, \"yaxis\": {\"backgroundcolor\": \"#E5ECF6\", \"gridcolor\": \"white\", \"gridwidth\": 2, \"linecolor\": \"white\", \"showbackground\": true, \"ticks\": \"\", \"zerolinecolor\": \"white\"}, \"zaxis\": {\"backgroundcolor\": \"#E5ECF6\", \"gridcolor\": \"white\", \"gridwidth\": 2, \"linecolor\": \"white\", \"showbackground\": true, \"ticks\": \"\", \"zerolinecolor\": \"white\"}}, \"shapedefaults\": {\"line\": {\"color\": \"#2a3f5f\"}}, \"ternary\": {\"aaxis\": {\"gridcolor\": \"white\", \"linecolor\": \"white\", \"ticks\": \"\"}, \"baxis\": {\"gridcolor\": \"white\", \"linecolor\": \"white\", \"ticks\": \"\"}, \"bgcolor\": \"#E5ECF6\", \"caxis\": {\"gridcolor\": \"white\", \"linecolor\": \"white\", \"ticks\": \"\"}}, \"title\": {\"x\": 0.05}, \"xaxis\": {\"automargin\": true, \"gridcolor\": \"white\", \"linecolor\": \"white\", \"ticks\": \"\", \"title\": {\"standoff\": 15}, \"zerolinecolor\": \"white\", \"zerolinewidth\": 2}, \"yaxis\": {\"automargin\": true, \"gridcolor\": \"white\", \"linecolor\": \"white\", \"ticks\": \"\", \"title\": {\"standoff\": 15}, \"zerolinecolor\": \"white\", \"zerolinewidth\": 2}}}, \"title\": {\"text\": \"FAAC_2020\", \"x\": 0.5, \"y\": 0.8}, \"uniformtext\": {\"minsize\": 12, \"mode\": \"hide\"}, \"width\": 1000, \"xaxis\": {\"anchor\": \"y\", \"categoryarray\": [\"ABIA STATE\", \"ADAMAWA STATE\", \"AKWA IBOW STATE\", \"ANAMBRA STATE\", \"BAUCHI STATE\", \"BAYELSA STATE\", \"BENUE STATE\", \"BORNO STATE\", \"CROSS-RIVER STATE\", \"DELTA STATE\", \"EBONYI STATE\", \"EDO STATE\", \"EKITI STATE\", \"ENUGU STATE\", \"GOMBE STATE\", \"IMO STATE\", \"JIGAWA STATE\", \"KADUNA STATE\", \"KANO STATE\", \"KATSINA STATE\", \"KEBBI STATE\", \"KOGI STATE\", \"KWARA STATE\", \"LAGOS STATE\", \"NASARAWA STATE\", \"NIGER STATE\", \"OGUN STATE\", \"ONDO STATE\", \"OSUN STATE\", \"OYO STATE\", \"PLATEAU STATE\", \"RIVERS STATE\", \"SOKOTO STATE\", \"TARABA STATE\", \"YOBE STATE\", \"ZAMFARA STATE\", \"FEDERAL CAPITAL TERRITORY (FCT)\"], \"categoryorder\": \"array\", \"domain\": [0.0, 1.0], \"title\": {\"text\": \"STATE\"}}, \"yaxis\": {\"anchor\": \"x\", \"domain\": [0.0, 1.0], \"title\": {\"text\": \"FEBRUARY\"}}},                        {\"responsive\": true}                    ).then(function(){\n",
       "                            \n",
       "var gd = document.getElementById('116eb2af-9102-4bc8-a18e-7e786326dadb');\n",
       "var x = new MutationObserver(function (mutations, observer) {{\n",
       "        var display = window.getComputedStyle(gd).display;\n",
       "        if (!display || display === 'none') {{\n",
       "            console.log([gd, 'removed!']);\n",
       "            Plotly.purge(gd);\n",
       "            observer.disconnect();\n",
       "        }}\n",
       "}});\n",
       "\n",
       "// Listen for the removal of the full notebook cells\n",
       "var notebookContainer = gd.closest('#notebook-container');\n",
       "if (notebookContainer) {{\n",
       "    x.observe(notebookContainer, {childList: true});\n",
       "}}\n",
       "\n",
       "// Listen for the clearing of the current output cell\n",
       "var outputEl = gd.closest('.output');\n",
       "if (outputEl) {{\n",
       "    x.observe(outputEl, {childList: true});\n",
       "}}\n",
       "\n",
       "                        })                };                });            </script>        </div>"
      ]
     },
     "metadata": {},
     "output_type": "display_data"
    }
   ],
   "source": [
    "fig=px.bar(FAAC_2020, y = \"FEBRUARY\", x = \"STATE\",orientation = \"v\", color = \"STATE\")\n",
    "fig.update_traces(texttemplate=\"%{text:.4s}\", textposition=\"outside\")\n",
    "fig.update_layout(uniformtext_minsize= 12, uniformtext_mode= \"hide\")\n",
    "fig.update_layout(\n",
    "    title = {\n",
    "       \"text\":\"FAAC_2020\",\n",
    "       \"y\":0.8,\n",
    "       \"x\":0.5,\n",
    "       },height = 750, width = 1000)"
   ]
  },
  {
   "cell_type": "code",
   "execution_count": 47,
   "metadata": {},
   "outputs": [
    {
     "data": {
      "application/vnd.plotly.v1+json": {
       "config": {
        "plotlyServerURL": "https://plot.ly"
       },
       "data": [
        {
         "alignmentgroup": "True",
         "hovertemplate": "STATE=%{x}<br>MARCH=%{y}<extra></extra>",
         "legendgroup": "ABIA STATE",
         "marker": {
          "color": "#636efa"
         },
         "name": "ABIA STATE",
         "offsetgroup": "ABIA STATE",
         "orientation": "v",
         "showlegend": true,
         "textposition": "outside",
         "texttemplate": "%{text:.4s}",
         "type": "bar",
         "x": [
          "ABIA STATE"
         ],
         "xaxis": "x",
         "y": [
          2363484966
         ],
         "yaxis": "y"
        },
        {
         "alignmentgroup": "True",
         "hovertemplate": "STATE=%{x}<br>MARCH=%{y}<extra></extra>",
         "legendgroup": "ADAMAWA STATE",
         "marker": {
          "color": "#EF553B"
         },
         "name": "ADAMAWA STATE",
         "offsetgroup": "ADAMAWA STATE",
         "orientation": "v",
         "showlegend": true,
         "textposition": "outside",
         "texttemplate": "%{text:.4s}",
         "type": "bar",
         "x": [
          "ADAMAWA STATE"
         ],
         "xaxis": "x",
         "y": [
          2951196566
         ],
         "yaxis": "y"
        },
        {
         "alignmentgroup": "True",
         "hovertemplate": "STATE=%{x}<br>MARCH=%{y}<extra></extra>",
         "legendgroup": "AKWA IBOW STATE",
         "marker": {
          "color": "#00cc96"
         },
         "name": "AKWA IBOW STATE",
         "offsetgroup": "AKWA IBOW STATE",
         "orientation": "v",
         "showlegend": true,
         "textposition": "outside",
         "texttemplate": "%{text:.4s}",
         "type": "bar",
         "x": [
          "AKWA IBOW STATE"
         ],
         "xaxis": "x",
         "y": [
          3975088679
         ],
         "yaxis": "y"
        },
        {
         "alignmentgroup": "True",
         "hovertemplate": "STATE=%{x}<br>MARCH=%{y}<extra></extra>",
         "legendgroup": "ANAMBRA STATE",
         "marker": {
          "color": "#ab63fa"
         },
         "name": "ANAMBRA STATE",
         "offsetgroup": "ANAMBRA STATE",
         "orientation": "v",
         "showlegend": true,
         "textposition": "outside",
         "texttemplate": "%{text:.4s}",
         "type": "bar",
         "x": [
          "ANAMBRA STATE"
         ],
         "xaxis": "x",
         "y": [
          3034416217
         ],
         "yaxis": "y"
        },
        {
         "alignmentgroup": "True",
         "hovertemplate": "STATE=%{x}<br>MARCH=%{y}<extra></extra>",
         "legendgroup": "BAUCHI STATE",
         "marker": {
          "color": "#FFA15A"
         },
         "name": "BAUCHI STATE",
         "offsetgroup": "BAUCHI STATE",
         "orientation": "v",
         "showlegend": true,
         "textposition": "outside",
         "texttemplate": "%{text:.4s}",
         "type": "bar",
         "x": [
          "BAUCHI STATE"
         ],
         "xaxis": "x",
         "y": [
          3353442557
         ],
         "yaxis": "y"
        },
        {
         "alignmentgroup": "True",
         "hovertemplate": "STATE=%{x}<br>MARCH=%{y}<extra></extra>",
         "legendgroup": "BAYELSA STATE",
         "marker": {
          "color": "#19d3f3"
         },
         "name": "BAYELSA STATE",
         "offsetgroup": "BAYELSA STATE",
         "orientation": "v",
         "showlegend": true,
         "textposition": "outside",
         "texttemplate": "%{text:.4s}",
         "type": "bar",
         "x": [
          "BAYELSA STATE"
         ],
         "xaxis": "x",
         "y": [
          1374002332
         ],
         "yaxis": "y"
        },
        {
         "alignmentgroup": "True",
         "hovertemplate": "STATE=%{x}<br>MARCH=%{y}<extra></extra>",
         "legendgroup": "BENUE STATE",
         "marker": {
          "color": "#FF6692"
         },
         "name": "BENUE STATE",
         "offsetgroup": "BENUE STATE",
         "orientation": "v",
         "showlegend": true,
         "textposition": "outside",
         "texttemplate": "%{text:.4s}",
         "type": "bar",
         "x": [
          "BENUE STATE"
         ],
         "xaxis": "x",
         "y": [
          3463541420
         ],
         "yaxis": "y"
        },
        {
         "alignmentgroup": "True",
         "hovertemplate": "STATE=%{x}<br>MARCH=%{y}<extra></extra>",
         "legendgroup": "BORNO STATE",
         "marker": {
          "color": "#B6E880"
         },
         "name": "BORNO STATE",
         "offsetgroup": "BORNO STATE",
         "orientation": "v",
         "showlegend": true,
         "textposition": "outside",
         "texttemplate": "%{text:.4s}",
         "type": "bar",
         "x": [
          "BORNO STATE"
         ],
         "xaxis": "x",
         "y": [
          3938928589
         ],
         "yaxis": "y"
        },
        {
         "alignmentgroup": "True",
         "hovertemplate": "STATE=%{x}<br>MARCH=%{y}<extra></extra>",
         "legendgroup": "CROSS-RIVER STATE",
         "marker": {
          "color": "#FF97FF"
         },
         "name": "CROSS-RIVER STATE",
         "offsetgroup": "CROSS-RIVER STATE",
         "orientation": "v",
         "showlegend": true,
         "textposition": "outside",
         "texttemplate": "%{text:.4s}",
         "type": "bar",
         "x": [
          "CROSS-RIVER STATE"
         ],
         "xaxis": "x",
         "y": [
          2525596284
         ],
         "yaxis": "y"
        },
        {
         "alignmentgroup": "True",
         "hovertemplate": "STATE=%{x}<br>MARCH=%{y}<extra></extra>",
         "legendgroup": "DELTA STATE",
         "marker": {
          "color": "#FECB52"
         },
         "name": "DELTA STATE",
         "offsetgroup": "DELTA STATE",
         "orientation": "v",
         "showlegend": true,
         "textposition": "outside",
         "texttemplate": "%{text:.4s}",
         "type": "bar",
         "x": [
          "DELTA STATE"
         ],
         "xaxis": "x",
         "y": [
          3357915895
         ],
         "yaxis": "y"
        },
        {
         "alignmentgroup": "True",
         "hovertemplate": "STATE=%{x}<br>MARCH=%{y}<extra></extra>",
         "legendgroup": "EBONYI STATE",
         "marker": {
          "color": "#636efa"
         },
         "name": "EBONYI STATE",
         "offsetgroup": "EBONYI STATE",
         "orientation": "v",
         "showlegend": true,
         "textposition": "outside",
         "texttemplate": "%{text:.4s}",
         "type": "bar",
         "x": [
          "EBONYI STATE"
         ],
         "xaxis": "x",
         "y": [
          1863424036
         ],
         "yaxis": "y"
        },
        {
         "alignmentgroup": "True",
         "hovertemplate": "STATE=%{x}<br>MARCH=%{y}<extra></extra>",
         "legendgroup": "EDO STATE",
         "marker": {
          "color": "#EF553B"
         },
         "name": "EDO STATE",
         "offsetgroup": "EDO STATE",
         "orientation": "v",
         "showlegend": true,
         "textposition": "outside",
         "texttemplate": "%{text:.4s}",
         "type": "bar",
         "x": [
          "EDO STATE"
         ],
         "xaxis": "x",
         "y": [
          2565263953
         ],
         "yaxis": "y"
        },
        {
         "alignmentgroup": "True",
         "hovertemplate": "STATE=%{x}<br>MARCH=%{y}<extra></extra>",
         "legendgroup": "EKITI STATE",
         "marker": {
          "color": "#00cc96"
         },
         "name": "EKITI STATE",
         "offsetgroup": "EKITI STATE",
         "orientation": "v",
         "showlegend": true,
         "textposition": "outside",
         "texttemplate": "%{text:.4s}",
         "type": "bar",
         "x": [
          "EKITI STATE"
         ],
         "xaxis": "x",
         "y": [
          2045554153
         ],
         "yaxis": "y"
        },
        {
         "alignmentgroup": "True",
         "hovertemplate": "STATE=%{x}<br>MARCH=%{y}<extra></extra>",
         "legendgroup": "ENUGU STATE",
         "marker": {
          "color": "#ab63fa"
         },
         "name": "ENUGU STATE",
         "offsetgroup": "ENUGU STATE",
         "orientation": "v",
         "showlegend": true,
         "textposition": "outside",
         "texttemplate": "%{text:.4s}",
         "type": "bar",
         "x": [
          "ENUGU STATE"
         ],
         "xaxis": "x",
         "y": [
          2572716780
         ],
         "yaxis": "y"
        },
        {
         "alignmentgroup": "True",
         "hovertemplate": "STATE=%{x}<br>MARCH=%{y}<extra></extra>",
         "legendgroup": "GOMBE STATE",
         "marker": {
          "color": "#FFA15A"
         },
         "name": "GOMBE STATE",
         "offsetgroup": "GOMBE STATE",
         "orientation": "v",
         "showlegend": true,
         "textposition": "outside",
         "texttemplate": "%{text:.4s}",
         "type": "bar",
         "x": [
          "GOMBE STATE"
         ],
         "xaxis": "x",
         "y": [
          1694915242
         ],
         "yaxis": "y"
        },
        {
         "alignmentgroup": "True",
         "hovertemplate": "STATE=%{x}<br>MARCH=%{y}<extra></extra>",
         "legendgroup": "IMO STATE",
         "marker": {
          "color": "#19d3f3"
         },
         "name": "IMO STATE",
         "offsetgroup": "IMO STATE",
         "orientation": "v",
         "showlegend": true,
         "textposition": "outside",
         "texttemplate": "%{text:.4s}",
         "type": "bar",
         "x": [
          "IMO STATE"
         ],
         "xaxis": "x",
         "y": [
          3491674708
         ],
         "yaxis": "y"
        },
        {
         "alignmentgroup": "True",
         "hovertemplate": "STATE=%{x}<br>MARCH=%{y}<extra></extra>",
         "legendgroup": "JIGAWA STATE",
         "marker": {
          "color": "#FF6692"
         },
         "name": "JIGAWA STATE",
         "offsetgroup": "JIGAWA STATE",
         "orientation": "v",
         "showlegend": true,
         "textposition": "outside",
         "texttemplate": "%{text:.4s}",
         "type": "bar",
         "x": [
          "JIGAWA STATE"
         ],
         "xaxis": "x",
         "y": [
          3656023335
         ],
         "yaxis": "y"
        },
        {
         "alignmentgroup": "True",
         "hovertemplate": "STATE=%{x}<br>MARCH=%{y}<extra></extra>",
         "legendgroup": "KADUNA STATE",
         "marker": {
          "color": "#B6E880"
         },
         "name": "KADUNA STATE",
         "offsetgroup": "KADUNA STATE",
         "orientation": "v",
         "showlegend": true,
         "textposition": "outside",
         "texttemplate": "%{text:.4s}",
         "type": "bar",
         "x": [
          "KADUNA STATE"
         ],
         "xaxis": "x",
         "y": [
          4057896493
         ],
         "yaxis": "y"
        },
        {
         "alignmentgroup": "True",
         "hovertemplate": "STATE=%{x}<br>MARCH=%{y}<extra></extra>",
         "legendgroup": "KANO STATE",
         "marker": {
          "color": "#FF97FF"
         },
         "name": "KANO STATE",
         "offsetgroup": "KANO STATE",
         "orientation": "v",
         "showlegend": true,
         "textposition": "outside",
         "texttemplate": "%{text:.4s}",
         "type": "bar",
         "x": [
          "KANO STATE"
         ],
         "xaxis": "x",
         "y": [
          6623368114
         ],
         "yaxis": "y"
        },
        {
         "alignmentgroup": "True",
         "hovertemplate": "STATE=%{x}<br>MARCH=%{y}<extra></extra>",
         "legendgroup": "KATSINA STATE",
         "marker": {
          "color": "#FECB52"
         },
         "name": "KATSINA STATE",
         "offsetgroup": "KATSINA STATE",
         "orientation": "v",
         "showlegend": true,
         "textposition": "outside",
         "texttemplate": "%{text:.4s}",
         "type": "bar",
         "x": [
          "KATSINA STATE"
         ],
         "xaxis": "x",
         "y": [
          4905098333
         ],
         "yaxis": "y"
        },
        {
         "alignmentgroup": "True",
         "hovertemplate": "STATE=%{x}<br>MARCH=%{y}<extra></extra>",
         "legendgroup": "KEBBI STATE",
         "marker": {
          "color": "#636efa"
         },
         "name": "KEBBI STATE",
         "offsetgroup": "KEBBI STATE",
         "orientation": "v",
         "showlegend": true,
         "textposition": "outside",
         "texttemplate": "%{text:.4s}",
         "type": "bar",
         "x": [
          "KEBBI STATE"
         ],
         "xaxis": "x",
         "y": [
          3059489247
         ],
         "yaxis": "y"
        },
        {
         "alignmentgroup": "True",
         "hovertemplate": "STATE=%{x}<br>MARCH=%{y}<extra></extra>",
         "legendgroup": "KOGI STATE",
         "marker": {
          "color": "#EF553B"
         },
         "name": "KOGI STATE",
         "offsetgroup": "KOGI STATE",
         "orientation": "v",
         "showlegend": true,
         "textposition": "outside",
         "texttemplate": "%{text:.4s}",
         "type": "bar",
         "x": [
          "KOGI STATE"
         ],
         "xaxis": "x",
         "y": [
          2773911812
         ],
         "yaxis": "y"
        },
        {
         "alignmentgroup": "True",
         "hovertemplate": "STATE=%{x}<br>MARCH=%{y}<extra></extra>",
         "legendgroup": "KWARA STATE",
         "marker": {
          "color": "#00cc96"
         },
         "name": "KWARA STATE",
         "offsetgroup": "KWARA STATE",
         "orientation": "v",
         "showlegend": true,
         "textposition": "outside",
         "texttemplate": "%{text:.4s}",
         "type": "bar",
         "x": [
          "KWARA STATE"
         ],
         "xaxis": "x",
         "y": [
          2254609914
         ],
         "yaxis": "y"
        },
        {
         "alignmentgroup": "True",
         "hovertemplate": "STATE=%{x}<br>MARCH=%{y}<extra></extra>",
         "legendgroup": "LAGOS STATE",
         "marker": {
          "color": "#ab63fa"
         },
         "name": "LAGOS STATE",
         "offsetgroup": "LAGOS STATE",
         "orientation": "v",
         "showlegend": true,
         "textposition": "outside",
         "texttemplate": "%{text:.4s}",
         "type": "bar",
         "x": [
          "LAGOS STATE"
         ],
         "xaxis": "x",
         "y": [
          8449184890
         ],
         "yaxis": "y"
        },
        {
         "alignmentgroup": "True",
         "hovertemplate": "STATE=%{x}<br>MARCH=%{y}<extra></extra>",
         "legendgroup": "NASARAWA STATE",
         "marker": {
          "color": "#FFA15A"
         },
         "name": "NASARAWA STATE",
         "offsetgroup": "NASARAWA STATE",
         "orientation": "v",
         "showlegend": true,
         "textposition": "outside",
         "texttemplate": "%{text:.4s}",
         "type": "bar",
         "x": [
          "NASARAWA STATE"
         ],
         "xaxis": "x",
         "y": [
          1920955889
         ],
         "yaxis": "y"
        },
        {
         "alignmentgroup": "True",
         "hovertemplate": "STATE=%{x}<br>MARCH=%{y}<extra></extra>",
         "legendgroup": "NIGER STATE",
         "marker": {
          "color": "#19d3f3"
         },
         "name": "NIGER STATE",
         "offsetgroup": "NIGER STATE",
         "orientation": "v",
         "showlegend": true,
         "textposition": "outside",
         "texttemplate": "%{text:.4s}",
         "type": "bar",
         "x": [
          "NIGER STATE"
         ],
         "xaxis": "x",
         "y": [
          3693351525
         ],
         "yaxis": "y"
        },
        {
         "alignmentgroup": "True",
         "hovertemplate": "STATE=%{x}<br>MARCH=%{y}<extra></extra>",
         "legendgroup": "OGUN STATE",
         "marker": {
          "color": "#FF6692"
         },
         "name": "OGUN STATE",
         "offsetgroup": "OGUN STATE",
         "orientation": "v",
         "showlegend": true,
         "textposition": "outside",
         "texttemplate": "%{text:.4s}",
         "type": "bar",
         "x": [
          "OGUN STATE"
         ],
         "xaxis": "x",
         "y": [
          2682992240
         ],
         "yaxis": "y"
        },
        {
         "alignmentgroup": "True",
         "hovertemplate": "STATE=%{x}<br>MARCH=%{y}<extra></extra>",
         "legendgroup": "ONDO STATE",
         "marker": {
          "color": "#B6E880"
         },
         "name": "ONDO STATE",
         "offsetgroup": "ONDO STATE",
         "orientation": "v",
         "showlegend": true,
         "textposition": "outside",
         "texttemplate": "%{text:.4s}",
         "type": "bar",
         "x": [
          "ONDO STATE"
         ],
         "xaxis": "x",
         "y": [
          2563141849
         ],
         "yaxis": "y"
        },
        {
         "alignmentgroup": "True",
         "hovertemplate": "STATE=%{x}<br>MARCH=%{y}<extra></extra>",
         "legendgroup": "OSUN STATE",
         "marker": {
          "color": "#FF97FF"
         },
         "name": "OSUN STATE",
         "offsetgroup": "OSUN STATE",
         "orientation": "v",
         "showlegend": true,
         "textposition": "outside",
         "texttemplate": "%{text:.4s}",
         "type": "bar",
         "x": [
          "OSUN STATE"
         ],
         "xaxis": "x",
         "y": [
          3457313474
         ],
         "yaxis": "y"
        },
        {
         "alignmentgroup": "True",
         "hovertemplate": "STATE=%{x}<br>MARCH=%{y}<extra></extra>",
         "legendgroup": "OYO STATE",
         "marker": {
          "color": "#FECB52"
         },
         "name": "OYO STATE",
         "offsetgroup": "OYO STATE",
         "orientation": "v",
         "showlegend": true,
         "textposition": "outside",
         "texttemplate": "%{text:.4s}",
         "type": "bar",
         "x": [
          "OYO STATE"
         ],
         "xaxis": "x",
         "y": [
          4573078736
         ],
         "yaxis": "y"
        },
        {
         "alignmentgroup": "True",
         "hovertemplate": "STATE=%{x}<br>MARCH=%{y}<extra></extra>",
         "legendgroup": "PLATEAU STATE",
         "marker": {
          "color": "#636efa"
         },
         "name": "PLATEAU STATE",
         "offsetgroup": "PLATEAU STATE",
         "orientation": "v",
         "showlegend": true,
         "textposition": "outside",
         "texttemplate": "%{text:.4s}",
         "type": "bar",
         "x": [
          "PLATEAU STATE"
         ],
         "xaxis": "x",
         "y": [
          2713009231
         ],
         "yaxis": "y"
        },
        {
         "alignmentgroup": "True",
         "hovertemplate": "STATE=%{x}<br>MARCH=%{y}<extra></extra>",
         "legendgroup": "RIVERS STATE",
         "marker": {
          "color": "#EF553B"
         },
         "name": "RIVERS STATE",
         "offsetgroup": "RIVERS STATE",
         "orientation": "v",
         "showlegend": true,
         "textposition": "outside",
         "texttemplate": "%{text:.4s}",
         "type": "bar",
         "x": [
          "RIVERS STATE"
         ],
         "xaxis": "x",
         "y": [
          3644523436
         ],
         "yaxis": "y"
        },
        {
         "alignmentgroup": "True",
         "hovertemplate": "STATE=%{x}<br>MARCH=%{y}<extra></extra>",
         "legendgroup": "SOKOTO STATE",
         "marker": {
          "color": "#00cc96"
         },
         "name": "SOKOTO STATE",
         "offsetgroup": "SOKOTO STATE",
         "orientation": "v",
         "showlegend": true,
         "textposition": "outside",
         "texttemplate": "%{text:.4s}",
         "type": "bar",
         "x": [
          "SOKOTO STATE"
         ],
         "xaxis": "x",
         "y": [
          3335680683
         ],
         "yaxis": "y"
        },
        {
         "alignmentgroup": "True",
         "hovertemplate": "STATE=%{x}<br>MARCH=%{y}<extra></extra>",
         "legendgroup": "TARABA STATE",
         "marker": {
          "color": "#ab63fa"
         },
         "name": "TARABA STATE",
         "offsetgroup": "TARABA STATE",
         "orientation": "v",
         "showlegend": true,
         "textposition": "outside",
         "texttemplate": "%{text:.4s}",
         "type": "bar",
         "x": [
          "TARABA STATE"
         ],
         "xaxis": "x",
         "y": [
          2464528447
         ],
         "yaxis": "y"
        },
        {
         "alignmentgroup": "True",
         "hovertemplate": "STATE=%{x}<br>MARCH=%{y}<extra></extra>",
         "legendgroup": "YOBE STATE",
         "marker": {
          "color": "#FFA15A"
         },
         "name": "YOBE STATE",
         "offsetgroup": "YOBE STATE",
         "orientation": "v",
         "showlegend": true,
         "textposition": "outside",
         "texttemplate": "%{text:.4s}",
         "type": "bar",
         "x": [
          "YOBE STATE"
         ],
         "xaxis": "x",
         "y": [
          2507655602
         ],
         "yaxis": "y"
        },
        {
         "alignmentgroup": "True",
         "hovertemplate": "STATE=%{x}<br>MARCH=%{y}<extra></extra>",
         "legendgroup": "ZAMFARA STATE",
         "marker": {
          "color": "#19d3f3"
         },
         "name": "ZAMFARA STATE",
         "offsetgroup": "ZAMFARA STATE",
         "orientation": "v",
         "showlegend": true,
         "textposition": "outside",
         "texttemplate": "%{text:.4s}",
         "type": "bar",
         "x": [
          "ZAMFARA STATE"
         ],
         "xaxis": "x",
         "y": [
          2312742310
         ],
         "yaxis": "y"
        },
        {
         "alignmentgroup": "True",
         "hovertemplate": "STATE=%{x}<br>MARCH=%{y}<extra></extra>",
         "legendgroup": "FEDERAL CAPITAL TERRITORY (FCT)",
         "marker": {
          "color": "#FF6692"
         },
         "name": "FEDERAL CAPITAL TERRITORY (FCT)",
         "offsetgroup": "FEDERAL CAPITAL TERRITORY (FCT)",
         "orientation": "v",
         "showlegend": true,
         "textposition": "outside",
         "texttemplate": "%{text:.4s}",
         "type": "bar",
         "x": [
          "FEDERAL CAPITAL TERRITORY (FCT)"
         ],
         "xaxis": "x",
         "y": [
          2037645815
         ],
         "yaxis": "y"
        }
       ],
       "layout": {
        "barmode": "relative",
        "height": 750,
        "legend": {
         "title": {
          "text": "STATE"
         },
         "tracegroupgap": 0
        },
        "margin": {
         "t": 60
        },
        "template": {
         "data": {
          "bar": [
           {
            "error_x": {
             "color": "#2a3f5f"
            },
            "error_y": {
             "color": "#2a3f5f"
            },
            "marker": {
             "line": {
              "color": "#E5ECF6",
              "width": 0.5
             }
            },
            "type": "bar"
           }
          ],
          "barpolar": [
           {
            "marker": {
             "line": {
              "color": "#E5ECF6",
              "width": 0.5
             }
            },
            "type": "barpolar"
           }
          ],
          "carpet": [
           {
            "aaxis": {
             "endlinecolor": "#2a3f5f",
             "gridcolor": "white",
             "linecolor": "white",
             "minorgridcolor": "white",
             "startlinecolor": "#2a3f5f"
            },
            "baxis": {
             "endlinecolor": "#2a3f5f",
             "gridcolor": "white",
             "linecolor": "white",
             "minorgridcolor": "white",
             "startlinecolor": "#2a3f5f"
            },
            "type": "carpet"
           }
          ],
          "choropleth": [
           {
            "colorbar": {
             "outlinewidth": 0,
             "ticks": ""
            },
            "type": "choropleth"
           }
          ],
          "contour": [
           {
            "colorbar": {
             "outlinewidth": 0,
             "ticks": ""
            },
            "colorscale": [
             [
              0,
              "#0d0887"
             ],
             [
              0.1111111111111111,
              "#46039f"
             ],
             [
              0.2222222222222222,
              "#7201a8"
             ],
             [
              0.3333333333333333,
              "#9c179e"
             ],
             [
              0.4444444444444444,
              "#bd3786"
             ],
             [
              0.5555555555555556,
              "#d8576b"
             ],
             [
              0.6666666666666666,
              "#ed7953"
             ],
             [
              0.7777777777777778,
              "#fb9f3a"
             ],
             [
              0.8888888888888888,
              "#fdca26"
             ],
             [
              1,
              "#f0f921"
             ]
            ],
            "type": "contour"
           }
          ],
          "contourcarpet": [
           {
            "colorbar": {
             "outlinewidth": 0,
             "ticks": ""
            },
            "type": "contourcarpet"
           }
          ],
          "heatmap": [
           {
            "colorbar": {
             "outlinewidth": 0,
             "ticks": ""
            },
            "colorscale": [
             [
              0,
              "#0d0887"
             ],
             [
              0.1111111111111111,
              "#46039f"
             ],
             [
              0.2222222222222222,
              "#7201a8"
             ],
             [
              0.3333333333333333,
              "#9c179e"
             ],
             [
              0.4444444444444444,
              "#bd3786"
             ],
             [
              0.5555555555555556,
              "#d8576b"
             ],
             [
              0.6666666666666666,
              "#ed7953"
             ],
             [
              0.7777777777777778,
              "#fb9f3a"
             ],
             [
              0.8888888888888888,
              "#fdca26"
             ],
             [
              1,
              "#f0f921"
             ]
            ],
            "type": "heatmap"
           }
          ],
          "heatmapgl": [
           {
            "colorbar": {
             "outlinewidth": 0,
             "ticks": ""
            },
            "colorscale": [
             [
              0,
              "#0d0887"
             ],
             [
              0.1111111111111111,
              "#46039f"
             ],
             [
              0.2222222222222222,
              "#7201a8"
             ],
             [
              0.3333333333333333,
              "#9c179e"
             ],
             [
              0.4444444444444444,
              "#bd3786"
             ],
             [
              0.5555555555555556,
              "#d8576b"
             ],
             [
              0.6666666666666666,
              "#ed7953"
             ],
             [
              0.7777777777777778,
              "#fb9f3a"
             ],
             [
              0.8888888888888888,
              "#fdca26"
             ],
             [
              1,
              "#f0f921"
             ]
            ],
            "type": "heatmapgl"
           }
          ],
          "histogram": [
           {
            "marker": {
             "colorbar": {
              "outlinewidth": 0,
              "ticks": ""
             }
            },
            "type": "histogram"
           }
          ],
          "histogram2d": [
           {
            "colorbar": {
             "outlinewidth": 0,
             "ticks": ""
            },
            "colorscale": [
             [
              0,
              "#0d0887"
             ],
             [
              0.1111111111111111,
              "#46039f"
             ],
             [
              0.2222222222222222,
              "#7201a8"
             ],
             [
              0.3333333333333333,
              "#9c179e"
             ],
             [
              0.4444444444444444,
              "#bd3786"
             ],
             [
              0.5555555555555556,
              "#d8576b"
             ],
             [
              0.6666666666666666,
              "#ed7953"
             ],
             [
              0.7777777777777778,
              "#fb9f3a"
             ],
             [
              0.8888888888888888,
              "#fdca26"
             ],
             [
              1,
              "#f0f921"
             ]
            ],
            "type": "histogram2d"
           }
          ],
          "histogram2dcontour": [
           {
            "colorbar": {
             "outlinewidth": 0,
             "ticks": ""
            },
            "colorscale": [
             [
              0,
              "#0d0887"
             ],
             [
              0.1111111111111111,
              "#46039f"
             ],
             [
              0.2222222222222222,
              "#7201a8"
             ],
             [
              0.3333333333333333,
              "#9c179e"
             ],
             [
              0.4444444444444444,
              "#bd3786"
             ],
             [
              0.5555555555555556,
              "#d8576b"
             ],
             [
              0.6666666666666666,
              "#ed7953"
             ],
             [
              0.7777777777777778,
              "#fb9f3a"
             ],
             [
              0.8888888888888888,
              "#fdca26"
             ],
             [
              1,
              "#f0f921"
             ]
            ],
            "type": "histogram2dcontour"
           }
          ],
          "mesh3d": [
           {
            "colorbar": {
             "outlinewidth": 0,
             "ticks": ""
            },
            "type": "mesh3d"
           }
          ],
          "parcoords": [
           {
            "line": {
             "colorbar": {
              "outlinewidth": 0,
              "ticks": ""
             }
            },
            "type": "parcoords"
           }
          ],
          "pie": [
           {
            "automargin": true,
            "type": "pie"
           }
          ],
          "scatter": [
           {
            "marker": {
             "colorbar": {
              "outlinewidth": 0,
              "ticks": ""
             }
            },
            "type": "scatter"
           }
          ],
          "scatter3d": [
           {
            "line": {
             "colorbar": {
              "outlinewidth": 0,
              "ticks": ""
             }
            },
            "marker": {
             "colorbar": {
              "outlinewidth": 0,
              "ticks": ""
             }
            },
            "type": "scatter3d"
           }
          ],
          "scattercarpet": [
           {
            "marker": {
             "colorbar": {
              "outlinewidth": 0,
              "ticks": ""
             }
            },
            "type": "scattercarpet"
           }
          ],
          "scattergeo": [
           {
            "marker": {
             "colorbar": {
              "outlinewidth": 0,
              "ticks": ""
             }
            },
            "type": "scattergeo"
           }
          ],
          "scattergl": [
           {
            "marker": {
             "colorbar": {
              "outlinewidth": 0,
              "ticks": ""
             }
            },
            "type": "scattergl"
           }
          ],
          "scattermapbox": [
           {
            "marker": {
             "colorbar": {
              "outlinewidth": 0,
              "ticks": ""
             }
            },
            "type": "scattermapbox"
           }
          ],
          "scatterpolar": [
           {
            "marker": {
             "colorbar": {
              "outlinewidth": 0,
              "ticks": ""
             }
            },
            "type": "scatterpolar"
           }
          ],
          "scatterpolargl": [
           {
            "marker": {
             "colorbar": {
              "outlinewidth": 0,
              "ticks": ""
             }
            },
            "type": "scatterpolargl"
           }
          ],
          "scatterternary": [
           {
            "marker": {
             "colorbar": {
              "outlinewidth": 0,
              "ticks": ""
             }
            },
            "type": "scatterternary"
           }
          ],
          "surface": [
           {
            "colorbar": {
             "outlinewidth": 0,
             "ticks": ""
            },
            "colorscale": [
             [
              0,
              "#0d0887"
             ],
             [
              0.1111111111111111,
              "#46039f"
             ],
             [
              0.2222222222222222,
              "#7201a8"
             ],
             [
              0.3333333333333333,
              "#9c179e"
             ],
             [
              0.4444444444444444,
              "#bd3786"
             ],
             [
              0.5555555555555556,
              "#d8576b"
             ],
             [
              0.6666666666666666,
              "#ed7953"
             ],
             [
              0.7777777777777778,
              "#fb9f3a"
             ],
             [
              0.8888888888888888,
              "#fdca26"
             ],
             [
              1,
              "#f0f921"
             ]
            ],
            "type": "surface"
           }
          ],
          "table": [
           {
            "cells": {
             "fill": {
              "color": "#EBF0F8"
             },
             "line": {
              "color": "white"
             }
            },
            "header": {
             "fill": {
              "color": "#C8D4E3"
             },
             "line": {
              "color": "white"
             }
            },
            "type": "table"
           }
          ]
         },
         "layout": {
          "annotationdefaults": {
           "arrowcolor": "#2a3f5f",
           "arrowhead": 0,
           "arrowwidth": 1
          },
          "autotypenumbers": "strict",
          "coloraxis": {
           "colorbar": {
            "outlinewidth": 0,
            "ticks": ""
           }
          },
          "colorscale": {
           "diverging": [
            [
             0,
             "#8e0152"
            ],
            [
             0.1,
             "#c51b7d"
            ],
            [
             0.2,
             "#de77ae"
            ],
            [
             0.3,
             "#f1b6da"
            ],
            [
             0.4,
             "#fde0ef"
            ],
            [
             0.5,
             "#f7f7f7"
            ],
            [
             0.6,
             "#e6f5d0"
            ],
            [
             0.7,
             "#b8e186"
            ],
            [
             0.8,
             "#7fbc41"
            ],
            [
             0.9,
             "#4d9221"
            ],
            [
             1,
             "#276419"
            ]
           ],
           "sequential": [
            [
             0,
             "#0d0887"
            ],
            [
             0.1111111111111111,
             "#46039f"
            ],
            [
             0.2222222222222222,
             "#7201a8"
            ],
            [
             0.3333333333333333,
             "#9c179e"
            ],
            [
             0.4444444444444444,
             "#bd3786"
            ],
            [
             0.5555555555555556,
             "#d8576b"
            ],
            [
             0.6666666666666666,
             "#ed7953"
            ],
            [
             0.7777777777777778,
             "#fb9f3a"
            ],
            [
             0.8888888888888888,
             "#fdca26"
            ],
            [
             1,
             "#f0f921"
            ]
           ],
           "sequentialminus": [
            [
             0,
             "#0d0887"
            ],
            [
             0.1111111111111111,
             "#46039f"
            ],
            [
             0.2222222222222222,
             "#7201a8"
            ],
            [
             0.3333333333333333,
             "#9c179e"
            ],
            [
             0.4444444444444444,
             "#bd3786"
            ],
            [
             0.5555555555555556,
             "#d8576b"
            ],
            [
             0.6666666666666666,
             "#ed7953"
            ],
            [
             0.7777777777777778,
             "#fb9f3a"
            ],
            [
             0.8888888888888888,
             "#fdca26"
            ],
            [
             1,
             "#f0f921"
            ]
           ]
          },
          "colorway": [
           "#636efa",
           "#EF553B",
           "#00cc96",
           "#ab63fa",
           "#FFA15A",
           "#19d3f3",
           "#FF6692",
           "#B6E880",
           "#FF97FF",
           "#FECB52"
          ],
          "font": {
           "color": "#2a3f5f"
          },
          "geo": {
           "bgcolor": "white",
           "lakecolor": "white",
           "landcolor": "#E5ECF6",
           "showlakes": true,
           "showland": true,
           "subunitcolor": "white"
          },
          "hoverlabel": {
           "align": "left"
          },
          "hovermode": "closest",
          "mapbox": {
           "style": "light"
          },
          "paper_bgcolor": "white",
          "plot_bgcolor": "#E5ECF6",
          "polar": {
           "angularaxis": {
            "gridcolor": "white",
            "linecolor": "white",
            "ticks": ""
           },
           "bgcolor": "#E5ECF6",
           "radialaxis": {
            "gridcolor": "white",
            "linecolor": "white",
            "ticks": ""
           }
          },
          "scene": {
           "xaxis": {
            "backgroundcolor": "#E5ECF6",
            "gridcolor": "white",
            "gridwidth": 2,
            "linecolor": "white",
            "showbackground": true,
            "ticks": "",
            "zerolinecolor": "white"
           },
           "yaxis": {
            "backgroundcolor": "#E5ECF6",
            "gridcolor": "white",
            "gridwidth": 2,
            "linecolor": "white",
            "showbackground": true,
            "ticks": "",
            "zerolinecolor": "white"
           },
           "zaxis": {
            "backgroundcolor": "#E5ECF6",
            "gridcolor": "white",
            "gridwidth": 2,
            "linecolor": "white",
            "showbackground": true,
            "ticks": "",
            "zerolinecolor": "white"
           }
          },
          "shapedefaults": {
           "line": {
            "color": "#2a3f5f"
           }
          },
          "ternary": {
           "aaxis": {
            "gridcolor": "white",
            "linecolor": "white",
            "ticks": ""
           },
           "baxis": {
            "gridcolor": "white",
            "linecolor": "white",
            "ticks": ""
           },
           "bgcolor": "#E5ECF6",
           "caxis": {
            "gridcolor": "white",
            "linecolor": "white",
            "ticks": ""
           }
          },
          "title": {
           "x": 0.05
          },
          "xaxis": {
           "automargin": true,
           "gridcolor": "white",
           "linecolor": "white",
           "ticks": "",
           "title": {
            "standoff": 15
           },
           "zerolinecolor": "white",
           "zerolinewidth": 2
          },
          "yaxis": {
           "automargin": true,
           "gridcolor": "white",
           "linecolor": "white",
           "ticks": "",
           "title": {
            "standoff": 15
           },
           "zerolinecolor": "white",
           "zerolinewidth": 2
          }
         }
        },
        "title": {
         "text": "FAAC_2020",
         "x": 0.5,
         "y": 0.8
        },
        "uniformtext": {
         "minsize": 8,
         "mode": "hide"
        },
        "width": 1000,
        "xaxis": {
         "anchor": "y",
         "categoryarray": [
          "ABIA STATE",
          "ADAMAWA STATE",
          "AKWA IBOW STATE",
          "ANAMBRA STATE",
          "BAUCHI STATE",
          "BAYELSA STATE",
          "BENUE STATE",
          "BORNO STATE",
          "CROSS-RIVER STATE",
          "DELTA STATE",
          "EBONYI STATE",
          "EDO STATE",
          "EKITI STATE",
          "ENUGU STATE",
          "GOMBE STATE",
          "IMO STATE",
          "JIGAWA STATE",
          "KADUNA STATE",
          "KANO STATE",
          "KATSINA STATE",
          "KEBBI STATE",
          "KOGI STATE",
          "KWARA STATE",
          "LAGOS STATE",
          "NASARAWA STATE",
          "NIGER STATE",
          "OGUN STATE",
          "ONDO STATE",
          "OSUN STATE",
          "OYO STATE",
          "PLATEAU STATE",
          "RIVERS STATE",
          "SOKOTO STATE",
          "TARABA STATE",
          "YOBE STATE",
          "ZAMFARA STATE",
          "FEDERAL CAPITAL TERRITORY (FCT)"
         ],
         "categoryorder": "array",
         "domain": [
          0,
          1
         ],
         "title": {
          "text": "STATE"
         }
        },
        "yaxis": {
         "anchor": "x",
         "domain": [
          0,
          1
         ],
         "title": {
          "text": "MARCH"
         }
        }
       }
      },
      "text/html": [
       "<div>                            <div id=\"278428de-7182-4f15-8a40-9d901fd86727\" class=\"plotly-graph-div\" style=\"height:750px; width:1000px;\"></div>            <script type=\"text/javascript\">                require([\"plotly\"], function(Plotly) {                    window.PLOTLYENV=window.PLOTLYENV || {};                                    if (document.getElementById(\"278428de-7182-4f15-8a40-9d901fd86727\")) {                    Plotly.newPlot(                        \"278428de-7182-4f15-8a40-9d901fd86727\",                        [{\"alignmentgroup\": \"True\", \"hovertemplate\": \"STATE=%{x}<br>MARCH=%{y}<extra></extra>\", \"legendgroup\": \"ABIA STATE\", \"marker\": {\"color\": \"#636efa\"}, \"name\": \"ABIA STATE\", \"offsetgroup\": \"ABIA STATE\", \"orientation\": \"v\", \"showlegend\": true, \"textposition\": \"outside\", \"texttemplate\": \"%{text:.4s}\", \"type\": \"bar\", \"x\": [\"ABIA STATE\"], \"xaxis\": \"x\", \"y\": [2363484966], \"yaxis\": \"y\"}, {\"alignmentgroup\": \"True\", \"hovertemplate\": \"STATE=%{x}<br>MARCH=%{y}<extra></extra>\", \"legendgroup\": \"ADAMAWA STATE\", \"marker\": {\"color\": \"#EF553B\"}, \"name\": \"ADAMAWA STATE\", \"offsetgroup\": \"ADAMAWA STATE\", \"orientation\": \"v\", \"showlegend\": true, \"textposition\": \"outside\", \"texttemplate\": \"%{text:.4s}\", \"type\": \"bar\", \"x\": [\"ADAMAWA STATE\"], \"xaxis\": \"x\", \"y\": [2951196566], \"yaxis\": \"y\"}, {\"alignmentgroup\": \"True\", \"hovertemplate\": \"STATE=%{x}<br>MARCH=%{y}<extra></extra>\", \"legendgroup\": \"AKWA IBOW STATE\", \"marker\": {\"color\": \"#00cc96\"}, \"name\": \"AKWA IBOW STATE\", \"offsetgroup\": \"AKWA IBOW STATE\", \"orientation\": \"v\", \"showlegend\": true, \"textposition\": \"outside\", \"texttemplate\": \"%{text:.4s}\", \"type\": \"bar\", \"x\": [\"AKWA IBOW STATE\"], \"xaxis\": \"x\", \"y\": [3975088679], \"yaxis\": \"y\"}, {\"alignmentgroup\": \"True\", \"hovertemplate\": \"STATE=%{x}<br>MARCH=%{y}<extra></extra>\", \"legendgroup\": \"ANAMBRA STATE\", \"marker\": {\"color\": \"#ab63fa\"}, \"name\": \"ANAMBRA STATE\", \"offsetgroup\": \"ANAMBRA STATE\", \"orientation\": \"v\", \"showlegend\": true, \"textposition\": \"outside\", \"texttemplate\": \"%{text:.4s}\", \"type\": \"bar\", \"x\": [\"ANAMBRA STATE\"], \"xaxis\": \"x\", \"y\": [3034416217], \"yaxis\": \"y\"}, {\"alignmentgroup\": \"True\", \"hovertemplate\": \"STATE=%{x}<br>MARCH=%{y}<extra></extra>\", \"legendgroup\": \"BAUCHI STATE\", \"marker\": {\"color\": \"#FFA15A\"}, \"name\": \"BAUCHI STATE\", \"offsetgroup\": \"BAUCHI STATE\", \"orientation\": \"v\", \"showlegend\": true, \"textposition\": \"outside\", \"texttemplate\": \"%{text:.4s}\", \"type\": \"bar\", \"x\": [\"BAUCHI STATE\"], \"xaxis\": \"x\", \"y\": [3353442557], \"yaxis\": \"y\"}, {\"alignmentgroup\": \"True\", \"hovertemplate\": \"STATE=%{x}<br>MARCH=%{y}<extra></extra>\", \"legendgroup\": \"BAYELSA STATE\", \"marker\": {\"color\": \"#19d3f3\"}, \"name\": \"BAYELSA STATE\", \"offsetgroup\": \"BAYELSA STATE\", \"orientation\": \"v\", \"showlegend\": true, \"textposition\": \"outside\", \"texttemplate\": \"%{text:.4s}\", \"type\": \"bar\", \"x\": [\"BAYELSA STATE\"], \"xaxis\": \"x\", \"y\": [1374002332], \"yaxis\": \"y\"}, {\"alignmentgroup\": \"True\", \"hovertemplate\": \"STATE=%{x}<br>MARCH=%{y}<extra></extra>\", \"legendgroup\": \"BENUE STATE\", \"marker\": {\"color\": \"#FF6692\"}, \"name\": \"BENUE STATE\", \"offsetgroup\": \"BENUE STATE\", \"orientation\": \"v\", \"showlegend\": true, \"textposition\": \"outside\", \"texttemplate\": \"%{text:.4s}\", \"type\": \"bar\", \"x\": [\"BENUE STATE\"], \"xaxis\": \"x\", \"y\": [3463541420], \"yaxis\": \"y\"}, {\"alignmentgroup\": \"True\", \"hovertemplate\": \"STATE=%{x}<br>MARCH=%{y}<extra></extra>\", \"legendgroup\": \"BORNO STATE\", \"marker\": {\"color\": \"#B6E880\"}, \"name\": \"BORNO STATE\", \"offsetgroup\": \"BORNO STATE\", \"orientation\": \"v\", \"showlegend\": true, \"textposition\": \"outside\", \"texttemplate\": \"%{text:.4s}\", \"type\": \"bar\", \"x\": [\"BORNO STATE\"], \"xaxis\": \"x\", \"y\": [3938928589], \"yaxis\": \"y\"}, {\"alignmentgroup\": \"True\", \"hovertemplate\": \"STATE=%{x}<br>MARCH=%{y}<extra></extra>\", \"legendgroup\": \"CROSS-RIVER STATE\", \"marker\": {\"color\": \"#FF97FF\"}, \"name\": \"CROSS-RIVER STATE\", \"offsetgroup\": \"CROSS-RIVER STATE\", \"orientation\": \"v\", \"showlegend\": true, \"textposition\": \"outside\", \"texttemplate\": \"%{text:.4s}\", \"type\": \"bar\", \"x\": [\"CROSS-RIVER STATE\"], \"xaxis\": \"x\", \"y\": [2525596284], \"yaxis\": \"y\"}, {\"alignmentgroup\": \"True\", \"hovertemplate\": \"STATE=%{x}<br>MARCH=%{y}<extra></extra>\", \"legendgroup\": \"DELTA STATE\", \"marker\": {\"color\": \"#FECB52\"}, \"name\": \"DELTA STATE\", \"offsetgroup\": \"DELTA STATE\", \"orientation\": \"v\", \"showlegend\": true, \"textposition\": \"outside\", \"texttemplate\": \"%{text:.4s}\", \"type\": \"bar\", \"x\": [\"DELTA STATE\"], \"xaxis\": \"x\", \"y\": [3357915895], \"yaxis\": \"y\"}, {\"alignmentgroup\": \"True\", \"hovertemplate\": \"STATE=%{x}<br>MARCH=%{y}<extra></extra>\", \"legendgroup\": \"EBONYI STATE\", \"marker\": {\"color\": \"#636efa\"}, \"name\": \"EBONYI STATE\", \"offsetgroup\": \"EBONYI STATE\", \"orientation\": \"v\", \"showlegend\": true, \"textposition\": \"outside\", \"texttemplate\": \"%{text:.4s}\", \"type\": \"bar\", \"x\": [\"EBONYI STATE\"], \"xaxis\": \"x\", \"y\": [1863424036], \"yaxis\": \"y\"}, {\"alignmentgroup\": \"True\", \"hovertemplate\": \"STATE=%{x}<br>MARCH=%{y}<extra></extra>\", \"legendgroup\": \"EDO STATE\", \"marker\": {\"color\": \"#EF553B\"}, \"name\": \"EDO STATE\", \"offsetgroup\": \"EDO STATE\", \"orientation\": \"v\", \"showlegend\": true, \"textposition\": \"outside\", \"texttemplate\": \"%{text:.4s}\", \"type\": \"bar\", \"x\": [\"EDO STATE\"], \"xaxis\": \"x\", \"y\": [2565263953], \"yaxis\": \"y\"}, {\"alignmentgroup\": \"True\", \"hovertemplate\": \"STATE=%{x}<br>MARCH=%{y}<extra></extra>\", \"legendgroup\": \"EKITI STATE\", \"marker\": {\"color\": \"#00cc96\"}, \"name\": \"EKITI STATE\", \"offsetgroup\": \"EKITI STATE\", \"orientation\": \"v\", \"showlegend\": true, \"textposition\": \"outside\", \"texttemplate\": \"%{text:.4s}\", \"type\": \"bar\", \"x\": [\"EKITI STATE\"], \"xaxis\": \"x\", \"y\": [2045554153], \"yaxis\": \"y\"}, {\"alignmentgroup\": \"True\", \"hovertemplate\": \"STATE=%{x}<br>MARCH=%{y}<extra></extra>\", \"legendgroup\": \"ENUGU STATE\", \"marker\": {\"color\": \"#ab63fa\"}, \"name\": \"ENUGU STATE\", \"offsetgroup\": \"ENUGU STATE\", \"orientation\": \"v\", \"showlegend\": true, \"textposition\": \"outside\", \"texttemplate\": \"%{text:.4s}\", \"type\": \"bar\", \"x\": [\"ENUGU STATE\"], \"xaxis\": \"x\", \"y\": [2572716780], \"yaxis\": \"y\"}, {\"alignmentgroup\": \"True\", \"hovertemplate\": \"STATE=%{x}<br>MARCH=%{y}<extra></extra>\", \"legendgroup\": \"GOMBE STATE\", \"marker\": {\"color\": \"#FFA15A\"}, \"name\": \"GOMBE STATE\", \"offsetgroup\": \"GOMBE STATE\", \"orientation\": \"v\", \"showlegend\": true, \"textposition\": \"outside\", \"texttemplate\": \"%{text:.4s}\", \"type\": \"bar\", \"x\": [\"GOMBE STATE\"], \"xaxis\": \"x\", \"y\": [1694915242], \"yaxis\": \"y\"}, {\"alignmentgroup\": \"True\", \"hovertemplate\": \"STATE=%{x}<br>MARCH=%{y}<extra></extra>\", \"legendgroup\": \"IMO STATE\", \"marker\": {\"color\": \"#19d3f3\"}, \"name\": \"IMO STATE\", \"offsetgroup\": \"IMO STATE\", \"orientation\": \"v\", \"showlegend\": true, \"textposition\": \"outside\", \"texttemplate\": \"%{text:.4s}\", \"type\": \"bar\", \"x\": [\"IMO STATE\"], \"xaxis\": \"x\", \"y\": [3491674708], \"yaxis\": \"y\"}, {\"alignmentgroup\": \"True\", \"hovertemplate\": \"STATE=%{x}<br>MARCH=%{y}<extra></extra>\", \"legendgroup\": \"JIGAWA STATE\", \"marker\": {\"color\": \"#FF6692\"}, \"name\": \"JIGAWA STATE\", \"offsetgroup\": \"JIGAWA STATE\", \"orientation\": \"v\", \"showlegend\": true, \"textposition\": \"outside\", \"texttemplate\": \"%{text:.4s}\", \"type\": \"bar\", \"x\": [\"JIGAWA STATE\"], \"xaxis\": \"x\", \"y\": [3656023335], \"yaxis\": \"y\"}, {\"alignmentgroup\": \"True\", \"hovertemplate\": \"STATE=%{x}<br>MARCH=%{y}<extra></extra>\", \"legendgroup\": \"KADUNA STATE\", \"marker\": {\"color\": \"#B6E880\"}, \"name\": \"KADUNA STATE\", \"offsetgroup\": \"KADUNA STATE\", \"orientation\": \"v\", \"showlegend\": true, \"textposition\": \"outside\", \"texttemplate\": \"%{text:.4s}\", \"type\": \"bar\", \"x\": [\"KADUNA STATE\"], \"xaxis\": \"x\", \"y\": [4057896493], \"yaxis\": \"y\"}, {\"alignmentgroup\": \"True\", \"hovertemplate\": \"STATE=%{x}<br>MARCH=%{y}<extra></extra>\", \"legendgroup\": \"KANO STATE\", \"marker\": {\"color\": \"#FF97FF\"}, \"name\": \"KANO STATE\", \"offsetgroup\": \"KANO STATE\", \"orientation\": \"v\", \"showlegend\": true, \"textposition\": \"outside\", \"texttemplate\": \"%{text:.4s}\", \"type\": \"bar\", \"x\": [\"KANO STATE\"], \"xaxis\": \"x\", \"y\": [6623368114], \"yaxis\": \"y\"}, {\"alignmentgroup\": \"True\", \"hovertemplate\": \"STATE=%{x}<br>MARCH=%{y}<extra></extra>\", \"legendgroup\": \"KATSINA STATE\", \"marker\": {\"color\": \"#FECB52\"}, \"name\": \"KATSINA STATE\", \"offsetgroup\": \"KATSINA STATE\", \"orientation\": \"v\", \"showlegend\": true, \"textposition\": \"outside\", \"texttemplate\": \"%{text:.4s}\", \"type\": \"bar\", \"x\": [\"KATSINA STATE\"], \"xaxis\": \"x\", \"y\": [4905098333], \"yaxis\": \"y\"}, {\"alignmentgroup\": \"True\", \"hovertemplate\": \"STATE=%{x}<br>MARCH=%{y}<extra></extra>\", \"legendgroup\": \"KEBBI STATE\", \"marker\": {\"color\": \"#636efa\"}, \"name\": \"KEBBI STATE\", \"offsetgroup\": \"KEBBI STATE\", \"orientation\": \"v\", \"showlegend\": true, \"textposition\": \"outside\", \"texttemplate\": \"%{text:.4s}\", \"type\": \"bar\", \"x\": [\"KEBBI STATE\"], \"xaxis\": \"x\", \"y\": [3059489247], \"yaxis\": \"y\"}, {\"alignmentgroup\": \"True\", \"hovertemplate\": \"STATE=%{x}<br>MARCH=%{y}<extra></extra>\", \"legendgroup\": \"KOGI STATE\", \"marker\": {\"color\": \"#EF553B\"}, \"name\": \"KOGI STATE\", \"offsetgroup\": \"KOGI STATE\", \"orientation\": \"v\", \"showlegend\": true, \"textposition\": \"outside\", \"texttemplate\": \"%{text:.4s}\", \"type\": \"bar\", \"x\": [\"KOGI STATE\"], \"xaxis\": \"x\", \"y\": [2773911812], \"yaxis\": \"y\"}, {\"alignmentgroup\": \"True\", \"hovertemplate\": \"STATE=%{x}<br>MARCH=%{y}<extra></extra>\", \"legendgroup\": \"KWARA STATE\", \"marker\": {\"color\": \"#00cc96\"}, \"name\": \"KWARA STATE\", \"offsetgroup\": \"KWARA STATE\", \"orientation\": \"v\", \"showlegend\": true, \"textposition\": \"outside\", \"texttemplate\": \"%{text:.4s}\", \"type\": \"bar\", \"x\": [\"KWARA STATE\"], \"xaxis\": \"x\", \"y\": [2254609914], \"yaxis\": \"y\"}, {\"alignmentgroup\": \"True\", \"hovertemplate\": \"STATE=%{x}<br>MARCH=%{y}<extra></extra>\", \"legendgroup\": \"LAGOS STATE\", \"marker\": {\"color\": \"#ab63fa\"}, \"name\": \"LAGOS STATE\", \"offsetgroup\": \"LAGOS STATE\", \"orientation\": \"v\", \"showlegend\": true, \"textposition\": \"outside\", \"texttemplate\": \"%{text:.4s}\", \"type\": \"bar\", \"x\": [\"LAGOS STATE\"], \"xaxis\": \"x\", \"y\": [8449184890], \"yaxis\": \"y\"}, {\"alignmentgroup\": \"True\", \"hovertemplate\": \"STATE=%{x}<br>MARCH=%{y}<extra></extra>\", \"legendgroup\": \"NASARAWA STATE\", \"marker\": {\"color\": \"#FFA15A\"}, \"name\": \"NASARAWA STATE\", \"offsetgroup\": \"NASARAWA STATE\", \"orientation\": \"v\", \"showlegend\": true, \"textposition\": \"outside\", \"texttemplate\": \"%{text:.4s}\", \"type\": \"bar\", \"x\": [\"NASARAWA STATE\"], \"xaxis\": \"x\", \"y\": [1920955889], \"yaxis\": \"y\"}, {\"alignmentgroup\": \"True\", \"hovertemplate\": \"STATE=%{x}<br>MARCH=%{y}<extra></extra>\", \"legendgroup\": \"NIGER STATE\", \"marker\": {\"color\": \"#19d3f3\"}, \"name\": \"NIGER STATE\", \"offsetgroup\": \"NIGER STATE\", \"orientation\": \"v\", \"showlegend\": true, \"textposition\": \"outside\", \"texttemplate\": \"%{text:.4s}\", \"type\": \"bar\", \"x\": [\"NIGER STATE\"], \"xaxis\": \"x\", \"y\": [3693351525], \"yaxis\": \"y\"}, {\"alignmentgroup\": \"True\", \"hovertemplate\": \"STATE=%{x}<br>MARCH=%{y}<extra></extra>\", \"legendgroup\": \"OGUN STATE\", \"marker\": {\"color\": \"#FF6692\"}, \"name\": \"OGUN STATE\", \"offsetgroup\": \"OGUN STATE\", \"orientation\": \"v\", \"showlegend\": true, \"textposition\": \"outside\", \"texttemplate\": \"%{text:.4s}\", \"type\": \"bar\", \"x\": [\"OGUN STATE\"], \"xaxis\": \"x\", \"y\": [2682992240], \"yaxis\": \"y\"}, {\"alignmentgroup\": \"True\", \"hovertemplate\": \"STATE=%{x}<br>MARCH=%{y}<extra></extra>\", \"legendgroup\": \"ONDO STATE\", \"marker\": {\"color\": \"#B6E880\"}, \"name\": \"ONDO STATE\", \"offsetgroup\": \"ONDO STATE\", \"orientation\": \"v\", \"showlegend\": true, \"textposition\": \"outside\", \"texttemplate\": \"%{text:.4s}\", \"type\": \"bar\", \"x\": [\"ONDO STATE\"], \"xaxis\": \"x\", \"y\": [2563141849], \"yaxis\": \"y\"}, {\"alignmentgroup\": \"True\", \"hovertemplate\": \"STATE=%{x}<br>MARCH=%{y}<extra></extra>\", \"legendgroup\": \"OSUN STATE\", \"marker\": {\"color\": \"#FF97FF\"}, \"name\": \"OSUN STATE\", \"offsetgroup\": \"OSUN STATE\", \"orientation\": \"v\", \"showlegend\": true, \"textposition\": \"outside\", \"texttemplate\": \"%{text:.4s}\", \"type\": \"bar\", \"x\": [\"OSUN STATE\"], \"xaxis\": \"x\", \"y\": [3457313474], \"yaxis\": \"y\"}, {\"alignmentgroup\": \"True\", \"hovertemplate\": \"STATE=%{x}<br>MARCH=%{y}<extra></extra>\", \"legendgroup\": \"OYO STATE\", \"marker\": {\"color\": \"#FECB52\"}, \"name\": \"OYO STATE\", \"offsetgroup\": \"OYO STATE\", \"orientation\": \"v\", \"showlegend\": true, \"textposition\": \"outside\", \"texttemplate\": \"%{text:.4s}\", \"type\": \"bar\", \"x\": [\"OYO STATE\"], \"xaxis\": \"x\", \"y\": [4573078736], \"yaxis\": \"y\"}, {\"alignmentgroup\": \"True\", \"hovertemplate\": \"STATE=%{x}<br>MARCH=%{y}<extra></extra>\", \"legendgroup\": \"PLATEAU STATE\", \"marker\": {\"color\": \"#636efa\"}, \"name\": \"PLATEAU STATE\", \"offsetgroup\": \"PLATEAU STATE\", \"orientation\": \"v\", \"showlegend\": true, \"textposition\": \"outside\", \"texttemplate\": \"%{text:.4s}\", \"type\": \"bar\", \"x\": [\"PLATEAU STATE\"], \"xaxis\": \"x\", \"y\": [2713009231], \"yaxis\": \"y\"}, {\"alignmentgroup\": \"True\", \"hovertemplate\": \"STATE=%{x}<br>MARCH=%{y}<extra></extra>\", \"legendgroup\": \"RIVERS STATE\", \"marker\": {\"color\": \"#EF553B\"}, \"name\": \"RIVERS STATE\", \"offsetgroup\": \"RIVERS STATE\", \"orientation\": \"v\", \"showlegend\": true, \"textposition\": \"outside\", \"texttemplate\": \"%{text:.4s}\", \"type\": \"bar\", \"x\": [\"RIVERS STATE\"], \"xaxis\": \"x\", \"y\": [3644523436], \"yaxis\": \"y\"}, {\"alignmentgroup\": \"True\", \"hovertemplate\": \"STATE=%{x}<br>MARCH=%{y}<extra></extra>\", \"legendgroup\": \"SOKOTO STATE\", \"marker\": {\"color\": \"#00cc96\"}, \"name\": \"SOKOTO STATE\", \"offsetgroup\": \"SOKOTO STATE\", \"orientation\": \"v\", \"showlegend\": true, \"textposition\": \"outside\", \"texttemplate\": \"%{text:.4s}\", \"type\": \"bar\", \"x\": [\"SOKOTO STATE\"], \"xaxis\": \"x\", \"y\": [3335680683], \"yaxis\": \"y\"}, {\"alignmentgroup\": \"True\", \"hovertemplate\": \"STATE=%{x}<br>MARCH=%{y}<extra></extra>\", \"legendgroup\": \"TARABA STATE\", \"marker\": {\"color\": \"#ab63fa\"}, \"name\": \"TARABA STATE\", \"offsetgroup\": \"TARABA STATE\", \"orientation\": \"v\", \"showlegend\": true, \"textposition\": \"outside\", \"texttemplate\": \"%{text:.4s}\", \"type\": \"bar\", \"x\": [\"TARABA STATE\"], \"xaxis\": \"x\", \"y\": [2464528447], \"yaxis\": \"y\"}, {\"alignmentgroup\": \"True\", \"hovertemplate\": \"STATE=%{x}<br>MARCH=%{y}<extra></extra>\", \"legendgroup\": \"YOBE STATE\", \"marker\": {\"color\": \"#FFA15A\"}, \"name\": \"YOBE STATE\", \"offsetgroup\": \"YOBE STATE\", \"orientation\": \"v\", \"showlegend\": true, \"textposition\": \"outside\", \"texttemplate\": \"%{text:.4s}\", \"type\": \"bar\", \"x\": [\"YOBE STATE\"], \"xaxis\": \"x\", \"y\": [2507655602], \"yaxis\": \"y\"}, {\"alignmentgroup\": \"True\", \"hovertemplate\": \"STATE=%{x}<br>MARCH=%{y}<extra></extra>\", \"legendgroup\": \"ZAMFARA STATE\", \"marker\": {\"color\": \"#19d3f3\"}, \"name\": \"ZAMFARA STATE\", \"offsetgroup\": \"ZAMFARA STATE\", \"orientation\": \"v\", \"showlegend\": true, \"textposition\": \"outside\", \"texttemplate\": \"%{text:.4s}\", \"type\": \"bar\", \"x\": [\"ZAMFARA STATE\"], \"xaxis\": \"x\", \"y\": [2312742310], \"yaxis\": \"y\"}, {\"alignmentgroup\": \"True\", \"hovertemplate\": \"STATE=%{x}<br>MARCH=%{y}<extra></extra>\", \"legendgroup\": \"FEDERAL CAPITAL TERRITORY (FCT)\", \"marker\": {\"color\": \"#FF6692\"}, \"name\": \"FEDERAL CAPITAL TERRITORY (FCT)\", \"offsetgroup\": \"FEDERAL CAPITAL TERRITORY (FCT)\", \"orientation\": \"v\", \"showlegend\": true, \"textposition\": \"outside\", \"texttemplate\": \"%{text:.4s}\", \"type\": \"bar\", \"x\": [\"FEDERAL CAPITAL TERRITORY (FCT)\"], \"xaxis\": \"x\", \"y\": [2037645815], \"yaxis\": \"y\"}],                        {\"barmode\": \"relative\", \"height\": 750, \"legend\": {\"title\": {\"text\": \"STATE\"}, \"tracegroupgap\": 0}, \"margin\": {\"t\": 60}, \"template\": {\"data\": {\"bar\": [{\"error_x\": {\"color\": \"#2a3f5f\"}, \"error_y\": {\"color\": \"#2a3f5f\"}, \"marker\": {\"line\": {\"color\": \"#E5ECF6\", \"width\": 0.5}}, \"type\": \"bar\"}], \"barpolar\": [{\"marker\": {\"line\": {\"color\": \"#E5ECF6\", \"width\": 0.5}}, \"type\": \"barpolar\"}], \"carpet\": [{\"aaxis\": {\"endlinecolor\": \"#2a3f5f\", \"gridcolor\": \"white\", \"linecolor\": \"white\", \"minorgridcolor\": \"white\", \"startlinecolor\": \"#2a3f5f\"}, \"baxis\": {\"endlinecolor\": \"#2a3f5f\", \"gridcolor\": \"white\", \"linecolor\": \"white\", \"minorgridcolor\": \"white\", \"startlinecolor\": \"#2a3f5f\"}, \"type\": \"carpet\"}], \"choropleth\": [{\"colorbar\": {\"outlinewidth\": 0, \"ticks\": \"\"}, \"type\": \"choropleth\"}], \"contour\": [{\"colorbar\": {\"outlinewidth\": 0, \"ticks\": \"\"}, \"colorscale\": [[0.0, \"#0d0887\"], [0.1111111111111111, \"#46039f\"], [0.2222222222222222, \"#7201a8\"], [0.3333333333333333, \"#9c179e\"], [0.4444444444444444, \"#bd3786\"], [0.5555555555555556, \"#d8576b\"], [0.6666666666666666, \"#ed7953\"], [0.7777777777777778, \"#fb9f3a\"], [0.8888888888888888, \"#fdca26\"], [1.0, \"#f0f921\"]], \"type\": \"contour\"}], \"contourcarpet\": [{\"colorbar\": {\"outlinewidth\": 0, \"ticks\": \"\"}, \"type\": \"contourcarpet\"}], \"heatmap\": [{\"colorbar\": {\"outlinewidth\": 0, \"ticks\": \"\"}, \"colorscale\": [[0.0, \"#0d0887\"], [0.1111111111111111, \"#46039f\"], [0.2222222222222222, \"#7201a8\"], [0.3333333333333333, \"#9c179e\"], [0.4444444444444444, \"#bd3786\"], [0.5555555555555556, \"#d8576b\"], [0.6666666666666666, \"#ed7953\"], [0.7777777777777778, \"#fb9f3a\"], [0.8888888888888888, \"#fdca26\"], [1.0, \"#f0f921\"]], \"type\": \"heatmap\"}], \"heatmapgl\": [{\"colorbar\": {\"outlinewidth\": 0, \"ticks\": \"\"}, \"colorscale\": [[0.0, \"#0d0887\"], [0.1111111111111111, \"#46039f\"], [0.2222222222222222, \"#7201a8\"], [0.3333333333333333, \"#9c179e\"], [0.4444444444444444, \"#bd3786\"], [0.5555555555555556, \"#d8576b\"], [0.6666666666666666, \"#ed7953\"], [0.7777777777777778, \"#fb9f3a\"], [0.8888888888888888, \"#fdca26\"], [1.0, \"#f0f921\"]], \"type\": \"heatmapgl\"}], \"histogram\": [{\"marker\": {\"colorbar\": {\"outlinewidth\": 0, \"ticks\": \"\"}}, \"type\": \"histogram\"}], \"histogram2d\": [{\"colorbar\": {\"outlinewidth\": 0, \"ticks\": \"\"}, \"colorscale\": [[0.0, \"#0d0887\"], [0.1111111111111111, \"#46039f\"], [0.2222222222222222, \"#7201a8\"], [0.3333333333333333, \"#9c179e\"], [0.4444444444444444, \"#bd3786\"], [0.5555555555555556, \"#d8576b\"], [0.6666666666666666, \"#ed7953\"], [0.7777777777777778, \"#fb9f3a\"], [0.8888888888888888, \"#fdca26\"], [1.0, \"#f0f921\"]], \"type\": \"histogram2d\"}], \"histogram2dcontour\": [{\"colorbar\": {\"outlinewidth\": 0, \"ticks\": \"\"}, \"colorscale\": [[0.0, \"#0d0887\"], [0.1111111111111111, \"#46039f\"], [0.2222222222222222, \"#7201a8\"], [0.3333333333333333, \"#9c179e\"], [0.4444444444444444, \"#bd3786\"], [0.5555555555555556, \"#d8576b\"], [0.6666666666666666, \"#ed7953\"], [0.7777777777777778, \"#fb9f3a\"], [0.8888888888888888, \"#fdca26\"], [1.0, \"#f0f921\"]], \"type\": \"histogram2dcontour\"}], \"mesh3d\": [{\"colorbar\": {\"outlinewidth\": 0, \"ticks\": \"\"}, \"type\": \"mesh3d\"}], \"parcoords\": [{\"line\": {\"colorbar\": {\"outlinewidth\": 0, \"ticks\": \"\"}}, \"type\": \"parcoords\"}], \"pie\": [{\"automargin\": true, \"type\": \"pie\"}], \"scatter\": [{\"marker\": {\"colorbar\": {\"outlinewidth\": 0, \"ticks\": \"\"}}, \"type\": \"scatter\"}], \"scatter3d\": [{\"line\": {\"colorbar\": {\"outlinewidth\": 0, \"ticks\": \"\"}}, \"marker\": {\"colorbar\": {\"outlinewidth\": 0, \"ticks\": \"\"}}, \"type\": \"scatter3d\"}], \"scattercarpet\": [{\"marker\": {\"colorbar\": {\"outlinewidth\": 0, \"ticks\": \"\"}}, \"type\": \"scattercarpet\"}], \"scattergeo\": [{\"marker\": {\"colorbar\": {\"outlinewidth\": 0, \"ticks\": \"\"}}, \"type\": \"scattergeo\"}], \"scattergl\": [{\"marker\": {\"colorbar\": {\"outlinewidth\": 0, \"ticks\": \"\"}}, \"type\": \"scattergl\"}], \"scattermapbox\": [{\"marker\": {\"colorbar\": {\"outlinewidth\": 0, \"ticks\": \"\"}}, \"type\": \"scattermapbox\"}], \"scatterpolar\": [{\"marker\": {\"colorbar\": {\"outlinewidth\": 0, \"ticks\": \"\"}}, \"type\": \"scatterpolar\"}], \"scatterpolargl\": [{\"marker\": {\"colorbar\": {\"outlinewidth\": 0, \"ticks\": \"\"}}, \"type\": \"scatterpolargl\"}], \"scatterternary\": [{\"marker\": {\"colorbar\": {\"outlinewidth\": 0, \"ticks\": \"\"}}, \"type\": \"scatterternary\"}], \"surface\": [{\"colorbar\": {\"outlinewidth\": 0, \"ticks\": \"\"}, \"colorscale\": [[0.0, \"#0d0887\"], [0.1111111111111111, \"#46039f\"], [0.2222222222222222, \"#7201a8\"], [0.3333333333333333, \"#9c179e\"], [0.4444444444444444, \"#bd3786\"], [0.5555555555555556, \"#d8576b\"], [0.6666666666666666, \"#ed7953\"], [0.7777777777777778, \"#fb9f3a\"], [0.8888888888888888, \"#fdca26\"], [1.0, \"#f0f921\"]], \"type\": \"surface\"}], \"table\": [{\"cells\": {\"fill\": {\"color\": \"#EBF0F8\"}, \"line\": {\"color\": \"white\"}}, \"header\": {\"fill\": {\"color\": \"#C8D4E3\"}, \"line\": {\"color\": \"white\"}}, \"type\": \"table\"}]}, \"layout\": {\"annotationdefaults\": {\"arrowcolor\": \"#2a3f5f\", \"arrowhead\": 0, \"arrowwidth\": 1}, \"autotypenumbers\": \"strict\", \"coloraxis\": {\"colorbar\": {\"outlinewidth\": 0, \"ticks\": \"\"}}, \"colorscale\": {\"diverging\": [[0, \"#8e0152\"], [0.1, \"#c51b7d\"], [0.2, \"#de77ae\"], [0.3, \"#f1b6da\"], [0.4, \"#fde0ef\"], [0.5, \"#f7f7f7\"], [0.6, \"#e6f5d0\"], [0.7, \"#b8e186\"], [0.8, \"#7fbc41\"], [0.9, \"#4d9221\"], [1, \"#276419\"]], \"sequential\": [[0.0, \"#0d0887\"], [0.1111111111111111, \"#46039f\"], [0.2222222222222222, \"#7201a8\"], [0.3333333333333333, \"#9c179e\"], [0.4444444444444444, \"#bd3786\"], [0.5555555555555556, \"#d8576b\"], [0.6666666666666666, \"#ed7953\"], [0.7777777777777778, \"#fb9f3a\"], [0.8888888888888888, \"#fdca26\"], [1.0, \"#f0f921\"]], \"sequentialminus\": [[0.0, \"#0d0887\"], [0.1111111111111111, \"#46039f\"], [0.2222222222222222, \"#7201a8\"], [0.3333333333333333, \"#9c179e\"], [0.4444444444444444, \"#bd3786\"], [0.5555555555555556, \"#d8576b\"], [0.6666666666666666, \"#ed7953\"], [0.7777777777777778, \"#fb9f3a\"], [0.8888888888888888, \"#fdca26\"], [1.0, \"#f0f921\"]]}, \"colorway\": [\"#636efa\", \"#EF553B\", \"#00cc96\", \"#ab63fa\", \"#FFA15A\", \"#19d3f3\", \"#FF6692\", \"#B6E880\", \"#FF97FF\", \"#FECB52\"], \"font\": {\"color\": \"#2a3f5f\"}, \"geo\": {\"bgcolor\": \"white\", \"lakecolor\": \"white\", \"landcolor\": \"#E5ECF6\", \"showlakes\": true, \"showland\": true, \"subunitcolor\": \"white\"}, \"hoverlabel\": {\"align\": \"left\"}, \"hovermode\": \"closest\", \"mapbox\": {\"style\": \"light\"}, \"paper_bgcolor\": \"white\", \"plot_bgcolor\": \"#E5ECF6\", \"polar\": {\"angularaxis\": {\"gridcolor\": \"white\", \"linecolor\": \"white\", \"ticks\": \"\"}, \"bgcolor\": \"#E5ECF6\", \"radialaxis\": {\"gridcolor\": \"white\", \"linecolor\": \"white\", \"ticks\": \"\"}}, \"scene\": {\"xaxis\": {\"backgroundcolor\": \"#E5ECF6\", \"gridcolor\": \"white\", \"gridwidth\": 2, \"linecolor\": \"white\", \"showbackground\": true, \"ticks\": \"\", \"zerolinecolor\": \"white\"}, \"yaxis\": {\"backgroundcolor\": \"#E5ECF6\", \"gridcolor\": \"white\", \"gridwidth\": 2, \"linecolor\": \"white\", \"showbackground\": true, \"ticks\": \"\", \"zerolinecolor\": \"white\"}, \"zaxis\": {\"backgroundcolor\": \"#E5ECF6\", \"gridcolor\": \"white\", \"gridwidth\": 2, \"linecolor\": \"white\", \"showbackground\": true, \"ticks\": \"\", \"zerolinecolor\": \"white\"}}, \"shapedefaults\": {\"line\": {\"color\": \"#2a3f5f\"}}, \"ternary\": {\"aaxis\": {\"gridcolor\": \"white\", \"linecolor\": \"white\", \"ticks\": \"\"}, \"baxis\": {\"gridcolor\": \"white\", \"linecolor\": \"white\", \"ticks\": \"\"}, \"bgcolor\": \"#E5ECF6\", \"caxis\": {\"gridcolor\": \"white\", \"linecolor\": \"white\", \"ticks\": \"\"}}, \"title\": {\"x\": 0.05}, \"xaxis\": {\"automargin\": true, \"gridcolor\": \"white\", \"linecolor\": \"white\", \"ticks\": \"\", \"title\": {\"standoff\": 15}, \"zerolinecolor\": \"white\", \"zerolinewidth\": 2}, \"yaxis\": {\"automargin\": true, \"gridcolor\": \"white\", \"linecolor\": \"white\", \"ticks\": \"\", \"title\": {\"standoff\": 15}, \"zerolinecolor\": \"white\", \"zerolinewidth\": 2}}}, \"title\": {\"text\": \"FAAC_2020\", \"x\": 0.5, \"y\": 0.8}, \"uniformtext\": {\"minsize\": 8, \"mode\": \"hide\"}, \"width\": 1000, \"xaxis\": {\"anchor\": \"y\", \"categoryarray\": [\"ABIA STATE\", \"ADAMAWA STATE\", \"AKWA IBOW STATE\", \"ANAMBRA STATE\", \"BAUCHI STATE\", \"BAYELSA STATE\", \"BENUE STATE\", \"BORNO STATE\", \"CROSS-RIVER STATE\", \"DELTA STATE\", \"EBONYI STATE\", \"EDO STATE\", \"EKITI STATE\", \"ENUGU STATE\", \"GOMBE STATE\", \"IMO STATE\", \"JIGAWA STATE\", \"KADUNA STATE\", \"KANO STATE\", \"KATSINA STATE\", \"KEBBI STATE\", \"KOGI STATE\", \"KWARA STATE\", \"LAGOS STATE\", \"NASARAWA STATE\", \"NIGER STATE\", \"OGUN STATE\", \"ONDO STATE\", \"OSUN STATE\", \"OYO STATE\", \"PLATEAU STATE\", \"RIVERS STATE\", \"SOKOTO STATE\", \"TARABA STATE\", \"YOBE STATE\", \"ZAMFARA STATE\", \"FEDERAL CAPITAL TERRITORY (FCT)\"], \"categoryorder\": \"array\", \"domain\": [0.0, 1.0], \"title\": {\"text\": \"STATE\"}}, \"yaxis\": {\"anchor\": \"x\", \"domain\": [0.0, 1.0], \"title\": {\"text\": \"MARCH\"}}},                        {\"responsive\": true}                    ).then(function(){\n",
       "                            \n",
       "var gd = document.getElementById('278428de-7182-4f15-8a40-9d901fd86727');\n",
       "var x = new MutationObserver(function (mutations, observer) {{\n",
       "        var display = window.getComputedStyle(gd).display;\n",
       "        if (!display || display === 'none') {{\n",
       "            console.log([gd, 'removed!']);\n",
       "            Plotly.purge(gd);\n",
       "            observer.disconnect();\n",
       "        }}\n",
       "}});\n",
       "\n",
       "// Listen for the removal of the full notebook cells\n",
       "var notebookContainer = gd.closest('#notebook-container');\n",
       "if (notebookContainer) {{\n",
       "    x.observe(notebookContainer, {childList: true});\n",
       "}}\n",
       "\n",
       "// Listen for the clearing of the current output cell\n",
       "var outputEl = gd.closest('.output');\n",
       "if (outputEl) {{\n",
       "    x.observe(outputEl, {childList: true});\n",
       "}}\n",
       "\n",
       "                        })                };                });            </script>        </div>"
      ]
     },
     "metadata": {},
     "output_type": "display_data"
    }
   ],
   "source": [
    "fig=px.bar(FAAC_2020, y = \"MARCH\", x = \"STATE\",orientation = \"v\", color = \"STATE\")\n",
    "fig.update_traces(texttemplate=\"%{text:.4s}\", textposition=\"outside\")\n",
    "fig.update_layout(uniformtext_minsize= 8, uniformtext_mode= \"hide\")\n",
    "fig.update_layout(\n",
    "    title = {\n",
    "       \"text\":\"FAAC_2020\",\n",
    "       \"y\":0.8,\n",
    "       \"x\":0.5,\n",
    "       },height = 750, width = 1000)"
   ]
  },
  {
   "cell_type": "code",
   "execution_count": 48,
   "metadata": {},
   "outputs": [
    {
     "data": {
      "application/vnd.plotly.v1+json": {
       "config": {
        "plotlyServerURL": "https://plot.ly"
       },
       "data": [
        {
         "alignmentgroup": "True",
         "hovertemplate": "STATE=%{x}<br>APRIL=%{y}<extra></extra>",
         "legendgroup": "ABIA STATE",
         "marker": {
          "color": "#636efa"
         },
         "name": "ABIA STATE",
         "offsetgroup": "ABIA STATE",
         "orientation": "v",
         "showlegend": true,
         "textposition": "outside",
         "texttemplate": "%{text:.4s}",
         "type": "bar",
         "x": [
          "ABIA STATE"
         ],
         "xaxis": "x",
         "y": [
          2688879058
         ],
         "yaxis": "y"
        },
        {
         "alignmentgroup": "True",
         "hovertemplate": "STATE=%{x}<br>APRIL=%{y}<extra></extra>",
         "legendgroup": "ADAMAWA STATE",
         "marker": {
          "color": "#EF553B"
         },
         "name": "ADAMAWA STATE",
         "offsetgroup": "ADAMAWA STATE",
         "orientation": "v",
         "showlegend": true,
         "textposition": "outside",
         "texttemplate": "%{text:.4s}",
         "type": "bar",
         "x": [
          "ADAMAWA STATE"
         ],
         "xaxis": "x",
         "y": [
          3342944259
         ],
         "yaxis": "y"
        },
        {
         "alignmentgroup": "True",
         "hovertemplate": "STATE=%{x}<br>APRIL=%{y}<extra></extra>",
         "legendgroup": "AKWA IBOW STATE",
         "marker": {
          "color": "#00cc96"
         },
         "name": "AKWA IBOW STATE",
         "offsetgroup": "AKWA IBOW STATE",
         "orientation": "v",
         "showlegend": true,
         "textposition": "outside",
         "texttemplate": "%{text:.4s}",
         "type": "bar",
         "x": [
          "AKWA IBOW STATE"
         ],
         "xaxis": "x",
         "y": [
          4519596452
         ],
         "yaxis": "y"
        },
        {
         "alignmentgroup": "True",
         "hovertemplate": "STATE=%{x}<br>APRIL=%{y}<extra></extra>",
         "legendgroup": "ANAMBRA STATE",
         "marker": {
          "color": "#ab63fa"
         },
         "name": "ANAMBRA STATE",
         "offsetgroup": "ANAMBRA STATE",
         "orientation": "v",
         "showlegend": true,
         "textposition": "outside",
         "texttemplate": "%{text:.4s}",
         "type": "bar",
         "x": [
          "ANAMBRA STATE"
         ],
         "xaxis": "x",
         "y": [
          3445664112
         ],
         "yaxis": "y"
        },
        {
         "alignmentgroup": "True",
         "hovertemplate": "STATE=%{x}<br>APRIL=%{y}<extra></extra>",
         "legendgroup": "BAUCHI STATE",
         "marker": {
          "color": "#FFA15A"
         },
         "name": "BAUCHI STATE",
         "offsetgroup": "BAUCHI STATE",
         "orientation": "v",
         "showlegend": true,
         "textposition": "outside",
         "texttemplate": "%{text:.4s}",
         "type": "bar",
         "x": [
          "BAUCHI STATE"
         ],
         "xaxis": "x",
         "y": [
          3804630021
         ],
         "yaxis": "y"
        },
        {
         "alignmentgroup": "True",
         "hovertemplate": "STATE=%{x}<br>APRIL=%{y}<extra></extra>",
         "legendgroup": "BAYELSA STATE",
         "marker": {
          "color": "#19d3f3"
         },
         "name": "BAYELSA STATE",
         "offsetgroup": "BAYELSA STATE",
         "orientation": "v",
         "showlegend": true,
         "textposition": "outside",
         "texttemplate": "%{text:.4s}",
         "type": "bar",
         "x": [
          "BAYELSA STATE"
         ],
         "xaxis": "x",
         "y": [
          1539824664
         ],
         "yaxis": "y"
        },
        {
         "alignmentgroup": "True",
         "hovertemplate": "STATE=%{x}<br>APRIL=%{y}<extra></extra>",
         "legendgroup": "BENUE STATE",
         "marker": {
          "color": "#FF6692"
         },
         "name": "BENUE STATE",
         "offsetgroup": "BENUE STATE",
         "orientation": "v",
         "showlegend": true,
         "textposition": "outside",
         "texttemplate": "%{text:.4s}",
         "type": "bar",
         "x": [
          "BENUE STATE"
         ],
         "xaxis": "x",
         "y": [
          3945070871
         ],
         "yaxis": "y"
        },
        {
         "alignmentgroup": "True",
         "hovertemplate": "STATE=%{x}<br>APRIL=%{y}<extra></extra>",
         "legendgroup": "BORNO STATE",
         "marker": {
          "color": "#B6E880"
         },
         "name": "BORNO STATE",
         "offsetgroup": "BORNO STATE",
         "orientation": "v",
         "showlegend": true,
         "textposition": "outside",
         "texttemplate": "%{text:.4s}",
         "type": "bar",
         "x": [
          "BORNO STATE"
         ],
         "xaxis": "x",
         "y": [
          4471277526
         ],
         "yaxis": "y"
        },
        {
         "alignmentgroup": "True",
         "hovertemplate": "STATE=%{x}<br>APRIL=%{y}<extra></extra>",
         "legendgroup": "CROSS-RIVER STATE",
         "marker": {
          "color": "#FF97FF"
         },
         "name": "CROSS-RIVER STATE",
         "offsetgroup": "CROSS-RIVER STATE",
         "orientation": "v",
         "showlegend": true,
         "textposition": "outside",
         "texttemplate": "%{text:.4s}",
         "type": "bar",
         "x": [
          "CROSS-RIVER STATE"
         ],
         "xaxis": "x",
         "y": [
          2868068399
         ],
         "yaxis": "y"
        },
        {
         "alignmentgroup": "True",
         "hovertemplate": "STATE=%{x}<br>APRIL=%{y}<extra></extra>",
         "legendgroup": "DELTA STATE",
         "marker": {
          "color": "#FECB52"
         },
         "name": "DELTA STATE",
         "offsetgroup": "DELTA STATE",
         "orientation": "v",
         "showlegend": true,
         "textposition": "outside",
         "texttemplate": "%{text:.4s}",
         "type": "bar",
         "x": [
          "DELTA STATE"
         ],
         "xaxis": "x",
         "y": [
          3840198232
         ],
         "yaxis": "y"
        },
        {
         "alignmentgroup": "True",
         "hovertemplate": "STATE=%{x}<br>APRIL=%{y}<extra></extra>",
         "legendgroup": "EBONYI STATE",
         "marker": {
          "color": "#636efa"
         },
         "name": "EBONYI STATE",
         "offsetgroup": "EBONYI STATE",
         "orientation": "v",
         "showlegend": true,
         "textposition": "outside",
         "texttemplate": "%{text:.4s}",
         "type": "bar",
         "x": [
          "EBONYI STATE"
         ],
         "xaxis": "x",
         "y": [
          2175618814
         ],
         "yaxis": "y"
        },
        {
         "alignmentgroup": "True",
         "hovertemplate": "STATE=%{x}<br>APRIL=%{y}<extra></extra>",
         "legendgroup": "EDO STATE",
         "marker": {
          "color": "#EF553B"
         },
         "name": "EDO STATE",
         "offsetgroup": "EDO STATE",
         "orientation": "v",
         "showlegend": true,
         "textposition": "outside",
         "texttemplate": "%{text:.4s}",
         "type": "bar",
         "x": [
          "EDO STATE"
         ],
         "xaxis": "x",
         "y": [
          2903682949
         ],
         "yaxis": "y"
        },
        {
         "alignmentgroup": "True",
         "hovertemplate": "STATE=%{x}<br>APRIL=%{y}<extra></extra>",
         "legendgroup": "EKITI STATE",
         "marker": {
          "color": "#00cc96"
         },
         "name": "EKITI STATE",
         "offsetgroup": "EKITI STATE",
         "orientation": "v",
         "showlegend": true,
         "textposition": "outside",
         "texttemplate": "%{text:.4s}",
         "type": "bar",
         "x": [
          "EKITI STATE"
         ],
         "xaxis": "x",
         "y": [
          2326392621
         ],
         "yaxis": "y"
        },
        {
         "alignmentgroup": "True",
         "hovertemplate": "STATE=%{x}<br>APRIL=%{y}<extra></extra>",
         "legendgroup": "ENUGU STATE",
         "marker": {
          "color": "#ab63fa"
         },
         "name": "ENUGU STATE",
         "offsetgroup": "ENUGU STATE",
         "orientation": "v",
         "showlegend": true,
         "textposition": "outside",
         "texttemplate": "%{text:.4s}",
         "type": "bar",
         "x": [
          "ENUGU STATE"
         ],
         "xaxis": "x",
         "y": [
          2979957766
         ],
         "yaxis": "y"
        },
        {
         "alignmentgroup": "True",
         "hovertemplate": "STATE=%{x}<br>APRIL=%{y}<extra></extra>",
         "legendgroup": "GOMBE STATE",
         "marker": {
          "color": "#FFA15A"
         },
         "name": "GOMBE STATE",
         "offsetgroup": "GOMBE STATE",
         "orientation": "v",
         "showlegend": true,
         "textposition": "outside",
         "texttemplate": "%{text:.4s}",
         "type": "bar",
         "x": [
          "GOMBE STATE"
         ],
         "xaxis": "x",
         "y": [
          1930676959
         ],
         "yaxis": "y"
        },
        {
         "alignmentgroup": "True",
         "hovertemplate": "STATE=%{x}<br>APRIL=%{y}<extra></extra>",
         "legendgroup": "IMO STATE",
         "marker": {
          "color": "#19d3f3"
         },
         "name": "IMO STATE",
         "offsetgroup": "IMO STATE",
         "orientation": "v",
         "showlegend": true,
         "textposition": "outside",
         "texttemplate": "%{text:.4s}",
         "type": "bar",
         "x": [
          "IMO STATE"
         ],
         "xaxis": "x",
         "y": [
          3977195226
         ],
         "yaxis": "y"
        },
        {
         "alignmentgroup": "True",
         "hovertemplate": "STATE=%{x}<br>APRIL=%{y}<extra></extra>",
         "legendgroup": "JIGAWA STATE",
         "marker": {
          "color": "#FF6692"
         },
         "name": "JIGAWA STATE",
         "offsetgroup": "JIGAWA STATE",
         "orientation": "v",
         "showlegend": true,
         "textposition": "outside",
         "texttemplate": "%{text:.4s}",
         "type": "bar",
         "x": [
          "JIGAWA STATE"
         ],
         "xaxis": "x",
         "y": [
          4146192890
         ],
         "yaxis": "y"
        },
        {
         "alignmentgroup": "True",
         "hovertemplate": "STATE=%{x}<br>APRIL=%{y}<extra></extra>",
         "legendgroup": "KADUNA STATE",
         "marker": {
          "color": "#B6E880"
         },
         "name": "KADUNA STATE",
         "offsetgroup": "KADUNA STATE",
         "orientation": "v",
         "showlegend": true,
         "textposition": "outside",
         "texttemplate": "%{text:.4s}",
         "type": "bar",
         "x": [
          "KADUNA STATE"
         ],
         "xaxis": "x",
         "y": [
          4603899196
         ],
         "yaxis": "y"
        },
        {
         "alignmentgroup": "True",
         "hovertemplate": "STATE=%{x}<br>APRIL=%{y}<extra></extra>",
         "legendgroup": "KANO STATE",
         "marker": {
          "color": "#FF97FF"
         },
         "name": "KANO STATE",
         "offsetgroup": "KANO STATE",
         "orientation": "v",
         "showlegend": true,
         "textposition": "outside",
         "texttemplate": "%{text:.4s}",
         "type": "bar",
         "x": [
          "KANO STATE"
         ],
         "xaxis": "x",
         "y": [
          7577601612
         ],
         "yaxis": "y"
        },
        {
         "alignmentgroup": "True",
         "hovertemplate": "STATE=%{x}<br>APRIL=%{y}<extra></extra>",
         "legendgroup": "KATSINA STATE",
         "marker": {
          "color": "#FECB52"
         },
         "name": "KATSINA STATE",
         "offsetgroup": "KATSINA STATE",
         "orientation": "v",
         "showlegend": true,
         "textposition": "outside",
         "texttemplate": "%{text:.4s}",
         "type": "bar",
         "x": [
          "KATSINA STATE"
         ],
         "xaxis": "x",
         "y": [
          5566684126
         ],
         "yaxis": "y"
        },
        {
         "alignmentgroup": "True",
         "hovertemplate": "STATE=%{x}<br>APRIL=%{y}<extra></extra>",
         "legendgroup": "KEBBI STATE",
         "marker": {
          "color": "#636efa"
         },
         "name": "KEBBI STATE",
         "offsetgroup": "KEBBI STATE",
         "orientation": "v",
         "showlegend": true,
         "textposition": "outside",
         "texttemplate": "%{text:.4s}",
         "type": "bar",
         "x": [
          "KEBBI STATE"
         ],
         "xaxis": "x",
         "y": [
          3471729870
         ],
         "yaxis": "y"
        },
        {
         "alignmentgroup": "True",
         "hovertemplate": "STATE=%{x}<br>APRIL=%{y}<extra></extra>",
         "legendgroup": "KOGI STATE",
         "marker": {
          "color": "#EF553B"
         },
         "name": "KOGI STATE",
         "offsetgroup": "KOGI STATE",
         "orientation": "v",
         "showlegend": true,
         "textposition": "outside",
         "texttemplate": "%{text:.4s}",
         "type": "bar",
         "x": [
          "KOGI STATE"
         ],
         "xaxis": "x",
         "y": [
          3198235471
         ],
         "yaxis": "y"
        },
        {
         "alignmentgroup": "True",
         "hovertemplate": "STATE=%{x}<br>APRIL=%{y}<extra></extra>",
         "legendgroup": "KWARA STATE",
         "marker": {
          "color": "#00cc96"
         },
         "name": "KWARA STATE",
         "offsetgroup": "KWARA STATE",
         "orientation": "v",
         "showlegend": true,
         "textposition": "outside",
         "texttemplate": "%{text:.4s}",
         "type": "bar",
         "x": [
          "KWARA STATE"
         ],
         "xaxis": "x",
         "y": [
          2562254883
         ],
         "yaxis": "y"
        },
        {
         "alignmentgroup": "True",
         "hovertemplate": "STATE=%{x}<br>APRIL=%{y}<extra></extra>",
         "legendgroup": "LAGOS STATE",
         "marker": {
          "color": "#ab63fa"
         },
         "name": "LAGOS STATE",
         "offsetgroup": "LAGOS STATE",
         "orientation": "v",
         "showlegend": true,
         "textposition": "outside",
         "texttemplate": "%{text:.4s}",
         "type": "bar",
         "x": [
          "LAGOS STATE"
         ],
         "xaxis": "x",
         "y": [
          9918421842
         ],
         "yaxis": "y"
        },
        {
         "alignmentgroup": "True",
         "hovertemplate": "STATE=%{x}<br>APRIL=%{y}<extra></extra>",
         "legendgroup": "NASARAWA STATE",
         "marker": {
          "color": "#FFA15A"
         },
         "name": "NASARAWA STATE",
         "offsetgroup": "NASARAWA STATE",
         "orientation": "v",
         "showlegend": true,
         "textposition": "outside",
         "texttemplate": "%{text:.4s}",
         "type": "bar",
         "x": [
          "NASARAWA STATE"
         ],
         "xaxis": "x",
         "y": [
          2210215023
         ],
         "yaxis": "y"
        },
        {
         "alignmentgroup": "True",
         "hovertemplate": "STATE=%{x}<br>APRIL=%{y}<extra></extra>",
         "legendgroup": "NIGER STATE",
         "marker": {
          "color": "#19d3f3"
         },
         "name": "NIGER STATE",
         "offsetgroup": "NIGER STATE",
         "orientation": "v",
         "showlegend": true,
         "textposition": "outside",
         "texttemplate": "%{text:.4s}",
         "type": "bar",
         "x": [
          "NIGER STATE"
         ],
         "xaxis": "x",
         "y": [
          4197594291
         ],
         "yaxis": "y"
        },
        {
         "alignmentgroup": "True",
         "hovertemplate": "STATE=%{x}<br>APRIL=%{y}<extra></extra>",
         "legendgroup": "OGUN STATE",
         "marker": {
          "color": "#FF6692"
         },
         "name": "OGUN STATE",
         "offsetgroup": "OGUN STATE",
         "orientation": "v",
         "showlegend": true,
         "textposition": "outside",
         "texttemplate": "%{text:.4s}",
         "type": "bar",
         "x": [
          "OGUN STATE"
         ],
         "xaxis": "x",
         "y": [
          3020786465
         ],
         "yaxis": "y"
        },
        {
         "alignmentgroup": "True",
         "hovertemplate": "STATE=%{x}<br>APRIL=%{y}<extra></extra>",
         "legendgroup": "ONDO STATE",
         "marker": {
          "color": "#B6E880"
         },
         "name": "ONDO STATE",
         "offsetgroup": "ONDO STATE",
         "orientation": "v",
         "showlegend": true,
         "textposition": "outside",
         "texttemplate": "%{text:.4s}",
         "type": "bar",
         "x": [
          "ONDO STATE"
         ],
         "xaxis": "x",
         "y": [
          2893085134
         ],
         "yaxis": "y"
        },
        {
         "alignmentgroup": "True",
         "hovertemplate": "STATE=%{x}<br>APRIL=%{y}<extra></extra>",
         "legendgroup": "OSUN STATE",
         "marker": {
          "color": "#FF97FF"
         },
         "name": "OSUN STATE",
         "offsetgroup": "OSUN STATE",
         "orientation": "v",
         "showlegend": true,
         "textposition": "outside",
         "texttemplate": "%{text:.4s}",
         "type": "bar",
         "x": [
          "OSUN STATE"
         ],
         "xaxis": "x",
         "y": [
          3929495106
         ],
         "yaxis": "y"
        },
        {
         "alignmentgroup": "True",
         "hovertemplate": "STATE=%{x}<br>APRIL=%{y}<extra></extra>",
         "legendgroup": "OYO STATE",
         "marker": {
          "color": "#FECB52"
         },
         "name": "OYO STATE",
         "offsetgroup": "OYO STATE",
         "orientation": "v",
         "showlegend": true,
         "textposition": "outside",
         "texttemplate": "%{text:.4s}",
         "type": "bar",
         "x": [
          "OYO STATE"
         ],
         "xaxis": "x",
         "y": [
          5260343489
         ],
         "yaxis": "y"
        },
        {
         "alignmentgroup": "True",
         "hovertemplate": "STATE=%{x}<br>APRIL=%{y}<extra></extra>",
         "legendgroup": "PLATEAU STATE",
         "marker": {
          "color": "#636efa"
         },
         "name": "PLATEAU STATE",
         "offsetgroup": "PLATEAU STATE",
         "orientation": "v",
         "showlegend": true,
         "textposition": "outside",
         "texttemplate": "%{text:.4s}",
         "type": "bar",
         "x": [
          "PLATEAU STATE"
         ],
         "xaxis": "x",
         "y": [
          3056277467
         ],
         "yaxis": "y"
        },
        {
         "alignmentgroup": "True",
         "hovertemplate": "STATE=%{x}<br>APRIL=%{y}<extra></extra>",
         "legendgroup": "RIVERS STATE",
         "marker": {
          "color": "#EF553B"
         },
         "name": "RIVERS STATE",
         "offsetgroup": "RIVERS STATE",
         "orientation": "v",
         "showlegend": true,
         "textposition": "outside",
         "texttemplate": "%{text:.4s}",
         "type": "bar",
         "x": [
          "RIVERS STATE"
         ],
         "xaxis": "x",
         "y": [
          4182629109
         ],
         "yaxis": "y"
        },
        {
         "alignmentgroup": "True",
         "hovertemplate": "STATE=%{x}<br>APRIL=%{y}<extra></extra>",
         "legendgroup": "SOKOTO STATE",
         "marker": {
          "color": "#00cc96"
         },
         "name": "SOKOTO STATE",
         "offsetgroup": "SOKOTO STATE",
         "orientation": "v",
         "showlegend": true,
         "textposition": "outside",
         "texttemplate": "%{text:.4s}",
         "type": "bar",
         "x": [
          "SOKOTO STATE"
         ],
         "xaxis": "x",
         "y": [
          3783174046
         ],
         "yaxis": "y"
        },
        {
         "alignmentgroup": "True",
         "hovertemplate": "STATE=%{x}<br>APRIL=%{y}<extra></extra>",
         "legendgroup": "TARABA STATE",
         "marker": {
          "color": "#ab63fa"
         },
         "name": "TARABA STATE",
         "offsetgroup": "TARABA STATE",
         "orientation": "v",
         "showlegend": true,
         "textposition": "outside",
         "texttemplate": "%{text:.4s}",
         "type": "bar",
         "x": [
          "TARABA STATE"
         ],
         "xaxis": "x",
         "y": [
          2798742586
         ],
         "yaxis": "y"
        },
        {
         "alignmentgroup": "True",
         "hovertemplate": "STATE=%{x}<br>APRIL=%{y}<extra></extra>",
         "legendgroup": "YOBE STATE",
         "marker": {
          "color": "#FFA15A"
         },
         "name": "YOBE STATE",
         "offsetgroup": "YOBE STATE",
         "orientation": "v",
         "showlegend": true,
         "textposition": "outside",
         "texttemplate": "%{text:.4s}",
         "type": "bar",
         "x": [
          "YOBE STATE"
         ],
         "xaxis": "x",
         "y": [
          2838688082
         ],
         "yaxis": "y"
        },
        {
         "alignmentgroup": "True",
         "hovertemplate": "STATE=%{x}<br>APRIL=%{y}<extra></extra>",
         "legendgroup": "ZAMFARA STATE",
         "marker": {
          "color": "#19d3f3"
         },
         "name": "ZAMFARA STATE",
         "offsetgroup": "ZAMFARA STATE",
         "orientation": "v",
         "showlegend": true,
         "textposition": "outside",
         "texttemplate": "%{text:.4s}",
         "type": "bar",
         "x": [
          "ZAMFARA STATE"
         ],
         "xaxis": "x",
         "y": [
          2626399703
         ],
         "yaxis": "y"
        },
        {
         "alignmentgroup": "True",
         "hovertemplate": "STATE=%{x}<br>APRIL=%{y}<extra></extra>",
         "legendgroup": "FEDERAL CAPITAL TERRITORY (FCT)",
         "marker": {
          "color": "#FF6692"
         },
         "name": "FEDERAL CAPITAL TERRITORY (FCT)",
         "offsetgroup": "FEDERAL CAPITAL TERRITORY (FCT)",
         "orientation": "v",
         "showlegend": true,
         "textposition": "outside",
         "texttemplate": "%{text:.4s}",
         "type": "bar",
         "x": [
          "FEDERAL CAPITAL TERRITORY (FCT)"
         ],
         "xaxis": "x",
         "y": [
          2300083133
         ],
         "yaxis": "y"
        }
       ],
       "layout": {
        "barmode": "relative",
        "height": 750,
        "legend": {
         "title": {
          "text": "STATE"
         },
         "tracegroupgap": 0
        },
        "margin": {
         "t": 60
        },
        "template": {
         "data": {
          "bar": [
           {
            "error_x": {
             "color": "#2a3f5f"
            },
            "error_y": {
             "color": "#2a3f5f"
            },
            "marker": {
             "line": {
              "color": "#E5ECF6",
              "width": 0.5
             }
            },
            "type": "bar"
           }
          ],
          "barpolar": [
           {
            "marker": {
             "line": {
              "color": "#E5ECF6",
              "width": 0.5
             }
            },
            "type": "barpolar"
           }
          ],
          "carpet": [
           {
            "aaxis": {
             "endlinecolor": "#2a3f5f",
             "gridcolor": "white",
             "linecolor": "white",
             "minorgridcolor": "white",
             "startlinecolor": "#2a3f5f"
            },
            "baxis": {
             "endlinecolor": "#2a3f5f",
             "gridcolor": "white",
             "linecolor": "white",
             "minorgridcolor": "white",
             "startlinecolor": "#2a3f5f"
            },
            "type": "carpet"
           }
          ],
          "choropleth": [
           {
            "colorbar": {
             "outlinewidth": 0,
             "ticks": ""
            },
            "type": "choropleth"
           }
          ],
          "contour": [
           {
            "colorbar": {
             "outlinewidth": 0,
             "ticks": ""
            },
            "colorscale": [
             [
              0,
              "#0d0887"
             ],
             [
              0.1111111111111111,
              "#46039f"
             ],
             [
              0.2222222222222222,
              "#7201a8"
             ],
             [
              0.3333333333333333,
              "#9c179e"
             ],
             [
              0.4444444444444444,
              "#bd3786"
             ],
             [
              0.5555555555555556,
              "#d8576b"
             ],
             [
              0.6666666666666666,
              "#ed7953"
             ],
             [
              0.7777777777777778,
              "#fb9f3a"
             ],
             [
              0.8888888888888888,
              "#fdca26"
             ],
             [
              1,
              "#f0f921"
             ]
            ],
            "type": "contour"
           }
          ],
          "contourcarpet": [
           {
            "colorbar": {
             "outlinewidth": 0,
             "ticks": ""
            },
            "type": "contourcarpet"
           }
          ],
          "heatmap": [
           {
            "colorbar": {
             "outlinewidth": 0,
             "ticks": ""
            },
            "colorscale": [
             [
              0,
              "#0d0887"
             ],
             [
              0.1111111111111111,
              "#46039f"
             ],
             [
              0.2222222222222222,
              "#7201a8"
             ],
             [
              0.3333333333333333,
              "#9c179e"
             ],
             [
              0.4444444444444444,
              "#bd3786"
             ],
             [
              0.5555555555555556,
              "#d8576b"
             ],
             [
              0.6666666666666666,
              "#ed7953"
             ],
             [
              0.7777777777777778,
              "#fb9f3a"
             ],
             [
              0.8888888888888888,
              "#fdca26"
             ],
             [
              1,
              "#f0f921"
             ]
            ],
            "type": "heatmap"
           }
          ],
          "heatmapgl": [
           {
            "colorbar": {
             "outlinewidth": 0,
             "ticks": ""
            },
            "colorscale": [
             [
              0,
              "#0d0887"
             ],
             [
              0.1111111111111111,
              "#46039f"
             ],
             [
              0.2222222222222222,
              "#7201a8"
             ],
             [
              0.3333333333333333,
              "#9c179e"
             ],
             [
              0.4444444444444444,
              "#bd3786"
             ],
             [
              0.5555555555555556,
              "#d8576b"
             ],
             [
              0.6666666666666666,
              "#ed7953"
             ],
             [
              0.7777777777777778,
              "#fb9f3a"
             ],
             [
              0.8888888888888888,
              "#fdca26"
             ],
             [
              1,
              "#f0f921"
             ]
            ],
            "type": "heatmapgl"
           }
          ],
          "histogram": [
           {
            "marker": {
             "colorbar": {
              "outlinewidth": 0,
              "ticks": ""
             }
            },
            "type": "histogram"
           }
          ],
          "histogram2d": [
           {
            "colorbar": {
             "outlinewidth": 0,
             "ticks": ""
            },
            "colorscale": [
             [
              0,
              "#0d0887"
             ],
             [
              0.1111111111111111,
              "#46039f"
             ],
             [
              0.2222222222222222,
              "#7201a8"
             ],
             [
              0.3333333333333333,
              "#9c179e"
             ],
             [
              0.4444444444444444,
              "#bd3786"
             ],
             [
              0.5555555555555556,
              "#d8576b"
             ],
             [
              0.6666666666666666,
              "#ed7953"
             ],
             [
              0.7777777777777778,
              "#fb9f3a"
             ],
             [
              0.8888888888888888,
              "#fdca26"
             ],
             [
              1,
              "#f0f921"
             ]
            ],
            "type": "histogram2d"
           }
          ],
          "histogram2dcontour": [
           {
            "colorbar": {
             "outlinewidth": 0,
             "ticks": ""
            },
            "colorscale": [
             [
              0,
              "#0d0887"
             ],
             [
              0.1111111111111111,
              "#46039f"
             ],
             [
              0.2222222222222222,
              "#7201a8"
             ],
             [
              0.3333333333333333,
              "#9c179e"
             ],
             [
              0.4444444444444444,
              "#bd3786"
             ],
             [
              0.5555555555555556,
              "#d8576b"
             ],
             [
              0.6666666666666666,
              "#ed7953"
             ],
             [
              0.7777777777777778,
              "#fb9f3a"
             ],
             [
              0.8888888888888888,
              "#fdca26"
             ],
             [
              1,
              "#f0f921"
             ]
            ],
            "type": "histogram2dcontour"
           }
          ],
          "mesh3d": [
           {
            "colorbar": {
             "outlinewidth": 0,
             "ticks": ""
            },
            "type": "mesh3d"
           }
          ],
          "parcoords": [
           {
            "line": {
             "colorbar": {
              "outlinewidth": 0,
              "ticks": ""
             }
            },
            "type": "parcoords"
           }
          ],
          "pie": [
           {
            "automargin": true,
            "type": "pie"
           }
          ],
          "scatter": [
           {
            "marker": {
             "colorbar": {
              "outlinewidth": 0,
              "ticks": ""
             }
            },
            "type": "scatter"
           }
          ],
          "scatter3d": [
           {
            "line": {
             "colorbar": {
              "outlinewidth": 0,
              "ticks": ""
             }
            },
            "marker": {
             "colorbar": {
              "outlinewidth": 0,
              "ticks": ""
             }
            },
            "type": "scatter3d"
           }
          ],
          "scattercarpet": [
           {
            "marker": {
             "colorbar": {
              "outlinewidth": 0,
              "ticks": ""
             }
            },
            "type": "scattercarpet"
           }
          ],
          "scattergeo": [
           {
            "marker": {
             "colorbar": {
              "outlinewidth": 0,
              "ticks": ""
             }
            },
            "type": "scattergeo"
           }
          ],
          "scattergl": [
           {
            "marker": {
             "colorbar": {
              "outlinewidth": 0,
              "ticks": ""
             }
            },
            "type": "scattergl"
           }
          ],
          "scattermapbox": [
           {
            "marker": {
             "colorbar": {
              "outlinewidth": 0,
              "ticks": ""
             }
            },
            "type": "scattermapbox"
           }
          ],
          "scatterpolar": [
           {
            "marker": {
             "colorbar": {
              "outlinewidth": 0,
              "ticks": ""
             }
            },
            "type": "scatterpolar"
           }
          ],
          "scatterpolargl": [
           {
            "marker": {
             "colorbar": {
              "outlinewidth": 0,
              "ticks": ""
             }
            },
            "type": "scatterpolargl"
           }
          ],
          "scatterternary": [
           {
            "marker": {
             "colorbar": {
              "outlinewidth": 0,
              "ticks": ""
             }
            },
            "type": "scatterternary"
           }
          ],
          "surface": [
           {
            "colorbar": {
             "outlinewidth": 0,
             "ticks": ""
            },
            "colorscale": [
             [
              0,
              "#0d0887"
             ],
             [
              0.1111111111111111,
              "#46039f"
             ],
             [
              0.2222222222222222,
              "#7201a8"
             ],
             [
              0.3333333333333333,
              "#9c179e"
             ],
             [
              0.4444444444444444,
              "#bd3786"
             ],
             [
              0.5555555555555556,
              "#d8576b"
             ],
             [
              0.6666666666666666,
              "#ed7953"
             ],
             [
              0.7777777777777778,
              "#fb9f3a"
             ],
             [
              0.8888888888888888,
              "#fdca26"
             ],
             [
              1,
              "#f0f921"
             ]
            ],
            "type": "surface"
           }
          ],
          "table": [
           {
            "cells": {
             "fill": {
              "color": "#EBF0F8"
             },
             "line": {
              "color": "white"
             }
            },
            "header": {
             "fill": {
              "color": "#C8D4E3"
             },
             "line": {
              "color": "white"
             }
            },
            "type": "table"
           }
          ]
         },
         "layout": {
          "annotationdefaults": {
           "arrowcolor": "#2a3f5f",
           "arrowhead": 0,
           "arrowwidth": 1
          },
          "autotypenumbers": "strict",
          "coloraxis": {
           "colorbar": {
            "outlinewidth": 0,
            "ticks": ""
           }
          },
          "colorscale": {
           "diverging": [
            [
             0,
             "#8e0152"
            ],
            [
             0.1,
             "#c51b7d"
            ],
            [
             0.2,
             "#de77ae"
            ],
            [
             0.3,
             "#f1b6da"
            ],
            [
             0.4,
             "#fde0ef"
            ],
            [
             0.5,
             "#f7f7f7"
            ],
            [
             0.6,
             "#e6f5d0"
            ],
            [
             0.7,
             "#b8e186"
            ],
            [
             0.8,
             "#7fbc41"
            ],
            [
             0.9,
             "#4d9221"
            ],
            [
             1,
             "#276419"
            ]
           ],
           "sequential": [
            [
             0,
             "#0d0887"
            ],
            [
             0.1111111111111111,
             "#46039f"
            ],
            [
             0.2222222222222222,
             "#7201a8"
            ],
            [
             0.3333333333333333,
             "#9c179e"
            ],
            [
             0.4444444444444444,
             "#bd3786"
            ],
            [
             0.5555555555555556,
             "#d8576b"
            ],
            [
             0.6666666666666666,
             "#ed7953"
            ],
            [
             0.7777777777777778,
             "#fb9f3a"
            ],
            [
             0.8888888888888888,
             "#fdca26"
            ],
            [
             1,
             "#f0f921"
            ]
           ],
           "sequentialminus": [
            [
             0,
             "#0d0887"
            ],
            [
             0.1111111111111111,
             "#46039f"
            ],
            [
             0.2222222222222222,
             "#7201a8"
            ],
            [
             0.3333333333333333,
             "#9c179e"
            ],
            [
             0.4444444444444444,
             "#bd3786"
            ],
            [
             0.5555555555555556,
             "#d8576b"
            ],
            [
             0.6666666666666666,
             "#ed7953"
            ],
            [
             0.7777777777777778,
             "#fb9f3a"
            ],
            [
             0.8888888888888888,
             "#fdca26"
            ],
            [
             1,
             "#f0f921"
            ]
           ]
          },
          "colorway": [
           "#636efa",
           "#EF553B",
           "#00cc96",
           "#ab63fa",
           "#FFA15A",
           "#19d3f3",
           "#FF6692",
           "#B6E880",
           "#FF97FF",
           "#FECB52"
          ],
          "font": {
           "color": "#2a3f5f"
          },
          "geo": {
           "bgcolor": "white",
           "lakecolor": "white",
           "landcolor": "#E5ECF6",
           "showlakes": true,
           "showland": true,
           "subunitcolor": "white"
          },
          "hoverlabel": {
           "align": "left"
          },
          "hovermode": "closest",
          "mapbox": {
           "style": "light"
          },
          "paper_bgcolor": "white",
          "plot_bgcolor": "#E5ECF6",
          "polar": {
           "angularaxis": {
            "gridcolor": "white",
            "linecolor": "white",
            "ticks": ""
           },
           "bgcolor": "#E5ECF6",
           "radialaxis": {
            "gridcolor": "white",
            "linecolor": "white",
            "ticks": ""
           }
          },
          "scene": {
           "xaxis": {
            "backgroundcolor": "#E5ECF6",
            "gridcolor": "white",
            "gridwidth": 2,
            "linecolor": "white",
            "showbackground": true,
            "ticks": "",
            "zerolinecolor": "white"
           },
           "yaxis": {
            "backgroundcolor": "#E5ECF6",
            "gridcolor": "white",
            "gridwidth": 2,
            "linecolor": "white",
            "showbackground": true,
            "ticks": "",
            "zerolinecolor": "white"
           },
           "zaxis": {
            "backgroundcolor": "#E5ECF6",
            "gridcolor": "white",
            "gridwidth": 2,
            "linecolor": "white",
            "showbackground": true,
            "ticks": "",
            "zerolinecolor": "white"
           }
          },
          "shapedefaults": {
           "line": {
            "color": "#2a3f5f"
           }
          },
          "ternary": {
           "aaxis": {
            "gridcolor": "white",
            "linecolor": "white",
            "ticks": ""
           },
           "baxis": {
            "gridcolor": "white",
            "linecolor": "white",
            "ticks": ""
           },
           "bgcolor": "#E5ECF6",
           "caxis": {
            "gridcolor": "white",
            "linecolor": "white",
            "ticks": ""
           }
          },
          "title": {
           "x": 0.05
          },
          "xaxis": {
           "automargin": true,
           "gridcolor": "white",
           "linecolor": "white",
           "ticks": "",
           "title": {
            "standoff": 15
           },
           "zerolinecolor": "white",
           "zerolinewidth": 2
          },
          "yaxis": {
           "automargin": true,
           "gridcolor": "white",
           "linecolor": "white",
           "ticks": "",
           "title": {
            "standoff": 15
           },
           "zerolinecolor": "white",
           "zerolinewidth": 2
          }
         }
        },
        "title": {
         "text": "FAAC_2020",
         "x": 0.5,
         "y": 0.8
        },
        "uniformtext": {
         "minsize": 8,
         "mode": "hide"
        },
        "width": 1000,
        "xaxis": {
         "anchor": "y",
         "categoryarray": [
          "ABIA STATE",
          "ADAMAWA STATE",
          "AKWA IBOW STATE",
          "ANAMBRA STATE",
          "BAUCHI STATE",
          "BAYELSA STATE",
          "BENUE STATE",
          "BORNO STATE",
          "CROSS-RIVER STATE",
          "DELTA STATE",
          "EBONYI STATE",
          "EDO STATE",
          "EKITI STATE",
          "ENUGU STATE",
          "GOMBE STATE",
          "IMO STATE",
          "JIGAWA STATE",
          "KADUNA STATE",
          "KANO STATE",
          "KATSINA STATE",
          "KEBBI STATE",
          "KOGI STATE",
          "KWARA STATE",
          "LAGOS STATE",
          "NASARAWA STATE",
          "NIGER STATE",
          "OGUN STATE",
          "ONDO STATE",
          "OSUN STATE",
          "OYO STATE",
          "PLATEAU STATE",
          "RIVERS STATE",
          "SOKOTO STATE",
          "TARABA STATE",
          "YOBE STATE",
          "ZAMFARA STATE",
          "FEDERAL CAPITAL TERRITORY (FCT)"
         ],
         "categoryorder": "array",
         "domain": [
          0,
          1
         ],
         "title": {
          "text": "STATE"
         }
        },
        "yaxis": {
         "anchor": "x",
         "domain": [
          0,
          1
         ],
         "title": {
          "text": "APRIL"
         }
        }
       }
      },
      "text/html": [
       "<div>                            <div id=\"91327458-3d22-4aa3-bb79-ee37265d7409\" class=\"plotly-graph-div\" style=\"height:750px; width:1000px;\"></div>            <script type=\"text/javascript\">                require([\"plotly\"], function(Plotly) {                    window.PLOTLYENV=window.PLOTLYENV || {};                                    if (document.getElementById(\"91327458-3d22-4aa3-bb79-ee37265d7409\")) {                    Plotly.newPlot(                        \"91327458-3d22-4aa3-bb79-ee37265d7409\",                        [{\"alignmentgroup\": \"True\", \"hovertemplate\": \"STATE=%{x}<br>APRIL=%{y}<extra></extra>\", \"legendgroup\": \"ABIA STATE\", \"marker\": {\"color\": \"#636efa\"}, \"name\": \"ABIA STATE\", \"offsetgroup\": \"ABIA STATE\", \"orientation\": \"v\", \"showlegend\": true, \"textposition\": \"outside\", \"texttemplate\": \"%{text:.4s}\", \"type\": \"bar\", \"x\": [\"ABIA STATE\"], \"xaxis\": \"x\", \"y\": [2688879058], \"yaxis\": \"y\"}, {\"alignmentgroup\": \"True\", \"hovertemplate\": \"STATE=%{x}<br>APRIL=%{y}<extra></extra>\", \"legendgroup\": \"ADAMAWA STATE\", \"marker\": {\"color\": \"#EF553B\"}, \"name\": \"ADAMAWA STATE\", \"offsetgroup\": \"ADAMAWA STATE\", \"orientation\": \"v\", \"showlegend\": true, \"textposition\": \"outside\", \"texttemplate\": \"%{text:.4s}\", \"type\": \"bar\", \"x\": [\"ADAMAWA STATE\"], \"xaxis\": \"x\", \"y\": [3342944259], \"yaxis\": \"y\"}, {\"alignmentgroup\": \"True\", \"hovertemplate\": \"STATE=%{x}<br>APRIL=%{y}<extra></extra>\", \"legendgroup\": \"AKWA IBOW STATE\", \"marker\": {\"color\": \"#00cc96\"}, \"name\": \"AKWA IBOW STATE\", \"offsetgroup\": \"AKWA IBOW STATE\", \"orientation\": \"v\", \"showlegend\": true, \"textposition\": \"outside\", \"texttemplate\": \"%{text:.4s}\", \"type\": \"bar\", \"x\": [\"AKWA IBOW STATE\"], \"xaxis\": \"x\", \"y\": [4519596452], \"yaxis\": \"y\"}, {\"alignmentgroup\": \"True\", \"hovertemplate\": \"STATE=%{x}<br>APRIL=%{y}<extra></extra>\", \"legendgroup\": \"ANAMBRA STATE\", \"marker\": {\"color\": \"#ab63fa\"}, \"name\": \"ANAMBRA STATE\", \"offsetgroup\": \"ANAMBRA STATE\", \"orientation\": \"v\", \"showlegend\": true, \"textposition\": \"outside\", \"texttemplate\": \"%{text:.4s}\", \"type\": \"bar\", \"x\": [\"ANAMBRA STATE\"], \"xaxis\": \"x\", \"y\": [3445664112], \"yaxis\": \"y\"}, {\"alignmentgroup\": \"True\", \"hovertemplate\": \"STATE=%{x}<br>APRIL=%{y}<extra></extra>\", \"legendgroup\": \"BAUCHI STATE\", \"marker\": {\"color\": \"#FFA15A\"}, \"name\": \"BAUCHI STATE\", \"offsetgroup\": \"BAUCHI STATE\", \"orientation\": \"v\", \"showlegend\": true, \"textposition\": \"outside\", \"texttemplate\": \"%{text:.4s}\", \"type\": \"bar\", \"x\": [\"BAUCHI STATE\"], \"xaxis\": \"x\", \"y\": [3804630021], \"yaxis\": \"y\"}, {\"alignmentgroup\": \"True\", \"hovertemplate\": \"STATE=%{x}<br>APRIL=%{y}<extra></extra>\", \"legendgroup\": \"BAYELSA STATE\", \"marker\": {\"color\": \"#19d3f3\"}, \"name\": \"BAYELSA STATE\", \"offsetgroup\": \"BAYELSA STATE\", \"orientation\": \"v\", \"showlegend\": true, \"textposition\": \"outside\", \"texttemplate\": \"%{text:.4s}\", \"type\": \"bar\", \"x\": [\"BAYELSA STATE\"], \"xaxis\": \"x\", \"y\": [1539824664], \"yaxis\": \"y\"}, {\"alignmentgroup\": \"True\", \"hovertemplate\": \"STATE=%{x}<br>APRIL=%{y}<extra></extra>\", \"legendgroup\": \"BENUE STATE\", \"marker\": {\"color\": \"#FF6692\"}, \"name\": \"BENUE STATE\", \"offsetgroup\": \"BENUE STATE\", \"orientation\": \"v\", \"showlegend\": true, \"textposition\": \"outside\", \"texttemplate\": \"%{text:.4s}\", \"type\": \"bar\", \"x\": [\"BENUE STATE\"], \"xaxis\": \"x\", \"y\": [3945070871], \"yaxis\": \"y\"}, {\"alignmentgroup\": \"True\", \"hovertemplate\": \"STATE=%{x}<br>APRIL=%{y}<extra></extra>\", \"legendgroup\": \"BORNO STATE\", \"marker\": {\"color\": \"#B6E880\"}, \"name\": \"BORNO STATE\", \"offsetgroup\": \"BORNO STATE\", \"orientation\": \"v\", \"showlegend\": true, \"textposition\": \"outside\", \"texttemplate\": \"%{text:.4s}\", \"type\": \"bar\", \"x\": [\"BORNO STATE\"], \"xaxis\": \"x\", \"y\": [4471277526], \"yaxis\": \"y\"}, {\"alignmentgroup\": \"True\", \"hovertemplate\": \"STATE=%{x}<br>APRIL=%{y}<extra></extra>\", \"legendgroup\": \"CROSS-RIVER STATE\", \"marker\": {\"color\": \"#FF97FF\"}, \"name\": \"CROSS-RIVER STATE\", \"offsetgroup\": \"CROSS-RIVER STATE\", \"orientation\": \"v\", \"showlegend\": true, \"textposition\": \"outside\", \"texttemplate\": \"%{text:.4s}\", \"type\": \"bar\", \"x\": [\"CROSS-RIVER STATE\"], \"xaxis\": \"x\", \"y\": [2868068399], \"yaxis\": \"y\"}, {\"alignmentgroup\": \"True\", \"hovertemplate\": \"STATE=%{x}<br>APRIL=%{y}<extra></extra>\", \"legendgroup\": \"DELTA STATE\", \"marker\": {\"color\": \"#FECB52\"}, \"name\": \"DELTA STATE\", \"offsetgroup\": \"DELTA STATE\", \"orientation\": \"v\", \"showlegend\": true, \"textposition\": \"outside\", \"texttemplate\": \"%{text:.4s}\", \"type\": \"bar\", \"x\": [\"DELTA STATE\"], \"xaxis\": \"x\", \"y\": [3840198232], \"yaxis\": \"y\"}, {\"alignmentgroup\": \"True\", \"hovertemplate\": \"STATE=%{x}<br>APRIL=%{y}<extra></extra>\", \"legendgroup\": \"EBONYI STATE\", \"marker\": {\"color\": \"#636efa\"}, \"name\": \"EBONYI STATE\", \"offsetgroup\": \"EBONYI STATE\", \"orientation\": \"v\", \"showlegend\": true, \"textposition\": \"outside\", \"texttemplate\": \"%{text:.4s}\", \"type\": \"bar\", \"x\": [\"EBONYI STATE\"], \"xaxis\": \"x\", \"y\": [2175618814], \"yaxis\": \"y\"}, {\"alignmentgroup\": \"True\", \"hovertemplate\": \"STATE=%{x}<br>APRIL=%{y}<extra></extra>\", \"legendgroup\": \"EDO STATE\", \"marker\": {\"color\": \"#EF553B\"}, \"name\": \"EDO STATE\", \"offsetgroup\": \"EDO STATE\", \"orientation\": \"v\", \"showlegend\": true, \"textposition\": \"outside\", \"texttemplate\": \"%{text:.4s}\", \"type\": \"bar\", \"x\": [\"EDO STATE\"], \"xaxis\": \"x\", \"y\": [2903682949], \"yaxis\": \"y\"}, {\"alignmentgroup\": \"True\", \"hovertemplate\": \"STATE=%{x}<br>APRIL=%{y}<extra></extra>\", \"legendgroup\": \"EKITI STATE\", \"marker\": {\"color\": \"#00cc96\"}, \"name\": \"EKITI STATE\", \"offsetgroup\": \"EKITI STATE\", \"orientation\": \"v\", \"showlegend\": true, \"textposition\": \"outside\", \"texttemplate\": \"%{text:.4s}\", \"type\": \"bar\", \"x\": [\"EKITI STATE\"], \"xaxis\": \"x\", \"y\": [2326392621], \"yaxis\": \"y\"}, {\"alignmentgroup\": \"True\", \"hovertemplate\": \"STATE=%{x}<br>APRIL=%{y}<extra></extra>\", \"legendgroup\": \"ENUGU STATE\", \"marker\": {\"color\": \"#ab63fa\"}, \"name\": \"ENUGU STATE\", \"offsetgroup\": \"ENUGU STATE\", \"orientation\": \"v\", \"showlegend\": true, \"textposition\": \"outside\", \"texttemplate\": \"%{text:.4s}\", \"type\": \"bar\", \"x\": [\"ENUGU STATE\"], \"xaxis\": \"x\", \"y\": [2979957766], \"yaxis\": \"y\"}, {\"alignmentgroup\": \"True\", \"hovertemplate\": \"STATE=%{x}<br>APRIL=%{y}<extra></extra>\", \"legendgroup\": \"GOMBE STATE\", \"marker\": {\"color\": \"#FFA15A\"}, \"name\": \"GOMBE STATE\", \"offsetgroup\": \"GOMBE STATE\", \"orientation\": \"v\", \"showlegend\": true, \"textposition\": \"outside\", \"texttemplate\": \"%{text:.4s}\", \"type\": \"bar\", \"x\": [\"GOMBE STATE\"], \"xaxis\": \"x\", \"y\": [1930676959], \"yaxis\": \"y\"}, {\"alignmentgroup\": \"True\", \"hovertemplate\": \"STATE=%{x}<br>APRIL=%{y}<extra></extra>\", \"legendgroup\": \"IMO STATE\", \"marker\": {\"color\": \"#19d3f3\"}, \"name\": \"IMO STATE\", \"offsetgroup\": \"IMO STATE\", \"orientation\": \"v\", \"showlegend\": true, \"textposition\": \"outside\", \"texttemplate\": \"%{text:.4s}\", \"type\": \"bar\", \"x\": [\"IMO STATE\"], \"xaxis\": \"x\", \"y\": [3977195226], \"yaxis\": \"y\"}, {\"alignmentgroup\": \"True\", \"hovertemplate\": \"STATE=%{x}<br>APRIL=%{y}<extra></extra>\", \"legendgroup\": \"JIGAWA STATE\", \"marker\": {\"color\": \"#FF6692\"}, \"name\": \"JIGAWA STATE\", \"offsetgroup\": \"JIGAWA STATE\", \"orientation\": \"v\", \"showlegend\": true, \"textposition\": \"outside\", \"texttemplate\": \"%{text:.4s}\", \"type\": \"bar\", \"x\": [\"JIGAWA STATE\"], \"xaxis\": \"x\", \"y\": [4146192890], \"yaxis\": \"y\"}, {\"alignmentgroup\": \"True\", \"hovertemplate\": \"STATE=%{x}<br>APRIL=%{y}<extra></extra>\", \"legendgroup\": \"KADUNA STATE\", \"marker\": {\"color\": \"#B6E880\"}, \"name\": \"KADUNA STATE\", \"offsetgroup\": \"KADUNA STATE\", \"orientation\": \"v\", \"showlegend\": true, \"textposition\": \"outside\", \"texttemplate\": \"%{text:.4s}\", \"type\": \"bar\", \"x\": [\"KADUNA STATE\"], \"xaxis\": \"x\", \"y\": [4603899196], \"yaxis\": \"y\"}, {\"alignmentgroup\": \"True\", \"hovertemplate\": \"STATE=%{x}<br>APRIL=%{y}<extra></extra>\", \"legendgroup\": \"KANO STATE\", \"marker\": {\"color\": \"#FF97FF\"}, \"name\": \"KANO STATE\", \"offsetgroup\": \"KANO STATE\", \"orientation\": \"v\", \"showlegend\": true, \"textposition\": \"outside\", \"texttemplate\": \"%{text:.4s}\", \"type\": \"bar\", \"x\": [\"KANO STATE\"], \"xaxis\": \"x\", \"y\": [7577601612], \"yaxis\": \"y\"}, {\"alignmentgroup\": \"True\", \"hovertemplate\": \"STATE=%{x}<br>APRIL=%{y}<extra></extra>\", \"legendgroup\": \"KATSINA STATE\", \"marker\": {\"color\": \"#FECB52\"}, \"name\": \"KATSINA STATE\", \"offsetgroup\": \"KATSINA STATE\", \"orientation\": \"v\", \"showlegend\": true, \"textposition\": \"outside\", \"texttemplate\": \"%{text:.4s}\", \"type\": \"bar\", \"x\": [\"KATSINA STATE\"], \"xaxis\": \"x\", \"y\": [5566684126], \"yaxis\": \"y\"}, {\"alignmentgroup\": \"True\", \"hovertemplate\": \"STATE=%{x}<br>APRIL=%{y}<extra></extra>\", \"legendgroup\": \"KEBBI STATE\", \"marker\": {\"color\": \"#636efa\"}, \"name\": \"KEBBI STATE\", \"offsetgroup\": \"KEBBI STATE\", \"orientation\": \"v\", \"showlegend\": true, \"textposition\": \"outside\", \"texttemplate\": \"%{text:.4s}\", \"type\": \"bar\", \"x\": [\"KEBBI STATE\"], \"xaxis\": \"x\", \"y\": [3471729870], \"yaxis\": \"y\"}, {\"alignmentgroup\": \"True\", \"hovertemplate\": \"STATE=%{x}<br>APRIL=%{y}<extra></extra>\", \"legendgroup\": \"KOGI STATE\", \"marker\": {\"color\": \"#EF553B\"}, \"name\": \"KOGI STATE\", \"offsetgroup\": \"KOGI STATE\", \"orientation\": \"v\", \"showlegend\": true, \"textposition\": \"outside\", \"texttemplate\": \"%{text:.4s}\", \"type\": \"bar\", \"x\": [\"KOGI STATE\"], \"xaxis\": \"x\", \"y\": [3198235471], \"yaxis\": \"y\"}, {\"alignmentgroup\": \"True\", \"hovertemplate\": \"STATE=%{x}<br>APRIL=%{y}<extra></extra>\", \"legendgroup\": \"KWARA STATE\", \"marker\": {\"color\": \"#00cc96\"}, \"name\": \"KWARA STATE\", \"offsetgroup\": \"KWARA STATE\", \"orientation\": \"v\", \"showlegend\": true, \"textposition\": \"outside\", \"texttemplate\": \"%{text:.4s}\", \"type\": \"bar\", \"x\": [\"KWARA STATE\"], \"xaxis\": \"x\", \"y\": [2562254883], \"yaxis\": \"y\"}, {\"alignmentgroup\": \"True\", \"hovertemplate\": \"STATE=%{x}<br>APRIL=%{y}<extra></extra>\", \"legendgroup\": \"LAGOS STATE\", \"marker\": {\"color\": \"#ab63fa\"}, \"name\": \"LAGOS STATE\", \"offsetgroup\": \"LAGOS STATE\", \"orientation\": \"v\", \"showlegend\": true, \"textposition\": \"outside\", \"texttemplate\": \"%{text:.4s}\", \"type\": \"bar\", \"x\": [\"LAGOS STATE\"], \"xaxis\": \"x\", \"y\": [9918421842], \"yaxis\": \"y\"}, {\"alignmentgroup\": \"True\", \"hovertemplate\": \"STATE=%{x}<br>APRIL=%{y}<extra></extra>\", \"legendgroup\": \"NASARAWA STATE\", \"marker\": {\"color\": \"#FFA15A\"}, \"name\": \"NASARAWA STATE\", \"offsetgroup\": \"NASARAWA STATE\", \"orientation\": \"v\", \"showlegend\": true, \"textposition\": \"outside\", \"texttemplate\": \"%{text:.4s}\", \"type\": \"bar\", \"x\": [\"NASARAWA STATE\"], \"xaxis\": \"x\", \"y\": [2210215023], \"yaxis\": \"y\"}, {\"alignmentgroup\": \"True\", \"hovertemplate\": \"STATE=%{x}<br>APRIL=%{y}<extra></extra>\", \"legendgroup\": \"NIGER STATE\", \"marker\": {\"color\": \"#19d3f3\"}, \"name\": \"NIGER STATE\", \"offsetgroup\": \"NIGER STATE\", \"orientation\": \"v\", \"showlegend\": true, \"textposition\": \"outside\", \"texttemplate\": \"%{text:.4s}\", \"type\": \"bar\", \"x\": [\"NIGER STATE\"], \"xaxis\": \"x\", \"y\": [4197594291], \"yaxis\": \"y\"}, {\"alignmentgroup\": \"True\", \"hovertemplate\": \"STATE=%{x}<br>APRIL=%{y}<extra></extra>\", \"legendgroup\": \"OGUN STATE\", \"marker\": {\"color\": \"#FF6692\"}, \"name\": \"OGUN STATE\", \"offsetgroup\": \"OGUN STATE\", \"orientation\": \"v\", \"showlegend\": true, \"textposition\": \"outside\", \"texttemplate\": \"%{text:.4s}\", \"type\": \"bar\", \"x\": [\"OGUN STATE\"], \"xaxis\": \"x\", \"y\": [3020786465], \"yaxis\": \"y\"}, {\"alignmentgroup\": \"True\", \"hovertemplate\": \"STATE=%{x}<br>APRIL=%{y}<extra></extra>\", \"legendgroup\": \"ONDO STATE\", \"marker\": {\"color\": \"#B6E880\"}, \"name\": \"ONDO STATE\", \"offsetgroup\": \"ONDO STATE\", \"orientation\": \"v\", \"showlegend\": true, \"textposition\": \"outside\", \"texttemplate\": \"%{text:.4s}\", \"type\": \"bar\", \"x\": [\"ONDO STATE\"], \"xaxis\": \"x\", \"y\": [2893085134], \"yaxis\": \"y\"}, {\"alignmentgroup\": \"True\", \"hovertemplate\": \"STATE=%{x}<br>APRIL=%{y}<extra></extra>\", \"legendgroup\": \"OSUN STATE\", \"marker\": {\"color\": \"#FF97FF\"}, \"name\": \"OSUN STATE\", \"offsetgroup\": \"OSUN STATE\", \"orientation\": \"v\", \"showlegend\": true, \"textposition\": \"outside\", \"texttemplate\": \"%{text:.4s}\", \"type\": \"bar\", \"x\": [\"OSUN STATE\"], \"xaxis\": \"x\", \"y\": [3929495106], \"yaxis\": \"y\"}, {\"alignmentgroup\": \"True\", \"hovertemplate\": \"STATE=%{x}<br>APRIL=%{y}<extra></extra>\", \"legendgroup\": \"OYO STATE\", \"marker\": {\"color\": \"#FECB52\"}, \"name\": \"OYO STATE\", \"offsetgroup\": \"OYO STATE\", \"orientation\": \"v\", \"showlegend\": true, \"textposition\": \"outside\", \"texttemplate\": \"%{text:.4s}\", \"type\": \"bar\", \"x\": [\"OYO STATE\"], \"xaxis\": \"x\", \"y\": [5260343489], \"yaxis\": \"y\"}, {\"alignmentgroup\": \"True\", \"hovertemplate\": \"STATE=%{x}<br>APRIL=%{y}<extra></extra>\", \"legendgroup\": \"PLATEAU STATE\", \"marker\": {\"color\": \"#636efa\"}, \"name\": \"PLATEAU STATE\", \"offsetgroup\": \"PLATEAU STATE\", \"orientation\": \"v\", \"showlegend\": true, \"textposition\": \"outside\", \"texttemplate\": \"%{text:.4s}\", \"type\": \"bar\", \"x\": [\"PLATEAU STATE\"], \"xaxis\": \"x\", \"y\": [3056277467], \"yaxis\": \"y\"}, {\"alignmentgroup\": \"True\", \"hovertemplate\": \"STATE=%{x}<br>APRIL=%{y}<extra></extra>\", \"legendgroup\": \"RIVERS STATE\", \"marker\": {\"color\": \"#EF553B\"}, \"name\": \"RIVERS STATE\", \"offsetgroup\": \"RIVERS STATE\", \"orientation\": \"v\", \"showlegend\": true, \"textposition\": \"outside\", \"texttemplate\": \"%{text:.4s}\", \"type\": \"bar\", \"x\": [\"RIVERS STATE\"], \"xaxis\": \"x\", \"y\": [4182629109], \"yaxis\": \"y\"}, {\"alignmentgroup\": \"True\", \"hovertemplate\": \"STATE=%{x}<br>APRIL=%{y}<extra></extra>\", \"legendgroup\": \"SOKOTO STATE\", \"marker\": {\"color\": \"#00cc96\"}, \"name\": \"SOKOTO STATE\", \"offsetgroup\": \"SOKOTO STATE\", \"orientation\": \"v\", \"showlegend\": true, \"textposition\": \"outside\", \"texttemplate\": \"%{text:.4s}\", \"type\": \"bar\", \"x\": [\"SOKOTO STATE\"], \"xaxis\": \"x\", \"y\": [3783174046], \"yaxis\": \"y\"}, {\"alignmentgroup\": \"True\", \"hovertemplate\": \"STATE=%{x}<br>APRIL=%{y}<extra></extra>\", \"legendgroup\": \"TARABA STATE\", \"marker\": {\"color\": \"#ab63fa\"}, \"name\": \"TARABA STATE\", \"offsetgroup\": \"TARABA STATE\", \"orientation\": \"v\", \"showlegend\": true, \"textposition\": \"outside\", \"texttemplate\": \"%{text:.4s}\", \"type\": \"bar\", \"x\": [\"TARABA STATE\"], \"xaxis\": \"x\", \"y\": [2798742586], \"yaxis\": \"y\"}, {\"alignmentgroup\": \"True\", \"hovertemplate\": \"STATE=%{x}<br>APRIL=%{y}<extra></extra>\", \"legendgroup\": \"YOBE STATE\", \"marker\": {\"color\": \"#FFA15A\"}, \"name\": \"YOBE STATE\", \"offsetgroup\": \"YOBE STATE\", \"orientation\": \"v\", \"showlegend\": true, \"textposition\": \"outside\", \"texttemplate\": \"%{text:.4s}\", \"type\": \"bar\", \"x\": [\"YOBE STATE\"], \"xaxis\": \"x\", \"y\": [2838688082], \"yaxis\": \"y\"}, {\"alignmentgroup\": \"True\", \"hovertemplate\": \"STATE=%{x}<br>APRIL=%{y}<extra></extra>\", \"legendgroup\": \"ZAMFARA STATE\", \"marker\": {\"color\": \"#19d3f3\"}, \"name\": \"ZAMFARA STATE\", \"offsetgroup\": \"ZAMFARA STATE\", \"orientation\": \"v\", \"showlegend\": true, \"textposition\": \"outside\", \"texttemplate\": \"%{text:.4s}\", \"type\": \"bar\", \"x\": [\"ZAMFARA STATE\"], \"xaxis\": \"x\", \"y\": [2626399703], \"yaxis\": \"y\"}, {\"alignmentgroup\": \"True\", \"hovertemplate\": \"STATE=%{x}<br>APRIL=%{y}<extra></extra>\", \"legendgroup\": \"FEDERAL CAPITAL TERRITORY (FCT)\", \"marker\": {\"color\": \"#FF6692\"}, \"name\": \"FEDERAL CAPITAL TERRITORY (FCT)\", \"offsetgroup\": \"FEDERAL CAPITAL TERRITORY (FCT)\", \"orientation\": \"v\", \"showlegend\": true, \"textposition\": \"outside\", \"texttemplate\": \"%{text:.4s}\", \"type\": \"bar\", \"x\": [\"FEDERAL CAPITAL TERRITORY (FCT)\"], \"xaxis\": \"x\", \"y\": [2300083133], \"yaxis\": \"y\"}],                        {\"barmode\": \"relative\", \"height\": 750, \"legend\": {\"title\": {\"text\": \"STATE\"}, \"tracegroupgap\": 0}, \"margin\": {\"t\": 60}, \"template\": {\"data\": {\"bar\": [{\"error_x\": {\"color\": \"#2a3f5f\"}, \"error_y\": {\"color\": \"#2a3f5f\"}, \"marker\": {\"line\": {\"color\": \"#E5ECF6\", \"width\": 0.5}}, \"type\": \"bar\"}], \"barpolar\": [{\"marker\": {\"line\": {\"color\": \"#E5ECF6\", \"width\": 0.5}}, \"type\": \"barpolar\"}], \"carpet\": [{\"aaxis\": {\"endlinecolor\": \"#2a3f5f\", \"gridcolor\": \"white\", \"linecolor\": \"white\", \"minorgridcolor\": \"white\", \"startlinecolor\": \"#2a3f5f\"}, \"baxis\": {\"endlinecolor\": \"#2a3f5f\", \"gridcolor\": \"white\", \"linecolor\": \"white\", \"minorgridcolor\": \"white\", \"startlinecolor\": \"#2a3f5f\"}, \"type\": \"carpet\"}], \"choropleth\": [{\"colorbar\": {\"outlinewidth\": 0, \"ticks\": \"\"}, \"type\": \"choropleth\"}], \"contour\": [{\"colorbar\": {\"outlinewidth\": 0, \"ticks\": \"\"}, \"colorscale\": [[0.0, \"#0d0887\"], [0.1111111111111111, \"#46039f\"], [0.2222222222222222, \"#7201a8\"], [0.3333333333333333, \"#9c179e\"], [0.4444444444444444, \"#bd3786\"], [0.5555555555555556, \"#d8576b\"], [0.6666666666666666, \"#ed7953\"], [0.7777777777777778, \"#fb9f3a\"], [0.8888888888888888, \"#fdca26\"], [1.0, \"#f0f921\"]], \"type\": \"contour\"}], \"contourcarpet\": [{\"colorbar\": {\"outlinewidth\": 0, \"ticks\": \"\"}, \"type\": \"contourcarpet\"}], \"heatmap\": [{\"colorbar\": {\"outlinewidth\": 0, \"ticks\": \"\"}, \"colorscale\": [[0.0, \"#0d0887\"], [0.1111111111111111, \"#46039f\"], [0.2222222222222222, \"#7201a8\"], [0.3333333333333333, \"#9c179e\"], [0.4444444444444444, \"#bd3786\"], [0.5555555555555556, \"#d8576b\"], [0.6666666666666666, \"#ed7953\"], [0.7777777777777778, \"#fb9f3a\"], [0.8888888888888888, \"#fdca26\"], [1.0, \"#f0f921\"]], \"type\": \"heatmap\"}], \"heatmapgl\": [{\"colorbar\": {\"outlinewidth\": 0, \"ticks\": \"\"}, \"colorscale\": [[0.0, \"#0d0887\"], [0.1111111111111111, \"#46039f\"], [0.2222222222222222, \"#7201a8\"], [0.3333333333333333, \"#9c179e\"], [0.4444444444444444, \"#bd3786\"], [0.5555555555555556, \"#d8576b\"], [0.6666666666666666, \"#ed7953\"], [0.7777777777777778, \"#fb9f3a\"], [0.8888888888888888, \"#fdca26\"], [1.0, \"#f0f921\"]], \"type\": \"heatmapgl\"}], \"histogram\": [{\"marker\": {\"colorbar\": {\"outlinewidth\": 0, \"ticks\": \"\"}}, \"type\": \"histogram\"}], \"histogram2d\": [{\"colorbar\": {\"outlinewidth\": 0, \"ticks\": \"\"}, \"colorscale\": [[0.0, \"#0d0887\"], [0.1111111111111111, \"#46039f\"], [0.2222222222222222, \"#7201a8\"], [0.3333333333333333, \"#9c179e\"], [0.4444444444444444, \"#bd3786\"], [0.5555555555555556, \"#d8576b\"], [0.6666666666666666, \"#ed7953\"], [0.7777777777777778, \"#fb9f3a\"], [0.8888888888888888, \"#fdca26\"], [1.0, \"#f0f921\"]], \"type\": \"histogram2d\"}], \"histogram2dcontour\": [{\"colorbar\": {\"outlinewidth\": 0, \"ticks\": \"\"}, \"colorscale\": [[0.0, \"#0d0887\"], [0.1111111111111111, \"#46039f\"], [0.2222222222222222, \"#7201a8\"], [0.3333333333333333, \"#9c179e\"], [0.4444444444444444, \"#bd3786\"], [0.5555555555555556, \"#d8576b\"], [0.6666666666666666, \"#ed7953\"], [0.7777777777777778, \"#fb9f3a\"], [0.8888888888888888, \"#fdca26\"], [1.0, \"#f0f921\"]], \"type\": \"histogram2dcontour\"}], \"mesh3d\": [{\"colorbar\": {\"outlinewidth\": 0, \"ticks\": \"\"}, \"type\": \"mesh3d\"}], \"parcoords\": [{\"line\": {\"colorbar\": {\"outlinewidth\": 0, \"ticks\": \"\"}}, \"type\": \"parcoords\"}], \"pie\": [{\"automargin\": true, \"type\": \"pie\"}], \"scatter\": [{\"marker\": {\"colorbar\": {\"outlinewidth\": 0, \"ticks\": \"\"}}, \"type\": \"scatter\"}], \"scatter3d\": [{\"line\": {\"colorbar\": {\"outlinewidth\": 0, \"ticks\": \"\"}}, \"marker\": {\"colorbar\": {\"outlinewidth\": 0, \"ticks\": \"\"}}, \"type\": \"scatter3d\"}], \"scattercarpet\": [{\"marker\": {\"colorbar\": {\"outlinewidth\": 0, \"ticks\": \"\"}}, \"type\": \"scattercarpet\"}], \"scattergeo\": [{\"marker\": {\"colorbar\": {\"outlinewidth\": 0, \"ticks\": \"\"}}, \"type\": \"scattergeo\"}], \"scattergl\": [{\"marker\": {\"colorbar\": {\"outlinewidth\": 0, \"ticks\": \"\"}}, \"type\": \"scattergl\"}], \"scattermapbox\": [{\"marker\": {\"colorbar\": {\"outlinewidth\": 0, \"ticks\": \"\"}}, \"type\": \"scattermapbox\"}], \"scatterpolar\": [{\"marker\": {\"colorbar\": {\"outlinewidth\": 0, \"ticks\": \"\"}}, \"type\": \"scatterpolar\"}], \"scatterpolargl\": [{\"marker\": {\"colorbar\": {\"outlinewidth\": 0, \"ticks\": \"\"}}, \"type\": \"scatterpolargl\"}], \"scatterternary\": [{\"marker\": {\"colorbar\": {\"outlinewidth\": 0, \"ticks\": \"\"}}, \"type\": \"scatterternary\"}], \"surface\": [{\"colorbar\": {\"outlinewidth\": 0, \"ticks\": \"\"}, \"colorscale\": [[0.0, \"#0d0887\"], [0.1111111111111111, \"#46039f\"], [0.2222222222222222, \"#7201a8\"], [0.3333333333333333, \"#9c179e\"], [0.4444444444444444, \"#bd3786\"], [0.5555555555555556, \"#d8576b\"], [0.6666666666666666, \"#ed7953\"], [0.7777777777777778, \"#fb9f3a\"], [0.8888888888888888, \"#fdca26\"], [1.0, \"#f0f921\"]], \"type\": \"surface\"}], \"table\": [{\"cells\": {\"fill\": {\"color\": \"#EBF0F8\"}, \"line\": {\"color\": \"white\"}}, \"header\": {\"fill\": {\"color\": \"#C8D4E3\"}, \"line\": {\"color\": \"white\"}}, \"type\": \"table\"}]}, \"layout\": {\"annotationdefaults\": {\"arrowcolor\": \"#2a3f5f\", \"arrowhead\": 0, \"arrowwidth\": 1}, \"autotypenumbers\": \"strict\", \"coloraxis\": {\"colorbar\": {\"outlinewidth\": 0, \"ticks\": \"\"}}, \"colorscale\": {\"diverging\": [[0, \"#8e0152\"], [0.1, \"#c51b7d\"], [0.2, \"#de77ae\"], [0.3, \"#f1b6da\"], [0.4, \"#fde0ef\"], [0.5, \"#f7f7f7\"], [0.6, \"#e6f5d0\"], [0.7, \"#b8e186\"], [0.8, \"#7fbc41\"], [0.9, \"#4d9221\"], [1, \"#276419\"]], \"sequential\": [[0.0, \"#0d0887\"], [0.1111111111111111, \"#46039f\"], [0.2222222222222222, \"#7201a8\"], [0.3333333333333333, \"#9c179e\"], [0.4444444444444444, \"#bd3786\"], [0.5555555555555556, \"#d8576b\"], [0.6666666666666666, \"#ed7953\"], [0.7777777777777778, \"#fb9f3a\"], [0.8888888888888888, \"#fdca26\"], [1.0, \"#f0f921\"]], \"sequentialminus\": [[0.0, \"#0d0887\"], [0.1111111111111111, \"#46039f\"], [0.2222222222222222, \"#7201a8\"], [0.3333333333333333, \"#9c179e\"], [0.4444444444444444, \"#bd3786\"], [0.5555555555555556, \"#d8576b\"], [0.6666666666666666, \"#ed7953\"], [0.7777777777777778, \"#fb9f3a\"], [0.8888888888888888, \"#fdca26\"], [1.0, \"#f0f921\"]]}, \"colorway\": [\"#636efa\", \"#EF553B\", \"#00cc96\", \"#ab63fa\", \"#FFA15A\", \"#19d3f3\", \"#FF6692\", \"#B6E880\", \"#FF97FF\", \"#FECB52\"], \"font\": {\"color\": \"#2a3f5f\"}, \"geo\": {\"bgcolor\": \"white\", \"lakecolor\": \"white\", \"landcolor\": \"#E5ECF6\", \"showlakes\": true, \"showland\": true, \"subunitcolor\": \"white\"}, \"hoverlabel\": {\"align\": \"left\"}, \"hovermode\": \"closest\", \"mapbox\": {\"style\": \"light\"}, \"paper_bgcolor\": \"white\", \"plot_bgcolor\": \"#E5ECF6\", \"polar\": {\"angularaxis\": {\"gridcolor\": \"white\", \"linecolor\": \"white\", \"ticks\": \"\"}, \"bgcolor\": \"#E5ECF6\", \"radialaxis\": {\"gridcolor\": \"white\", \"linecolor\": \"white\", \"ticks\": \"\"}}, \"scene\": {\"xaxis\": {\"backgroundcolor\": \"#E5ECF6\", \"gridcolor\": \"white\", \"gridwidth\": 2, \"linecolor\": \"white\", \"showbackground\": true, \"ticks\": \"\", \"zerolinecolor\": \"white\"}, \"yaxis\": {\"backgroundcolor\": \"#E5ECF6\", \"gridcolor\": \"white\", \"gridwidth\": 2, \"linecolor\": \"white\", \"showbackground\": true, \"ticks\": \"\", \"zerolinecolor\": \"white\"}, \"zaxis\": {\"backgroundcolor\": \"#E5ECF6\", \"gridcolor\": \"white\", \"gridwidth\": 2, \"linecolor\": \"white\", \"showbackground\": true, \"ticks\": \"\", \"zerolinecolor\": \"white\"}}, \"shapedefaults\": {\"line\": {\"color\": \"#2a3f5f\"}}, \"ternary\": {\"aaxis\": {\"gridcolor\": \"white\", \"linecolor\": \"white\", \"ticks\": \"\"}, \"baxis\": {\"gridcolor\": \"white\", \"linecolor\": \"white\", \"ticks\": \"\"}, \"bgcolor\": \"#E5ECF6\", \"caxis\": {\"gridcolor\": \"white\", \"linecolor\": \"white\", \"ticks\": \"\"}}, \"title\": {\"x\": 0.05}, \"xaxis\": {\"automargin\": true, \"gridcolor\": \"white\", \"linecolor\": \"white\", \"ticks\": \"\", \"title\": {\"standoff\": 15}, \"zerolinecolor\": \"white\", \"zerolinewidth\": 2}, \"yaxis\": {\"automargin\": true, \"gridcolor\": \"white\", \"linecolor\": \"white\", \"ticks\": \"\", \"title\": {\"standoff\": 15}, \"zerolinecolor\": \"white\", \"zerolinewidth\": 2}}}, \"title\": {\"text\": \"FAAC_2020\", \"x\": 0.5, \"y\": 0.8}, \"uniformtext\": {\"minsize\": 8, \"mode\": \"hide\"}, \"width\": 1000, \"xaxis\": {\"anchor\": \"y\", \"categoryarray\": [\"ABIA STATE\", \"ADAMAWA STATE\", \"AKWA IBOW STATE\", \"ANAMBRA STATE\", \"BAUCHI STATE\", \"BAYELSA STATE\", \"BENUE STATE\", \"BORNO STATE\", \"CROSS-RIVER STATE\", \"DELTA STATE\", \"EBONYI STATE\", \"EDO STATE\", \"EKITI STATE\", \"ENUGU STATE\", \"GOMBE STATE\", \"IMO STATE\", \"JIGAWA STATE\", \"KADUNA STATE\", \"KANO STATE\", \"KATSINA STATE\", \"KEBBI STATE\", \"KOGI STATE\", \"KWARA STATE\", \"LAGOS STATE\", \"NASARAWA STATE\", \"NIGER STATE\", \"OGUN STATE\", \"ONDO STATE\", \"OSUN STATE\", \"OYO STATE\", \"PLATEAU STATE\", \"RIVERS STATE\", \"SOKOTO STATE\", \"TARABA STATE\", \"YOBE STATE\", \"ZAMFARA STATE\", \"FEDERAL CAPITAL TERRITORY (FCT)\"], \"categoryorder\": \"array\", \"domain\": [0.0, 1.0], \"title\": {\"text\": \"STATE\"}}, \"yaxis\": {\"anchor\": \"x\", \"domain\": [0.0, 1.0], \"title\": {\"text\": \"APRIL\"}}},                        {\"responsive\": true}                    ).then(function(){\n",
       "                            \n",
       "var gd = document.getElementById('91327458-3d22-4aa3-bb79-ee37265d7409');\n",
       "var x = new MutationObserver(function (mutations, observer) {{\n",
       "        var display = window.getComputedStyle(gd).display;\n",
       "        if (!display || display === 'none') {{\n",
       "            console.log([gd, 'removed!']);\n",
       "            Plotly.purge(gd);\n",
       "            observer.disconnect();\n",
       "        }}\n",
       "}});\n",
       "\n",
       "// Listen for the removal of the full notebook cells\n",
       "var notebookContainer = gd.closest('#notebook-container');\n",
       "if (notebookContainer) {{\n",
       "    x.observe(notebookContainer, {childList: true});\n",
       "}}\n",
       "\n",
       "// Listen for the clearing of the current output cell\n",
       "var outputEl = gd.closest('.output');\n",
       "if (outputEl) {{\n",
       "    x.observe(outputEl, {childList: true});\n",
       "}}\n",
       "\n",
       "                        })                };                });            </script>        </div>"
      ]
     },
     "metadata": {},
     "output_type": "display_data"
    }
   ],
   "source": [
    "fig=px.bar(FAAC_2020, y = \"APRIL\", x = \"STATE\",orientation = \"v\", color = \"STATE\")\n",
    "fig.update_traces(texttemplate=\"%{text:.4s}\", textposition=\"outside\")\n",
    "fig.update_layout(uniformtext_minsize= 8, uniformtext_mode= \"hide\")\n",
    "fig.update_layout(\n",
    "    title = {\n",
    "       \"text\":\"FAAC_2020\",\n",
    "       \"y\":0.8,\n",
    "       \"x\":0.5,\n",
    "       },height = 750, width = 1000)"
   ]
  },
  {
   "cell_type": "code",
   "execution_count": 49,
   "metadata": {},
   "outputs": [
    {
     "data": {
      "application/vnd.plotly.v1+json": {
       "config": {
        "plotlyServerURL": "https://plot.ly"
       },
       "data": [
        {
         "alignmentgroup": "True",
         "hovertemplate": "STATE=%{x}<br>MAY=%{y}<extra></extra>",
         "legendgroup": "ABIA STATE",
         "marker": {
          "color": "#636efa"
         },
         "name": "ABIA STATE",
         "offsetgroup": "ABIA STATE",
         "orientation": "v",
         "showlegend": true,
         "textposition": "outside",
         "texttemplate": "%{text:.4s}",
         "type": "bar",
         "x": [
          "ABIA STATE"
         ],
         "xaxis": "x",
         "y": [
          2490155558
         ],
         "yaxis": "y"
        },
        {
         "alignmentgroup": "True",
         "hovertemplate": "STATE=%{x}<br>MAY=%{y}<extra></extra>",
         "legendgroup": "ADAMAWA STATE",
         "marker": {
          "color": "#EF553B"
         },
         "name": "ADAMAWA STATE",
         "offsetgroup": "ADAMAWA STATE",
         "orientation": "v",
         "showlegend": true,
         "textposition": "outside",
         "texttemplate": "%{text:.4s}",
         "type": "bar",
         "x": [
          "ADAMAWA STATE"
         ],
         "xaxis": "x",
         "y": [
          3107031846
         ],
         "yaxis": "y"
        },
        {
         "alignmentgroup": "True",
         "hovertemplate": "STATE=%{x}<br>MAY=%{y}<extra></extra>",
         "legendgroup": "AKWA IBOW STATE",
         "marker": {
          "color": "#00cc96"
         },
         "name": "AKWA IBOW STATE",
         "offsetgroup": "AKWA IBOW STATE",
         "orientation": "v",
         "showlegend": true,
         "textposition": "outside",
         "texttemplate": "%{text:.4s}",
         "type": "bar",
         "x": [
          "AKWA IBOW STATE"
         ],
         "xaxis": "x",
         "y": [
          4184880669
         ],
         "yaxis": "y"
        },
        {
         "alignmentgroup": "True",
         "hovertemplate": "STATE=%{x}<br>MAY=%{y}<extra></extra>",
         "legendgroup": "ANAMBRA STATE",
         "marker": {
          "color": "#ab63fa"
         },
         "name": "ANAMBRA STATE",
         "offsetgroup": "ANAMBRA STATE",
         "orientation": "v",
         "showlegend": true,
         "textposition": "outside",
         "texttemplate": "%{text:.4s}",
         "type": "bar",
         "x": [
          "ANAMBRA STATE"
         ],
         "xaxis": "x",
         "y": [
          3197689890
         ],
         "yaxis": "y"
        },
        {
         "alignmentgroup": "True",
         "hovertemplate": "STATE=%{x}<br>MAY=%{y}<extra></extra>",
         "legendgroup": "BAUCHI STATE",
         "marker": {
          "color": "#FFA15A"
         },
         "name": "BAUCHI STATE",
         "offsetgroup": "BAUCHI STATE",
         "orientation": "v",
         "showlegend": true,
         "textposition": "outside",
         "texttemplate": "%{text:.4s}",
         "type": "bar",
         "x": [
          "BAUCHI STATE"
         ],
         "xaxis": "x",
         "y": [
          3537197522
         ],
         "yaxis": "y"
        },
        {
         "alignmentgroup": "True",
         "hovertemplate": "STATE=%{x}<br>MAY=%{y}<extra></extra>",
         "legendgroup": "BAYELSA STATE",
         "marker": {
          "color": "#19d3f3"
         },
         "name": "BAYELSA STATE",
         "offsetgroup": "BAYELSA STATE",
         "orientation": "v",
         "showlegend": true,
         "textposition": "outside",
         "texttemplate": "%{text:.4s}",
         "type": "bar",
         "x": [
          "BAYELSA STATE"
         ],
         "xaxis": "x",
         "y": [
          1462036983
         ],
         "yaxis": "y"
        },
        {
         "alignmentgroup": "True",
         "hovertemplate": "STATE=%{x}<br>MAY=%{y}<extra></extra>",
         "legendgroup": "BENUE STATE",
         "marker": {
          "color": "#FF6692"
         },
         "name": "BENUE STATE",
         "offsetgroup": "BENUE STATE",
         "orientation": "v",
         "showlegend": true,
         "textposition": "outside",
         "texttemplate": "%{text:.4s}",
         "type": "bar",
         "x": [
          "BENUE STATE"
         ],
         "xaxis": "x",
         "y": [
          3811578838
         ],
         "yaxis": "y"
        },
        {
         "alignmentgroup": "True",
         "hovertemplate": "STATE=%{x}<br>MAY=%{y}<extra></extra>",
         "legendgroup": "BORNO STATE",
         "marker": {
          "color": "#B6E880"
         },
         "name": "BORNO STATE",
         "offsetgroup": "BORNO STATE",
         "orientation": "v",
         "showlegend": true,
         "textposition": "outside",
         "texttemplate": "%{text:.4s}",
         "type": "bar",
         "x": [
          "BORNO STATE"
         ],
         "xaxis": "x",
         "y": [
          4164819788
         ],
         "yaxis": "y"
        },
        {
         "alignmentgroup": "True",
         "hovertemplate": "STATE=%{x}<br>MAY=%{y}<extra></extra>",
         "legendgroup": "CROSS-RIVER STATE",
         "marker": {
          "color": "#FF97FF"
         },
         "name": "CROSS-RIVER STATE",
         "offsetgroup": "CROSS-RIVER STATE",
         "orientation": "v",
         "showlegend": true,
         "textposition": "outside",
         "texttemplate": "%{text:.4s}",
         "type": "bar",
         "x": [
          "CROSS-RIVER STATE"
         ],
         "xaxis": "x",
         "y": [
          2704875775
         ],
         "yaxis": "y"
        },
        {
         "alignmentgroup": "True",
         "hovertemplate": "STATE=%{x}<br>MAY=%{y}<extra></extra>",
         "legendgroup": "DELTA STATE",
         "marker": {
          "color": "#FECB52"
         },
         "name": "DELTA STATE",
         "offsetgroup": "DELTA STATE",
         "orientation": "v",
         "showlegend": true,
         "textposition": "outside",
         "texttemplate": "%{text:.4s}",
         "type": "bar",
         "x": [
          "DELTA STATE"
         ],
         "xaxis": "x",
         "y": [
          3687491597
         ],
         "yaxis": "y"
        },
        {
         "alignmentgroup": "True",
         "hovertemplate": "STATE=%{x}<br>MAY=%{y}<extra></extra>",
         "legendgroup": "EBONYI STATE",
         "marker": {
          "color": "#636efa"
         },
         "name": "EBONYI STATE",
         "offsetgroup": "EBONYI STATE",
         "orientation": "v",
         "showlegend": true,
         "textposition": "outside",
         "texttemplate": "%{text:.4s}",
         "type": "bar",
         "x": [
          "EBONYI STATE"
         ],
         "xaxis": "x",
         "y": [
          2032712657
         ],
         "yaxis": "y"
        },
        {
         "alignmentgroup": "True",
         "hovertemplate": "STATE=%{x}<br>MAY=%{y}<extra></extra>",
         "legendgroup": "EDO STATE",
         "marker": {
          "color": "#EF553B"
         },
         "name": "EDO STATE",
         "offsetgroup": "EDO STATE",
         "orientation": "v",
         "showlegend": true,
         "textposition": "outside",
         "texttemplate": "%{text:.4s}",
         "type": "bar",
         "x": [
          "EDO STATE"
         ],
         "xaxis": "x",
         "y": [
          2690190321
         ],
         "yaxis": "y"
        },
        {
         "alignmentgroup": "True",
         "hovertemplate": "STATE=%{x}<br>MAY=%{y}<extra></extra>",
         "legendgroup": "EKITI STATE",
         "marker": {
          "color": "#00cc96"
         },
         "name": "EKITI STATE",
         "offsetgroup": "EKITI STATE",
         "orientation": "v",
         "showlegend": true,
         "textposition": "outside",
         "texttemplate": "%{text:.4s}",
         "type": "bar",
         "x": [
          "EKITI STATE"
         ],
         "xaxis": "x",
         "y": [
          2152765023
         ],
         "yaxis": "y"
        },
        {
         "alignmentgroup": "True",
         "hovertemplate": "STATE=%{x}<br>MAY=%{y}<extra></extra>",
         "legendgroup": "ENUGU STATE",
         "marker": {
          "color": "#ab63fa"
         },
         "name": "ENUGU STATE",
         "offsetgroup": "ENUGU STATE",
         "orientation": "v",
         "showlegend": true,
         "textposition": "outside",
         "texttemplate": "%{text:.4s}",
         "type": "bar",
         "x": [
          "ENUGU STATE"
         ],
         "xaxis": "x",
         "y": [
          2717820165
         ],
         "yaxis": "y"
        },
        {
         "alignmentgroup": "True",
         "hovertemplate": "STATE=%{x}<br>MAY=%{y}<extra></extra>",
         "legendgroup": "GOMBE STATE",
         "marker": {
          "color": "#FFA15A"
         },
         "name": "GOMBE STATE",
         "offsetgroup": "GOMBE STATE",
         "orientation": "v",
         "showlegend": true,
         "textposition": "outside",
         "texttemplate": "%{text:.4s}",
         "type": "bar",
         "x": [
          "GOMBE STATE"
         ],
         "xaxis": "x",
         "y": [
          1849982094
         ],
         "yaxis": "y"
        },
        {
         "alignmentgroup": "True",
         "hovertemplate": "STATE=%{x}<br>MAY=%{y}<extra></extra>",
         "legendgroup": "IMO STATE",
         "marker": {
          "color": "#19d3f3"
         },
         "name": "IMO STATE",
         "offsetgroup": "IMO STATE",
         "orientation": "v",
         "showlegend": true,
         "textposition": "outside",
         "texttemplate": "%{text:.4s}",
         "type": "bar",
         "x": [
          "IMO STATE"
         ],
         "xaxis": "x",
         "y": [
          3669947625
         ],
         "yaxis": "y"
        },
        {
         "alignmentgroup": "True",
         "hovertemplate": "STATE=%{x}<br>MAY=%{y}<extra></extra>",
         "legendgroup": "JIGAWA STATE",
         "marker": {
          "color": "#FF6692"
         },
         "name": "JIGAWA STATE",
         "offsetgroup": "JIGAWA STATE",
         "orientation": "v",
         "showlegend": true,
         "textposition": "outside",
         "texttemplate": "%{text:.4s}",
         "type": "bar",
         "x": [
          "JIGAWA STATE"
         ],
         "xaxis": "x",
         "y": [
          3864852524
         ],
         "yaxis": "y"
        },
        {
         "alignmentgroup": "True",
         "hovertemplate": "STATE=%{x}<br>MAY=%{y}<extra></extra>",
         "legendgroup": "KADUNA STATE",
         "marker": {
          "color": "#B6E880"
         },
         "name": "KADUNA STATE",
         "offsetgroup": "KADUNA STATE",
         "orientation": "v",
         "showlegend": true,
         "textposition": "outside",
         "texttemplate": "%{text:.4s}",
         "type": "bar",
         "x": [
          "KADUNA STATE"
         ],
         "xaxis": "x",
         "y": [
          4253841927
         ],
         "yaxis": "y"
        },
        {
         "alignmentgroup": "True",
         "hovertemplate": "STATE=%{x}<br>MAY=%{y}<extra></extra>",
         "legendgroup": "KANO STATE",
         "marker": {
          "color": "#FF97FF"
         },
         "name": "KANO STATE",
         "offsetgroup": "KANO STATE",
         "orientation": "v",
         "showlegend": true,
         "textposition": "outside",
         "texttemplate": "%{text:.4s}",
         "type": "bar",
         "x": [
          "KANO STATE"
         ],
         "xaxis": "x",
         "y": [
          7004130256
         ],
         "yaxis": "y"
        },
        {
         "alignmentgroup": "True",
         "hovertemplate": "STATE=%{x}<br>MAY=%{y}<extra></extra>",
         "legendgroup": "KATSINA STATE",
         "marker": {
          "color": "#FECB52"
         },
         "name": "KATSINA STATE",
         "offsetgroup": "KATSINA STATE",
         "orientation": "v",
         "showlegend": true,
         "textposition": "outside",
         "texttemplate": "%{text:.4s}",
         "type": "bar",
         "x": [
          "KATSINA STATE"
         ],
         "xaxis": "x",
         "y": [
          5184157204
         ],
         "yaxis": "y"
        },
        {
         "alignmentgroup": "True",
         "hovertemplate": "STATE=%{x}<br>MAY=%{y}<extra></extra>",
         "legendgroup": "KEBBI STATE",
         "marker": {
          "color": "#636efa"
         },
         "name": "KEBBI STATE",
         "offsetgroup": "KEBBI STATE",
         "orientation": "v",
         "showlegend": true,
         "textposition": "outside",
         "texttemplate": "%{text:.4s}",
         "type": "bar",
         "x": [
          "KEBBI STATE"
         ],
         "xaxis": "x",
         "y": [
          3235899135
         ],
         "yaxis": "y"
        },
        {
         "alignmentgroup": "True",
         "hovertemplate": "STATE=%{x}<br>MAY=%{y}<extra></extra>",
         "legendgroup": "KOGI STATE",
         "marker": {
          "color": "#EF553B"
         },
         "name": "KOGI STATE",
         "offsetgroup": "KOGI STATE",
         "orientation": "v",
         "showlegend": true,
         "textposition": "outside",
         "texttemplate": "%{text:.4s}",
         "type": "bar",
         "x": [
          "KOGI STATE"
         ],
         "xaxis": "x",
         "y": [
          3327499090
         ],
         "yaxis": "y"
        },
        {
         "alignmentgroup": "True",
         "hovertemplate": "STATE=%{x}<br>MAY=%{y}<extra></extra>",
         "legendgroup": "KWARA STATE",
         "marker": {
          "color": "#00cc96"
         },
         "name": "KWARA STATE",
         "offsetgroup": "KWARA STATE",
         "orientation": "v",
         "showlegend": true,
         "textposition": "outside",
         "texttemplate": "%{text:.4s}",
         "type": "bar",
         "x": [
          "KWARA STATE"
         ],
         "xaxis": "x",
         "y": [
          2374870281
         ],
         "yaxis": "y"
        },
        {
         "alignmentgroup": "True",
         "hovertemplate": "STATE=%{x}<br>MAY=%{y}<extra></extra>",
         "legendgroup": "LAGOS STATE",
         "marker": {
          "color": "#ab63fa"
         },
         "name": "LAGOS STATE",
         "offsetgroup": "LAGOS STATE",
         "orientation": "v",
         "showlegend": true,
         "textposition": "outside",
         "texttemplate": "%{text:.4s}",
         "type": "bar",
         "x": [
          "LAGOS STATE"
         ],
         "xaxis": "x",
         "y": [
          8590886838
         ],
         "yaxis": "y"
        },
        {
         "alignmentgroup": "True",
         "hovertemplate": "STATE=%{x}<br>MAY=%{y}<extra></extra>",
         "legendgroup": "NASARAWA STATE",
         "marker": {
          "color": "#FFA15A"
         },
         "name": "NASARAWA STATE",
         "offsetgroup": "NASARAWA STATE",
         "orientation": "v",
         "showlegend": true,
         "textposition": "outside",
         "texttemplate": "%{text:.4s}",
         "type": "bar",
         "x": [
          "NASARAWA STATE"
         ],
         "xaxis": "x",
         "y": [
          2087559680
         ],
         "yaxis": "y"
        },
        {
         "alignmentgroup": "True",
         "hovertemplate": "STATE=%{x}<br>MAY=%{y}<extra></extra>",
         "legendgroup": "NIGER STATE",
         "marker": {
          "color": "#19d3f3"
         },
         "name": "NIGER STATE",
         "offsetgroup": "NIGER STATE",
         "orientation": "v",
         "showlegend": true,
         "textposition": "outside",
         "texttemplate": "%{text:.4s}",
         "type": "bar",
         "x": [
          "NIGER STATE"
         ],
         "xaxis": "x",
         "y": [
          3900178201
         ],
         "yaxis": "y"
        },
        {
         "alignmentgroup": "True",
         "hovertemplate": "STATE=%{x}<br>MAY=%{y}<extra></extra>",
         "legendgroup": "OGUN STATE",
         "marker": {
          "color": "#FF6692"
         },
         "name": "OGUN STATE",
         "offsetgroup": "OGUN STATE",
         "orientation": "v",
         "showlegend": true,
         "textposition": "outside",
         "texttemplate": "%{text:.4s}",
         "type": "bar",
         "x": [
          "OGUN STATE"
         ],
         "xaxis": "x",
         "y": [
          2882731017
         ],
         "yaxis": "y"
        },
        {
         "alignmentgroup": "True",
         "hovertemplate": "STATE=%{x}<br>MAY=%{y}<extra></extra>",
         "legendgroup": "ONDO STATE",
         "marker": {
          "color": "#B6E880"
         },
         "name": "ONDO STATE",
         "offsetgroup": "ONDO STATE",
         "orientation": "v",
         "showlegend": true,
         "textposition": "outside",
         "texttemplate": "%{text:.4s}",
         "type": "bar",
         "x": [
          "ONDO STATE"
         ],
         "xaxis": "x",
         "y": [
          2725161404
         ],
         "yaxis": "y"
        },
        {
         "alignmentgroup": "True",
         "hovertemplate": "STATE=%{x}<br>MAY=%{y}<extra></extra>",
         "legendgroup": "OSUN STATE",
         "marker": {
          "color": "#FF97FF"
         },
         "name": "OSUN STATE",
         "offsetgroup": "OSUN STATE",
         "orientation": "v",
         "showlegend": true,
         "textposition": "outside",
         "texttemplate": "%{text:.4s}",
         "type": "bar",
         "x": [
          "OSUN STATE"
         ],
         "xaxis": "x",
         "y": [
          3719943550
         ],
         "yaxis": "y"
        },
        {
         "alignmentgroup": "True",
         "hovertemplate": "STATE=%{x}<br>MAY=%{y}<extra></extra>",
         "legendgroup": "OYO STATE",
         "marker": {
          "color": "#FECB52"
         },
         "name": "OYO STATE",
         "offsetgroup": "OYO STATE",
         "orientation": "v",
         "showlegend": true,
         "textposition": "outside",
         "texttemplate": "%{text:.4s}",
         "type": "bar",
         "x": [
          "OYO STATE"
         ],
         "xaxis": "x",
         "y": [
          4872631911
         ],
         "yaxis": "y"
        },
        {
         "alignmentgroup": "True",
         "hovertemplate": "STATE=%{x}<br>MAY=%{y}<extra></extra>",
         "legendgroup": "PLATEAU STATE",
         "marker": {
          "color": "#636efa"
         },
         "name": "PLATEAU STATE",
         "offsetgroup": "PLATEAU STATE",
         "orientation": "v",
         "showlegend": true,
         "textposition": "outside",
         "texttemplate": "%{text:.4s}",
         "type": "bar",
         "x": [
          "PLATEAU STATE"
         ],
         "xaxis": "x",
         "y": [
          2846555612
         ],
         "yaxis": "y"
        },
        {
         "alignmentgroup": "True",
         "hovertemplate": "STATE=%{x}<br>MAY=%{y}<extra></extra>",
         "legendgroup": "RIVERS STATE",
         "marker": {
          "color": "#EF553B"
         },
         "name": "RIVERS STATE",
         "offsetgroup": "RIVERS STATE",
         "orientation": "v",
         "showlegend": true,
         "textposition": "outside",
         "texttemplate": "%{text:.4s}",
         "type": "bar",
         "x": [
          "RIVERS STATE"
         ],
         "xaxis": "x",
         "y": [
          3811428469
         ],
         "yaxis": "y"
        },
        {
         "alignmentgroup": "True",
         "hovertemplate": "STATE=%{x}<br>MAY=%{y}<extra></extra>",
         "legendgroup": "SOKOTO STATE",
         "marker": {
          "color": "#00cc96"
         },
         "name": "SOKOTO STATE",
         "offsetgroup": "SOKOTO STATE",
         "orientation": "v",
         "showlegend": true,
         "textposition": "outside",
         "texttemplate": "%{text:.4s}",
         "type": "bar",
         "x": [
          "SOKOTO STATE"
         ],
         "xaxis": "x",
         "y": [
          3564335153
         ],
         "yaxis": "y"
        },
        {
         "alignmentgroup": "True",
         "hovertemplate": "STATE=%{x}<br>MAY=%{y}<extra></extra>",
         "legendgroup": "TARABA STATE",
         "marker": {
          "color": "#ab63fa"
         },
         "name": "TARABA STATE",
         "offsetgroup": "TARABA STATE",
         "orientation": "v",
         "showlegend": true,
         "textposition": "outside",
         "texttemplate": "%{text:.4s}",
         "type": "bar",
         "x": [
          "TARABA STATE"
         ],
         "xaxis": "x",
         "y": [
          2614908903
         ],
         "yaxis": "y"
        },
        {
         "alignmentgroup": "True",
         "hovertemplate": "STATE=%{x}<br>MAY=%{y}<extra></extra>",
         "legendgroup": "YOBE STATE",
         "marker": {
          "color": "#FFA15A"
         },
         "name": "YOBE STATE",
         "offsetgroup": "YOBE STATE",
         "orientation": "v",
         "showlegend": true,
         "textposition": "outside",
         "texttemplate": "%{text:.4s}",
         "type": "bar",
         "x": [
          "YOBE STATE"
         ],
         "xaxis": "x",
         "y": [
          2659072777
         ],
         "yaxis": "y"
        },
        {
         "alignmentgroup": "True",
         "hovertemplate": "STATE=%{x}<br>MAY=%{y}<extra></extra>",
         "legendgroup": "ZAMFARA STATE",
         "marker": {
          "color": "#19d3f3"
         },
         "name": "ZAMFARA STATE",
         "offsetgroup": "ZAMFARA STATE",
         "orientation": "v",
         "showlegend": true,
         "textposition": "outside",
         "texttemplate": "%{text:.4s}",
         "type": "bar",
         "x": [
          "ZAMFARA STATE"
         ],
         "xaxis": "x",
         "y": [
          2439093233
         ],
         "yaxis": "y"
        },
        {
         "alignmentgroup": "True",
         "hovertemplate": "STATE=%{x}<br>MAY=%{y}<extra></extra>",
         "legendgroup": "FEDERAL CAPITAL TERRITORY (FCT)",
         "marker": {
          "color": "#FF6692"
         },
         "name": "FEDERAL CAPITAL TERRITORY (FCT)",
         "offsetgroup": "FEDERAL CAPITAL TERRITORY (FCT)",
         "orientation": "v",
         "showlegend": true,
         "textposition": "outside",
         "texttemplate": "%{text:.4s}",
         "type": "bar",
         "x": [
          "FEDERAL CAPITAL TERRITORY (FCT)"
         ],
         "xaxis": "x",
         "y": [
          1915653536
         ],
         "yaxis": "y"
        }
       ],
       "layout": {
        "barmode": "relative",
        "height": 750,
        "legend": {
         "title": {
          "text": "STATE"
         },
         "tracegroupgap": 0
        },
        "margin": {
         "t": 60
        },
        "template": {
         "data": {
          "bar": [
           {
            "error_x": {
             "color": "#2a3f5f"
            },
            "error_y": {
             "color": "#2a3f5f"
            },
            "marker": {
             "line": {
              "color": "#E5ECF6",
              "width": 0.5
             }
            },
            "type": "bar"
           }
          ],
          "barpolar": [
           {
            "marker": {
             "line": {
              "color": "#E5ECF6",
              "width": 0.5
             }
            },
            "type": "barpolar"
           }
          ],
          "carpet": [
           {
            "aaxis": {
             "endlinecolor": "#2a3f5f",
             "gridcolor": "white",
             "linecolor": "white",
             "minorgridcolor": "white",
             "startlinecolor": "#2a3f5f"
            },
            "baxis": {
             "endlinecolor": "#2a3f5f",
             "gridcolor": "white",
             "linecolor": "white",
             "minorgridcolor": "white",
             "startlinecolor": "#2a3f5f"
            },
            "type": "carpet"
           }
          ],
          "choropleth": [
           {
            "colorbar": {
             "outlinewidth": 0,
             "ticks": ""
            },
            "type": "choropleth"
           }
          ],
          "contour": [
           {
            "colorbar": {
             "outlinewidth": 0,
             "ticks": ""
            },
            "colorscale": [
             [
              0,
              "#0d0887"
             ],
             [
              0.1111111111111111,
              "#46039f"
             ],
             [
              0.2222222222222222,
              "#7201a8"
             ],
             [
              0.3333333333333333,
              "#9c179e"
             ],
             [
              0.4444444444444444,
              "#bd3786"
             ],
             [
              0.5555555555555556,
              "#d8576b"
             ],
             [
              0.6666666666666666,
              "#ed7953"
             ],
             [
              0.7777777777777778,
              "#fb9f3a"
             ],
             [
              0.8888888888888888,
              "#fdca26"
             ],
             [
              1,
              "#f0f921"
             ]
            ],
            "type": "contour"
           }
          ],
          "contourcarpet": [
           {
            "colorbar": {
             "outlinewidth": 0,
             "ticks": ""
            },
            "type": "contourcarpet"
           }
          ],
          "heatmap": [
           {
            "colorbar": {
             "outlinewidth": 0,
             "ticks": ""
            },
            "colorscale": [
             [
              0,
              "#0d0887"
             ],
             [
              0.1111111111111111,
              "#46039f"
             ],
             [
              0.2222222222222222,
              "#7201a8"
             ],
             [
              0.3333333333333333,
              "#9c179e"
             ],
             [
              0.4444444444444444,
              "#bd3786"
             ],
             [
              0.5555555555555556,
              "#d8576b"
             ],
             [
              0.6666666666666666,
              "#ed7953"
             ],
             [
              0.7777777777777778,
              "#fb9f3a"
             ],
             [
              0.8888888888888888,
              "#fdca26"
             ],
             [
              1,
              "#f0f921"
             ]
            ],
            "type": "heatmap"
           }
          ],
          "heatmapgl": [
           {
            "colorbar": {
             "outlinewidth": 0,
             "ticks": ""
            },
            "colorscale": [
             [
              0,
              "#0d0887"
             ],
             [
              0.1111111111111111,
              "#46039f"
             ],
             [
              0.2222222222222222,
              "#7201a8"
             ],
             [
              0.3333333333333333,
              "#9c179e"
             ],
             [
              0.4444444444444444,
              "#bd3786"
             ],
             [
              0.5555555555555556,
              "#d8576b"
             ],
             [
              0.6666666666666666,
              "#ed7953"
             ],
             [
              0.7777777777777778,
              "#fb9f3a"
             ],
             [
              0.8888888888888888,
              "#fdca26"
             ],
             [
              1,
              "#f0f921"
             ]
            ],
            "type": "heatmapgl"
           }
          ],
          "histogram": [
           {
            "marker": {
             "colorbar": {
              "outlinewidth": 0,
              "ticks": ""
             }
            },
            "type": "histogram"
           }
          ],
          "histogram2d": [
           {
            "colorbar": {
             "outlinewidth": 0,
             "ticks": ""
            },
            "colorscale": [
             [
              0,
              "#0d0887"
             ],
             [
              0.1111111111111111,
              "#46039f"
             ],
             [
              0.2222222222222222,
              "#7201a8"
             ],
             [
              0.3333333333333333,
              "#9c179e"
             ],
             [
              0.4444444444444444,
              "#bd3786"
             ],
             [
              0.5555555555555556,
              "#d8576b"
             ],
             [
              0.6666666666666666,
              "#ed7953"
             ],
             [
              0.7777777777777778,
              "#fb9f3a"
             ],
             [
              0.8888888888888888,
              "#fdca26"
             ],
             [
              1,
              "#f0f921"
             ]
            ],
            "type": "histogram2d"
           }
          ],
          "histogram2dcontour": [
           {
            "colorbar": {
             "outlinewidth": 0,
             "ticks": ""
            },
            "colorscale": [
             [
              0,
              "#0d0887"
             ],
             [
              0.1111111111111111,
              "#46039f"
             ],
             [
              0.2222222222222222,
              "#7201a8"
             ],
             [
              0.3333333333333333,
              "#9c179e"
             ],
             [
              0.4444444444444444,
              "#bd3786"
             ],
             [
              0.5555555555555556,
              "#d8576b"
             ],
             [
              0.6666666666666666,
              "#ed7953"
             ],
             [
              0.7777777777777778,
              "#fb9f3a"
             ],
             [
              0.8888888888888888,
              "#fdca26"
             ],
             [
              1,
              "#f0f921"
             ]
            ],
            "type": "histogram2dcontour"
           }
          ],
          "mesh3d": [
           {
            "colorbar": {
             "outlinewidth": 0,
             "ticks": ""
            },
            "type": "mesh3d"
           }
          ],
          "parcoords": [
           {
            "line": {
             "colorbar": {
              "outlinewidth": 0,
              "ticks": ""
             }
            },
            "type": "parcoords"
           }
          ],
          "pie": [
           {
            "automargin": true,
            "type": "pie"
           }
          ],
          "scatter": [
           {
            "marker": {
             "colorbar": {
              "outlinewidth": 0,
              "ticks": ""
             }
            },
            "type": "scatter"
           }
          ],
          "scatter3d": [
           {
            "line": {
             "colorbar": {
              "outlinewidth": 0,
              "ticks": ""
             }
            },
            "marker": {
             "colorbar": {
              "outlinewidth": 0,
              "ticks": ""
             }
            },
            "type": "scatter3d"
           }
          ],
          "scattercarpet": [
           {
            "marker": {
             "colorbar": {
              "outlinewidth": 0,
              "ticks": ""
             }
            },
            "type": "scattercarpet"
           }
          ],
          "scattergeo": [
           {
            "marker": {
             "colorbar": {
              "outlinewidth": 0,
              "ticks": ""
             }
            },
            "type": "scattergeo"
           }
          ],
          "scattergl": [
           {
            "marker": {
             "colorbar": {
              "outlinewidth": 0,
              "ticks": ""
             }
            },
            "type": "scattergl"
           }
          ],
          "scattermapbox": [
           {
            "marker": {
             "colorbar": {
              "outlinewidth": 0,
              "ticks": ""
             }
            },
            "type": "scattermapbox"
           }
          ],
          "scatterpolar": [
           {
            "marker": {
             "colorbar": {
              "outlinewidth": 0,
              "ticks": ""
             }
            },
            "type": "scatterpolar"
           }
          ],
          "scatterpolargl": [
           {
            "marker": {
             "colorbar": {
              "outlinewidth": 0,
              "ticks": ""
             }
            },
            "type": "scatterpolargl"
           }
          ],
          "scatterternary": [
           {
            "marker": {
             "colorbar": {
              "outlinewidth": 0,
              "ticks": ""
             }
            },
            "type": "scatterternary"
           }
          ],
          "surface": [
           {
            "colorbar": {
             "outlinewidth": 0,
             "ticks": ""
            },
            "colorscale": [
             [
              0,
              "#0d0887"
             ],
             [
              0.1111111111111111,
              "#46039f"
             ],
             [
              0.2222222222222222,
              "#7201a8"
             ],
             [
              0.3333333333333333,
              "#9c179e"
             ],
             [
              0.4444444444444444,
              "#bd3786"
             ],
             [
              0.5555555555555556,
              "#d8576b"
             ],
             [
              0.6666666666666666,
              "#ed7953"
             ],
             [
              0.7777777777777778,
              "#fb9f3a"
             ],
             [
              0.8888888888888888,
              "#fdca26"
             ],
             [
              1,
              "#f0f921"
             ]
            ],
            "type": "surface"
           }
          ],
          "table": [
           {
            "cells": {
             "fill": {
              "color": "#EBF0F8"
             },
             "line": {
              "color": "white"
             }
            },
            "header": {
             "fill": {
              "color": "#C8D4E3"
             },
             "line": {
              "color": "white"
             }
            },
            "type": "table"
           }
          ]
         },
         "layout": {
          "annotationdefaults": {
           "arrowcolor": "#2a3f5f",
           "arrowhead": 0,
           "arrowwidth": 1
          },
          "autotypenumbers": "strict",
          "coloraxis": {
           "colorbar": {
            "outlinewidth": 0,
            "ticks": ""
           }
          },
          "colorscale": {
           "diverging": [
            [
             0,
             "#8e0152"
            ],
            [
             0.1,
             "#c51b7d"
            ],
            [
             0.2,
             "#de77ae"
            ],
            [
             0.3,
             "#f1b6da"
            ],
            [
             0.4,
             "#fde0ef"
            ],
            [
             0.5,
             "#f7f7f7"
            ],
            [
             0.6,
             "#e6f5d0"
            ],
            [
             0.7,
             "#b8e186"
            ],
            [
             0.8,
             "#7fbc41"
            ],
            [
             0.9,
             "#4d9221"
            ],
            [
             1,
             "#276419"
            ]
           ],
           "sequential": [
            [
             0,
             "#0d0887"
            ],
            [
             0.1111111111111111,
             "#46039f"
            ],
            [
             0.2222222222222222,
             "#7201a8"
            ],
            [
             0.3333333333333333,
             "#9c179e"
            ],
            [
             0.4444444444444444,
             "#bd3786"
            ],
            [
             0.5555555555555556,
             "#d8576b"
            ],
            [
             0.6666666666666666,
             "#ed7953"
            ],
            [
             0.7777777777777778,
             "#fb9f3a"
            ],
            [
             0.8888888888888888,
             "#fdca26"
            ],
            [
             1,
             "#f0f921"
            ]
           ],
           "sequentialminus": [
            [
             0,
             "#0d0887"
            ],
            [
             0.1111111111111111,
             "#46039f"
            ],
            [
             0.2222222222222222,
             "#7201a8"
            ],
            [
             0.3333333333333333,
             "#9c179e"
            ],
            [
             0.4444444444444444,
             "#bd3786"
            ],
            [
             0.5555555555555556,
             "#d8576b"
            ],
            [
             0.6666666666666666,
             "#ed7953"
            ],
            [
             0.7777777777777778,
             "#fb9f3a"
            ],
            [
             0.8888888888888888,
             "#fdca26"
            ],
            [
             1,
             "#f0f921"
            ]
           ]
          },
          "colorway": [
           "#636efa",
           "#EF553B",
           "#00cc96",
           "#ab63fa",
           "#FFA15A",
           "#19d3f3",
           "#FF6692",
           "#B6E880",
           "#FF97FF",
           "#FECB52"
          ],
          "font": {
           "color": "#2a3f5f"
          },
          "geo": {
           "bgcolor": "white",
           "lakecolor": "white",
           "landcolor": "#E5ECF6",
           "showlakes": true,
           "showland": true,
           "subunitcolor": "white"
          },
          "hoverlabel": {
           "align": "left"
          },
          "hovermode": "closest",
          "mapbox": {
           "style": "light"
          },
          "paper_bgcolor": "white",
          "plot_bgcolor": "#E5ECF6",
          "polar": {
           "angularaxis": {
            "gridcolor": "white",
            "linecolor": "white",
            "ticks": ""
           },
           "bgcolor": "#E5ECF6",
           "radialaxis": {
            "gridcolor": "white",
            "linecolor": "white",
            "ticks": ""
           }
          },
          "scene": {
           "xaxis": {
            "backgroundcolor": "#E5ECF6",
            "gridcolor": "white",
            "gridwidth": 2,
            "linecolor": "white",
            "showbackground": true,
            "ticks": "",
            "zerolinecolor": "white"
           },
           "yaxis": {
            "backgroundcolor": "#E5ECF6",
            "gridcolor": "white",
            "gridwidth": 2,
            "linecolor": "white",
            "showbackground": true,
            "ticks": "",
            "zerolinecolor": "white"
           },
           "zaxis": {
            "backgroundcolor": "#E5ECF6",
            "gridcolor": "white",
            "gridwidth": 2,
            "linecolor": "white",
            "showbackground": true,
            "ticks": "",
            "zerolinecolor": "white"
           }
          },
          "shapedefaults": {
           "line": {
            "color": "#2a3f5f"
           }
          },
          "ternary": {
           "aaxis": {
            "gridcolor": "white",
            "linecolor": "white",
            "ticks": ""
           },
           "baxis": {
            "gridcolor": "white",
            "linecolor": "white",
            "ticks": ""
           },
           "bgcolor": "#E5ECF6",
           "caxis": {
            "gridcolor": "white",
            "linecolor": "white",
            "ticks": ""
           }
          },
          "title": {
           "x": 0.05
          },
          "xaxis": {
           "automargin": true,
           "gridcolor": "white",
           "linecolor": "white",
           "ticks": "",
           "title": {
            "standoff": 15
           },
           "zerolinecolor": "white",
           "zerolinewidth": 2
          },
          "yaxis": {
           "automargin": true,
           "gridcolor": "white",
           "linecolor": "white",
           "ticks": "",
           "title": {
            "standoff": 15
           },
           "zerolinecolor": "white",
           "zerolinewidth": 2
          }
         }
        },
        "title": {
         "text": "FAAC_2020",
         "x": 0.5,
         "y": 0.8
        },
        "uniformtext": {
         "minsize": 8,
         "mode": "hide"
        },
        "width": 1000,
        "xaxis": {
         "anchor": "y",
         "categoryarray": [
          "ABIA STATE",
          "ADAMAWA STATE",
          "AKWA IBOW STATE",
          "ANAMBRA STATE",
          "BAUCHI STATE",
          "BAYELSA STATE",
          "BENUE STATE",
          "BORNO STATE",
          "CROSS-RIVER STATE",
          "DELTA STATE",
          "EBONYI STATE",
          "EDO STATE",
          "EKITI STATE",
          "ENUGU STATE",
          "GOMBE STATE",
          "IMO STATE",
          "JIGAWA STATE",
          "KADUNA STATE",
          "KANO STATE",
          "KATSINA STATE",
          "KEBBI STATE",
          "KOGI STATE",
          "KWARA STATE",
          "LAGOS STATE",
          "NASARAWA STATE",
          "NIGER STATE",
          "OGUN STATE",
          "ONDO STATE",
          "OSUN STATE",
          "OYO STATE",
          "PLATEAU STATE",
          "RIVERS STATE",
          "SOKOTO STATE",
          "TARABA STATE",
          "YOBE STATE",
          "ZAMFARA STATE",
          "FEDERAL CAPITAL TERRITORY (FCT)"
         ],
         "categoryorder": "array",
         "domain": [
          0,
          1
         ],
         "title": {
          "text": "STATE"
         }
        },
        "yaxis": {
         "anchor": "x",
         "domain": [
          0,
          1
         ],
         "title": {
          "text": "MAY"
         }
        }
       }
      },
      "text/html": [
       "<div>                            <div id=\"056a01b0-57ca-4cbf-bc87-cfccea2d4e8c\" class=\"plotly-graph-div\" style=\"height:750px; width:1000px;\"></div>            <script type=\"text/javascript\">                require([\"plotly\"], function(Plotly) {                    window.PLOTLYENV=window.PLOTLYENV || {};                                    if (document.getElementById(\"056a01b0-57ca-4cbf-bc87-cfccea2d4e8c\")) {                    Plotly.newPlot(                        \"056a01b0-57ca-4cbf-bc87-cfccea2d4e8c\",                        [{\"alignmentgroup\": \"True\", \"hovertemplate\": \"STATE=%{x}<br>MAY=%{y}<extra></extra>\", \"legendgroup\": \"ABIA STATE\", \"marker\": {\"color\": \"#636efa\"}, \"name\": \"ABIA STATE\", \"offsetgroup\": \"ABIA STATE\", \"orientation\": \"v\", \"showlegend\": true, \"textposition\": \"outside\", \"texttemplate\": \"%{text:.4s}\", \"type\": \"bar\", \"x\": [\"ABIA STATE\"], \"xaxis\": \"x\", \"y\": [2490155558], \"yaxis\": \"y\"}, {\"alignmentgroup\": \"True\", \"hovertemplate\": \"STATE=%{x}<br>MAY=%{y}<extra></extra>\", \"legendgroup\": \"ADAMAWA STATE\", \"marker\": {\"color\": \"#EF553B\"}, \"name\": \"ADAMAWA STATE\", \"offsetgroup\": \"ADAMAWA STATE\", \"orientation\": \"v\", \"showlegend\": true, \"textposition\": \"outside\", \"texttemplate\": \"%{text:.4s}\", \"type\": \"bar\", \"x\": [\"ADAMAWA STATE\"], \"xaxis\": \"x\", \"y\": [3107031846], \"yaxis\": \"y\"}, {\"alignmentgroup\": \"True\", \"hovertemplate\": \"STATE=%{x}<br>MAY=%{y}<extra></extra>\", \"legendgroup\": \"AKWA IBOW STATE\", \"marker\": {\"color\": \"#00cc96\"}, \"name\": \"AKWA IBOW STATE\", \"offsetgroup\": \"AKWA IBOW STATE\", \"orientation\": \"v\", \"showlegend\": true, \"textposition\": \"outside\", \"texttemplate\": \"%{text:.4s}\", \"type\": \"bar\", \"x\": [\"AKWA IBOW STATE\"], \"xaxis\": \"x\", \"y\": [4184880669], \"yaxis\": \"y\"}, {\"alignmentgroup\": \"True\", \"hovertemplate\": \"STATE=%{x}<br>MAY=%{y}<extra></extra>\", \"legendgroup\": \"ANAMBRA STATE\", \"marker\": {\"color\": \"#ab63fa\"}, \"name\": \"ANAMBRA STATE\", \"offsetgroup\": \"ANAMBRA STATE\", \"orientation\": \"v\", \"showlegend\": true, \"textposition\": \"outside\", \"texttemplate\": \"%{text:.4s}\", \"type\": \"bar\", \"x\": [\"ANAMBRA STATE\"], \"xaxis\": \"x\", \"y\": [3197689890], \"yaxis\": \"y\"}, {\"alignmentgroup\": \"True\", \"hovertemplate\": \"STATE=%{x}<br>MAY=%{y}<extra></extra>\", \"legendgroup\": \"BAUCHI STATE\", \"marker\": {\"color\": \"#FFA15A\"}, \"name\": \"BAUCHI STATE\", \"offsetgroup\": \"BAUCHI STATE\", \"orientation\": \"v\", \"showlegend\": true, \"textposition\": \"outside\", \"texttemplate\": \"%{text:.4s}\", \"type\": \"bar\", \"x\": [\"BAUCHI STATE\"], \"xaxis\": \"x\", \"y\": [3537197522], \"yaxis\": \"y\"}, {\"alignmentgroup\": \"True\", \"hovertemplate\": \"STATE=%{x}<br>MAY=%{y}<extra></extra>\", \"legendgroup\": \"BAYELSA STATE\", \"marker\": {\"color\": \"#19d3f3\"}, \"name\": \"BAYELSA STATE\", \"offsetgroup\": \"BAYELSA STATE\", \"orientation\": \"v\", \"showlegend\": true, \"textposition\": \"outside\", \"texttemplate\": \"%{text:.4s}\", \"type\": \"bar\", \"x\": [\"BAYELSA STATE\"], \"xaxis\": \"x\", \"y\": [1462036983], \"yaxis\": \"y\"}, {\"alignmentgroup\": \"True\", \"hovertemplate\": \"STATE=%{x}<br>MAY=%{y}<extra></extra>\", \"legendgroup\": \"BENUE STATE\", \"marker\": {\"color\": \"#FF6692\"}, \"name\": \"BENUE STATE\", \"offsetgroup\": \"BENUE STATE\", \"orientation\": \"v\", \"showlegend\": true, \"textposition\": \"outside\", \"texttemplate\": \"%{text:.4s}\", \"type\": \"bar\", \"x\": [\"BENUE STATE\"], \"xaxis\": \"x\", \"y\": [3811578838], \"yaxis\": \"y\"}, {\"alignmentgroup\": \"True\", \"hovertemplate\": \"STATE=%{x}<br>MAY=%{y}<extra></extra>\", \"legendgroup\": \"BORNO STATE\", \"marker\": {\"color\": \"#B6E880\"}, \"name\": \"BORNO STATE\", \"offsetgroup\": \"BORNO STATE\", \"orientation\": \"v\", \"showlegend\": true, \"textposition\": \"outside\", \"texttemplate\": \"%{text:.4s}\", \"type\": \"bar\", \"x\": [\"BORNO STATE\"], \"xaxis\": \"x\", \"y\": [4164819788], \"yaxis\": \"y\"}, {\"alignmentgroup\": \"True\", \"hovertemplate\": \"STATE=%{x}<br>MAY=%{y}<extra></extra>\", \"legendgroup\": \"CROSS-RIVER STATE\", \"marker\": {\"color\": \"#FF97FF\"}, \"name\": \"CROSS-RIVER STATE\", \"offsetgroup\": \"CROSS-RIVER STATE\", \"orientation\": \"v\", \"showlegend\": true, \"textposition\": \"outside\", \"texttemplate\": \"%{text:.4s}\", \"type\": \"bar\", \"x\": [\"CROSS-RIVER STATE\"], \"xaxis\": \"x\", \"y\": [2704875775], \"yaxis\": \"y\"}, {\"alignmentgroup\": \"True\", \"hovertemplate\": \"STATE=%{x}<br>MAY=%{y}<extra></extra>\", \"legendgroup\": \"DELTA STATE\", \"marker\": {\"color\": \"#FECB52\"}, \"name\": \"DELTA STATE\", \"offsetgroup\": \"DELTA STATE\", \"orientation\": \"v\", \"showlegend\": true, \"textposition\": \"outside\", \"texttemplate\": \"%{text:.4s}\", \"type\": \"bar\", \"x\": [\"DELTA STATE\"], \"xaxis\": \"x\", \"y\": [3687491597], \"yaxis\": \"y\"}, {\"alignmentgroup\": \"True\", \"hovertemplate\": \"STATE=%{x}<br>MAY=%{y}<extra></extra>\", \"legendgroup\": \"EBONYI STATE\", \"marker\": {\"color\": \"#636efa\"}, \"name\": \"EBONYI STATE\", \"offsetgroup\": \"EBONYI STATE\", \"orientation\": \"v\", \"showlegend\": true, \"textposition\": \"outside\", \"texttemplate\": \"%{text:.4s}\", \"type\": \"bar\", \"x\": [\"EBONYI STATE\"], \"xaxis\": \"x\", \"y\": [2032712657], \"yaxis\": \"y\"}, {\"alignmentgroup\": \"True\", \"hovertemplate\": \"STATE=%{x}<br>MAY=%{y}<extra></extra>\", \"legendgroup\": \"EDO STATE\", \"marker\": {\"color\": \"#EF553B\"}, \"name\": \"EDO STATE\", \"offsetgroup\": \"EDO STATE\", \"orientation\": \"v\", \"showlegend\": true, \"textposition\": \"outside\", \"texttemplate\": \"%{text:.4s}\", \"type\": \"bar\", \"x\": [\"EDO STATE\"], \"xaxis\": \"x\", \"y\": [2690190321], \"yaxis\": \"y\"}, {\"alignmentgroup\": \"True\", \"hovertemplate\": \"STATE=%{x}<br>MAY=%{y}<extra></extra>\", \"legendgroup\": \"EKITI STATE\", \"marker\": {\"color\": \"#00cc96\"}, \"name\": \"EKITI STATE\", \"offsetgroup\": \"EKITI STATE\", \"orientation\": \"v\", \"showlegend\": true, \"textposition\": \"outside\", \"texttemplate\": \"%{text:.4s}\", \"type\": \"bar\", \"x\": [\"EKITI STATE\"], \"xaxis\": \"x\", \"y\": [2152765023], \"yaxis\": \"y\"}, {\"alignmentgroup\": \"True\", \"hovertemplate\": \"STATE=%{x}<br>MAY=%{y}<extra></extra>\", \"legendgroup\": \"ENUGU STATE\", \"marker\": {\"color\": \"#ab63fa\"}, \"name\": \"ENUGU STATE\", \"offsetgroup\": \"ENUGU STATE\", \"orientation\": \"v\", \"showlegend\": true, \"textposition\": \"outside\", \"texttemplate\": \"%{text:.4s}\", \"type\": \"bar\", \"x\": [\"ENUGU STATE\"], \"xaxis\": \"x\", \"y\": [2717820165], \"yaxis\": \"y\"}, {\"alignmentgroup\": \"True\", \"hovertemplate\": \"STATE=%{x}<br>MAY=%{y}<extra></extra>\", \"legendgroup\": \"GOMBE STATE\", \"marker\": {\"color\": \"#FFA15A\"}, \"name\": \"GOMBE STATE\", \"offsetgroup\": \"GOMBE STATE\", \"orientation\": \"v\", \"showlegend\": true, \"textposition\": \"outside\", \"texttemplate\": \"%{text:.4s}\", \"type\": \"bar\", \"x\": [\"GOMBE STATE\"], \"xaxis\": \"x\", \"y\": [1849982094], \"yaxis\": \"y\"}, {\"alignmentgroup\": \"True\", \"hovertemplate\": \"STATE=%{x}<br>MAY=%{y}<extra></extra>\", \"legendgroup\": \"IMO STATE\", \"marker\": {\"color\": \"#19d3f3\"}, \"name\": \"IMO STATE\", \"offsetgroup\": \"IMO STATE\", \"orientation\": \"v\", \"showlegend\": true, \"textposition\": \"outside\", \"texttemplate\": \"%{text:.4s}\", \"type\": \"bar\", \"x\": [\"IMO STATE\"], \"xaxis\": \"x\", \"y\": [3669947625], \"yaxis\": \"y\"}, {\"alignmentgroup\": \"True\", \"hovertemplate\": \"STATE=%{x}<br>MAY=%{y}<extra></extra>\", \"legendgroup\": \"JIGAWA STATE\", \"marker\": {\"color\": \"#FF6692\"}, \"name\": \"JIGAWA STATE\", \"offsetgroup\": \"JIGAWA STATE\", \"orientation\": \"v\", \"showlegend\": true, \"textposition\": \"outside\", \"texttemplate\": \"%{text:.4s}\", \"type\": \"bar\", \"x\": [\"JIGAWA STATE\"], \"xaxis\": \"x\", \"y\": [3864852524], \"yaxis\": \"y\"}, {\"alignmentgroup\": \"True\", \"hovertemplate\": \"STATE=%{x}<br>MAY=%{y}<extra></extra>\", \"legendgroup\": \"KADUNA STATE\", \"marker\": {\"color\": \"#B6E880\"}, \"name\": \"KADUNA STATE\", \"offsetgroup\": \"KADUNA STATE\", \"orientation\": \"v\", \"showlegend\": true, \"textposition\": \"outside\", \"texttemplate\": \"%{text:.4s}\", \"type\": \"bar\", \"x\": [\"KADUNA STATE\"], \"xaxis\": \"x\", \"y\": [4253841927], \"yaxis\": \"y\"}, {\"alignmentgroup\": \"True\", \"hovertemplate\": \"STATE=%{x}<br>MAY=%{y}<extra></extra>\", \"legendgroup\": \"KANO STATE\", \"marker\": {\"color\": \"#FF97FF\"}, \"name\": \"KANO STATE\", \"offsetgroup\": \"KANO STATE\", \"orientation\": \"v\", \"showlegend\": true, \"textposition\": \"outside\", \"texttemplate\": \"%{text:.4s}\", \"type\": \"bar\", \"x\": [\"KANO STATE\"], \"xaxis\": \"x\", \"y\": [7004130256], \"yaxis\": \"y\"}, {\"alignmentgroup\": \"True\", \"hovertemplate\": \"STATE=%{x}<br>MAY=%{y}<extra></extra>\", \"legendgroup\": \"KATSINA STATE\", \"marker\": {\"color\": \"#FECB52\"}, \"name\": \"KATSINA STATE\", \"offsetgroup\": \"KATSINA STATE\", \"orientation\": \"v\", \"showlegend\": true, \"textposition\": \"outside\", \"texttemplate\": \"%{text:.4s}\", \"type\": \"bar\", \"x\": [\"KATSINA STATE\"], \"xaxis\": \"x\", \"y\": [5184157204], \"yaxis\": \"y\"}, {\"alignmentgroup\": \"True\", \"hovertemplate\": \"STATE=%{x}<br>MAY=%{y}<extra></extra>\", \"legendgroup\": \"KEBBI STATE\", \"marker\": {\"color\": \"#636efa\"}, \"name\": \"KEBBI STATE\", \"offsetgroup\": \"KEBBI STATE\", \"orientation\": \"v\", \"showlegend\": true, \"textposition\": \"outside\", \"texttemplate\": \"%{text:.4s}\", \"type\": \"bar\", \"x\": [\"KEBBI STATE\"], \"xaxis\": \"x\", \"y\": [3235899135], \"yaxis\": \"y\"}, {\"alignmentgroup\": \"True\", \"hovertemplate\": \"STATE=%{x}<br>MAY=%{y}<extra></extra>\", \"legendgroup\": \"KOGI STATE\", \"marker\": {\"color\": \"#EF553B\"}, \"name\": \"KOGI STATE\", \"offsetgroup\": \"KOGI STATE\", \"orientation\": \"v\", \"showlegend\": true, \"textposition\": \"outside\", \"texttemplate\": \"%{text:.4s}\", \"type\": \"bar\", \"x\": [\"KOGI STATE\"], \"xaxis\": \"x\", \"y\": [3327499090], \"yaxis\": \"y\"}, {\"alignmentgroup\": \"True\", \"hovertemplate\": \"STATE=%{x}<br>MAY=%{y}<extra></extra>\", \"legendgroup\": \"KWARA STATE\", \"marker\": {\"color\": \"#00cc96\"}, \"name\": \"KWARA STATE\", \"offsetgroup\": \"KWARA STATE\", \"orientation\": \"v\", \"showlegend\": true, \"textposition\": \"outside\", \"texttemplate\": \"%{text:.4s}\", \"type\": \"bar\", \"x\": [\"KWARA STATE\"], \"xaxis\": \"x\", \"y\": [2374870281], \"yaxis\": \"y\"}, {\"alignmentgroup\": \"True\", \"hovertemplate\": \"STATE=%{x}<br>MAY=%{y}<extra></extra>\", \"legendgroup\": \"LAGOS STATE\", \"marker\": {\"color\": \"#ab63fa\"}, \"name\": \"LAGOS STATE\", \"offsetgroup\": \"LAGOS STATE\", \"orientation\": \"v\", \"showlegend\": true, \"textposition\": \"outside\", \"texttemplate\": \"%{text:.4s}\", \"type\": \"bar\", \"x\": [\"LAGOS STATE\"], \"xaxis\": \"x\", \"y\": [8590886838], \"yaxis\": \"y\"}, {\"alignmentgroup\": \"True\", \"hovertemplate\": \"STATE=%{x}<br>MAY=%{y}<extra></extra>\", \"legendgroup\": \"NASARAWA STATE\", \"marker\": {\"color\": \"#FFA15A\"}, \"name\": \"NASARAWA STATE\", \"offsetgroup\": \"NASARAWA STATE\", \"orientation\": \"v\", \"showlegend\": true, \"textposition\": \"outside\", \"texttemplate\": \"%{text:.4s}\", \"type\": \"bar\", \"x\": [\"NASARAWA STATE\"], \"xaxis\": \"x\", \"y\": [2087559680], \"yaxis\": \"y\"}, {\"alignmentgroup\": \"True\", \"hovertemplate\": \"STATE=%{x}<br>MAY=%{y}<extra></extra>\", \"legendgroup\": \"NIGER STATE\", \"marker\": {\"color\": \"#19d3f3\"}, \"name\": \"NIGER STATE\", \"offsetgroup\": \"NIGER STATE\", \"orientation\": \"v\", \"showlegend\": true, \"textposition\": \"outside\", \"texttemplate\": \"%{text:.4s}\", \"type\": \"bar\", \"x\": [\"NIGER STATE\"], \"xaxis\": \"x\", \"y\": [3900178201], \"yaxis\": \"y\"}, {\"alignmentgroup\": \"True\", \"hovertemplate\": \"STATE=%{x}<br>MAY=%{y}<extra></extra>\", \"legendgroup\": \"OGUN STATE\", \"marker\": {\"color\": \"#FF6692\"}, \"name\": \"OGUN STATE\", \"offsetgroup\": \"OGUN STATE\", \"orientation\": \"v\", \"showlegend\": true, \"textposition\": \"outside\", \"texttemplate\": \"%{text:.4s}\", \"type\": \"bar\", \"x\": [\"OGUN STATE\"], \"xaxis\": \"x\", \"y\": [2882731017], \"yaxis\": \"y\"}, {\"alignmentgroup\": \"True\", \"hovertemplate\": \"STATE=%{x}<br>MAY=%{y}<extra></extra>\", \"legendgroup\": \"ONDO STATE\", \"marker\": {\"color\": \"#B6E880\"}, \"name\": \"ONDO STATE\", \"offsetgroup\": \"ONDO STATE\", \"orientation\": \"v\", \"showlegend\": true, \"textposition\": \"outside\", \"texttemplate\": \"%{text:.4s}\", \"type\": \"bar\", \"x\": [\"ONDO STATE\"], \"xaxis\": \"x\", \"y\": [2725161404], \"yaxis\": \"y\"}, {\"alignmentgroup\": \"True\", \"hovertemplate\": \"STATE=%{x}<br>MAY=%{y}<extra></extra>\", \"legendgroup\": \"OSUN STATE\", \"marker\": {\"color\": \"#FF97FF\"}, \"name\": \"OSUN STATE\", \"offsetgroup\": \"OSUN STATE\", \"orientation\": \"v\", \"showlegend\": true, \"textposition\": \"outside\", \"texttemplate\": \"%{text:.4s}\", \"type\": \"bar\", \"x\": [\"OSUN STATE\"], \"xaxis\": \"x\", \"y\": [3719943550], \"yaxis\": \"y\"}, {\"alignmentgroup\": \"True\", \"hovertemplate\": \"STATE=%{x}<br>MAY=%{y}<extra></extra>\", \"legendgroup\": \"OYO STATE\", \"marker\": {\"color\": \"#FECB52\"}, \"name\": \"OYO STATE\", \"offsetgroup\": \"OYO STATE\", \"orientation\": \"v\", \"showlegend\": true, \"textposition\": \"outside\", \"texttemplate\": \"%{text:.4s}\", \"type\": \"bar\", \"x\": [\"OYO STATE\"], \"xaxis\": \"x\", \"y\": [4872631911], \"yaxis\": \"y\"}, {\"alignmentgroup\": \"True\", \"hovertemplate\": \"STATE=%{x}<br>MAY=%{y}<extra></extra>\", \"legendgroup\": \"PLATEAU STATE\", \"marker\": {\"color\": \"#636efa\"}, \"name\": \"PLATEAU STATE\", \"offsetgroup\": \"PLATEAU STATE\", \"orientation\": \"v\", \"showlegend\": true, \"textposition\": \"outside\", \"texttemplate\": \"%{text:.4s}\", \"type\": \"bar\", \"x\": [\"PLATEAU STATE\"], \"xaxis\": \"x\", \"y\": [2846555612], \"yaxis\": \"y\"}, {\"alignmentgroup\": \"True\", \"hovertemplate\": \"STATE=%{x}<br>MAY=%{y}<extra></extra>\", \"legendgroup\": \"RIVERS STATE\", \"marker\": {\"color\": \"#EF553B\"}, \"name\": \"RIVERS STATE\", \"offsetgroup\": \"RIVERS STATE\", \"orientation\": \"v\", \"showlegend\": true, \"textposition\": \"outside\", \"texttemplate\": \"%{text:.4s}\", \"type\": \"bar\", \"x\": [\"RIVERS STATE\"], \"xaxis\": \"x\", \"y\": [3811428469], \"yaxis\": \"y\"}, {\"alignmentgroup\": \"True\", \"hovertemplate\": \"STATE=%{x}<br>MAY=%{y}<extra></extra>\", \"legendgroup\": \"SOKOTO STATE\", \"marker\": {\"color\": \"#00cc96\"}, \"name\": \"SOKOTO STATE\", \"offsetgroup\": \"SOKOTO STATE\", \"orientation\": \"v\", \"showlegend\": true, \"textposition\": \"outside\", \"texttemplate\": \"%{text:.4s}\", \"type\": \"bar\", \"x\": [\"SOKOTO STATE\"], \"xaxis\": \"x\", \"y\": [3564335153], \"yaxis\": \"y\"}, {\"alignmentgroup\": \"True\", \"hovertemplate\": \"STATE=%{x}<br>MAY=%{y}<extra></extra>\", \"legendgroup\": \"TARABA STATE\", \"marker\": {\"color\": \"#ab63fa\"}, \"name\": \"TARABA STATE\", \"offsetgroup\": \"TARABA STATE\", \"orientation\": \"v\", \"showlegend\": true, \"textposition\": \"outside\", \"texttemplate\": \"%{text:.4s}\", \"type\": \"bar\", \"x\": [\"TARABA STATE\"], \"xaxis\": \"x\", \"y\": [2614908903], \"yaxis\": \"y\"}, {\"alignmentgroup\": \"True\", \"hovertemplate\": \"STATE=%{x}<br>MAY=%{y}<extra></extra>\", \"legendgroup\": \"YOBE STATE\", \"marker\": {\"color\": \"#FFA15A\"}, \"name\": \"YOBE STATE\", \"offsetgroup\": \"YOBE STATE\", \"orientation\": \"v\", \"showlegend\": true, \"textposition\": \"outside\", \"texttemplate\": \"%{text:.4s}\", \"type\": \"bar\", \"x\": [\"YOBE STATE\"], \"xaxis\": \"x\", \"y\": [2659072777], \"yaxis\": \"y\"}, {\"alignmentgroup\": \"True\", \"hovertemplate\": \"STATE=%{x}<br>MAY=%{y}<extra></extra>\", \"legendgroup\": \"ZAMFARA STATE\", \"marker\": {\"color\": \"#19d3f3\"}, \"name\": \"ZAMFARA STATE\", \"offsetgroup\": \"ZAMFARA STATE\", \"orientation\": \"v\", \"showlegend\": true, \"textposition\": \"outside\", \"texttemplate\": \"%{text:.4s}\", \"type\": \"bar\", \"x\": [\"ZAMFARA STATE\"], \"xaxis\": \"x\", \"y\": [2439093233], \"yaxis\": \"y\"}, {\"alignmentgroup\": \"True\", \"hovertemplate\": \"STATE=%{x}<br>MAY=%{y}<extra></extra>\", \"legendgroup\": \"FEDERAL CAPITAL TERRITORY (FCT)\", \"marker\": {\"color\": \"#FF6692\"}, \"name\": \"FEDERAL CAPITAL TERRITORY (FCT)\", \"offsetgroup\": \"FEDERAL CAPITAL TERRITORY (FCT)\", \"orientation\": \"v\", \"showlegend\": true, \"textposition\": \"outside\", \"texttemplate\": \"%{text:.4s}\", \"type\": \"bar\", \"x\": [\"FEDERAL CAPITAL TERRITORY (FCT)\"], \"xaxis\": \"x\", \"y\": [1915653536], \"yaxis\": \"y\"}],                        {\"barmode\": \"relative\", \"height\": 750, \"legend\": {\"title\": {\"text\": \"STATE\"}, \"tracegroupgap\": 0}, \"margin\": {\"t\": 60}, \"template\": {\"data\": {\"bar\": [{\"error_x\": {\"color\": \"#2a3f5f\"}, \"error_y\": {\"color\": \"#2a3f5f\"}, \"marker\": {\"line\": {\"color\": \"#E5ECF6\", \"width\": 0.5}}, \"type\": \"bar\"}], \"barpolar\": [{\"marker\": {\"line\": {\"color\": \"#E5ECF6\", \"width\": 0.5}}, \"type\": \"barpolar\"}], \"carpet\": [{\"aaxis\": {\"endlinecolor\": \"#2a3f5f\", \"gridcolor\": \"white\", \"linecolor\": \"white\", \"minorgridcolor\": \"white\", \"startlinecolor\": \"#2a3f5f\"}, \"baxis\": {\"endlinecolor\": \"#2a3f5f\", \"gridcolor\": \"white\", \"linecolor\": \"white\", \"minorgridcolor\": \"white\", \"startlinecolor\": \"#2a3f5f\"}, \"type\": \"carpet\"}], \"choropleth\": [{\"colorbar\": {\"outlinewidth\": 0, \"ticks\": \"\"}, \"type\": \"choropleth\"}], \"contour\": [{\"colorbar\": {\"outlinewidth\": 0, \"ticks\": \"\"}, \"colorscale\": [[0.0, \"#0d0887\"], [0.1111111111111111, \"#46039f\"], [0.2222222222222222, \"#7201a8\"], [0.3333333333333333, \"#9c179e\"], [0.4444444444444444, \"#bd3786\"], [0.5555555555555556, \"#d8576b\"], [0.6666666666666666, \"#ed7953\"], [0.7777777777777778, \"#fb9f3a\"], [0.8888888888888888, \"#fdca26\"], [1.0, \"#f0f921\"]], \"type\": \"contour\"}], \"contourcarpet\": [{\"colorbar\": {\"outlinewidth\": 0, \"ticks\": \"\"}, \"type\": \"contourcarpet\"}], \"heatmap\": [{\"colorbar\": {\"outlinewidth\": 0, \"ticks\": \"\"}, \"colorscale\": [[0.0, \"#0d0887\"], [0.1111111111111111, \"#46039f\"], [0.2222222222222222, \"#7201a8\"], [0.3333333333333333, \"#9c179e\"], [0.4444444444444444, \"#bd3786\"], [0.5555555555555556, \"#d8576b\"], [0.6666666666666666, \"#ed7953\"], [0.7777777777777778, \"#fb9f3a\"], [0.8888888888888888, \"#fdca26\"], [1.0, \"#f0f921\"]], \"type\": \"heatmap\"}], \"heatmapgl\": [{\"colorbar\": {\"outlinewidth\": 0, \"ticks\": \"\"}, \"colorscale\": [[0.0, \"#0d0887\"], [0.1111111111111111, \"#46039f\"], [0.2222222222222222, \"#7201a8\"], [0.3333333333333333, \"#9c179e\"], [0.4444444444444444, \"#bd3786\"], [0.5555555555555556, \"#d8576b\"], [0.6666666666666666, \"#ed7953\"], [0.7777777777777778, \"#fb9f3a\"], [0.8888888888888888, \"#fdca26\"], [1.0, \"#f0f921\"]], \"type\": \"heatmapgl\"}], \"histogram\": [{\"marker\": {\"colorbar\": {\"outlinewidth\": 0, \"ticks\": \"\"}}, \"type\": \"histogram\"}], \"histogram2d\": [{\"colorbar\": {\"outlinewidth\": 0, \"ticks\": \"\"}, \"colorscale\": [[0.0, \"#0d0887\"], [0.1111111111111111, \"#46039f\"], [0.2222222222222222, \"#7201a8\"], [0.3333333333333333, \"#9c179e\"], [0.4444444444444444, \"#bd3786\"], [0.5555555555555556, \"#d8576b\"], [0.6666666666666666, \"#ed7953\"], [0.7777777777777778, \"#fb9f3a\"], [0.8888888888888888, \"#fdca26\"], [1.0, \"#f0f921\"]], \"type\": \"histogram2d\"}], \"histogram2dcontour\": [{\"colorbar\": {\"outlinewidth\": 0, \"ticks\": \"\"}, \"colorscale\": [[0.0, \"#0d0887\"], [0.1111111111111111, \"#46039f\"], [0.2222222222222222, \"#7201a8\"], [0.3333333333333333, \"#9c179e\"], [0.4444444444444444, \"#bd3786\"], [0.5555555555555556, \"#d8576b\"], [0.6666666666666666, \"#ed7953\"], [0.7777777777777778, \"#fb9f3a\"], [0.8888888888888888, \"#fdca26\"], [1.0, \"#f0f921\"]], \"type\": \"histogram2dcontour\"}], \"mesh3d\": [{\"colorbar\": {\"outlinewidth\": 0, \"ticks\": \"\"}, \"type\": \"mesh3d\"}], \"parcoords\": [{\"line\": {\"colorbar\": {\"outlinewidth\": 0, \"ticks\": \"\"}}, \"type\": \"parcoords\"}], \"pie\": [{\"automargin\": true, \"type\": \"pie\"}], \"scatter\": [{\"marker\": {\"colorbar\": {\"outlinewidth\": 0, \"ticks\": \"\"}}, \"type\": \"scatter\"}], \"scatter3d\": [{\"line\": {\"colorbar\": {\"outlinewidth\": 0, \"ticks\": \"\"}}, \"marker\": {\"colorbar\": {\"outlinewidth\": 0, \"ticks\": \"\"}}, \"type\": \"scatter3d\"}], \"scattercarpet\": [{\"marker\": {\"colorbar\": {\"outlinewidth\": 0, \"ticks\": \"\"}}, \"type\": \"scattercarpet\"}], \"scattergeo\": [{\"marker\": {\"colorbar\": {\"outlinewidth\": 0, \"ticks\": \"\"}}, \"type\": \"scattergeo\"}], \"scattergl\": [{\"marker\": {\"colorbar\": {\"outlinewidth\": 0, \"ticks\": \"\"}}, \"type\": \"scattergl\"}], \"scattermapbox\": [{\"marker\": {\"colorbar\": {\"outlinewidth\": 0, \"ticks\": \"\"}}, \"type\": \"scattermapbox\"}], \"scatterpolar\": [{\"marker\": {\"colorbar\": {\"outlinewidth\": 0, \"ticks\": \"\"}}, \"type\": \"scatterpolar\"}], \"scatterpolargl\": [{\"marker\": {\"colorbar\": {\"outlinewidth\": 0, \"ticks\": \"\"}}, \"type\": \"scatterpolargl\"}], \"scatterternary\": [{\"marker\": {\"colorbar\": {\"outlinewidth\": 0, \"ticks\": \"\"}}, \"type\": \"scatterternary\"}], \"surface\": [{\"colorbar\": {\"outlinewidth\": 0, \"ticks\": \"\"}, \"colorscale\": [[0.0, \"#0d0887\"], [0.1111111111111111, \"#46039f\"], [0.2222222222222222, \"#7201a8\"], [0.3333333333333333, \"#9c179e\"], [0.4444444444444444, \"#bd3786\"], [0.5555555555555556, \"#d8576b\"], [0.6666666666666666, \"#ed7953\"], [0.7777777777777778, \"#fb9f3a\"], [0.8888888888888888, \"#fdca26\"], [1.0, \"#f0f921\"]], \"type\": \"surface\"}], \"table\": [{\"cells\": {\"fill\": {\"color\": \"#EBF0F8\"}, \"line\": {\"color\": \"white\"}}, \"header\": {\"fill\": {\"color\": \"#C8D4E3\"}, \"line\": {\"color\": \"white\"}}, \"type\": \"table\"}]}, \"layout\": {\"annotationdefaults\": {\"arrowcolor\": \"#2a3f5f\", \"arrowhead\": 0, \"arrowwidth\": 1}, \"autotypenumbers\": \"strict\", \"coloraxis\": {\"colorbar\": {\"outlinewidth\": 0, \"ticks\": \"\"}}, \"colorscale\": {\"diverging\": [[0, \"#8e0152\"], [0.1, \"#c51b7d\"], [0.2, \"#de77ae\"], [0.3, \"#f1b6da\"], [0.4, \"#fde0ef\"], [0.5, \"#f7f7f7\"], [0.6, \"#e6f5d0\"], [0.7, \"#b8e186\"], [0.8, \"#7fbc41\"], [0.9, \"#4d9221\"], [1, \"#276419\"]], \"sequential\": [[0.0, \"#0d0887\"], [0.1111111111111111, \"#46039f\"], [0.2222222222222222, \"#7201a8\"], [0.3333333333333333, \"#9c179e\"], [0.4444444444444444, \"#bd3786\"], [0.5555555555555556, \"#d8576b\"], [0.6666666666666666, \"#ed7953\"], [0.7777777777777778, \"#fb9f3a\"], [0.8888888888888888, \"#fdca26\"], [1.0, \"#f0f921\"]], \"sequentialminus\": [[0.0, \"#0d0887\"], [0.1111111111111111, \"#46039f\"], [0.2222222222222222, \"#7201a8\"], [0.3333333333333333, \"#9c179e\"], [0.4444444444444444, \"#bd3786\"], [0.5555555555555556, \"#d8576b\"], [0.6666666666666666, \"#ed7953\"], [0.7777777777777778, \"#fb9f3a\"], [0.8888888888888888, \"#fdca26\"], [1.0, \"#f0f921\"]]}, \"colorway\": [\"#636efa\", \"#EF553B\", \"#00cc96\", \"#ab63fa\", \"#FFA15A\", \"#19d3f3\", \"#FF6692\", \"#B6E880\", \"#FF97FF\", \"#FECB52\"], \"font\": {\"color\": \"#2a3f5f\"}, \"geo\": {\"bgcolor\": \"white\", \"lakecolor\": \"white\", \"landcolor\": \"#E5ECF6\", \"showlakes\": true, \"showland\": true, \"subunitcolor\": \"white\"}, \"hoverlabel\": {\"align\": \"left\"}, \"hovermode\": \"closest\", \"mapbox\": {\"style\": \"light\"}, \"paper_bgcolor\": \"white\", \"plot_bgcolor\": \"#E5ECF6\", \"polar\": {\"angularaxis\": {\"gridcolor\": \"white\", \"linecolor\": \"white\", \"ticks\": \"\"}, \"bgcolor\": \"#E5ECF6\", \"radialaxis\": {\"gridcolor\": \"white\", \"linecolor\": \"white\", \"ticks\": \"\"}}, \"scene\": {\"xaxis\": {\"backgroundcolor\": \"#E5ECF6\", \"gridcolor\": \"white\", \"gridwidth\": 2, \"linecolor\": \"white\", \"showbackground\": true, \"ticks\": \"\", \"zerolinecolor\": \"white\"}, \"yaxis\": {\"backgroundcolor\": \"#E5ECF6\", \"gridcolor\": \"white\", \"gridwidth\": 2, \"linecolor\": \"white\", \"showbackground\": true, \"ticks\": \"\", \"zerolinecolor\": \"white\"}, \"zaxis\": {\"backgroundcolor\": \"#E5ECF6\", \"gridcolor\": \"white\", \"gridwidth\": 2, \"linecolor\": \"white\", \"showbackground\": true, \"ticks\": \"\", \"zerolinecolor\": \"white\"}}, \"shapedefaults\": {\"line\": {\"color\": \"#2a3f5f\"}}, \"ternary\": {\"aaxis\": {\"gridcolor\": \"white\", \"linecolor\": \"white\", \"ticks\": \"\"}, \"baxis\": {\"gridcolor\": \"white\", \"linecolor\": \"white\", \"ticks\": \"\"}, \"bgcolor\": \"#E5ECF6\", \"caxis\": {\"gridcolor\": \"white\", \"linecolor\": \"white\", \"ticks\": \"\"}}, \"title\": {\"x\": 0.05}, \"xaxis\": {\"automargin\": true, \"gridcolor\": \"white\", \"linecolor\": \"white\", \"ticks\": \"\", \"title\": {\"standoff\": 15}, \"zerolinecolor\": \"white\", \"zerolinewidth\": 2}, \"yaxis\": {\"automargin\": true, \"gridcolor\": \"white\", \"linecolor\": \"white\", \"ticks\": \"\", \"title\": {\"standoff\": 15}, \"zerolinecolor\": \"white\", \"zerolinewidth\": 2}}}, \"title\": {\"text\": \"FAAC_2020\", \"x\": 0.5, \"y\": 0.8}, \"uniformtext\": {\"minsize\": 8, \"mode\": \"hide\"}, \"width\": 1000, \"xaxis\": {\"anchor\": \"y\", \"categoryarray\": [\"ABIA STATE\", \"ADAMAWA STATE\", \"AKWA IBOW STATE\", \"ANAMBRA STATE\", \"BAUCHI STATE\", \"BAYELSA STATE\", \"BENUE STATE\", \"BORNO STATE\", \"CROSS-RIVER STATE\", \"DELTA STATE\", \"EBONYI STATE\", \"EDO STATE\", \"EKITI STATE\", \"ENUGU STATE\", \"GOMBE STATE\", \"IMO STATE\", \"JIGAWA STATE\", \"KADUNA STATE\", \"KANO STATE\", \"KATSINA STATE\", \"KEBBI STATE\", \"KOGI STATE\", \"KWARA STATE\", \"LAGOS STATE\", \"NASARAWA STATE\", \"NIGER STATE\", \"OGUN STATE\", \"ONDO STATE\", \"OSUN STATE\", \"OYO STATE\", \"PLATEAU STATE\", \"RIVERS STATE\", \"SOKOTO STATE\", \"TARABA STATE\", \"YOBE STATE\", \"ZAMFARA STATE\", \"FEDERAL CAPITAL TERRITORY (FCT)\"], \"categoryorder\": \"array\", \"domain\": [0.0, 1.0], \"title\": {\"text\": \"STATE\"}}, \"yaxis\": {\"anchor\": \"x\", \"domain\": [0.0, 1.0], \"title\": {\"text\": \"MAY\"}}},                        {\"responsive\": true}                    ).then(function(){\n",
       "                            \n",
       "var gd = document.getElementById('056a01b0-57ca-4cbf-bc87-cfccea2d4e8c');\n",
       "var x = new MutationObserver(function (mutations, observer) {{\n",
       "        var display = window.getComputedStyle(gd).display;\n",
       "        if (!display || display === 'none') {{\n",
       "            console.log([gd, 'removed!']);\n",
       "            Plotly.purge(gd);\n",
       "            observer.disconnect();\n",
       "        }}\n",
       "}});\n",
       "\n",
       "// Listen for the removal of the full notebook cells\n",
       "var notebookContainer = gd.closest('#notebook-container');\n",
       "if (notebookContainer) {{\n",
       "    x.observe(notebookContainer, {childList: true});\n",
       "}}\n",
       "\n",
       "// Listen for the clearing of the current output cell\n",
       "var outputEl = gd.closest('.output');\n",
       "if (outputEl) {{\n",
       "    x.observe(outputEl, {childList: true});\n",
       "}}\n",
       "\n",
       "                        })                };                });            </script>        </div>"
      ]
     },
     "metadata": {},
     "output_type": "display_data"
    }
   ],
   "source": [
    "fig=px.bar(FAAC_2020, y = \"MAY\", x = \"STATE\",orientation = \"v\", color = \"STATE\")\n",
    "fig.update_traces(texttemplate=\"%{text:.4s}\", textposition=\"outside\")\n",
    "fig.update_layout(uniformtext_minsize= 8, uniformtext_mode= \"hide\")\n",
    "fig.update_layout(\n",
    "    title = {\n",
    "       \"text\":\"FAAC_2020\",\n",
    "       \"y\":0.8,\n",
    "       \"x\":0.5,\n",
    "       },height = 750, width = 1000)"
   ]
  },
  {
   "cell_type": "code",
   "execution_count": 50,
   "metadata": {},
   "outputs": [
    {
     "data": {
      "application/vnd.plotly.v1+json": {
       "config": {
        "plotlyServerURL": "https://plot.ly"
       },
       "data": [
        {
         "alignmentgroup": "True",
         "hovertemplate": "STATE=%{x}<br>JUNE=%{y}<extra></extra>",
         "legendgroup": "ABIA STATE",
         "marker": {
          "color": "#636efa"
         },
         "name": "ABIA STATE",
         "offsetgroup": "ABIA STATE",
         "orientation": "v",
         "showlegend": true,
         "textposition": "outside",
         "texttemplate": "%{text:.4s}",
         "type": "bar",
         "x": [
          "ABIA STATE"
         ],
         "xaxis": "x",
         "y": [
          2250421954
         ],
         "yaxis": "y"
        },
        {
         "alignmentgroup": "True",
         "hovertemplate": "STATE=%{x}<br>JUNE=%{y}<extra></extra>",
         "legendgroup": "ADAMAWA STATE",
         "marker": {
          "color": "#EF553B"
         },
         "name": "ADAMAWA STATE",
         "offsetgroup": "ADAMAWA STATE",
         "orientation": "v",
         "showlegend": true,
         "textposition": "outside",
         "texttemplate": "%{text:.4s}",
         "type": "bar",
         "x": [
          "ADAMAWA STATE"
         ],
         "xaxis": "x",
         "y": [
          2806790553
         ],
         "yaxis": "y"
        },
        {
         "alignmentgroup": "True",
         "hovertemplate": "STATE=%{x}<br>JUNE=%{y}<extra></extra>",
         "legendgroup": "AKWA IBOW STATE",
         "marker": {
          "color": "#00cc96"
         },
         "name": "AKWA IBOW STATE",
         "offsetgroup": "AKWA IBOW STATE",
         "orientation": "v",
         "showlegend": true,
         "textposition": "outside",
         "texttemplate": "%{text:.4s}",
         "type": "bar",
         "x": [
          "AKWA IBOW STATE"
         ],
         "xaxis": "x",
         "y": [
          3771090719
         ],
         "yaxis": "y"
        },
        {
         "alignmentgroup": "True",
         "hovertemplate": "STATE=%{x}<br>JUNE=%{y}<extra></extra>",
         "legendgroup": "ANAMBRA STATE",
         "marker": {
          "color": "#ab63fa"
         },
         "name": "ANAMBRA STATE",
         "offsetgroup": "ANAMBRA STATE",
         "orientation": "v",
         "showlegend": true,
         "textposition": "outside",
         "texttemplate": "%{text:.4s}",
         "type": "bar",
         "x": [
          "ANAMBRA STATE"
         ],
         "xaxis": "x",
         "y": [
          2894086980
         ],
         "yaxis": "y"
        },
        {
         "alignmentgroup": "True",
         "hovertemplate": "STATE=%{x}<br>JUNE=%{y}<extra></extra>",
         "legendgroup": "BAUCHI STATE",
         "marker": {
          "color": "#FFA15A"
         },
         "name": "BAUCHI STATE",
         "offsetgroup": "BAUCHI STATE",
         "orientation": "v",
         "showlegend": true,
         "textposition": "outside",
         "texttemplate": "%{text:.4s}",
         "type": "bar",
         "x": [
          "BAUCHI STATE"
         ],
         "xaxis": "x",
         "y": [
          3188040146
         ],
         "yaxis": "y"
        },
        {
         "alignmentgroup": "True",
         "hovertemplate": "STATE=%{x}<br>JUNE=%{y}<extra></extra>",
         "legendgroup": "BAYELSA STATE",
         "marker": {
          "color": "#19d3f3"
         },
         "name": "BAYELSA STATE",
         "offsetgroup": "BAYELSA STATE",
         "orientation": "v",
         "showlegend": true,
         "textposition": "outside",
         "texttemplate": "%{text:.4s}",
         "type": "bar",
         "x": [
          "BAYELSA STATE"
         ],
         "xaxis": "x",
         "y": [
          1295228924
         ],
         "yaxis": "y"
        },
        {
         "alignmentgroup": "True",
         "hovertemplate": "STATE=%{x}<br>JUNE=%{y}<extra></extra>",
         "legendgroup": "BENUE STATE",
         "marker": {
          "color": "#FF6692"
         },
         "name": "BENUE STATE",
         "offsetgroup": "BENUE STATE",
         "orientation": "v",
         "showlegend": true,
         "textposition": "outside",
         "texttemplate": "%{text:.4s}",
         "type": "bar",
         "x": [
          "BENUE STATE"
         ],
         "xaxis": "x",
         "y": [
          3432016945
         ],
         "yaxis": "y"
        },
        {
         "alignmentgroup": "True",
         "hovertemplate": "STATE=%{x}<br>JUNE=%{y}<extra></extra>",
         "legendgroup": "BORNO STATE",
         "marker": {
          "color": "#B6E880"
         },
         "name": "BORNO STATE",
         "offsetgroup": "BORNO STATE",
         "orientation": "v",
         "showlegend": true,
         "textposition": "outside",
         "texttemplate": "%{text:.4s}",
         "type": "bar",
         "x": [
          "BORNO STATE"
         ],
         "xaxis": "x",
         "y": [
          3740754843
         ],
         "yaxis": "y"
        },
        {
         "alignmentgroup": "True",
         "hovertemplate": "STATE=%{x}<br>JUNE=%{y}<extra></extra>",
         "legendgroup": "CROSS-RIVER STATE",
         "marker": {
          "color": "#FF97FF"
         },
         "name": "CROSS-RIVER STATE",
         "offsetgroup": "CROSS-RIVER STATE",
         "orientation": "v",
         "showlegend": true,
         "textposition": "outside",
         "texttemplate": "%{text:.4s}",
         "type": "bar",
         "x": [
          "CROSS-RIVER STATE"
         ],
         "xaxis": "x",
         "y": [
          2434720698
         ],
         "yaxis": "y"
        },
        {
         "alignmentgroup": "True",
         "hovertemplate": "STATE=%{x}<br>JUNE=%{y}<extra></extra>",
         "legendgroup": "DELTA STATE",
         "marker": {
          "color": "#FECB52"
         },
         "name": "DELTA STATE",
         "offsetgroup": "DELTA STATE",
         "orientation": "v",
         "showlegend": true,
         "textposition": "outside",
         "texttemplate": "%{text:.4s}",
         "type": "bar",
         "x": [
          "DELTA STATE"
         ],
         "xaxis": "x",
         "y": [
          3258598922
         ],
         "yaxis": "y"
        },
        {
         "alignmentgroup": "True",
         "hovertemplate": "STATE=%{x}<br>JUNE=%{y}<extra></extra>",
         "legendgroup": "EBONYI STATE",
         "marker": {
          "color": "#636efa"
         },
         "name": "EBONYI STATE",
         "offsetgroup": "EBONYI STATE",
         "orientation": "v",
         "showlegend": true,
         "textposition": "outside",
         "texttemplate": "%{text:.4s}",
         "type": "bar",
         "x": [
          "EBONYI STATE"
         ],
         "xaxis": "x",
         "y": [
          1836944957
         ],
         "yaxis": "y"
        },
        {
         "alignmentgroup": "True",
         "hovertemplate": "STATE=%{x}<br>JUNE=%{y}<extra></extra>",
         "legendgroup": "EDO STATE",
         "marker": {
          "color": "#EF553B"
         },
         "name": "EDO STATE",
         "offsetgroup": "EDO STATE",
         "orientation": "v",
         "showlegend": true,
         "textposition": "outside",
         "texttemplate": "%{text:.4s}",
         "type": "bar",
         "x": [
          "EDO STATE"
         ],
         "xaxis": "x",
         "y": [
          2436244969
         ],
         "yaxis": "y"
        },
        {
         "alignmentgroup": "True",
         "hovertemplate": "STATE=%{x}<br>JUNE=%{y}<extra></extra>",
         "legendgroup": "EKITI STATE",
         "marker": {
          "color": "#00cc96"
         },
         "name": "EKITI STATE",
         "offsetgroup": "EKITI STATE",
         "orientation": "v",
         "showlegend": true,
         "textposition": "outside",
         "texttemplate": "%{text:.4s}",
         "type": "bar",
         "x": [
          "EKITI STATE"
         ],
         "xaxis": "x",
         "y": [
          1953709758
         ],
         "yaxis": "y"
        },
        {
         "alignmentgroup": "True",
         "hovertemplate": "STATE=%{x}<br>JUNE=%{y}<extra></extra>",
         "legendgroup": "ENUGU STATE",
         "marker": {
          "color": "#ab63fa"
         },
         "name": "ENUGU STATE",
         "offsetgroup": "ENUGU STATE",
         "orientation": "v",
         "showlegend": true,
         "textposition": "outside",
         "texttemplate": "%{text:.4s}",
         "type": "bar",
         "x": [
          "ENUGU STATE"
         ],
         "xaxis": "x",
         "y": [
          2464029771
         ],
         "yaxis": "y"
        },
        {
         "alignmentgroup": "True",
         "hovertemplate": "STATE=%{x}<br>JUNE=%{y}<extra></extra>",
         "legendgroup": "GOMBE STATE",
         "marker": {
          "color": "#FFA15A"
         },
         "name": "GOMBE STATE",
         "offsetgroup": "GOMBE STATE",
         "orientation": "v",
         "showlegend": true,
         "textposition": "outside",
         "texttemplate": "%{text:.4s}",
         "type": "bar",
         "x": [
          "GOMBE STATE"
         ],
         "xaxis": "x",
         "y": [
          1671423759
         ],
         "yaxis": "y"
        },
        {
         "alignmentgroup": "True",
         "hovertemplate": "STATE=%{x}<br>JUNE=%{y}<extra></extra>",
         "legendgroup": "IMO STATE",
         "marker": {
          "color": "#19d3f3"
         },
         "name": "IMO STATE",
         "offsetgroup": "IMO STATE",
         "orientation": "v",
         "showlegend": true,
         "textposition": "outside",
         "texttemplate": "%{text:.4s}",
         "type": "bar",
         "x": [
          "IMO STATE"
         ],
         "xaxis": "x",
         "y": [
          3349650055
         ],
         "yaxis": "y"
        },
        {
         "alignmentgroup": "True",
         "hovertemplate": "STATE=%{x}<br>JUNE=%{y}<extra></extra>",
         "legendgroup": "JIGAWA STATE",
         "marker": {
          "color": "#FF6692"
         },
         "name": "JIGAWA STATE",
         "offsetgroup": "JIGAWA STATE",
         "orientation": "v",
         "showlegend": true,
         "textposition": "outside",
         "texttemplate": "%{text:.4s}",
         "type": "bar",
         "x": [
          "JIGAWA STATE"
         ],
         "xaxis": "x",
         "y": [
          3483696939
         ],
         "yaxis": "y"
        },
        {
         "alignmentgroup": "True",
         "hovertemplate": "STATE=%{x}<br>JUNE=%{y}<extra></extra>",
         "legendgroup": "KADUNA STATE",
         "marker": {
          "color": "#B6E880"
         },
         "name": "KADUNA STATE",
         "offsetgroup": "KADUNA STATE",
         "orientation": "v",
         "showlegend": true,
         "textposition": "outside",
         "texttemplate": "%{text:.4s}",
         "type": "bar",
         "x": [
          "KADUNA STATE"
         ],
         "xaxis": "x",
         "y": [
          3844670167
         ],
         "yaxis": "y"
        },
        {
         "alignmentgroup": "True",
         "hovertemplate": "STATE=%{x}<br>JUNE=%{y}<extra></extra>",
         "legendgroup": "KANO STATE",
         "marker": {
          "color": "#FF97FF"
         },
         "name": "KANO STATE",
         "offsetgroup": "KANO STATE",
         "orientation": "v",
         "showlegend": true,
         "textposition": "outside",
         "texttemplate": "%{text:.4s}",
         "type": "bar",
         "x": [
          "KANO STATE"
         ],
         "xaxis": "x",
         "y": [
          6360687525
         ],
         "yaxis": "y"
        },
        {
         "alignmentgroup": "True",
         "hovertemplate": "STATE=%{x}<br>JUNE=%{y}<extra></extra>",
         "legendgroup": "KATSINA STATE",
         "marker": {
          "color": "#FECB52"
         },
         "name": "KATSINA STATE",
         "offsetgroup": "KATSINA STATE",
         "orientation": "v",
         "showlegend": true,
         "textposition": "outside",
         "texttemplate": "%{text:.4s}",
         "type": "bar",
         "x": [
          "KATSINA STATE"
         ],
         "xaxis": "x",
         "y": [
          4683673372
         ],
         "yaxis": "y"
        },
        {
         "alignmentgroup": "True",
         "hovertemplate": "STATE=%{x}<br>JUNE=%{y}<extra></extra>",
         "legendgroup": "KEBBI STATE",
         "marker": {
          "color": "#636efa"
         },
         "name": "KEBBI STATE",
         "offsetgroup": "KEBBI STATE",
         "orientation": "v",
         "showlegend": true,
         "textposition": "outside",
         "texttemplate": "%{text:.4s}",
         "type": "bar",
         "x": [
          "KEBBI STATE"
         ],
         "xaxis": "x",
         "y": [
          2901674212
         ],
         "yaxis": "y"
        },
        {
         "alignmentgroup": "True",
         "hovertemplate": "STATE=%{x}<br>JUNE=%{y}<extra></extra>",
         "legendgroup": "KOGI STATE",
         "marker": {
          "color": "#EF553B"
         },
         "name": "KOGI STATE",
         "offsetgroup": "KOGI STATE",
         "orientation": "v",
         "showlegend": true,
         "textposition": "outside",
         "texttemplate": "%{text:.4s}",
         "type": "bar",
         "x": [
          "KOGI STATE"
         ],
         "xaxis": "x",
         "y": [
          2984963717
         ],
         "yaxis": "y"
        },
        {
         "alignmentgroup": "True",
         "hovertemplate": "STATE=%{x}<br>JUNE=%{y}<extra></extra>",
         "legendgroup": "KWARA STATE",
         "marker": {
          "color": "#00cc96"
         },
         "name": "KWARA STATE",
         "offsetgroup": "KWARA STATE",
         "orientation": "v",
         "showlegend": true,
         "textposition": "outside",
         "texttemplate": "%{text:.4s}",
         "type": "bar",
         "x": [
          "KWARA STATE"
         ],
         "xaxis": "x",
         "y": [
          2142342140
         ],
         "yaxis": "y"
        },
        {
         "alignmentgroup": "True",
         "hovertemplate": "STATE=%{x}<br>JUNE=%{y}<extra></extra>",
         "legendgroup": "LAGOS STATE",
         "marker": {
          "color": "#ab63fa"
         },
         "name": "LAGOS STATE",
         "offsetgroup": "LAGOS STATE",
         "orientation": "v",
         "showlegend": true,
         "textposition": "outside",
         "texttemplate": "%{text:.4s}",
         "type": "bar",
         "x": [
          "LAGOS STATE"
         ],
         "xaxis": "x",
         "y": [
          8147078705
         ],
         "yaxis": "y"
        },
        {
         "alignmentgroup": "True",
         "hovertemplate": "STATE=%{x}<br>JUNE=%{y}<extra></extra>",
         "legendgroup": "NASARAWA STATE",
         "marker": {
          "color": "#FFA15A"
         },
         "name": "NASARAWA STATE",
         "offsetgroup": "NASARAWA STATE",
         "orientation": "v",
         "showlegend": true,
         "textposition": "outside",
         "texttemplate": "%{text:.4s}",
         "type": "bar",
         "x": [
          "NASARAWA STATE"
         ],
         "xaxis": "x",
         "y": [
          1873459667
         ],
         "yaxis": "y"
        },
        {
         "alignmentgroup": "True",
         "hovertemplate": "STATE=%{x}<br>JUNE=%{y}<extra></extra>",
         "legendgroup": "NIGER STATE",
         "marker": {
          "color": "#19d3f3"
         },
         "name": "NIGER STATE",
         "offsetgroup": "NIGER STATE",
         "orientation": "v",
         "showlegend": true,
         "textposition": "outside",
         "texttemplate": "%{text:.4s}",
         "type": "bar",
         "x": [
          "NIGER STATE"
         ],
         "xaxis": "x",
         "y": [
          3517925430
         ],
         "yaxis": "y"
        },
        {
         "alignmentgroup": "True",
         "hovertemplate": "STATE=%{x}<br>JUNE=%{y}<extra></extra>",
         "legendgroup": "OGUN STATE",
         "marker": {
          "color": "#FF6692"
         },
         "name": "OGUN STATE",
         "offsetgroup": "OGUN STATE",
         "orientation": "v",
         "showlegend": true,
         "textposition": "outside",
         "texttemplate": "%{text:.4s}",
         "type": "bar",
         "x": [
          "OGUN STATE"
         ],
         "xaxis": "x",
         "y": [
          2627161017
         ],
         "yaxis": "y"
        },
        {
         "alignmentgroup": "True",
         "hovertemplate": "STATE=%{x}<br>JUNE=%{y}<extra></extra>",
         "legendgroup": "ONDO STATE",
         "marker": {
          "color": "#B6E880"
         },
         "name": "ONDO STATE",
         "offsetgroup": "ONDO STATE",
         "orientation": "v",
         "showlegend": true,
         "textposition": "outside",
         "texttemplate": "%{text:.4s}",
         "type": "bar",
         "x": [
          "ONDO STATE"
         ],
         "xaxis": "x",
         "y": [
          2468910597
         ],
         "yaxis": "y"
        },
        {
         "alignmentgroup": "True",
         "hovertemplate": "STATE=%{x}<br>JUNE=%{y}<extra></extra>",
         "legendgroup": "OSUN STATE",
         "marker": {
          "color": "#FF97FF"
         },
         "name": "OSUN STATE",
         "offsetgroup": "OSUN STATE",
         "orientation": "v",
         "showlegend": true,
         "textposition": "outside",
         "texttemplate": "%{text:.4s}",
         "type": "bar",
         "x": [
          "OSUN STATE"
         ],
         "xaxis": "x",
         "y": [
          3362632491
         ],
         "yaxis": "y"
        },
        {
         "alignmentgroup": "True",
         "hovertemplate": "STATE=%{x}<br>JUNE=%{y}<extra></extra>",
         "legendgroup": "OYO STATE",
         "marker": {
          "color": "#FECB52"
         },
         "name": "OYO STATE",
         "offsetgroup": "OYO STATE",
         "orientation": "v",
         "showlegend": true,
         "textposition": "outside",
         "texttemplate": "%{text:.4s}",
         "type": "bar",
         "x": [
          "OYO STATE"
         ],
         "xaxis": "x",
         "y": [
          4426277140
         ],
         "yaxis": "y"
        },
        {
         "alignmentgroup": "True",
         "hovertemplate": "STATE=%{x}<br>JUNE=%{y}<extra></extra>",
         "legendgroup": "PLATEAU STATE",
         "marker": {
          "color": "#636efa"
         },
         "name": "PLATEAU STATE",
         "offsetgroup": "PLATEAU STATE",
         "orientation": "v",
         "showlegend": true,
         "textposition": "outside",
         "texttemplate": "%{text:.4s}",
         "type": "bar",
         "x": [
          "PLATEAU STATE"
         ],
         "xaxis": "x",
         "y": [
          2562152988
         ],
         "yaxis": "y"
        },
        {
         "alignmentgroup": "True",
         "hovertemplate": "STATE=%{x}<br>JUNE=%{y}<extra></extra>",
         "legendgroup": "RIVERS STATE",
         "marker": {
          "color": "#EF553B"
         },
         "name": "RIVERS STATE",
         "offsetgroup": "RIVERS STATE",
         "orientation": "v",
         "showlegend": true,
         "textposition": "outside",
         "texttemplate": "%{text:.4s}",
         "type": "bar",
         "x": [
          "RIVERS STATE"
         ],
         "xaxis": "x",
         "y": [
          3510358329
         ],
         "yaxis": "y"
        },
        {
         "alignmentgroup": "True",
         "hovertemplate": "STATE=%{x}<br>JUNE=%{y}<extra></extra>",
         "legendgroup": "SOKOTO STATE",
         "marker": {
          "color": "#00cc96"
         },
         "name": "SOKOTO STATE",
         "offsetgroup": "SOKOTO STATE",
         "orientation": "v",
         "showlegend": true,
         "textposition": "outside",
         "texttemplate": "%{text:.4s}",
         "type": "bar",
         "x": [
          "SOKOTO STATE"
         ],
         "xaxis": "x",
         "y": [
          3208055711
         ],
         "yaxis": "y"
        },
        {
         "alignmentgroup": "True",
         "hovertemplate": "STATE=%{x}<br>JUNE=%{y}<extra></extra>",
         "legendgroup": "TARABA STATE",
         "marker": {
          "color": "#ab63fa"
         },
         "name": "TARABA STATE",
         "offsetgroup": "TARABA STATE",
         "orientation": "v",
         "showlegend": true,
         "textposition": "outside",
         "texttemplate": "%{text:.4s}",
         "type": "bar",
         "x": [
          "TARABA STATE"
         ],
         "xaxis": "x",
         "y": [
          2382382608
         ],
         "yaxis": "y"
        },
        {
         "alignmentgroup": "True",
         "hovertemplate": "STATE=%{x}<br>JUNE=%{y}<extra></extra>",
         "legendgroup": "YOBE STATE",
         "marker": {
          "color": "#FFA15A"
         },
         "name": "YOBE STATE",
         "offsetgroup": "YOBE STATE",
         "orientation": "v",
         "showlegend": true,
         "textposition": "outside",
         "texttemplate": "%{text:.4s}",
         "type": "bar",
         "x": [
          "YOBE STATE"
         ],
         "xaxis": "x",
         "y": [
          2389623330
         ],
         "yaxis": "y"
        },
        {
         "alignmentgroup": "True",
         "hovertemplate": "STATE=%{x}<br>JUNE=%{y}<extra></extra>",
         "legendgroup": "ZAMFARA STATE",
         "marker": {
          "color": "#19d3f3"
         },
         "name": "ZAMFARA STATE",
         "offsetgroup": "ZAMFARA STATE",
         "orientation": "v",
         "showlegend": true,
         "textposition": "outside",
         "texttemplate": "%{text:.4s}",
         "type": "bar",
         "x": [
          "ZAMFARA STATE"
         ],
         "xaxis": "x",
         "y": [
          2194223196
         ],
         "yaxis": "y"
        },
        {
         "alignmentgroup": "True",
         "hovertemplate": "STATE=%{x}<br>JUNE=%{y}<extra></extra>",
         "legendgroup": "FEDERAL CAPITAL TERRITORY (FCT)",
         "marker": {
          "color": "#FF6692"
         },
         "name": "FEDERAL CAPITAL TERRITORY (FCT)",
         "offsetgroup": "FEDERAL CAPITAL TERRITORY (FCT)",
         "orientation": "v",
         "showlegend": true,
         "textposition": "outside",
         "texttemplate": "%{text:.4s}",
         "type": "bar",
         "x": [
          "FEDERAL CAPITAL TERRITORY (FCT)"
         ],
         "xaxis": "x",
         "y": [
          2226318197
         ],
         "yaxis": "y"
        }
       ],
       "layout": {
        "barmode": "relative",
        "height": 750,
        "legend": {
         "title": {
          "text": "STATE"
         },
         "tracegroupgap": 0
        },
        "margin": {
         "t": 60
        },
        "template": {
         "data": {
          "bar": [
           {
            "error_x": {
             "color": "#2a3f5f"
            },
            "error_y": {
             "color": "#2a3f5f"
            },
            "marker": {
             "line": {
              "color": "#E5ECF6",
              "width": 0.5
             }
            },
            "type": "bar"
           }
          ],
          "barpolar": [
           {
            "marker": {
             "line": {
              "color": "#E5ECF6",
              "width": 0.5
             }
            },
            "type": "barpolar"
           }
          ],
          "carpet": [
           {
            "aaxis": {
             "endlinecolor": "#2a3f5f",
             "gridcolor": "white",
             "linecolor": "white",
             "minorgridcolor": "white",
             "startlinecolor": "#2a3f5f"
            },
            "baxis": {
             "endlinecolor": "#2a3f5f",
             "gridcolor": "white",
             "linecolor": "white",
             "minorgridcolor": "white",
             "startlinecolor": "#2a3f5f"
            },
            "type": "carpet"
           }
          ],
          "choropleth": [
           {
            "colorbar": {
             "outlinewidth": 0,
             "ticks": ""
            },
            "type": "choropleth"
           }
          ],
          "contour": [
           {
            "colorbar": {
             "outlinewidth": 0,
             "ticks": ""
            },
            "colorscale": [
             [
              0,
              "#0d0887"
             ],
             [
              0.1111111111111111,
              "#46039f"
             ],
             [
              0.2222222222222222,
              "#7201a8"
             ],
             [
              0.3333333333333333,
              "#9c179e"
             ],
             [
              0.4444444444444444,
              "#bd3786"
             ],
             [
              0.5555555555555556,
              "#d8576b"
             ],
             [
              0.6666666666666666,
              "#ed7953"
             ],
             [
              0.7777777777777778,
              "#fb9f3a"
             ],
             [
              0.8888888888888888,
              "#fdca26"
             ],
             [
              1,
              "#f0f921"
             ]
            ],
            "type": "contour"
           }
          ],
          "contourcarpet": [
           {
            "colorbar": {
             "outlinewidth": 0,
             "ticks": ""
            },
            "type": "contourcarpet"
           }
          ],
          "heatmap": [
           {
            "colorbar": {
             "outlinewidth": 0,
             "ticks": ""
            },
            "colorscale": [
             [
              0,
              "#0d0887"
             ],
             [
              0.1111111111111111,
              "#46039f"
             ],
             [
              0.2222222222222222,
              "#7201a8"
             ],
             [
              0.3333333333333333,
              "#9c179e"
             ],
             [
              0.4444444444444444,
              "#bd3786"
             ],
             [
              0.5555555555555556,
              "#d8576b"
             ],
             [
              0.6666666666666666,
              "#ed7953"
             ],
             [
              0.7777777777777778,
              "#fb9f3a"
             ],
             [
              0.8888888888888888,
              "#fdca26"
             ],
             [
              1,
              "#f0f921"
             ]
            ],
            "type": "heatmap"
           }
          ],
          "heatmapgl": [
           {
            "colorbar": {
             "outlinewidth": 0,
             "ticks": ""
            },
            "colorscale": [
             [
              0,
              "#0d0887"
             ],
             [
              0.1111111111111111,
              "#46039f"
             ],
             [
              0.2222222222222222,
              "#7201a8"
             ],
             [
              0.3333333333333333,
              "#9c179e"
             ],
             [
              0.4444444444444444,
              "#bd3786"
             ],
             [
              0.5555555555555556,
              "#d8576b"
             ],
             [
              0.6666666666666666,
              "#ed7953"
             ],
             [
              0.7777777777777778,
              "#fb9f3a"
             ],
             [
              0.8888888888888888,
              "#fdca26"
             ],
             [
              1,
              "#f0f921"
             ]
            ],
            "type": "heatmapgl"
           }
          ],
          "histogram": [
           {
            "marker": {
             "colorbar": {
              "outlinewidth": 0,
              "ticks": ""
             }
            },
            "type": "histogram"
           }
          ],
          "histogram2d": [
           {
            "colorbar": {
             "outlinewidth": 0,
             "ticks": ""
            },
            "colorscale": [
             [
              0,
              "#0d0887"
             ],
             [
              0.1111111111111111,
              "#46039f"
             ],
             [
              0.2222222222222222,
              "#7201a8"
             ],
             [
              0.3333333333333333,
              "#9c179e"
             ],
             [
              0.4444444444444444,
              "#bd3786"
             ],
             [
              0.5555555555555556,
              "#d8576b"
             ],
             [
              0.6666666666666666,
              "#ed7953"
             ],
             [
              0.7777777777777778,
              "#fb9f3a"
             ],
             [
              0.8888888888888888,
              "#fdca26"
             ],
             [
              1,
              "#f0f921"
             ]
            ],
            "type": "histogram2d"
           }
          ],
          "histogram2dcontour": [
           {
            "colorbar": {
             "outlinewidth": 0,
             "ticks": ""
            },
            "colorscale": [
             [
              0,
              "#0d0887"
             ],
             [
              0.1111111111111111,
              "#46039f"
             ],
             [
              0.2222222222222222,
              "#7201a8"
             ],
             [
              0.3333333333333333,
              "#9c179e"
             ],
             [
              0.4444444444444444,
              "#bd3786"
             ],
             [
              0.5555555555555556,
              "#d8576b"
             ],
             [
              0.6666666666666666,
              "#ed7953"
             ],
             [
              0.7777777777777778,
              "#fb9f3a"
             ],
             [
              0.8888888888888888,
              "#fdca26"
             ],
             [
              1,
              "#f0f921"
             ]
            ],
            "type": "histogram2dcontour"
           }
          ],
          "mesh3d": [
           {
            "colorbar": {
             "outlinewidth": 0,
             "ticks": ""
            },
            "type": "mesh3d"
           }
          ],
          "parcoords": [
           {
            "line": {
             "colorbar": {
              "outlinewidth": 0,
              "ticks": ""
             }
            },
            "type": "parcoords"
           }
          ],
          "pie": [
           {
            "automargin": true,
            "type": "pie"
           }
          ],
          "scatter": [
           {
            "marker": {
             "colorbar": {
              "outlinewidth": 0,
              "ticks": ""
             }
            },
            "type": "scatter"
           }
          ],
          "scatter3d": [
           {
            "line": {
             "colorbar": {
              "outlinewidth": 0,
              "ticks": ""
             }
            },
            "marker": {
             "colorbar": {
              "outlinewidth": 0,
              "ticks": ""
             }
            },
            "type": "scatter3d"
           }
          ],
          "scattercarpet": [
           {
            "marker": {
             "colorbar": {
              "outlinewidth": 0,
              "ticks": ""
             }
            },
            "type": "scattercarpet"
           }
          ],
          "scattergeo": [
           {
            "marker": {
             "colorbar": {
              "outlinewidth": 0,
              "ticks": ""
             }
            },
            "type": "scattergeo"
           }
          ],
          "scattergl": [
           {
            "marker": {
             "colorbar": {
              "outlinewidth": 0,
              "ticks": ""
             }
            },
            "type": "scattergl"
           }
          ],
          "scattermapbox": [
           {
            "marker": {
             "colorbar": {
              "outlinewidth": 0,
              "ticks": ""
             }
            },
            "type": "scattermapbox"
           }
          ],
          "scatterpolar": [
           {
            "marker": {
             "colorbar": {
              "outlinewidth": 0,
              "ticks": ""
             }
            },
            "type": "scatterpolar"
           }
          ],
          "scatterpolargl": [
           {
            "marker": {
             "colorbar": {
              "outlinewidth": 0,
              "ticks": ""
             }
            },
            "type": "scatterpolargl"
           }
          ],
          "scatterternary": [
           {
            "marker": {
             "colorbar": {
              "outlinewidth": 0,
              "ticks": ""
             }
            },
            "type": "scatterternary"
           }
          ],
          "surface": [
           {
            "colorbar": {
             "outlinewidth": 0,
             "ticks": ""
            },
            "colorscale": [
             [
              0,
              "#0d0887"
             ],
             [
              0.1111111111111111,
              "#46039f"
             ],
             [
              0.2222222222222222,
              "#7201a8"
             ],
             [
              0.3333333333333333,
              "#9c179e"
             ],
             [
              0.4444444444444444,
              "#bd3786"
             ],
             [
              0.5555555555555556,
              "#d8576b"
             ],
             [
              0.6666666666666666,
              "#ed7953"
             ],
             [
              0.7777777777777778,
              "#fb9f3a"
             ],
             [
              0.8888888888888888,
              "#fdca26"
             ],
             [
              1,
              "#f0f921"
             ]
            ],
            "type": "surface"
           }
          ],
          "table": [
           {
            "cells": {
             "fill": {
              "color": "#EBF0F8"
             },
             "line": {
              "color": "white"
             }
            },
            "header": {
             "fill": {
              "color": "#C8D4E3"
             },
             "line": {
              "color": "white"
             }
            },
            "type": "table"
           }
          ]
         },
         "layout": {
          "annotationdefaults": {
           "arrowcolor": "#2a3f5f",
           "arrowhead": 0,
           "arrowwidth": 1
          },
          "autotypenumbers": "strict",
          "coloraxis": {
           "colorbar": {
            "outlinewidth": 0,
            "ticks": ""
           }
          },
          "colorscale": {
           "diverging": [
            [
             0,
             "#8e0152"
            ],
            [
             0.1,
             "#c51b7d"
            ],
            [
             0.2,
             "#de77ae"
            ],
            [
             0.3,
             "#f1b6da"
            ],
            [
             0.4,
             "#fde0ef"
            ],
            [
             0.5,
             "#f7f7f7"
            ],
            [
             0.6,
             "#e6f5d0"
            ],
            [
             0.7,
             "#b8e186"
            ],
            [
             0.8,
             "#7fbc41"
            ],
            [
             0.9,
             "#4d9221"
            ],
            [
             1,
             "#276419"
            ]
           ],
           "sequential": [
            [
             0,
             "#0d0887"
            ],
            [
             0.1111111111111111,
             "#46039f"
            ],
            [
             0.2222222222222222,
             "#7201a8"
            ],
            [
             0.3333333333333333,
             "#9c179e"
            ],
            [
             0.4444444444444444,
             "#bd3786"
            ],
            [
             0.5555555555555556,
             "#d8576b"
            ],
            [
             0.6666666666666666,
             "#ed7953"
            ],
            [
             0.7777777777777778,
             "#fb9f3a"
            ],
            [
             0.8888888888888888,
             "#fdca26"
            ],
            [
             1,
             "#f0f921"
            ]
           ],
           "sequentialminus": [
            [
             0,
             "#0d0887"
            ],
            [
             0.1111111111111111,
             "#46039f"
            ],
            [
             0.2222222222222222,
             "#7201a8"
            ],
            [
             0.3333333333333333,
             "#9c179e"
            ],
            [
             0.4444444444444444,
             "#bd3786"
            ],
            [
             0.5555555555555556,
             "#d8576b"
            ],
            [
             0.6666666666666666,
             "#ed7953"
            ],
            [
             0.7777777777777778,
             "#fb9f3a"
            ],
            [
             0.8888888888888888,
             "#fdca26"
            ],
            [
             1,
             "#f0f921"
            ]
           ]
          },
          "colorway": [
           "#636efa",
           "#EF553B",
           "#00cc96",
           "#ab63fa",
           "#FFA15A",
           "#19d3f3",
           "#FF6692",
           "#B6E880",
           "#FF97FF",
           "#FECB52"
          ],
          "font": {
           "color": "#2a3f5f"
          },
          "geo": {
           "bgcolor": "white",
           "lakecolor": "white",
           "landcolor": "#E5ECF6",
           "showlakes": true,
           "showland": true,
           "subunitcolor": "white"
          },
          "hoverlabel": {
           "align": "left"
          },
          "hovermode": "closest",
          "mapbox": {
           "style": "light"
          },
          "paper_bgcolor": "white",
          "plot_bgcolor": "#E5ECF6",
          "polar": {
           "angularaxis": {
            "gridcolor": "white",
            "linecolor": "white",
            "ticks": ""
           },
           "bgcolor": "#E5ECF6",
           "radialaxis": {
            "gridcolor": "white",
            "linecolor": "white",
            "ticks": ""
           }
          },
          "scene": {
           "xaxis": {
            "backgroundcolor": "#E5ECF6",
            "gridcolor": "white",
            "gridwidth": 2,
            "linecolor": "white",
            "showbackground": true,
            "ticks": "",
            "zerolinecolor": "white"
           },
           "yaxis": {
            "backgroundcolor": "#E5ECF6",
            "gridcolor": "white",
            "gridwidth": 2,
            "linecolor": "white",
            "showbackground": true,
            "ticks": "",
            "zerolinecolor": "white"
           },
           "zaxis": {
            "backgroundcolor": "#E5ECF6",
            "gridcolor": "white",
            "gridwidth": 2,
            "linecolor": "white",
            "showbackground": true,
            "ticks": "",
            "zerolinecolor": "white"
           }
          },
          "shapedefaults": {
           "line": {
            "color": "#2a3f5f"
           }
          },
          "ternary": {
           "aaxis": {
            "gridcolor": "white",
            "linecolor": "white",
            "ticks": ""
           },
           "baxis": {
            "gridcolor": "white",
            "linecolor": "white",
            "ticks": ""
           },
           "bgcolor": "#E5ECF6",
           "caxis": {
            "gridcolor": "white",
            "linecolor": "white",
            "ticks": ""
           }
          },
          "title": {
           "x": 0.05
          },
          "xaxis": {
           "automargin": true,
           "gridcolor": "white",
           "linecolor": "white",
           "ticks": "",
           "title": {
            "standoff": 15
           },
           "zerolinecolor": "white",
           "zerolinewidth": 2
          },
          "yaxis": {
           "automargin": true,
           "gridcolor": "white",
           "linecolor": "white",
           "ticks": "",
           "title": {
            "standoff": 15
           },
           "zerolinecolor": "white",
           "zerolinewidth": 2
          }
         }
        },
        "title": {
         "text": "FAAC_2020",
         "x": 0.5,
         "y": 0.8
        },
        "uniformtext": {
         "minsize": 8,
         "mode": "hide"
        },
        "width": 1000,
        "xaxis": {
         "anchor": "y",
         "categoryarray": [
          "ABIA STATE",
          "ADAMAWA STATE",
          "AKWA IBOW STATE",
          "ANAMBRA STATE",
          "BAUCHI STATE",
          "BAYELSA STATE",
          "BENUE STATE",
          "BORNO STATE",
          "CROSS-RIVER STATE",
          "DELTA STATE",
          "EBONYI STATE",
          "EDO STATE",
          "EKITI STATE",
          "ENUGU STATE",
          "GOMBE STATE",
          "IMO STATE",
          "JIGAWA STATE",
          "KADUNA STATE",
          "KANO STATE",
          "KATSINA STATE",
          "KEBBI STATE",
          "KOGI STATE",
          "KWARA STATE",
          "LAGOS STATE",
          "NASARAWA STATE",
          "NIGER STATE",
          "OGUN STATE",
          "ONDO STATE",
          "OSUN STATE",
          "OYO STATE",
          "PLATEAU STATE",
          "RIVERS STATE",
          "SOKOTO STATE",
          "TARABA STATE",
          "YOBE STATE",
          "ZAMFARA STATE",
          "FEDERAL CAPITAL TERRITORY (FCT)"
         ],
         "categoryorder": "array",
         "domain": [
          0,
          1
         ],
         "title": {
          "text": "STATE"
         }
        },
        "yaxis": {
         "anchor": "x",
         "domain": [
          0,
          1
         ],
         "title": {
          "text": "JUNE"
         }
        }
       }
      },
      "text/html": [
       "<div>                            <div id=\"d7fe1de9-1571-4820-914b-3394baa43e86\" class=\"plotly-graph-div\" style=\"height:750px; width:1000px;\"></div>            <script type=\"text/javascript\">                require([\"plotly\"], function(Plotly) {                    window.PLOTLYENV=window.PLOTLYENV || {};                                    if (document.getElementById(\"d7fe1de9-1571-4820-914b-3394baa43e86\")) {                    Plotly.newPlot(                        \"d7fe1de9-1571-4820-914b-3394baa43e86\",                        [{\"alignmentgroup\": \"True\", \"hovertemplate\": \"STATE=%{x}<br>JUNE=%{y}<extra></extra>\", \"legendgroup\": \"ABIA STATE\", \"marker\": {\"color\": \"#636efa\"}, \"name\": \"ABIA STATE\", \"offsetgroup\": \"ABIA STATE\", \"orientation\": \"v\", \"showlegend\": true, \"textposition\": \"outside\", \"texttemplate\": \"%{text:.4s}\", \"type\": \"bar\", \"x\": [\"ABIA STATE\"], \"xaxis\": \"x\", \"y\": [2250421954], \"yaxis\": \"y\"}, {\"alignmentgroup\": \"True\", \"hovertemplate\": \"STATE=%{x}<br>JUNE=%{y}<extra></extra>\", \"legendgroup\": \"ADAMAWA STATE\", \"marker\": {\"color\": \"#EF553B\"}, \"name\": \"ADAMAWA STATE\", \"offsetgroup\": \"ADAMAWA STATE\", \"orientation\": \"v\", \"showlegend\": true, \"textposition\": \"outside\", \"texttemplate\": \"%{text:.4s}\", \"type\": \"bar\", \"x\": [\"ADAMAWA STATE\"], \"xaxis\": \"x\", \"y\": [2806790553], \"yaxis\": \"y\"}, {\"alignmentgroup\": \"True\", \"hovertemplate\": \"STATE=%{x}<br>JUNE=%{y}<extra></extra>\", \"legendgroup\": \"AKWA IBOW STATE\", \"marker\": {\"color\": \"#00cc96\"}, \"name\": \"AKWA IBOW STATE\", \"offsetgroup\": \"AKWA IBOW STATE\", \"orientation\": \"v\", \"showlegend\": true, \"textposition\": \"outside\", \"texttemplate\": \"%{text:.4s}\", \"type\": \"bar\", \"x\": [\"AKWA IBOW STATE\"], \"xaxis\": \"x\", \"y\": [3771090719], \"yaxis\": \"y\"}, {\"alignmentgroup\": \"True\", \"hovertemplate\": \"STATE=%{x}<br>JUNE=%{y}<extra></extra>\", \"legendgroup\": \"ANAMBRA STATE\", \"marker\": {\"color\": \"#ab63fa\"}, \"name\": \"ANAMBRA STATE\", \"offsetgroup\": \"ANAMBRA STATE\", \"orientation\": \"v\", \"showlegend\": true, \"textposition\": \"outside\", \"texttemplate\": \"%{text:.4s}\", \"type\": \"bar\", \"x\": [\"ANAMBRA STATE\"], \"xaxis\": \"x\", \"y\": [2894086980], \"yaxis\": \"y\"}, {\"alignmentgroup\": \"True\", \"hovertemplate\": \"STATE=%{x}<br>JUNE=%{y}<extra></extra>\", \"legendgroup\": \"BAUCHI STATE\", \"marker\": {\"color\": \"#FFA15A\"}, \"name\": \"BAUCHI STATE\", \"offsetgroup\": \"BAUCHI STATE\", \"orientation\": \"v\", \"showlegend\": true, \"textposition\": \"outside\", \"texttemplate\": \"%{text:.4s}\", \"type\": \"bar\", \"x\": [\"BAUCHI STATE\"], \"xaxis\": \"x\", \"y\": [3188040146], \"yaxis\": \"y\"}, {\"alignmentgroup\": \"True\", \"hovertemplate\": \"STATE=%{x}<br>JUNE=%{y}<extra></extra>\", \"legendgroup\": \"BAYELSA STATE\", \"marker\": {\"color\": \"#19d3f3\"}, \"name\": \"BAYELSA STATE\", \"offsetgroup\": \"BAYELSA STATE\", \"orientation\": \"v\", \"showlegend\": true, \"textposition\": \"outside\", \"texttemplate\": \"%{text:.4s}\", \"type\": \"bar\", \"x\": [\"BAYELSA STATE\"], \"xaxis\": \"x\", \"y\": [1295228924], \"yaxis\": \"y\"}, {\"alignmentgroup\": \"True\", \"hovertemplate\": \"STATE=%{x}<br>JUNE=%{y}<extra></extra>\", \"legendgroup\": \"BENUE STATE\", \"marker\": {\"color\": \"#FF6692\"}, \"name\": \"BENUE STATE\", \"offsetgroup\": \"BENUE STATE\", \"orientation\": \"v\", \"showlegend\": true, \"textposition\": \"outside\", \"texttemplate\": \"%{text:.4s}\", \"type\": \"bar\", \"x\": [\"BENUE STATE\"], \"xaxis\": \"x\", \"y\": [3432016945], \"yaxis\": \"y\"}, {\"alignmentgroup\": \"True\", \"hovertemplate\": \"STATE=%{x}<br>JUNE=%{y}<extra></extra>\", \"legendgroup\": \"BORNO STATE\", \"marker\": {\"color\": \"#B6E880\"}, \"name\": \"BORNO STATE\", \"offsetgroup\": \"BORNO STATE\", \"orientation\": \"v\", \"showlegend\": true, \"textposition\": \"outside\", \"texttemplate\": \"%{text:.4s}\", \"type\": \"bar\", \"x\": [\"BORNO STATE\"], \"xaxis\": \"x\", \"y\": [3740754843], \"yaxis\": \"y\"}, {\"alignmentgroup\": \"True\", \"hovertemplate\": \"STATE=%{x}<br>JUNE=%{y}<extra></extra>\", \"legendgroup\": \"CROSS-RIVER STATE\", \"marker\": {\"color\": \"#FF97FF\"}, \"name\": \"CROSS-RIVER STATE\", \"offsetgroup\": \"CROSS-RIVER STATE\", \"orientation\": \"v\", \"showlegend\": true, \"textposition\": \"outside\", \"texttemplate\": \"%{text:.4s}\", \"type\": \"bar\", \"x\": [\"CROSS-RIVER STATE\"], \"xaxis\": \"x\", \"y\": [2434720698], \"yaxis\": \"y\"}, {\"alignmentgroup\": \"True\", \"hovertemplate\": \"STATE=%{x}<br>JUNE=%{y}<extra></extra>\", \"legendgroup\": \"DELTA STATE\", \"marker\": {\"color\": \"#FECB52\"}, \"name\": \"DELTA STATE\", \"offsetgroup\": \"DELTA STATE\", \"orientation\": \"v\", \"showlegend\": true, \"textposition\": \"outside\", \"texttemplate\": \"%{text:.4s}\", \"type\": \"bar\", \"x\": [\"DELTA STATE\"], \"xaxis\": \"x\", \"y\": [3258598922], \"yaxis\": \"y\"}, {\"alignmentgroup\": \"True\", \"hovertemplate\": \"STATE=%{x}<br>JUNE=%{y}<extra></extra>\", \"legendgroup\": \"EBONYI STATE\", \"marker\": {\"color\": \"#636efa\"}, \"name\": \"EBONYI STATE\", \"offsetgroup\": \"EBONYI STATE\", \"orientation\": \"v\", \"showlegend\": true, \"textposition\": \"outside\", \"texttemplate\": \"%{text:.4s}\", \"type\": \"bar\", \"x\": [\"EBONYI STATE\"], \"xaxis\": \"x\", \"y\": [1836944957], \"yaxis\": \"y\"}, {\"alignmentgroup\": \"True\", \"hovertemplate\": \"STATE=%{x}<br>JUNE=%{y}<extra></extra>\", \"legendgroup\": \"EDO STATE\", \"marker\": {\"color\": \"#EF553B\"}, \"name\": \"EDO STATE\", \"offsetgroup\": \"EDO STATE\", \"orientation\": \"v\", \"showlegend\": true, \"textposition\": \"outside\", \"texttemplate\": \"%{text:.4s}\", \"type\": \"bar\", \"x\": [\"EDO STATE\"], \"xaxis\": \"x\", \"y\": [2436244969], \"yaxis\": \"y\"}, {\"alignmentgroup\": \"True\", \"hovertemplate\": \"STATE=%{x}<br>JUNE=%{y}<extra></extra>\", \"legendgroup\": \"EKITI STATE\", \"marker\": {\"color\": \"#00cc96\"}, \"name\": \"EKITI STATE\", \"offsetgroup\": \"EKITI STATE\", \"orientation\": \"v\", \"showlegend\": true, \"textposition\": \"outside\", \"texttemplate\": \"%{text:.4s}\", \"type\": \"bar\", \"x\": [\"EKITI STATE\"], \"xaxis\": \"x\", \"y\": [1953709758], \"yaxis\": \"y\"}, {\"alignmentgroup\": \"True\", \"hovertemplate\": \"STATE=%{x}<br>JUNE=%{y}<extra></extra>\", \"legendgroup\": \"ENUGU STATE\", \"marker\": {\"color\": \"#ab63fa\"}, \"name\": \"ENUGU STATE\", \"offsetgroup\": \"ENUGU STATE\", \"orientation\": \"v\", \"showlegend\": true, \"textposition\": \"outside\", \"texttemplate\": \"%{text:.4s}\", \"type\": \"bar\", \"x\": [\"ENUGU STATE\"], \"xaxis\": \"x\", \"y\": [2464029771], \"yaxis\": \"y\"}, {\"alignmentgroup\": \"True\", \"hovertemplate\": \"STATE=%{x}<br>JUNE=%{y}<extra></extra>\", \"legendgroup\": \"GOMBE STATE\", \"marker\": {\"color\": \"#FFA15A\"}, \"name\": \"GOMBE STATE\", \"offsetgroup\": \"GOMBE STATE\", \"orientation\": \"v\", \"showlegend\": true, \"textposition\": \"outside\", \"texttemplate\": \"%{text:.4s}\", \"type\": \"bar\", \"x\": [\"GOMBE STATE\"], \"xaxis\": \"x\", \"y\": [1671423759], \"yaxis\": \"y\"}, {\"alignmentgroup\": \"True\", \"hovertemplate\": \"STATE=%{x}<br>JUNE=%{y}<extra></extra>\", \"legendgroup\": \"IMO STATE\", \"marker\": {\"color\": \"#19d3f3\"}, \"name\": \"IMO STATE\", \"offsetgroup\": \"IMO STATE\", \"orientation\": \"v\", \"showlegend\": true, \"textposition\": \"outside\", \"texttemplate\": \"%{text:.4s}\", \"type\": \"bar\", \"x\": [\"IMO STATE\"], \"xaxis\": \"x\", \"y\": [3349650055], \"yaxis\": \"y\"}, {\"alignmentgroup\": \"True\", \"hovertemplate\": \"STATE=%{x}<br>JUNE=%{y}<extra></extra>\", \"legendgroup\": \"JIGAWA STATE\", \"marker\": {\"color\": \"#FF6692\"}, \"name\": \"JIGAWA STATE\", \"offsetgroup\": \"JIGAWA STATE\", \"orientation\": \"v\", \"showlegend\": true, \"textposition\": \"outside\", \"texttemplate\": \"%{text:.4s}\", \"type\": \"bar\", \"x\": [\"JIGAWA STATE\"], \"xaxis\": \"x\", \"y\": [3483696939], \"yaxis\": \"y\"}, {\"alignmentgroup\": \"True\", \"hovertemplate\": \"STATE=%{x}<br>JUNE=%{y}<extra></extra>\", \"legendgroup\": \"KADUNA STATE\", \"marker\": {\"color\": \"#B6E880\"}, \"name\": \"KADUNA STATE\", \"offsetgroup\": \"KADUNA STATE\", \"orientation\": \"v\", \"showlegend\": true, \"textposition\": \"outside\", \"texttemplate\": \"%{text:.4s}\", \"type\": \"bar\", \"x\": [\"KADUNA STATE\"], \"xaxis\": \"x\", \"y\": [3844670167], \"yaxis\": \"y\"}, {\"alignmentgroup\": \"True\", \"hovertemplate\": \"STATE=%{x}<br>JUNE=%{y}<extra></extra>\", \"legendgroup\": \"KANO STATE\", \"marker\": {\"color\": \"#FF97FF\"}, \"name\": \"KANO STATE\", \"offsetgroup\": \"KANO STATE\", \"orientation\": \"v\", \"showlegend\": true, \"textposition\": \"outside\", \"texttemplate\": \"%{text:.4s}\", \"type\": \"bar\", \"x\": [\"KANO STATE\"], \"xaxis\": \"x\", \"y\": [6360687525], \"yaxis\": \"y\"}, {\"alignmentgroup\": \"True\", \"hovertemplate\": \"STATE=%{x}<br>JUNE=%{y}<extra></extra>\", \"legendgroup\": \"KATSINA STATE\", \"marker\": {\"color\": \"#FECB52\"}, \"name\": \"KATSINA STATE\", \"offsetgroup\": \"KATSINA STATE\", \"orientation\": \"v\", \"showlegend\": true, \"textposition\": \"outside\", \"texttemplate\": \"%{text:.4s}\", \"type\": \"bar\", \"x\": [\"KATSINA STATE\"], \"xaxis\": \"x\", \"y\": [4683673372], \"yaxis\": \"y\"}, {\"alignmentgroup\": \"True\", \"hovertemplate\": \"STATE=%{x}<br>JUNE=%{y}<extra></extra>\", \"legendgroup\": \"KEBBI STATE\", \"marker\": {\"color\": \"#636efa\"}, \"name\": \"KEBBI STATE\", \"offsetgroup\": \"KEBBI STATE\", \"orientation\": \"v\", \"showlegend\": true, \"textposition\": \"outside\", \"texttemplate\": \"%{text:.4s}\", \"type\": \"bar\", \"x\": [\"KEBBI STATE\"], \"xaxis\": \"x\", \"y\": [2901674212], \"yaxis\": \"y\"}, {\"alignmentgroup\": \"True\", \"hovertemplate\": \"STATE=%{x}<br>JUNE=%{y}<extra></extra>\", \"legendgroup\": \"KOGI STATE\", \"marker\": {\"color\": \"#EF553B\"}, \"name\": \"KOGI STATE\", \"offsetgroup\": \"KOGI STATE\", \"orientation\": \"v\", \"showlegend\": true, \"textposition\": \"outside\", \"texttemplate\": \"%{text:.4s}\", \"type\": \"bar\", \"x\": [\"KOGI STATE\"], \"xaxis\": \"x\", \"y\": [2984963717], \"yaxis\": \"y\"}, {\"alignmentgroup\": \"True\", \"hovertemplate\": \"STATE=%{x}<br>JUNE=%{y}<extra></extra>\", \"legendgroup\": \"KWARA STATE\", \"marker\": {\"color\": \"#00cc96\"}, \"name\": \"KWARA STATE\", \"offsetgroup\": \"KWARA STATE\", \"orientation\": \"v\", \"showlegend\": true, \"textposition\": \"outside\", \"texttemplate\": \"%{text:.4s}\", \"type\": \"bar\", \"x\": [\"KWARA STATE\"], \"xaxis\": \"x\", \"y\": [2142342140], \"yaxis\": \"y\"}, {\"alignmentgroup\": \"True\", \"hovertemplate\": \"STATE=%{x}<br>JUNE=%{y}<extra></extra>\", \"legendgroup\": \"LAGOS STATE\", \"marker\": {\"color\": \"#ab63fa\"}, \"name\": \"LAGOS STATE\", \"offsetgroup\": \"LAGOS STATE\", \"orientation\": \"v\", \"showlegend\": true, \"textposition\": \"outside\", \"texttemplate\": \"%{text:.4s}\", \"type\": \"bar\", \"x\": [\"LAGOS STATE\"], \"xaxis\": \"x\", \"y\": [8147078705], \"yaxis\": \"y\"}, {\"alignmentgroup\": \"True\", \"hovertemplate\": \"STATE=%{x}<br>JUNE=%{y}<extra></extra>\", \"legendgroup\": \"NASARAWA STATE\", \"marker\": {\"color\": \"#FFA15A\"}, \"name\": \"NASARAWA STATE\", \"offsetgroup\": \"NASARAWA STATE\", \"orientation\": \"v\", \"showlegend\": true, \"textposition\": \"outside\", \"texttemplate\": \"%{text:.4s}\", \"type\": \"bar\", \"x\": [\"NASARAWA STATE\"], \"xaxis\": \"x\", \"y\": [1873459667], \"yaxis\": \"y\"}, {\"alignmentgroup\": \"True\", \"hovertemplate\": \"STATE=%{x}<br>JUNE=%{y}<extra></extra>\", \"legendgroup\": \"NIGER STATE\", \"marker\": {\"color\": \"#19d3f3\"}, \"name\": \"NIGER STATE\", \"offsetgroup\": \"NIGER STATE\", \"orientation\": \"v\", \"showlegend\": true, \"textposition\": \"outside\", \"texttemplate\": \"%{text:.4s}\", \"type\": \"bar\", \"x\": [\"NIGER STATE\"], \"xaxis\": \"x\", \"y\": [3517925430], \"yaxis\": \"y\"}, {\"alignmentgroup\": \"True\", \"hovertemplate\": \"STATE=%{x}<br>JUNE=%{y}<extra></extra>\", \"legendgroup\": \"OGUN STATE\", \"marker\": {\"color\": \"#FF6692\"}, \"name\": \"OGUN STATE\", \"offsetgroup\": \"OGUN STATE\", \"orientation\": \"v\", \"showlegend\": true, \"textposition\": \"outside\", \"texttemplate\": \"%{text:.4s}\", \"type\": \"bar\", \"x\": [\"OGUN STATE\"], \"xaxis\": \"x\", \"y\": [2627161017], \"yaxis\": \"y\"}, {\"alignmentgroup\": \"True\", \"hovertemplate\": \"STATE=%{x}<br>JUNE=%{y}<extra></extra>\", \"legendgroup\": \"ONDO STATE\", \"marker\": {\"color\": \"#B6E880\"}, \"name\": \"ONDO STATE\", \"offsetgroup\": \"ONDO STATE\", \"orientation\": \"v\", \"showlegend\": true, \"textposition\": \"outside\", \"texttemplate\": \"%{text:.4s}\", \"type\": \"bar\", \"x\": [\"ONDO STATE\"], \"xaxis\": \"x\", \"y\": [2468910597], \"yaxis\": \"y\"}, {\"alignmentgroup\": \"True\", \"hovertemplate\": \"STATE=%{x}<br>JUNE=%{y}<extra></extra>\", \"legendgroup\": \"OSUN STATE\", \"marker\": {\"color\": \"#FF97FF\"}, \"name\": \"OSUN STATE\", \"offsetgroup\": \"OSUN STATE\", \"orientation\": \"v\", \"showlegend\": true, \"textposition\": \"outside\", \"texttemplate\": \"%{text:.4s}\", \"type\": \"bar\", \"x\": [\"OSUN STATE\"], \"xaxis\": \"x\", \"y\": [3362632491], \"yaxis\": \"y\"}, {\"alignmentgroup\": \"True\", \"hovertemplate\": \"STATE=%{x}<br>JUNE=%{y}<extra></extra>\", \"legendgroup\": \"OYO STATE\", \"marker\": {\"color\": \"#FECB52\"}, \"name\": \"OYO STATE\", \"offsetgroup\": \"OYO STATE\", \"orientation\": \"v\", \"showlegend\": true, \"textposition\": \"outside\", \"texttemplate\": \"%{text:.4s}\", \"type\": \"bar\", \"x\": [\"OYO STATE\"], \"xaxis\": \"x\", \"y\": [4426277140], \"yaxis\": \"y\"}, {\"alignmentgroup\": \"True\", \"hovertemplate\": \"STATE=%{x}<br>JUNE=%{y}<extra></extra>\", \"legendgroup\": \"PLATEAU STATE\", \"marker\": {\"color\": \"#636efa\"}, \"name\": \"PLATEAU STATE\", \"offsetgroup\": \"PLATEAU STATE\", \"orientation\": \"v\", \"showlegend\": true, \"textposition\": \"outside\", \"texttemplate\": \"%{text:.4s}\", \"type\": \"bar\", \"x\": [\"PLATEAU STATE\"], \"xaxis\": \"x\", \"y\": [2562152988], \"yaxis\": \"y\"}, {\"alignmentgroup\": \"True\", \"hovertemplate\": \"STATE=%{x}<br>JUNE=%{y}<extra></extra>\", \"legendgroup\": \"RIVERS STATE\", \"marker\": {\"color\": \"#EF553B\"}, \"name\": \"RIVERS STATE\", \"offsetgroup\": \"RIVERS STATE\", \"orientation\": \"v\", \"showlegend\": true, \"textposition\": \"outside\", \"texttemplate\": \"%{text:.4s}\", \"type\": \"bar\", \"x\": [\"RIVERS STATE\"], \"xaxis\": \"x\", \"y\": [3510358329], \"yaxis\": \"y\"}, {\"alignmentgroup\": \"True\", \"hovertemplate\": \"STATE=%{x}<br>JUNE=%{y}<extra></extra>\", \"legendgroup\": \"SOKOTO STATE\", \"marker\": {\"color\": \"#00cc96\"}, \"name\": \"SOKOTO STATE\", \"offsetgroup\": \"SOKOTO STATE\", \"orientation\": \"v\", \"showlegend\": true, \"textposition\": \"outside\", \"texttemplate\": \"%{text:.4s}\", \"type\": \"bar\", \"x\": [\"SOKOTO STATE\"], \"xaxis\": \"x\", \"y\": [3208055711], \"yaxis\": \"y\"}, {\"alignmentgroup\": \"True\", \"hovertemplate\": \"STATE=%{x}<br>JUNE=%{y}<extra></extra>\", \"legendgroup\": \"TARABA STATE\", \"marker\": {\"color\": \"#ab63fa\"}, \"name\": \"TARABA STATE\", \"offsetgroup\": \"TARABA STATE\", \"orientation\": \"v\", \"showlegend\": true, \"textposition\": \"outside\", \"texttemplate\": \"%{text:.4s}\", \"type\": \"bar\", \"x\": [\"TARABA STATE\"], \"xaxis\": \"x\", \"y\": [2382382608], \"yaxis\": \"y\"}, {\"alignmentgroup\": \"True\", \"hovertemplate\": \"STATE=%{x}<br>JUNE=%{y}<extra></extra>\", \"legendgroup\": \"YOBE STATE\", \"marker\": {\"color\": \"#FFA15A\"}, \"name\": \"YOBE STATE\", \"offsetgroup\": \"YOBE STATE\", \"orientation\": \"v\", \"showlegend\": true, \"textposition\": \"outside\", \"texttemplate\": \"%{text:.4s}\", \"type\": \"bar\", \"x\": [\"YOBE STATE\"], \"xaxis\": \"x\", \"y\": [2389623330], \"yaxis\": \"y\"}, {\"alignmentgroup\": \"True\", \"hovertemplate\": \"STATE=%{x}<br>JUNE=%{y}<extra></extra>\", \"legendgroup\": \"ZAMFARA STATE\", \"marker\": {\"color\": \"#19d3f3\"}, \"name\": \"ZAMFARA STATE\", \"offsetgroup\": \"ZAMFARA STATE\", \"orientation\": \"v\", \"showlegend\": true, \"textposition\": \"outside\", \"texttemplate\": \"%{text:.4s}\", \"type\": \"bar\", \"x\": [\"ZAMFARA STATE\"], \"xaxis\": \"x\", \"y\": [2194223196], \"yaxis\": \"y\"}, {\"alignmentgroup\": \"True\", \"hovertemplate\": \"STATE=%{x}<br>JUNE=%{y}<extra></extra>\", \"legendgroup\": \"FEDERAL CAPITAL TERRITORY (FCT)\", \"marker\": {\"color\": \"#FF6692\"}, \"name\": \"FEDERAL CAPITAL TERRITORY (FCT)\", \"offsetgroup\": \"FEDERAL CAPITAL TERRITORY (FCT)\", \"orientation\": \"v\", \"showlegend\": true, \"textposition\": \"outside\", \"texttemplate\": \"%{text:.4s}\", \"type\": \"bar\", \"x\": [\"FEDERAL CAPITAL TERRITORY (FCT)\"], \"xaxis\": \"x\", \"y\": [2226318197], \"yaxis\": \"y\"}],                        {\"barmode\": \"relative\", \"height\": 750, \"legend\": {\"title\": {\"text\": \"STATE\"}, \"tracegroupgap\": 0}, \"margin\": {\"t\": 60}, \"template\": {\"data\": {\"bar\": [{\"error_x\": {\"color\": \"#2a3f5f\"}, \"error_y\": {\"color\": \"#2a3f5f\"}, \"marker\": {\"line\": {\"color\": \"#E5ECF6\", \"width\": 0.5}}, \"type\": \"bar\"}], \"barpolar\": [{\"marker\": {\"line\": {\"color\": \"#E5ECF6\", \"width\": 0.5}}, \"type\": \"barpolar\"}], \"carpet\": [{\"aaxis\": {\"endlinecolor\": \"#2a3f5f\", \"gridcolor\": \"white\", \"linecolor\": \"white\", \"minorgridcolor\": \"white\", \"startlinecolor\": \"#2a3f5f\"}, \"baxis\": {\"endlinecolor\": \"#2a3f5f\", \"gridcolor\": \"white\", \"linecolor\": \"white\", \"minorgridcolor\": \"white\", \"startlinecolor\": \"#2a3f5f\"}, \"type\": \"carpet\"}], \"choropleth\": [{\"colorbar\": {\"outlinewidth\": 0, \"ticks\": \"\"}, \"type\": \"choropleth\"}], \"contour\": [{\"colorbar\": {\"outlinewidth\": 0, \"ticks\": \"\"}, \"colorscale\": [[0.0, \"#0d0887\"], [0.1111111111111111, \"#46039f\"], [0.2222222222222222, \"#7201a8\"], [0.3333333333333333, \"#9c179e\"], [0.4444444444444444, \"#bd3786\"], [0.5555555555555556, \"#d8576b\"], [0.6666666666666666, \"#ed7953\"], [0.7777777777777778, \"#fb9f3a\"], [0.8888888888888888, \"#fdca26\"], [1.0, \"#f0f921\"]], \"type\": \"contour\"}], \"contourcarpet\": [{\"colorbar\": {\"outlinewidth\": 0, \"ticks\": \"\"}, \"type\": \"contourcarpet\"}], \"heatmap\": [{\"colorbar\": {\"outlinewidth\": 0, \"ticks\": \"\"}, \"colorscale\": [[0.0, \"#0d0887\"], [0.1111111111111111, \"#46039f\"], [0.2222222222222222, \"#7201a8\"], [0.3333333333333333, \"#9c179e\"], [0.4444444444444444, \"#bd3786\"], [0.5555555555555556, \"#d8576b\"], [0.6666666666666666, \"#ed7953\"], [0.7777777777777778, \"#fb9f3a\"], [0.8888888888888888, \"#fdca26\"], [1.0, \"#f0f921\"]], \"type\": \"heatmap\"}], \"heatmapgl\": [{\"colorbar\": {\"outlinewidth\": 0, \"ticks\": \"\"}, \"colorscale\": [[0.0, \"#0d0887\"], [0.1111111111111111, \"#46039f\"], [0.2222222222222222, \"#7201a8\"], [0.3333333333333333, \"#9c179e\"], [0.4444444444444444, \"#bd3786\"], [0.5555555555555556, \"#d8576b\"], [0.6666666666666666, \"#ed7953\"], [0.7777777777777778, \"#fb9f3a\"], [0.8888888888888888, \"#fdca26\"], [1.0, \"#f0f921\"]], \"type\": \"heatmapgl\"}], \"histogram\": [{\"marker\": {\"colorbar\": {\"outlinewidth\": 0, \"ticks\": \"\"}}, \"type\": \"histogram\"}], \"histogram2d\": [{\"colorbar\": {\"outlinewidth\": 0, \"ticks\": \"\"}, \"colorscale\": [[0.0, \"#0d0887\"], [0.1111111111111111, \"#46039f\"], [0.2222222222222222, \"#7201a8\"], [0.3333333333333333, \"#9c179e\"], [0.4444444444444444, \"#bd3786\"], [0.5555555555555556, \"#d8576b\"], [0.6666666666666666, \"#ed7953\"], [0.7777777777777778, \"#fb9f3a\"], [0.8888888888888888, \"#fdca26\"], [1.0, \"#f0f921\"]], \"type\": \"histogram2d\"}], \"histogram2dcontour\": [{\"colorbar\": {\"outlinewidth\": 0, \"ticks\": \"\"}, \"colorscale\": [[0.0, \"#0d0887\"], [0.1111111111111111, \"#46039f\"], [0.2222222222222222, \"#7201a8\"], [0.3333333333333333, \"#9c179e\"], [0.4444444444444444, \"#bd3786\"], [0.5555555555555556, \"#d8576b\"], [0.6666666666666666, \"#ed7953\"], [0.7777777777777778, \"#fb9f3a\"], [0.8888888888888888, \"#fdca26\"], [1.0, \"#f0f921\"]], \"type\": \"histogram2dcontour\"}], \"mesh3d\": [{\"colorbar\": {\"outlinewidth\": 0, \"ticks\": \"\"}, \"type\": \"mesh3d\"}], \"parcoords\": [{\"line\": {\"colorbar\": {\"outlinewidth\": 0, \"ticks\": \"\"}}, \"type\": \"parcoords\"}], \"pie\": [{\"automargin\": true, \"type\": \"pie\"}], \"scatter\": [{\"marker\": {\"colorbar\": {\"outlinewidth\": 0, \"ticks\": \"\"}}, \"type\": \"scatter\"}], \"scatter3d\": [{\"line\": {\"colorbar\": {\"outlinewidth\": 0, \"ticks\": \"\"}}, \"marker\": {\"colorbar\": {\"outlinewidth\": 0, \"ticks\": \"\"}}, \"type\": \"scatter3d\"}], \"scattercarpet\": [{\"marker\": {\"colorbar\": {\"outlinewidth\": 0, \"ticks\": \"\"}}, \"type\": \"scattercarpet\"}], \"scattergeo\": [{\"marker\": {\"colorbar\": {\"outlinewidth\": 0, \"ticks\": \"\"}}, \"type\": \"scattergeo\"}], \"scattergl\": [{\"marker\": {\"colorbar\": {\"outlinewidth\": 0, \"ticks\": \"\"}}, \"type\": \"scattergl\"}], \"scattermapbox\": [{\"marker\": {\"colorbar\": {\"outlinewidth\": 0, \"ticks\": \"\"}}, \"type\": \"scattermapbox\"}], \"scatterpolar\": [{\"marker\": {\"colorbar\": {\"outlinewidth\": 0, \"ticks\": \"\"}}, \"type\": \"scatterpolar\"}], \"scatterpolargl\": [{\"marker\": {\"colorbar\": {\"outlinewidth\": 0, \"ticks\": \"\"}}, \"type\": \"scatterpolargl\"}], \"scatterternary\": [{\"marker\": {\"colorbar\": {\"outlinewidth\": 0, \"ticks\": \"\"}}, \"type\": \"scatterternary\"}], \"surface\": [{\"colorbar\": {\"outlinewidth\": 0, \"ticks\": \"\"}, \"colorscale\": [[0.0, \"#0d0887\"], [0.1111111111111111, \"#46039f\"], [0.2222222222222222, \"#7201a8\"], [0.3333333333333333, \"#9c179e\"], [0.4444444444444444, \"#bd3786\"], [0.5555555555555556, \"#d8576b\"], [0.6666666666666666, \"#ed7953\"], [0.7777777777777778, \"#fb9f3a\"], [0.8888888888888888, \"#fdca26\"], [1.0, \"#f0f921\"]], \"type\": \"surface\"}], \"table\": [{\"cells\": {\"fill\": {\"color\": \"#EBF0F8\"}, \"line\": {\"color\": \"white\"}}, \"header\": {\"fill\": {\"color\": \"#C8D4E3\"}, \"line\": {\"color\": \"white\"}}, \"type\": \"table\"}]}, \"layout\": {\"annotationdefaults\": {\"arrowcolor\": \"#2a3f5f\", \"arrowhead\": 0, \"arrowwidth\": 1}, \"autotypenumbers\": \"strict\", \"coloraxis\": {\"colorbar\": {\"outlinewidth\": 0, \"ticks\": \"\"}}, \"colorscale\": {\"diverging\": [[0, \"#8e0152\"], [0.1, \"#c51b7d\"], [0.2, \"#de77ae\"], [0.3, \"#f1b6da\"], [0.4, \"#fde0ef\"], [0.5, \"#f7f7f7\"], [0.6, \"#e6f5d0\"], [0.7, \"#b8e186\"], [0.8, \"#7fbc41\"], [0.9, \"#4d9221\"], [1, \"#276419\"]], \"sequential\": [[0.0, \"#0d0887\"], [0.1111111111111111, \"#46039f\"], [0.2222222222222222, \"#7201a8\"], [0.3333333333333333, \"#9c179e\"], [0.4444444444444444, \"#bd3786\"], [0.5555555555555556, \"#d8576b\"], [0.6666666666666666, \"#ed7953\"], [0.7777777777777778, \"#fb9f3a\"], [0.8888888888888888, \"#fdca26\"], [1.0, \"#f0f921\"]], \"sequentialminus\": [[0.0, \"#0d0887\"], [0.1111111111111111, \"#46039f\"], [0.2222222222222222, \"#7201a8\"], [0.3333333333333333, \"#9c179e\"], [0.4444444444444444, \"#bd3786\"], [0.5555555555555556, \"#d8576b\"], [0.6666666666666666, \"#ed7953\"], [0.7777777777777778, \"#fb9f3a\"], [0.8888888888888888, \"#fdca26\"], [1.0, \"#f0f921\"]]}, \"colorway\": [\"#636efa\", \"#EF553B\", \"#00cc96\", \"#ab63fa\", \"#FFA15A\", \"#19d3f3\", \"#FF6692\", \"#B6E880\", \"#FF97FF\", \"#FECB52\"], \"font\": {\"color\": \"#2a3f5f\"}, \"geo\": {\"bgcolor\": \"white\", \"lakecolor\": \"white\", \"landcolor\": \"#E5ECF6\", \"showlakes\": true, \"showland\": true, \"subunitcolor\": \"white\"}, \"hoverlabel\": {\"align\": \"left\"}, \"hovermode\": \"closest\", \"mapbox\": {\"style\": \"light\"}, \"paper_bgcolor\": \"white\", \"plot_bgcolor\": \"#E5ECF6\", \"polar\": {\"angularaxis\": {\"gridcolor\": \"white\", \"linecolor\": \"white\", \"ticks\": \"\"}, \"bgcolor\": \"#E5ECF6\", \"radialaxis\": {\"gridcolor\": \"white\", \"linecolor\": \"white\", \"ticks\": \"\"}}, \"scene\": {\"xaxis\": {\"backgroundcolor\": \"#E5ECF6\", \"gridcolor\": \"white\", \"gridwidth\": 2, \"linecolor\": \"white\", \"showbackground\": true, \"ticks\": \"\", \"zerolinecolor\": \"white\"}, \"yaxis\": {\"backgroundcolor\": \"#E5ECF6\", \"gridcolor\": \"white\", \"gridwidth\": 2, \"linecolor\": \"white\", \"showbackground\": true, \"ticks\": \"\", \"zerolinecolor\": \"white\"}, \"zaxis\": {\"backgroundcolor\": \"#E5ECF6\", \"gridcolor\": \"white\", \"gridwidth\": 2, \"linecolor\": \"white\", \"showbackground\": true, \"ticks\": \"\", \"zerolinecolor\": \"white\"}}, \"shapedefaults\": {\"line\": {\"color\": \"#2a3f5f\"}}, \"ternary\": {\"aaxis\": {\"gridcolor\": \"white\", \"linecolor\": \"white\", \"ticks\": \"\"}, \"baxis\": {\"gridcolor\": \"white\", \"linecolor\": \"white\", \"ticks\": \"\"}, \"bgcolor\": \"#E5ECF6\", \"caxis\": {\"gridcolor\": \"white\", \"linecolor\": \"white\", \"ticks\": \"\"}}, \"title\": {\"x\": 0.05}, \"xaxis\": {\"automargin\": true, \"gridcolor\": \"white\", \"linecolor\": \"white\", \"ticks\": \"\", \"title\": {\"standoff\": 15}, \"zerolinecolor\": \"white\", \"zerolinewidth\": 2}, \"yaxis\": {\"automargin\": true, \"gridcolor\": \"white\", \"linecolor\": \"white\", \"ticks\": \"\", \"title\": {\"standoff\": 15}, \"zerolinecolor\": \"white\", \"zerolinewidth\": 2}}}, \"title\": {\"text\": \"FAAC_2020\", \"x\": 0.5, \"y\": 0.8}, \"uniformtext\": {\"minsize\": 8, \"mode\": \"hide\"}, \"width\": 1000, \"xaxis\": {\"anchor\": \"y\", \"categoryarray\": [\"ABIA STATE\", \"ADAMAWA STATE\", \"AKWA IBOW STATE\", \"ANAMBRA STATE\", \"BAUCHI STATE\", \"BAYELSA STATE\", \"BENUE STATE\", \"BORNO STATE\", \"CROSS-RIVER STATE\", \"DELTA STATE\", \"EBONYI STATE\", \"EDO STATE\", \"EKITI STATE\", \"ENUGU STATE\", \"GOMBE STATE\", \"IMO STATE\", \"JIGAWA STATE\", \"KADUNA STATE\", \"KANO STATE\", \"KATSINA STATE\", \"KEBBI STATE\", \"KOGI STATE\", \"KWARA STATE\", \"LAGOS STATE\", \"NASARAWA STATE\", \"NIGER STATE\", \"OGUN STATE\", \"ONDO STATE\", \"OSUN STATE\", \"OYO STATE\", \"PLATEAU STATE\", \"RIVERS STATE\", \"SOKOTO STATE\", \"TARABA STATE\", \"YOBE STATE\", \"ZAMFARA STATE\", \"FEDERAL CAPITAL TERRITORY (FCT)\"], \"categoryorder\": \"array\", \"domain\": [0.0, 1.0], \"title\": {\"text\": \"STATE\"}}, \"yaxis\": {\"anchor\": \"x\", \"domain\": [0.0, 1.0], \"title\": {\"text\": \"JUNE\"}}},                        {\"responsive\": true}                    ).then(function(){\n",
       "                            \n",
       "var gd = document.getElementById('d7fe1de9-1571-4820-914b-3394baa43e86');\n",
       "var x = new MutationObserver(function (mutations, observer) {{\n",
       "        var display = window.getComputedStyle(gd).display;\n",
       "        if (!display || display === 'none') {{\n",
       "            console.log([gd, 'removed!']);\n",
       "            Plotly.purge(gd);\n",
       "            observer.disconnect();\n",
       "        }}\n",
       "}});\n",
       "\n",
       "// Listen for the removal of the full notebook cells\n",
       "var notebookContainer = gd.closest('#notebook-container');\n",
       "if (notebookContainer) {{\n",
       "    x.observe(notebookContainer, {childList: true});\n",
       "}}\n",
       "\n",
       "// Listen for the clearing of the current output cell\n",
       "var outputEl = gd.closest('.output');\n",
       "if (outputEl) {{\n",
       "    x.observe(outputEl, {childList: true});\n",
       "}}\n",
       "\n",
       "                        })                };                });            </script>        </div>"
      ]
     },
     "metadata": {},
     "output_type": "display_data"
    }
   ],
   "source": [
    "fig=px.bar(FAAC_2020, y = \"JUNE\", x = \"STATE\",orientation = \"v\", color = \"STATE\")\n",
    "fig.update_traces(texttemplate=\"%{text:.4s}\", textposition=\"outside\")\n",
    "fig.update_layout(uniformtext_minsize= 8, uniformtext_mode= \"hide\")\n",
    "fig.update_layout(\n",
    "    title = {\n",
    "       \"text\":\"FAAC_2020\",\n",
    "       \"y\":0.8,\n",
    "       \"x\":0.5,\n",
    "       },height = 750, width = 1000)"
   ]
  },
  {
   "cell_type": "code",
   "execution_count": 51,
   "metadata": {},
   "outputs": [
    {
     "data": {
      "application/vnd.plotly.v1+json": {
       "config": {
        "plotlyServerURL": "https://plot.ly"
       },
       "data": [
        {
         "alignmentgroup": "True",
         "hovertemplate": "STATE=%{x}<br>JULY=%{y}<extra></extra>",
         "legendgroup": "ABIA STATE",
         "marker": {
          "color": "#636efa"
         },
         "name": "ABIA STATE",
         "offsetgroup": "ABIA STATE",
         "orientation": "v",
         "showlegend": true,
         "textposition": "outside",
         "texttemplate": "%{text:.4s}",
         "type": "bar",
         "x": [
          "ABIA STATE"
         ],
         "xaxis": "x",
         "y": [
          2734858404
         ],
         "yaxis": "y"
        },
        {
         "alignmentgroup": "True",
         "hovertemplate": "STATE=%{x}<br>JULY=%{y}<extra></extra>",
         "legendgroup": "ADAMAWA STATE",
         "marker": {
          "color": "#EF553B"
         },
         "name": "ADAMAWA STATE",
         "offsetgroup": "ADAMAWA STATE",
         "orientation": "v",
         "showlegend": true,
         "textposition": "outside",
         "texttemplate": "%{text:.4s}",
         "type": "bar",
         "x": [
          "ADAMAWA STATE"
         ],
         "xaxis": "x",
         "y": [
          3422409363
         ],
         "yaxis": "y"
        },
        {
         "alignmentgroup": "True",
         "hovertemplate": "STATE=%{x}<br>JULY=%{y}<extra></extra>",
         "legendgroup": "AKWA IBOW STATE",
         "marker": {
          "color": "#00cc96"
         },
         "name": "AKWA IBOW STATE",
         "offsetgroup": "AKWA IBOW STATE",
         "orientation": "v",
         "showlegend": true,
         "textposition": "outside",
         "texttemplate": "%{text:.4s}",
         "type": "bar",
         "x": [
          "AKWA IBOW STATE"
         ],
         "xaxis": "x",
         "y": [
          4587373302
         ],
         "yaxis": "y"
        },
        {
         "alignmentgroup": "True",
         "hovertemplate": "STATE=%{x}<br>JULY=%{y}<extra></extra>",
         "legendgroup": "ANAMBRA STATE",
         "marker": {
          "color": "#ab63fa"
         },
         "name": "ANAMBRA STATE",
         "offsetgroup": "ANAMBRA STATE",
         "orientation": "v",
         "showlegend": true,
         "textposition": "outside",
         "texttemplate": "%{text:.4s}",
         "type": "bar",
         "x": [
          "ANAMBRA STATE"
         ],
         "xaxis": "x",
         "y": [
          3506918152
         ],
         "yaxis": "y"
        },
        {
         "alignmentgroup": "True",
         "hovertemplate": "STATE=%{x}<br>JULY=%{y}<extra></extra>",
         "legendgroup": "BAUCHI STATE",
         "marker": {
          "color": "#FFA15A"
         },
         "name": "BAUCHI STATE",
         "offsetgroup": "BAUCHI STATE",
         "orientation": "v",
         "showlegend": true,
         "textposition": "outside",
         "texttemplate": "%{text:.4s}",
         "type": "bar",
         "x": [
          "BAUCHI STATE"
         ],
         "xaxis": "x",
         "y": [
          3878092965
         ],
         "yaxis": "y"
        },
        {
         "alignmentgroup": "True",
         "hovertemplate": "STATE=%{x}<br>JULY=%{y}<extra></extra>",
         "legendgroup": "BAYELSA STATE",
         "marker": {
          "color": "#19d3f3"
         },
         "name": "BAYELSA STATE",
         "offsetgroup": "BAYELSA STATE",
         "orientation": "v",
         "showlegend": true,
         "textposition": "outside",
         "texttemplate": "%{text:.4s}",
         "type": "bar",
         "x": [
          "BAYELSA STATE"
         ],
         "xaxis": "x",
         "y": [
          1568937191
         ],
         "yaxis": "y"
        },
        {
         "alignmentgroup": "True",
         "hovertemplate": "STATE=%{x}<br>JULY=%{y}<extra></extra>",
         "legendgroup": "BENUE STATE",
         "marker": {
          "color": "#FF6692"
         },
         "name": "BENUE STATE",
         "offsetgroup": "BENUE STATE",
         "orientation": "v",
         "showlegend": true,
         "textposition": "outside",
         "texttemplate": "%{text:.4s}",
         "type": "bar",
         "x": [
          "BENUE STATE"
         ],
         "xaxis": "x",
         "y": [
          4159104745
         ],
         "yaxis": "y"
        },
        {
         "alignmentgroup": "True",
         "hovertemplate": "STATE=%{x}<br>JULY=%{y}<extra></extra>",
         "legendgroup": "BORNO STATE",
         "marker": {
          "color": "#B6E880"
         },
         "name": "BORNO STATE",
         "offsetgroup": "BORNO STATE",
         "orientation": "v",
         "showlegend": true,
         "textposition": "outside",
         "texttemplate": "%{text:.4s}",
         "type": "bar",
         "x": [
          "BORNO STATE"
         ],
         "xaxis": "x",
         "y": [
          4545066619
         ],
         "yaxis": "y"
        },
        {
         "alignmentgroup": "True",
         "hovertemplate": "STATE=%{x}<br>JULY=%{y}<extra></extra>",
         "legendgroup": "CROSS-RIVER STATE",
         "marker": {
          "color": "#FF97FF"
         },
         "name": "CROSS-RIVER STATE",
         "offsetgroup": "CROSS-RIVER STATE",
         "orientation": "v",
         "showlegend": true,
         "textposition": "outside",
         "texttemplate": "%{text:.4s}",
         "type": "bar",
         "x": [
          "CROSS-RIVER STATE"
         ],
         "xaxis": "x",
         "y": [
          2962334529
         ],
         "yaxis": "y"
        },
        {
         "alignmentgroup": "True",
         "hovertemplate": "STATE=%{x}<br>JULY=%{y}<extra></extra>",
         "legendgroup": "DELTA STATE",
         "marker": {
          "color": "#FECB52"
         },
         "name": "DELTA STATE",
         "offsetgroup": "DELTA STATE",
         "orientation": "v",
         "showlegend": true,
         "textposition": "outside",
         "texttemplate": "%{text:.4s}",
         "type": "bar",
         "x": [
          "DELTA STATE"
         ],
         "xaxis": "x",
         "y": [
          3967940067
         ],
         "yaxis": "y"
        },
        {
         "alignmentgroup": "True",
         "hovertemplate": "STATE=%{x}<br>JULY=%{y}<extra></extra>",
         "legendgroup": "EBONYI STATE",
         "marker": {
          "color": "#636efa"
         },
         "name": "EBONYI STATE",
         "offsetgroup": "EBONYI STATE",
         "orientation": "v",
         "showlegend": true,
         "textposition": "outside",
         "texttemplate": "%{text:.4s}",
         "type": "bar",
         "x": [
          "EBONYI STATE"
         ],
         "xaxis": "x",
         "y": [
          2214383863
         ],
         "yaxis": "y"
        },
        {
         "alignmentgroup": "True",
         "hovertemplate": "STATE=%{x}<br>JULY=%{y}<extra></extra>",
         "legendgroup": "EDO STATE",
         "marker": {
          "color": "#EF553B"
         },
         "name": "EDO STATE",
         "offsetgroup": "EDO STATE",
         "orientation": "v",
         "showlegend": true,
         "textposition": "outside",
         "texttemplate": "%{text:.4s}",
         "type": "bar",
         "x": [
          "EDO STATE"
         ],
         "xaxis": "x",
         "y": [
          2960451005
         ],
         "yaxis": "y"
        },
        {
         "alignmentgroup": "True",
         "hovertemplate": "STATE=%{x}<br>JULY=%{y}<extra></extra>",
         "legendgroup": "EKITI STATE",
         "marker": {
          "color": "#00cc96"
         },
         "name": "EKITI STATE",
         "offsetgroup": "EKITI STATE",
         "orientation": "v",
         "showlegend": true,
         "textposition": "outside",
         "texttemplate": "%{text:.4s}",
         "type": "bar",
         "x": [
          "EKITI STATE"
         ],
         "xaxis": "x",
         "y": [
          2384508272
         ],
         "yaxis": "y"
        },
        {
         "alignmentgroup": "True",
         "hovertemplate": "STATE=%{x}<br>JULY=%{y}<extra></extra>",
         "legendgroup": "ENUGU STATE",
         "marker": {
          "color": "#ab63fa"
         },
         "name": "ENUGU STATE",
         "offsetgroup": "ENUGU STATE",
         "orientation": "v",
         "showlegend": true,
         "textposition": "outside",
         "texttemplate": "%{text:.4s}",
         "type": "bar",
         "x": [
          "ENUGU STATE"
         ],
         "xaxis": "x",
         "y": [
          2989409511
         ],
         "yaxis": "y"
        },
        {
         "alignmentgroup": "True",
         "hovertemplate": "STATE=%{x}<br>JULY=%{y}<extra></extra>",
         "legendgroup": "GOMBE STATE",
         "marker": {
          "color": "#FFA15A"
         },
         "name": "GOMBE STATE",
         "offsetgroup": "GOMBE STATE",
         "orientation": "v",
         "showlegend": true,
         "textposition": "outside",
         "texttemplate": "%{text:.4s}",
         "type": "bar",
         "x": [
          "GOMBE STATE"
         ],
         "xaxis": "x",
         "y": [
          2038133101
         ],
         "yaxis": "y"
        },
        {
         "alignmentgroup": "True",
         "hovertemplate": "STATE=%{x}<br>JULY=%{y}<extra></extra>",
         "legendgroup": "IMO STATE",
         "marker": {
          "color": "#19d3f3"
         },
         "name": "IMO STATE",
         "offsetgroup": "IMO STATE",
         "orientation": "v",
         "showlegend": true,
         "textposition": "outside",
         "texttemplate": "%{text:.4s}",
         "type": "bar",
         "x": [
          "IMO STATE"
         ],
         "xaxis": "x",
         "y": [
          4039068240
         ],
         "yaxis": "y"
        },
        {
         "alignmentgroup": "True",
         "hovertemplate": "STATE=%{x}<br>JULY=%{y}<extra></extra>",
         "legendgroup": "JIGAWA STATE",
         "marker": {
          "color": "#FF6692"
         },
         "name": "JIGAWA STATE",
         "offsetgroup": "JIGAWA STATE",
         "orientation": "v",
         "showlegend": true,
         "textposition": "outside",
         "texttemplate": "%{text:.4s}",
         "type": "bar",
         "x": [
          "JIGAWA STATE"
         ],
         "xaxis": "x",
         "y": [
          4228315347
         ],
         "yaxis": "y"
        },
        {
         "alignmentgroup": "True",
         "hovertemplate": "STATE=%{x}<br>JULY=%{y}<extra></extra>",
         "legendgroup": "KADUNA STATE",
         "marker": {
          "color": "#B6E880"
         },
         "name": "KADUNA STATE",
         "offsetgroup": "KADUNA STATE",
         "orientation": "v",
         "showlegend": true,
         "textposition": "outside",
         "texttemplate": "%{text:.4s}",
         "type": "bar",
         "x": [
          "KADUNA STATE"
         ],
         "xaxis": "x",
         "y": [
          4717186724
         ],
         "yaxis": "y"
        },
        {
         "alignmentgroup": "True",
         "hovertemplate": "STATE=%{x}<br>JULY=%{y}<extra></extra>",
         "legendgroup": "KANO STATE",
         "marker": {
          "color": "#FF97FF"
         },
         "name": "KANO STATE",
         "offsetgroup": "KANO STATE",
         "orientation": "v",
         "showlegend": true,
         "textposition": "outside",
         "texttemplate": "%{text:.4s}",
         "type": "bar",
         "x": [
          "KANO STATE"
         ],
         "xaxis": "x",
         "y": [
          7697555252
         ],
         "yaxis": "y"
        },
        {
         "alignmentgroup": "True",
         "hovertemplate": "STATE=%{x}<br>JULY=%{y}<extra></extra>",
         "legendgroup": "KATSINA STATE",
         "marker": {
          "color": "#FECB52"
         },
         "name": "KATSINA STATE",
         "offsetgroup": "KATSINA STATE",
         "orientation": "v",
         "showlegend": true,
         "textposition": "outside",
         "texttemplate": "%{text:.4s}",
         "type": "bar",
         "x": [
          "KATSINA STATE"
         ],
         "xaxis": "x",
         "y": [
          5670713594
         ],
         "yaxis": "y"
        },
        {
         "alignmentgroup": "True",
         "hovertemplate": "STATE=%{x}<br>JULY=%{y}<extra></extra>",
         "legendgroup": "KEBBI STATE",
         "marker": {
          "color": "#636efa"
         },
         "name": "KEBBI STATE",
         "offsetgroup": "KEBBI STATE",
         "orientation": "v",
         "showlegend": true,
         "textposition": "outside",
         "texttemplate": "%{text:.4s}",
         "type": "bar",
         "x": [
          "KEBBI STATE"
         ],
         "xaxis": "x",
         "y": [
          3527173741
         ],
         "yaxis": "y"
        },
        {
         "alignmentgroup": "True",
         "hovertemplate": "STATE=%{x}<br>JULY=%{y}<extra></extra>",
         "legendgroup": "KOGI STATE",
         "marker": {
          "color": "#EF553B"
         },
         "name": "KOGI STATE",
         "offsetgroup": "KOGI STATE",
         "orientation": "v",
         "showlegend": true,
         "textposition": "outside",
         "texttemplate": "%{text:.4s}",
         "type": "bar",
         "x": [
          "KOGI STATE"
         ],
         "xaxis": "x",
         "y": [
          3629534074
         ],
         "yaxis": "y"
        },
        {
         "alignmentgroup": "True",
         "hovertemplate": "STATE=%{x}<br>JULY=%{y}<extra></extra>",
         "legendgroup": "KWARA STATE",
         "marker": {
          "color": "#00cc96"
         },
         "name": "KWARA STATE",
         "offsetgroup": "KWARA STATE",
         "orientation": "v",
         "showlegend": true,
         "textposition": "outside",
         "texttemplate": "%{text:.4s}",
         "type": "bar",
         "x": [
          "KWARA STATE"
         ],
         "xaxis": "x",
         "y": [
          2616081618
         ],
         "yaxis": "y"
        },
        {
         "alignmentgroup": "True",
         "hovertemplate": "STATE=%{x}<br>JULY=%{y}<extra></extra>",
         "legendgroup": "LAGOS STATE",
         "marker": {
          "color": "#ab63fa"
         },
         "name": "LAGOS STATE",
         "offsetgroup": "LAGOS STATE",
         "orientation": "v",
         "showlegend": true,
         "textposition": "outside",
         "texttemplate": "%{text:.4s}",
         "type": "bar",
         "x": [
          "LAGOS STATE"
         ],
         "xaxis": "x",
         "y": [
          10157844006
         ],
         "yaxis": "y"
        },
        {
         "alignmentgroup": "True",
         "hovertemplate": "STATE=%{x}<br>JULY=%{y}<extra></extra>",
         "legendgroup": "NASARAWA STATE",
         "marker": {
          "color": "#FFA15A"
         },
         "name": "NASARAWA STATE",
         "offsetgroup": "NASARAWA STATE",
         "orientation": "v",
         "showlegend": true,
         "textposition": "outside",
         "texttemplate": "%{text:.4s}",
         "type": "bar",
         "x": [
          "NASARAWA STATE"
         ],
         "xaxis": "x",
         "y": [
          2267231264
         ],
         "yaxis": "y"
        },
        {
         "alignmentgroup": "True",
         "hovertemplate": "STATE=%{x}<br>JULY=%{y}<extra></extra>",
         "legendgroup": "NIGER STATE",
         "marker": {
          "color": "#19d3f3"
         },
         "name": "NIGER STATE",
         "offsetgroup": "NIGER STATE",
         "orientation": "v",
         "showlegend": true,
         "textposition": "outside",
         "texttemplate": "%{text:.4s}",
         "type": "bar",
         "x": [
          "NIGER STATE"
         ],
         "xaxis": "x",
         "y": [
          4271266830
         ],
         "yaxis": "y"
        },
        {
         "alignmentgroup": "True",
         "hovertemplate": "STATE=%{x}<br>JULY=%{y}<extra></extra>",
         "legendgroup": "OGUN STATE",
         "marker": {
          "color": "#FF6692"
         },
         "name": "OGUN STATE",
         "offsetgroup": "OGUN STATE",
         "orientation": "v",
         "showlegend": true,
         "textposition": "outside",
         "texttemplate": "%{text:.4s}",
         "type": "bar",
         "x": [
          "OGUN STATE"
         ],
         "xaxis": "x",
         "y": [
          3206284561
         ],
         "yaxis": "y"
        },
        {
         "alignmentgroup": "True",
         "hovertemplate": "STATE=%{x}<br>JULY=%{y}<extra></extra>",
         "legendgroup": "ONDO STATE",
         "marker": {
          "color": "#B6E880"
         },
         "name": "ONDO STATE",
         "offsetgroup": "ONDO STATE",
         "orientation": "v",
         "showlegend": true,
         "textposition": "outside",
         "texttemplate": "%{text:.4s}",
         "type": "bar",
         "x": [
          "ONDO STATE"
         ],
         "xaxis": "x",
         "y": [
          2994371633
         ],
         "yaxis": "y"
        },
        {
         "alignmentgroup": "True",
         "hovertemplate": "STATE=%{x}<br>JULY=%{y}<extra></extra>",
         "legendgroup": "OSUN STATE",
         "marker": {
          "color": "#FF97FF"
         },
         "name": "OSUN STATE",
         "offsetgroup": "OSUN STATE",
         "orientation": "v",
         "showlegend": true,
         "textposition": "outside",
         "texttemplate": "%{text:.4s}",
         "type": "bar",
         "x": [
          "OSUN STATE"
         ],
         "xaxis": "x",
         "y": [
          4095063233
         ],
         "yaxis": "y"
        },
        {
         "alignmentgroup": "True",
         "hovertemplate": "STATE=%{x}<br>JULY=%{y}<extra></extra>",
         "legendgroup": "OYO STATE",
         "marker": {
          "color": "#FECB52"
         },
         "name": "OYO STATE",
         "offsetgroup": "OYO STATE",
         "orientation": "v",
         "showlegend": true,
         "textposition": "outside",
         "texttemplate": "%{text:.4s}",
         "type": "bar",
         "x": [
          "OYO STATE"
         ],
         "xaxis": "x",
         "y": [
          5303155641
         ],
         "yaxis": "y"
        },
        {
         "alignmentgroup": "True",
         "hovertemplate": "STATE=%{x}<br>JULY=%{y}<extra></extra>",
         "legendgroup": "PLATEAU STATE",
         "marker": {
          "color": "#636efa"
         },
         "name": "PLATEAU STATE",
         "offsetgroup": "PLATEAU STATE",
         "orientation": "v",
         "showlegend": true,
         "textposition": "outside",
         "texttemplate": "%{text:.4s}",
         "type": "bar",
         "x": [
          "PLATEAU STATE"
         ],
         "xaxis": "x",
         "y": [
          3105972115
         ],
         "yaxis": "y"
        },
        {
         "alignmentgroup": "True",
         "hovertemplate": "STATE=%{x}<br>JULY=%{y}<extra></extra>",
         "legendgroup": "RIVERS STATE",
         "marker": {
          "color": "#EF553B"
         },
         "name": "RIVERS STATE",
         "offsetgroup": "RIVERS STATE",
         "orientation": "v",
         "showlegend": true,
         "textposition": "outside",
         "texttemplate": "%{text:.4s}",
         "type": "bar",
         "x": [
          "RIVERS STATE"
         ],
         "xaxis": "x",
         "y": [
          4367258097
         ],
         "yaxis": "y"
        },
        {
         "alignmentgroup": "True",
         "hovertemplate": "STATE=%{x}<br>JULY=%{y}<extra></extra>",
         "legendgroup": "SOKOTO STATE",
         "marker": {
          "color": "#00cc96"
         },
         "name": "SOKOTO STATE",
         "offsetgroup": "SOKOTO STATE",
         "orientation": "v",
         "showlegend": true,
         "textposition": "outside",
         "texttemplate": "%{text:.4s}",
         "type": "bar",
         "x": [
          "SOKOTO STATE"
         ],
         "xaxis": "x",
         "y": [
          3900967805
         ],
         "yaxis": "y"
        },
        {
         "alignmentgroup": "True",
         "hovertemplate": "STATE=%{x}<br>JULY=%{y}<extra></extra>",
         "legendgroup": "TARABA STATE",
         "marker": {
          "color": "#ab63fa"
         },
         "name": "TARABA STATE",
         "offsetgroup": "TARABA STATE",
         "orientation": "v",
         "showlegend": true,
         "textposition": "outside",
         "texttemplate": "%{text:.4s}",
         "type": "bar",
         "x": [
          "TARABA STATE"
         ],
         "xaxis": "x",
         "y": [
          2850972429
         ],
         "yaxis": "y"
        },
        {
         "alignmentgroup": "True",
         "hovertemplate": "STATE=%{x}<br>JULY=%{y}<extra></extra>",
         "legendgroup": "YOBE STATE",
         "marker": {
          "color": "#FFA15A"
         },
         "name": "YOBE STATE",
         "offsetgroup": "YOBE STATE",
         "orientation": "v",
         "showlegend": true,
         "textposition": "outside",
         "texttemplate": "%{text:.4s}",
         "type": "bar",
         "x": [
          "YOBE STATE"
         ],
         "xaxis": "x",
         "y": [
          2894216501
         ],
         "yaxis": "y"
        },
        {
         "alignmentgroup": "True",
         "hovertemplate": "STATE=%{x}<br>JULY=%{y}<extra></extra>",
         "legendgroup": "ZAMFARA STATE",
         "marker": {
          "color": "#19d3f3"
         },
         "name": "ZAMFARA STATE",
         "offsetgroup": "ZAMFARA STATE",
         "orientation": "v",
         "showlegend": true,
         "textposition": "outside",
         "texttemplate": "%{text:.4s}",
         "type": "bar",
         "x": [
          "ZAMFARA STATE"
         ],
         "xaxis": "x",
         "y": [
          2678420521
         ],
         "yaxis": "y"
        },
        {
         "alignmentgroup": "True",
         "hovertemplate": "STATE=%{x}<br>JULY=%{y}<extra></extra>",
         "legendgroup": "FEDERAL CAPITAL TERRITORY (FCT)",
         "marker": {
          "color": "#FF6692"
         },
         "name": "FEDERAL CAPITAL TERRITORY (FCT)",
         "offsetgroup": "FEDERAL CAPITAL TERRITORY (FCT)",
         "orientation": "v",
         "showlegend": true,
         "textposition": "outside",
         "texttemplate": "%{text:.4s}",
         "type": "bar",
         "x": [
          "FEDERAL CAPITAL TERRITORY (FCT)"
         ],
         "xaxis": "x",
         "y": [
          2821770606
         ],
         "yaxis": "y"
        }
       ],
       "layout": {
        "barmode": "relative",
        "height": 750,
        "legend": {
         "title": {
          "text": "STATE"
         },
         "tracegroupgap": 0
        },
        "margin": {
         "t": 60
        },
        "template": {
         "data": {
          "bar": [
           {
            "error_x": {
             "color": "#2a3f5f"
            },
            "error_y": {
             "color": "#2a3f5f"
            },
            "marker": {
             "line": {
              "color": "#E5ECF6",
              "width": 0.5
             }
            },
            "type": "bar"
           }
          ],
          "barpolar": [
           {
            "marker": {
             "line": {
              "color": "#E5ECF6",
              "width": 0.5
             }
            },
            "type": "barpolar"
           }
          ],
          "carpet": [
           {
            "aaxis": {
             "endlinecolor": "#2a3f5f",
             "gridcolor": "white",
             "linecolor": "white",
             "minorgridcolor": "white",
             "startlinecolor": "#2a3f5f"
            },
            "baxis": {
             "endlinecolor": "#2a3f5f",
             "gridcolor": "white",
             "linecolor": "white",
             "minorgridcolor": "white",
             "startlinecolor": "#2a3f5f"
            },
            "type": "carpet"
           }
          ],
          "choropleth": [
           {
            "colorbar": {
             "outlinewidth": 0,
             "ticks": ""
            },
            "type": "choropleth"
           }
          ],
          "contour": [
           {
            "colorbar": {
             "outlinewidth": 0,
             "ticks": ""
            },
            "colorscale": [
             [
              0,
              "#0d0887"
             ],
             [
              0.1111111111111111,
              "#46039f"
             ],
             [
              0.2222222222222222,
              "#7201a8"
             ],
             [
              0.3333333333333333,
              "#9c179e"
             ],
             [
              0.4444444444444444,
              "#bd3786"
             ],
             [
              0.5555555555555556,
              "#d8576b"
             ],
             [
              0.6666666666666666,
              "#ed7953"
             ],
             [
              0.7777777777777778,
              "#fb9f3a"
             ],
             [
              0.8888888888888888,
              "#fdca26"
             ],
             [
              1,
              "#f0f921"
             ]
            ],
            "type": "contour"
           }
          ],
          "contourcarpet": [
           {
            "colorbar": {
             "outlinewidth": 0,
             "ticks": ""
            },
            "type": "contourcarpet"
           }
          ],
          "heatmap": [
           {
            "colorbar": {
             "outlinewidth": 0,
             "ticks": ""
            },
            "colorscale": [
             [
              0,
              "#0d0887"
             ],
             [
              0.1111111111111111,
              "#46039f"
             ],
             [
              0.2222222222222222,
              "#7201a8"
             ],
             [
              0.3333333333333333,
              "#9c179e"
             ],
             [
              0.4444444444444444,
              "#bd3786"
             ],
             [
              0.5555555555555556,
              "#d8576b"
             ],
             [
              0.6666666666666666,
              "#ed7953"
             ],
             [
              0.7777777777777778,
              "#fb9f3a"
             ],
             [
              0.8888888888888888,
              "#fdca26"
             ],
             [
              1,
              "#f0f921"
             ]
            ],
            "type": "heatmap"
           }
          ],
          "heatmapgl": [
           {
            "colorbar": {
             "outlinewidth": 0,
             "ticks": ""
            },
            "colorscale": [
             [
              0,
              "#0d0887"
             ],
             [
              0.1111111111111111,
              "#46039f"
             ],
             [
              0.2222222222222222,
              "#7201a8"
             ],
             [
              0.3333333333333333,
              "#9c179e"
             ],
             [
              0.4444444444444444,
              "#bd3786"
             ],
             [
              0.5555555555555556,
              "#d8576b"
             ],
             [
              0.6666666666666666,
              "#ed7953"
             ],
             [
              0.7777777777777778,
              "#fb9f3a"
             ],
             [
              0.8888888888888888,
              "#fdca26"
             ],
             [
              1,
              "#f0f921"
             ]
            ],
            "type": "heatmapgl"
           }
          ],
          "histogram": [
           {
            "marker": {
             "colorbar": {
              "outlinewidth": 0,
              "ticks": ""
             }
            },
            "type": "histogram"
           }
          ],
          "histogram2d": [
           {
            "colorbar": {
             "outlinewidth": 0,
             "ticks": ""
            },
            "colorscale": [
             [
              0,
              "#0d0887"
             ],
             [
              0.1111111111111111,
              "#46039f"
             ],
             [
              0.2222222222222222,
              "#7201a8"
             ],
             [
              0.3333333333333333,
              "#9c179e"
             ],
             [
              0.4444444444444444,
              "#bd3786"
             ],
             [
              0.5555555555555556,
              "#d8576b"
             ],
             [
              0.6666666666666666,
              "#ed7953"
             ],
             [
              0.7777777777777778,
              "#fb9f3a"
             ],
             [
              0.8888888888888888,
              "#fdca26"
             ],
             [
              1,
              "#f0f921"
             ]
            ],
            "type": "histogram2d"
           }
          ],
          "histogram2dcontour": [
           {
            "colorbar": {
             "outlinewidth": 0,
             "ticks": ""
            },
            "colorscale": [
             [
              0,
              "#0d0887"
             ],
             [
              0.1111111111111111,
              "#46039f"
             ],
             [
              0.2222222222222222,
              "#7201a8"
             ],
             [
              0.3333333333333333,
              "#9c179e"
             ],
             [
              0.4444444444444444,
              "#bd3786"
             ],
             [
              0.5555555555555556,
              "#d8576b"
             ],
             [
              0.6666666666666666,
              "#ed7953"
             ],
             [
              0.7777777777777778,
              "#fb9f3a"
             ],
             [
              0.8888888888888888,
              "#fdca26"
             ],
             [
              1,
              "#f0f921"
             ]
            ],
            "type": "histogram2dcontour"
           }
          ],
          "mesh3d": [
           {
            "colorbar": {
             "outlinewidth": 0,
             "ticks": ""
            },
            "type": "mesh3d"
           }
          ],
          "parcoords": [
           {
            "line": {
             "colorbar": {
              "outlinewidth": 0,
              "ticks": ""
             }
            },
            "type": "parcoords"
           }
          ],
          "pie": [
           {
            "automargin": true,
            "type": "pie"
           }
          ],
          "scatter": [
           {
            "marker": {
             "colorbar": {
              "outlinewidth": 0,
              "ticks": ""
             }
            },
            "type": "scatter"
           }
          ],
          "scatter3d": [
           {
            "line": {
             "colorbar": {
              "outlinewidth": 0,
              "ticks": ""
             }
            },
            "marker": {
             "colorbar": {
              "outlinewidth": 0,
              "ticks": ""
             }
            },
            "type": "scatter3d"
           }
          ],
          "scattercarpet": [
           {
            "marker": {
             "colorbar": {
              "outlinewidth": 0,
              "ticks": ""
             }
            },
            "type": "scattercarpet"
           }
          ],
          "scattergeo": [
           {
            "marker": {
             "colorbar": {
              "outlinewidth": 0,
              "ticks": ""
             }
            },
            "type": "scattergeo"
           }
          ],
          "scattergl": [
           {
            "marker": {
             "colorbar": {
              "outlinewidth": 0,
              "ticks": ""
             }
            },
            "type": "scattergl"
           }
          ],
          "scattermapbox": [
           {
            "marker": {
             "colorbar": {
              "outlinewidth": 0,
              "ticks": ""
             }
            },
            "type": "scattermapbox"
           }
          ],
          "scatterpolar": [
           {
            "marker": {
             "colorbar": {
              "outlinewidth": 0,
              "ticks": ""
             }
            },
            "type": "scatterpolar"
           }
          ],
          "scatterpolargl": [
           {
            "marker": {
             "colorbar": {
              "outlinewidth": 0,
              "ticks": ""
             }
            },
            "type": "scatterpolargl"
           }
          ],
          "scatterternary": [
           {
            "marker": {
             "colorbar": {
              "outlinewidth": 0,
              "ticks": ""
             }
            },
            "type": "scatterternary"
           }
          ],
          "surface": [
           {
            "colorbar": {
             "outlinewidth": 0,
             "ticks": ""
            },
            "colorscale": [
             [
              0,
              "#0d0887"
             ],
             [
              0.1111111111111111,
              "#46039f"
             ],
             [
              0.2222222222222222,
              "#7201a8"
             ],
             [
              0.3333333333333333,
              "#9c179e"
             ],
             [
              0.4444444444444444,
              "#bd3786"
             ],
             [
              0.5555555555555556,
              "#d8576b"
             ],
             [
              0.6666666666666666,
              "#ed7953"
             ],
             [
              0.7777777777777778,
              "#fb9f3a"
             ],
             [
              0.8888888888888888,
              "#fdca26"
             ],
             [
              1,
              "#f0f921"
             ]
            ],
            "type": "surface"
           }
          ],
          "table": [
           {
            "cells": {
             "fill": {
              "color": "#EBF0F8"
             },
             "line": {
              "color": "white"
             }
            },
            "header": {
             "fill": {
              "color": "#C8D4E3"
             },
             "line": {
              "color": "white"
             }
            },
            "type": "table"
           }
          ]
         },
         "layout": {
          "annotationdefaults": {
           "arrowcolor": "#2a3f5f",
           "arrowhead": 0,
           "arrowwidth": 1
          },
          "autotypenumbers": "strict",
          "coloraxis": {
           "colorbar": {
            "outlinewidth": 0,
            "ticks": ""
           }
          },
          "colorscale": {
           "diverging": [
            [
             0,
             "#8e0152"
            ],
            [
             0.1,
             "#c51b7d"
            ],
            [
             0.2,
             "#de77ae"
            ],
            [
             0.3,
             "#f1b6da"
            ],
            [
             0.4,
             "#fde0ef"
            ],
            [
             0.5,
             "#f7f7f7"
            ],
            [
             0.6,
             "#e6f5d0"
            ],
            [
             0.7,
             "#b8e186"
            ],
            [
             0.8,
             "#7fbc41"
            ],
            [
             0.9,
             "#4d9221"
            ],
            [
             1,
             "#276419"
            ]
           ],
           "sequential": [
            [
             0,
             "#0d0887"
            ],
            [
             0.1111111111111111,
             "#46039f"
            ],
            [
             0.2222222222222222,
             "#7201a8"
            ],
            [
             0.3333333333333333,
             "#9c179e"
            ],
            [
             0.4444444444444444,
             "#bd3786"
            ],
            [
             0.5555555555555556,
             "#d8576b"
            ],
            [
             0.6666666666666666,
             "#ed7953"
            ],
            [
             0.7777777777777778,
             "#fb9f3a"
            ],
            [
             0.8888888888888888,
             "#fdca26"
            ],
            [
             1,
             "#f0f921"
            ]
           ],
           "sequentialminus": [
            [
             0,
             "#0d0887"
            ],
            [
             0.1111111111111111,
             "#46039f"
            ],
            [
             0.2222222222222222,
             "#7201a8"
            ],
            [
             0.3333333333333333,
             "#9c179e"
            ],
            [
             0.4444444444444444,
             "#bd3786"
            ],
            [
             0.5555555555555556,
             "#d8576b"
            ],
            [
             0.6666666666666666,
             "#ed7953"
            ],
            [
             0.7777777777777778,
             "#fb9f3a"
            ],
            [
             0.8888888888888888,
             "#fdca26"
            ],
            [
             1,
             "#f0f921"
            ]
           ]
          },
          "colorway": [
           "#636efa",
           "#EF553B",
           "#00cc96",
           "#ab63fa",
           "#FFA15A",
           "#19d3f3",
           "#FF6692",
           "#B6E880",
           "#FF97FF",
           "#FECB52"
          ],
          "font": {
           "color": "#2a3f5f"
          },
          "geo": {
           "bgcolor": "white",
           "lakecolor": "white",
           "landcolor": "#E5ECF6",
           "showlakes": true,
           "showland": true,
           "subunitcolor": "white"
          },
          "hoverlabel": {
           "align": "left"
          },
          "hovermode": "closest",
          "mapbox": {
           "style": "light"
          },
          "paper_bgcolor": "white",
          "plot_bgcolor": "#E5ECF6",
          "polar": {
           "angularaxis": {
            "gridcolor": "white",
            "linecolor": "white",
            "ticks": ""
           },
           "bgcolor": "#E5ECF6",
           "radialaxis": {
            "gridcolor": "white",
            "linecolor": "white",
            "ticks": ""
           }
          },
          "scene": {
           "xaxis": {
            "backgroundcolor": "#E5ECF6",
            "gridcolor": "white",
            "gridwidth": 2,
            "linecolor": "white",
            "showbackground": true,
            "ticks": "",
            "zerolinecolor": "white"
           },
           "yaxis": {
            "backgroundcolor": "#E5ECF6",
            "gridcolor": "white",
            "gridwidth": 2,
            "linecolor": "white",
            "showbackground": true,
            "ticks": "",
            "zerolinecolor": "white"
           },
           "zaxis": {
            "backgroundcolor": "#E5ECF6",
            "gridcolor": "white",
            "gridwidth": 2,
            "linecolor": "white",
            "showbackground": true,
            "ticks": "",
            "zerolinecolor": "white"
           }
          },
          "shapedefaults": {
           "line": {
            "color": "#2a3f5f"
           }
          },
          "ternary": {
           "aaxis": {
            "gridcolor": "white",
            "linecolor": "white",
            "ticks": ""
           },
           "baxis": {
            "gridcolor": "white",
            "linecolor": "white",
            "ticks": ""
           },
           "bgcolor": "#E5ECF6",
           "caxis": {
            "gridcolor": "white",
            "linecolor": "white",
            "ticks": ""
           }
          },
          "title": {
           "x": 0.05
          },
          "xaxis": {
           "automargin": true,
           "gridcolor": "white",
           "linecolor": "white",
           "ticks": "",
           "title": {
            "standoff": 15
           },
           "zerolinecolor": "white",
           "zerolinewidth": 2
          },
          "yaxis": {
           "automargin": true,
           "gridcolor": "white",
           "linecolor": "white",
           "ticks": "",
           "title": {
            "standoff": 15
           },
           "zerolinecolor": "white",
           "zerolinewidth": 2
          }
         }
        },
        "title": {
         "text": "FAAC_2020",
         "x": 0.5,
         "y": 0.8
        },
        "uniformtext": {
         "minsize": 8,
         "mode": "hide"
        },
        "width": 1000,
        "xaxis": {
         "anchor": "y",
         "categoryarray": [
          "ABIA STATE",
          "ADAMAWA STATE",
          "AKWA IBOW STATE",
          "ANAMBRA STATE",
          "BAUCHI STATE",
          "BAYELSA STATE",
          "BENUE STATE",
          "BORNO STATE",
          "CROSS-RIVER STATE",
          "DELTA STATE",
          "EBONYI STATE",
          "EDO STATE",
          "EKITI STATE",
          "ENUGU STATE",
          "GOMBE STATE",
          "IMO STATE",
          "JIGAWA STATE",
          "KADUNA STATE",
          "KANO STATE",
          "KATSINA STATE",
          "KEBBI STATE",
          "KOGI STATE",
          "KWARA STATE",
          "LAGOS STATE",
          "NASARAWA STATE",
          "NIGER STATE",
          "OGUN STATE",
          "ONDO STATE",
          "OSUN STATE",
          "OYO STATE",
          "PLATEAU STATE",
          "RIVERS STATE",
          "SOKOTO STATE",
          "TARABA STATE",
          "YOBE STATE",
          "ZAMFARA STATE",
          "FEDERAL CAPITAL TERRITORY (FCT)"
         ],
         "categoryorder": "array",
         "domain": [
          0,
          1
         ],
         "title": {
          "text": "STATE"
         }
        },
        "yaxis": {
         "anchor": "x",
         "domain": [
          0,
          1
         ],
         "title": {
          "text": "JULY"
         }
        }
       }
      },
      "text/html": [
       "<div>                            <div id=\"5f2d138a-ab9e-45e8-ae1a-d9da4554dbf0\" class=\"plotly-graph-div\" style=\"height:750px; width:1000px;\"></div>            <script type=\"text/javascript\">                require([\"plotly\"], function(Plotly) {                    window.PLOTLYENV=window.PLOTLYENV || {};                                    if (document.getElementById(\"5f2d138a-ab9e-45e8-ae1a-d9da4554dbf0\")) {                    Plotly.newPlot(                        \"5f2d138a-ab9e-45e8-ae1a-d9da4554dbf0\",                        [{\"alignmentgroup\": \"True\", \"hovertemplate\": \"STATE=%{x}<br>JULY=%{y}<extra></extra>\", \"legendgroup\": \"ABIA STATE\", \"marker\": {\"color\": \"#636efa\"}, \"name\": \"ABIA STATE\", \"offsetgroup\": \"ABIA STATE\", \"orientation\": \"v\", \"showlegend\": true, \"textposition\": \"outside\", \"texttemplate\": \"%{text:.4s}\", \"type\": \"bar\", \"x\": [\"ABIA STATE\"], \"xaxis\": \"x\", \"y\": [2734858404], \"yaxis\": \"y\"}, {\"alignmentgroup\": \"True\", \"hovertemplate\": \"STATE=%{x}<br>JULY=%{y}<extra></extra>\", \"legendgroup\": \"ADAMAWA STATE\", \"marker\": {\"color\": \"#EF553B\"}, \"name\": \"ADAMAWA STATE\", \"offsetgroup\": \"ADAMAWA STATE\", \"orientation\": \"v\", \"showlegend\": true, \"textposition\": \"outside\", \"texttemplate\": \"%{text:.4s}\", \"type\": \"bar\", \"x\": [\"ADAMAWA STATE\"], \"xaxis\": \"x\", \"y\": [3422409363], \"yaxis\": \"y\"}, {\"alignmentgroup\": \"True\", \"hovertemplate\": \"STATE=%{x}<br>JULY=%{y}<extra></extra>\", \"legendgroup\": \"AKWA IBOW STATE\", \"marker\": {\"color\": \"#00cc96\"}, \"name\": \"AKWA IBOW STATE\", \"offsetgroup\": \"AKWA IBOW STATE\", \"orientation\": \"v\", \"showlegend\": true, \"textposition\": \"outside\", \"texttemplate\": \"%{text:.4s}\", \"type\": \"bar\", \"x\": [\"AKWA IBOW STATE\"], \"xaxis\": \"x\", \"y\": [4587373302], \"yaxis\": \"y\"}, {\"alignmentgroup\": \"True\", \"hovertemplate\": \"STATE=%{x}<br>JULY=%{y}<extra></extra>\", \"legendgroup\": \"ANAMBRA STATE\", \"marker\": {\"color\": \"#ab63fa\"}, \"name\": \"ANAMBRA STATE\", \"offsetgroup\": \"ANAMBRA STATE\", \"orientation\": \"v\", \"showlegend\": true, \"textposition\": \"outside\", \"texttemplate\": \"%{text:.4s}\", \"type\": \"bar\", \"x\": [\"ANAMBRA STATE\"], \"xaxis\": \"x\", \"y\": [3506918152], \"yaxis\": \"y\"}, {\"alignmentgroup\": \"True\", \"hovertemplate\": \"STATE=%{x}<br>JULY=%{y}<extra></extra>\", \"legendgroup\": \"BAUCHI STATE\", \"marker\": {\"color\": \"#FFA15A\"}, \"name\": \"BAUCHI STATE\", \"offsetgroup\": \"BAUCHI STATE\", \"orientation\": \"v\", \"showlegend\": true, \"textposition\": \"outside\", \"texttemplate\": \"%{text:.4s}\", \"type\": \"bar\", \"x\": [\"BAUCHI STATE\"], \"xaxis\": \"x\", \"y\": [3878092965], \"yaxis\": \"y\"}, {\"alignmentgroup\": \"True\", \"hovertemplate\": \"STATE=%{x}<br>JULY=%{y}<extra></extra>\", \"legendgroup\": \"BAYELSA STATE\", \"marker\": {\"color\": \"#19d3f3\"}, \"name\": \"BAYELSA STATE\", \"offsetgroup\": \"BAYELSA STATE\", \"orientation\": \"v\", \"showlegend\": true, \"textposition\": \"outside\", \"texttemplate\": \"%{text:.4s}\", \"type\": \"bar\", \"x\": [\"BAYELSA STATE\"], \"xaxis\": \"x\", \"y\": [1568937191], \"yaxis\": \"y\"}, {\"alignmentgroup\": \"True\", \"hovertemplate\": \"STATE=%{x}<br>JULY=%{y}<extra></extra>\", \"legendgroup\": \"BENUE STATE\", \"marker\": {\"color\": \"#FF6692\"}, \"name\": \"BENUE STATE\", \"offsetgroup\": \"BENUE STATE\", \"orientation\": \"v\", \"showlegend\": true, \"textposition\": \"outside\", \"texttemplate\": \"%{text:.4s}\", \"type\": \"bar\", \"x\": [\"BENUE STATE\"], \"xaxis\": \"x\", \"y\": [4159104745], \"yaxis\": \"y\"}, {\"alignmentgroup\": \"True\", \"hovertemplate\": \"STATE=%{x}<br>JULY=%{y}<extra></extra>\", \"legendgroup\": \"BORNO STATE\", \"marker\": {\"color\": \"#B6E880\"}, \"name\": \"BORNO STATE\", \"offsetgroup\": \"BORNO STATE\", \"orientation\": \"v\", \"showlegend\": true, \"textposition\": \"outside\", \"texttemplate\": \"%{text:.4s}\", \"type\": \"bar\", \"x\": [\"BORNO STATE\"], \"xaxis\": \"x\", \"y\": [4545066619], \"yaxis\": \"y\"}, {\"alignmentgroup\": \"True\", \"hovertemplate\": \"STATE=%{x}<br>JULY=%{y}<extra></extra>\", \"legendgroup\": \"CROSS-RIVER STATE\", \"marker\": {\"color\": \"#FF97FF\"}, \"name\": \"CROSS-RIVER STATE\", \"offsetgroup\": \"CROSS-RIVER STATE\", \"orientation\": \"v\", \"showlegend\": true, \"textposition\": \"outside\", \"texttemplate\": \"%{text:.4s}\", \"type\": \"bar\", \"x\": [\"CROSS-RIVER STATE\"], \"xaxis\": \"x\", \"y\": [2962334529], \"yaxis\": \"y\"}, {\"alignmentgroup\": \"True\", \"hovertemplate\": \"STATE=%{x}<br>JULY=%{y}<extra></extra>\", \"legendgroup\": \"DELTA STATE\", \"marker\": {\"color\": \"#FECB52\"}, \"name\": \"DELTA STATE\", \"offsetgroup\": \"DELTA STATE\", \"orientation\": \"v\", \"showlegend\": true, \"textposition\": \"outside\", \"texttemplate\": \"%{text:.4s}\", \"type\": \"bar\", \"x\": [\"DELTA STATE\"], \"xaxis\": \"x\", \"y\": [3967940067], \"yaxis\": \"y\"}, {\"alignmentgroup\": \"True\", \"hovertemplate\": \"STATE=%{x}<br>JULY=%{y}<extra></extra>\", \"legendgroup\": \"EBONYI STATE\", \"marker\": {\"color\": \"#636efa\"}, \"name\": \"EBONYI STATE\", \"offsetgroup\": \"EBONYI STATE\", \"orientation\": \"v\", \"showlegend\": true, \"textposition\": \"outside\", \"texttemplate\": \"%{text:.4s}\", \"type\": \"bar\", \"x\": [\"EBONYI STATE\"], \"xaxis\": \"x\", \"y\": [2214383863], \"yaxis\": \"y\"}, {\"alignmentgroup\": \"True\", \"hovertemplate\": \"STATE=%{x}<br>JULY=%{y}<extra></extra>\", \"legendgroup\": \"EDO STATE\", \"marker\": {\"color\": \"#EF553B\"}, \"name\": \"EDO STATE\", \"offsetgroup\": \"EDO STATE\", \"orientation\": \"v\", \"showlegend\": true, \"textposition\": \"outside\", \"texttemplate\": \"%{text:.4s}\", \"type\": \"bar\", \"x\": [\"EDO STATE\"], \"xaxis\": \"x\", \"y\": [2960451005], \"yaxis\": \"y\"}, {\"alignmentgroup\": \"True\", \"hovertemplate\": \"STATE=%{x}<br>JULY=%{y}<extra></extra>\", \"legendgroup\": \"EKITI STATE\", \"marker\": {\"color\": \"#00cc96\"}, \"name\": \"EKITI STATE\", \"offsetgroup\": \"EKITI STATE\", \"orientation\": \"v\", \"showlegend\": true, \"textposition\": \"outside\", \"texttemplate\": \"%{text:.4s}\", \"type\": \"bar\", \"x\": [\"EKITI STATE\"], \"xaxis\": \"x\", \"y\": [2384508272], \"yaxis\": \"y\"}, {\"alignmentgroup\": \"True\", \"hovertemplate\": \"STATE=%{x}<br>JULY=%{y}<extra></extra>\", \"legendgroup\": \"ENUGU STATE\", \"marker\": {\"color\": \"#ab63fa\"}, \"name\": \"ENUGU STATE\", \"offsetgroup\": \"ENUGU STATE\", \"orientation\": \"v\", \"showlegend\": true, \"textposition\": \"outside\", \"texttemplate\": \"%{text:.4s}\", \"type\": \"bar\", \"x\": [\"ENUGU STATE\"], \"xaxis\": \"x\", \"y\": [2989409511], \"yaxis\": \"y\"}, {\"alignmentgroup\": \"True\", \"hovertemplate\": \"STATE=%{x}<br>JULY=%{y}<extra></extra>\", \"legendgroup\": \"GOMBE STATE\", \"marker\": {\"color\": \"#FFA15A\"}, \"name\": \"GOMBE STATE\", \"offsetgroup\": \"GOMBE STATE\", \"orientation\": \"v\", \"showlegend\": true, \"textposition\": \"outside\", \"texttemplate\": \"%{text:.4s}\", \"type\": \"bar\", \"x\": [\"GOMBE STATE\"], \"xaxis\": \"x\", \"y\": [2038133101], \"yaxis\": \"y\"}, {\"alignmentgroup\": \"True\", \"hovertemplate\": \"STATE=%{x}<br>JULY=%{y}<extra></extra>\", \"legendgroup\": \"IMO STATE\", \"marker\": {\"color\": \"#19d3f3\"}, \"name\": \"IMO STATE\", \"offsetgroup\": \"IMO STATE\", \"orientation\": \"v\", \"showlegend\": true, \"textposition\": \"outside\", \"texttemplate\": \"%{text:.4s}\", \"type\": \"bar\", \"x\": [\"IMO STATE\"], \"xaxis\": \"x\", \"y\": [4039068240], \"yaxis\": \"y\"}, {\"alignmentgroup\": \"True\", \"hovertemplate\": \"STATE=%{x}<br>JULY=%{y}<extra></extra>\", \"legendgroup\": \"JIGAWA STATE\", \"marker\": {\"color\": \"#FF6692\"}, \"name\": \"JIGAWA STATE\", \"offsetgroup\": \"JIGAWA STATE\", \"orientation\": \"v\", \"showlegend\": true, \"textposition\": \"outside\", \"texttemplate\": \"%{text:.4s}\", \"type\": \"bar\", \"x\": [\"JIGAWA STATE\"], \"xaxis\": \"x\", \"y\": [4228315347], \"yaxis\": \"y\"}, {\"alignmentgroup\": \"True\", \"hovertemplate\": \"STATE=%{x}<br>JULY=%{y}<extra></extra>\", \"legendgroup\": \"KADUNA STATE\", \"marker\": {\"color\": \"#B6E880\"}, \"name\": \"KADUNA STATE\", \"offsetgroup\": \"KADUNA STATE\", \"orientation\": \"v\", \"showlegend\": true, \"textposition\": \"outside\", \"texttemplate\": \"%{text:.4s}\", \"type\": \"bar\", \"x\": [\"KADUNA STATE\"], \"xaxis\": \"x\", \"y\": [4717186724], \"yaxis\": \"y\"}, {\"alignmentgroup\": \"True\", \"hovertemplate\": \"STATE=%{x}<br>JULY=%{y}<extra></extra>\", \"legendgroup\": \"KANO STATE\", \"marker\": {\"color\": \"#FF97FF\"}, \"name\": \"KANO STATE\", \"offsetgroup\": \"KANO STATE\", \"orientation\": \"v\", \"showlegend\": true, \"textposition\": \"outside\", \"texttemplate\": \"%{text:.4s}\", \"type\": \"bar\", \"x\": [\"KANO STATE\"], \"xaxis\": \"x\", \"y\": [7697555252], \"yaxis\": \"y\"}, {\"alignmentgroup\": \"True\", \"hovertemplate\": \"STATE=%{x}<br>JULY=%{y}<extra></extra>\", \"legendgroup\": \"KATSINA STATE\", \"marker\": {\"color\": \"#FECB52\"}, \"name\": \"KATSINA STATE\", \"offsetgroup\": \"KATSINA STATE\", \"orientation\": \"v\", \"showlegend\": true, \"textposition\": \"outside\", \"texttemplate\": \"%{text:.4s}\", \"type\": \"bar\", \"x\": [\"KATSINA STATE\"], \"xaxis\": \"x\", \"y\": [5670713594], \"yaxis\": \"y\"}, {\"alignmentgroup\": \"True\", \"hovertemplate\": \"STATE=%{x}<br>JULY=%{y}<extra></extra>\", \"legendgroup\": \"KEBBI STATE\", \"marker\": {\"color\": \"#636efa\"}, \"name\": \"KEBBI STATE\", \"offsetgroup\": \"KEBBI STATE\", \"orientation\": \"v\", \"showlegend\": true, \"textposition\": \"outside\", \"texttemplate\": \"%{text:.4s}\", \"type\": \"bar\", \"x\": [\"KEBBI STATE\"], \"xaxis\": \"x\", \"y\": [3527173741], \"yaxis\": \"y\"}, {\"alignmentgroup\": \"True\", \"hovertemplate\": \"STATE=%{x}<br>JULY=%{y}<extra></extra>\", \"legendgroup\": \"KOGI STATE\", \"marker\": {\"color\": \"#EF553B\"}, \"name\": \"KOGI STATE\", \"offsetgroup\": \"KOGI STATE\", \"orientation\": \"v\", \"showlegend\": true, \"textposition\": \"outside\", \"texttemplate\": \"%{text:.4s}\", \"type\": \"bar\", \"x\": [\"KOGI STATE\"], \"xaxis\": \"x\", \"y\": [3629534074], \"yaxis\": \"y\"}, {\"alignmentgroup\": \"True\", \"hovertemplate\": \"STATE=%{x}<br>JULY=%{y}<extra></extra>\", \"legendgroup\": \"KWARA STATE\", \"marker\": {\"color\": \"#00cc96\"}, \"name\": \"KWARA STATE\", \"offsetgroup\": \"KWARA STATE\", \"orientation\": \"v\", \"showlegend\": true, \"textposition\": \"outside\", \"texttemplate\": \"%{text:.4s}\", \"type\": \"bar\", \"x\": [\"KWARA STATE\"], \"xaxis\": \"x\", \"y\": [2616081618], \"yaxis\": \"y\"}, {\"alignmentgroup\": \"True\", \"hovertemplate\": \"STATE=%{x}<br>JULY=%{y}<extra></extra>\", \"legendgroup\": \"LAGOS STATE\", \"marker\": {\"color\": \"#ab63fa\"}, \"name\": \"LAGOS STATE\", \"offsetgroup\": \"LAGOS STATE\", \"orientation\": \"v\", \"showlegend\": true, \"textposition\": \"outside\", \"texttemplate\": \"%{text:.4s}\", \"type\": \"bar\", \"x\": [\"LAGOS STATE\"], \"xaxis\": \"x\", \"y\": [10157844006], \"yaxis\": \"y\"}, {\"alignmentgroup\": \"True\", \"hovertemplate\": \"STATE=%{x}<br>JULY=%{y}<extra></extra>\", \"legendgroup\": \"NASARAWA STATE\", \"marker\": {\"color\": \"#FFA15A\"}, \"name\": \"NASARAWA STATE\", \"offsetgroup\": \"NASARAWA STATE\", \"orientation\": \"v\", \"showlegend\": true, \"textposition\": \"outside\", \"texttemplate\": \"%{text:.4s}\", \"type\": \"bar\", \"x\": [\"NASARAWA STATE\"], \"xaxis\": \"x\", \"y\": [2267231264], \"yaxis\": \"y\"}, {\"alignmentgroup\": \"True\", \"hovertemplate\": \"STATE=%{x}<br>JULY=%{y}<extra></extra>\", \"legendgroup\": \"NIGER STATE\", \"marker\": {\"color\": \"#19d3f3\"}, \"name\": \"NIGER STATE\", \"offsetgroup\": \"NIGER STATE\", \"orientation\": \"v\", \"showlegend\": true, \"textposition\": \"outside\", \"texttemplate\": \"%{text:.4s}\", \"type\": \"bar\", \"x\": [\"NIGER STATE\"], \"xaxis\": \"x\", \"y\": [4271266830], \"yaxis\": \"y\"}, {\"alignmentgroup\": \"True\", \"hovertemplate\": \"STATE=%{x}<br>JULY=%{y}<extra></extra>\", \"legendgroup\": \"OGUN STATE\", \"marker\": {\"color\": \"#FF6692\"}, \"name\": \"OGUN STATE\", \"offsetgroup\": \"OGUN STATE\", \"orientation\": \"v\", \"showlegend\": true, \"textposition\": \"outside\", \"texttemplate\": \"%{text:.4s}\", \"type\": \"bar\", \"x\": [\"OGUN STATE\"], \"xaxis\": \"x\", \"y\": [3206284561], \"yaxis\": \"y\"}, {\"alignmentgroup\": \"True\", \"hovertemplate\": \"STATE=%{x}<br>JULY=%{y}<extra></extra>\", \"legendgroup\": \"ONDO STATE\", \"marker\": {\"color\": \"#B6E880\"}, \"name\": \"ONDO STATE\", \"offsetgroup\": \"ONDO STATE\", \"orientation\": \"v\", \"showlegend\": true, \"textposition\": \"outside\", \"texttemplate\": \"%{text:.4s}\", \"type\": \"bar\", \"x\": [\"ONDO STATE\"], \"xaxis\": \"x\", \"y\": [2994371633], \"yaxis\": \"y\"}, {\"alignmentgroup\": \"True\", \"hovertemplate\": \"STATE=%{x}<br>JULY=%{y}<extra></extra>\", \"legendgroup\": \"OSUN STATE\", \"marker\": {\"color\": \"#FF97FF\"}, \"name\": \"OSUN STATE\", \"offsetgroup\": \"OSUN STATE\", \"orientation\": \"v\", \"showlegend\": true, \"textposition\": \"outside\", \"texttemplate\": \"%{text:.4s}\", \"type\": \"bar\", \"x\": [\"OSUN STATE\"], \"xaxis\": \"x\", \"y\": [4095063233], \"yaxis\": \"y\"}, {\"alignmentgroup\": \"True\", \"hovertemplate\": \"STATE=%{x}<br>JULY=%{y}<extra></extra>\", \"legendgroup\": \"OYO STATE\", \"marker\": {\"color\": \"#FECB52\"}, \"name\": \"OYO STATE\", \"offsetgroup\": \"OYO STATE\", \"orientation\": \"v\", \"showlegend\": true, \"textposition\": \"outside\", \"texttemplate\": \"%{text:.4s}\", \"type\": \"bar\", \"x\": [\"OYO STATE\"], \"xaxis\": \"x\", \"y\": [5303155641], \"yaxis\": \"y\"}, {\"alignmentgroup\": \"True\", \"hovertemplate\": \"STATE=%{x}<br>JULY=%{y}<extra></extra>\", \"legendgroup\": \"PLATEAU STATE\", \"marker\": {\"color\": \"#636efa\"}, \"name\": \"PLATEAU STATE\", \"offsetgroup\": \"PLATEAU STATE\", \"orientation\": \"v\", \"showlegend\": true, \"textposition\": \"outside\", \"texttemplate\": \"%{text:.4s}\", \"type\": \"bar\", \"x\": [\"PLATEAU STATE\"], \"xaxis\": \"x\", \"y\": [3105972115], \"yaxis\": \"y\"}, {\"alignmentgroup\": \"True\", \"hovertemplate\": \"STATE=%{x}<br>JULY=%{y}<extra></extra>\", \"legendgroup\": \"RIVERS STATE\", \"marker\": {\"color\": \"#EF553B\"}, \"name\": \"RIVERS STATE\", \"offsetgroup\": \"RIVERS STATE\", \"orientation\": \"v\", \"showlegend\": true, \"textposition\": \"outside\", \"texttemplate\": \"%{text:.4s}\", \"type\": \"bar\", \"x\": [\"RIVERS STATE\"], \"xaxis\": \"x\", \"y\": [4367258097], \"yaxis\": \"y\"}, {\"alignmentgroup\": \"True\", \"hovertemplate\": \"STATE=%{x}<br>JULY=%{y}<extra></extra>\", \"legendgroup\": \"SOKOTO STATE\", \"marker\": {\"color\": \"#00cc96\"}, \"name\": \"SOKOTO STATE\", \"offsetgroup\": \"SOKOTO STATE\", \"orientation\": \"v\", \"showlegend\": true, \"textposition\": \"outside\", \"texttemplate\": \"%{text:.4s}\", \"type\": \"bar\", \"x\": [\"SOKOTO STATE\"], \"xaxis\": \"x\", \"y\": [3900967805], \"yaxis\": \"y\"}, {\"alignmentgroup\": \"True\", \"hovertemplate\": \"STATE=%{x}<br>JULY=%{y}<extra></extra>\", \"legendgroup\": \"TARABA STATE\", \"marker\": {\"color\": \"#ab63fa\"}, \"name\": \"TARABA STATE\", \"offsetgroup\": \"TARABA STATE\", \"orientation\": \"v\", \"showlegend\": true, \"textposition\": \"outside\", \"texttemplate\": \"%{text:.4s}\", \"type\": \"bar\", \"x\": [\"TARABA STATE\"], \"xaxis\": \"x\", \"y\": [2850972429], \"yaxis\": \"y\"}, {\"alignmentgroup\": \"True\", \"hovertemplate\": \"STATE=%{x}<br>JULY=%{y}<extra></extra>\", \"legendgroup\": \"YOBE STATE\", \"marker\": {\"color\": \"#FFA15A\"}, \"name\": \"YOBE STATE\", \"offsetgroup\": \"YOBE STATE\", \"orientation\": \"v\", \"showlegend\": true, \"textposition\": \"outside\", \"texttemplate\": \"%{text:.4s}\", \"type\": \"bar\", \"x\": [\"YOBE STATE\"], \"xaxis\": \"x\", \"y\": [2894216501], \"yaxis\": \"y\"}, {\"alignmentgroup\": \"True\", \"hovertemplate\": \"STATE=%{x}<br>JULY=%{y}<extra></extra>\", \"legendgroup\": \"ZAMFARA STATE\", \"marker\": {\"color\": \"#19d3f3\"}, \"name\": \"ZAMFARA STATE\", \"offsetgroup\": \"ZAMFARA STATE\", \"orientation\": \"v\", \"showlegend\": true, \"textposition\": \"outside\", \"texttemplate\": \"%{text:.4s}\", \"type\": \"bar\", \"x\": [\"ZAMFARA STATE\"], \"xaxis\": \"x\", \"y\": [2678420521], \"yaxis\": \"y\"}, {\"alignmentgroup\": \"True\", \"hovertemplate\": \"STATE=%{x}<br>JULY=%{y}<extra></extra>\", \"legendgroup\": \"FEDERAL CAPITAL TERRITORY (FCT)\", \"marker\": {\"color\": \"#FF6692\"}, \"name\": \"FEDERAL CAPITAL TERRITORY (FCT)\", \"offsetgroup\": \"FEDERAL CAPITAL TERRITORY (FCT)\", \"orientation\": \"v\", \"showlegend\": true, \"textposition\": \"outside\", \"texttemplate\": \"%{text:.4s}\", \"type\": \"bar\", \"x\": [\"FEDERAL CAPITAL TERRITORY (FCT)\"], \"xaxis\": \"x\", \"y\": [2821770606], \"yaxis\": \"y\"}],                        {\"barmode\": \"relative\", \"height\": 750, \"legend\": {\"title\": {\"text\": \"STATE\"}, \"tracegroupgap\": 0}, \"margin\": {\"t\": 60}, \"template\": {\"data\": {\"bar\": [{\"error_x\": {\"color\": \"#2a3f5f\"}, \"error_y\": {\"color\": \"#2a3f5f\"}, \"marker\": {\"line\": {\"color\": \"#E5ECF6\", \"width\": 0.5}}, \"type\": \"bar\"}], \"barpolar\": [{\"marker\": {\"line\": {\"color\": \"#E5ECF6\", \"width\": 0.5}}, \"type\": \"barpolar\"}], \"carpet\": [{\"aaxis\": {\"endlinecolor\": \"#2a3f5f\", \"gridcolor\": \"white\", \"linecolor\": \"white\", \"minorgridcolor\": \"white\", \"startlinecolor\": \"#2a3f5f\"}, \"baxis\": {\"endlinecolor\": \"#2a3f5f\", \"gridcolor\": \"white\", \"linecolor\": \"white\", \"minorgridcolor\": \"white\", \"startlinecolor\": \"#2a3f5f\"}, \"type\": \"carpet\"}], \"choropleth\": [{\"colorbar\": {\"outlinewidth\": 0, \"ticks\": \"\"}, \"type\": \"choropleth\"}], \"contour\": [{\"colorbar\": {\"outlinewidth\": 0, \"ticks\": \"\"}, \"colorscale\": [[0.0, \"#0d0887\"], [0.1111111111111111, \"#46039f\"], [0.2222222222222222, \"#7201a8\"], [0.3333333333333333, \"#9c179e\"], [0.4444444444444444, \"#bd3786\"], [0.5555555555555556, \"#d8576b\"], [0.6666666666666666, \"#ed7953\"], [0.7777777777777778, \"#fb9f3a\"], [0.8888888888888888, \"#fdca26\"], [1.0, \"#f0f921\"]], \"type\": \"contour\"}], \"contourcarpet\": [{\"colorbar\": {\"outlinewidth\": 0, \"ticks\": \"\"}, \"type\": \"contourcarpet\"}], \"heatmap\": [{\"colorbar\": {\"outlinewidth\": 0, \"ticks\": \"\"}, \"colorscale\": [[0.0, \"#0d0887\"], [0.1111111111111111, \"#46039f\"], [0.2222222222222222, \"#7201a8\"], [0.3333333333333333, \"#9c179e\"], [0.4444444444444444, \"#bd3786\"], [0.5555555555555556, \"#d8576b\"], [0.6666666666666666, \"#ed7953\"], [0.7777777777777778, \"#fb9f3a\"], [0.8888888888888888, \"#fdca26\"], [1.0, \"#f0f921\"]], \"type\": \"heatmap\"}], \"heatmapgl\": [{\"colorbar\": {\"outlinewidth\": 0, \"ticks\": \"\"}, \"colorscale\": [[0.0, \"#0d0887\"], [0.1111111111111111, \"#46039f\"], [0.2222222222222222, \"#7201a8\"], [0.3333333333333333, \"#9c179e\"], [0.4444444444444444, \"#bd3786\"], [0.5555555555555556, \"#d8576b\"], [0.6666666666666666, \"#ed7953\"], [0.7777777777777778, \"#fb9f3a\"], [0.8888888888888888, \"#fdca26\"], [1.0, \"#f0f921\"]], \"type\": \"heatmapgl\"}], \"histogram\": [{\"marker\": {\"colorbar\": {\"outlinewidth\": 0, \"ticks\": \"\"}}, \"type\": \"histogram\"}], \"histogram2d\": [{\"colorbar\": {\"outlinewidth\": 0, \"ticks\": \"\"}, \"colorscale\": [[0.0, \"#0d0887\"], [0.1111111111111111, \"#46039f\"], [0.2222222222222222, \"#7201a8\"], [0.3333333333333333, \"#9c179e\"], [0.4444444444444444, \"#bd3786\"], [0.5555555555555556, \"#d8576b\"], [0.6666666666666666, \"#ed7953\"], [0.7777777777777778, \"#fb9f3a\"], [0.8888888888888888, \"#fdca26\"], [1.0, \"#f0f921\"]], \"type\": \"histogram2d\"}], \"histogram2dcontour\": [{\"colorbar\": {\"outlinewidth\": 0, \"ticks\": \"\"}, \"colorscale\": [[0.0, \"#0d0887\"], [0.1111111111111111, \"#46039f\"], [0.2222222222222222, \"#7201a8\"], [0.3333333333333333, \"#9c179e\"], [0.4444444444444444, \"#bd3786\"], [0.5555555555555556, \"#d8576b\"], [0.6666666666666666, \"#ed7953\"], [0.7777777777777778, \"#fb9f3a\"], [0.8888888888888888, \"#fdca26\"], [1.0, \"#f0f921\"]], \"type\": \"histogram2dcontour\"}], \"mesh3d\": [{\"colorbar\": {\"outlinewidth\": 0, \"ticks\": \"\"}, \"type\": \"mesh3d\"}], \"parcoords\": [{\"line\": {\"colorbar\": {\"outlinewidth\": 0, \"ticks\": \"\"}}, \"type\": \"parcoords\"}], \"pie\": [{\"automargin\": true, \"type\": \"pie\"}], \"scatter\": [{\"marker\": {\"colorbar\": {\"outlinewidth\": 0, \"ticks\": \"\"}}, \"type\": \"scatter\"}], \"scatter3d\": [{\"line\": {\"colorbar\": {\"outlinewidth\": 0, \"ticks\": \"\"}}, \"marker\": {\"colorbar\": {\"outlinewidth\": 0, \"ticks\": \"\"}}, \"type\": \"scatter3d\"}], \"scattercarpet\": [{\"marker\": {\"colorbar\": {\"outlinewidth\": 0, \"ticks\": \"\"}}, \"type\": \"scattercarpet\"}], \"scattergeo\": [{\"marker\": {\"colorbar\": {\"outlinewidth\": 0, \"ticks\": \"\"}}, \"type\": \"scattergeo\"}], \"scattergl\": [{\"marker\": {\"colorbar\": {\"outlinewidth\": 0, \"ticks\": \"\"}}, \"type\": \"scattergl\"}], \"scattermapbox\": [{\"marker\": {\"colorbar\": {\"outlinewidth\": 0, \"ticks\": \"\"}}, \"type\": \"scattermapbox\"}], \"scatterpolar\": [{\"marker\": {\"colorbar\": {\"outlinewidth\": 0, \"ticks\": \"\"}}, \"type\": \"scatterpolar\"}], \"scatterpolargl\": [{\"marker\": {\"colorbar\": {\"outlinewidth\": 0, \"ticks\": \"\"}}, \"type\": \"scatterpolargl\"}], \"scatterternary\": [{\"marker\": {\"colorbar\": {\"outlinewidth\": 0, \"ticks\": \"\"}}, \"type\": \"scatterternary\"}], \"surface\": [{\"colorbar\": {\"outlinewidth\": 0, \"ticks\": \"\"}, \"colorscale\": [[0.0, \"#0d0887\"], [0.1111111111111111, \"#46039f\"], [0.2222222222222222, \"#7201a8\"], [0.3333333333333333, \"#9c179e\"], [0.4444444444444444, \"#bd3786\"], [0.5555555555555556, \"#d8576b\"], [0.6666666666666666, \"#ed7953\"], [0.7777777777777778, \"#fb9f3a\"], [0.8888888888888888, \"#fdca26\"], [1.0, \"#f0f921\"]], \"type\": \"surface\"}], \"table\": [{\"cells\": {\"fill\": {\"color\": \"#EBF0F8\"}, \"line\": {\"color\": \"white\"}}, \"header\": {\"fill\": {\"color\": \"#C8D4E3\"}, \"line\": {\"color\": \"white\"}}, \"type\": \"table\"}]}, \"layout\": {\"annotationdefaults\": {\"arrowcolor\": \"#2a3f5f\", \"arrowhead\": 0, \"arrowwidth\": 1}, \"autotypenumbers\": \"strict\", \"coloraxis\": {\"colorbar\": {\"outlinewidth\": 0, \"ticks\": \"\"}}, \"colorscale\": {\"diverging\": [[0, \"#8e0152\"], [0.1, \"#c51b7d\"], [0.2, \"#de77ae\"], [0.3, \"#f1b6da\"], [0.4, \"#fde0ef\"], [0.5, \"#f7f7f7\"], [0.6, \"#e6f5d0\"], [0.7, \"#b8e186\"], [0.8, \"#7fbc41\"], [0.9, \"#4d9221\"], [1, \"#276419\"]], \"sequential\": [[0.0, \"#0d0887\"], [0.1111111111111111, \"#46039f\"], [0.2222222222222222, \"#7201a8\"], [0.3333333333333333, \"#9c179e\"], [0.4444444444444444, \"#bd3786\"], [0.5555555555555556, \"#d8576b\"], [0.6666666666666666, \"#ed7953\"], [0.7777777777777778, \"#fb9f3a\"], [0.8888888888888888, \"#fdca26\"], [1.0, \"#f0f921\"]], \"sequentialminus\": [[0.0, \"#0d0887\"], [0.1111111111111111, \"#46039f\"], [0.2222222222222222, \"#7201a8\"], [0.3333333333333333, \"#9c179e\"], [0.4444444444444444, \"#bd3786\"], [0.5555555555555556, \"#d8576b\"], [0.6666666666666666, \"#ed7953\"], [0.7777777777777778, \"#fb9f3a\"], [0.8888888888888888, \"#fdca26\"], [1.0, \"#f0f921\"]]}, \"colorway\": [\"#636efa\", \"#EF553B\", \"#00cc96\", \"#ab63fa\", \"#FFA15A\", \"#19d3f3\", \"#FF6692\", \"#B6E880\", \"#FF97FF\", \"#FECB52\"], \"font\": {\"color\": \"#2a3f5f\"}, \"geo\": {\"bgcolor\": \"white\", \"lakecolor\": \"white\", \"landcolor\": \"#E5ECF6\", \"showlakes\": true, \"showland\": true, \"subunitcolor\": \"white\"}, \"hoverlabel\": {\"align\": \"left\"}, \"hovermode\": \"closest\", \"mapbox\": {\"style\": \"light\"}, \"paper_bgcolor\": \"white\", \"plot_bgcolor\": \"#E5ECF6\", \"polar\": {\"angularaxis\": {\"gridcolor\": \"white\", \"linecolor\": \"white\", \"ticks\": \"\"}, \"bgcolor\": \"#E5ECF6\", \"radialaxis\": {\"gridcolor\": \"white\", \"linecolor\": \"white\", \"ticks\": \"\"}}, \"scene\": {\"xaxis\": {\"backgroundcolor\": \"#E5ECF6\", \"gridcolor\": \"white\", \"gridwidth\": 2, \"linecolor\": \"white\", \"showbackground\": true, \"ticks\": \"\", \"zerolinecolor\": \"white\"}, \"yaxis\": {\"backgroundcolor\": \"#E5ECF6\", \"gridcolor\": \"white\", \"gridwidth\": 2, \"linecolor\": \"white\", \"showbackground\": true, \"ticks\": \"\", \"zerolinecolor\": \"white\"}, \"zaxis\": {\"backgroundcolor\": \"#E5ECF6\", \"gridcolor\": \"white\", \"gridwidth\": 2, \"linecolor\": \"white\", \"showbackground\": true, \"ticks\": \"\", \"zerolinecolor\": \"white\"}}, \"shapedefaults\": {\"line\": {\"color\": \"#2a3f5f\"}}, \"ternary\": {\"aaxis\": {\"gridcolor\": \"white\", \"linecolor\": \"white\", \"ticks\": \"\"}, \"baxis\": {\"gridcolor\": \"white\", \"linecolor\": \"white\", \"ticks\": \"\"}, \"bgcolor\": \"#E5ECF6\", \"caxis\": {\"gridcolor\": \"white\", \"linecolor\": \"white\", \"ticks\": \"\"}}, \"title\": {\"x\": 0.05}, \"xaxis\": {\"automargin\": true, \"gridcolor\": \"white\", \"linecolor\": \"white\", \"ticks\": \"\", \"title\": {\"standoff\": 15}, \"zerolinecolor\": \"white\", \"zerolinewidth\": 2}, \"yaxis\": {\"automargin\": true, \"gridcolor\": \"white\", \"linecolor\": \"white\", \"ticks\": \"\", \"title\": {\"standoff\": 15}, \"zerolinecolor\": \"white\", \"zerolinewidth\": 2}}}, \"title\": {\"text\": \"FAAC_2020\", \"x\": 0.5, \"y\": 0.8}, \"uniformtext\": {\"minsize\": 8, \"mode\": \"hide\"}, \"width\": 1000, \"xaxis\": {\"anchor\": \"y\", \"categoryarray\": [\"ABIA STATE\", \"ADAMAWA STATE\", \"AKWA IBOW STATE\", \"ANAMBRA STATE\", \"BAUCHI STATE\", \"BAYELSA STATE\", \"BENUE STATE\", \"BORNO STATE\", \"CROSS-RIVER STATE\", \"DELTA STATE\", \"EBONYI STATE\", \"EDO STATE\", \"EKITI STATE\", \"ENUGU STATE\", \"GOMBE STATE\", \"IMO STATE\", \"JIGAWA STATE\", \"KADUNA STATE\", \"KANO STATE\", \"KATSINA STATE\", \"KEBBI STATE\", \"KOGI STATE\", \"KWARA STATE\", \"LAGOS STATE\", \"NASARAWA STATE\", \"NIGER STATE\", \"OGUN STATE\", \"ONDO STATE\", \"OSUN STATE\", \"OYO STATE\", \"PLATEAU STATE\", \"RIVERS STATE\", \"SOKOTO STATE\", \"TARABA STATE\", \"YOBE STATE\", \"ZAMFARA STATE\", \"FEDERAL CAPITAL TERRITORY (FCT)\"], \"categoryorder\": \"array\", \"domain\": [0.0, 1.0], \"title\": {\"text\": \"STATE\"}}, \"yaxis\": {\"anchor\": \"x\", \"domain\": [0.0, 1.0], \"title\": {\"text\": \"JULY\"}}},                        {\"responsive\": true}                    ).then(function(){\n",
       "                            \n",
       "var gd = document.getElementById('5f2d138a-ab9e-45e8-ae1a-d9da4554dbf0');\n",
       "var x = new MutationObserver(function (mutations, observer) {{\n",
       "        var display = window.getComputedStyle(gd).display;\n",
       "        if (!display || display === 'none') {{\n",
       "            console.log([gd, 'removed!']);\n",
       "            Plotly.purge(gd);\n",
       "            observer.disconnect();\n",
       "        }}\n",
       "}});\n",
       "\n",
       "// Listen for the removal of the full notebook cells\n",
       "var notebookContainer = gd.closest('#notebook-container');\n",
       "if (notebookContainer) {{\n",
       "    x.observe(notebookContainer, {childList: true});\n",
       "}}\n",
       "\n",
       "// Listen for the clearing of the current output cell\n",
       "var outputEl = gd.closest('.output');\n",
       "if (outputEl) {{\n",
       "    x.observe(outputEl, {childList: true});\n",
       "}}\n",
       "\n",
       "                        })                };                });            </script>        </div>"
      ]
     },
     "metadata": {},
     "output_type": "display_data"
    }
   ],
   "source": [
    "fig=px.bar(FAAC_2020, y = \"JULY\", x = \"STATE\",orientation = \"v\", color = \"STATE\")\n",
    "fig.update_traces(texttemplate=\"%{text:.4s}\", textposition=\"outside\")\n",
    "fig.update_layout(uniformtext_minsize= 8, uniformtext_mode= \"hide\")\n",
    "fig.update_layout(\n",
    "    title = {\n",
    "       \"text\":\"FAAC_2020\",\n",
    "       \"y\":0.8,\n",
    "       \"x\":0.5,\n",
    "       },height = 750, width = 1000)"
   ]
  },
  {
   "cell_type": "code",
   "execution_count": 52,
   "metadata": {},
   "outputs": [
    {
     "data": {
      "application/vnd.plotly.v1+json": {
       "config": {
        "plotlyServerURL": "https://plot.ly"
       },
       "data": [
        {
         "alignmentgroup": "True",
         "hovertemplate": "STATE=%{x}<br>AUGUST=%{y}<extra></extra>",
         "legendgroup": "ABIA STATE",
         "marker": {
          "color": "#636efa"
         },
         "name": "ABIA STATE",
         "offsetgroup": "ABIA STATE",
         "orientation": "v",
         "showlegend": true,
         "textposition": "outside",
         "texttemplate": "%{text:.4s}",
         "type": "bar",
         "x": [
          "ABIA STATE"
         ],
         "xaxis": "x",
         "y": [
          2810930839
         ],
         "yaxis": "y"
        },
        {
         "alignmentgroup": "True",
         "hovertemplate": "STATE=%{x}<br>AUGUST=%{y}<extra></extra>",
         "legendgroup": "ADAMAWA STATE",
         "marker": {
          "color": "#EF553B"
         },
         "name": "ADAMAWA STATE",
         "offsetgroup": "ADAMAWA STATE",
         "orientation": "v",
         "showlegend": true,
         "textposition": "outside",
         "texttemplate": "%{text:.4s}",
         "type": "bar",
         "x": [
          "ADAMAWA STATE"
         ],
         "xaxis": "x",
         "y": [
          3521173689
         ],
         "yaxis": "y"
        },
        {
         "alignmentgroup": "True",
         "hovertemplate": "STATE=%{x}<br>AUGUST=%{y}<extra></extra>",
         "legendgroup": "AKWA IBOW STATE",
         "marker": {
          "color": "#00cc96"
         },
         "name": "AKWA IBOW STATE",
         "offsetgroup": "AKWA IBOW STATE",
         "orientation": "v",
         "showlegend": true,
         "textposition": "outside",
         "texttemplate": "%{text:.4s}",
         "type": "bar",
         "x": [
          "AKWA IBOW STATE"
         ],
         "xaxis": "x",
         "y": [
          4717716605
         ],
         "yaxis": "y"
        },
        {
         "alignmentgroup": "True",
         "hovertemplate": "STATE=%{x}<br>AUGUST=%{y}<extra></extra>",
         "legendgroup": "ANAMBRA STATE",
         "marker": {
          "color": "#ab63fa"
         },
         "name": "ANAMBRA STATE",
         "offsetgroup": "ANAMBRA STATE",
         "orientation": "v",
         "showlegend": true,
         "textposition": "outside",
         "texttemplate": "%{text:.4s}",
         "type": "bar",
         "x": [
          "ANAMBRA STATE"
         ],
         "xaxis": "x",
         "y": [
          3652901346
         ],
         "yaxis": "y"
        },
        {
         "alignmentgroup": "True",
         "hovertemplate": "STATE=%{x}<br>AUGUST=%{y}<extra></extra>",
         "legendgroup": "BAUCHI STATE",
         "marker": {
          "color": "#FFA15A"
         },
         "name": "BAUCHI STATE",
         "offsetgroup": "BAUCHI STATE",
         "orientation": "v",
         "showlegend": true,
         "textposition": "outside",
         "texttemplate": "%{text:.4s}",
         "type": "bar",
         "x": [
          "BAUCHI STATE"
         ],
         "xaxis": "x",
         "y": [
          3983143760
         ],
         "yaxis": "y"
        },
        {
         "alignmentgroup": "True",
         "hovertemplate": "STATE=%{x}<br>AUGUST=%{y}<extra></extra>",
         "legendgroup": "BAYELSA STATE",
         "marker": {
          "color": "#19d3f3"
         },
         "name": "BAYELSA STATE",
         "offsetgroup": "BAYELSA STATE",
         "orientation": "v",
         "showlegend": true,
         "textposition": "outside",
         "texttemplate": "%{text:.4s}",
         "type": "bar",
         "x": [
          "BAYELSA STATE"
         ],
         "xaxis": "x",
         "y": [
          1600343397
         ],
         "yaxis": "y"
        },
        {
         "alignmentgroup": "True",
         "hovertemplate": "STATE=%{x}<br>AUGUST=%{y}<extra></extra>",
         "legendgroup": "BENUE STATE",
         "marker": {
          "color": "#FF6692"
         },
         "name": "BENUE STATE",
         "offsetgroup": "BENUE STATE",
         "orientation": "v",
         "showlegend": true,
         "textposition": "outside",
         "texttemplate": "%{text:.4s}",
         "type": "bar",
         "x": [
          "BENUE STATE"
         ],
         "xaxis": "x",
         "y": [
          4276390960
         ],
         "yaxis": "y"
        },
        {
         "alignmentgroup": "True",
         "hovertemplate": "STATE=%{x}<br>AUGUST=%{y}<extra></extra>",
         "legendgroup": "BORNO STATE",
         "marker": {
          "color": "#B6E880"
         },
         "name": "BORNO STATE",
         "offsetgroup": "BORNO STATE",
         "orientation": "v",
         "showlegend": true,
         "textposition": "outside",
         "texttemplate": "%{text:.4s}",
         "type": "bar",
         "x": [
          "BORNO STATE"
         ],
         "xaxis": "x",
         "y": [
          4668850626
         ],
         "yaxis": "y"
        },
        {
         "alignmentgroup": "True",
         "hovertemplate": "STATE=%{x}<br>AUGUST=%{y}<extra></extra>",
         "legendgroup": "CROSS-RIVER STATE",
         "marker": {
          "color": "#FF97FF"
         },
         "name": "CROSS-RIVER STATE",
         "offsetgroup": "CROSS-RIVER STATE",
         "orientation": "v",
         "showlegend": true,
         "textposition": "outside",
         "texttemplate": "%{text:.4s}",
         "type": "bar",
         "x": [
          "CROSS-RIVER STATE"
         ],
         "xaxis": "x",
         "y": [
          3040418003
         ],
         "yaxis": "y"
        },
        {
         "alignmentgroup": "True",
         "hovertemplate": "STATE=%{x}<br>AUGUST=%{y}<extra></extra>",
         "legendgroup": "DELTA STATE",
         "marker": {
          "color": "#FECB52"
         },
         "name": "DELTA STATE",
         "offsetgroup": "DELTA STATE",
         "orientation": "v",
         "showlegend": true,
         "textposition": "outside",
         "texttemplate": "%{text:.4s}",
         "type": "bar",
         "x": [
          "DELTA STATE"
         ],
         "xaxis": "x",
         "y": [
          4018714705
         ],
         "yaxis": "y"
        },
        {
         "alignmentgroup": "True",
         "hovertemplate": "STATE=%{x}<br>AUGUST=%{y}<extra></extra>",
         "legendgroup": "EBONYI STATE",
         "marker": {
          "color": "#636efa"
         },
         "name": "EBONYI STATE",
         "offsetgroup": "EBONYI STATE",
         "orientation": "v",
         "showlegend": true,
         "textposition": "outside",
         "texttemplate": "%{text:.4s}",
         "type": "bar",
         "x": [
          "EBONYI STATE"
         ],
         "xaxis": "x",
         "y": [
          2295217926
         ],
         "yaxis": "y"
        },
        {
         "alignmentgroup": "True",
         "hovertemplate": "STATE=%{x}<br>AUGUST=%{y}<extra></extra>",
         "legendgroup": "EDO STATE",
         "marker": {
          "color": "#EF553B"
         },
         "name": "EDO STATE",
         "offsetgroup": "EDO STATE",
         "orientation": "v",
         "showlegend": true,
         "textposition": "outside",
         "texttemplate": "%{text:.4s}",
         "type": "bar",
         "x": [
          "EDO STATE"
         ],
         "xaxis": "x",
         "y": [
          3052677575
         ],
         "yaxis": "y"
        },
        {
         "alignmentgroup": "True",
         "hovertemplate": "STATE=%{x}<br>AUGUST=%{y}<extra></extra>",
         "legendgroup": "EKITI STATE",
         "marker": {
          "color": "#00cc96"
         },
         "name": "EKITI STATE",
         "offsetgroup": "EKITI STATE",
         "orientation": "v",
         "showlegend": true,
         "textposition": "outside",
         "texttemplate": "%{text:.4s}",
         "type": "bar",
         "x": [
          "EKITI STATE"
         ],
         "xaxis": "x",
         "y": [
          2437212212
         ],
         "yaxis": "y"
        },
        {
         "alignmentgroup": "True",
         "hovertemplate": "STATE=%{x}<br>AUGUST=%{y}<extra></extra>",
         "legendgroup": "ENUGU STATE",
         "marker": {
          "color": "#ab63fa"
         },
         "name": "ENUGU STATE",
         "offsetgroup": "ENUGU STATE",
         "orientation": "v",
         "showlegend": true,
         "textposition": "outside",
         "texttemplate": "%{text:.4s}",
         "type": "bar",
         "x": [
          "ENUGU STATE"
         ],
         "xaxis": "x",
         "y": [
          3053362878
         ],
         "yaxis": "y"
        },
        {
         "alignmentgroup": "True",
         "hovertemplate": "STATE=%{x}<br>AUGUST=%{y}<extra></extra>",
         "legendgroup": "GOMBE STATE",
         "marker": {
          "color": "#FFA15A"
         },
         "name": "GOMBE STATE",
         "offsetgroup": "GOMBE STATE",
         "orientation": "v",
         "showlegend": true,
         "textposition": "outside",
         "texttemplate": "%{text:.4s}",
         "type": "bar",
         "x": [
          "GOMBE STATE"
         ],
         "xaxis": "x",
         "y": [
          2086125918
         ],
         "yaxis": "y"
        },
        {
         "alignmentgroup": "True",
         "hovertemplate": "STATE=%{x}<br>AUGUST=%{y}<extra></extra>",
         "legendgroup": "IMO STATE",
         "marker": {
          "color": "#19d3f3"
         },
         "name": "IMO STATE",
         "offsetgroup": "IMO STATE",
         "orientation": "v",
         "showlegend": true,
         "textposition": "outside",
         "texttemplate": "%{text:.4s}",
         "type": "bar",
         "x": [
          "IMO STATE"
         ],
         "xaxis": "x",
         "y": [
          4145147303
         ],
         "yaxis": "y"
        },
        {
         "alignmentgroup": "True",
         "hovertemplate": "STATE=%{x}<br>AUGUST=%{y}<extra></extra>",
         "legendgroup": "JIGAWA STATE",
         "marker": {
          "color": "#FF6692"
         },
         "name": "JIGAWA STATE",
         "offsetgroup": "JIGAWA STATE",
         "orientation": "v",
         "showlegend": true,
         "textposition": "outside",
         "texttemplate": "%{text:.4s}",
         "type": "bar",
         "x": [
          "JIGAWA STATE"
         ],
         "xaxis": "x",
         "y": [
          4350067930
         ],
         "yaxis": "y"
        },
        {
         "alignmentgroup": "True",
         "hovertemplate": "STATE=%{x}<br>AUGUST=%{y}<extra></extra>",
         "legendgroup": "KADUNA STATE",
         "marker": {
          "color": "#B6E880"
         },
         "name": "KADUNA STATE",
         "offsetgroup": "KADUNA STATE",
         "orientation": "v",
         "showlegend": true,
         "textposition": "outside",
         "texttemplate": "%{text:.4s}",
         "type": "bar",
         "x": [
          "KADUNA STATE"
         ],
         "xaxis": "x",
         "y": [
          4807872487
         ],
         "yaxis": "y"
        },
        {
         "alignmentgroup": "True",
         "hovertemplate": "STATE=%{x}<br>AUGUST=%{y}<extra></extra>",
         "legendgroup": "KANO STATE",
         "marker": {
          "color": "#FF97FF"
         },
         "name": "KANO STATE",
         "offsetgroup": "KANO STATE",
         "orientation": "v",
         "showlegend": true,
         "textposition": "outside",
         "texttemplate": "%{text:.4s}",
         "type": "bar",
         "x": [
          "KANO STATE"
         ],
         "xaxis": "x",
         "y": [
          7962123286
         ],
         "yaxis": "y"
        },
        {
         "alignmentgroup": "True",
         "hovertemplate": "STATE=%{x}<br>AUGUST=%{y}<extra></extra>",
         "legendgroup": "KATSINA STATE",
         "marker": {
          "color": "#FECB52"
         },
         "name": "KATSINA STATE",
         "offsetgroup": "KATSINA STATE",
         "orientation": "v",
         "showlegend": true,
         "textposition": "outside",
         "texttemplate": "%{text:.4s}",
         "type": "bar",
         "x": [
          "KATSINA STATE"
         ],
         "xaxis": "x",
         "y": [
          5828589938
         ],
         "yaxis": "y"
        },
        {
         "alignmentgroup": "True",
         "hovertemplate": "STATE=%{x}<br>AUGUST=%{y}<extra></extra>",
         "legendgroup": "KEBBI STATE",
         "marker": {
          "color": "#636efa"
         },
         "name": "KEBBI STATE",
         "offsetgroup": "KEBBI STATE",
         "orientation": "v",
         "showlegend": true,
         "textposition": "outside",
         "texttemplate": "%{text:.4s}",
         "type": "bar",
         "x": [
          "KEBBI STATE"
         ],
         "xaxis": "x",
         "y": [
          3631978673
         ],
         "yaxis": "y"
        },
        {
         "alignmentgroup": "True",
         "hovertemplate": "STATE=%{x}<br>AUGUST=%{y}<extra></extra>",
         "legendgroup": "KOGI STATE",
         "marker": {
          "color": "#EF553B"
         },
         "name": "KOGI STATE",
         "offsetgroup": "KOGI STATE",
         "orientation": "v",
         "showlegend": true,
         "textposition": "outside",
         "texttemplate": "%{text:.4s}",
         "type": "bar",
         "x": [
          "KOGI STATE"
         ],
         "xaxis": "x",
         "y": [
          3726546047
         ],
         "yaxis": "y"
        },
        {
         "alignmentgroup": "True",
         "hovertemplate": "STATE=%{x}<br>AUGUST=%{y}<extra></extra>",
         "legendgroup": "KWARA STATE",
         "marker": {
          "color": "#00cc96"
         },
         "name": "KWARA STATE",
         "offsetgroup": "KWARA STATE",
         "orientation": "v",
         "showlegend": true,
         "textposition": "outside",
         "texttemplate": "%{text:.4s}",
         "type": "bar",
         "x": [
          "KWARA STATE"
         ],
         "xaxis": "x",
         "y": [
          2672851775
         ],
         "yaxis": "y"
        },
        {
         "alignmentgroup": "True",
         "hovertemplate": "STATE=%{x}<br>AUGUST=%{y}<extra></extra>",
         "legendgroup": "LAGOS STATE",
         "marker": {
          "color": "#ab63fa"
         },
         "name": "LAGOS STATE",
         "offsetgroup": "LAGOS STATE",
         "orientation": "v",
         "showlegend": true,
         "textposition": "outside",
         "texttemplate": "%{text:.4s}",
         "type": "bar",
         "x": [
          "LAGOS STATE"
         ],
         "xaxis": "x",
         "y": [
          10970711105
         ],
         "yaxis": "y"
        },
        {
         "alignmentgroup": "True",
         "hovertemplate": "STATE=%{x}<br>AUGUST=%{y}<extra></extra>",
         "legendgroup": "NASARAWA STATE",
         "marker": {
          "color": "#FFA15A"
         },
         "name": "NASARAWA STATE",
         "offsetgroup": "NASARAWA STATE",
         "orientation": "v",
         "showlegend": true,
         "textposition": "outside",
         "texttemplate": "%{text:.4s}",
         "type": "bar",
         "x": [
          "NASARAWA STATE"
         ],
         "xaxis": "x",
         "y": [
          2327954862
         ],
         "yaxis": "y"
        },
        {
         "alignmentgroup": "True",
         "hovertemplate": "STATE=%{x}<br>AUGUST=%{y}<extra></extra>",
         "legendgroup": "NIGER STATE",
         "marker": {
          "color": "#19d3f3"
         },
         "name": "NIGER STATE",
         "offsetgroup": "NIGER STATE",
         "orientation": "v",
         "showlegend": true,
         "textposition": "outside",
         "texttemplate": "%{text:.4s}",
         "type": "bar",
         "x": [
          "NIGER STATE"
         ],
         "xaxis": "x",
         "y": [
          4382755626
         ],
         "yaxis": "y"
        },
        {
         "alignmentgroup": "True",
         "hovertemplate": "STATE=%{x}<br>AUGUST=%{y}<extra></extra>",
         "legendgroup": "OGUN STATE",
         "marker": {
          "color": "#FF6692"
         },
         "name": "OGUN STATE",
         "offsetgroup": "OGUN STATE",
         "orientation": "v",
         "showlegend": true,
         "textposition": "outside",
         "texttemplate": "%{text:.4s}",
         "type": "bar",
         "x": [
          "OGUN STATE"
         ],
         "xaxis": "x",
         "y": [
          3292280835
         ],
         "yaxis": "y"
        },
        {
         "alignmentgroup": "True",
         "hovertemplate": "STATE=%{x}<br>AUGUST=%{y}<extra></extra>",
         "legendgroup": "ONDO STATE",
         "marker": {
          "color": "#B6E880"
         },
         "name": "ONDO STATE",
         "offsetgroup": "ONDO STATE",
         "orientation": "v",
         "showlegend": true,
         "textposition": "outside",
         "texttemplate": "%{text:.4s}",
         "type": "bar",
         "x": [
          "ONDO STATE"
         ],
         "xaxis": "x",
         "y": [
          3079630872
         ],
         "yaxis": "y"
        },
        {
         "alignmentgroup": "True",
         "hovertemplate": "STATE=%{x}<br>AUGUST=%{y}<extra></extra>",
         "legendgroup": "OSUN STATE",
         "marker": {
          "color": "#FF97FF"
         },
         "name": "OSUN STATE",
         "offsetgroup": "OSUN STATE",
         "orientation": "v",
         "showlegend": true,
         "textposition": "outside",
         "texttemplate": "%{text:.4s}",
         "type": "bar",
         "x": [
          "OSUN STATE"
         ],
         "xaxis": "x",
         "y": [
          4214370737
         ],
         "yaxis": "y"
        },
        {
         "alignmentgroup": "True",
         "hovertemplate": "STATE=%{x}<br>AUGUST=%{y}<extra></extra>",
         "legendgroup": "OYO STATE",
         "marker": {
          "color": "#FECB52"
         },
         "name": "OYO STATE",
         "offsetgroup": "OYO STATE",
         "orientation": "v",
         "showlegend": true,
         "textposition": "outside",
         "texttemplate": "%{text:.4s}",
         "type": "bar",
         "x": [
          "OYO STATE"
         ],
         "xaxis": "x",
         "y": [
          5537803788
         ],
         "yaxis": "y"
        },
        {
         "alignmentgroup": "True",
         "hovertemplate": "STATE=%{x}<br>AUGUST=%{y}<extra></extra>",
         "legendgroup": "PLATEAU STATE",
         "marker": {
          "color": "#636efa"
         },
         "name": "PLATEAU STATE",
         "offsetgroup": "PLATEAU STATE",
         "orientation": "v",
         "showlegend": true,
         "textposition": "outside",
         "texttemplate": "%{text:.4s}",
         "type": "bar",
         "x": [
          "PLATEAU STATE"
         ],
         "xaxis": "x",
         "y": [
          3193881879
         ],
         "yaxis": "y"
        },
        {
         "alignmentgroup": "True",
         "hovertemplate": "STATE=%{x}<br>AUGUST=%{y}<extra></extra>",
         "legendgroup": "RIVERS STATE",
         "marker": {
          "color": "#EF553B"
         },
         "name": "RIVERS STATE",
         "offsetgroup": "RIVERS STATE",
         "orientation": "v",
         "showlegend": true,
         "textposition": "outside",
         "texttemplate": "%{text:.4s}",
         "type": "bar",
         "x": [
          "RIVERS STATE"
         ],
         "xaxis": "x",
         "y": [
          4349327824
         ],
         "yaxis": "y"
        },
        {
         "alignmentgroup": "True",
         "hovertemplate": "STATE=%{x}<br>AUGUST=%{y}<extra></extra>",
         "legendgroup": "SOKOTO STATE",
         "marker": {
          "color": "#00cc96"
         },
         "name": "SOKOTO STATE",
         "offsetgroup": "SOKOTO STATE",
         "orientation": "v",
         "showlegend": true,
         "textposition": "outside",
         "texttemplate": "%{text:.4s}",
         "type": "bar",
         "x": [
          "SOKOTO STATE"
         ],
         "xaxis": "x",
         "y": [
          3997946362
         ],
         "yaxis": "y"
        },
        {
         "alignmentgroup": "True",
         "hovertemplate": "STATE=%{x}<br>AUGUST=%{y}<extra></extra>",
         "legendgroup": "TARABA STATE",
         "marker": {
          "color": "#ab63fa"
         },
         "name": "TARABA STATE",
         "offsetgroup": "TARABA STATE",
         "orientation": "v",
         "showlegend": true,
         "textposition": "outside",
         "texttemplate": "%{text:.4s}",
         "type": "bar",
         "x": [
          "TARABA STATE"
         ],
         "xaxis": "x",
         "y": [
          2965713798
         ],
         "yaxis": "y"
        },
        {
         "alignmentgroup": "True",
         "hovertemplate": "STATE=%{x}<br>AUGUST=%{y}<extra></extra>",
         "legendgroup": "YOBE STATE",
         "marker": {
          "color": "#FFA15A"
         },
         "name": "YOBE STATE",
         "offsetgroup": "YOBE STATE",
         "orientation": "v",
         "showlegend": true,
         "textposition": "outside",
         "texttemplate": "%{text:.4s}",
         "type": "bar",
         "x": [
          "YOBE STATE"
         ],
         "xaxis": "x",
         "y": [
          2984962060
         ],
         "yaxis": "y"
        },
        {
         "alignmentgroup": "True",
         "hovertemplate": "STATE=%{x}<br>AUGUST=%{y}<extra></extra>",
         "legendgroup": "ZAMFARA STATE",
         "marker": {
          "color": "#19d3f3"
         },
         "name": "ZAMFARA STATE",
         "offsetgroup": "ZAMFARA STATE",
         "orientation": "v",
         "showlegend": true,
         "textposition": "outside",
         "texttemplate": "%{text:.4s}",
         "type": "bar",
         "x": [
          "ZAMFARA STATE"
         ],
         "xaxis": "x",
         "y": [
          2740967594
         ],
         "yaxis": "y"
        },
        {
         "alignmentgroup": "True",
         "hovertemplate": "STATE=%{x}<br>AUGUST=%{y}<extra></extra>",
         "legendgroup": "FEDERAL CAPITAL TERRITORY (FCT)",
         "marker": {
          "color": "#FF6692"
         },
         "name": "FEDERAL CAPITAL TERRITORY (FCT)",
         "offsetgroup": "FEDERAL CAPITAL TERRITORY (FCT)",
         "orientation": "v",
         "showlegend": true,
         "textposition": "outside",
         "texttemplate": "%{text:.4s}",
         "type": "bar",
         "x": [
          "FEDERAL CAPITAL TERRITORY (FCT)"
         ],
         "xaxis": "x",
         "y": [
          2365588575
         ],
         "yaxis": "y"
        }
       ],
       "layout": {
        "barmode": "relative",
        "height": 750,
        "legend": {
         "title": {
          "text": "STATE"
         },
         "tracegroupgap": 0
        },
        "margin": {
         "t": 60
        },
        "template": {
         "data": {
          "bar": [
           {
            "error_x": {
             "color": "#2a3f5f"
            },
            "error_y": {
             "color": "#2a3f5f"
            },
            "marker": {
             "line": {
              "color": "#E5ECF6",
              "width": 0.5
             }
            },
            "type": "bar"
           }
          ],
          "barpolar": [
           {
            "marker": {
             "line": {
              "color": "#E5ECF6",
              "width": 0.5
             }
            },
            "type": "barpolar"
           }
          ],
          "carpet": [
           {
            "aaxis": {
             "endlinecolor": "#2a3f5f",
             "gridcolor": "white",
             "linecolor": "white",
             "minorgridcolor": "white",
             "startlinecolor": "#2a3f5f"
            },
            "baxis": {
             "endlinecolor": "#2a3f5f",
             "gridcolor": "white",
             "linecolor": "white",
             "minorgridcolor": "white",
             "startlinecolor": "#2a3f5f"
            },
            "type": "carpet"
           }
          ],
          "choropleth": [
           {
            "colorbar": {
             "outlinewidth": 0,
             "ticks": ""
            },
            "type": "choropleth"
           }
          ],
          "contour": [
           {
            "colorbar": {
             "outlinewidth": 0,
             "ticks": ""
            },
            "colorscale": [
             [
              0,
              "#0d0887"
             ],
             [
              0.1111111111111111,
              "#46039f"
             ],
             [
              0.2222222222222222,
              "#7201a8"
             ],
             [
              0.3333333333333333,
              "#9c179e"
             ],
             [
              0.4444444444444444,
              "#bd3786"
             ],
             [
              0.5555555555555556,
              "#d8576b"
             ],
             [
              0.6666666666666666,
              "#ed7953"
             ],
             [
              0.7777777777777778,
              "#fb9f3a"
             ],
             [
              0.8888888888888888,
              "#fdca26"
             ],
             [
              1,
              "#f0f921"
             ]
            ],
            "type": "contour"
           }
          ],
          "contourcarpet": [
           {
            "colorbar": {
             "outlinewidth": 0,
             "ticks": ""
            },
            "type": "contourcarpet"
           }
          ],
          "heatmap": [
           {
            "colorbar": {
             "outlinewidth": 0,
             "ticks": ""
            },
            "colorscale": [
             [
              0,
              "#0d0887"
             ],
             [
              0.1111111111111111,
              "#46039f"
             ],
             [
              0.2222222222222222,
              "#7201a8"
             ],
             [
              0.3333333333333333,
              "#9c179e"
             ],
             [
              0.4444444444444444,
              "#bd3786"
             ],
             [
              0.5555555555555556,
              "#d8576b"
             ],
             [
              0.6666666666666666,
              "#ed7953"
             ],
             [
              0.7777777777777778,
              "#fb9f3a"
             ],
             [
              0.8888888888888888,
              "#fdca26"
             ],
             [
              1,
              "#f0f921"
             ]
            ],
            "type": "heatmap"
           }
          ],
          "heatmapgl": [
           {
            "colorbar": {
             "outlinewidth": 0,
             "ticks": ""
            },
            "colorscale": [
             [
              0,
              "#0d0887"
             ],
             [
              0.1111111111111111,
              "#46039f"
             ],
             [
              0.2222222222222222,
              "#7201a8"
             ],
             [
              0.3333333333333333,
              "#9c179e"
             ],
             [
              0.4444444444444444,
              "#bd3786"
             ],
             [
              0.5555555555555556,
              "#d8576b"
             ],
             [
              0.6666666666666666,
              "#ed7953"
             ],
             [
              0.7777777777777778,
              "#fb9f3a"
             ],
             [
              0.8888888888888888,
              "#fdca26"
             ],
             [
              1,
              "#f0f921"
             ]
            ],
            "type": "heatmapgl"
           }
          ],
          "histogram": [
           {
            "marker": {
             "colorbar": {
              "outlinewidth": 0,
              "ticks": ""
             }
            },
            "type": "histogram"
           }
          ],
          "histogram2d": [
           {
            "colorbar": {
             "outlinewidth": 0,
             "ticks": ""
            },
            "colorscale": [
             [
              0,
              "#0d0887"
             ],
             [
              0.1111111111111111,
              "#46039f"
             ],
             [
              0.2222222222222222,
              "#7201a8"
             ],
             [
              0.3333333333333333,
              "#9c179e"
             ],
             [
              0.4444444444444444,
              "#bd3786"
             ],
             [
              0.5555555555555556,
              "#d8576b"
             ],
             [
              0.6666666666666666,
              "#ed7953"
             ],
             [
              0.7777777777777778,
              "#fb9f3a"
             ],
             [
              0.8888888888888888,
              "#fdca26"
             ],
             [
              1,
              "#f0f921"
             ]
            ],
            "type": "histogram2d"
           }
          ],
          "histogram2dcontour": [
           {
            "colorbar": {
             "outlinewidth": 0,
             "ticks": ""
            },
            "colorscale": [
             [
              0,
              "#0d0887"
             ],
             [
              0.1111111111111111,
              "#46039f"
             ],
             [
              0.2222222222222222,
              "#7201a8"
             ],
             [
              0.3333333333333333,
              "#9c179e"
             ],
             [
              0.4444444444444444,
              "#bd3786"
             ],
             [
              0.5555555555555556,
              "#d8576b"
             ],
             [
              0.6666666666666666,
              "#ed7953"
             ],
             [
              0.7777777777777778,
              "#fb9f3a"
             ],
             [
              0.8888888888888888,
              "#fdca26"
             ],
             [
              1,
              "#f0f921"
             ]
            ],
            "type": "histogram2dcontour"
           }
          ],
          "mesh3d": [
           {
            "colorbar": {
             "outlinewidth": 0,
             "ticks": ""
            },
            "type": "mesh3d"
           }
          ],
          "parcoords": [
           {
            "line": {
             "colorbar": {
              "outlinewidth": 0,
              "ticks": ""
             }
            },
            "type": "parcoords"
           }
          ],
          "pie": [
           {
            "automargin": true,
            "type": "pie"
           }
          ],
          "scatter": [
           {
            "marker": {
             "colorbar": {
              "outlinewidth": 0,
              "ticks": ""
             }
            },
            "type": "scatter"
           }
          ],
          "scatter3d": [
           {
            "line": {
             "colorbar": {
              "outlinewidth": 0,
              "ticks": ""
             }
            },
            "marker": {
             "colorbar": {
              "outlinewidth": 0,
              "ticks": ""
             }
            },
            "type": "scatter3d"
           }
          ],
          "scattercarpet": [
           {
            "marker": {
             "colorbar": {
              "outlinewidth": 0,
              "ticks": ""
             }
            },
            "type": "scattercarpet"
           }
          ],
          "scattergeo": [
           {
            "marker": {
             "colorbar": {
              "outlinewidth": 0,
              "ticks": ""
             }
            },
            "type": "scattergeo"
           }
          ],
          "scattergl": [
           {
            "marker": {
             "colorbar": {
              "outlinewidth": 0,
              "ticks": ""
             }
            },
            "type": "scattergl"
           }
          ],
          "scattermapbox": [
           {
            "marker": {
             "colorbar": {
              "outlinewidth": 0,
              "ticks": ""
             }
            },
            "type": "scattermapbox"
           }
          ],
          "scatterpolar": [
           {
            "marker": {
             "colorbar": {
              "outlinewidth": 0,
              "ticks": ""
             }
            },
            "type": "scatterpolar"
           }
          ],
          "scatterpolargl": [
           {
            "marker": {
             "colorbar": {
              "outlinewidth": 0,
              "ticks": ""
             }
            },
            "type": "scatterpolargl"
           }
          ],
          "scatterternary": [
           {
            "marker": {
             "colorbar": {
              "outlinewidth": 0,
              "ticks": ""
             }
            },
            "type": "scatterternary"
           }
          ],
          "surface": [
           {
            "colorbar": {
             "outlinewidth": 0,
             "ticks": ""
            },
            "colorscale": [
             [
              0,
              "#0d0887"
             ],
             [
              0.1111111111111111,
              "#46039f"
             ],
             [
              0.2222222222222222,
              "#7201a8"
             ],
             [
              0.3333333333333333,
              "#9c179e"
             ],
             [
              0.4444444444444444,
              "#bd3786"
             ],
             [
              0.5555555555555556,
              "#d8576b"
             ],
             [
              0.6666666666666666,
              "#ed7953"
             ],
             [
              0.7777777777777778,
              "#fb9f3a"
             ],
             [
              0.8888888888888888,
              "#fdca26"
             ],
             [
              1,
              "#f0f921"
             ]
            ],
            "type": "surface"
           }
          ],
          "table": [
           {
            "cells": {
             "fill": {
              "color": "#EBF0F8"
             },
             "line": {
              "color": "white"
             }
            },
            "header": {
             "fill": {
              "color": "#C8D4E3"
             },
             "line": {
              "color": "white"
             }
            },
            "type": "table"
           }
          ]
         },
         "layout": {
          "annotationdefaults": {
           "arrowcolor": "#2a3f5f",
           "arrowhead": 0,
           "arrowwidth": 1
          },
          "autotypenumbers": "strict",
          "coloraxis": {
           "colorbar": {
            "outlinewidth": 0,
            "ticks": ""
           }
          },
          "colorscale": {
           "diverging": [
            [
             0,
             "#8e0152"
            ],
            [
             0.1,
             "#c51b7d"
            ],
            [
             0.2,
             "#de77ae"
            ],
            [
             0.3,
             "#f1b6da"
            ],
            [
             0.4,
             "#fde0ef"
            ],
            [
             0.5,
             "#f7f7f7"
            ],
            [
             0.6,
             "#e6f5d0"
            ],
            [
             0.7,
             "#b8e186"
            ],
            [
             0.8,
             "#7fbc41"
            ],
            [
             0.9,
             "#4d9221"
            ],
            [
             1,
             "#276419"
            ]
           ],
           "sequential": [
            [
             0,
             "#0d0887"
            ],
            [
             0.1111111111111111,
             "#46039f"
            ],
            [
             0.2222222222222222,
             "#7201a8"
            ],
            [
             0.3333333333333333,
             "#9c179e"
            ],
            [
             0.4444444444444444,
             "#bd3786"
            ],
            [
             0.5555555555555556,
             "#d8576b"
            ],
            [
             0.6666666666666666,
             "#ed7953"
            ],
            [
             0.7777777777777778,
             "#fb9f3a"
            ],
            [
             0.8888888888888888,
             "#fdca26"
            ],
            [
             1,
             "#f0f921"
            ]
           ],
           "sequentialminus": [
            [
             0,
             "#0d0887"
            ],
            [
             0.1111111111111111,
             "#46039f"
            ],
            [
             0.2222222222222222,
             "#7201a8"
            ],
            [
             0.3333333333333333,
             "#9c179e"
            ],
            [
             0.4444444444444444,
             "#bd3786"
            ],
            [
             0.5555555555555556,
             "#d8576b"
            ],
            [
             0.6666666666666666,
             "#ed7953"
            ],
            [
             0.7777777777777778,
             "#fb9f3a"
            ],
            [
             0.8888888888888888,
             "#fdca26"
            ],
            [
             1,
             "#f0f921"
            ]
           ]
          },
          "colorway": [
           "#636efa",
           "#EF553B",
           "#00cc96",
           "#ab63fa",
           "#FFA15A",
           "#19d3f3",
           "#FF6692",
           "#B6E880",
           "#FF97FF",
           "#FECB52"
          ],
          "font": {
           "color": "#2a3f5f"
          },
          "geo": {
           "bgcolor": "white",
           "lakecolor": "white",
           "landcolor": "#E5ECF6",
           "showlakes": true,
           "showland": true,
           "subunitcolor": "white"
          },
          "hoverlabel": {
           "align": "left"
          },
          "hovermode": "closest",
          "mapbox": {
           "style": "light"
          },
          "paper_bgcolor": "white",
          "plot_bgcolor": "#E5ECF6",
          "polar": {
           "angularaxis": {
            "gridcolor": "white",
            "linecolor": "white",
            "ticks": ""
           },
           "bgcolor": "#E5ECF6",
           "radialaxis": {
            "gridcolor": "white",
            "linecolor": "white",
            "ticks": ""
           }
          },
          "scene": {
           "xaxis": {
            "backgroundcolor": "#E5ECF6",
            "gridcolor": "white",
            "gridwidth": 2,
            "linecolor": "white",
            "showbackground": true,
            "ticks": "",
            "zerolinecolor": "white"
           },
           "yaxis": {
            "backgroundcolor": "#E5ECF6",
            "gridcolor": "white",
            "gridwidth": 2,
            "linecolor": "white",
            "showbackground": true,
            "ticks": "",
            "zerolinecolor": "white"
           },
           "zaxis": {
            "backgroundcolor": "#E5ECF6",
            "gridcolor": "white",
            "gridwidth": 2,
            "linecolor": "white",
            "showbackground": true,
            "ticks": "",
            "zerolinecolor": "white"
           }
          },
          "shapedefaults": {
           "line": {
            "color": "#2a3f5f"
           }
          },
          "ternary": {
           "aaxis": {
            "gridcolor": "white",
            "linecolor": "white",
            "ticks": ""
           },
           "baxis": {
            "gridcolor": "white",
            "linecolor": "white",
            "ticks": ""
           },
           "bgcolor": "#E5ECF6",
           "caxis": {
            "gridcolor": "white",
            "linecolor": "white",
            "ticks": ""
           }
          },
          "title": {
           "x": 0.05
          },
          "xaxis": {
           "automargin": true,
           "gridcolor": "white",
           "linecolor": "white",
           "ticks": "",
           "title": {
            "standoff": 15
           },
           "zerolinecolor": "white",
           "zerolinewidth": 2
          },
          "yaxis": {
           "automargin": true,
           "gridcolor": "white",
           "linecolor": "white",
           "ticks": "",
           "title": {
            "standoff": 15
           },
           "zerolinecolor": "white",
           "zerolinewidth": 2
          }
         }
        },
        "title": {
         "text": "FAAC_2020",
         "x": 0.5,
         "y": 0.8
        },
        "uniformtext": {
         "minsize": 8,
         "mode": "hide"
        },
        "width": 1000,
        "xaxis": {
         "anchor": "y",
         "categoryarray": [
          "ABIA STATE",
          "ADAMAWA STATE",
          "AKWA IBOW STATE",
          "ANAMBRA STATE",
          "BAUCHI STATE",
          "BAYELSA STATE",
          "BENUE STATE",
          "BORNO STATE",
          "CROSS-RIVER STATE",
          "DELTA STATE",
          "EBONYI STATE",
          "EDO STATE",
          "EKITI STATE",
          "ENUGU STATE",
          "GOMBE STATE",
          "IMO STATE",
          "JIGAWA STATE",
          "KADUNA STATE",
          "KANO STATE",
          "KATSINA STATE",
          "KEBBI STATE",
          "KOGI STATE",
          "KWARA STATE",
          "LAGOS STATE",
          "NASARAWA STATE",
          "NIGER STATE",
          "OGUN STATE",
          "ONDO STATE",
          "OSUN STATE",
          "OYO STATE",
          "PLATEAU STATE",
          "RIVERS STATE",
          "SOKOTO STATE",
          "TARABA STATE",
          "YOBE STATE",
          "ZAMFARA STATE",
          "FEDERAL CAPITAL TERRITORY (FCT)"
         ],
         "categoryorder": "array",
         "domain": [
          0,
          1
         ],
         "title": {
          "text": "STATE"
         }
        },
        "yaxis": {
         "anchor": "x",
         "domain": [
          0,
          1
         ],
         "title": {
          "text": "AUGUST"
         }
        }
       }
      },
      "text/html": [
       "<div>                            <div id=\"4e3ae7ee-7c62-4ee8-881e-b49fda6b0368\" class=\"plotly-graph-div\" style=\"height:750px; width:1000px;\"></div>            <script type=\"text/javascript\">                require([\"plotly\"], function(Plotly) {                    window.PLOTLYENV=window.PLOTLYENV || {};                                    if (document.getElementById(\"4e3ae7ee-7c62-4ee8-881e-b49fda6b0368\")) {                    Plotly.newPlot(                        \"4e3ae7ee-7c62-4ee8-881e-b49fda6b0368\",                        [{\"alignmentgroup\": \"True\", \"hovertemplate\": \"STATE=%{x}<br>AUGUST=%{y}<extra></extra>\", \"legendgroup\": \"ABIA STATE\", \"marker\": {\"color\": \"#636efa\"}, \"name\": \"ABIA STATE\", \"offsetgroup\": \"ABIA STATE\", \"orientation\": \"v\", \"showlegend\": true, \"textposition\": \"outside\", \"texttemplate\": \"%{text:.4s}\", \"type\": \"bar\", \"x\": [\"ABIA STATE\"], \"xaxis\": \"x\", \"y\": [2810930839], \"yaxis\": \"y\"}, {\"alignmentgroup\": \"True\", \"hovertemplate\": \"STATE=%{x}<br>AUGUST=%{y}<extra></extra>\", \"legendgroup\": \"ADAMAWA STATE\", \"marker\": {\"color\": \"#EF553B\"}, \"name\": \"ADAMAWA STATE\", \"offsetgroup\": \"ADAMAWA STATE\", \"orientation\": \"v\", \"showlegend\": true, \"textposition\": \"outside\", \"texttemplate\": \"%{text:.4s}\", \"type\": \"bar\", \"x\": [\"ADAMAWA STATE\"], \"xaxis\": \"x\", \"y\": [3521173689], \"yaxis\": \"y\"}, {\"alignmentgroup\": \"True\", \"hovertemplate\": \"STATE=%{x}<br>AUGUST=%{y}<extra></extra>\", \"legendgroup\": \"AKWA IBOW STATE\", \"marker\": {\"color\": \"#00cc96\"}, \"name\": \"AKWA IBOW STATE\", \"offsetgroup\": \"AKWA IBOW STATE\", \"orientation\": \"v\", \"showlegend\": true, \"textposition\": \"outside\", \"texttemplate\": \"%{text:.4s}\", \"type\": \"bar\", \"x\": [\"AKWA IBOW STATE\"], \"xaxis\": \"x\", \"y\": [4717716605], \"yaxis\": \"y\"}, {\"alignmentgroup\": \"True\", \"hovertemplate\": \"STATE=%{x}<br>AUGUST=%{y}<extra></extra>\", \"legendgroup\": \"ANAMBRA STATE\", \"marker\": {\"color\": \"#ab63fa\"}, \"name\": \"ANAMBRA STATE\", \"offsetgroup\": \"ANAMBRA STATE\", \"orientation\": \"v\", \"showlegend\": true, \"textposition\": \"outside\", \"texttemplate\": \"%{text:.4s}\", \"type\": \"bar\", \"x\": [\"ANAMBRA STATE\"], \"xaxis\": \"x\", \"y\": [3652901346], \"yaxis\": \"y\"}, {\"alignmentgroup\": \"True\", \"hovertemplate\": \"STATE=%{x}<br>AUGUST=%{y}<extra></extra>\", \"legendgroup\": \"BAUCHI STATE\", \"marker\": {\"color\": \"#FFA15A\"}, \"name\": \"BAUCHI STATE\", \"offsetgroup\": \"BAUCHI STATE\", \"orientation\": \"v\", \"showlegend\": true, \"textposition\": \"outside\", \"texttemplate\": \"%{text:.4s}\", \"type\": \"bar\", \"x\": [\"BAUCHI STATE\"], \"xaxis\": \"x\", \"y\": [3983143760], \"yaxis\": \"y\"}, {\"alignmentgroup\": \"True\", \"hovertemplate\": \"STATE=%{x}<br>AUGUST=%{y}<extra></extra>\", \"legendgroup\": \"BAYELSA STATE\", \"marker\": {\"color\": \"#19d3f3\"}, \"name\": \"BAYELSA STATE\", \"offsetgroup\": \"BAYELSA STATE\", \"orientation\": \"v\", \"showlegend\": true, \"textposition\": \"outside\", \"texttemplate\": \"%{text:.4s}\", \"type\": \"bar\", \"x\": [\"BAYELSA STATE\"], \"xaxis\": \"x\", \"y\": [1600343397], \"yaxis\": \"y\"}, {\"alignmentgroup\": \"True\", \"hovertemplate\": \"STATE=%{x}<br>AUGUST=%{y}<extra></extra>\", \"legendgroup\": \"BENUE STATE\", \"marker\": {\"color\": \"#FF6692\"}, \"name\": \"BENUE STATE\", \"offsetgroup\": \"BENUE STATE\", \"orientation\": \"v\", \"showlegend\": true, \"textposition\": \"outside\", \"texttemplate\": \"%{text:.4s}\", \"type\": \"bar\", \"x\": [\"BENUE STATE\"], \"xaxis\": \"x\", \"y\": [4276390960], \"yaxis\": \"y\"}, {\"alignmentgroup\": \"True\", \"hovertemplate\": \"STATE=%{x}<br>AUGUST=%{y}<extra></extra>\", \"legendgroup\": \"BORNO STATE\", \"marker\": {\"color\": \"#B6E880\"}, \"name\": \"BORNO STATE\", \"offsetgroup\": \"BORNO STATE\", \"orientation\": \"v\", \"showlegend\": true, \"textposition\": \"outside\", \"texttemplate\": \"%{text:.4s}\", \"type\": \"bar\", \"x\": [\"BORNO STATE\"], \"xaxis\": \"x\", \"y\": [4668850626], \"yaxis\": \"y\"}, {\"alignmentgroup\": \"True\", \"hovertemplate\": \"STATE=%{x}<br>AUGUST=%{y}<extra></extra>\", \"legendgroup\": \"CROSS-RIVER STATE\", \"marker\": {\"color\": \"#FF97FF\"}, \"name\": \"CROSS-RIVER STATE\", \"offsetgroup\": \"CROSS-RIVER STATE\", \"orientation\": \"v\", \"showlegend\": true, \"textposition\": \"outside\", \"texttemplate\": \"%{text:.4s}\", \"type\": \"bar\", \"x\": [\"CROSS-RIVER STATE\"], \"xaxis\": \"x\", \"y\": [3040418003], \"yaxis\": \"y\"}, {\"alignmentgroup\": \"True\", \"hovertemplate\": \"STATE=%{x}<br>AUGUST=%{y}<extra></extra>\", \"legendgroup\": \"DELTA STATE\", \"marker\": {\"color\": \"#FECB52\"}, \"name\": \"DELTA STATE\", \"offsetgroup\": \"DELTA STATE\", \"orientation\": \"v\", \"showlegend\": true, \"textposition\": \"outside\", \"texttemplate\": \"%{text:.4s}\", \"type\": \"bar\", \"x\": [\"DELTA STATE\"], \"xaxis\": \"x\", \"y\": [4018714705], \"yaxis\": \"y\"}, {\"alignmentgroup\": \"True\", \"hovertemplate\": \"STATE=%{x}<br>AUGUST=%{y}<extra></extra>\", \"legendgroup\": \"EBONYI STATE\", \"marker\": {\"color\": \"#636efa\"}, \"name\": \"EBONYI STATE\", \"offsetgroup\": \"EBONYI STATE\", \"orientation\": \"v\", \"showlegend\": true, \"textposition\": \"outside\", \"texttemplate\": \"%{text:.4s}\", \"type\": \"bar\", \"x\": [\"EBONYI STATE\"], \"xaxis\": \"x\", \"y\": [2295217926], \"yaxis\": \"y\"}, {\"alignmentgroup\": \"True\", \"hovertemplate\": \"STATE=%{x}<br>AUGUST=%{y}<extra></extra>\", \"legendgroup\": \"EDO STATE\", \"marker\": {\"color\": \"#EF553B\"}, \"name\": \"EDO STATE\", \"offsetgroup\": \"EDO STATE\", \"orientation\": \"v\", \"showlegend\": true, \"textposition\": \"outside\", \"texttemplate\": \"%{text:.4s}\", \"type\": \"bar\", \"x\": [\"EDO STATE\"], \"xaxis\": \"x\", \"y\": [3052677575], \"yaxis\": \"y\"}, {\"alignmentgroup\": \"True\", \"hovertemplate\": \"STATE=%{x}<br>AUGUST=%{y}<extra></extra>\", \"legendgroup\": \"EKITI STATE\", \"marker\": {\"color\": \"#00cc96\"}, \"name\": \"EKITI STATE\", \"offsetgroup\": \"EKITI STATE\", \"orientation\": \"v\", \"showlegend\": true, \"textposition\": \"outside\", \"texttemplate\": \"%{text:.4s}\", \"type\": \"bar\", \"x\": [\"EKITI STATE\"], \"xaxis\": \"x\", \"y\": [2437212212], \"yaxis\": \"y\"}, {\"alignmentgroup\": \"True\", \"hovertemplate\": \"STATE=%{x}<br>AUGUST=%{y}<extra></extra>\", \"legendgroup\": \"ENUGU STATE\", \"marker\": {\"color\": \"#ab63fa\"}, \"name\": \"ENUGU STATE\", \"offsetgroup\": \"ENUGU STATE\", \"orientation\": \"v\", \"showlegend\": true, \"textposition\": \"outside\", \"texttemplate\": \"%{text:.4s}\", \"type\": \"bar\", \"x\": [\"ENUGU STATE\"], \"xaxis\": \"x\", \"y\": [3053362878], \"yaxis\": \"y\"}, {\"alignmentgroup\": \"True\", \"hovertemplate\": \"STATE=%{x}<br>AUGUST=%{y}<extra></extra>\", \"legendgroup\": \"GOMBE STATE\", \"marker\": {\"color\": \"#FFA15A\"}, \"name\": \"GOMBE STATE\", \"offsetgroup\": \"GOMBE STATE\", \"orientation\": \"v\", \"showlegend\": true, \"textposition\": \"outside\", \"texttemplate\": \"%{text:.4s}\", \"type\": \"bar\", \"x\": [\"GOMBE STATE\"], \"xaxis\": \"x\", \"y\": [2086125918], \"yaxis\": \"y\"}, {\"alignmentgroup\": \"True\", \"hovertemplate\": \"STATE=%{x}<br>AUGUST=%{y}<extra></extra>\", \"legendgroup\": \"IMO STATE\", \"marker\": {\"color\": \"#19d3f3\"}, \"name\": \"IMO STATE\", \"offsetgroup\": \"IMO STATE\", \"orientation\": \"v\", \"showlegend\": true, \"textposition\": \"outside\", \"texttemplate\": \"%{text:.4s}\", \"type\": \"bar\", \"x\": [\"IMO STATE\"], \"xaxis\": \"x\", \"y\": [4145147303], \"yaxis\": \"y\"}, {\"alignmentgroup\": \"True\", \"hovertemplate\": \"STATE=%{x}<br>AUGUST=%{y}<extra></extra>\", \"legendgroup\": \"JIGAWA STATE\", \"marker\": {\"color\": \"#FF6692\"}, \"name\": \"JIGAWA STATE\", \"offsetgroup\": \"JIGAWA STATE\", \"orientation\": \"v\", \"showlegend\": true, \"textposition\": \"outside\", \"texttemplate\": \"%{text:.4s}\", \"type\": \"bar\", \"x\": [\"JIGAWA STATE\"], \"xaxis\": \"x\", \"y\": [4350067930], \"yaxis\": \"y\"}, {\"alignmentgroup\": \"True\", \"hovertemplate\": \"STATE=%{x}<br>AUGUST=%{y}<extra></extra>\", \"legendgroup\": \"KADUNA STATE\", \"marker\": {\"color\": \"#B6E880\"}, \"name\": \"KADUNA STATE\", \"offsetgroup\": \"KADUNA STATE\", \"orientation\": \"v\", \"showlegend\": true, \"textposition\": \"outside\", \"texttemplate\": \"%{text:.4s}\", \"type\": \"bar\", \"x\": [\"KADUNA STATE\"], \"xaxis\": \"x\", \"y\": [4807872487], \"yaxis\": \"y\"}, {\"alignmentgroup\": \"True\", \"hovertemplate\": \"STATE=%{x}<br>AUGUST=%{y}<extra></extra>\", \"legendgroup\": \"KANO STATE\", \"marker\": {\"color\": \"#FF97FF\"}, \"name\": \"KANO STATE\", \"offsetgroup\": \"KANO STATE\", \"orientation\": \"v\", \"showlegend\": true, \"textposition\": \"outside\", \"texttemplate\": \"%{text:.4s}\", \"type\": \"bar\", \"x\": [\"KANO STATE\"], \"xaxis\": \"x\", \"y\": [7962123286], \"yaxis\": \"y\"}, {\"alignmentgroup\": \"True\", \"hovertemplate\": \"STATE=%{x}<br>AUGUST=%{y}<extra></extra>\", \"legendgroup\": \"KATSINA STATE\", \"marker\": {\"color\": \"#FECB52\"}, \"name\": \"KATSINA STATE\", \"offsetgroup\": \"KATSINA STATE\", \"orientation\": \"v\", \"showlegend\": true, \"textposition\": \"outside\", \"texttemplate\": \"%{text:.4s}\", \"type\": \"bar\", \"x\": [\"KATSINA STATE\"], \"xaxis\": \"x\", \"y\": [5828589938], \"yaxis\": \"y\"}, {\"alignmentgroup\": \"True\", \"hovertemplate\": \"STATE=%{x}<br>AUGUST=%{y}<extra></extra>\", \"legendgroup\": \"KEBBI STATE\", \"marker\": {\"color\": \"#636efa\"}, \"name\": \"KEBBI STATE\", \"offsetgroup\": \"KEBBI STATE\", \"orientation\": \"v\", \"showlegend\": true, \"textposition\": \"outside\", \"texttemplate\": \"%{text:.4s}\", \"type\": \"bar\", \"x\": [\"KEBBI STATE\"], \"xaxis\": \"x\", \"y\": [3631978673], \"yaxis\": \"y\"}, {\"alignmentgroup\": \"True\", \"hovertemplate\": \"STATE=%{x}<br>AUGUST=%{y}<extra></extra>\", \"legendgroup\": \"KOGI STATE\", \"marker\": {\"color\": \"#EF553B\"}, \"name\": \"KOGI STATE\", \"offsetgroup\": \"KOGI STATE\", \"orientation\": \"v\", \"showlegend\": true, \"textposition\": \"outside\", \"texttemplate\": \"%{text:.4s}\", \"type\": \"bar\", \"x\": [\"KOGI STATE\"], \"xaxis\": \"x\", \"y\": [3726546047], \"yaxis\": \"y\"}, {\"alignmentgroup\": \"True\", \"hovertemplate\": \"STATE=%{x}<br>AUGUST=%{y}<extra></extra>\", \"legendgroup\": \"KWARA STATE\", \"marker\": {\"color\": \"#00cc96\"}, \"name\": \"KWARA STATE\", \"offsetgroup\": \"KWARA STATE\", \"orientation\": \"v\", \"showlegend\": true, \"textposition\": \"outside\", \"texttemplate\": \"%{text:.4s}\", \"type\": \"bar\", \"x\": [\"KWARA STATE\"], \"xaxis\": \"x\", \"y\": [2672851775], \"yaxis\": \"y\"}, {\"alignmentgroup\": \"True\", \"hovertemplate\": \"STATE=%{x}<br>AUGUST=%{y}<extra></extra>\", \"legendgroup\": \"LAGOS STATE\", \"marker\": {\"color\": \"#ab63fa\"}, \"name\": \"LAGOS STATE\", \"offsetgroup\": \"LAGOS STATE\", \"orientation\": \"v\", \"showlegend\": true, \"textposition\": \"outside\", \"texttemplate\": \"%{text:.4s}\", \"type\": \"bar\", \"x\": [\"LAGOS STATE\"], \"xaxis\": \"x\", \"y\": [10970711105], \"yaxis\": \"y\"}, {\"alignmentgroup\": \"True\", \"hovertemplate\": \"STATE=%{x}<br>AUGUST=%{y}<extra></extra>\", \"legendgroup\": \"NASARAWA STATE\", \"marker\": {\"color\": \"#FFA15A\"}, \"name\": \"NASARAWA STATE\", \"offsetgroup\": \"NASARAWA STATE\", \"orientation\": \"v\", \"showlegend\": true, \"textposition\": \"outside\", \"texttemplate\": \"%{text:.4s}\", \"type\": \"bar\", \"x\": [\"NASARAWA STATE\"], \"xaxis\": \"x\", \"y\": [2327954862], \"yaxis\": \"y\"}, {\"alignmentgroup\": \"True\", \"hovertemplate\": \"STATE=%{x}<br>AUGUST=%{y}<extra></extra>\", \"legendgroup\": \"NIGER STATE\", \"marker\": {\"color\": \"#19d3f3\"}, \"name\": \"NIGER STATE\", \"offsetgroup\": \"NIGER STATE\", \"orientation\": \"v\", \"showlegend\": true, \"textposition\": \"outside\", \"texttemplate\": \"%{text:.4s}\", \"type\": \"bar\", \"x\": [\"NIGER STATE\"], \"xaxis\": \"x\", \"y\": [4382755626], \"yaxis\": \"y\"}, {\"alignmentgroup\": \"True\", \"hovertemplate\": \"STATE=%{x}<br>AUGUST=%{y}<extra></extra>\", \"legendgroup\": \"OGUN STATE\", \"marker\": {\"color\": \"#FF6692\"}, \"name\": \"OGUN STATE\", \"offsetgroup\": \"OGUN STATE\", \"orientation\": \"v\", \"showlegend\": true, \"textposition\": \"outside\", \"texttemplate\": \"%{text:.4s}\", \"type\": \"bar\", \"x\": [\"OGUN STATE\"], \"xaxis\": \"x\", \"y\": [3292280835], \"yaxis\": \"y\"}, {\"alignmentgroup\": \"True\", \"hovertemplate\": \"STATE=%{x}<br>AUGUST=%{y}<extra></extra>\", \"legendgroup\": \"ONDO STATE\", \"marker\": {\"color\": \"#B6E880\"}, \"name\": \"ONDO STATE\", \"offsetgroup\": \"ONDO STATE\", \"orientation\": \"v\", \"showlegend\": true, \"textposition\": \"outside\", \"texttemplate\": \"%{text:.4s}\", \"type\": \"bar\", \"x\": [\"ONDO STATE\"], \"xaxis\": \"x\", \"y\": [3079630872], \"yaxis\": \"y\"}, {\"alignmentgroup\": \"True\", \"hovertemplate\": \"STATE=%{x}<br>AUGUST=%{y}<extra></extra>\", \"legendgroup\": \"OSUN STATE\", \"marker\": {\"color\": \"#FF97FF\"}, \"name\": \"OSUN STATE\", \"offsetgroup\": \"OSUN STATE\", \"orientation\": \"v\", \"showlegend\": true, \"textposition\": \"outside\", \"texttemplate\": \"%{text:.4s}\", \"type\": \"bar\", \"x\": [\"OSUN STATE\"], \"xaxis\": \"x\", \"y\": [4214370737], \"yaxis\": \"y\"}, {\"alignmentgroup\": \"True\", \"hovertemplate\": \"STATE=%{x}<br>AUGUST=%{y}<extra></extra>\", \"legendgroup\": \"OYO STATE\", \"marker\": {\"color\": \"#FECB52\"}, \"name\": \"OYO STATE\", \"offsetgroup\": \"OYO STATE\", \"orientation\": \"v\", \"showlegend\": true, \"textposition\": \"outside\", \"texttemplate\": \"%{text:.4s}\", \"type\": \"bar\", \"x\": [\"OYO STATE\"], \"xaxis\": \"x\", \"y\": [5537803788], \"yaxis\": \"y\"}, {\"alignmentgroup\": \"True\", \"hovertemplate\": \"STATE=%{x}<br>AUGUST=%{y}<extra></extra>\", \"legendgroup\": \"PLATEAU STATE\", \"marker\": {\"color\": \"#636efa\"}, \"name\": \"PLATEAU STATE\", \"offsetgroup\": \"PLATEAU STATE\", \"orientation\": \"v\", \"showlegend\": true, \"textposition\": \"outside\", \"texttemplate\": \"%{text:.4s}\", \"type\": \"bar\", \"x\": [\"PLATEAU STATE\"], \"xaxis\": \"x\", \"y\": [3193881879], \"yaxis\": \"y\"}, {\"alignmentgroup\": \"True\", \"hovertemplate\": \"STATE=%{x}<br>AUGUST=%{y}<extra></extra>\", \"legendgroup\": \"RIVERS STATE\", \"marker\": {\"color\": \"#EF553B\"}, \"name\": \"RIVERS STATE\", \"offsetgroup\": \"RIVERS STATE\", \"orientation\": \"v\", \"showlegend\": true, \"textposition\": \"outside\", \"texttemplate\": \"%{text:.4s}\", \"type\": \"bar\", \"x\": [\"RIVERS STATE\"], \"xaxis\": \"x\", \"y\": [4349327824], \"yaxis\": \"y\"}, {\"alignmentgroup\": \"True\", \"hovertemplate\": \"STATE=%{x}<br>AUGUST=%{y}<extra></extra>\", \"legendgroup\": \"SOKOTO STATE\", \"marker\": {\"color\": \"#00cc96\"}, \"name\": \"SOKOTO STATE\", \"offsetgroup\": \"SOKOTO STATE\", \"orientation\": \"v\", \"showlegend\": true, \"textposition\": \"outside\", \"texttemplate\": \"%{text:.4s}\", \"type\": \"bar\", \"x\": [\"SOKOTO STATE\"], \"xaxis\": \"x\", \"y\": [3997946362], \"yaxis\": \"y\"}, {\"alignmentgroup\": \"True\", \"hovertemplate\": \"STATE=%{x}<br>AUGUST=%{y}<extra></extra>\", \"legendgroup\": \"TARABA STATE\", \"marker\": {\"color\": \"#ab63fa\"}, \"name\": \"TARABA STATE\", \"offsetgroup\": \"TARABA STATE\", \"orientation\": \"v\", \"showlegend\": true, \"textposition\": \"outside\", \"texttemplate\": \"%{text:.4s}\", \"type\": \"bar\", \"x\": [\"TARABA STATE\"], \"xaxis\": \"x\", \"y\": [2965713798], \"yaxis\": \"y\"}, {\"alignmentgroup\": \"True\", \"hovertemplate\": \"STATE=%{x}<br>AUGUST=%{y}<extra></extra>\", \"legendgroup\": \"YOBE STATE\", \"marker\": {\"color\": \"#FFA15A\"}, \"name\": \"YOBE STATE\", \"offsetgroup\": \"YOBE STATE\", \"orientation\": \"v\", \"showlegend\": true, \"textposition\": \"outside\", \"texttemplate\": \"%{text:.4s}\", \"type\": \"bar\", \"x\": [\"YOBE STATE\"], \"xaxis\": \"x\", \"y\": [2984962060], \"yaxis\": \"y\"}, {\"alignmentgroup\": \"True\", \"hovertemplate\": \"STATE=%{x}<br>AUGUST=%{y}<extra></extra>\", \"legendgroup\": \"ZAMFARA STATE\", \"marker\": {\"color\": \"#19d3f3\"}, \"name\": \"ZAMFARA STATE\", \"offsetgroup\": \"ZAMFARA STATE\", \"orientation\": \"v\", \"showlegend\": true, \"textposition\": \"outside\", \"texttemplate\": \"%{text:.4s}\", \"type\": \"bar\", \"x\": [\"ZAMFARA STATE\"], \"xaxis\": \"x\", \"y\": [2740967594], \"yaxis\": \"y\"}, {\"alignmentgroup\": \"True\", \"hovertemplate\": \"STATE=%{x}<br>AUGUST=%{y}<extra></extra>\", \"legendgroup\": \"FEDERAL CAPITAL TERRITORY (FCT)\", \"marker\": {\"color\": \"#FF6692\"}, \"name\": \"FEDERAL CAPITAL TERRITORY (FCT)\", \"offsetgroup\": \"FEDERAL CAPITAL TERRITORY (FCT)\", \"orientation\": \"v\", \"showlegend\": true, \"textposition\": \"outside\", \"texttemplate\": \"%{text:.4s}\", \"type\": \"bar\", \"x\": [\"FEDERAL CAPITAL TERRITORY (FCT)\"], \"xaxis\": \"x\", \"y\": [2365588575], \"yaxis\": \"y\"}],                        {\"barmode\": \"relative\", \"height\": 750, \"legend\": {\"title\": {\"text\": \"STATE\"}, \"tracegroupgap\": 0}, \"margin\": {\"t\": 60}, \"template\": {\"data\": {\"bar\": [{\"error_x\": {\"color\": \"#2a3f5f\"}, \"error_y\": {\"color\": \"#2a3f5f\"}, \"marker\": {\"line\": {\"color\": \"#E5ECF6\", \"width\": 0.5}}, \"type\": \"bar\"}], \"barpolar\": [{\"marker\": {\"line\": {\"color\": \"#E5ECF6\", \"width\": 0.5}}, \"type\": \"barpolar\"}], \"carpet\": [{\"aaxis\": {\"endlinecolor\": \"#2a3f5f\", \"gridcolor\": \"white\", \"linecolor\": \"white\", \"minorgridcolor\": \"white\", \"startlinecolor\": \"#2a3f5f\"}, \"baxis\": {\"endlinecolor\": \"#2a3f5f\", \"gridcolor\": \"white\", \"linecolor\": \"white\", \"minorgridcolor\": \"white\", \"startlinecolor\": \"#2a3f5f\"}, \"type\": \"carpet\"}], \"choropleth\": [{\"colorbar\": {\"outlinewidth\": 0, \"ticks\": \"\"}, \"type\": \"choropleth\"}], \"contour\": [{\"colorbar\": {\"outlinewidth\": 0, \"ticks\": \"\"}, \"colorscale\": [[0.0, \"#0d0887\"], [0.1111111111111111, \"#46039f\"], [0.2222222222222222, \"#7201a8\"], [0.3333333333333333, \"#9c179e\"], [0.4444444444444444, \"#bd3786\"], [0.5555555555555556, \"#d8576b\"], [0.6666666666666666, \"#ed7953\"], [0.7777777777777778, \"#fb9f3a\"], [0.8888888888888888, \"#fdca26\"], [1.0, \"#f0f921\"]], \"type\": \"contour\"}], \"contourcarpet\": [{\"colorbar\": {\"outlinewidth\": 0, \"ticks\": \"\"}, \"type\": \"contourcarpet\"}], \"heatmap\": [{\"colorbar\": {\"outlinewidth\": 0, \"ticks\": \"\"}, \"colorscale\": [[0.0, \"#0d0887\"], [0.1111111111111111, \"#46039f\"], [0.2222222222222222, \"#7201a8\"], [0.3333333333333333, \"#9c179e\"], [0.4444444444444444, \"#bd3786\"], [0.5555555555555556, \"#d8576b\"], [0.6666666666666666, \"#ed7953\"], [0.7777777777777778, \"#fb9f3a\"], [0.8888888888888888, \"#fdca26\"], [1.0, \"#f0f921\"]], \"type\": \"heatmap\"}], \"heatmapgl\": [{\"colorbar\": {\"outlinewidth\": 0, \"ticks\": \"\"}, \"colorscale\": [[0.0, \"#0d0887\"], [0.1111111111111111, \"#46039f\"], [0.2222222222222222, \"#7201a8\"], [0.3333333333333333, \"#9c179e\"], [0.4444444444444444, \"#bd3786\"], [0.5555555555555556, \"#d8576b\"], [0.6666666666666666, \"#ed7953\"], [0.7777777777777778, \"#fb9f3a\"], [0.8888888888888888, \"#fdca26\"], [1.0, \"#f0f921\"]], \"type\": \"heatmapgl\"}], \"histogram\": [{\"marker\": {\"colorbar\": {\"outlinewidth\": 0, \"ticks\": \"\"}}, \"type\": \"histogram\"}], \"histogram2d\": [{\"colorbar\": {\"outlinewidth\": 0, \"ticks\": \"\"}, \"colorscale\": [[0.0, \"#0d0887\"], [0.1111111111111111, \"#46039f\"], [0.2222222222222222, \"#7201a8\"], [0.3333333333333333, \"#9c179e\"], [0.4444444444444444, \"#bd3786\"], [0.5555555555555556, \"#d8576b\"], [0.6666666666666666, \"#ed7953\"], [0.7777777777777778, \"#fb9f3a\"], [0.8888888888888888, \"#fdca26\"], [1.0, \"#f0f921\"]], \"type\": \"histogram2d\"}], \"histogram2dcontour\": [{\"colorbar\": {\"outlinewidth\": 0, \"ticks\": \"\"}, \"colorscale\": [[0.0, \"#0d0887\"], [0.1111111111111111, \"#46039f\"], [0.2222222222222222, \"#7201a8\"], [0.3333333333333333, \"#9c179e\"], [0.4444444444444444, \"#bd3786\"], [0.5555555555555556, \"#d8576b\"], [0.6666666666666666, \"#ed7953\"], [0.7777777777777778, \"#fb9f3a\"], [0.8888888888888888, \"#fdca26\"], [1.0, \"#f0f921\"]], \"type\": \"histogram2dcontour\"}], \"mesh3d\": [{\"colorbar\": {\"outlinewidth\": 0, \"ticks\": \"\"}, \"type\": \"mesh3d\"}], \"parcoords\": [{\"line\": {\"colorbar\": {\"outlinewidth\": 0, \"ticks\": \"\"}}, \"type\": \"parcoords\"}], \"pie\": [{\"automargin\": true, \"type\": \"pie\"}], \"scatter\": [{\"marker\": {\"colorbar\": {\"outlinewidth\": 0, \"ticks\": \"\"}}, \"type\": \"scatter\"}], \"scatter3d\": [{\"line\": {\"colorbar\": {\"outlinewidth\": 0, \"ticks\": \"\"}}, \"marker\": {\"colorbar\": {\"outlinewidth\": 0, \"ticks\": \"\"}}, \"type\": \"scatter3d\"}], \"scattercarpet\": [{\"marker\": {\"colorbar\": {\"outlinewidth\": 0, \"ticks\": \"\"}}, \"type\": \"scattercarpet\"}], \"scattergeo\": [{\"marker\": {\"colorbar\": {\"outlinewidth\": 0, \"ticks\": \"\"}}, \"type\": \"scattergeo\"}], \"scattergl\": [{\"marker\": {\"colorbar\": {\"outlinewidth\": 0, \"ticks\": \"\"}}, \"type\": \"scattergl\"}], \"scattermapbox\": [{\"marker\": {\"colorbar\": {\"outlinewidth\": 0, \"ticks\": \"\"}}, \"type\": \"scattermapbox\"}], \"scatterpolar\": [{\"marker\": {\"colorbar\": {\"outlinewidth\": 0, \"ticks\": \"\"}}, \"type\": \"scatterpolar\"}], \"scatterpolargl\": [{\"marker\": {\"colorbar\": {\"outlinewidth\": 0, \"ticks\": \"\"}}, \"type\": \"scatterpolargl\"}], \"scatterternary\": [{\"marker\": {\"colorbar\": {\"outlinewidth\": 0, \"ticks\": \"\"}}, \"type\": \"scatterternary\"}], \"surface\": [{\"colorbar\": {\"outlinewidth\": 0, \"ticks\": \"\"}, \"colorscale\": [[0.0, \"#0d0887\"], [0.1111111111111111, \"#46039f\"], [0.2222222222222222, \"#7201a8\"], [0.3333333333333333, \"#9c179e\"], [0.4444444444444444, \"#bd3786\"], [0.5555555555555556, \"#d8576b\"], [0.6666666666666666, \"#ed7953\"], [0.7777777777777778, \"#fb9f3a\"], [0.8888888888888888, \"#fdca26\"], [1.0, \"#f0f921\"]], \"type\": \"surface\"}], \"table\": [{\"cells\": {\"fill\": {\"color\": \"#EBF0F8\"}, \"line\": {\"color\": \"white\"}}, \"header\": {\"fill\": {\"color\": \"#C8D4E3\"}, \"line\": {\"color\": \"white\"}}, \"type\": \"table\"}]}, \"layout\": {\"annotationdefaults\": {\"arrowcolor\": \"#2a3f5f\", \"arrowhead\": 0, \"arrowwidth\": 1}, \"autotypenumbers\": \"strict\", \"coloraxis\": {\"colorbar\": {\"outlinewidth\": 0, \"ticks\": \"\"}}, \"colorscale\": {\"diverging\": [[0, \"#8e0152\"], [0.1, \"#c51b7d\"], [0.2, \"#de77ae\"], [0.3, \"#f1b6da\"], [0.4, \"#fde0ef\"], [0.5, \"#f7f7f7\"], [0.6, \"#e6f5d0\"], [0.7, \"#b8e186\"], [0.8, \"#7fbc41\"], [0.9, \"#4d9221\"], [1, \"#276419\"]], \"sequential\": [[0.0, \"#0d0887\"], [0.1111111111111111, \"#46039f\"], [0.2222222222222222, \"#7201a8\"], [0.3333333333333333, \"#9c179e\"], [0.4444444444444444, \"#bd3786\"], [0.5555555555555556, \"#d8576b\"], [0.6666666666666666, \"#ed7953\"], [0.7777777777777778, \"#fb9f3a\"], [0.8888888888888888, \"#fdca26\"], [1.0, \"#f0f921\"]], \"sequentialminus\": [[0.0, \"#0d0887\"], [0.1111111111111111, \"#46039f\"], [0.2222222222222222, \"#7201a8\"], [0.3333333333333333, \"#9c179e\"], [0.4444444444444444, \"#bd3786\"], [0.5555555555555556, \"#d8576b\"], [0.6666666666666666, \"#ed7953\"], [0.7777777777777778, \"#fb9f3a\"], [0.8888888888888888, \"#fdca26\"], [1.0, \"#f0f921\"]]}, \"colorway\": [\"#636efa\", \"#EF553B\", \"#00cc96\", \"#ab63fa\", \"#FFA15A\", \"#19d3f3\", \"#FF6692\", \"#B6E880\", \"#FF97FF\", \"#FECB52\"], \"font\": {\"color\": \"#2a3f5f\"}, \"geo\": {\"bgcolor\": \"white\", \"lakecolor\": \"white\", \"landcolor\": \"#E5ECF6\", \"showlakes\": true, \"showland\": true, \"subunitcolor\": \"white\"}, \"hoverlabel\": {\"align\": \"left\"}, \"hovermode\": \"closest\", \"mapbox\": {\"style\": \"light\"}, \"paper_bgcolor\": \"white\", \"plot_bgcolor\": \"#E5ECF6\", \"polar\": {\"angularaxis\": {\"gridcolor\": \"white\", \"linecolor\": \"white\", \"ticks\": \"\"}, \"bgcolor\": \"#E5ECF6\", \"radialaxis\": {\"gridcolor\": \"white\", \"linecolor\": \"white\", \"ticks\": \"\"}}, \"scene\": {\"xaxis\": {\"backgroundcolor\": \"#E5ECF6\", \"gridcolor\": \"white\", \"gridwidth\": 2, \"linecolor\": \"white\", \"showbackground\": true, \"ticks\": \"\", \"zerolinecolor\": \"white\"}, \"yaxis\": {\"backgroundcolor\": \"#E5ECF6\", \"gridcolor\": \"white\", \"gridwidth\": 2, \"linecolor\": \"white\", \"showbackground\": true, \"ticks\": \"\", \"zerolinecolor\": \"white\"}, \"zaxis\": {\"backgroundcolor\": \"#E5ECF6\", \"gridcolor\": \"white\", \"gridwidth\": 2, \"linecolor\": \"white\", \"showbackground\": true, \"ticks\": \"\", \"zerolinecolor\": \"white\"}}, \"shapedefaults\": {\"line\": {\"color\": \"#2a3f5f\"}}, \"ternary\": {\"aaxis\": {\"gridcolor\": \"white\", \"linecolor\": \"white\", \"ticks\": \"\"}, \"baxis\": {\"gridcolor\": \"white\", \"linecolor\": \"white\", \"ticks\": \"\"}, \"bgcolor\": \"#E5ECF6\", \"caxis\": {\"gridcolor\": \"white\", \"linecolor\": \"white\", \"ticks\": \"\"}}, \"title\": {\"x\": 0.05}, \"xaxis\": {\"automargin\": true, \"gridcolor\": \"white\", \"linecolor\": \"white\", \"ticks\": \"\", \"title\": {\"standoff\": 15}, \"zerolinecolor\": \"white\", \"zerolinewidth\": 2}, \"yaxis\": {\"automargin\": true, \"gridcolor\": \"white\", \"linecolor\": \"white\", \"ticks\": \"\", \"title\": {\"standoff\": 15}, \"zerolinecolor\": \"white\", \"zerolinewidth\": 2}}}, \"title\": {\"text\": \"FAAC_2020\", \"x\": 0.5, \"y\": 0.8}, \"uniformtext\": {\"minsize\": 8, \"mode\": \"hide\"}, \"width\": 1000, \"xaxis\": {\"anchor\": \"y\", \"categoryarray\": [\"ABIA STATE\", \"ADAMAWA STATE\", \"AKWA IBOW STATE\", \"ANAMBRA STATE\", \"BAUCHI STATE\", \"BAYELSA STATE\", \"BENUE STATE\", \"BORNO STATE\", \"CROSS-RIVER STATE\", \"DELTA STATE\", \"EBONYI STATE\", \"EDO STATE\", \"EKITI STATE\", \"ENUGU STATE\", \"GOMBE STATE\", \"IMO STATE\", \"JIGAWA STATE\", \"KADUNA STATE\", \"KANO STATE\", \"KATSINA STATE\", \"KEBBI STATE\", \"KOGI STATE\", \"KWARA STATE\", \"LAGOS STATE\", \"NASARAWA STATE\", \"NIGER STATE\", \"OGUN STATE\", \"ONDO STATE\", \"OSUN STATE\", \"OYO STATE\", \"PLATEAU STATE\", \"RIVERS STATE\", \"SOKOTO STATE\", \"TARABA STATE\", \"YOBE STATE\", \"ZAMFARA STATE\", \"FEDERAL CAPITAL TERRITORY (FCT)\"], \"categoryorder\": \"array\", \"domain\": [0.0, 1.0], \"title\": {\"text\": \"STATE\"}}, \"yaxis\": {\"anchor\": \"x\", \"domain\": [0.0, 1.0], \"title\": {\"text\": \"AUGUST\"}}},                        {\"responsive\": true}                    ).then(function(){\n",
       "                            \n",
       "var gd = document.getElementById('4e3ae7ee-7c62-4ee8-881e-b49fda6b0368');\n",
       "var x = new MutationObserver(function (mutations, observer) {{\n",
       "        var display = window.getComputedStyle(gd).display;\n",
       "        if (!display || display === 'none') {{\n",
       "            console.log([gd, 'removed!']);\n",
       "            Plotly.purge(gd);\n",
       "            observer.disconnect();\n",
       "        }}\n",
       "}});\n",
       "\n",
       "// Listen for the removal of the full notebook cells\n",
       "var notebookContainer = gd.closest('#notebook-container');\n",
       "if (notebookContainer) {{\n",
       "    x.observe(notebookContainer, {childList: true});\n",
       "}}\n",
       "\n",
       "// Listen for the clearing of the current output cell\n",
       "var outputEl = gd.closest('.output');\n",
       "if (outputEl) {{\n",
       "    x.observe(outputEl, {childList: true});\n",
       "}}\n",
       "\n",
       "                        })                };                });            </script>        </div>"
      ]
     },
     "metadata": {},
     "output_type": "display_data"
    }
   ],
   "source": [
    "fig=px.bar(FAAC_2020, y = \"AUGUST\", x = \"STATE\",orientation = \"v\", color = \"STATE\")\n",
    "fig.update_traces(texttemplate=\"%{text:.4s}\", textposition=\"outside\")\n",
    "fig.update_layout(uniformtext_minsize= 8, uniformtext_mode= \"hide\")\n",
    "fig.update_layout(\n",
    "    title = {\n",
    "       \"text\":\"FAAC_2020\",\n",
    "       \"y\":0.8,\n",
    "       \"x\":0.5,\n",
    "       },height = 750, width = 1000)"
   ]
  },
  {
   "cell_type": "code",
   "execution_count": 53,
   "metadata": {},
   "outputs": [
    {
     "data": {
      "application/vnd.plotly.v1+json": {
       "config": {
        "plotlyServerURL": "https://plot.ly"
       },
       "data": [
        {
         "alignmentgroup": "True",
         "hovertemplate": "STATE=%{x}<br>SEPTEMBER=%{y}<extra></extra>",
         "legendgroup": "ABIA STATE",
         "marker": {
          "color": "#636efa"
         },
         "name": "ABIA STATE",
         "offsetgroup": "ABIA STATE",
         "orientation": "v",
         "showlegend": true,
         "textposition": "outside",
         "texttemplate": "%{text:.4s}",
         "type": "bar",
         "x": [
          "ABIA STATE"
         ],
         "xaxis": "x",
         "y": [
          2773895905
         ],
         "yaxis": "y"
        },
        {
         "alignmentgroup": "True",
         "hovertemplate": "STATE=%{x}<br>SEPTEMBER=%{y}<extra></extra>",
         "legendgroup": "ADAMAWA STATE",
         "marker": {
          "color": "#EF553B"
         },
         "name": "ADAMAWA STATE",
         "offsetgroup": "ADAMAWA STATE",
         "orientation": "v",
         "showlegend": true,
         "textposition": "outside",
         "texttemplate": "%{text:.4s}",
         "type": "bar",
         "x": [
          "ADAMAWA STATE"
         ],
         "xaxis": "x",
         "y": [
          3469056745
         ],
         "yaxis": "y"
        },
        {
         "alignmentgroup": "True",
         "hovertemplate": "STATE=%{x}<br>SEPTEMBER=%{y}<extra></extra>",
         "legendgroup": "AKWA IBOW STATE",
         "marker": {
          "color": "#00cc96"
         },
         "name": "AKWA IBOW STATE",
         "offsetgroup": "AKWA IBOW STATE",
         "orientation": "v",
         "showlegend": true,
         "textposition": "outside",
         "texttemplate": "%{text:.4s}",
         "type": "bar",
         "x": [
          "AKWA IBOW STATE"
         ],
         "xaxis": "x",
         "y": [
          4642221805
         ],
         "yaxis": "y"
        },
        {
         "alignmentgroup": "True",
         "hovertemplate": "STATE=%{x}<br>SEPTEMBER=%{y}<extra></extra>",
         "legendgroup": "ANAMBRA STATE",
         "marker": {
          "color": "#ab63fa"
         },
         "name": "ANAMBRA STATE",
         "offsetgroup": "ANAMBRA STATE",
         "orientation": "v",
         "showlegend": true,
         "textposition": "outside",
         "texttemplate": "%{text:.4s}",
         "type": "bar",
         "x": [
          "ANAMBRA STATE"
         ],
         "xaxis": "x",
         "y": [
          3619022330
         ],
         "yaxis": "y"
        },
        {
         "alignmentgroup": "True",
         "hovertemplate": "STATE=%{x}<br>SEPTEMBER=%{y}<extra></extra>",
         "legendgroup": "BAUCHI STATE",
         "marker": {
          "color": "#FFA15A"
         },
         "name": "BAUCHI STATE",
         "offsetgroup": "BAUCHI STATE",
         "orientation": "v",
         "showlegend": true,
         "textposition": "outside",
         "texttemplate": "%{text:.4s}",
         "type": "bar",
         "x": [
          "BAUCHI STATE"
         ],
         "xaxis": "x",
         "y": [
          3943155666
         ],
         "yaxis": "y"
        },
        {
         "alignmentgroup": "True",
         "hovertemplate": "STATE=%{x}<br>SEPTEMBER=%{y}<extra></extra>",
         "legendgroup": "BAYELSA STATE",
         "marker": {
          "color": "#19d3f3"
         },
         "name": "BAYELSA STATE",
         "offsetgroup": "BAYELSA STATE",
         "orientation": "v",
         "showlegend": true,
         "textposition": "outside",
         "texttemplate": "%{text:.4s}",
         "type": "bar",
         "x": [
          "BAYELSA STATE"
         ],
         "xaxis": "x",
         "y": [
          1601635186
         ],
         "yaxis": "y"
        },
        {
         "alignmentgroup": "True",
         "hovertemplate": "STATE=%{x}<br>SEPTEMBER=%{y}<extra></extra>",
         "legendgroup": "BENUE STATE",
         "marker": {
          "color": "#FF6692"
         },
         "name": "BENUE STATE",
         "offsetgroup": "BENUE STATE",
         "orientation": "v",
         "showlegend": true,
         "textposition": "outside",
         "texttemplate": "%{text:.4s}",
         "type": "bar",
         "x": [
          "BENUE STATE"
         ],
         "xaxis": "x",
         "y": [
          4250539470
         ],
         "yaxis": "y"
        },
        {
         "alignmentgroup": "True",
         "hovertemplate": "STATE=%{x}<br>SEPTEMBER=%{y}<extra></extra>",
         "legendgroup": "BORNO STATE",
         "marker": {
          "color": "#B6E880"
         },
         "name": "BORNO STATE",
         "offsetgroup": "BORNO STATE",
         "orientation": "v",
         "showlegend": true,
         "textposition": "outside",
         "texttemplate": "%{text:.4s}",
         "type": "bar",
         "x": [
          "BORNO STATE"
         ],
         "xaxis": "x",
         "y": [
          4604694090
         ],
         "yaxis": "y"
        },
        {
         "alignmentgroup": "True",
         "hovertemplate": "STATE=%{x}<br>SEPTEMBER=%{y}<extra></extra>",
         "legendgroup": "CROSS-RIVER STATE",
         "marker": {
          "color": "#FF97FF"
         },
         "name": "CROSS-RIVER STATE",
         "offsetgroup": "CROSS-RIVER STATE",
         "orientation": "v",
         "showlegend": true,
         "textposition": "outside",
         "texttemplate": "%{text:.4s}",
         "type": "bar",
         "x": [
          "CROSS-RIVER STATE"
         ],
         "xaxis": "x",
         "y": [
          3002500951
         ],
         "yaxis": "y"
        },
        {
         "alignmentgroup": "True",
         "hovertemplate": "STATE=%{x}<br>SEPTEMBER=%{y}<extra></extra>",
         "legendgroup": "DELTA STATE",
         "marker": {
          "color": "#FECB52"
         },
         "name": "DELTA STATE",
         "offsetgroup": "DELTA STATE",
         "orientation": "v",
         "showlegend": true,
         "textposition": "outside",
         "texttemplate": "%{text:.4s}",
         "type": "bar",
         "x": [
          "DELTA STATE"
         ],
         "xaxis": "x",
         "y": [
          3981350398
         ],
         "yaxis": "y"
        },
        {
         "alignmentgroup": "True",
         "hovertemplate": "STATE=%{x}<br>SEPTEMBER=%{y}<extra></extra>",
         "legendgroup": "EBONYI STATE",
         "marker": {
          "color": "#636efa"
         },
         "name": "EBONYI STATE",
         "offsetgroup": "EBONYI STATE",
         "orientation": "v",
         "showlegend": true,
         "textposition": "outside",
         "texttemplate": "%{text:.4s}",
         "type": "bar",
         "x": [
          "EBONYI STATE"
         ],
         "xaxis": "x",
         "y": [
          2250801402
         ],
         "yaxis": "y"
        },
        {
         "alignmentgroup": "True",
         "hovertemplate": "STATE=%{x}<br>SEPTEMBER=%{y}<extra></extra>",
         "legendgroup": "EDO STATE",
         "marker": {
          "color": "#EF553B"
         },
         "name": "EDO STATE",
         "offsetgroup": "EDO STATE",
         "orientation": "v",
         "showlegend": true,
         "textposition": "outside",
         "texttemplate": "%{text:.4s}",
         "type": "bar",
         "x": [
          "EDO STATE"
         ],
         "xaxis": "x",
         "y": [
          3000302456
         ],
         "yaxis": "y"
        },
        {
         "alignmentgroup": "True",
         "hovertemplate": "STATE=%{x}<br>SEPTEMBER=%{y}<extra></extra>",
         "legendgroup": "EKITI STATE",
         "marker": {
          "color": "#00cc96"
         },
         "name": "EKITI STATE",
         "offsetgroup": "EKITI STATE",
         "orientation": "v",
         "showlegend": true,
         "textposition": "outside",
         "texttemplate": "%{text:.4s}",
         "type": "bar",
         "x": [
          "EKITI STATE"
         ],
         "xaxis": "x",
         "y": [
          2426876508
         ],
         "yaxis": "y"
        },
        {
         "alignmentgroup": "True",
         "hovertemplate": "STATE=%{x}<br>SEPTEMBER=%{y}<extra></extra>",
         "legendgroup": "ENUGU STATE",
         "marker": {
          "color": "#ab63fa"
         },
         "name": "ENUGU STATE",
         "offsetgroup": "ENUGU STATE",
         "orientation": "v",
         "showlegend": true,
         "textposition": "outside",
         "texttemplate": "%{text:.4s}",
         "type": "bar",
         "x": [
          "ENUGU STATE"
         ],
         "xaxis": "x",
         "y": [
          3025274736
         ],
         "yaxis": "y"
        },
        {
         "alignmentgroup": "True",
         "hovertemplate": "STATE=%{x}<br>SEPTEMBER=%{y}<extra></extra>",
         "legendgroup": "GOMBE STATE",
         "marker": {
          "color": "#FFA15A"
         },
         "name": "GOMBE STATE",
         "offsetgroup": "GOMBE STATE",
         "orientation": "v",
         "showlegend": true,
         "textposition": "outside",
         "texttemplate": "%{text:.4s}",
         "type": "bar",
         "x": [
          "GOMBE STATE"
         ],
         "xaxis": "x",
         "y": [
          2069551367
         ],
         "yaxis": "y"
        },
        {
         "alignmentgroup": "True",
         "hovertemplate": "STATE=%{x}<br>SEPTEMBER=%{y}<extra></extra>",
         "legendgroup": "IMO STATE",
         "marker": {
          "color": "#19d3f3"
         },
         "name": "IMO STATE",
         "offsetgroup": "IMO STATE",
         "orientation": "v",
         "showlegend": true,
         "textposition": "outside",
         "texttemplate": "%{text:.4s}",
         "type": "bar",
         "x": [
          "IMO STATE"
         ],
         "xaxis": "x",
         "y": [
          4083767503
         ],
         "yaxis": "y"
        },
        {
         "alignmentgroup": "True",
         "hovertemplate": "STATE=%{x}<br>SEPTEMBER=%{y}<extra></extra>",
         "legendgroup": "JIGAWA STATE",
         "marker": {
          "color": "#FF6692"
         },
         "name": "JIGAWA STATE",
         "offsetgroup": "JIGAWA STATE",
         "orientation": "v",
         "showlegend": true,
         "textposition": "outside",
         "texttemplate": "%{text:.4s}",
         "type": "bar",
         "x": [
          "JIGAWA STATE"
         ],
         "xaxis": "x",
         "y": [
          4294930965
         ],
         "yaxis": "y"
        },
        {
         "alignmentgroup": "True",
         "hovertemplate": "STATE=%{x}<br>SEPTEMBER=%{y}<extra></extra>",
         "legendgroup": "KADUNA STATE",
         "marker": {
          "color": "#B6E880"
         },
         "name": "KADUNA STATE",
         "offsetgroup": "KADUNA STATE",
         "orientation": "v",
         "showlegend": true,
         "textposition": "outside",
         "texttemplate": "%{text:.4s}",
         "type": "bar",
         "x": [
          "KADUNA STATE"
         ],
         "xaxis": "x",
         "y": [
          4845013018
         ],
         "yaxis": "y"
        },
        {
         "alignmentgroup": "True",
         "hovertemplate": "STATE=%{x}<br>SEPTEMBER=%{y}<extra></extra>",
         "legendgroup": "KANO STATE",
         "marker": {
          "color": "#FF97FF"
         },
         "name": "KANO STATE",
         "offsetgroup": "KANO STATE",
         "orientation": "v",
         "showlegend": true,
         "textposition": "outside",
         "texttemplate": "%{text:.4s}",
         "type": "bar",
         "x": [
          "KANO STATE"
         ],
         "xaxis": "x",
         "y": [
          7879251053
         ],
         "yaxis": "y"
        },
        {
         "alignmentgroup": "True",
         "hovertemplate": "STATE=%{x}<br>SEPTEMBER=%{y}<extra></extra>",
         "legendgroup": "KATSINA STATE",
         "marker": {
          "color": "#FECB52"
         },
         "name": "KATSINA STATE",
         "offsetgroup": "KATSINA STATE",
         "orientation": "v",
         "showlegend": true,
         "textposition": "outside",
         "texttemplate": "%{text:.4s}",
         "type": "bar",
         "x": [
          "KATSINA STATE"
         ],
         "xaxis": "x",
         "y": [
          5804459759
         ],
         "yaxis": "y"
        },
        {
         "alignmentgroup": "True",
         "hovertemplate": "STATE=%{x}<br>SEPTEMBER=%{y}<extra></extra>",
         "legendgroup": "KEBBI STATE",
         "marker": {
          "color": "#636efa"
         },
         "name": "KEBBI STATE",
         "offsetgroup": "KEBBI STATE",
         "orientation": "v",
         "showlegend": true,
         "textposition": "outside",
         "texttemplate": "%{text:.4s}",
         "type": "bar",
         "x": [
          "KEBBI STATE"
         ],
         "xaxis": "x",
         "y": [
          3592624923
         ],
         "yaxis": "y"
        },
        {
         "alignmentgroup": "True",
         "hovertemplate": "STATE=%{x}<br>SEPTEMBER=%{y}<extra></extra>",
         "legendgroup": "KOGI STATE",
         "marker": {
          "color": "#EF553B"
         },
         "name": "KOGI STATE",
         "offsetgroup": "KOGI STATE",
         "orientation": "v",
         "showlegend": true,
         "textposition": "outside",
         "texttemplate": "%{text:.4s}",
         "type": "bar",
         "x": [
          "KOGI STATE"
         ],
         "xaxis": "x",
         "y": [
          3704031740
         ],
         "yaxis": "y"
        },
        {
         "alignmentgroup": "True",
         "hovertemplate": "STATE=%{x}<br>SEPTEMBER=%{y}<extra></extra>",
         "legendgroup": "KWARA STATE",
         "marker": {
          "color": "#00cc96"
         },
         "name": "KWARA STATE",
         "offsetgroup": "KWARA STATE",
         "orientation": "v",
         "showlegend": true,
         "textposition": "outside",
         "texttemplate": "%{text:.4s}",
         "type": "bar",
         "x": [
          "KWARA STATE"
         ],
         "xaxis": "x",
         "y": [
          2640952789
         ],
         "yaxis": "y"
        },
        {
         "alignmentgroup": "True",
         "hovertemplate": "STATE=%{x}<br>SEPTEMBER=%{y}<extra></extra>",
         "legendgroup": "LAGOS STATE",
         "marker": {
          "color": "#ab63fa"
         },
         "name": "LAGOS STATE",
         "offsetgroup": "LAGOS STATE",
         "orientation": "v",
         "showlegend": true,
         "textposition": "outside",
         "texttemplate": "%{text:.4s}",
         "type": "bar",
         "x": [
          "LAGOS STATE"
         ],
         "xaxis": "x",
         "y": [
          10887249946
         ],
         "yaxis": "y"
        },
        {
         "alignmentgroup": "True",
         "hovertemplate": "STATE=%{x}<br>SEPTEMBER=%{y}<extra></extra>",
         "legendgroup": "NASARAWA STATE",
         "marker": {
          "color": "#FFA15A"
         },
         "name": "NASARAWA STATE",
         "offsetgroup": "NASARAWA STATE",
         "orientation": "v",
         "showlegend": true,
         "textposition": "outside",
         "texttemplate": "%{text:.4s}",
         "type": "bar",
         "x": [
          "NASARAWA STATE"
         ],
         "xaxis": "x",
         "y": [
          2301802732
         ],
         "yaxis": "y"
        },
        {
         "alignmentgroup": "True",
         "hovertemplate": "STATE=%{x}<br>SEPTEMBER=%{y}<extra></extra>",
         "legendgroup": "NIGER STATE",
         "marker": {
          "color": "#19d3f3"
         },
         "name": "NIGER STATE",
         "offsetgroup": "NIGER STATE",
         "orientation": "v",
         "showlegend": true,
         "textposition": "outside",
         "texttemplate": "%{text:.4s}",
         "type": "bar",
         "x": [
          "NIGER STATE"
         ],
         "xaxis": "x",
         "y": [
          4341975739
         ],
         "yaxis": "y"
        },
        {
         "alignmentgroup": "True",
         "hovertemplate": "STATE=%{x}<br>SEPTEMBER=%{y}<extra></extra>",
         "legendgroup": "OGUN STATE",
         "marker": {
          "color": "#FF6692"
         },
         "name": "OGUN STATE",
         "offsetgroup": "OGUN STATE",
         "orientation": "v",
         "showlegend": true,
         "textposition": "outside",
         "texttemplate": "%{text:.4s}",
         "type": "bar",
         "x": [
          "OGUN STATE"
         ],
         "xaxis": "x",
         "y": [
          3255827763
         ],
         "yaxis": "y"
        },
        {
         "alignmentgroup": "True",
         "hovertemplate": "STATE=%{x}<br>SEPTEMBER=%{y}<extra></extra>",
         "legendgroup": "ONDO STATE",
         "marker": {
          "color": "#B6E880"
         },
         "name": "ONDO STATE",
         "offsetgroup": "ONDO STATE",
         "orientation": "v",
         "showlegend": true,
         "textposition": "outside",
         "texttemplate": "%{text:.4s}",
         "type": "bar",
         "x": [
          "ONDO STATE"
         ],
         "xaxis": "x",
         "y": [
          3044656346
         ],
         "yaxis": "y"
        },
        {
         "alignmentgroup": "True",
         "hovertemplate": "STATE=%{x}<br>SEPTEMBER=%{y}<extra></extra>",
         "legendgroup": "OSUN STATE",
         "marker": {
          "color": "#FF97FF"
         },
         "name": "OSUN STATE",
         "offsetgroup": "OSUN STATE",
         "orientation": "v",
         "showlegend": true,
         "textposition": "outside",
         "texttemplate": "%{text:.4s}",
         "type": "bar",
         "x": [
          "OSUN STATE"
         ],
         "xaxis": "x",
         "y": [
          4127164000
         ],
         "yaxis": "y"
        },
        {
         "alignmentgroup": "True",
         "hovertemplate": "STATE=%{x}<br>SEPTEMBER=%{y}<extra></extra>",
         "legendgroup": "OYO STATE",
         "marker": {
          "color": "#FECB52"
         },
         "name": "OYO STATE",
         "offsetgroup": "OYO STATE",
         "orientation": "v",
         "showlegend": true,
         "textposition": "outside",
         "texttemplate": "%{text:.4s}",
         "type": "bar",
         "x": [
          "OYO STATE"
         ],
         "xaxis": "x",
         "y": [
          5464675850
         ],
         "yaxis": "y"
        },
        {
         "alignmentgroup": "True",
         "hovertemplate": "STATE=%{x}<br>SEPTEMBER=%{y}<extra></extra>",
         "legendgroup": "PLATEAU STATE",
         "marker": {
          "color": "#636efa"
         },
         "name": "PLATEAU STATE",
         "offsetgroup": "PLATEAU STATE",
         "orientation": "v",
         "showlegend": true,
         "textposition": "outside",
         "texttemplate": "%{text:.4s}",
         "type": "bar",
         "x": [
          "PLATEAU STATE"
         ],
         "xaxis": "x",
         "y": [
          3165165786
         ],
         "yaxis": "y"
        },
        {
         "alignmentgroup": "True",
         "hovertemplate": "STATE=%{x}<br>SEPTEMBER=%{y}<extra></extra>",
         "legendgroup": "RIVERS STATE",
         "marker": {
          "color": "#EF553B"
         },
         "name": "RIVERS STATE",
         "offsetgroup": "RIVERS STATE",
         "orientation": "v",
         "showlegend": true,
         "textposition": "outside",
         "texttemplate": "%{text:.4s}",
         "type": "bar",
         "x": [
          "RIVERS STATE"
         ],
         "xaxis": "x",
         "y": [
          4389778900
         ],
         "yaxis": "y"
        },
        {
         "alignmentgroup": "True",
         "hovertemplate": "STATE=%{x}<br>SEPTEMBER=%{y}<extra></extra>",
         "legendgroup": "SOKOTO STATE",
         "marker": {
          "color": "#00cc96"
         },
         "name": "SOKOTO STATE",
         "offsetgroup": "SOKOTO STATE",
         "orientation": "v",
         "showlegend": true,
         "textposition": "outside",
         "texttemplate": "%{text:.4s}",
         "type": "bar",
         "x": [
          "SOKOTO STATE"
         ],
         "xaxis": "x",
         "y": [
          3954714368
         ],
         "yaxis": "y"
        },
        {
         "alignmentgroup": "True",
         "hovertemplate": "STATE=%{x}<br>SEPTEMBER=%{y}<extra></extra>",
         "legendgroup": "TARABA STATE",
         "marker": {
          "color": "#ab63fa"
         },
         "name": "TARABA STATE",
         "offsetgroup": "TARABA STATE",
         "orientation": "v",
         "showlegend": true,
         "textposition": "outside",
         "texttemplate": "%{text:.4s}",
         "type": "bar",
         "x": [
          "TARABA STATE"
         ],
         "xaxis": "x",
         "y": [
          2878281701
         ],
         "yaxis": "y"
        },
        {
         "alignmentgroup": "True",
         "hovertemplate": "STATE=%{x}<br>SEPTEMBER=%{y}<extra></extra>",
         "legendgroup": "YOBE STATE",
         "marker": {
          "color": "#FFA15A"
         },
         "name": "YOBE STATE",
         "offsetgroup": "YOBE STATE",
         "orientation": "v",
         "showlegend": true,
         "textposition": "outside",
         "texttemplate": "%{text:.4s}",
         "type": "bar",
         "x": [
          "YOBE STATE"
         ],
         "xaxis": "x",
         "y": [
          2947863889
         ],
         "yaxis": "y"
        },
        {
         "alignmentgroup": "True",
         "hovertemplate": "STATE=%{x}<br>SEPTEMBER=%{y}<extra></extra>",
         "legendgroup": "ZAMFARA STATE",
         "marker": {
          "color": "#19d3f3"
         },
         "name": "ZAMFARA STATE",
         "offsetgroup": "ZAMFARA STATE",
         "orientation": "v",
         "showlegend": true,
         "textposition": "outside",
         "texttemplate": "%{text:.4s}",
         "type": "bar",
         "x": [
          "ZAMFARA STATE"
         ],
         "xaxis": "x",
         "y": [
          2727760217
         ],
         "yaxis": "y"
        },
        {
         "alignmentgroup": "True",
         "hovertemplate": "STATE=%{x}<br>SEPTEMBER=%{y}<extra></extra>",
         "legendgroup": "FEDERAL CAPITAL TERRITORY (FCT)",
         "marker": {
          "color": "#FF6692"
         },
         "name": "FEDERAL CAPITAL TERRITORY (FCT)",
         "offsetgroup": "FEDERAL CAPITAL TERRITORY (FCT)",
         "orientation": "v",
         "showlegend": true,
         "textposition": "outside",
         "texttemplate": "%{text:.4s}",
         "type": "bar",
         "x": [
          "FEDERAL CAPITAL TERRITORY (FCT)"
         ],
         "xaxis": "x",
         "y": [
          3282755520
         ],
         "yaxis": "y"
        }
       ],
       "layout": {
        "barmode": "relative",
        "height": 750,
        "legend": {
         "title": {
          "text": "STATE"
         },
         "tracegroupgap": 0
        },
        "margin": {
         "t": 60
        },
        "template": {
         "data": {
          "bar": [
           {
            "error_x": {
             "color": "#2a3f5f"
            },
            "error_y": {
             "color": "#2a3f5f"
            },
            "marker": {
             "line": {
              "color": "#E5ECF6",
              "width": 0.5
             }
            },
            "type": "bar"
           }
          ],
          "barpolar": [
           {
            "marker": {
             "line": {
              "color": "#E5ECF6",
              "width": 0.5
             }
            },
            "type": "barpolar"
           }
          ],
          "carpet": [
           {
            "aaxis": {
             "endlinecolor": "#2a3f5f",
             "gridcolor": "white",
             "linecolor": "white",
             "minorgridcolor": "white",
             "startlinecolor": "#2a3f5f"
            },
            "baxis": {
             "endlinecolor": "#2a3f5f",
             "gridcolor": "white",
             "linecolor": "white",
             "minorgridcolor": "white",
             "startlinecolor": "#2a3f5f"
            },
            "type": "carpet"
           }
          ],
          "choropleth": [
           {
            "colorbar": {
             "outlinewidth": 0,
             "ticks": ""
            },
            "type": "choropleth"
           }
          ],
          "contour": [
           {
            "colorbar": {
             "outlinewidth": 0,
             "ticks": ""
            },
            "colorscale": [
             [
              0,
              "#0d0887"
             ],
             [
              0.1111111111111111,
              "#46039f"
             ],
             [
              0.2222222222222222,
              "#7201a8"
             ],
             [
              0.3333333333333333,
              "#9c179e"
             ],
             [
              0.4444444444444444,
              "#bd3786"
             ],
             [
              0.5555555555555556,
              "#d8576b"
             ],
             [
              0.6666666666666666,
              "#ed7953"
             ],
             [
              0.7777777777777778,
              "#fb9f3a"
             ],
             [
              0.8888888888888888,
              "#fdca26"
             ],
             [
              1,
              "#f0f921"
             ]
            ],
            "type": "contour"
           }
          ],
          "contourcarpet": [
           {
            "colorbar": {
             "outlinewidth": 0,
             "ticks": ""
            },
            "type": "contourcarpet"
           }
          ],
          "heatmap": [
           {
            "colorbar": {
             "outlinewidth": 0,
             "ticks": ""
            },
            "colorscale": [
             [
              0,
              "#0d0887"
             ],
             [
              0.1111111111111111,
              "#46039f"
             ],
             [
              0.2222222222222222,
              "#7201a8"
             ],
             [
              0.3333333333333333,
              "#9c179e"
             ],
             [
              0.4444444444444444,
              "#bd3786"
             ],
             [
              0.5555555555555556,
              "#d8576b"
             ],
             [
              0.6666666666666666,
              "#ed7953"
             ],
             [
              0.7777777777777778,
              "#fb9f3a"
             ],
             [
              0.8888888888888888,
              "#fdca26"
             ],
             [
              1,
              "#f0f921"
             ]
            ],
            "type": "heatmap"
           }
          ],
          "heatmapgl": [
           {
            "colorbar": {
             "outlinewidth": 0,
             "ticks": ""
            },
            "colorscale": [
             [
              0,
              "#0d0887"
             ],
             [
              0.1111111111111111,
              "#46039f"
             ],
             [
              0.2222222222222222,
              "#7201a8"
             ],
             [
              0.3333333333333333,
              "#9c179e"
             ],
             [
              0.4444444444444444,
              "#bd3786"
             ],
             [
              0.5555555555555556,
              "#d8576b"
             ],
             [
              0.6666666666666666,
              "#ed7953"
             ],
             [
              0.7777777777777778,
              "#fb9f3a"
             ],
             [
              0.8888888888888888,
              "#fdca26"
             ],
             [
              1,
              "#f0f921"
             ]
            ],
            "type": "heatmapgl"
           }
          ],
          "histogram": [
           {
            "marker": {
             "colorbar": {
              "outlinewidth": 0,
              "ticks": ""
             }
            },
            "type": "histogram"
           }
          ],
          "histogram2d": [
           {
            "colorbar": {
             "outlinewidth": 0,
             "ticks": ""
            },
            "colorscale": [
             [
              0,
              "#0d0887"
             ],
             [
              0.1111111111111111,
              "#46039f"
             ],
             [
              0.2222222222222222,
              "#7201a8"
             ],
             [
              0.3333333333333333,
              "#9c179e"
             ],
             [
              0.4444444444444444,
              "#bd3786"
             ],
             [
              0.5555555555555556,
              "#d8576b"
             ],
             [
              0.6666666666666666,
              "#ed7953"
             ],
             [
              0.7777777777777778,
              "#fb9f3a"
             ],
             [
              0.8888888888888888,
              "#fdca26"
             ],
             [
              1,
              "#f0f921"
             ]
            ],
            "type": "histogram2d"
           }
          ],
          "histogram2dcontour": [
           {
            "colorbar": {
             "outlinewidth": 0,
             "ticks": ""
            },
            "colorscale": [
             [
              0,
              "#0d0887"
             ],
             [
              0.1111111111111111,
              "#46039f"
             ],
             [
              0.2222222222222222,
              "#7201a8"
             ],
             [
              0.3333333333333333,
              "#9c179e"
             ],
             [
              0.4444444444444444,
              "#bd3786"
             ],
             [
              0.5555555555555556,
              "#d8576b"
             ],
             [
              0.6666666666666666,
              "#ed7953"
             ],
             [
              0.7777777777777778,
              "#fb9f3a"
             ],
             [
              0.8888888888888888,
              "#fdca26"
             ],
             [
              1,
              "#f0f921"
             ]
            ],
            "type": "histogram2dcontour"
           }
          ],
          "mesh3d": [
           {
            "colorbar": {
             "outlinewidth": 0,
             "ticks": ""
            },
            "type": "mesh3d"
           }
          ],
          "parcoords": [
           {
            "line": {
             "colorbar": {
              "outlinewidth": 0,
              "ticks": ""
             }
            },
            "type": "parcoords"
           }
          ],
          "pie": [
           {
            "automargin": true,
            "type": "pie"
           }
          ],
          "scatter": [
           {
            "marker": {
             "colorbar": {
              "outlinewidth": 0,
              "ticks": ""
             }
            },
            "type": "scatter"
           }
          ],
          "scatter3d": [
           {
            "line": {
             "colorbar": {
              "outlinewidth": 0,
              "ticks": ""
             }
            },
            "marker": {
             "colorbar": {
              "outlinewidth": 0,
              "ticks": ""
             }
            },
            "type": "scatter3d"
           }
          ],
          "scattercarpet": [
           {
            "marker": {
             "colorbar": {
              "outlinewidth": 0,
              "ticks": ""
             }
            },
            "type": "scattercarpet"
           }
          ],
          "scattergeo": [
           {
            "marker": {
             "colorbar": {
              "outlinewidth": 0,
              "ticks": ""
             }
            },
            "type": "scattergeo"
           }
          ],
          "scattergl": [
           {
            "marker": {
             "colorbar": {
              "outlinewidth": 0,
              "ticks": ""
             }
            },
            "type": "scattergl"
           }
          ],
          "scattermapbox": [
           {
            "marker": {
             "colorbar": {
              "outlinewidth": 0,
              "ticks": ""
             }
            },
            "type": "scattermapbox"
           }
          ],
          "scatterpolar": [
           {
            "marker": {
             "colorbar": {
              "outlinewidth": 0,
              "ticks": ""
             }
            },
            "type": "scatterpolar"
           }
          ],
          "scatterpolargl": [
           {
            "marker": {
             "colorbar": {
              "outlinewidth": 0,
              "ticks": ""
             }
            },
            "type": "scatterpolargl"
           }
          ],
          "scatterternary": [
           {
            "marker": {
             "colorbar": {
              "outlinewidth": 0,
              "ticks": ""
             }
            },
            "type": "scatterternary"
           }
          ],
          "surface": [
           {
            "colorbar": {
             "outlinewidth": 0,
             "ticks": ""
            },
            "colorscale": [
             [
              0,
              "#0d0887"
             ],
             [
              0.1111111111111111,
              "#46039f"
             ],
             [
              0.2222222222222222,
              "#7201a8"
             ],
             [
              0.3333333333333333,
              "#9c179e"
             ],
             [
              0.4444444444444444,
              "#bd3786"
             ],
             [
              0.5555555555555556,
              "#d8576b"
             ],
             [
              0.6666666666666666,
              "#ed7953"
             ],
             [
              0.7777777777777778,
              "#fb9f3a"
             ],
             [
              0.8888888888888888,
              "#fdca26"
             ],
             [
              1,
              "#f0f921"
             ]
            ],
            "type": "surface"
           }
          ],
          "table": [
           {
            "cells": {
             "fill": {
              "color": "#EBF0F8"
             },
             "line": {
              "color": "white"
             }
            },
            "header": {
             "fill": {
              "color": "#C8D4E3"
             },
             "line": {
              "color": "white"
             }
            },
            "type": "table"
           }
          ]
         },
         "layout": {
          "annotationdefaults": {
           "arrowcolor": "#2a3f5f",
           "arrowhead": 0,
           "arrowwidth": 1
          },
          "autotypenumbers": "strict",
          "coloraxis": {
           "colorbar": {
            "outlinewidth": 0,
            "ticks": ""
           }
          },
          "colorscale": {
           "diverging": [
            [
             0,
             "#8e0152"
            ],
            [
             0.1,
             "#c51b7d"
            ],
            [
             0.2,
             "#de77ae"
            ],
            [
             0.3,
             "#f1b6da"
            ],
            [
             0.4,
             "#fde0ef"
            ],
            [
             0.5,
             "#f7f7f7"
            ],
            [
             0.6,
             "#e6f5d0"
            ],
            [
             0.7,
             "#b8e186"
            ],
            [
             0.8,
             "#7fbc41"
            ],
            [
             0.9,
             "#4d9221"
            ],
            [
             1,
             "#276419"
            ]
           ],
           "sequential": [
            [
             0,
             "#0d0887"
            ],
            [
             0.1111111111111111,
             "#46039f"
            ],
            [
             0.2222222222222222,
             "#7201a8"
            ],
            [
             0.3333333333333333,
             "#9c179e"
            ],
            [
             0.4444444444444444,
             "#bd3786"
            ],
            [
             0.5555555555555556,
             "#d8576b"
            ],
            [
             0.6666666666666666,
             "#ed7953"
            ],
            [
             0.7777777777777778,
             "#fb9f3a"
            ],
            [
             0.8888888888888888,
             "#fdca26"
            ],
            [
             1,
             "#f0f921"
            ]
           ],
           "sequentialminus": [
            [
             0,
             "#0d0887"
            ],
            [
             0.1111111111111111,
             "#46039f"
            ],
            [
             0.2222222222222222,
             "#7201a8"
            ],
            [
             0.3333333333333333,
             "#9c179e"
            ],
            [
             0.4444444444444444,
             "#bd3786"
            ],
            [
             0.5555555555555556,
             "#d8576b"
            ],
            [
             0.6666666666666666,
             "#ed7953"
            ],
            [
             0.7777777777777778,
             "#fb9f3a"
            ],
            [
             0.8888888888888888,
             "#fdca26"
            ],
            [
             1,
             "#f0f921"
            ]
           ]
          },
          "colorway": [
           "#636efa",
           "#EF553B",
           "#00cc96",
           "#ab63fa",
           "#FFA15A",
           "#19d3f3",
           "#FF6692",
           "#B6E880",
           "#FF97FF",
           "#FECB52"
          ],
          "font": {
           "color": "#2a3f5f"
          },
          "geo": {
           "bgcolor": "white",
           "lakecolor": "white",
           "landcolor": "#E5ECF6",
           "showlakes": true,
           "showland": true,
           "subunitcolor": "white"
          },
          "hoverlabel": {
           "align": "left"
          },
          "hovermode": "closest",
          "mapbox": {
           "style": "light"
          },
          "paper_bgcolor": "white",
          "plot_bgcolor": "#E5ECF6",
          "polar": {
           "angularaxis": {
            "gridcolor": "white",
            "linecolor": "white",
            "ticks": ""
           },
           "bgcolor": "#E5ECF6",
           "radialaxis": {
            "gridcolor": "white",
            "linecolor": "white",
            "ticks": ""
           }
          },
          "scene": {
           "xaxis": {
            "backgroundcolor": "#E5ECF6",
            "gridcolor": "white",
            "gridwidth": 2,
            "linecolor": "white",
            "showbackground": true,
            "ticks": "",
            "zerolinecolor": "white"
           },
           "yaxis": {
            "backgroundcolor": "#E5ECF6",
            "gridcolor": "white",
            "gridwidth": 2,
            "linecolor": "white",
            "showbackground": true,
            "ticks": "",
            "zerolinecolor": "white"
           },
           "zaxis": {
            "backgroundcolor": "#E5ECF6",
            "gridcolor": "white",
            "gridwidth": 2,
            "linecolor": "white",
            "showbackground": true,
            "ticks": "",
            "zerolinecolor": "white"
           }
          },
          "shapedefaults": {
           "line": {
            "color": "#2a3f5f"
           }
          },
          "ternary": {
           "aaxis": {
            "gridcolor": "white",
            "linecolor": "white",
            "ticks": ""
           },
           "baxis": {
            "gridcolor": "white",
            "linecolor": "white",
            "ticks": ""
           },
           "bgcolor": "#E5ECF6",
           "caxis": {
            "gridcolor": "white",
            "linecolor": "white",
            "ticks": ""
           }
          },
          "title": {
           "x": 0.05
          },
          "xaxis": {
           "automargin": true,
           "gridcolor": "white",
           "linecolor": "white",
           "ticks": "",
           "title": {
            "standoff": 15
           },
           "zerolinecolor": "white",
           "zerolinewidth": 2
          },
          "yaxis": {
           "automargin": true,
           "gridcolor": "white",
           "linecolor": "white",
           "ticks": "",
           "title": {
            "standoff": 15
           },
           "zerolinecolor": "white",
           "zerolinewidth": 2
          }
         }
        },
        "title": {
         "text": "FAAC_2020",
         "x": 0.5,
         "y": 0.8
        },
        "uniformtext": {
         "minsize": 8,
         "mode": "hide"
        },
        "width": 1000,
        "xaxis": {
         "anchor": "y",
         "categoryarray": [
          "ABIA STATE",
          "ADAMAWA STATE",
          "AKWA IBOW STATE",
          "ANAMBRA STATE",
          "BAUCHI STATE",
          "BAYELSA STATE",
          "BENUE STATE",
          "BORNO STATE",
          "CROSS-RIVER STATE",
          "DELTA STATE",
          "EBONYI STATE",
          "EDO STATE",
          "EKITI STATE",
          "ENUGU STATE",
          "GOMBE STATE",
          "IMO STATE",
          "JIGAWA STATE",
          "KADUNA STATE",
          "KANO STATE",
          "KATSINA STATE",
          "KEBBI STATE",
          "KOGI STATE",
          "KWARA STATE",
          "LAGOS STATE",
          "NASARAWA STATE",
          "NIGER STATE",
          "OGUN STATE",
          "ONDO STATE",
          "OSUN STATE",
          "OYO STATE",
          "PLATEAU STATE",
          "RIVERS STATE",
          "SOKOTO STATE",
          "TARABA STATE",
          "YOBE STATE",
          "ZAMFARA STATE",
          "FEDERAL CAPITAL TERRITORY (FCT)"
         ],
         "categoryorder": "array",
         "domain": [
          0,
          1
         ],
         "title": {
          "text": "STATE"
         }
        },
        "yaxis": {
         "anchor": "x",
         "domain": [
          0,
          1
         ],
         "title": {
          "text": "SEPTEMBER"
         }
        }
       }
      },
      "text/html": [
       "<div>                            <div id=\"0b13f4ec-c5fd-4d2d-a65f-dea04540610d\" class=\"plotly-graph-div\" style=\"height:750px; width:1000px;\"></div>            <script type=\"text/javascript\">                require([\"plotly\"], function(Plotly) {                    window.PLOTLYENV=window.PLOTLYENV || {};                                    if (document.getElementById(\"0b13f4ec-c5fd-4d2d-a65f-dea04540610d\")) {                    Plotly.newPlot(                        \"0b13f4ec-c5fd-4d2d-a65f-dea04540610d\",                        [{\"alignmentgroup\": \"True\", \"hovertemplate\": \"STATE=%{x}<br>SEPTEMBER=%{y}<extra></extra>\", \"legendgroup\": \"ABIA STATE\", \"marker\": {\"color\": \"#636efa\"}, \"name\": \"ABIA STATE\", \"offsetgroup\": \"ABIA STATE\", \"orientation\": \"v\", \"showlegend\": true, \"textposition\": \"outside\", \"texttemplate\": \"%{text:.4s}\", \"type\": \"bar\", \"x\": [\"ABIA STATE\"], \"xaxis\": \"x\", \"y\": [2773895905], \"yaxis\": \"y\"}, {\"alignmentgroup\": \"True\", \"hovertemplate\": \"STATE=%{x}<br>SEPTEMBER=%{y}<extra></extra>\", \"legendgroup\": \"ADAMAWA STATE\", \"marker\": {\"color\": \"#EF553B\"}, \"name\": \"ADAMAWA STATE\", \"offsetgroup\": \"ADAMAWA STATE\", \"orientation\": \"v\", \"showlegend\": true, \"textposition\": \"outside\", \"texttemplate\": \"%{text:.4s}\", \"type\": \"bar\", \"x\": [\"ADAMAWA STATE\"], \"xaxis\": \"x\", \"y\": [3469056745], \"yaxis\": \"y\"}, {\"alignmentgroup\": \"True\", \"hovertemplate\": \"STATE=%{x}<br>SEPTEMBER=%{y}<extra></extra>\", \"legendgroup\": \"AKWA IBOW STATE\", \"marker\": {\"color\": \"#00cc96\"}, \"name\": \"AKWA IBOW STATE\", \"offsetgroup\": \"AKWA IBOW STATE\", \"orientation\": \"v\", \"showlegend\": true, \"textposition\": \"outside\", \"texttemplate\": \"%{text:.4s}\", \"type\": \"bar\", \"x\": [\"AKWA IBOW STATE\"], \"xaxis\": \"x\", \"y\": [4642221805], \"yaxis\": \"y\"}, {\"alignmentgroup\": \"True\", \"hovertemplate\": \"STATE=%{x}<br>SEPTEMBER=%{y}<extra></extra>\", \"legendgroup\": \"ANAMBRA STATE\", \"marker\": {\"color\": \"#ab63fa\"}, \"name\": \"ANAMBRA STATE\", \"offsetgroup\": \"ANAMBRA STATE\", \"orientation\": \"v\", \"showlegend\": true, \"textposition\": \"outside\", \"texttemplate\": \"%{text:.4s}\", \"type\": \"bar\", \"x\": [\"ANAMBRA STATE\"], \"xaxis\": \"x\", \"y\": [3619022330], \"yaxis\": \"y\"}, {\"alignmentgroup\": \"True\", \"hovertemplate\": \"STATE=%{x}<br>SEPTEMBER=%{y}<extra></extra>\", \"legendgroup\": \"BAUCHI STATE\", \"marker\": {\"color\": \"#FFA15A\"}, \"name\": \"BAUCHI STATE\", \"offsetgroup\": \"BAUCHI STATE\", \"orientation\": \"v\", \"showlegend\": true, \"textposition\": \"outside\", \"texttemplate\": \"%{text:.4s}\", \"type\": \"bar\", \"x\": [\"BAUCHI STATE\"], \"xaxis\": \"x\", \"y\": [3943155666], \"yaxis\": \"y\"}, {\"alignmentgroup\": \"True\", \"hovertemplate\": \"STATE=%{x}<br>SEPTEMBER=%{y}<extra></extra>\", \"legendgroup\": \"BAYELSA STATE\", \"marker\": {\"color\": \"#19d3f3\"}, \"name\": \"BAYELSA STATE\", \"offsetgroup\": \"BAYELSA STATE\", \"orientation\": \"v\", \"showlegend\": true, \"textposition\": \"outside\", \"texttemplate\": \"%{text:.4s}\", \"type\": \"bar\", \"x\": [\"BAYELSA STATE\"], \"xaxis\": \"x\", \"y\": [1601635186], \"yaxis\": \"y\"}, {\"alignmentgroup\": \"True\", \"hovertemplate\": \"STATE=%{x}<br>SEPTEMBER=%{y}<extra></extra>\", \"legendgroup\": \"BENUE STATE\", \"marker\": {\"color\": \"#FF6692\"}, \"name\": \"BENUE STATE\", \"offsetgroup\": \"BENUE STATE\", \"orientation\": \"v\", \"showlegend\": true, \"textposition\": \"outside\", \"texttemplate\": \"%{text:.4s}\", \"type\": \"bar\", \"x\": [\"BENUE STATE\"], \"xaxis\": \"x\", \"y\": [4250539470], \"yaxis\": \"y\"}, {\"alignmentgroup\": \"True\", \"hovertemplate\": \"STATE=%{x}<br>SEPTEMBER=%{y}<extra></extra>\", \"legendgroup\": \"BORNO STATE\", \"marker\": {\"color\": \"#B6E880\"}, \"name\": \"BORNO STATE\", \"offsetgroup\": \"BORNO STATE\", \"orientation\": \"v\", \"showlegend\": true, \"textposition\": \"outside\", \"texttemplate\": \"%{text:.4s}\", \"type\": \"bar\", \"x\": [\"BORNO STATE\"], \"xaxis\": \"x\", \"y\": [4604694090], \"yaxis\": \"y\"}, {\"alignmentgroup\": \"True\", \"hovertemplate\": \"STATE=%{x}<br>SEPTEMBER=%{y}<extra></extra>\", \"legendgroup\": \"CROSS-RIVER STATE\", \"marker\": {\"color\": \"#FF97FF\"}, \"name\": \"CROSS-RIVER STATE\", \"offsetgroup\": \"CROSS-RIVER STATE\", \"orientation\": \"v\", \"showlegend\": true, \"textposition\": \"outside\", \"texttemplate\": \"%{text:.4s}\", \"type\": \"bar\", \"x\": [\"CROSS-RIVER STATE\"], \"xaxis\": \"x\", \"y\": [3002500951], \"yaxis\": \"y\"}, {\"alignmentgroup\": \"True\", \"hovertemplate\": \"STATE=%{x}<br>SEPTEMBER=%{y}<extra></extra>\", \"legendgroup\": \"DELTA STATE\", \"marker\": {\"color\": \"#FECB52\"}, \"name\": \"DELTA STATE\", \"offsetgroup\": \"DELTA STATE\", \"orientation\": \"v\", \"showlegend\": true, \"textposition\": \"outside\", \"texttemplate\": \"%{text:.4s}\", \"type\": \"bar\", \"x\": [\"DELTA STATE\"], \"xaxis\": \"x\", \"y\": [3981350398], \"yaxis\": \"y\"}, {\"alignmentgroup\": \"True\", \"hovertemplate\": \"STATE=%{x}<br>SEPTEMBER=%{y}<extra></extra>\", \"legendgroup\": \"EBONYI STATE\", \"marker\": {\"color\": \"#636efa\"}, \"name\": \"EBONYI STATE\", \"offsetgroup\": \"EBONYI STATE\", \"orientation\": \"v\", \"showlegend\": true, \"textposition\": \"outside\", \"texttemplate\": \"%{text:.4s}\", \"type\": \"bar\", \"x\": [\"EBONYI STATE\"], \"xaxis\": \"x\", \"y\": [2250801402], \"yaxis\": \"y\"}, {\"alignmentgroup\": \"True\", \"hovertemplate\": \"STATE=%{x}<br>SEPTEMBER=%{y}<extra></extra>\", \"legendgroup\": \"EDO STATE\", \"marker\": {\"color\": \"#EF553B\"}, \"name\": \"EDO STATE\", \"offsetgroup\": \"EDO STATE\", \"orientation\": \"v\", \"showlegend\": true, \"textposition\": \"outside\", \"texttemplate\": \"%{text:.4s}\", \"type\": \"bar\", \"x\": [\"EDO STATE\"], \"xaxis\": \"x\", \"y\": [3000302456], \"yaxis\": \"y\"}, {\"alignmentgroup\": \"True\", \"hovertemplate\": \"STATE=%{x}<br>SEPTEMBER=%{y}<extra></extra>\", \"legendgroup\": \"EKITI STATE\", \"marker\": {\"color\": \"#00cc96\"}, \"name\": \"EKITI STATE\", \"offsetgroup\": \"EKITI STATE\", \"orientation\": \"v\", \"showlegend\": true, \"textposition\": \"outside\", \"texttemplate\": \"%{text:.4s}\", \"type\": \"bar\", \"x\": [\"EKITI STATE\"], \"xaxis\": \"x\", \"y\": [2426876508], \"yaxis\": \"y\"}, {\"alignmentgroup\": \"True\", \"hovertemplate\": \"STATE=%{x}<br>SEPTEMBER=%{y}<extra></extra>\", \"legendgroup\": \"ENUGU STATE\", \"marker\": {\"color\": \"#ab63fa\"}, \"name\": \"ENUGU STATE\", \"offsetgroup\": \"ENUGU STATE\", \"orientation\": \"v\", \"showlegend\": true, \"textposition\": \"outside\", \"texttemplate\": \"%{text:.4s}\", \"type\": \"bar\", \"x\": [\"ENUGU STATE\"], \"xaxis\": \"x\", \"y\": [3025274736], \"yaxis\": \"y\"}, {\"alignmentgroup\": \"True\", \"hovertemplate\": \"STATE=%{x}<br>SEPTEMBER=%{y}<extra></extra>\", \"legendgroup\": \"GOMBE STATE\", \"marker\": {\"color\": \"#FFA15A\"}, \"name\": \"GOMBE STATE\", \"offsetgroup\": \"GOMBE STATE\", \"orientation\": \"v\", \"showlegend\": true, \"textposition\": \"outside\", \"texttemplate\": \"%{text:.4s}\", \"type\": \"bar\", \"x\": [\"GOMBE STATE\"], \"xaxis\": \"x\", \"y\": [2069551367], \"yaxis\": \"y\"}, {\"alignmentgroup\": \"True\", \"hovertemplate\": \"STATE=%{x}<br>SEPTEMBER=%{y}<extra></extra>\", \"legendgroup\": \"IMO STATE\", \"marker\": {\"color\": \"#19d3f3\"}, \"name\": \"IMO STATE\", \"offsetgroup\": \"IMO STATE\", \"orientation\": \"v\", \"showlegend\": true, \"textposition\": \"outside\", \"texttemplate\": \"%{text:.4s}\", \"type\": \"bar\", \"x\": [\"IMO STATE\"], \"xaxis\": \"x\", \"y\": [4083767503], \"yaxis\": \"y\"}, {\"alignmentgroup\": \"True\", \"hovertemplate\": \"STATE=%{x}<br>SEPTEMBER=%{y}<extra></extra>\", \"legendgroup\": \"JIGAWA STATE\", \"marker\": {\"color\": \"#FF6692\"}, \"name\": \"JIGAWA STATE\", \"offsetgroup\": \"JIGAWA STATE\", \"orientation\": \"v\", \"showlegend\": true, \"textposition\": \"outside\", \"texttemplate\": \"%{text:.4s}\", \"type\": \"bar\", \"x\": [\"JIGAWA STATE\"], \"xaxis\": \"x\", \"y\": [4294930965], \"yaxis\": \"y\"}, {\"alignmentgroup\": \"True\", \"hovertemplate\": \"STATE=%{x}<br>SEPTEMBER=%{y}<extra></extra>\", \"legendgroup\": \"KADUNA STATE\", \"marker\": {\"color\": \"#B6E880\"}, \"name\": \"KADUNA STATE\", \"offsetgroup\": \"KADUNA STATE\", \"orientation\": \"v\", \"showlegend\": true, \"textposition\": \"outside\", \"texttemplate\": \"%{text:.4s}\", \"type\": \"bar\", \"x\": [\"KADUNA STATE\"], \"xaxis\": \"x\", \"y\": [4845013018], \"yaxis\": \"y\"}, {\"alignmentgroup\": \"True\", \"hovertemplate\": \"STATE=%{x}<br>SEPTEMBER=%{y}<extra></extra>\", \"legendgroup\": \"KANO STATE\", \"marker\": {\"color\": \"#FF97FF\"}, \"name\": \"KANO STATE\", \"offsetgroup\": \"KANO STATE\", \"orientation\": \"v\", \"showlegend\": true, \"textposition\": \"outside\", \"texttemplate\": \"%{text:.4s}\", \"type\": \"bar\", \"x\": [\"KANO STATE\"], \"xaxis\": \"x\", \"y\": [7879251053], \"yaxis\": \"y\"}, {\"alignmentgroup\": \"True\", \"hovertemplate\": \"STATE=%{x}<br>SEPTEMBER=%{y}<extra></extra>\", \"legendgroup\": \"KATSINA STATE\", \"marker\": {\"color\": \"#FECB52\"}, \"name\": \"KATSINA STATE\", \"offsetgroup\": \"KATSINA STATE\", \"orientation\": \"v\", \"showlegend\": true, \"textposition\": \"outside\", \"texttemplate\": \"%{text:.4s}\", \"type\": \"bar\", \"x\": [\"KATSINA STATE\"], \"xaxis\": \"x\", \"y\": [5804459759], \"yaxis\": \"y\"}, {\"alignmentgroup\": \"True\", \"hovertemplate\": \"STATE=%{x}<br>SEPTEMBER=%{y}<extra></extra>\", \"legendgroup\": \"KEBBI STATE\", \"marker\": {\"color\": \"#636efa\"}, \"name\": \"KEBBI STATE\", \"offsetgroup\": \"KEBBI STATE\", \"orientation\": \"v\", \"showlegend\": true, \"textposition\": \"outside\", \"texttemplate\": \"%{text:.4s}\", \"type\": \"bar\", \"x\": [\"KEBBI STATE\"], \"xaxis\": \"x\", \"y\": [3592624923], \"yaxis\": \"y\"}, {\"alignmentgroup\": \"True\", \"hovertemplate\": \"STATE=%{x}<br>SEPTEMBER=%{y}<extra></extra>\", \"legendgroup\": \"KOGI STATE\", \"marker\": {\"color\": \"#EF553B\"}, \"name\": \"KOGI STATE\", \"offsetgroup\": \"KOGI STATE\", \"orientation\": \"v\", \"showlegend\": true, \"textposition\": \"outside\", \"texttemplate\": \"%{text:.4s}\", \"type\": \"bar\", \"x\": [\"KOGI STATE\"], \"xaxis\": \"x\", \"y\": [3704031740], \"yaxis\": \"y\"}, {\"alignmentgroup\": \"True\", \"hovertemplate\": \"STATE=%{x}<br>SEPTEMBER=%{y}<extra></extra>\", \"legendgroup\": \"KWARA STATE\", \"marker\": {\"color\": \"#00cc96\"}, \"name\": \"KWARA STATE\", \"offsetgroup\": \"KWARA STATE\", \"orientation\": \"v\", \"showlegend\": true, \"textposition\": \"outside\", \"texttemplate\": \"%{text:.4s}\", \"type\": \"bar\", \"x\": [\"KWARA STATE\"], \"xaxis\": \"x\", \"y\": [2640952789], \"yaxis\": \"y\"}, {\"alignmentgroup\": \"True\", \"hovertemplate\": \"STATE=%{x}<br>SEPTEMBER=%{y}<extra></extra>\", \"legendgroup\": \"LAGOS STATE\", \"marker\": {\"color\": \"#ab63fa\"}, \"name\": \"LAGOS STATE\", \"offsetgroup\": \"LAGOS STATE\", \"orientation\": \"v\", \"showlegend\": true, \"textposition\": \"outside\", \"texttemplate\": \"%{text:.4s}\", \"type\": \"bar\", \"x\": [\"LAGOS STATE\"], \"xaxis\": \"x\", \"y\": [10887249946], \"yaxis\": \"y\"}, {\"alignmentgroup\": \"True\", \"hovertemplate\": \"STATE=%{x}<br>SEPTEMBER=%{y}<extra></extra>\", \"legendgroup\": \"NASARAWA STATE\", \"marker\": {\"color\": \"#FFA15A\"}, \"name\": \"NASARAWA STATE\", \"offsetgroup\": \"NASARAWA STATE\", \"orientation\": \"v\", \"showlegend\": true, \"textposition\": \"outside\", \"texttemplate\": \"%{text:.4s}\", \"type\": \"bar\", \"x\": [\"NASARAWA STATE\"], \"xaxis\": \"x\", \"y\": [2301802732], \"yaxis\": \"y\"}, {\"alignmentgroup\": \"True\", \"hovertemplate\": \"STATE=%{x}<br>SEPTEMBER=%{y}<extra></extra>\", \"legendgroup\": \"NIGER STATE\", \"marker\": {\"color\": \"#19d3f3\"}, \"name\": \"NIGER STATE\", \"offsetgroup\": \"NIGER STATE\", \"orientation\": \"v\", \"showlegend\": true, \"textposition\": \"outside\", \"texttemplate\": \"%{text:.4s}\", \"type\": \"bar\", \"x\": [\"NIGER STATE\"], \"xaxis\": \"x\", \"y\": [4341975739], \"yaxis\": \"y\"}, {\"alignmentgroup\": \"True\", \"hovertemplate\": \"STATE=%{x}<br>SEPTEMBER=%{y}<extra></extra>\", \"legendgroup\": \"OGUN STATE\", \"marker\": {\"color\": \"#FF6692\"}, \"name\": \"OGUN STATE\", \"offsetgroup\": \"OGUN STATE\", \"orientation\": \"v\", \"showlegend\": true, \"textposition\": \"outside\", \"texttemplate\": \"%{text:.4s}\", \"type\": \"bar\", \"x\": [\"OGUN STATE\"], \"xaxis\": \"x\", \"y\": [3255827763], \"yaxis\": \"y\"}, {\"alignmentgroup\": \"True\", \"hovertemplate\": \"STATE=%{x}<br>SEPTEMBER=%{y}<extra></extra>\", \"legendgroup\": \"ONDO STATE\", \"marker\": {\"color\": \"#B6E880\"}, \"name\": \"ONDO STATE\", \"offsetgroup\": \"ONDO STATE\", \"orientation\": \"v\", \"showlegend\": true, \"textposition\": \"outside\", \"texttemplate\": \"%{text:.4s}\", \"type\": \"bar\", \"x\": [\"ONDO STATE\"], \"xaxis\": \"x\", \"y\": [3044656346], \"yaxis\": \"y\"}, {\"alignmentgroup\": \"True\", \"hovertemplate\": \"STATE=%{x}<br>SEPTEMBER=%{y}<extra></extra>\", \"legendgroup\": \"OSUN STATE\", \"marker\": {\"color\": \"#FF97FF\"}, \"name\": \"OSUN STATE\", \"offsetgroup\": \"OSUN STATE\", \"orientation\": \"v\", \"showlegend\": true, \"textposition\": \"outside\", \"texttemplate\": \"%{text:.4s}\", \"type\": \"bar\", \"x\": [\"OSUN STATE\"], \"xaxis\": \"x\", \"y\": [4127164000], \"yaxis\": \"y\"}, {\"alignmentgroup\": \"True\", \"hovertemplate\": \"STATE=%{x}<br>SEPTEMBER=%{y}<extra></extra>\", \"legendgroup\": \"OYO STATE\", \"marker\": {\"color\": \"#FECB52\"}, \"name\": \"OYO STATE\", \"offsetgroup\": \"OYO STATE\", \"orientation\": \"v\", \"showlegend\": true, \"textposition\": \"outside\", \"texttemplate\": \"%{text:.4s}\", \"type\": \"bar\", \"x\": [\"OYO STATE\"], \"xaxis\": \"x\", \"y\": [5464675850], \"yaxis\": \"y\"}, {\"alignmentgroup\": \"True\", \"hovertemplate\": \"STATE=%{x}<br>SEPTEMBER=%{y}<extra></extra>\", \"legendgroup\": \"PLATEAU STATE\", \"marker\": {\"color\": \"#636efa\"}, \"name\": \"PLATEAU STATE\", \"offsetgroup\": \"PLATEAU STATE\", \"orientation\": \"v\", \"showlegend\": true, \"textposition\": \"outside\", \"texttemplate\": \"%{text:.4s}\", \"type\": \"bar\", \"x\": [\"PLATEAU STATE\"], \"xaxis\": \"x\", \"y\": [3165165786], \"yaxis\": \"y\"}, {\"alignmentgroup\": \"True\", \"hovertemplate\": \"STATE=%{x}<br>SEPTEMBER=%{y}<extra></extra>\", \"legendgroup\": \"RIVERS STATE\", \"marker\": {\"color\": \"#EF553B\"}, \"name\": \"RIVERS STATE\", \"offsetgroup\": \"RIVERS STATE\", \"orientation\": \"v\", \"showlegend\": true, \"textposition\": \"outside\", \"texttemplate\": \"%{text:.4s}\", \"type\": \"bar\", \"x\": [\"RIVERS STATE\"], \"xaxis\": \"x\", \"y\": [4389778900], \"yaxis\": \"y\"}, {\"alignmentgroup\": \"True\", \"hovertemplate\": \"STATE=%{x}<br>SEPTEMBER=%{y}<extra></extra>\", \"legendgroup\": \"SOKOTO STATE\", \"marker\": {\"color\": \"#00cc96\"}, \"name\": \"SOKOTO STATE\", \"offsetgroup\": \"SOKOTO STATE\", \"orientation\": \"v\", \"showlegend\": true, \"textposition\": \"outside\", \"texttemplate\": \"%{text:.4s}\", \"type\": \"bar\", \"x\": [\"SOKOTO STATE\"], \"xaxis\": \"x\", \"y\": [3954714368], \"yaxis\": \"y\"}, {\"alignmentgroup\": \"True\", \"hovertemplate\": \"STATE=%{x}<br>SEPTEMBER=%{y}<extra></extra>\", \"legendgroup\": \"TARABA STATE\", \"marker\": {\"color\": \"#ab63fa\"}, \"name\": \"TARABA STATE\", \"offsetgroup\": \"TARABA STATE\", \"orientation\": \"v\", \"showlegend\": true, \"textposition\": \"outside\", \"texttemplate\": \"%{text:.4s}\", \"type\": \"bar\", \"x\": [\"TARABA STATE\"], \"xaxis\": \"x\", \"y\": [2878281701], \"yaxis\": \"y\"}, {\"alignmentgroup\": \"True\", \"hovertemplate\": \"STATE=%{x}<br>SEPTEMBER=%{y}<extra></extra>\", \"legendgroup\": \"YOBE STATE\", \"marker\": {\"color\": \"#FFA15A\"}, \"name\": \"YOBE STATE\", \"offsetgroup\": \"YOBE STATE\", \"orientation\": \"v\", \"showlegend\": true, \"textposition\": \"outside\", \"texttemplate\": \"%{text:.4s}\", \"type\": \"bar\", \"x\": [\"YOBE STATE\"], \"xaxis\": \"x\", \"y\": [2947863889], \"yaxis\": \"y\"}, {\"alignmentgroup\": \"True\", \"hovertemplate\": \"STATE=%{x}<br>SEPTEMBER=%{y}<extra></extra>\", \"legendgroup\": \"ZAMFARA STATE\", \"marker\": {\"color\": \"#19d3f3\"}, \"name\": \"ZAMFARA STATE\", \"offsetgroup\": \"ZAMFARA STATE\", \"orientation\": \"v\", \"showlegend\": true, \"textposition\": \"outside\", \"texttemplate\": \"%{text:.4s}\", \"type\": \"bar\", \"x\": [\"ZAMFARA STATE\"], \"xaxis\": \"x\", \"y\": [2727760217], \"yaxis\": \"y\"}, {\"alignmentgroup\": \"True\", \"hovertemplate\": \"STATE=%{x}<br>SEPTEMBER=%{y}<extra></extra>\", \"legendgroup\": \"FEDERAL CAPITAL TERRITORY (FCT)\", \"marker\": {\"color\": \"#FF6692\"}, \"name\": \"FEDERAL CAPITAL TERRITORY (FCT)\", \"offsetgroup\": \"FEDERAL CAPITAL TERRITORY (FCT)\", \"orientation\": \"v\", \"showlegend\": true, \"textposition\": \"outside\", \"texttemplate\": \"%{text:.4s}\", \"type\": \"bar\", \"x\": [\"FEDERAL CAPITAL TERRITORY (FCT)\"], \"xaxis\": \"x\", \"y\": [3282755520], \"yaxis\": \"y\"}],                        {\"barmode\": \"relative\", \"height\": 750, \"legend\": {\"title\": {\"text\": \"STATE\"}, \"tracegroupgap\": 0}, \"margin\": {\"t\": 60}, \"template\": {\"data\": {\"bar\": [{\"error_x\": {\"color\": \"#2a3f5f\"}, \"error_y\": {\"color\": \"#2a3f5f\"}, \"marker\": {\"line\": {\"color\": \"#E5ECF6\", \"width\": 0.5}}, \"type\": \"bar\"}], \"barpolar\": [{\"marker\": {\"line\": {\"color\": \"#E5ECF6\", \"width\": 0.5}}, \"type\": \"barpolar\"}], \"carpet\": [{\"aaxis\": {\"endlinecolor\": \"#2a3f5f\", \"gridcolor\": \"white\", \"linecolor\": \"white\", \"minorgridcolor\": \"white\", \"startlinecolor\": \"#2a3f5f\"}, \"baxis\": {\"endlinecolor\": \"#2a3f5f\", \"gridcolor\": \"white\", \"linecolor\": \"white\", \"minorgridcolor\": \"white\", \"startlinecolor\": \"#2a3f5f\"}, \"type\": \"carpet\"}], \"choropleth\": [{\"colorbar\": {\"outlinewidth\": 0, \"ticks\": \"\"}, \"type\": \"choropleth\"}], \"contour\": [{\"colorbar\": {\"outlinewidth\": 0, \"ticks\": \"\"}, \"colorscale\": [[0.0, \"#0d0887\"], [0.1111111111111111, \"#46039f\"], [0.2222222222222222, \"#7201a8\"], [0.3333333333333333, \"#9c179e\"], [0.4444444444444444, \"#bd3786\"], [0.5555555555555556, \"#d8576b\"], [0.6666666666666666, \"#ed7953\"], [0.7777777777777778, \"#fb9f3a\"], [0.8888888888888888, \"#fdca26\"], [1.0, \"#f0f921\"]], \"type\": \"contour\"}], \"contourcarpet\": [{\"colorbar\": {\"outlinewidth\": 0, \"ticks\": \"\"}, \"type\": \"contourcarpet\"}], \"heatmap\": [{\"colorbar\": {\"outlinewidth\": 0, \"ticks\": \"\"}, \"colorscale\": [[0.0, \"#0d0887\"], [0.1111111111111111, \"#46039f\"], [0.2222222222222222, \"#7201a8\"], [0.3333333333333333, \"#9c179e\"], [0.4444444444444444, \"#bd3786\"], [0.5555555555555556, \"#d8576b\"], [0.6666666666666666, \"#ed7953\"], [0.7777777777777778, \"#fb9f3a\"], [0.8888888888888888, \"#fdca26\"], [1.0, \"#f0f921\"]], \"type\": \"heatmap\"}], \"heatmapgl\": [{\"colorbar\": {\"outlinewidth\": 0, \"ticks\": \"\"}, \"colorscale\": [[0.0, \"#0d0887\"], [0.1111111111111111, \"#46039f\"], [0.2222222222222222, \"#7201a8\"], [0.3333333333333333, \"#9c179e\"], [0.4444444444444444, \"#bd3786\"], [0.5555555555555556, \"#d8576b\"], [0.6666666666666666, \"#ed7953\"], [0.7777777777777778, \"#fb9f3a\"], [0.8888888888888888, \"#fdca26\"], [1.0, \"#f0f921\"]], \"type\": \"heatmapgl\"}], \"histogram\": [{\"marker\": {\"colorbar\": {\"outlinewidth\": 0, \"ticks\": \"\"}}, \"type\": \"histogram\"}], \"histogram2d\": [{\"colorbar\": {\"outlinewidth\": 0, \"ticks\": \"\"}, \"colorscale\": [[0.0, \"#0d0887\"], [0.1111111111111111, \"#46039f\"], [0.2222222222222222, \"#7201a8\"], [0.3333333333333333, \"#9c179e\"], [0.4444444444444444, \"#bd3786\"], [0.5555555555555556, \"#d8576b\"], [0.6666666666666666, \"#ed7953\"], [0.7777777777777778, \"#fb9f3a\"], [0.8888888888888888, \"#fdca26\"], [1.0, \"#f0f921\"]], \"type\": \"histogram2d\"}], \"histogram2dcontour\": [{\"colorbar\": {\"outlinewidth\": 0, \"ticks\": \"\"}, \"colorscale\": [[0.0, \"#0d0887\"], [0.1111111111111111, \"#46039f\"], [0.2222222222222222, \"#7201a8\"], [0.3333333333333333, \"#9c179e\"], [0.4444444444444444, \"#bd3786\"], [0.5555555555555556, \"#d8576b\"], [0.6666666666666666, \"#ed7953\"], [0.7777777777777778, \"#fb9f3a\"], [0.8888888888888888, \"#fdca26\"], [1.0, \"#f0f921\"]], \"type\": \"histogram2dcontour\"}], \"mesh3d\": [{\"colorbar\": {\"outlinewidth\": 0, \"ticks\": \"\"}, \"type\": \"mesh3d\"}], \"parcoords\": [{\"line\": {\"colorbar\": {\"outlinewidth\": 0, \"ticks\": \"\"}}, \"type\": \"parcoords\"}], \"pie\": [{\"automargin\": true, \"type\": \"pie\"}], \"scatter\": [{\"marker\": {\"colorbar\": {\"outlinewidth\": 0, \"ticks\": \"\"}}, \"type\": \"scatter\"}], \"scatter3d\": [{\"line\": {\"colorbar\": {\"outlinewidth\": 0, \"ticks\": \"\"}}, \"marker\": {\"colorbar\": {\"outlinewidth\": 0, \"ticks\": \"\"}}, \"type\": \"scatter3d\"}], \"scattercarpet\": [{\"marker\": {\"colorbar\": {\"outlinewidth\": 0, \"ticks\": \"\"}}, \"type\": \"scattercarpet\"}], \"scattergeo\": [{\"marker\": {\"colorbar\": {\"outlinewidth\": 0, \"ticks\": \"\"}}, \"type\": \"scattergeo\"}], \"scattergl\": [{\"marker\": {\"colorbar\": {\"outlinewidth\": 0, \"ticks\": \"\"}}, \"type\": \"scattergl\"}], \"scattermapbox\": [{\"marker\": {\"colorbar\": {\"outlinewidth\": 0, \"ticks\": \"\"}}, \"type\": \"scattermapbox\"}], \"scatterpolar\": [{\"marker\": {\"colorbar\": {\"outlinewidth\": 0, \"ticks\": \"\"}}, \"type\": \"scatterpolar\"}], \"scatterpolargl\": [{\"marker\": {\"colorbar\": {\"outlinewidth\": 0, \"ticks\": \"\"}}, \"type\": \"scatterpolargl\"}], \"scatterternary\": [{\"marker\": {\"colorbar\": {\"outlinewidth\": 0, \"ticks\": \"\"}}, \"type\": \"scatterternary\"}], \"surface\": [{\"colorbar\": {\"outlinewidth\": 0, \"ticks\": \"\"}, \"colorscale\": [[0.0, \"#0d0887\"], [0.1111111111111111, \"#46039f\"], [0.2222222222222222, \"#7201a8\"], [0.3333333333333333, \"#9c179e\"], [0.4444444444444444, \"#bd3786\"], [0.5555555555555556, \"#d8576b\"], [0.6666666666666666, \"#ed7953\"], [0.7777777777777778, \"#fb9f3a\"], [0.8888888888888888, \"#fdca26\"], [1.0, \"#f0f921\"]], \"type\": \"surface\"}], \"table\": [{\"cells\": {\"fill\": {\"color\": \"#EBF0F8\"}, \"line\": {\"color\": \"white\"}}, \"header\": {\"fill\": {\"color\": \"#C8D4E3\"}, \"line\": {\"color\": \"white\"}}, \"type\": \"table\"}]}, \"layout\": {\"annotationdefaults\": {\"arrowcolor\": \"#2a3f5f\", \"arrowhead\": 0, \"arrowwidth\": 1}, \"autotypenumbers\": \"strict\", \"coloraxis\": {\"colorbar\": {\"outlinewidth\": 0, \"ticks\": \"\"}}, \"colorscale\": {\"diverging\": [[0, \"#8e0152\"], [0.1, \"#c51b7d\"], [0.2, \"#de77ae\"], [0.3, \"#f1b6da\"], [0.4, \"#fde0ef\"], [0.5, \"#f7f7f7\"], [0.6, \"#e6f5d0\"], [0.7, \"#b8e186\"], [0.8, \"#7fbc41\"], [0.9, \"#4d9221\"], [1, \"#276419\"]], \"sequential\": [[0.0, \"#0d0887\"], [0.1111111111111111, \"#46039f\"], [0.2222222222222222, \"#7201a8\"], [0.3333333333333333, \"#9c179e\"], [0.4444444444444444, \"#bd3786\"], [0.5555555555555556, \"#d8576b\"], [0.6666666666666666, \"#ed7953\"], [0.7777777777777778, \"#fb9f3a\"], [0.8888888888888888, \"#fdca26\"], [1.0, \"#f0f921\"]], \"sequentialminus\": [[0.0, \"#0d0887\"], [0.1111111111111111, \"#46039f\"], [0.2222222222222222, \"#7201a8\"], [0.3333333333333333, \"#9c179e\"], [0.4444444444444444, \"#bd3786\"], [0.5555555555555556, \"#d8576b\"], [0.6666666666666666, \"#ed7953\"], [0.7777777777777778, \"#fb9f3a\"], [0.8888888888888888, \"#fdca26\"], [1.0, \"#f0f921\"]]}, \"colorway\": [\"#636efa\", \"#EF553B\", \"#00cc96\", \"#ab63fa\", \"#FFA15A\", \"#19d3f3\", \"#FF6692\", \"#B6E880\", \"#FF97FF\", \"#FECB52\"], \"font\": {\"color\": \"#2a3f5f\"}, \"geo\": {\"bgcolor\": \"white\", \"lakecolor\": \"white\", \"landcolor\": \"#E5ECF6\", \"showlakes\": true, \"showland\": true, \"subunitcolor\": \"white\"}, \"hoverlabel\": {\"align\": \"left\"}, \"hovermode\": \"closest\", \"mapbox\": {\"style\": \"light\"}, \"paper_bgcolor\": \"white\", \"plot_bgcolor\": \"#E5ECF6\", \"polar\": {\"angularaxis\": {\"gridcolor\": \"white\", \"linecolor\": \"white\", \"ticks\": \"\"}, \"bgcolor\": \"#E5ECF6\", \"radialaxis\": {\"gridcolor\": \"white\", \"linecolor\": \"white\", \"ticks\": \"\"}}, \"scene\": {\"xaxis\": {\"backgroundcolor\": \"#E5ECF6\", \"gridcolor\": \"white\", \"gridwidth\": 2, \"linecolor\": \"white\", \"showbackground\": true, \"ticks\": \"\", \"zerolinecolor\": \"white\"}, \"yaxis\": {\"backgroundcolor\": \"#E5ECF6\", \"gridcolor\": \"white\", \"gridwidth\": 2, \"linecolor\": \"white\", \"showbackground\": true, \"ticks\": \"\", \"zerolinecolor\": \"white\"}, \"zaxis\": {\"backgroundcolor\": \"#E5ECF6\", \"gridcolor\": \"white\", \"gridwidth\": 2, \"linecolor\": \"white\", \"showbackground\": true, \"ticks\": \"\", \"zerolinecolor\": \"white\"}}, \"shapedefaults\": {\"line\": {\"color\": \"#2a3f5f\"}}, \"ternary\": {\"aaxis\": {\"gridcolor\": \"white\", \"linecolor\": \"white\", \"ticks\": \"\"}, \"baxis\": {\"gridcolor\": \"white\", \"linecolor\": \"white\", \"ticks\": \"\"}, \"bgcolor\": \"#E5ECF6\", \"caxis\": {\"gridcolor\": \"white\", \"linecolor\": \"white\", \"ticks\": \"\"}}, \"title\": {\"x\": 0.05}, \"xaxis\": {\"automargin\": true, \"gridcolor\": \"white\", \"linecolor\": \"white\", \"ticks\": \"\", \"title\": {\"standoff\": 15}, \"zerolinecolor\": \"white\", \"zerolinewidth\": 2}, \"yaxis\": {\"automargin\": true, \"gridcolor\": \"white\", \"linecolor\": \"white\", \"ticks\": \"\", \"title\": {\"standoff\": 15}, \"zerolinecolor\": \"white\", \"zerolinewidth\": 2}}}, \"title\": {\"text\": \"FAAC_2020\", \"x\": 0.5, \"y\": 0.8}, \"uniformtext\": {\"minsize\": 8, \"mode\": \"hide\"}, \"width\": 1000, \"xaxis\": {\"anchor\": \"y\", \"categoryarray\": [\"ABIA STATE\", \"ADAMAWA STATE\", \"AKWA IBOW STATE\", \"ANAMBRA STATE\", \"BAUCHI STATE\", \"BAYELSA STATE\", \"BENUE STATE\", \"BORNO STATE\", \"CROSS-RIVER STATE\", \"DELTA STATE\", \"EBONYI STATE\", \"EDO STATE\", \"EKITI STATE\", \"ENUGU STATE\", \"GOMBE STATE\", \"IMO STATE\", \"JIGAWA STATE\", \"KADUNA STATE\", \"KANO STATE\", \"KATSINA STATE\", \"KEBBI STATE\", \"KOGI STATE\", \"KWARA STATE\", \"LAGOS STATE\", \"NASARAWA STATE\", \"NIGER STATE\", \"OGUN STATE\", \"ONDO STATE\", \"OSUN STATE\", \"OYO STATE\", \"PLATEAU STATE\", \"RIVERS STATE\", \"SOKOTO STATE\", \"TARABA STATE\", \"YOBE STATE\", \"ZAMFARA STATE\", \"FEDERAL CAPITAL TERRITORY (FCT)\"], \"categoryorder\": \"array\", \"domain\": [0.0, 1.0], \"title\": {\"text\": \"STATE\"}}, \"yaxis\": {\"anchor\": \"x\", \"domain\": [0.0, 1.0], \"title\": {\"text\": \"SEPTEMBER\"}}},                        {\"responsive\": true}                    ).then(function(){\n",
       "                            \n",
       "var gd = document.getElementById('0b13f4ec-c5fd-4d2d-a65f-dea04540610d');\n",
       "var x = new MutationObserver(function (mutations, observer) {{\n",
       "        var display = window.getComputedStyle(gd).display;\n",
       "        if (!display || display === 'none') {{\n",
       "            console.log([gd, 'removed!']);\n",
       "            Plotly.purge(gd);\n",
       "            observer.disconnect();\n",
       "        }}\n",
       "}});\n",
       "\n",
       "// Listen for the removal of the full notebook cells\n",
       "var notebookContainer = gd.closest('#notebook-container');\n",
       "if (notebookContainer) {{\n",
       "    x.observe(notebookContainer, {childList: true});\n",
       "}}\n",
       "\n",
       "// Listen for the clearing of the current output cell\n",
       "var outputEl = gd.closest('.output');\n",
       "if (outputEl) {{\n",
       "    x.observe(outputEl, {childList: true});\n",
       "}}\n",
       "\n",
       "                        })                };                });            </script>        </div>"
      ]
     },
     "metadata": {},
     "output_type": "display_data"
    }
   ],
   "source": [
    "fig=px.bar(FAAC_2020, y = \"SEPTEMBER\", x = \"STATE\",orientation = \"v\", color = \"STATE\")\n",
    "fig.update_traces(texttemplate=\"%{text:.4s}\", textposition=\"outside\")\n",
    "fig.update_layout(uniformtext_minsize= 8, uniformtext_mode= \"hide\")\n",
    "fig.update_layout(\n",
    "    title = {\n",
    "       \"text\":\"FAAC_2020\",\n",
    "       \"y\":0.8,\n",
    "       \"x\":0.5,\n",
    "       },height = 750, width = 1000)"
   ]
  },
  {
   "cell_type": "code",
   "execution_count": 54,
   "metadata": {},
   "outputs": [
    {
     "data": {
      "application/vnd.plotly.v1+json": {
       "config": {
        "plotlyServerURL": "https://plot.ly"
       },
       "data": [
        {
         "alignmentgroup": "True",
         "hovertemplate": "STATE=%{x}<br>OCTOBER=%{y}<extra></extra>",
         "legendgroup": "ABIA STATE",
         "marker": {
          "color": "#636efa"
         },
         "name": "ABIA STATE",
         "offsetgroup": "ABIA STATE",
         "orientation": "v",
         "showlegend": true,
         "textposition": "outside",
         "texttemplate": "%{text:.4s}",
         "type": "bar",
         "x": [
          "ABIA STATE"
         ],
         "xaxis": "x",
         "y": [
          2596618258
         ],
         "yaxis": "y"
        },
        {
         "alignmentgroup": "True",
         "hovertemplate": "STATE=%{x}<br>OCTOBER=%{y}<extra></extra>",
         "legendgroup": "ADAMAWA STATE",
         "marker": {
          "color": "#EF553B"
         },
         "name": "ADAMAWA STATE",
         "offsetgroup": "ADAMAWA STATE",
         "orientation": "v",
         "showlegend": true,
         "textposition": "outside",
         "texttemplate": "%{text:.4s}",
         "type": "bar",
         "x": [
          "ADAMAWA STATE"
         ],
         "xaxis": "x",
         "y": [
          3245543006
         ],
         "yaxis": "y"
        },
        {
         "alignmentgroup": "True",
         "hovertemplate": "STATE=%{x}<br>OCTOBER=%{y}<extra></extra>",
         "legendgroup": "AKWA IBOW STATE",
         "marker": {
          "color": "#00cc96"
         },
         "name": "AKWA IBOW STATE",
         "offsetgroup": "AKWA IBOW STATE",
         "orientation": "v",
         "showlegend": true,
         "textposition": "outside",
         "texttemplate": "%{text:.4s}",
         "type": "bar",
         "x": [
          "AKWA IBOW STATE"
         ],
         "xaxis": "x",
         "y": [
          4341768102
         ],
         "yaxis": "y"
        },
        {
         "alignmentgroup": "True",
         "hovertemplate": "STATE=%{x}<br>OCTOBER=%{y}<extra></extra>",
         "legendgroup": "ANAMBRA STATE",
         "marker": {
          "color": "#ab63fa"
         },
         "name": "ANAMBRA STATE",
         "offsetgroup": "ANAMBRA STATE",
         "orientation": "v",
         "showlegend": true,
         "textposition": "outside",
         "texttemplate": "%{text:.4s}",
         "type": "bar",
         "x": [
          "ANAMBRA STATE"
         ],
         "xaxis": "x",
         "y": [
          3405984445
         ],
         "yaxis": "y"
        },
        {
         "alignmentgroup": "True",
         "hovertemplate": "STATE=%{x}<br>OCTOBER=%{y}<extra></extra>",
         "legendgroup": "BAUCHI STATE",
         "marker": {
          "color": "#FFA15A"
         },
         "name": "BAUCHI STATE",
         "offsetgroup": "BAUCHI STATE",
         "orientation": "v",
         "showlegend": true,
         "textposition": "outside",
         "texttemplate": "%{text:.4s}",
         "type": "bar",
         "x": [
          "BAUCHI STATE"
         ],
         "xaxis": "x",
         "y": [
          3704418262
         ],
         "yaxis": "y"
        },
        {
         "alignmentgroup": "True",
         "hovertemplate": "STATE=%{x}<br>OCTOBER=%{y}<extra></extra>",
         "legendgroup": "BAYELSA STATE",
         "marker": {
          "color": "#19d3f3"
         },
         "name": "BAYELSA STATE",
         "offsetgroup": "BAYELSA STATE",
         "orientation": "v",
         "showlegend": true,
         "textposition": "outside",
         "texttemplate": "%{text:.4s}",
         "type": "bar",
         "x": [
          "BAYELSA STATE"
         ],
         "xaxis": "x",
         "y": [
          1494693258
         ],
         "yaxis": "y"
        },
        {
         "alignmentgroup": "True",
         "hovertemplate": "STATE=%{x}<br>OCTOBER=%{y}<extra></extra>",
         "legendgroup": "BENUE STATE",
         "marker": {
          "color": "#FF6692"
         },
         "name": "BENUE STATE",
         "offsetgroup": "BENUE STATE",
         "orientation": "v",
         "showlegend": true,
         "textposition": "outside",
         "texttemplate": "%{text:.4s}",
         "type": "bar",
         "x": [
          "BENUE STATE"
         ],
         "xaxis": "x",
         "y": [
          3958235984
         ],
         "yaxis": "y"
        },
        {
         "alignmentgroup": "True",
         "hovertemplate": "STATE=%{x}<br>OCTOBER=%{y}<extra></extra>",
         "legendgroup": "BORNO STATE",
         "marker": {
          "color": "#B6E880"
         },
         "name": "BORNO STATE",
         "offsetgroup": "BORNO STATE",
         "orientation": "v",
         "showlegend": true,
         "textposition": "outside",
         "texttemplate": "%{text:.4s}",
         "type": "bar",
         "x": [
          "BORNO STATE"
         ],
         "xaxis": "x",
         "y": [
          4311309574
         ],
         "yaxis": "y"
        },
        {
         "alignmentgroup": "True",
         "hovertemplate": "STATE=%{x}<br>OCTOBER=%{y}<extra></extra>",
         "legendgroup": "CROSS-RIVER STATE",
         "marker": {
          "color": "#FF97FF"
         },
         "name": "CROSS-RIVER STATE",
         "offsetgroup": "CROSS-RIVER STATE",
         "orientation": "v",
         "showlegend": true,
         "textposition": "outside",
         "texttemplate": "%{text:.4s}",
         "type": "bar",
         "x": [
          "CROSS-RIVER STATE"
         ],
         "xaxis": "x",
         "y": [
          2811179250
         ],
         "yaxis": "y"
        },
        {
         "alignmentgroup": "True",
         "hovertemplate": "STATE=%{x}<br>OCTOBER=%{y}<extra></extra>",
         "legendgroup": "DELTA STATE",
         "marker": {
          "color": "#FECB52"
         },
         "name": "DELTA STATE",
         "offsetgroup": "DELTA STATE",
         "orientation": "v",
         "showlegend": true,
         "textposition": "outside",
         "texttemplate": "%{text:.4s}",
         "type": "bar",
         "x": [
          "DELTA STATE"
         ],
         "xaxis": "x",
         "y": [
          3738568339
         ],
         "yaxis": "y"
        },
        {
         "alignmentgroup": "True",
         "hovertemplate": "STATE=%{x}<br>OCTOBER=%{y}<extra></extra>",
         "legendgroup": "EBONYI STATE",
         "marker": {
          "color": "#636efa"
         },
         "name": "EBONYI STATE",
         "offsetgroup": "EBONYI STATE",
         "orientation": "v",
         "showlegend": true,
         "textposition": "outside",
         "texttemplate": "%{text:.4s}",
         "type": "bar",
         "x": [
          "EBONYI STATE"
         ],
         "xaxis": "x",
         "y": [
          2122765904
         ],
         "yaxis": "y"
        },
        {
         "alignmentgroup": "True",
         "hovertemplate": "STATE=%{x}<br>OCTOBER=%{y}<extra></extra>",
         "legendgroup": "EDO STATE",
         "marker": {
          "color": "#EF553B"
         },
         "name": "EDO STATE",
         "offsetgroup": "EDO STATE",
         "orientation": "v",
         "showlegend": true,
         "textposition": "outside",
         "texttemplate": "%{text:.4s}",
         "type": "bar",
         "x": [
          "EDO STATE"
         ],
         "xaxis": "x",
         "y": [
          2823032749
         ],
         "yaxis": "y"
        },
        {
         "alignmentgroup": "True",
         "hovertemplate": "STATE=%{x}<br>OCTOBER=%{y}<extra></extra>",
         "legendgroup": "EKITI STATE",
         "marker": {
          "color": "#00cc96"
         },
         "name": "EKITI STATE",
         "offsetgroup": "EKITI STATE",
         "orientation": "v",
         "showlegend": true,
         "textposition": "outside",
         "texttemplate": "%{text:.4s}",
         "type": "bar",
         "x": [
          "EKITI STATE"
         ],
         "xaxis": "x",
         "y": [
          2289194190
         ],
         "yaxis": "y"
        },
        {
         "alignmentgroup": "True",
         "hovertemplate": "STATE=%{x}<br>OCTOBER=%{y}<extra></extra>",
         "legendgroup": "ENUGU STATE",
         "marker": {
          "color": "#ab63fa"
         },
         "name": "ENUGU STATE",
         "offsetgroup": "ENUGU STATE",
         "orientation": "v",
         "showlegend": true,
         "textposition": "outside",
         "texttemplate": "%{text:.4s}",
         "type": "bar",
         "x": [
          "ENUGU STATE"
         ],
         "xaxis": "x",
         "y": [
          2850580443
         ],
         "yaxis": "y"
        },
        {
         "alignmentgroup": "True",
         "hovertemplate": "STATE=%{x}<br>OCTOBER=%{y}<extra></extra>",
         "legendgroup": "GOMBE STATE",
         "marker": {
          "color": "#FFA15A"
         },
         "name": "GOMBE STATE",
         "offsetgroup": "GOMBE STATE",
         "orientation": "v",
         "showlegend": true,
         "textposition": "outside",
         "texttemplate": "%{text:.4s}",
         "type": "bar",
         "x": [
          "GOMBE STATE"
         ],
         "xaxis": "x",
         "y": [
          1931310044
         ],
         "yaxis": "y"
        },
        {
         "alignmentgroup": "True",
         "hovertemplate": "STATE=%{x}<br>OCTOBER=%{y}<extra></extra>",
         "legendgroup": "IMO STATE",
         "marker": {
          "color": "#19d3f3"
         },
         "name": "IMO STATE",
         "offsetgroup": "IMO STATE",
         "orientation": "v",
         "showlegend": true,
         "textposition": "outside",
         "texttemplate": "%{text:.4s}",
         "type": "bar",
         "x": [
          "IMO STATE"
         ],
         "xaxis": "x",
         "y": [
          3820493930
         ],
         "yaxis": "y"
        },
        {
         "alignmentgroup": "True",
         "hovertemplate": "STATE=%{x}<br>OCTOBER=%{y}<extra></extra>",
         "legendgroup": "JIGAWA STATE",
         "marker": {
          "color": "#FF6692"
         },
         "name": "JIGAWA STATE",
         "offsetgroup": "JIGAWA STATE",
         "orientation": "v",
         "showlegend": true,
         "textposition": "outside",
         "texttemplate": "%{text:.4s}",
         "type": "bar",
         "x": [
          "JIGAWA STATE"
         ],
         "xaxis": "x",
         "y": [
          4027073677
         ],
         "yaxis": "y"
        },
        {
         "alignmentgroup": "True",
         "hovertemplate": "STATE=%{x}<br>OCTOBER=%{y}<extra></extra>",
         "legendgroup": "KADUNA STATE",
         "marker": {
          "color": "#B6E880"
         },
         "name": "KADUNA STATE",
         "offsetgroup": "KADUNA STATE",
         "orientation": "v",
         "showlegend": true,
         "textposition": "outside",
         "texttemplate": "%{text:.4s}",
         "type": "bar",
         "x": [
          "KADUNA STATE"
         ],
         "xaxis": "x",
         "y": [
          4550897963
         ],
         "yaxis": "y"
        },
        {
         "alignmentgroup": "True",
         "hovertemplate": "STATE=%{x}<br>OCTOBER=%{y}<extra></extra>",
         "legendgroup": "KANO STATE",
         "marker": {
          "color": "#FF97FF"
         },
         "name": "KANO STATE",
         "offsetgroup": "KANO STATE",
         "orientation": "v",
         "showlegend": true,
         "textposition": "outside",
         "texttemplate": "%{text:.4s}",
         "type": "bar",
         "x": [
          "KANO STATE"
         ],
         "xaxis": "x",
         "y": [
          7397586478
         ],
         "yaxis": "y"
        },
        {
         "alignmentgroup": "True",
         "hovertemplate": "STATE=%{x}<br>OCTOBER=%{y}<extra></extra>",
         "legendgroup": "KATSINA STATE",
         "marker": {
          "color": "#FECB52"
         },
         "name": "KATSINA STATE",
         "offsetgroup": "KATSINA STATE",
         "orientation": "v",
         "showlegend": true,
         "textposition": "outside",
         "texttemplate": "%{text:.4s}",
         "type": "bar",
         "x": [
          "KATSINA STATE"
         ],
         "xaxis": "x",
         "y": [
          5390876603
         ],
         "yaxis": "y"
        },
        {
         "alignmentgroup": "True",
         "hovertemplate": "STATE=%{x}<br>OCTOBER=%{y}<extra></extra>",
         "legendgroup": "KEBBI STATE",
         "marker": {
          "color": "#636efa"
         },
         "name": "KEBBI STATE",
         "offsetgroup": "KEBBI STATE",
         "orientation": "v",
         "showlegend": true,
         "textposition": "outside",
         "texttemplate": "%{text:.4s}",
         "type": "bar",
         "x": [
          "KEBBI STATE"
         ],
         "xaxis": "x",
         "y": [
          3351618498
         ],
         "yaxis": "y"
        },
        {
         "alignmentgroup": "True",
         "hovertemplate": "STATE=%{x}<br>OCTOBER=%{y}<extra></extra>",
         "legendgroup": "KOGI STATE",
         "marker": {
          "color": "#EF553B"
         },
         "name": "KOGI STATE",
         "offsetgroup": "KOGI STATE",
         "orientation": "v",
         "showlegend": true,
         "textposition": "outside",
         "texttemplate": "%{text:.4s}",
         "type": "bar",
         "x": [
          "KOGI STATE"
         ],
         "xaxis": "x",
         "y": [
          3437498750
         ],
         "yaxis": "y"
        },
        {
         "alignmentgroup": "True",
         "hovertemplate": "STATE=%{x}<br>OCTOBER=%{y}<extra></extra>",
         "legendgroup": "KWARA STATE",
         "marker": {
          "color": "#00cc96"
         },
         "name": "KWARA STATE",
         "offsetgroup": "KWARA STATE",
         "orientation": "v",
         "showlegend": true,
         "textposition": "outside",
         "texttemplate": "%{text:.4s}",
         "type": "bar",
         "x": [
          "KWARA STATE"
         ],
         "xaxis": "x",
         "y": [
          2474649328
         ],
         "yaxis": "y"
        },
        {
         "alignmentgroup": "True",
         "hovertemplate": "STATE=%{x}<br>OCTOBER=%{y}<extra></extra>",
         "legendgroup": "LAGOS STATE",
         "marker": {
          "color": "#ab63fa"
         },
         "name": "LAGOS STATE",
         "offsetgroup": "LAGOS STATE",
         "orientation": "v",
         "showlegend": true,
         "textposition": "outside",
         "texttemplate": "%{text:.4s}",
         "type": "bar",
         "x": [
          "LAGOS STATE"
         ],
         "xaxis": "x",
         "y": [
          10640825817
         ],
         "yaxis": "y"
        },
        {
         "alignmentgroup": "True",
         "hovertemplate": "STATE=%{x}<br>OCTOBER=%{y}<extra></extra>",
         "legendgroup": "NASARAWA STATE",
         "marker": {
          "color": "#FFA15A"
         },
         "name": "NASARAWA STATE",
         "offsetgroup": "NASARAWA STATE",
         "orientation": "v",
         "showlegend": true,
         "textposition": "outside",
         "texttemplate": "%{text:.4s}",
         "type": "bar",
         "x": [
          "NASARAWA STATE"
         ],
         "xaxis": "x",
         "y": [
          2153123204
         ],
         "yaxis": "y"
        },
        {
         "alignmentgroup": "True",
         "hovertemplate": "STATE=%{x}<br>OCTOBER=%{y}<extra></extra>",
         "legendgroup": "NIGER STATE",
         "marker": {
          "color": "#19d3f3"
         },
         "name": "NIGER STATE",
         "offsetgroup": "NIGER STATE",
         "orientation": "v",
         "showlegend": true,
         "textposition": "outside",
         "texttemplate": "%{text:.4s}",
         "type": "bar",
         "x": [
          "NIGER STATE"
         ],
         "xaxis": "x",
         "y": [
          4061846190
         ],
         "yaxis": "y"
        },
        {
         "alignmentgroup": "True",
         "hovertemplate": "STATE=%{x}<br>OCTOBER=%{y}<extra></extra>",
         "legendgroup": "OGUN STATE",
         "marker": {
          "color": "#FF6692"
         },
         "name": "OGUN STATE",
         "offsetgroup": "OGUN STATE",
         "orientation": "v",
         "showlegend": true,
         "textposition": "outside",
         "texttemplate": "%{text:.4s}",
         "type": "bar",
         "x": [
          "OGUN STATE"
         ],
         "xaxis": "x",
         "y": [
          3056079368
         ],
         "yaxis": "y"
        },
        {
         "alignmentgroup": "True",
         "hovertemplate": "STATE=%{x}<br>OCTOBER=%{y}<extra></extra>",
         "legendgroup": "ONDO STATE",
         "marker": {
          "color": "#B6E880"
         },
         "name": "ONDO STATE",
         "offsetgroup": "ONDO STATE",
         "orientation": "v",
         "showlegend": true,
         "textposition": "outside",
         "texttemplate": "%{text:.4s}",
         "type": "bar",
         "x": [
          "ONDO STATE"
         ],
         "xaxis": "x",
         "y": [
          2873295431
         ],
         "yaxis": "y"
        },
        {
         "alignmentgroup": "True",
         "hovertemplate": "STATE=%{x}<br>OCTOBER=%{y}<extra></extra>",
         "legendgroup": "OSUN STATE",
         "marker": {
          "color": "#FF97FF"
         },
         "name": "OSUN STATE",
         "offsetgroup": "OSUN STATE",
         "orientation": "v",
         "showlegend": true,
         "textposition": "outside",
         "texttemplate": "%{text:.4s}",
         "type": "bar",
         "x": [
          "OSUN STATE"
         ],
         "xaxis": "x",
         "y": [
          3860383158
         ],
         "yaxis": "y"
        },
        {
         "alignmentgroup": "True",
         "hovertemplate": "STATE=%{x}<br>OCTOBER=%{y}<extra></extra>",
         "legendgroup": "OYO STATE",
         "marker": {
          "color": "#FECB52"
         },
         "name": "OYO STATE",
         "offsetgroup": "OYO STATE",
         "orientation": "v",
         "showlegend": true,
         "textposition": "outside",
         "texttemplate": "%{text:.4s}",
         "type": "bar",
         "x": [
          "OYO STATE"
         ],
         "xaxis": "x",
         "y": [
          5282052160
         ],
         "yaxis": "y"
        },
        {
         "alignmentgroup": "True",
         "hovertemplate": "STATE=%{x}<br>OCTOBER=%{y}<extra></extra>",
         "legendgroup": "PLATEAU STATE",
         "marker": {
          "color": "#636efa"
         },
         "name": "PLATEAU STATE",
         "offsetgroup": "PLATEAU STATE",
         "orientation": "v",
         "showlegend": true,
         "textposition": "outside",
         "texttemplate": "%{text:.4s}",
         "type": "bar",
         "x": [
          "PLATEAU STATE"
         ],
         "xaxis": "x",
         "y": [
          2959835429
         ],
         "yaxis": "y"
        },
        {
         "alignmentgroup": "True",
         "hovertemplate": "STATE=%{x}<br>OCTOBER=%{y}<extra></extra>",
         "legendgroup": "RIVERS STATE",
         "marker": {
          "color": "#EF553B"
         },
         "name": "RIVERS STATE",
         "offsetgroup": "RIVERS STATE",
         "orientation": "v",
         "showlegend": true,
         "textposition": "outside",
         "texttemplate": "%{text:.4s}",
         "type": "bar",
         "x": [
          "RIVERS STATE"
         ],
         "xaxis": "x",
         "y": [
          4178591848
         ],
         "yaxis": "y"
        },
        {
         "alignmentgroup": "True",
         "hovertemplate": "STATE=%{x}<br>OCTOBER=%{y}<extra></extra>",
         "legendgroup": "SOKOTO STATE",
         "marker": {
          "color": "#00cc96"
         },
         "name": "SOKOTO STATE",
         "offsetgroup": "SOKOTO STATE",
         "orientation": "v",
         "showlegend": true,
         "textposition": "outside",
         "texttemplate": "%{text:.4s}",
         "type": "bar",
         "x": [
          "SOKOTO STATE"
         ],
         "xaxis": "x",
         "y": [
          3714498859
         ],
         "yaxis": "y"
        },
        {
         "alignmentgroup": "True",
         "hovertemplate": "STATE=%{x}<br>OCTOBER=%{y}<extra></extra>",
         "legendgroup": "TARABA STATE",
         "marker": {
          "color": "#ab63fa"
         },
         "name": "TARABA STATE",
         "offsetgroup": "TARABA STATE",
         "orientation": "v",
         "showlegend": true,
         "textposition": "outside",
         "texttemplate": "%{text:.4s}",
         "type": "bar",
         "x": [
          "TARABA STATE"
         ],
         "xaxis": "x",
         "y": [
          2694245350
         ],
         "yaxis": "y"
        },
        {
         "alignmentgroup": "True",
         "hovertemplate": "STATE=%{x}<br>OCTOBER=%{y}<extra></extra>",
         "legendgroup": "YOBE STATE",
         "marker": {
          "color": "#FFA15A"
         },
         "name": "YOBE STATE",
         "offsetgroup": "YOBE STATE",
         "orientation": "v",
         "showlegend": true,
         "textposition": "outside",
         "texttemplate": "%{text:.4s}",
         "type": "bar",
         "x": [
          "YOBE STATE"
         ],
         "xaxis": "x",
         "y": [
          2752081581
         ],
         "yaxis": "y"
        },
        {
         "alignmentgroup": "True",
         "hovertemplate": "STATE=%{x}<br>OCTOBER=%{y}<extra></extra>",
         "legendgroup": "ZAMFARA STATE",
         "marker": {
          "color": "#19d3f3"
         },
         "name": "ZAMFARA STATE",
         "offsetgroup": "ZAMFARA STATE",
         "orientation": "v",
         "showlegend": true,
         "textposition": "outside",
         "texttemplate": "%{text:.4s}",
         "type": "bar",
         "x": [
          "ZAMFARA STATE"
         ],
         "xaxis": "x",
         "y": [
          2545697933
         ],
         "yaxis": "y"
        },
        {
         "alignmentgroup": "True",
         "hovertemplate": "STATE=%{x}<br>OCTOBER=%{y}<extra></extra>",
         "legendgroup": "FEDERAL CAPITAL TERRITORY (FCT)",
         "marker": {
          "color": "#FF6692"
         },
         "name": "FEDERAL CAPITAL TERRITORY (FCT)",
         "offsetgroup": "FEDERAL CAPITAL TERRITORY (FCT)",
         "orientation": "v",
         "showlegend": true,
         "textposition": "outside",
         "texttemplate": "%{text:.4s}",
         "type": "bar",
         "x": [
          "FEDERAL CAPITAL TERRITORY (FCT)"
         ],
         "xaxis": "x",
         "y": [
          2455479052
         ],
         "yaxis": "y"
        }
       ],
       "layout": {
        "barmode": "relative",
        "height": 750,
        "legend": {
         "title": {
          "text": "STATE"
         },
         "tracegroupgap": 0
        },
        "margin": {
         "t": 60
        },
        "template": {
         "data": {
          "bar": [
           {
            "error_x": {
             "color": "#2a3f5f"
            },
            "error_y": {
             "color": "#2a3f5f"
            },
            "marker": {
             "line": {
              "color": "#E5ECF6",
              "width": 0.5
             }
            },
            "type": "bar"
           }
          ],
          "barpolar": [
           {
            "marker": {
             "line": {
              "color": "#E5ECF6",
              "width": 0.5
             }
            },
            "type": "barpolar"
           }
          ],
          "carpet": [
           {
            "aaxis": {
             "endlinecolor": "#2a3f5f",
             "gridcolor": "white",
             "linecolor": "white",
             "minorgridcolor": "white",
             "startlinecolor": "#2a3f5f"
            },
            "baxis": {
             "endlinecolor": "#2a3f5f",
             "gridcolor": "white",
             "linecolor": "white",
             "minorgridcolor": "white",
             "startlinecolor": "#2a3f5f"
            },
            "type": "carpet"
           }
          ],
          "choropleth": [
           {
            "colorbar": {
             "outlinewidth": 0,
             "ticks": ""
            },
            "type": "choropleth"
           }
          ],
          "contour": [
           {
            "colorbar": {
             "outlinewidth": 0,
             "ticks": ""
            },
            "colorscale": [
             [
              0,
              "#0d0887"
             ],
             [
              0.1111111111111111,
              "#46039f"
             ],
             [
              0.2222222222222222,
              "#7201a8"
             ],
             [
              0.3333333333333333,
              "#9c179e"
             ],
             [
              0.4444444444444444,
              "#bd3786"
             ],
             [
              0.5555555555555556,
              "#d8576b"
             ],
             [
              0.6666666666666666,
              "#ed7953"
             ],
             [
              0.7777777777777778,
              "#fb9f3a"
             ],
             [
              0.8888888888888888,
              "#fdca26"
             ],
             [
              1,
              "#f0f921"
             ]
            ],
            "type": "contour"
           }
          ],
          "contourcarpet": [
           {
            "colorbar": {
             "outlinewidth": 0,
             "ticks": ""
            },
            "type": "contourcarpet"
           }
          ],
          "heatmap": [
           {
            "colorbar": {
             "outlinewidth": 0,
             "ticks": ""
            },
            "colorscale": [
             [
              0,
              "#0d0887"
             ],
             [
              0.1111111111111111,
              "#46039f"
             ],
             [
              0.2222222222222222,
              "#7201a8"
             ],
             [
              0.3333333333333333,
              "#9c179e"
             ],
             [
              0.4444444444444444,
              "#bd3786"
             ],
             [
              0.5555555555555556,
              "#d8576b"
             ],
             [
              0.6666666666666666,
              "#ed7953"
             ],
             [
              0.7777777777777778,
              "#fb9f3a"
             ],
             [
              0.8888888888888888,
              "#fdca26"
             ],
             [
              1,
              "#f0f921"
             ]
            ],
            "type": "heatmap"
           }
          ],
          "heatmapgl": [
           {
            "colorbar": {
             "outlinewidth": 0,
             "ticks": ""
            },
            "colorscale": [
             [
              0,
              "#0d0887"
             ],
             [
              0.1111111111111111,
              "#46039f"
             ],
             [
              0.2222222222222222,
              "#7201a8"
             ],
             [
              0.3333333333333333,
              "#9c179e"
             ],
             [
              0.4444444444444444,
              "#bd3786"
             ],
             [
              0.5555555555555556,
              "#d8576b"
             ],
             [
              0.6666666666666666,
              "#ed7953"
             ],
             [
              0.7777777777777778,
              "#fb9f3a"
             ],
             [
              0.8888888888888888,
              "#fdca26"
             ],
             [
              1,
              "#f0f921"
             ]
            ],
            "type": "heatmapgl"
           }
          ],
          "histogram": [
           {
            "marker": {
             "colorbar": {
              "outlinewidth": 0,
              "ticks": ""
             }
            },
            "type": "histogram"
           }
          ],
          "histogram2d": [
           {
            "colorbar": {
             "outlinewidth": 0,
             "ticks": ""
            },
            "colorscale": [
             [
              0,
              "#0d0887"
             ],
             [
              0.1111111111111111,
              "#46039f"
             ],
             [
              0.2222222222222222,
              "#7201a8"
             ],
             [
              0.3333333333333333,
              "#9c179e"
             ],
             [
              0.4444444444444444,
              "#bd3786"
             ],
             [
              0.5555555555555556,
              "#d8576b"
             ],
             [
              0.6666666666666666,
              "#ed7953"
             ],
             [
              0.7777777777777778,
              "#fb9f3a"
             ],
             [
              0.8888888888888888,
              "#fdca26"
             ],
             [
              1,
              "#f0f921"
             ]
            ],
            "type": "histogram2d"
           }
          ],
          "histogram2dcontour": [
           {
            "colorbar": {
             "outlinewidth": 0,
             "ticks": ""
            },
            "colorscale": [
             [
              0,
              "#0d0887"
             ],
             [
              0.1111111111111111,
              "#46039f"
             ],
             [
              0.2222222222222222,
              "#7201a8"
             ],
             [
              0.3333333333333333,
              "#9c179e"
             ],
             [
              0.4444444444444444,
              "#bd3786"
             ],
             [
              0.5555555555555556,
              "#d8576b"
             ],
             [
              0.6666666666666666,
              "#ed7953"
             ],
             [
              0.7777777777777778,
              "#fb9f3a"
             ],
             [
              0.8888888888888888,
              "#fdca26"
             ],
             [
              1,
              "#f0f921"
             ]
            ],
            "type": "histogram2dcontour"
           }
          ],
          "mesh3d": [
           {
            "colorbar": {
             "outlinewidth": 0,
             "ticks": ""
            },
            "type": "mesh3d"
           }
          ],
          "parcoords": [
           {
            "line": {
             "colorbar": {
              "outlinewidth": 0,
              "ticks": ""
             }
            },
            "type": "parcoords"
           }
          ],
          "pie": [
           {
            "automargin": true,
            "type": "pie"
           }
          ],
          "scatter": [
           {
            "marker": {
             "colorbar": {
              "outlinewidth": 0,
              "ticks": ""
             }
            },
            "type": "scatter"
           }
          ],
          "scatter3d": [
           {
            "line": {
             "colorbar": {
              "outlinewidth": 0,
              "ticks": ""
             }
            },
            "marker": {
             "colorbar": {
              "outlinewidth": 0,
              "ticks": ""
             }
            },
            "type": "scatter3d"
           }
          ],
          "scattercarpet": [
           {
            "marker": {
             "colorbar": {
              "outlinewidth": 0,
              "ticks": ""
             }
            },
            "type": "scattercarpet"
           }
          ],
          "scattergeo": [
           {
            "marker": {
             "colorbar": {
              "outlinewidth": 0,
              "ticks": ""
             }
            },
            "type": "scattergeo"
           }
          ],
          "scattergl": [
           {
            "marker": {
             "colorbar": {
              "outlinewidth": 0,
              "ticks": ""
             }
            },
            "type": "scattergl"
           }
          ],
          "scattermapbox": [
           {
            "marker": {
             "colorbar": {
              "outlinewidth": 0,
              "ticks": ""
             }
            },
            "type": "scattermapbox"
           }
          ],
          "scatterpolar": [
           {
            "marker": {
             "colorbar": {
              "outlinewidth": 0,
              "ticks": ""
             }
            },
            "type": "scatterpolar"
           }
          ],
          "scatterpolargl": [
           {
            "marker": {
             "colorbar": {
              "outlinewidth": 0,
              "ticks": ""
             }
            },
            "type": "scatterpolargl"
           }
          ],
          "scatterternary": [
           {
            "marker": {
             "colorbar": {
              "outlinewidth": 0,
              "ticks": ""
             }
            },
            "type": "scatterternary"
           }
          ],
          "surface": [
           {
            "colorbar": {
             "outlinewidth": 0,
             "ticks": ""
            },
            "colorscale": [
             [
              0,
              "#0d0887"
             ],
             [
              0.1111111111111111,
              "#46039f"
             ],
             [
              0.2222222222222222,
              "#7201a8"
             ],
             [
              0.3333333333333333,
              "#9c179e"
             ],
             [
              0.4444444444444444,
              "#bd3786"
             ],
             [
              0.5555555555555556,
              "#d8576b"
             ],
             [
              0.6666666666666666,
              "#ed7953"
             ],
             [
              0.7777777777777778,
              "#fb9f3a"
             ],
             [
              0.8888888888888888,
              "#fdca26"
             ],
             [
              1,
              "#f0f921"
             ]
            ],
            "type": "surface"
           }
          ],
          "table": [
           {
            "cells": {
             "fill": {
              "color": "#EBF0F8"
             },
             "line": {
              "color": "white"
             }
            },
            "header": {
             "fill": {
              "color": "#C8D4E3"
             },
             "line": {
              "color": "white"
             }
            },
            "type": "table"
           }
          ]
         },
         "layout": {
          "annotationdefaults": {
           "arrowcolor": "#2a3f5f",
           "arrowhead": 0,
           "arrowwidth": 1
          },
          "autotypenumbers": "strict",
          "coloraxis": {
           "colorbar": {
            "outlinewidth": 0,
            "ticks": ""
           }
          },
          "colorscale": {
           "diverging": [
            [
             0,
             "#8e0152"
            ],
            [
             0.1,
             "#c51b7d"
            ],
            [
             0.2,
             "#de77ae"
            ],
            [
             0.3,
             "#f1b6da"
            ],
            [
             0.4,
             "#fde0ef"
            ],
            [
             0.5,
             "#f7f7f7"
            ],
            [
             0.6,
             "#e6f5d0"
            ],
            [
             0.7,
             "#b8e186"
            ],
            [
             0.8,
             "#7fbc41"
            ],
            [
             0.9,
             "#4d9221"
            ],
            [
             1,
             "#276419"
            ]
           ],
           "sequential": [
            [
             0,
             "#0d0887"
            ],
            [
             0.1111111111111111,
             "#46039f"
            ],
            [
             0.2222222222222222,
             "#7201a8"
            ],
            [
             0.3333333333333333,
             "#9c179e"
            ],
            [
             0.4444444444444444,
             "#bd3786"
            ],
            [
             0.5555555555555556,
             "#d8576b"
            ],
            [
             0.6666666666666666,
             "#ed7953"
            ],
            [
             0.7777777777777778,
             "#fb9f3a"
            ],
            [
             0.8888888888888888,
             "#fdca26"
            ],
            [
             1,
             "#f0f921"
            ]
           ],
           "sequentialminus": [
            [
             0,
             "#0d0887"
            ],
            [
             0.1111111111111111,
             "#46039f"
            ],
            [
             0.2222222222222222,
             "#7201a8"
            ],
            [
             0.3333333333333333,
             "#9c179e"
            ],
            [
             0.4444444444444444,
             "#bd3786"
            ],
            [
             0.5555555555555556,
             "#d8576b"
            ],
            [
             0.6666666666666666,
             "#ed7953"
            ],
            [
             0.7777777777777778,
             "#fb9f3a"
            ],
            [
             0.8888888888888888,
             "#fdca26"
            ],
            [
             1,
             "#f0f921"
            ]
           ]
          },
          "colorway": [
           "#636efa",
           "#EF553B",
           "#00cc96",
           "#ab63fa",
           "#FFA15A",
           "#19d3f3",
           "#FF6692",
           "#B6E880",
           "#FF97FF",
           "#FECB52"
          ],
          "font": {
           "color": "#2a3f5f"
          },
          "geo": {
           "bgcolor": "white",
           "lakecolor": "white",
           "landcolor": "#E5ECF6",
           "showlakes": true,
           "showland": true,
           "subunitcolor": "white"
          },
          "hoverlabel": {
           "align": "left"
          },
          "hovermode": "closest",
          "mapbox": {
           "style": "light"
          },
          "paper_bgcolor": "white",
          "plot_bgcolor": "#E5ECF6",
          "polar": {
           "angularaxis": {
            "gridcolor": "white",
            "linecolor": "white",
            "ticks": ""
           },
           "bgcolor": "#E5ECF6",
           "radialaxis": {
            "gridcolor": "white",
            "linecolor": "white",
            "ticks": ""
           }
          },
          "scene": {
           "xaxis": {
            "backgroundcolor": "#E5ECF6",
            "gridcolor": "white",
            "gridwidth": 2,
            "linecolor": "white",
            "showbackground": true,
            "ticks": "",
            "zerolinecolor": "white"
           },
           "yaxis": {
            "backgroundcolor": "#E5ECF6",
            "gridcolor": "white",
            "gridwidth": 2,
            "linecolor": "white",
            "showbackground": true,
            "ticks": "",
            "zerolinecolor": "white"
           },
           "zaxis": {
            "backgroundcolor": "#E5ECF6",
            "gridcolor": "white",
            "gridwidth": 2,
            "linecolor": "white",
            "showbackground": true,
            "ticks": "",
            "zerolinecolor": "white"
           }
          },
          "shapedefaults": {
           "line": {
            "color": "#2a3f5f"
           }
          },
          "ternary": {
           "aaxis": {
            "gridcolor": "white",
            "linecolor": "white",
            "ticks": ""
           },
           "baxis": {
            "gridcolor": "white",
            "linecolor": "white",
            "ticks": ""
           },
           "bgcolor": "#E5ECF6",
           "caxis": {
            "gridcolor": "white",
            "linecolor": "white",
            "ticks": ""
           }
          },
          "title": {
           "x": 0.05
          },
          "xaxis": {
           "automargin": true,
           "gridcolor": "white",
           "linecolor": "white",
           "ticks": "",
           "title": {
            "standoff": 15
           },
           "zerolinecolor": "white",
           "zerolinewidth": 2
          },
          "yaxis": {
           "automargin": true,
           "gridcolor": "white",
           "linecolor": "white",
           "ticks": "",
           "title": {
            "standoff": 15
           },
           "zerolinecolor": "white",
           "zerolinewidth": 2
          }
         }
        },
        "title": {
         "text": "FAAC_2020",
         "x": 0.5,
         "y": 0.8
        },
        "uniformtext": {
         "minsize": 8,
         "mode": "hide"
        },
        "width": 1000,
        "xaxis": {
         "anchor": "y",
         "categoryarray": [
          "ABIA STATE",
          "ADAMAWA STATE",
          "AKWA IBOW STATE",
          "ANAMBRA STATE",
          "BAUCHI STATE",
          "BAYELSA STATE",
          "BENUE STATE",
          "BORNO STATE",
          "CROSS-RIVER STATE",
          "DELTA STATE",
          "EBONYI STATE",
          "EDO STATE",
          "EKITI STATE",
          "ENUGU STATE",
          "GOMBE STATE",
          "IMO STATE",
          "JIGAWA STATE",
          "KADUNA STATE",
          "KANO STATE",
          "KATSINA STATE",
          "KEBBI STATE",
          "KOGI STATE",
          "KWARA STATE",
          "LAGOS STATE",
          "NASARAWA STATE",
          "NIGER STATE",
          "OGUN STATE",
          "ONDO STATE",
          "OSUN STATE",
          "OYO STATE",
          "PLATEAU STATE",
          "RIVERS STATE",
          "SOKOTO STATE",
          "TARABA STATE",
          "YOBE STATE",
          "ZAMFARA STATE",
          "FEDERAL CAPITAL TERRITORY (FCT)"
         ],
         "categoryorder": "array",
         "domain": [
          0,
          1
         ],
         "title": {
          "text": "STATE"
         }
        },
        "yaxis": {
         "anchor": "x",
         "domain": [
          0,
          1
         ],
         "title": {
          "text": "OCTOBER"
         }
        }
       }
      },
      "text/html": [
       "<div>                            <div id=\"97ecc2ec-05eb-4954-ae66-88f08fe639b1\" class=\"plotly-graph-div\" style=\"height:750px; width:1000px;\"></div>            <script type=\"text/javascript\">                require([\"plotly\"], function(Plotly) {                    window.PLOTLYENV=window.PLOTLYENV || {};                                    if (document.getElementById(\"97ecc2ec-05eb-4954-ae66-88f08fe639b1\")) {                    Plotly.newPlot(                        \"97ecc2ec-05eb-4954-ae66-88f08fe639b1\",                        [{\"alignmentgroup\": \"True\", \"hovertemplate\": \"STATE=%{x}<br>OCTOBER=%{y}<extra></extra>\", \"legendgroup\": \"ABIA STATE\", \"marker\": {\"color\": \"#636efa\"}, \"name\": \"ABIA STATE\", \"offsetgroup\": \"ABIA STATE\", \"orientation\": \"v\", \"showlegend\": true, \"textposition\": \"outside\", \"texttemplate\": \"%{text:.4s}\", \"type\": \"bar\", \"x\": [\"ABIA STATE\"], \"xaxis\": \"x\", \"y\": [2596618258], \"yaxis\": \"y\"}, {\"alignmentgroup\": \"True\", \"hovertemplate\": \"STATE=%{x}<br>OCTOBER=%{y}<extra></extra>\", \"legendgroup\": \"ADAMAWA STATE\", \"marker\": {\"color\": \"#EF553B\"}, \"name\": \"ADAMAWA STATE\", \"offsetgroup\": \"ADAMAWA STATE\", \"orientation\": \"v\", \"showlegend\": true, \"textposition\": \"outside\", \"texttemplate\": \"%{text:.4s}\", \"type\": \"bar\", \"x\": [\"ADAMAWA STATE\"], \"xaxis\": \"x\", \"y\": [3245543006], \"yaxis\": \"y\"}, {\"alignmentgroup\": \"True\", \"hovertemplate\": \"STATE=%{x}<br>OCTOBER=%{y}<extra></extra>\", \"legendgroup\": \"AKWA IBOW STATE\", \"marker\": {\"color\": \"#00cc96\"}, \"name\": \"AKWA IBOW STATE\", \"offsetgroup\": \"AKWA IBOW STATE\", \"orientation\": \"v\", \"showlegend\": true, \"textposition\": \"outside\", \"texttemplate\": \"%{text:.4s}\", \"type\": \"bar\", \"x\": [\"AKWA IBOW STATE\"], \"xaxis\": \"x\", \"y\": [4341768102], \"yaxis\": \"y\"}, {\"alignmentgroup\": \"True\", \"hovertemplate\": \"STATE=%{x}<br>OCTOBER=%{y}<extra></extra>\", \"legendgroup\": \"ANAMBRA STATE\", \"marker\": {\"color\": \"#ab63fa\"}, \"name\": \"ANAMBRA STATE\", \"offsetgroup\": \"ANAMBRA STATE\", \"orientation\": \"v\", \"showlegend\": true, \"textposition\": \"outside\", \"texttemplate\": \"%{text:.4s}\", \"type\": \"bar\", \"x\": [\"ANAMBRA STATE\"], \"xaxis\": \"x\", \"y\": [3405984445], \"yaxis\": \"y\"}, {\"alignmentgroup\": \"True\", \"hovertemplate\": \"STATE=%{x}<br>OCTOBER=%{y}<extra></extra>\", \"legendgroup\": \"BAUCHI STATE\", \"marker\": {\"color\": \"#FFA15A\"}, \"name\": \"BAUCHI STATE\", \"offsetgroup\": \"BAUCHI STATE\", \"orientation\": \"v\", \"showlegend\": true, \"textposition\": \"outside\", \"texttemplate\": \"%{text:.4s}\", \"type\": \"bar\", \"x\": [\"BAUCHI STATE\"], \"xaxis\": \"x\", \"y\": [3704418262], \"yaxis\": \"y\"}, {\"alignmentgroup\": \"True\", \"hovertemplate\": \"STATE=%{x}<br>OCTOBER=%{y}<extra></extra>\", \"legendgroup\": \"BAYELSA STATE\", \"marker\": {\"color\": \"#19d3f3\"}, \"name\": \"BAYELSA STATE\", \"offsetgroup\": \"BAYELSA STATE\", \"orientation\": \"v\", \"showlegend\": true, \"textposition\": \"outside\", \"texttemplate\": \"%{text:.4s}\", \"type\": \"bar\", \"x\": [\"BAYELSA STATE\"], \"xaxis\": \"x\", \"y\": [1494693258], \"yaxis\": \"y\"}, {\"alignmentgroup\": \"True\", \"hovertemplate\": \"STATE=%{x}<br>OCTOBER=%{y}<extra></extra>\", \"legendgroup\": \"BENUE STATE\", \"marker\": {\"color\": \"#FF6692\"}, \"name\": \"BENUE STATE\", \"offsetgroup\": \"BENUE STATE\", \"orientation\": \"v\", \"showlegend\": true, \"textposition\": \"outside\", \"texttemplate\": \"%{text:.4s}\", \"type\": \"bar\", \"x\": [\"BENUE STATE\"], \"xaxis\": \"x\", \"y\": [3958235984], \"yaxis\": \"y\"}, {\"alignmentgroup\": \"True\", \"hovertemplate\": \"STATE=%{x}<br>OCTOBER=%{y}<extra></extra>\", \"legendgroup\": \"BORNO STATE\", \"marker\": {\"color\": \"#B6E880\"}, \"name\": \"BORNO STATE\", \"offsetgroup\": \"BORNO STATE\", \"orientation\": \"v\", \"showlegend\": true, \"textposition\": \"outside\", \"texttemplate\": \"%{text:.4s}\", \"type\": \"bar\", \"x\": [\"BORNO STATE\"], \"xaxis\": \"x\", \"y\": [4311309574], \"yaxis\": \"y\"}, {\"alignmentgroup\": \"True\", \"hovertemplate\": \"STATE=%{x}<br>OCTOBER=%{y}<extra></extra>\", \"legendgroup\": \"CROSS-RIVER STATE\", \"marker\": {\"color\": \"#FF97FF\"}, \"name\": \"CROSS-RIVER STATE\", \"offsetgroup\": \"CROSS-RIVER STATE\", \"orientation\": \"v\", \"showlegend\": true, \"textposition\": \"outside\", \"texttemplate\": \"%{text:.4s}\", \"type\": \"bar\", \"x\": [\"CROSS-RIVER STATE\"], \"xaxis\": \"x\", \"y\": [2811179250], \"yaxis\": \"y\"}, {\"alignmentgroup\": \"True\", \"hovertemplate\": \"STATE=%{x}<br>OCTOBER=%{y}<extra></extra>\", \"legendgroup\": \"DELTA STATE\", \"marker\": {\"color\": \"#FECB52\"}, \"name\": \"DELTA STATE\", \"offsetgroup\": \"DELTA STATE\", \"orientation\": \"v\", \"showlegend\": true, \"textposition\": \"outside\", \"texttemplate\": \"%{text:.4s}\", \"type\": \"bar\", \"x\": [\"DELTA STATE\"], \"xaxis\": \"x\", \"y\": [3738568339], \"yaxis\": \"y\"}, {\"alignmentgroup\": \"True\", \"hovertemplate\": \"STATE=%{x}<br>OCTOBER=%{y}<extra></extra>\", \"legendgroup\": \"EBONYI STATE\", \"marker\": {\"color\": \"#636efa\"}, \"name\": \"EBONYI STATE\", \"offsetgroup\": \"EBONYI STATE\", \"orientation\": \"v\", \"showlegend\": true, \"textposition\": \"outside\", \"texttemplate\": \"%{text:.4s}\", \"type\": \"bar\", \"x\": [\"EBONYI STATE\"], \"xaxis\": \"x\", \"y\": [2122765904], \"yaxis\": \"y\"}, {\"alignmentgroup\": \"True\", \"hovertemplate\": \"STATE=%{x}<br>OCTOBER=%{y}<extra></extra>\", \"legendgroup\": \"EDO STATE\", \"marker\": {\"color\": \"#EF553B\"}, \"name\": \"EDO STATE\", \"offsetgroup\": \"EDO STATE\", \"orientation\": \"v\", \"showlegend\": true, \"textposition\": \"outside\", \"texttemplate\": \"%{text:.4s}\", \"type\": \"bar\", \"x\": [\"EDO STATE\"], \"xaxis\": \"x\", \"y\": [2823032749], \"yaxis\": \"y\"}, {\"alignmentgroup\": \"True\", \"hovertemplate\": \"STATE=%{x}<br>OCTOBER=%{y}<extra></extra>\", \"legendgroup\": \"EKITI STATE\", \"marker\": {\"color\": \"#00cc96\"}, \"name\": \"EKITI STATE\", \"offsetgroup\": \"EKITI STATE\", \"orientation\": \"v\", \"showlegend\": true, \"textposition\": \"outside\", \"texttemplate\": \"%{text:.4s}\", \"type\": \"bar\", \"x\": [\"EKITI STATE\"], \"xaxis\": \"x\", \"y\": [2289194190], \"yaxis\": \"y\"}, {\"alignmentgroup\": \"True\", \"hovertemplate\": \"STATE=%{x}<br>OCTOBER=%{y}<extra></extra>\", \"legendgroup\": \"ENUGU STATE\", \"marker\": {\"color\": \"#ab63fa\"}, \"name\": \"ENUGU STATE\", \"offsetgroup\": \"ENUGU STATE\", \"orientation\": \"v\", \"showlegend\": true, \"textposition\": \"outside\", \"texttemplate\": \"%{text:.4s}\", \"type\": \"bar\", \"x\": [\"ENUGU STATE\"], \"xaxis\": \"x\", \"y\": [2850580443], \"yaxis\": \"y\"}, {\"alignmentgroup\": \"True\", \"hovertemplate\": \"STATE=%{x}<br>OCTOBER=%{y}<extra></extra>\", \"legendgroup\": \"GOMBE STATE\", \"marker\": {\"color\": \"#FFA15A\"}, \"name\": \"GOMBE STATE\", \"offsetgroup\": \"GOMBE STATE\", \"orientation\": \"v\", \"showlegend\": true, \"textposition\": \"outside\", \"texttemplate\": \"%{text:.4s}\", \"type\": \"bar\", \"x\": [\"GOMBE STATE\"], \"xaxis\": \"x\", \"y\": [1931310044], \"yaxis\": \"y\"}, {\"alignmentgroup\": \"True\", \"hovertemplate\": \"STATE=%{x}<br>OCTOBER=%{y}<extra></extra>\", \"legendgroup\": \"IMO STATE\", \"marker\": {\"color\": \"#19d3f3\"}, \"name\": \"IMO STATE\", \"offsetgroup\": \"IMO STATE\", \"orientation\": \"v\", \"showlegend\": true, \"textposition\": \"outside\", \"texttemplate\": \"%{text:.4s}\", \"type\": \"bar\", \"x\": [\"IMO STATE\"], \"xaxis\": \"x\", \"y\": [3820493930], \"yaxis\": \"y\"}, {\"alignmentgroup\": \"True\", \"hovertemplate\": \"STATE=%{x}<br>OCTOBER=%{y}<extra></extra>\", \"legendgroup\": \"JIGAWA STATE\", \"marker\": {\"color\": \"#FF6692\"}, \"name\": \"JIGAWA STATE\", \"offsetgroup\": \"JIGAWA STATE\", \"orientation\": \"v\", \"showlegend\": true, \"textposition\": \"outside\", \"texttemplate\": \"%{text:.4s}\", \"type\": \"bar\", \"x\": [\"JIGAWA STATE\"], \"xaxis\": \"x\", \"y\": [4027073677], \"yaxis\": \"y\"}, {\"alignmentgroup\": \"True\", \"hovertemplate\": \"STATE=%{x}<br>OCTOBER=%{y}<extra></extra>\", \"legendgroup\": \"KADUNA STATE\", \"marker\": {\"color\": \"#B6E880\"}, \"name\": \"KADUNA STATE\", \"offsetgroup\": \"KADUNA STATE\", \"orientation\": \"v\", \"showlegend\": true, \"textposition\": \"outside\", \"texttemplate\": \"%{text:.4s}\", \"type\": \"bar\", \"x\": [\"KADUNA STATE\"], \"xaxis\": \"x\", \"y\": [4550897963], \"yaxis\": \"y\"}, {\"alignmentgroup\": \"True\", \"hovertemplate\": \"STATE=%{x}<br>OCTOBER=%{y}<extra></extra>\", \"legendgroup\": \"KANO STATE\", \"marker\": {\"color\": \"#FF97FF\"}, \"name\": \"KANO STATE\", \"offsetgroup\": \"KANO STATE\", \"orientation\": \"v\", \"showlegend\": true, \"textposition\": \"outside\", \"texttemplate\": \"%{text:.4s}\", \"type\": \"bar\", \"x\": [\"KANO STATE\"], \"xaxis\": \"x\", \"y\": [7397586478], \"yaxis\": \"y\"}, {\"alignmentgroup\": \"True\", \"hovertemplate\": \"STATE=%{x}<br>OCTOBER=%{y}<extra></extra>\", \"legendgroup\": \"KATSINA STATE\", \"marker\": {\"color\": \"#FECB52\"}, \"name\": \"KATSINA STATE\", \"offsetgroup\": \"KATSINA STATE\", \"orientation\": \"v\", \"showlegend\": true, \"textposition\": \"outside\", \"texttemplate\": \"%{text:.4s}\", \"type\": \"bar\", \"x\": [\"KATSINA STATE\"], \"xaxis\": \"x\", \"y\": [5390876603], \"yaxis\": \"y\"}, {\"alignmentgroup\": \"True\", \"hovertemplate\": \"STATE=%{x}<br>OCTOBER=%{y}<extra></extra>\", \"legendgroup\": \"KEBBI STATE\", \"marker\": {\"color\": \"#636efa\"}, \"name\": \"KEBBI STATE\", \"offsetgroup\": \"KEBBI STATE\", \"orientation\": \"v\", \"showlegend\": true, \"textposition\": \"outside\", \"texttemplate\": \"%{text:.4s}\", \"type\": \"bar\", \"x\": [\"KEBBI STATE\"], \"xaxis\": \"x\", \"y\": [3351618498], \"yaxis\": \"y\"}, {\"alignmentgroup\": \"True\", \"hovertemplate\": \"STATE=%{x}<br>OCTOBER=%{y}<extra></extra>\", \"legendgroup\": \"KOGI STATE\", \"marker\": {\"color\": \"#EF553B\"}, \"name\": \"KOGI STATE\", \"offsetgroup\": \"KOGI STATE\", \"orientation\": \"v\", \"showlegend\": true, \"textposition\": \"outside\", \"texttemplate\": \"%{text:.4s}\", \"type\": \"bar\", \"x\": [\"KOGI STATE\"], \"xaxis\": \"x\", \"y\": [3437498750], \"yaxis\": \"y\"}, {\"alignmentgroup\": \"True\", \"hovertemplate\": \"STATE=%{x}<br>OCTOBER=%{y}<extra></extra>\", \"legendgroup\": \"KWARA STATE\", \"marker\": {\"color\": \"#00cc96\"}, \"name\": \"KWARA STATE\", \"offsetgroup\": \"KWARA STATE\", \"orientation\": \"v\", \"showlegend\": true, \"textposition\": \"outside\", \"texttemplate\": \"%{text:.4s}\", \"type\": \"bar\", \"x\": [\"KWARA STATE\"], \"xaxis\": \"x\", \"y\": [2474649328], \"yaxis\": \"y\"}, {\"alignmentgroup\": \"True\", \"hovertemplate\": \"STATE=%{x}<br>OCTOBER=%{y}<extra></extra>\", \"legendgroup\": \"LAGOS STATE\", \"marker\": {\"color\": \"#ab63fa\"}, \"name\": \"LAGOS STATE\", \"offsetgroup\": \"LAGOS STATE\", \"orientation\": \"v\", \"showlegend\": true, \"textposition\": \"outside\", \"texttemplate\": \"%{text:.4s}\", \"type\": \"bar\", \"x\": [\"LAGOS STATE\"], \"xaxis\": \"x\", \"y\": [10640825817], \"yaxis\": \"y\"}, {\"alignmentgroup\": \"True\", \"hovertemplate\": \"STATE=%{x}<br>OCTOBER=%{y}<extra></extra>\", \"legendgroup\": \"NASARAWA STATE\", \"marker\": {\"color\": \"#FFA15A\"}, \"name\": \"NASARAWA STATE\", \"offsetgroup\": \"NASARAWA STATE\", \"orientation\": \"v\", \"showlegend\": true, \"textposition\": \"outside\", \"texttemplate\": \"%{text:.4s}\", \"type\": \"bar\", \"x\": [\"NASARAWA STATE\"], \"xaxis\": \"x\", \"y\": [2153123204], \"yaxis\": \"y\"}, {\"alignmentgroup\": \"True\", \"hovertemplate\": \"STATE=%{x}<br>OCTOBER=%{y}<extra></extra>\", \"legendgroup\": \"NIGER STATE\", \"marker\": {\"color\": \"#19d3f3\"}, \"name\": \"NIGER STATE\", \"offsetgroup\": \"NIGER STATE\", \"orientation\": \"v\", \"showlegend\": true, \"textposition\": \"outside\", \"texttemplate\": \"%{text:.4s}\", \"type\": \"bar\", \"x\": [\"NIGER STATE\"], \"xaxis\": \"x\", \"y\": [4061846190], \"yaxis\": \"y\"}, {\"alignmentgroup\": \"True\", \"hovertemplate\": \"STATE=%{x}<br>OCTOBER=%{y}<extra></extra>\", \"legendgroup\": \"OGUN STATE\", \"marker\": {\"color\": \"#FF6692\"}, \"name\": \"OGUN STATE\", \"offsetgroup\": \"OGUN STATE\", \"orientation\": \"v\", \"showlegend\": true, \"textposition\": \"outside\", \"texttemplate\": \"%{text:.4s}\", \"type\": \"bar\", \"x\": [\"OGUN STATE\"], \"xaxis\": \"x\", \"y\": [3056079368], \"yaxis\": \"y\"}, {\"alignmentgroup\": \"True\", \"hovertemplate\": \"STATE=%{x}<br>OCTOBER=%{y}<extra></extra>\", \"legendgroup\": \"ONDO STATE\", \"marker\": {\"color\": \"#B6E880\"}, \"name\": \"ONDO STATE\", \"offsetgroup\": \"ONDO STATE\", \"orientation\": \"v\", \"showlegend\": true, \"textposition\": \"outside\", \"texttemplate\": \"%{text:.4s}\", \"type\": \"bar\", \"x\": [\"ONDO STATE\"], \"xaxis\": \"x\", \"y\": [2873295431], \"yaxis\": \"y\"}, {\"alignmentgroup\": \"True\", \"hovertemplate\": \"STATE=%{x}<br>OCTOBER=%{y}<extra></extra>\", \"legendgroup\": \"OSUN STATE\", \"marker\": {\"color\": \"#FF97FF\"}, \"name\": \"OSUN STATE\", \"offsetgroup\": \"OSUN STATE\", \"orientation\": \"v\", \"showlegend\": true, \"textposition\": \"outside\", \"texttemplate\": \"%{text:.4s}\", \"type\": \"bar\", \"x\": [\"OSUN STATE\"], \"xaxis\": \"x\", \"y\": [3860383158], \"yaxis\": \"y\"}, {\"alignmentgroup\": \"True\", \"hovertemplate\": \"STATE=%{x}<br>OCTOBER=%{y}<extra></extra>\", \"legendgroup\": \"OYO STATE\", \"marker\": {\"color\": \"#FECB52\"}, \"name\": \"OYO STATE\", \"offsetgroup\": \"OYO STATE\", \"orientation\": \"v\", \"showlegend\": true, \"textposition\": \"outside\", \"texttemplate\": \"%{text:.4s}\", \"type\": \"bar\", \"x\": [\"OYO STATE\"], \"xaxis\": \"x\", \"y\": [5282052160], \"yaxis\": \"y\"}, {\"alignmentgroup\": \"True\", \"hovertemplate\": \"STATE=%{x}<br>OCTOBER=%{y}<extra></extra>\", \"legendgroup\": \"PLATEAU STATE\", \"marker\": {\"color\": \"#636efa\"}, \"name\": \"PLATEAU STATE\", \"offsetgroup\": \"PLATEAU STATE\", \"orientation\": \"v\", \"showlegend\": true, \"textposition\": \"outside\", \"texttemplate\": \"%{text:.4s}\", \"type\": \"bar\", \"x\": [\"PLATEAU STATE\"], \"xaxis\": \"x\", \"y\": [2959835429], \"yaxis\": \"y\"}, {\"alignmentgroup\": \"True\", \"hovertemplate\": \"STATE=%{x}<br>OCTOBER=%{y}<extra></extra>\", \"legendgroup\": \"RIVERS STATE\", \"marker\": {\"color\": \"#EF553B\"}, \"name\": \"RIVERS STATE\", \"offsetgroup\": \"RIVERS STATE\", \"orientation\": \"v\", \"showlegend\": true, \"textposition\": \"outside\", \"texttemplate\": \"%{text:.4s}\", \"type\": \"bar\", \"x\": [\"RIVERS STATE\"], \"xaxis\": \"x\", \"y\": [4178591848], \"yaxis\": \"y\"}, {\"alignmentgroup\": \"True\", \"hovertemplate\": \"STATE=%{x}<br>OCTOBER=%{y}<extra></extra>\", \"legendgroup\": \"SOKOTO STATE\", \"marker\": {\"color\": \"#00cc96\"}, \"name\": \"SOKOTO STATE\", \"offsetgroup\": \"SOKOTO STATE\", \"orientation\": \"v\", \"showlegend\": true, \"textposition\": \"outside\", \"texttemplate\": \"%{text:.4s}\", \"type\": \"bar\", \"x\": [\"SOKOTO STATE\"], \"xaxis\": \"x\", \"y\": [3714498859], \"yaxis\": \"y\"}, {\"alignmentgroup\": \"True\", \"hovertemplate\": \"STATE=%{x}<br>OCTOBER=%{y}<extra></extra>\", \"legendgroup\": \"TARABA STATE\", \"marker\": {\"color\": \"#ab63fa\"}, \"name\": \"TARABA STATE\", \"offsetgroup\": \"TARABA STATE\", \"orientation\": \"v\", \"showlegend\": true, \"textposition\": \"outside\", \"texttemplate\": \"%{text:.4s}\", \"type\": \"bar\", \"x\": [\"TARABA STATE\"], \"xaxis\": \"x\", \"y\": [2694245350], \"yaxis\": \"y\"}, {\"alignmentgroup\": \"True\", \"hovertemplate\": \"STATE=%{x}<br>OCTOBER=%{y}<extra></extra>\", \"legendgroup\": \"YOBE STATE\", \"marker\": {\"color\": \"#FFA15A\"}, \"name\": \"YOBE STATE\", \"offsetgroup\": \"YOBE STATE\", \"orientation\": \"v\", \"showlegend\": true, \"textposition\": \"outside\", \"texttemplate\": \"%{text:.4s}\", \"type\": \"bar\", \"x\": [\"YOBE STATE\"], \"xaxis\": \"x\", \"y\": [2752081581], \"yaxis\": \"y\"}, {\"alignmentgroup\": \"True\", \"hovertemplate\": \"STATE=%{x}<br>OCTOBER=%{y}<extra></extra>\", \"legendgroup\": \"ZAMFARA STATE\", \"marker\": {\"color\": \"#19d3f3\"}, \"name\": \"ZAMFARA STATE\", \"offsetgroup\": \"ZAMFARA STATE\", \"orientation\": \"v\", \"showlegend\": true, \"textposition\": \"outside\", \"texttemplate\": \"%{text:.4s}\", \"type\": \"bar\", \"x\": [\"ZAMFARA STATE\"], \"xaxis\": \"x\", \"y\": [2545697933], \"yaxis\": \"y\"}, {\"alignmentgroup\": \"True\", \"hovertemplate\": \"STATE=%{x}<br>OCTOBER=%{y}<extra></extra>\", \"legendgroup\": \"FEDERAL CAPITAL TERRITORY (FCT)\", \"marker\": {\"color\": \"#FF6692\"}, \"name\": \"FEDERAL CAPITAL TERRITORY (FCT)\", \"offsetgroup\": \"FEDERAL CAPITAL TERRITORY (FCT)\", \"orientation\": \"v\", \"showlegend\": true, \"textposition\": \"outside\", \"texttemplate\": \"%{text:.4s}\", \"type\": \"bar\", \"x\": [\"FEDERAL CAPITAL TERRITORY (FCT)\"], \"xaxis\": \"x\", \"y\": [2455479052], \"yaxis\": \"y\"}],                        {\"barmode\": \"relative\", \"height\": 750, \"legend\": {\"title\": {\"text\": \"STATE\"}, \"tracegroupgap\": 0}, \"margin\": {\"t\": 60}, \"template\": {\"data\": {\"bar\": [{\"error_x\": {\"color\": \"#2a3f5f\"}, \"error_y\": {\"color\": \"#2a3f5f\"}, \"marker\": {\"line\": {\"color\": \"#E5ECF6\", \"width\": 0.5}}, \"type\": \"bar\"}], \"barpolar\": [{\"marker\": {\"line\": {\"color\": \"#E5ECF6\", \"width\": 0.5}}, \"type\": \"barpolar\"}], \"carpet\": [{\"aaxis\": {\"endlinecolor\": \"#2a3f5f\", \"gridcolor\": \"white\", \"linecolor\": \"white\", \"minorgridcolor\": \"white\", \"startlinecolor\": \"#2a3f5f\"}, \"baxis\": {\"endlinecolor\": \"#2a3f5f\", \"gridcolor\": \"white\", \"linecolor\": \"white\", \"minorgridcolor\": \"white\", \"startlinecolor\": \"#2a3f5f\"}, \"type\": \"carpet\"}], \"choropleth\": [{\"colorbar\": {\"outlinewidth\": 0, \"ticks\": \"\"}, \"type\": \"choropleth\"}], \"contour\": [{\"colorbar\": {\"outlinewidth\": 0, \"ticks\": \"\"}, \"colorscale\": [[0.0, \"#0d0887\"], [0.1111111111111111, \"#46039f\"], [0.2222222222222222, \"#7201a8\"], [0.3333333333333333, \"#9c179e\"], [0.4444444444444444, \"#bd3786\"], [0.5555555555555556, \"#d8576b\"], [0.6666666666666666, \"#ed7953\"], [0.7777777777777778, \"#fb9f3a\"], [0.8888888888888888, \"#fdca26\"], [1.0, \"#f0f921\"]], \"type\": \"contour\"}], \"contourcarpet\": [{\"colorbar\": {\"outlinewidth\": 0, \"ticks\": \"\"}, \"type\": \"contourcarpet\"}], \"heatmap\": [{\"colorbar\": {\"outlinewidth\": 0, \"ticks\": \"\"}, \"colorscale\": [[0.0, \"#0d0887\"], [0.1111111111111111, \"#46039f\"], [0.2222222222222222, \"#7201a8\"], [0.3333333333333333, \"#9c179e\"], [0.4444444444444444, \"#bd3786\"], [0.5555555555555556, \"#d8576b\"], [0.6666666666666666, \"#ed7953\"], [0.7777777777777778, \"#fb9f3a\"], [0.8888888888888888, \"#fdca26\"], [1.0, \"#f0f921\"]], \"type\": \"heatmap\"}], \"heatmapgl\": [{\"colorbar\": {\"outlinewidth\": 0, \"ticks\": \"\"}, \"colorscale\": [[0.0, \"#0d0887\"], [0.1111111111111111, \"#46039f\"], [0.2222222222222222, \"#7201a8\"], [0.3333333333333333, \"#9c179e\"], [0.4444444444444444, \"#bd3786\"], [0.5555555555555556, \"#d8576b\"], [0.6666666666666666, \"#ed7953\"], [0.7777777777777778, \"#fb9f3a\"], [0.8888888888888888, \"#fdca26\"], [1.0, \"#f0f921\"]], \"type\": \"heatmapgl\"}], \"histogram\": [{\"marker\": {\"colorbar\": {\"outlinewidth\": 0, \"ticks\": \"\"}}, \"type\": \"histogram\"}], \"histogram2d\": [{\"colorbar\": {\"outlinewidth\": 0, \"ticks\": \"\"}, \"colorscale\": [[0.0, \"#0d0887\"], [0.1111111111111111, \"#46039f\"], [0.2222222222222222, \"#7201a8\"], [0.3333333333333333, \"#9c179e\"], [0.4444444444444444, \"#bd3786\"], [0.5555555555555556, \"#d8576b\"], [0.6666666666666666, \"#ed7953\"], [0.7777777777777778, \"#fb9f3a\"], [0.8888888888888888, \"#fdca26\"], [1.0, \"#f0f921\"]], \"type\": \"histogram2d\"}], \"histogram2dcontour\": [{\"colorbar\": {\"outlinewidth\": 0, \"ticks\": \"\"}, \"colorscale\": [[0.0, \"#0d0887\"], [0.1111111111111111, \"#46039f\"], [0.2222222222222222, \"#7201a8\"], [0.3333333333333333, \"#9c179e\"], [0.4444444444444444, \"#bd3786\"], [0.5555555555555556, \"#d8576b\"], [0.6666666666666666, \"#ed7953\"], [0.7777777777777778, \"#fb9f3a\"], [0.8888888888888888, \"#fdca26\"], [1.0, \"#f0f921\"]], \"type\": \"histogram2dcontour\"}], \"mesh3d\": [{\"colorbar\": {\"outlinewidth\": 0, \"ticks\": \"\"}, \"type\": \"mesh3d\"}], \"parcoords\": [{\"line\": {\"colorbar\": {\"outlinewidth\": 0, \"ticks\": \"\"}}, \"type\": \"parcoords\"}], \"pie\": [{\"automargin\": true, \"type\": \"pie\"}], \"scatter\": [{\"marker\": {\"colorbar\": {\"outlinewidth\": 0, \"ticks\": \"\"}}, \"type\": \"scatter\"}], \"scatter3d\": [{\"line\": {\"colorbar\": {\"outlinewidth\": 0, \"ticks\": \"\"}}, \"marker\": {\"colorbar\": {\"outlinewidth\": 0, \"ticks\": \"\"}}, \"type\": \"scatter3d\"}], \"scattercarpet\": [{\"marker\": {\"colorbar\": {\"outlinewidth\": 0, \"ticks\": \"\"}}, \"type\": \"scattercarpet\"}], \"scattergeo\": [{\"marker\": {\"colorbar\": {\"outlinewidth\": 0, \"ticks\": \"\"}}, \"type\": \"scattergeo\"}], \"scattergl\": [{\"marker\": {\"colorbar\": {\"outlinewidth\": 0, \"ticks\": \"\"}}, \"type\": \"scattergl\"}], \"scattermapbox\": [{\"marker\": {\"colorbar\": {\"outlinewidth\": 0, \"ticks\": \"\"}}, \"type\": \"scattermapbox\"}], \"scatterpolar\": [{\"marker\": {\"colorbar\": {\"outlinewidth\": 0, \"ticks\": \"\"}}, \"type\": \"scatterpolar\"}], \"scatterpolargl\": [{\"marker\": {\"colorbar\": {\"outlinewidth\": 0, \"ticks\": \"\"}}, \"type\": \"scatterpolargl\"}], \"scatterternary\": [{\"marker\": {\"colorbar\": {\"outlinewidth\": 0, \"ticks\": \"\"}}, \"type\": \"scatterternary\"}], \"surface\": [{\"colorbar\": {\"outlinewidth\": 0, \"ticks\": \"\"}, \"colorscale\": [[0.0, \"#0d0887\"], [0.1111111111111111, \"#46039f\"], [0.2222222222222222, \"#7201a8\"], [0.3333333333333333, \"#9c179e\"], [0.4444444444444444, \"#bd3786\"], [0.5555555555555556, \"#d8576b\"], [0.6666666666666666, \"#ed7953\"], [0.7777777777777778, \"#fb9f3a\"], [0.8888888888888888, \"#fdca26\"], [1.0, \"#f0f921\"]], \"type\": \"surface\"}], \"table\": [{\"cells\": {\"fill\": {\"color\": \"#EBF0F8\"}, \"line\": {\"color\": \"white\"}}, \"header\": {\"fill\": {\"color\": \"#C8D4E3\"}, \"line\": {\"color\": \"white\"}}, \"type\": \"table\"}]}, \"layout\": {\"annotationdefaults\": {\"arrowcolor\": \"#2a3f5f\", \"arrowhead\": 0, \"arrowwidth\": 1}, \"autotypenumbers\": \"strict\", \"coloraxis\": {\"colorbar\": {\"outlinewidth\": 0, \"ticks\": \"\"}}, \"colorscale\": {\"diverging\": [[0, \"#8e0152\"], [0.1, \"#c51b7d\"], [0.2, \"#de77ae\"], [0.3, \"#f1b6da\"], [0.4, \"#fde0ef\"], [0.5, \"#f7f7f7\"], [0.6, \"#e6f5d0\"], [0.7, \"#b8e186\"], [0.8, \"#7fbc41\"], [0.9, \"#4d9221\"], [1, \"#276419\"]], \"sequential\": [[0.0, \"#0d0887\"], [0.1111111111111111, \"#46039f\"], [0.2222222222222222, \"#7201a8\"], [0.3333333333333333, \"#9c179e\"], [0.4444444444444444, \"#bd3786\"], [0.5555555555555556, \"#d8576b\"], [0.6666666666666666, \"#ed7953\"], [0.7777777777777778, \"#fb9f3a\"], [0.8888888888888888, \"#fdca26\"], [1.0, \"#f0f921\"]], \"sequentialminus\": [[0.0, \"#0d0887\"], [0.1111111111111111, \"#46039f\"], [0.2222222222222222, \"#7201a8\"], [0.3333333333333333, \"#9c179e\"], [0.4444444444444444, \"#bd3786\"], [0.5555555555555556, \"#d8576b\"], [0.6666666666666666, \"#ed7953\"], [0.7777777777777778, \"#fb9f3a\"], [0.8888888888888888, \"#fdca26\"], [1.0, \"#f0f921\"]]}, \"colorway\": [\"#636efa\", \"#EF553B\", \"#00cc96\", \"#ab63fa\", \"#FFA15A\", \"#19d3f3\", \"#FF6692\", \"#B6E880\", \"#FF97FF\", \"#FECB52\"], \"font\": {\"color\": \"#2a3f5f\"}, \"geo\": {\"bgcolor\": \"white\", \"lakecolor\": \"white\", \"landcolor\": \"#E5ECF6\", \"showlakes\": true, \"showland\": true, \"subunitcolor\": \"white\"}, \"hoverlabel\": {\"align\": \"left\"}, \"hovermode\": \"closest\", \"mapbox\": {\"style\": \"light\"}, \"paper_bgcolor\": \"white\", \"plot_bgcolor\": \"#E5ECF6\", \"polar\": {\"angularaxis\": {\"gridcolor\": \"white\", \"linecolor\": \"white\", \"ticks\": \"\"}, \"bgcolor\": \"#E5ECF6\", \"radialaxis\": {\"gridcolor\": \"white\", \"linecolor\": \"white\", \"ticks\": \"\"}}, \"scene\": {\"xaxis\": {\"backgroundcolor\": \"#E5ECF6\", \"gridcolor\": \"white\", \"gridwidth\": 2, \"linecolor\": \"white\", \"showbackground\": true, \"ticks\": \"\", \"zerolinecolor\": \"white\"}, \"yaxis\": {\"backgroundcolor\": \"#E5ECF6\", \"gridcolor\": \"white\", \"gridwidth\": 2, \"linecolor\": \"white\", \"showbackground\": true, \"ticks\": \"\", \"zerolinecolor\": \"white\"}, \"zaxis\": {\"backgroundcolor\": \"#E5ECF6\", \"gridcolor\": \"white\", \"gridwidth\": 2, \"linecolor\": \"white\", \"showbackground\": true, \"ticks\": \"\", \"zerolinecolor\": \"white\"}}, \"shapedefaults\": {\"line\": {\"color\": \"#2a3f5f\"}}, \"ternary\": {\"aaxis\": {\"gridcolor\": \"white\", \"linecolor\": \"white\", \"ticks\": \"\"}, \"baxis\": {\"gridcolor\": \"white\", \"linecolor\": \"white\", \"ticks\": \"\"}, \"bgcolor\": \"#E5ECF6\", \"caxis\": {\"gridcolor\": \"white\", \"linecolor\": \"white\", \"ticks\": \"\"}}, \"title\": {\"x\": 0.05}, \"xaxis\": {\"automargin\": true, \"gridcolor\": \"white\", \"linecolor\": \"white\", \"ticks\": \"\", \"title\": {\"standoff\": 15}, \"zerolinecolor\": \"white\", \"zerolinewidth\": 2}, \"yaxis\": {\"automargin\": true, \"gridcolor\": \"white\", \"linecolor\": \"white\", \"ticks\": \"\", \"title\": {\"standoff\": 15}, \"zerolinecolor\": \"white\", \"zerolinewidth\": 2}}}, \"title\": {\"text\": \"FAAC_2020\", \"x\": 0.5, \"y\": 0.8}, \"uniformtext\": {\"minsize\": 8, \"mode\": \"hide\"}, \"width\": 1000, \"xaxis\": {\"anchor\": \"y\", \"categoryarray\": [\"ABIA STATE\", \"ADAMAWA STATE\", \"AKWA IBOW STATE\", \"ANAMBRA STATE\", \"BAUCHI STATE\", \"BAYELSA STATE\", \"BENUE STATE\", \"BORNO STATE\", \"CROSS-RIVER STATE\", \"DELTA STATE\", \"EBONYI STATE\", \"EDO STATE\", \"EKITI STATE\", \"ENUGU STATE\", \"GOMBE STATE\", \"IMO STATE\", \"JIGAWA STATE\", \"KADUNA STATE\", \"KANO STATE\", \"KATSINA STATE\", \"KEBBI STATE\", \"KOGI STATE\", \"KWARA STATE\", \"LAGOS STATE\", \"NASARAWA STATE\", \"NIGER STATE\", \"OGUN STATE\", \"ONDO STATE\", \"OSUN STATE\", \"OYO STATE\", \"PLATEAU STATE\", \"RIVERS STATE\", \"SOKOTO STATE\", \"TARABA STATE\", \"YOBE STATE\", \"ZAMFARA STATE\", \"FEDERAL CAPITAL TERRITORY (FCT)\"], \"categoryorder\": \"array\", \"domain\": [0.0, 1.0], \"title\": {\"text\": \"STATE\"}}, \"yaxis\": {\"anchor\": \"x\", \"domain\": [0.0, 1.0], \"title\": {\"text\": \"OCTOBER\"}}},                        {\"responsive\": true}                    ).then(function(){\n",
       "                            \n",
       "var gd = document.getElementById('97ecc2ec-05eb-4954-ae66-88f08fe639b1');\n",
       "var x = new MutationObserver(function (mutations, observer) {{\n",
       "        var display = window.getComputedStyle(gd).display;\n",
       "        if (!display || display === 'none') {{\n",
       "            console.log([gd, 'removed!']);\n",
       "            Plotly.purge(gd);\n",
       "            observer.disconnect();\n",
       "        }}\n",
       "}});\n",
       "\n",
       "// Listen for the removal of the full notebook cells\n",
       "var notebookContainer = gd.closest('#notebook-container');\n",
       "if (notebookContainer) {{\n",
       "    x.observe(notebookContainer, {childList: true});\n",
       "}}\n",
       "\n",
       "// Listen for the clearing of the current output cell\n",
       "var outputEl = gd.closest('.output');\n",
       "if (outputEl) {{\n",
       "    x.observe(outputEl, {childList: true});\n",
       "}}\n",
       "\n",
       "                        })                };                });            </script>        </div>"
      ]
     },
     "metadata": {},
     "output_type": "display_data"
    }
   ],
   "source": [
    "fig=px.bar(FAAC_2020, y = \"OCTOBER\", x = \"STATE\",orientation = \"v\", color = \"STATE\")\n",
    "fig.update_traces(texttemplate=\"%{text:.4s}\", textposition=\"outside\")\n",
    "fig.update_layout(uniformtext_minsize= 8, uniformtext_mode= \"hide\")\n",
    "fig.update_layout(\n",
    "    title = {\n",
    "       \"text\":\"FAAC_2020\",\n",
    "       \"y\":0.8,\n",
    "       \"x\":0.5,\n",
    "       },height = 750, width = 1000)"
   ]
  },
  {
   "cell_type": "code",
   "execution_count": 67,
   "metadata": {},
   "outputs": [],
   "source": [
    "import json\n",
    "import plotly.express as px\n",
    "import folium\n",
    "\n",
    "m = folium.Map(location=[9.0820, 8.6753], tiles=\"Mapbox Bright\", zoom_start=4)"
   ]
  }
 ],
 "metadata": {
  "kernelspec": {
   "display_name": "Python 3",
   "language": "python",
   "name": "python3"
  },
  "language_info": {
   "codemirror_mode": {
    "name": "ipython",
    "version": 3
   },
   "file_extension": ".py",
   "mimetype": "text/x-python",
   "name": "python",
   "nbconvert_exporter": "python",
   "pygments_lexer": "ipython3",
   "version": "3.8.5"
  }
 },
 "nbformat": 4,
 "nbformat_minor": 4
}
